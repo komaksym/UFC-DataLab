{
 "cells": [
  {
   "cell_type": "code",
   "execution_count": 91,
   "id": "f1d3c09c-2aab-431f-b658-6a4c8d07edc3",
   "metadata": {},
   "outputs": [],
   "source": [
    "import pandas as pd\n",
    "import matplotlib.pyplot as plt\n",
    "import pdb\n",
    "import seaborn as sns\n",
    "  "
   ]
  },
  {
   "cell_type": "code",
   "execution_count": 92,
   "id": "7758a506-c701-4b64-9d61-f6931b5f5b85",
   "metadata": {
    "panel-layout": {
     "height": 516.5,
     "visible": true,
     "width": 100
    },
    "scrolled": true
   },
   "outputs": [
    {
     "data": {
      "text/html": [
       "<div>\n",
       "<style scoped>\n",
       "    .dataframe tbody tr th:only-of-type {\n",
       "        vertical-align: middle;\n",
       "    }\n",
       "\n",
       "    .dataframe tbody tr th {\n",
       "        vertical-align: top;\n",
       "    }\n",
       "\n",
       "    .dataframe thead th {\n",
       "        text-align: right;\n",
       "    }\n",
       "</style>\n",
       "<table border=\"1\" class=\"dataframe\">\n",
       "  <thead>\n",
       "    <tr style=\"text-align: right;\">\n",
       "      <th></th>\n",
       "      <th>red_fighter_name</th>\n",
       "      <th>blue_fighter_name</th>\n",
       "      <th>event_date</th>\n",
       "      <th>red_fighter_nickname</th>\n",
       "      <th>blue_fighter_nickname</th>\n",
       "      <th>red_fighter_result</th>\n",
       "      <th>blue_fighter_result</th>\n",
       "      <th>method</th>\n",
       "      <th>round</th>\n",
       "      <th>time</th>\n",
       "      <th>...</th>\n",
       "      <th>red_fighter_sig_str_body_pct</th>\n",
       "      <th>blue_fighter_sig_str_body_pct</th>\n",
       "      <th>red_fighter_sig_str_leg_pct</th>\n",
       "      <th>blue_fighter_sig_str_leg_pct</th>\n",
       "      <th>red_fighter_sig_str_distance_pct</th>\n",
       "      <th>blue_fighter_sig_str_distance_pct</th>\n",
       "      <th>red_fighter_sig_str_clinch_pct</th>\n",
       "      <th>blue_fighter_sig_str_clinch_pct</th>\n",
       "      <th>red_fighter_sig_str_ground_pct</th>\n",
       "      <th>blue_fighter_sig_str_ground_pct</th>\n",
       "    </tr>\n",
       "  </thead>\n",
       "  <tbody>\n",
       "    <tr>\n",
       "      <th>7749</th>\n",
       "      <td>ORLANDO WIET</td>\n",
       "      <td>ROBERT LUCARELLI</td>\n",
       "      <td>11/03/1994</td>\n",
       "      <td>The Gladiator</td>\n",
       "      <td>-</td>\n",
       "      <td>W</td>\n",
       "      <td>L</td>\n",
       "      <td>KO/TKO</td>\n",
       "      <td>1</td>\n",
       "      <td>2:50</td>\n",
       "      <td>...</td>\n",
       "      <td>12</td>\n",
       "      <td>0</td>\n",
       "      <td>0</td>\n",
       "      <td>50</td>\n",
       "      <td>12</td>\n",
       "      <td>100</td>\n",
       "      <td>0</td>\n",
       "      <td>0</td>\n",
       "      <td>87</td>\n",
       "      <td>0</td>\n",
       "    </tr>\n",
       "    <tr>\n",
       "      <th>7750</th>\n",
       "      <td>FRANK HAMAKER</td>\n",
       "      <td>THADDEUS LUSTER</td>\n",
       "      <td>11/03/1994</td>\n",
       "      <td>-</td>\n",
       "      <td>-</td>\n",
       "      <td>W</td>\n",
       "      <td>L</td>\n",
       "      <td>Submission</td>\n",
       "      <td>1</td>\n",
       "      <td>4:52</td>\n",
       "      <td>...</td>\n",
       "      <td>0</td>\n",
       "      <td>0</td>\n",
       "      <td>0</td>\n",
       "      <td>0</td>\n",
       "      <td>50</td>\n",
       "      <td>0</td>\n",
       "      <td>0</td>\n",
       "      <td>0</td>\n",
       "      <td>50</td>\n",
       "      <td>0</td>\n",
       "    </tr>\n",
       "    <tr>\n",
       "      <th>7751</th>\n",
       "      <td>JOHNNY RHODES</td>\n",
       "      <td>DAVID LEVICKI</td>\n",
       "      <td>11/03/1994</td>\n",
       "      <td>-</td>\n",
       "      <td>-</td>\n",
       "      <td>W</td>\n",
       "      <td>L</td>\n",
       "      <td>KO/TKO</td>\n",
       "      <td>1</td>\n",
       "      <td>12:13</td>\n",
       "      <td>...</td>\n",
       "      <td>9</td>\n",
       "      <td>0</td>\n",
       "      <td>9</td>\n",
       "      <td>0</td>\n",
       "      <td>9</td>\n",
       "      <td>25</td>\n",
       "      <td>9</td>\n",
       "      <td>50</td>\n",
       "      <td>81</td>\n",
       "      <td>25</td>\n",
       "    </tr>\n",
       "    <tr>\n",
       "      <th>7752</th>\n",
       "      <td>PATRICK SMITH</td>\n",
       "      <td>RAY WIZARD</td>\n",
       "      <td>11/03/1994</td>\n",
       "      <td>-</td>\n",
       "      <td>-</td>\n",
       "      <td>W</td>\n",
       "      <td>L</td>\n",
       "      <td>Submission</td>\n",
       "      <td>1</td>\n",
       "      <td>0:58</td>\n",
       "      <td>...</td>\n",
       "      <td>100</td>\n",
       "      <td>0</td>\n",
       "      <td>0</td>\n",
       "      <td>100</td>\n",
       "      <td>0</td>\n",
       "      <td>100</td>\n",
       "      <td>100</td>\n",
       "      <td>0</td>\n",
       "      <td>0</td>\n",
       "      <td>0</td>\n",
       "    </tr>\n",
       "    <tr>\n",
       "      <th>7753</th>\n",
       "      <td>SCOTT MORRIS</td>\n",
       "      <td>SEAN DAUGHERTY</td>\n",
       "      <td>11/03/1994</td>\n",
       "      <td>-</td>\n",
       "      <td>-</td>\n",
       "      <td>W</td>\n",
       "      <td>L</td>\n",
       "      <td>Submission</td>\n",
       "      <td>1</td>\n",
       "      <td>0:20</td>\n",
       "      <td>...</td>\n",
       "      <td>0</td>\n",
       "      <td>0</td>\n",
       "      <td>0</td>\n",
       "      <td>0</td>\n",
       "      <td>0</td>\n",
       "      <td>0</td>\n",
       "      <td>100</td>\n",
       "      <td>0</td>\n",
       "      <td>0</td>\n",
       "      <td>0</td>\n",
       "    </tr>\n",
       "  </tbody>\n",
       "</table>\n",
       "<p>5 rows × 59 columns</p>\n",
       "</div>"
      ],
      "text/plain": [
       "     red_fighter_name blue_fighter_name  event_date red_fighter_nickname  \\\n",
       "7749     ORLANDO WIET  ROBERT LUCARELLI  11/03/1994        The Gladiator   \n",
       "7750    FRANK HAMAKER   THADDEUS LUSTER  11/03/1994                    -   \n",
       "7751    JOHNNY RHODES     DAVID LEVICKI  11/03/1994                    -   \n",
       "7752    PATRICK SMITH        RAY WIZARD  11/03/1994                    -   \n",
       "7753     SCOTT MORRIS    SEAN DAUGHERTY  11/03/1994                    -   \n",
       "\n",
       "     blue_fighter_nickname red_fighter_result blue_fighter_result      method  \\\n",
       "7749                     -                  W                   L      KO/TKO   \n",
       "7750                     -                  W                   L  Submission   \n",
       "7751                     -                  W                   L      KO/TKO   \n",
       "7752                     -                  W                   L  Submission   \n",
       "7753                     -                  W                   L  Submission   \n",
       "\n",
       "      round   time  ... red_fighter_sig_str_body_pct  \\\n",
       "7749      1   2:50  ...                           12   \n",
       "7750      1   4:52  ...                            0   \n",
       "7751      1  12:13  ...                            9   \n",
       "7752      1   0:58  ...                          100   \n",
       "7753      1   0:20  ...                            0   \n",
       "\n",
       "     blue_fighter_sig_str_body_pct red_fighter_sig_str_leg_pct  \\\n",
       "7749                             0                           0   \n",
       "7750                             0                           0   \n",
       "7751                             0                           9   \n",
       "7752                             0                           0   \n",
       "7753                             0                           0   \n",
       "\n",
       "     blue_fighter_sig_str_leg_pct red_fighter_sig_str_distance_pct  \\\n",
       "7749                           50                               12   \n",
       "7750                            0                               50   \n",
       "7751                            0                                9   \n",
       "7752                          100                                0   \n",
       "7753                            0                                0   \n",
       "\n",
       "     blue_fighter_sig_str_distance_pct red_fighter_sig_str_clinch_pct  \\\n",
       "7749                               100                              0   \n",
       "7750                                 0                              0   \n",
       "7751                                25                              9   \n",
       "7752                               100                            100   \n",
       "7753                                 0                            100   \n",
       "\n",
       "     blue_fighter_sig_str_clinch_pct red_fighter_sig_str_ground_pct  \\\n",
       "7749                               0                             87   \n",
       "7750                               0                             50   \n",
       "7751                              50                             81   \n",
       "7752                               0                              0   \n",
       "7753                               0                              0   \n",
       "\n",
       "     blue_fighter_sig_str_ground_pct  \n",
       "7749                               0  \n",
       "7750                               0  \n",
       "7751                              25  \n",
       "7752                               0  \n",
       "7753                               0  \n",
       "\n",
       "[5 rows x 59 columns]"
      ]
     },
     "execution_count": 92,
     "metadata": {},
     "output_type": "execute_result"
    }
   ],
   "source": [
    "df = pd.read_csv(\"../datasets/stats/stats.csv\", sep=';')\n",
    "df.tail()"
   ]
  },
  {
   "cell_type": "markdown",
   "id": "111ccb8d-640d-4245-a2cf-37b3cd949a03",
   "metadata": {
    "panel-layout": {
     "height": 60.616668701171875,
     "visible": true,
     "width": 100
    }
   },
   "source": [
    "# Establishing questions"
   ]
  },
  {
   "cell_type": "markdown",
   "id": "f66fbf78-0c79-4bb4-b785-bd99dc817140",
   "metadata": {
    "jp-MarkdownHeadingCollapsed": true,
    "panel-layout": {
     "height": 163.9666748046875,
     "visible": true,
     "width": 100
    }
   },
   "source": [
    "### Here are a few questions I want to be answered by the end of this notebook:\n",
    "1. What are the most popular locations that UFC hosts its events in?\n",
    "2. What is the historical average amount of UFC fights hosted annually?\n",
    "3. What are the top fight outcomes?\n",
    "4. What are the main fight tactics contributing to a victory?\n",
    "5. Does being in a particular corner contribute to a victory? (This one is a meme, but we in meme mood today)\n",
    "6. What fight features contribute to the fight bonuses the most?"
   ]
  },
  {
   "cell_type": "markdown",
   "id": "5b29ca2b-92f8-4a79-88d3-73671073d5b3",
   "metadata": {
    "panel-layout": {
     "height": 60.616668701171875,
     "visible": true,
     "width": 100
    }
   },
   "source": [
    "# Data preprocessing"
   ]
  },
  {
   "cell_type": "markdown",
   "id": "6fd6b70b-3473-4d0d-b935-4d78d90ba30f",
   "metadata": {},
   "source": [
    "### Creating a single *winner* feature instead of two *red_fighter_result* and *blue_fighter_result* features"
   ]
  },
  {
   "cell_type": "code",
   "execution_count": 93,
   "id": "287960f4-511c-4bba-88c7-e9d385a0c377",
   "metadata": {},
   "outputs": [],
   "source": [
    "df.loc[:, 'winner'] = df['red_fighter_result'].apply(lambda x: 'red' if x == 'W' else 'blue')"
   ]
  },
  {
   "cell_type": "markdown",
   "id": "2cc37e8a-83a9-411f-8baa-f6d187eac453",
   "metadata": {},
   "source": [
    "### Changing columns from *red/blue+feature name* to *winner/loser+feature name*"
   ]
  },
  {
   "cell_type": "code",
   "execution_count": 94,
   "id": "040b8fbe-6e0b-45ea-acab-361cbe1bc862",
   "metadata": {
    "scrolled": true
   },
   "outputs": [
    {
     "data": {
      "text/html": [
       "<div>\n",
       "<style scoped>\n",
       "    .dataframe tbody tr th:only-of-type {\n",
       "        vertical-align: middle;\n",
       "    }\n",
       "\n",
       "    .dataframe tbody tr th {\n",
       "        vertical-align: top;\n",
       "    }\n",
       "\n",
       "    .dataframe thead th {\n",
       "        text-align: right;\n",
       "    }\n",
       "</style>\n",
       "<table border=\"1\" class=\"dataframe\">\n",
       "  <thead>\n",
       "    <tr style=\"text-align: right;\">\n",
       "      <th></th>\n",
       "      <th>red_fighter_name</th>\n",
       "      <th>blue_fighter_name</th>\n",
       "      <th>event_date</th>\n",
       "      <th>red_fighter_nickname</th>\n",
       "      <th>blue_fighter_nickname</th>\n",
       "      <th>red_fighter_result</th>\n",
       "      <th>blue_fighter_result</th>\n",
       "      <th>method</th>\n",
       "      <th>round</th>\n",
       "      <th>time</th>\n",
       "      <th>...</th>\n",
       "      <th>blue_fighter_sig_str_body_pct</th>\n",
       "      <th>red_fighter_sig_str_leg_pct</th>\n",
       "      <th>blue_fighter_sig_str_leg_pct</th>\n",
       "      <th>red_fighter_sig_str_distance_pct</th>\n",
       "      <th>blue_fighter_sig_str_distance_pct</th>\n",
       "      <th>red_fighter_sig_str_clinch_pct</th>\n",
       "      <th>blue_fighter_sig_str_clinch_pct</th>\n",
       "      <th>red_fighter_sig_str_ground_pct</th>\n",
       "      <th>blue_fighter_sig_str_ground_pct</th>\n",
       "      <th>winner</th>\n",
       "    </tr>\n",
       "  </thead>\n",
       "  <tbody>\n",
       "    <tr>\n",
       "      <th>0</th>\n",
       "      <td>ILIA TOPURIA</td>\n",
       "      <td>MAX HOLLOWAY</td>\n",
       "      <td>26/10/2024</td>\n",
       "      <td>El Matador</td>\n",
       "      <td>Blessed</td>\n",
       "      <td>W</td>\n",
       "      <td>L</td>\n",
       "      <td>KO/TKO</td>\n",
       "      <td>3</td>\n",
       "      <td>1:34</td>\n",
       "      <td>...</td>\n",
       "      <td>16</td>\n",
       "      <td>20</td>\n",
       "      <td>24</td>\n",
       "      <td>94</td>\n",
       "      <td>100</td>\n",
       "      <td>0</td>\n",
       "      <td>0</td>\n",
       "      <td>5</td>\n",
       "      <td>0</td>\n",
       "      <td>red</td>\n",
       "    </tr>\n",
       "    <tr>\n",
       "      <th>1</th>\n",
       "      <td>ROBERT WHITTAKER</td>\n",
       "      <td>KHAMZAT CHIMAEV</td>\n",
       "      <td>26/10/2024</td>\n",
       "      <td>The Reaper</td>\n",
       "      <td>Borz</td>\n",
       "      <td>L</td>\n",
       "      <td>W</td>\n",
       "      <td>Submission</td>\n",
       "      <td>1</td>\n",
       "      <td>3:34</td>\n",
       "      <td>...</td>\n",
       "      <td>33</td>\n",
       "      <td>100</td>\n",
       "      <td>0</td>\n",
       "      <td>100</td>\n",
       "      <td>0</td>\n",
       "      <td>0</td>\n",
       "      <td>0</td>\n",
       "      <td>0</td>\n",
       "      <td>100</td>\n",
       "      <td>blue</td>\n",
       "    </tr>\n",
       "    <tr>\n",
       "      <th>2</th>\n",
       "      <td>MAGOMED ANKALAEV</td>\n",
       "      <td>ALEKSANDAR RAKIC</td>\n",
       "      <td>26/10/2024</td>\n",
       "      <td>-</td>\n",
       "      <td>Rocket</td>\n",
       "      <td>W</td>\n",
       "      <td>L</td>\n",
       "      <td>Decision - Unanimous</td>\n",
       "      <td>3</td>\n",
       "      <td>5:00</td>\n",
       "      <td>...</td>\n",
       "      <td>16</td>\n",
       "      <td>23</td>\n",
       "      <td>64</td>\n",
       "      <td>90</td>\n",
       "      <td>94</td>\n",
       "      <td>9</td>\n",
       "      <td>5</td>\n",
       "      <td>0</td>\n",
       "      <td>0</td>\n",
       "      <td>red</td>\n",
       "    </tr>\n",
       "    <tr>\n",
       "      <th>3</th>\n",
       "      <td>LERONE MURPHY</td>\n",
       "      <td>DAN IGE</td>\n",
       "      <td>26/10/2024</td>\n",
       "      <td>The Miracle</td>\n",
       "      <td>50K</td>\n",
       "      <td>W</td>\n",
       "      <td>L</td>\n",
       "      <td>Decision - Unanimous</td>\n",
       "      <td>3</td>\n",
       "      <td>5:00</td>\n",
       "      <td>...</td>\n",
       "      <td>10</td>\n",
       "      <td>7</td>\n",
       "      <td>13</td>\n",
       "      <td>71</td>\n",
       "      <td>69</td>\n",
       "      <td>23</td>\n",
       "      <td>13</td>\n",
       "      <td>5</td>\n",
       "      <td>17</td>\n",
       "      <td>red</td>\n",
       "    </tr>\n",
       "    <tr>\n",
       "      <th>4</th>\n",
       "      <td>SHARA MAGOMEDOV</td>\n",
       "      <td>ARMEN PETROSYAN</td>\n",
       "      <td>26/10/2024</td>\n",
       "      <td>Bullet</td>\n",
       "      <td>Superman</td>\n",
       "      <td>W</td>\n",
       "      <td>L</td>\n",
       "      <td>KO/TKO</td>\n",
       "      <td>2</td>\n",
       "      <td>4:52</td>\n",
       "      <td>...</td>\n",
       "      <td>12</td>\n",
       "      <td>18</td>\n",
       "      <td>58</td>\n",
       "      <td>96</td>\n",
       "      <td>97</td>\n",
       "      <td>3</td>\n",
       "      <td>2</td>\n",
       "      <td>0</td>\n",
       "      <td>0</td>\n",
       "      <td>red</td>\n",
       "    </tr>\n",
       "  </tbody>\n",
       "</table>\n",
       "<p>5 rows × 60 columns</p>\n",
       "</div>"
      ],
      "text/plain": [
       "   red_fighter_name blue_fighter_name  event_date red_fighter_nickname  \\\n",
       "0      ILIA TOPURIA      MAX HOLLOWAY  26/10/2024           El Matador   \n",
       "1  ROBERT WHITTAKER   KHAMZAT CHIMAEV  26/10/2024           The Reaper   \n",
       "2  MAGOMED ANKALAEV  ALEKSANDAR RAKIC  26/10/2024                    -   \n",
       "3     LERONE MURPHY           DAN IGE  26/10/2024          The Miracle   \n",
       "4   SHARA MAGOMEDOV   ARMEN PETROSYAN  26/10/2024               Bullet   \n",
       "\n",
       "  blue_fighter_nickname red_fighter_result blue_fighter_result  \\\n",
       "0               Blessed                  W                   L   \n",
       "1                  Borz                  L                   W   \n",
       "2                Rocket                  W                   L   \n",
       "3                   50K                  W                   L   \n",
       "4              Superman                  W                   L   \n",
       "\n",
       "                 method  round  time  ... blue_fighter_sig_str_body_pct  \\\n",
       "0                KO/TKO      3  1:34  ...                            16   \n",
       "1            Submission      1  3:34  ...                            33   \n",
       "2  Decision - Unanimous      3  5:00  ...                            16   \n",
       "3  Decision - Unanimous      3  5:00  ...                            10   \n",
       "4                KO/TKO      2  4:52  ...                            12   \n",
       "\n",
       "  red_fighter_sig_str_leg_pct blue_fighter_sig_str_leg_pct  \\\n",
       "0                          20                           24   \n",
       "1                         100                            0   \n",
       "2                          23                           64   \n",
       "3                           7                           13   \n",
       "4                          18                           58   \n",
       "\n",
       "  red_fighter_sig_str_distance_pct blue_fighter_sig_str_distance_pct  \\\n",
       "0                               94                               100   \n",
       "1                              100                                 0   \n",
       "2                               90                                94   \n",
       "3                               71                                69   \n",
       "4                               96                                97   \n",
       "\n",
       "  red_fighter_sig_str_clinch_pct blue_fighter_sig_str_clinch_pct  \\\n",
       "0                              0                               0   \n",
       "1                              0                               0   \n",
       "2                              9                               5   \n",
       "3                             23                              13   \n",
       "4                              3                               2   \n",
       "\n",
       "  red_fighter_sig_str_ground_pct blue_fighter_sig_str_ground_pct winner  \n",
       "0                              5                               0    red  \n",
       "1                              0                             100   blue  \n",
       "2                              0                               0    red  \n",
       "3                              5                              17    red  \n",
       "4                              0                               0    red  \n",
       "\n",
       "[5 rows x 60 columns]"
      ]
     },
     "execution_count": 94,
     "metadata": {},
     "output_type": "execute_result"
    }
   ],
   "source": [
    "df.head()"
   ]
  },
  {
   "cell_type": "code",
   "execution_count": 95,
   "id": "b5f3a1df-1f01-4f45-ba69-0806e010bc60",
   "metadata": {},
   "outputs": [],
   "source": [
    "def assign_winner_n_loser(df, columns_to_change, winner_col='winner'):\n",
    "    for col in columns_to_change:\n",
    "        df.loc[:, f\"winner_{col.replace('fighter_', '')}\"] = df[f\"red_{col}\"].where(df[winner_col] == 'red', df[f\"blue_{col}\"])\n",
    "        df.loc[:, f\"loser_{col.replace('fighter_', '')}\"] = df[f\"red_{col}\"].where(df[winner_col] == 'blue', df[f\"blue_{col}\"])\n",
    "        \n",
    "    return df "
   ]
  },
  {
   "cell_type": "code",
   "execution_count": 96,
   "id": "443b58b6-d15e-410f-bd78-b604cf9ad2f7",
   "metadata": {},
   "outputs": [
    {
     "data": {
      "text/html": [
       "<div>\n",
       "<style scoped>\n",
       "    .dataframe tbody tr th:only-of-type {\n",
       "        vertical-align: middle;\n",
       "    }\n",
       "\n",
       "    .dataframe tbody tr th {\n",
       "        vertical-align: top;\n",
       "    }\n",
       "\n",
       "    .dataframe thead th {\n",
       "        text-align: right;\n",
       "    }\n",
       "</style>\n",
       "<table border=\"1\" class=\"dataframe\">\n",
       "  <thead>\n",
       "    <tr style=\"text-align: right;\">\n",
       "      <th></th>\n",
       "      <th>red_fighter_name</th>\n",
       "      <th>blue_fighter_name</th>\n",
       "      <th>event_date</th>\n",
       "      <th>red_fighter_nickname</th>\n",
       "      <th>blue_fighter_nickname</th>\n",
       "      <th>red_fighter_result</th>\n",
       "      <th>blue_fighter_result</th>\n",
       "      <th>method</th>\n",
       "      <th>round</th>\n",
       "      <th>time</th>\n",
       "      <th>...</th>\n",
       "      <th>winner_sig_str_body_pct</th>\n",
       "      <th>loser_sig_str_body_pct</th>\n",
       "      <th>winner_sig_str_leg_pct</th>\n",
       "      <th>loser_sig_str_leg_pct</th>\n",
       "      <th>winner_sig_str_distance_pct</th>\n",
       "      <th>loser_sig_str_distance_pct</th>\n",
       "      <th>winner_sig_str_clinch_pct</th>\n",
       "      <th>loser_sig_str_clinch_pct</th>\n",
       "      <th>winner_sig_str_ground_pct</th>\n",
       "      <th>loser_sig_str_ground_pct</th>\n",
       "    </tr>\n",
       "  </thead>\n",
       "  <tbody>\n",
       "    <tr>\n",
       "      <th>0</th>\n",
       "      <td>ILIA TOPURIA</td>\n",
       "      <td>MAX HOLLOWAY</td>\n",
       "      <td>26/10/2024</td>\n",
       "      <td>El Matador</td>\n",
       "      <td>Blessed</td>\n",
       "      <td>W</td>\n",
       "      <td>L</td>\n",
       "      <td>KO/TKO</td>\n",
       "      <td>3</td>\n",
       "      <td>1:34</td>\n",
       "      <td>...</td>\n",
       "      <td>14</td>\n",
       "      <td>16</td>\n",
       "      <td>20</td>\n",
       "      <td>24</td>\n",
       "      <td>94</td>\n",
       "      <td>100</td>\n",
       "      <td>0</td>\n",
       "      <td>0</td>\n",
       "      <td>5</td>\n",
       "      <td>0</td>\n",
       "    </tr>\n",
       "    <tr>\n",
       "      <th>1</th>\n",
       "      <td>ROBERT WHITTAKER</td>\n",
       "      <td>KHAMZAT CHIMAEV</td>\n",
       "      <td>26/10/2024</td>\n",
       "      <td>The Reaper</td>\n",
       "      <td>Borz</td>\n",
       "      <td>L</td>\n",
       "      <td>W</td>\n",
       "      <td>Submission</td>\n",
       "      <td>1</td>\n",
       "      <td>3:34</td>\n",
       "      <td>...</td>\n",
       "      <td>33</td>\n",
       "      <td>0</td>\n",
       "      <td>0</td>\n",
       "      <td>100</td>\n",
       "      <td>0</td>\n",
       "      <td>100</td>\n",
       "      <td>0</td>\n",
       "      <td>0</td>\n",
       "      <td>100</td>\n",
       "      <td>0</td>\n",
       "    </tr>\n",
       "    <tr>\n",
       "      <th>2</th>\n",
       "      <td>MAGOMED ANKALAEV</td>\n",
       "      <td>ALEKSANDAR RAKIC</td>\n",
       "      <td>26/10/2024</td>\n",
       "      <td>-</td>\n",
       "      <td>Rocket</td>\n",
       "      <td>W</td>\n",
       "      <td>L</td>\n",
       "      <td>Decision - Unanimous</td>\n",
       "      <td>3</td>\n",
       "      <td>5:00</td>\n",
       "      <td>...</td>\n",
       "      <td>40</td>\n",
       "      <td>16</td>\n",
       "      <td>23</td>\n",
       "      <td>64</td>\n",
       "      <td>90</td>\n",
       "      <td>94</td>\n",
       "      <td>9</td>\n",
       "      <td>5</td>\n",
       "      <td>0</td>\n",
       "      <td>0</td>\n",
       "    </tr>\n",
       "    <tr>\n",
       "      <th>3</th>\n",
       "      <td>LERONE MURPHY</td>\n",
       "      <td>DAN IGE</td>\n",
       "      <td>26/10/2024</td>\n",
       "      <td>The Miracle</td>\n",
       "      <td>50K</td>\n",
       "      <td>W</td>\n",
       "      <td>L</td>\n",
       "      <td>Decision - Unanimous</td>\n",
       "      <td>3</td>\n",
       "      <td>5:00</td>\n",
       "      <td>...</td>\n",
       "      <td>23</td>\n",
       "      <td>10</td>\n",
       "      <td>7</td>\n",
       "      <td>13</td>\n",
       "      <td>71</td>\n",
       "      <td>69</td>\n",
       "      <td>23</td>\n",
       "      <td>13</td>\n",
       "      <td>5</td>\n",
       "      <td>17</td>\n",
       "    </tr>\n",
       "    <tr>\n",
       "      <th>4</th>\n",
       "      <td>SHARA MAGOMEDOV</td>\n",
       "      <td>ARMEN PETROSYAN</td>\n",
       "      <td>26/10/2024</td>\n",
       "      <td>Bullet</td>\n",
       "      <td>Superman</td>\n",
       "      <td>W</td>\n",
       "      <td>L</td>\n",
       "      <td>KO/TKO</td>\n",
       "      <td>2</td>\n",
       "      <td>4:52</td>\n",
       "      <td>...</td>\n",
       "      <td>44</td>\n",
       "      <td>12</td>\n",
       "      <td>18</td>\n",
       "      <td>58</td>\n",
       "      <td>96</td>\n",
       "      <td>97</td>\n",
       "      <td>3</td>\n",
       "      <td>2</td>\n",
       "      <td>0</td>\n",
       "      <td>0</td>\n",
       "    </tr>\n",
       "  </tbody>\n",
       "</table>\n",
       "<p>5 rows × 106 columns</p>\n",
       "</div>"
      ],
      "text/plain": [
       "   red_fighter_name blue_fighter_name  event_date red_fighter_nickname  \\\n",
       "0      ILIA TOPURIA      MAX HOLLOWAY  26/10/2024           El Matador   \n",
       "1  ROBERT WHITTAKER   KHAMZAT CHIMAEV  26/10/2024           The Reaper   \n",
       "2  MAGOMED ANKALAEV  ALEKSANDAR RAKIC  26/10/2024                    -   \n",
       "3     LERONE MURPHY           DAN IGE  26/10/2024          The Miracle   \n",
       "4   SHARA MAGOMEDOV   ARMEN PETROSYAN  26/10/2024               Bullet   \n",
       "\n",
       "  blue_fighter_nickname red_fighter_result blue_fighter_result  \\\n",
       "0               Blessed                  W                   L   \n",
       "1                  Borz                  L                   W   \n",
       "2                Rocket                  W                   L   \n",
       "3                   50K                  W                   L   \n",
       "4              Superman                  W                   L   \n",
       "\n",
       "                 method  round  time  ... winner_sig_str_body_pct  \\\n",
       "0                KO/TKO      3  1:34  ...                      14   \n",
       "1            Submission      1  3:34  ...                      33   \n",
       "2  Decision - Unanimous      3  5:00  ...                      40   \n",
       "3  Decision - Unanimous      3  5:00  ...                      23   \n",
       "4                KO/TKO      2  4:52  ...                      44   \n",
       "\n",
       "  loser_sig_str_body_pct winner_sig_str_leg_pct loser_sig_str_leg_pct  \\\n",
       "0                     16                     20                    24   \n",
       "1                      0                      0                   100   \n",
       "2                     16                     23                    64   \n",
       "3                     10                      7                    13   \n",
       "4                     12                     18                    58   \n",
       "\n",
       "  winner_sig_str_distance_pct loser_sig_str_distance_pct  \\\n",
       "0                          94                        100   \n",
       "1                           0                        100   \n",
       "2                          90                         94   \n",
       "3                          71                         69   \n",
       "4                          96                         97   \n",
       "\n",
       "  winner_sig_str_clinch_pct loser_sig_str_clinch_pct  \\\n",
       "0                         0                        0   \n",
       "1                         0                        0   \n",
       "2                         9                        5   \n",
       "3                        23                       13   \n",
       "4                         3                        2   \n",
       "\n",
       "  winner_sig_str_ground_pct loser_sig_str_ground_pct  \n",
       "0                         5                        0  \n",
       "1                       100                        0  \n",
       "2                         0                        0  \n",
       "3                         5                       17  \n",
       "4                         0                        0  \n",
       "\n",
       "[5 rows x 106 columns]"
      ]
     },
     "execution_count": 96,
     "metadata": {},
     "output_type": "execute_result"
    }
   ],
   "source": [
    "cols_to_change = ['fighter_name', 'fighter_nickname','fighter_KD',\n",
    "                  'fighter_sig_str', 'fighter_sig_str_pct', \n",
    "                  'fighter_total_str', 'fighter_TD', 'fighter_TD_pct', \n",
    "                  'fighter_sub_att', 'fighter_rev', 'fighter_ctrl', \n",
    "                  'fighter_sig_str_head', 'fighter_sig_str_body', \n",
    "                  'fighter_sig_str_leg', 'fighter_sig_str_distance', \n",
    "                  'fighter_sig_str_clinch', 'fighter_sig_str_ground', \n",
    "                  'fighter_sig_str_head_pct', 'fighter_sig_str_body_pct', \n",
    "                  'fighter_sig_str_leg_pct', 'fighter_sig_str_distance_pct', \n",
    "                  'fighter_sig_str_clinch_pct', 'fighter_sig_str_ground_pct']\n",
    "\n",
    "df = assign_winner_n_loser(df, cols_to_change)\n",
    "df.head()"
   ]
  },
  {
   "cell_type": "markdown",
   "id": "122dda75-04b6-4bc1-89a0-a3870f4bd689",
   "metadata": {},
   "source": [
    "### Dropping the old features, leaving the new *winner/loser* ones"
   ]
  },
  {
   "cell_type": "code",
   "execution_count": 97,
   "id": "3a1f8005-1eaa-4482-80f9-63e0c221f424",
   "metadata": {
    "scrolled": true
   },
   "outputs": [
    {
     "data": {
      "text/html": [
       "<div>\n",
       "<style scoped>\n",
       "    .dataframe tbody tr th:only-of-type {\n",
       "        vertical-align: middle;\n",
       "    }\n",
       "\n",
       "    .dataframe tbody tr th {\n",
       "        vertical-align: top;\n",
       "    }\n",
       "\n",
       "    .dataframe thead th {\n",
       "        text-align: right;\n",
       "    }\n",
       "</style>\n",
       "<table border=\"1\" class=\"dataframe\">\n",
       "  <thead>\n",
       "    <tr style=\"text-align: right;\">\n",
       "      <th></th>\n",
       "      <th>event_date</th>\n",
       "      <th>method</th>\n",
       "      <th>round</th>\n",
       "      <th>time</th>\n",
       "      <th>time_format</th>\n",
       "      <th>referee</th>\n",
       "      <th>details</th>\n",
       "      <th>bout_type</th>\n",
       "      <th>bonus</th>\n",
       "      <th>event_name</th>\n",
       "      <th>...</th>\n",
       "      <th>winner_sig_str_body_pct</th>\n",
       "      <th>loser_sig_str_body_pct</th>\n",
       "      <th>winner_sig_str_leg_pct</th>\n",
       "      <th>loser_sig_str_leg_pct</th>\n",
       "      <th>winner_sig_str_distance_pct</th>\n",
       "      <th>loser_sig_str_distance_pct</th>\n",
       "      <th>winner_sig_str_clinch_pct</th>\n",
       "      <th>loser_sig_str_clinch_pct</th>\n",
       "      <th>winner_sig_str_ground_pct</th>\n",
       "      <th>loser_sig_str_ground_pct</th>\n",
       "    </tr>\n",
       "  </thead>\n",
       "  <tbody>\n",
       "    <tr>\n",
       "      <th>0</th>\n",
       "      <td>26/10/2024</td>\n",
       "      <td>KO/TKO</td>\n",
       "      <td>3</td>\n",
       "      <td>1:34</td>\n",
       "      <td>5 Rnd (5-5-5-5-5)</td>\n",
       "      <td>Marc Goddard</td>\n",
       "      <td>Punch to Head At Distance</td>\n",
       "      <td>UFC Featherweight Title Bout</td>\n",
       "      <td>belt</td>\n",
       "      <td>UFC 308: Topuria vs. Holloway</td>\n",
       "      <td>...</td>\n",
       "      <td>14</td>\n",
       "      <td>16</td>\n",
       "      <td>20</td>\n",
       "      <td>24</td>\n",
       "      <td>94</td>\n",
       "      <td>100</td>\n",
       "      <td>0</td>\n",
       "      <td>0</td>\n",
       "      <td>5</td>\n",
       "      <td>0</td>\n",
       "    </tr>\n",
       "    <tr>\n",
       "      <th>1</th>\n",
       "      <td>26/10/2024</td>\n",
       "      <td>Submission</td>\n",
       "      <td>1</td>\n",
       "      <td>3:34</td>\n",
       "      <td>5 Rnd (5-5-5-5-5)</td>\n",
       "      <td>Jason Herzog</td>\n",
       "      <td>Rear Naked Choke</td>\n",
       "      <td>Middleweight Bout</td>\n",
       "      <td>perf</td>\n",
       "      <td>UFC 308: Topuria vs. Holloway</td>\n",
       "      <td>...</td>\n",
       "      <td>33</td>\n",
       "      <td>0</td>\n",
       "      <td>0</td>\n",
       "      <td>100</td>\n",
       "      <td>0</td>\n",
       "      <td>100</td>\n",
       "      <td>0</td>\n",
       "      <td>0</td>\n",
       "      <td>100</td>\n",
       "      <td>0</td>\n",
       "    </tr>\n",
       "    <tr>\n",
       "      <th>2</th>\n",
       "      <td>26/10/2024</td>\n",
       "      <td>Decision - Unanimous</td>\n",
       "      <td>3</td>\n",
       "      <td>5:00</td>\n",
       "      <td>3 Rnd (5-5-5)</td>\n",
       "      <td>Vitor Ribeiro</td>\n",
       "      <td>Sal D'amato 28 - 29. Jacob Montalvo 28 - 29. T...</td>\n",
       "      <td>Light Heavyweight Bout</td>\n",
       "      <td>-</td>\n",
       "      <td>UFC 308: Topuria vs. Holloway</td>\n",
       "      <td>...</td>\n",
       "      <td>40</td>\n",
       "      <td>16</td>\n",
       "      <td>23</td>\n",
       "      <td>64</td>\n",
       "      <td>90</td>\n",
       "      <td>94</td>\n",
       "      <td>9</td>\n",
       "      <td>5</td>\n",
       "      <td>0</td>\n",
       "      <td>0</td>\n",
       "    </tr>\n",
       "    <tr>\n",
       "      <th>3</th>\n",
       "      <td>26/10/2024</td>\n",
       "      <td>Decision - Unanimous</td>\n",
       "      <td>3</td>\n",
       "      <td>5:00</td>\n",
       "      <td>3 Rnd (5-5-5)</td>\n",
       "      <td>Mark Smith</td>\n",
       "      <td>Mike Bell 28 - 29. Ben Cartlidge 28 - 29. Hadi...</td>\n",
       "      <td>Featherweight Bout</td>\n",
       "      <td>-</td>\n",
       "      <td>UFC 308: Topuria vs. Holloway</td>\n",
       "      <td>...</td>\n",
       "      <td>23</td>\n",
       "      <td>10</td>\n",
       "      <td>7</td>\n",
       "      <td>13</td>\n",
       "      <td>71</td>\n",
       "      <td>69</td>\n",
       "      <td>23</td>\n",
       "      <td>13</td>\n",
       "      <td>5</td>\n",
       "      <td>17</td>\n",
       "    </tr>\n",
       "    <tr>\n",
       "      <th>4</th>\n",
       "      <td>26/10/2024</td>\n",
       "      <td>KO/TKO</td>\n",
       "      <td>2</td>\n",
       "      <td>4:52</td>\n",
       "      <td>3 Rnd (5-5-5)</td>\n",
       "      <td>Kerry Hatley</td>\n",
       "      <td>Spinning Back Fist Head</td>\n",
       "      <td>Middleweight Bout</td>\n",
       "      <td>perf</td>\n",
       "      <td>UFC 308: Topuria vs. Holloway</td>\n",
       "      <td>...</td>\n",
       "      <td>44</td>\n",
       "      <td>12</td>\n",
       "      <td>18</td>\n",
       "      <td>58</td>\n",
       "      <td>96</td>\n",
       "      <td>97</td>\n",
       "      <td>3</td>\n",
       "      <td>2</td>\n",
       "      <td>0</td>\n",
       "      <td>0</td>\n",
       "    </tr>\n",
       "  </tbody>\n",
       "</table>\n",
       "<p>5 rows × 58 columns</p>\n",
       "</div>"
      ],
      "text/plain": [
       "   event_date                method  round  time        time_format  \\\n",
       "0  26/10/2024                KO/TKO      3  1:34  5 Rnd (5-5-5-5-5)   \n",
       "1  26/10/2024            Submission      1  3:34  5 Rnd (5-5-5-5-5)   \n",
       "2  26/10/2024  Decision - Unanimous      3  5:00      3 Rnd (5-5-5)   \n",
       "3  26/10/2024  Decision - Unanimous      3  5:00      3 Rnd (5-5-5)   \n",
       "4  26/10/2024                KO/TKO      2  4:52      3 Rnd (5-5-5)   \n",
       "\n",
       "         referee                                            details  \\\n",
       "0   Marc Goddard                          Punch to Head At Distance   \n",
       "1   Jason Herzog                                   Rear Naked Choke   \n",
       "2  Vitor Ribeiro  Sal D'amato 28 - 29. Jacob Montalvo 28 - 29. T...   \n",
       "3     Mark Smith  Mike Bell 28 - 29. Ben Cartlidge 28 - 29. Hadi...   \n",
       "4   Kerry Hatley                            Spinning Back Fist Head   \n",
       "\n",
       "                      bout_type bonus                     event_name  ...  \\\n",
       "0  UFC Featherweight Title Bout  belt  UFC 308: Topuria vs. Holloway  ...   \n",
       "1             Middleweight Bout  perf  UFC 308: Topuria vs. Holloway  ...   \n",
       "2        Light Heavyweight Bout     -  UFC 308: Topuria vs. Holloway  ...   \n",
       "3            Featherweight Bout     -  UFC 308: Topuria vs. Holloway  ...   \n",
       "4             Middleweight Bout  perf  UFC 308: Topuria vs. Holloway  ...   \n",
       "\n",
       "  winner_sig_str_body_pct loser_sig_str_body_pct winner_sig_str_leg_pct  \\\n",
       "0                      14                     16                     20   \n",
       "1                      33                      0                      0   \n",
       "2                      40                     16                     23   \n",
       "3                      23                     10                      7   \n",
       "4                      44                     12                     18   \n",
       "\n",
       "  loser_sig_str_leg_pct winner_sig_str_distance_pct  \\\n",
       "0                    24                          94   \n",
       "1                   100                           0   \n",
       "2                    64                          90   \n",
       "3                    13                          71   \n",
       "4                    58                          96   \n",
       "\n",
       "  loser_sig_str_distance_pct winner_sig_str_clinch_pct  \\\n",
       "0                        100                         0   \n",
       "1                        100                         0   \n",
       "2                         94                         9   \n",
       "3                         69                        23   \n",
       "4                         97                         3   \n",
       "\n",
       "  loser_sig_str_clinch_pct winner_sig_str_ground_pct loser_sig_str_ground_pct  \n",
       "0                        0                         5                        0  \n",
       "1                        0                       100                        0  \n",
       "2                        5                         0                        0  \n",
       "3                       13                         5                       17  \n",
       "4                        2                         0                        0  \n",
       "\n",
       "[5 rows x 58 columns]"
      ]
     },
     "execution_count": 97,
     "metadata": {},
     "output_type": "execute_result"
    }
   ],
   "source": [
    "df = df.loc[:, ['event_date', 'method', 'round', 'time', 'time_format', \n",
    "           'referee', 'details', 'bout_type', 'bonus', 'event_name', 'event_location']].join(df.iloc[:, -47:])\n",
    "df.head()\n"
   ]
  },
  {
   "cell_type": "markdown",
   "id": "b8caa5e1-95ca-4a8b-b1e7-dcb0c91caa2a",
   "metadata": {
    "panel-layout": {
     "height": 60.616668701171875,
     "visible": true,
     "width": 100
    }
   },
   "source": [
    "# Data Cleaning"
   ]
  },
  {
   "cell_type": "markdown",
   "id": "19ea8da2-499f-4c02-9400-dcd933121aaf",
   "metadata": {
    "panel-layout": {
     "height": 50.850006103515625,
     "visible": true,
     "width": 100
    }
   },
   "source": [
    "## NaN values"
   ]
  },
  {
   "cell_type": "code",
   "execution_count": 98,
   "id": "6b47030d-e691-475f-b0f3-49783fe79c2e",
   "metadata": {
    "panel-layout": {
     "height": 556.75,
     "visible": true,
     "width": 100
    }
   },
   "outputs": [
    {
     "data": {
      "text/plain": [
       "0"
      ]
     },
     "execution_count": 98,
     "metadata": {},
     "output_type": "execute_result"
    }
   ],
   "source": [
    "df.isnull().sum().sum()"
   ]
  },
  {
   "cell_type": "markdown",
   "id": "2853567c-a017-498a-a1ff-bc02e9eeac10",
   "metadata": {},
   "source": [
    "Replacing NaN entry fillers with zeros"
   ]
  },
  {
   "cell_type": "code",
   "execution_count": 99,
   "id": "d50c7ba5-4204-4c4a-a4bc-31bb2bc79aac",
   "metadata": {},
   "outputs": [],
   "source": [
    "df = df.replace(['-', '--', '---'], \"0\")"
   ]
  },
  {
   "cell_type": "markdown",
   "id": "52809f78-541a-4ec6-98e8-54278d1e6c48",
   "metadata": {},
   "source": [
    "## Duplicates"
   ]
  },
  {
   "cell_type": "code",
   "execution_count": 100,
   "id": "a7d47819-58f3-4b9b-b57d-275eee322e74",
   "metadata": {},
   "outputs": [
    {
     "data": {
      "text/plain": [
       "0"
      ]
     },
     "execution_count": 100,
     "metadata": {},
     "output_type": "execute_result"
    }
   ],
   "source": [
    "df.duplicated().sum()"
   ]
  },
  {
   "cell_type": "markdown",
   "id": "d900592a-c4e9-495e-b960-2ad8de26eaa6",
   "metadata": {},
   "source": [
    "We can see that there's no NaNs nor duplicates. Let's go to EDA."
   ]
  },
  {
   "cell_type": "markdown",
   "id": "97e947c2-2b56-4816-b3f6-34010b36cc18",
   "metadata": {},
   "source": [
    "# Feature Engineering"
   ]
  },
  {
   "cell_type": "markdown",
   "id": "4915045b-2690-4374-80ff-190e85937718",
   "metadata": {},
   "source": [
    "## Standardizing some features"
   ]
  },
  {
   "cell_type": "markdown",
   "id": "56b7351e-47c2-4a4c-af59-b55bc8426a0f",
   "metadata": {},
   "source": [
    "### Standardizing base values into pct %"
   ]
  },
  {
   "cell_type": "code",
   "execution_count": 101,
   "id": "ebaf0bd1-057c-4fc9-ba79-8fc07630e832",
   "metadata": {},
   "outputs": [],
   "source": [
    "import re\n",
    "\n",
    "def convert_total_str_to_pct(row):\n",
    "    row = row.split(\"of\")\n",
    "    return (int(row[0]) * 100) / int(row[1]) if re.search(r\"\\d\", row[0]) and int(row[0]) != 0 else 0"
   ]
  },
  {
   "cell_type": "code",
   "execution_count": 102,
   "id": "f2602c79-a3f4-4bc5-bdb7-5f593e8f679a",
   "metadata": {},
   "outputs": [],
   "source": [
    "df.loc[:, 'winner_total_str_landed_pct'] = df['winner_total_str'].apply(convert_total_str_to_pct)\n",
    "df.loc[:, 'loser_total_str_landed_pct'] = df['loser_total_str'].apply(convert_total_str_to_pct)"
   ]
  },
  {
   "cell_type": "markdown",
   "id": "8ab44359-a635-46f0-8567-6423878abfce",
   "metadata": {},
   "source": [
    "### Standardizing time from *mm:ss* into total *ss*"
   ]
  },
  {
   "cell_type": "markdown",
   "id": "cb834662-b420-4138-9153-454d54098f85",
   "metadata": {},
   "source": [
    "#### Replacing -- and - entries with zeros"
   ]
  },
  {
   "cell_type": "code",
   "execution_count": 103,
   "id": "8a9b208e-9950-4f08-870e-39d8e19c0e9e",
   "metadata": {},
   "outputs": [],
   "source": [
    "df.loc[df['winner_ctrl'].isin(['--', '-', '0']), 'winner_ctrl'] = '0:00'\n",
    "df.loc[df['loser_ctrl'].isin(['--', '-', '0']), 'loser_ctrl'] = '0:00'\n",
    "\n",
    "df.loc[:, 'winner_ctrl'] = pd.to_timedelta(\"00:\" + df.loc[:, 'winner_ctrl']).dt.total_seconds()\n",
    "df.loc[:, 'loser_ctrl'] = pd.to_timedelta(\"00:\" + df.loc[:, 'loser_ctrl']).dt.total_seconds()"
   ]
  },
  {
   "cell_type": "markdown",
   "id": "03a5ae1a-8d3a-4747-bc3c-37140f825c65",
   "metadata": {},
   "source": [
    "## Dropping redundant features"
   ]
  },
  {
   "cell_type": "code",
   "execution_count": 104,
   "id": "52cf86d2-3366-4b97-91d4-d405ed0cee14",
   "metadata": {},
   "outputs": [],
   "source": [
    "df.drop(['loser_sig_str', 'winner_total_str', 'loser_total_str', 'winner_sig_str', 'winner_TD', 'loser_TD', 'winner_sig_str_head', 'loser_sig_str_head', 'winner_sig_str_body', 'loser_sig_str_body', 'winner_sig_str_leg', 'loser_sig_str_leg', 'winner_sig_str_distance', 'loser_sig_str_distance', 'winner_sig_str_clinch', 'loser_sig_str_clinch', 'winner_sig_str_ground', 'loser_sig_str_ground'], axis=1, inplace=True)"
   ]
  },
  {
   "cell_type": "markdown",
   "id": "f3f22b72-8489-4fd8-8f8f-2f33b086e8ec",
   "metadata": {},
   "source": [
    "## Engineering new features"
   ]
  },
  {
   "cell_type": "markdown",
   "id": "5c582061-9a50-48a5-b86c-23882b8f5074",
   "metadata": {},
   "source": [
    "### Let's engineer some additional features:\n",
    "1. **Striking dominance** - a fighter's overall striking performance. Calculated as: KD + Significant strikes % + Total landed strikes %;\n",
    "2. **Wrestling dominance** - a fightes's overall wrestling performance. Calculated as: TD % + Submission attempts + reversals;"
   ]
  },
  {
   "cell_type": "markdown",
   "id": "4e9b8341-7e64-4737-b244-887a7d8db9cd",
   "metadata": {},
   "source": [
    "**Striking dominance:**"
   ]
  },
  {
   "cell_type": "markdown",
   "id": "24452507-41da-43bd-9115-def007e0f395",
   "metadata": {},
   "source": [
    "Converting types from string to float:"
   ]
  },
  {
   "cell_type": "code",
   "execution_count": 105,
   "id": "52805a57-e6fb-4ca8-bedf-3458cdc26a26",
   "metadata": {},
   "outputs": [],
   "source": [
    "df['winner_KD'] = df['winner_KD'].astype(float)\n",
    "df['winner_sig_str_pct'] = df['winner_sig_str_pct'].astype(float)\n",
    "df['loser_KD'] = df['loser_KD'].astype(float)\n",
    "df['loser_sig_str_pct'] = df['loser_sig_str_pct'].astype(float)"
   ]
  },
  {
   "cell_type": "markdown",
   "id": "0303da16-8354-49e0-88ae-acd6b803a869",
   "metadata": {},
   "source": [
    "Defining the actual features:"
   ]
  },
  {
   "cell_type": "code",
   "execution_count": 106,
   "id": "7f14fff6-31c2-4694-b908-a9e19ae064d6",
   "metadata": {},
   "outputs": [],
   "source": [
    "df['winner_striking_dominance'] = df['winner_KD'] + df['winner_sig_str_pct'] + df['winner_total_str_landed_pct']\n",
    "df['loser_striking_dominance'] = df['loser_KD'] + df['loser_sig_str_pct'] + df['loser_total_str_landed_pct']"
   ]
  },
  {
   "cell_type": "markdown",
   "id": "8e2fd7d0-95ca-4db6-afe1-f06e662a8174",
   "metadata": {},
   "source": [
    "**Wrestling dominance:**"
   ]
  },
  {
   "cell_type": "markdown",
   "id": "2e23d6d3-40b4-47c2-998f-532b0046c134",
   "metadata": {},
   "source": [
    "Converting types from string to float:"
   ]
  },
  {
   "cell_type": "code",
   "execution_count": 107,
   "id": "64acb74d-7ac6-4006-a051-988839bbfc54",
   "metadata": {},
   "outputs": [],
   "source": [
    "df['winner_TD_pct'] = df['winner_TD_pct'].astype(float)\n",
    "df['winner_sub_att'] = df['winner_sub_att'].astype(float)\n",
    "df['winner_rev'] = df['winner_rev'].astype(float)\n",
    "\n",
    "df['loser_TD_pct'] = df['loser_TD_pct'].astype(float)\n",
    "df['loser_sub_att'] = df['loser_sub_att'].astype(float)\n",
    "df['loser_rev'] = df['loser_rev'].astype(float)"
   ]
  },
  {
   "cell_type": "markdown",
   "id": "ad81c06b-1bc2-420f-a3ba-72f945ebe3ff",
   "metadata": {},
   "source": [
    "Defining the actual features:"
   ]
  },
  {
   "cell_type": "code",
   "execution_count": 108,
   "id": "205394ee-f6e1-4ded-a5f0-9cef042da15d",
   "metadata": {},
   "outputs": [],
   "source": [
    "df['winner_wrestling_dominance'] = df['winner_TD_pct'] + df['winner_sub_att'] + df['winner_rev']\n",
    "df['loser_wrestling_dominance'] = df['loser_TD_pct'] + df['loser_sub_att'] + df['loser_rev']"
   ]
  },
  {
   "cell_type": "markdown",
   "id": "20cb9d44-3ca6-491e-83eb-08107d0db676",
   "metadata": {},
   "source": [
    "# EDA"
   ]
  },
  {
   "cell_type": "markdown",
   "id": "3b82609e-c1be-49ca-8da6-73c6eb7cf935",
   "metadata": {},
   "source": [
    "## 1. What are the most popular locations that UFC hosts its events in?"
   ]
  },
  {
   "cell_type": "markdown",
   "id": "28f54d0f-e76a-40d8-bf09-a0a19256c38d",
   "metadata": {},
   "source": [
    "Preparing data for plotting (taking the top 10 locations by hosting frequency):"
   ]
  },
  {
   "cell_type": "code",
   "execution_count": 109,
   "id": "0851f043-c66b-49fc-ab02-87f2a74c293d",
   "metadata": {},
   "outputs": [],
   "source": [
    "counts = df[['event_name', 'event_location']].drop_duplicates()\n",
    "counts = counts['event_location'].value_counts()\n",
    "top_10_locations = counts.nlargest(20)"
   ]
  },
  {
   "cell_type": "markdown",
   "id": "70c2fcb2-2a26-4b3e-8b5f-f3bd92c84b54",
   "metadata": {},
   "source": [
    "Plotting:"
   ]
  },
  {
   "cell_type": "code",
   "execution_count": 110,
   "id": "b1818656-d589-49f7-a3e9-f901cd73917f",
   "metadata": {},
   "outputs": [
    {
     "data": {
      "image/png": "[encoded data removed]",
      "text/plain": [
       "<Figure size 1000x500 with 1 Axes>"
      ]
     },
     "metadata": {},
     "output_type": "display_data"
    }
   ],
   "source": [
    "import matplotlib.ticker as ticker\n",
    "\n",
    "# Main\n",
    "fig, ax = plt.subplots(figsize=(10,5))\n",
    "ax.barh(top_10_locations.index, top_10_locations.values, color='#DC143C')\n",
    "ax.set_title(\"Top 10 UFC event locations\", fontdict={'fontsize': 14})\n",
    "ax.set_xlabel(\"Frequency\", fontdict={'fontsize': 12})\n",
    "ax.set_ylabel(\"Location\", fontdict={'fontsize': 12})\n",
    "\n",
    "# Minor tick labels\n",
    "ax.xaxis.set_minor_locator(ticker.FixedLocator([15, 30]))\n",
    "ax.xaxis.set_minor_formatter(ticker.FixedFormatter([15, 30]))\n",
    "plt.show()"
   ]
  },
  {
   "cell_type": "code",
   "execution_count": 111,
   "id": "75e77b77-dd1b-47e7-80d2-c08969161805",
   "metadata": {},
   "outputs": [
    {
     "data": {
      "text/plain": [
       "event_location\n",
       "Las Vegas, Nevada, USA    34.555712\n",
       "Others                    65.444288\n",
       "Name: count, dtype: float64"
      ]
     },
     "execution_count": 111,
     "metadata": {},
     "output_type": "execute_result"
    }
   ],
   "source": [
    "# Converting to a % pct format\n",
    "pct = counts / sum(counts) * 100\n",
    "\n",
    "# Extracting only the Las Vegas, Nevada, USA\n",
    "pct = pct[:1]\n",
    "\n",
    "# Calculating how much % pct is the rest\n",
    "pct.loc[\"Others\"] = 100 - sum(pct.values)\n",
    "pct.head()"
   ]
  },
  {
   "cell_type": "markdown",
   "id": "6fcce5d5-49b2-453f-9a52-4dc0a0a98a3c",
   "metadata": {},
   "source": [
    "Looks like *Las Vegas, Nevada, USA* takes up the big most of it.\n",
    "<br>Let's check out what it looks like in percentages."
   ]
  },
  {
   "cell_type": "code",
   "execution_count": 112,
   "id": "816f9828-8f82-42cc-8c73-75c9ee57bb48",
   "metadata": {},
   "outputs": [
    {
     "data": {
      "image/png": "[encoded data removed]",
      "text/plain": [
       "<Figure size 640x480 with 1 Axes>"
      ]
     },
     "metadata": {},
     "output_type": "display_data"
    }
   ],
   "source": [
    "fig, ax = plt.subplots()\n",
    "ax.pie(pct, labels=pct.index, autopct=\"%1.1f%%\", colors=['red', 'blue'])\n",
    "ax.set_title(\"Location by total % contribution\", fontdict={'fontsize': 14})\n",
    "plt.show()"
   ]
  },
  {
   "cell_type": "markdown",
   "id": "32423a5e-1557-488a-8159-6b3faa2bfdb1",
   "metadata": {},
   "source": [
    "We can see that it, single handedly, takes 34.6% of the total events pool"
   ]
  },
  {
   "cell_type": "markdown",
   "id": "63e40568-ce92-40e8-bfd0-9ffc0a336775",
   "metadata": {},
   "source": [
    "## 2. What is the historical average amount of UFC fights hosted annually?"
   ]
  },
  {
   "cell_type": "markdown",
   "id": "e191abd5-352a-461f-b828-c918a7e957f0",
   "metadata": {},
   "source": [
    "Preparing the data for plotting. Dropping duplicates, saving only the annual data and then sorting it."
   ]
  },
  {
   "cell_type": "code",
   "execution_count": 113,
   "id": "def3907a-b522-4836-9a40-cf96c90534e2",
   "metadata": {},
   "outputs": [],
   "source": [
    "# Drop\n",
    "events_annually = df[['event_name', 'event_date']].drop_duplicates()\n",
    "events_annually['event_date'] = pd.to_datetime(events_annually['event_date'], dayfirst=True).dt.year\n",
    "events_annually_counts = events_annually['event_date'].value_counts(sort=False)"
   ]
  },
  {
   "cell_type": "markdown",
   "id": "17cf30de-6c48-4603-961f-f6ccb27d1785",
   "metadata": {},
   "source": [
    "Let's plot this:"
   ]
  },
  {
   "cell_type": "code",
   "execution_count": 114,
   "id": "90c12087-6950-4578-bbf2-2beea4e4dd2b",
   "metadata": {},
   "outputs": [
    {
     "data": {
      "image/png": "[encoded data removed]",
      "text/plain": [
       "<Figure size 1000x500 with 1 Axes>"
      ]
     },
     "metadata": {},
     "output_type": "display_data"
    }
   ],
   "source": [
    "fig, ax = plt.subplots(figsize=(10,5))\n",
    "ax.plot(events_annually_counts, marker='o')\n",
    "ax.set_title(\"UFC events per year\", fontdict={'fontsize': 14})\n",
    "ax.set_xlabel(\"Year\", fontdict={'fontsize': 12})\n",
    "ax.set_ylabel(\"Number of events\", fontdict={'fontsize': 12})\n",
    "plt.grid(True)\n",
    "\n",
    "# Starting from the earliest year, up until now, with a stepping size of 3\n",
    "ax.set_xticks(range(min(events_annually_counts.index), max(events_annually_counts.index)+1, 3))\n",
    "# Starting from 0 up until the max frequency, with a steping size of 5\n",
    "ax.set_yticks(range(0, max(events_annually_counts.values), 5))\n",
    "plt.show()"
   ]
  },
  {
   "cell_type": "markdown",
   "id": "f2dc5bd7-4b72-4f36-a4c9-78c478ffe83a",
   "metadata": {},
   "source": [
    "We can observe the following:\n",
    "* The chart starts out with initial steady growth throughout 1995-2005, fluctuating of 2-3 events on average;\n",
    "* Then we see the rapid growth phase between 2005-2014, reaching a peak in 2014;\n",
    "* After which throughout 2015-2023 it goes into relative plateau with fluctuations of 2-3 events on average;\n",
    "* 2024 is still going so we're not going to do any conclusions here just yet.\n",
    "\n",
    "**Why** the rapid, almost exponential growth in the 2005-2014 stage? Potentially due to the start of adoption of UFC as a sport and looser regulation, to know for sure, we would have to look into more data, which is out of the scope of this dataset."
   ]
  },
  {
   "cell_type": "markdown",
   "id": "f198ed22-595c-4df1-a62f-8e0a2fe19ef2",
   "metadata": {},
   "source": [
    "## 3. What are the top fight outcomes?"
   ]
  },
  {
   "cell_type": "markdown",
   "id": "1bdc6ebf-2c14-4e9a-9be8-88f9cdf28b89",
   "metadata": {},
   "source": [
    "Getting the data ready:"
   ]
  },
  {
   "cell_type": "code",
   "execution_count": 115,
   "id": "ad2bdd2e-2666-46c2-b775-c9a892b0aac9",
   "metadata": {},
   "outputs": [
    {
     "data": {
      "text/plain": [
       "method\n",
       "Decision - Unanimous       2793\n",
       "KO/TKO                     2484\n",
       "Submission                 1550\n",
       "Decision - Split            750\n",
       "TKO - Doctor's Stoppage      94\n",
       "Decision - Majority          60\n",
       "DQ                           23\n",
       "Name: count, dtype: int64"
      ]
     },
     "execution_count": 115,
     "metadata": {},
     "output_type": "execute_result"
    }
   ],
   "source": [
    "top_fight_outcomes = df['method'].value_counts()\n",
    "top_fight_outcomes"
   ]
  },
  {
   "cell_type": "markdown",
   "id": "607131ba-9335-4760-a9f7-f900491d8a89",
   "metadata": {},
   "source": [
    "Plotting it:"
   ]
  },
  {
   "cell_type": "code",
   "execution_count": 116,
   "id": "8c41e2e0-788e-494c-8ce8-c937478e7a13",
   "metadata": {},
   "outputs": [
    {
     "data": {
      "image/png": "[encoded data removed]",
      "text/plain": [
       "<Figure size 1000x500 with 1 Axes>"
      ]
     },
     "metadata": {},
     "output_type": "display_data"
    }
   ],
   "source": [
    "fig, ax = plt.subplots(figsize=(10,5))\n",
    "ax.barh(top_fight_outcomes.index, top_fight_outcomes.values, color='red')\n",
    "ax.set_title(\"Top fight result methods\", fontdict={'fontsize': 14})\n",
    "ax.set_xlabel(\"Count\", fontdict={'fontsize': 12})\n",
    "ax.set_ylabel(\"Method\", fontdict={'fontsize': 12})\n",
    "\n",
    "# X ticks (large in minor) configuration\n",
    "ax.set_xticks(range(0, max(top_fight_outcomes.values), 300))\n",
    "ax.xaxis.set_minor_locator(ticker.FixedLocator([100]))\n",
    "ax.xaxis.set_minor_formatter(ticker.FixedFormatter([100]))\n",
    "plt.show()"
   ]
  },
  {
   "cell_type": "markdown",
   "id": "b1f7ed24-f954-4225-96e5-d3f903ac9d7b",
   "metadata": {},
   "source": [
    "## 4. What are the main fight tactics contributing to a victory?"
   ]
  },
  {
   "cell_type": "markdown",
   "id": "531f201f-94f2-44e6-a5de-51c400fb780c",
   "metadata": {},
   "source": [
    "**Let's examine a few features between a winner and a loser:**"
   ]
  },
  {
   "cell_type": "code",
   "execution_count": 117,
   "id": "76842fde-13ba-45f4-bf53-aa57198e088c",
   "metadata": {},
   "outputs": [
    {
     "data": {
      "image/png": "[encoded data removed]",
      "text/plain": [
       "<Figure size 1000x500 with 1 Axes>"
      ]
     },
     "metadata": {},
     "output_type": "display_data"
    }
   ],
   "source": [
    "fig, ax = plt.subplots(figsize=(10, 5))\n",
    "plt.title(\"Winner striking dominance vs loser striking dominance\", fontdict={'fontsize':14})\n",
    "\n",
    "sns.histplot(df['winner_striking_dominance'], color='red', kde=True, bins=120, label='winner striking dominance')\n",
    "sns.histplot(df['loser_striking_dominance'], color='purple', kde=True, bins=120, label='loser striking dominance')\n",
    "\n",
    "ax.set_xlabel(\"Striking dominance factor\", fontdict={'fontsize': 12})\n",
    "ax.set_ylabel(\"Count\", fontdict={'fontsize': 12})\n",
    "plt.show()"
   ]
  },
  {
   "cell_type": "markdown",
   "id": "bd7d836d-24f4-4cfb-abd9-cb04e61632b1",
   "metadata": {},
   "source": [
    "Observations:\n",
    "* We can clearly see that, winners have a higher striking dominance on average, with having a higher peak, and also mean being around 110, whereas losers have mean around 80, we will take a look at the exact numbers very shortly;\n",
    "* There is a significant overlap in the 75-100 striking dominance factor range, indicating a significant striking opposition;\n",
    "* We can also see a big amount of losers, as well as winners, having around 0 striking dominance, most likely due to being knocked out or submitted in the first round with having thrown zero punches, also the lack of data from the old events is possible, where they did not record these data points. We will look deeper into it in just a minute;\n",
    "* There is also, what looks like a capped bin at the 200 range, which is obvious, because the feature \"striking dominance factor\" consists of two added pct % based features, which can possible have the maximum value of 100%, thus 100+100=200 bin. (Also the kD feature plays the role in the feature creation, which is the number of knockdowns, and by default is very low: in 0-5 range, thus the bin is not exactly at 200, but more like 200-205).\n"
   ]
  },
  {
   "cell_type": "markdown",
   "id": "e73f00c7-87e0-4481-9e4a-0e2c0538b6fa",
   "metadata": {},
   "source": [
    "Let's check the mean and std:"
   ]
  },
  {
   "cell_type": "code",
   "execution_count": 118,
   "id": "41864e83-aa6c-4a48-97c6-8db499ad5f90",
   "metadata": {},
   "outputs": [
    {
     "data": {
      "text/plain": [
       "count    7754.000000\n",
       "mean      109.606442\n",
       "std        30.316249\n",
       "min         0.000000\n",
       "25%        90.220647\n",
       "50%       109.319149\n",
       "75%       128.599518\n",
       "max       201.000000\n",
       "Name: winner_striking_dominance, dtype: float64"
      ]
     },
     "execution_count": 118,
     "metadata": {},
     "output_type": "execute_result"
    }
   ],
   "source": [
    "df['winner_striking_dominance'].describe()"
   ]
  },
  {
   "cell_type": "markdown",
   "id": "0121be6b-8ec4-429c-858d-5c25d0b25985",
   "metadata": {},
   "source": [
    "Observations:\n",
    "* As we said, the mean difference is about 20 points!\n",
    "* Standard deviation is around the same;\n",
    "* All quartiles are bigger for the winner, indicating a clear striking contribution to the fight outcome."
   ]
  },
  {
   "cell_type": "markdown",
   "id": "7cff166f-a8dc-4ef6-a1db-1dff582cf828",
   "metadata": {},
   "source": [
    "Let's investigate deeper whether the big bin with striking dominance factor 0 is due to the losers being knocked out in the first round / lack of data"
   ]
  },
  {
   "cell_type": "code",
   "execution_count": 119,
   "id": "3f186cc0-6a19-4f96-b85c-6741c9e4c733",
   "metadata": {},
   "outputs": [
    {
     "data": {
      "text/plain": [
       "round\n",
       "1        56\n",
       "2         2\n",
       "Name: count, dtype: int64"
      ]
     },
     "execution_count": 119,
     "metadata": {},
     "output_type": "execute_result"
    }
   ],
   "source": [
    "zero_winner_striking_dominance = df.loc[df['winner_striking_dominance'] == 0, ['round']].value_counts()\n",
    "zero_winner_striking_dominance"
   ]
  },
  {
   "cell_type": "code",
   "execution_count": 120,
   "id": "64162057-280e-449b-afcb-9420f2a45b31",
   "metadata": {},
   "outputs": [
    {
     "data": {
      "text/plain": [
       "round\n",
       "1        201\n",
       "2          3\n",
       "Name: count, dtype: int64"
      ]
     },
     "execution_count": 120,
     "metadata": {},
     "output_type": "execute_result"
    }
   ],
   "source": [
    "zero_loser_striking_dominance = df.loc[df['loser_striking_dominance'] == 0, ['round']].value_counts()\n",
    "zero_loser_striking_dominance"
   ]
  },
  {
   "cell_type": "code",
   "execution_count": 121,
   "id": "e810db18-4ed7-444c-bc5a-c8f955cf1eba",
   "metadata": {},
   "outputs": [
    {
     "data": {
      "image/png": "[encoded data removed]",
      "text/plain": [
       "<Figure size 1000x500 with 2 Axes>"
      ]
     },
     "metadata": {},
     "output_type": "display_data"
    }
   ],
   "source": [
    "fig, ax = plt.subplots(1, 2, figsize=(10, 5))\n",
    "\n",
    "ax[0].pie(zero_winner_striking_dominance, labels=[1,2], autopct=\"%.1f%%\")\n",
    "ax[1].pie(zero_loser_striking_dominance, labels=[1,2], autopct=\"%.1f%%\")\n",
    "ax[0].set_title(\"winner\")\n",
    "ax[1].set_title(\"loser\")\n",
    "\n",
    "plt.legend(['round 1', 'round 2'])\n",
    "plt.tight_layout(pad=5)\n",
    "fig.suptitle(\"Rounds in which the x_striking_dominance is 0\", fontsize=16)\n",
    "plt.show()"
   ]
  },
  {
   "cell_type": "markdown",
   "id": "79c3b3ec-da83-498b-854e-45110b55ee83",
   "metadata": {},
   "source": [
    "* As we can see, around 97% of 0 striking dominance factor comes from fights that ended in the first round.<br>\n",
    "* There is still a small percentage of 0 striking dominance factor that comes from the fights that ended in the second round. I think the reason for this is just the lack of data points that the striking_dominance features was built upon, as the older UFC fights didn't have this detailed data, so let's take a look:"
   ]
  },
  {
   "cell_type": "markdown",
   "id": "0cce29de-3a09-4d46-8093-2570a50441d8",
   "metadata": {},
   "source": [
    "Winner striking dominance that has a value of 0 and happened in the second round:"
   ]
  },
  {
   "cell_type": "code",
   "execution_count": 122,
   "id": "5df4eb85-d858-436e-848c-770ceeef8f47",
   "metadata": {},
   "outputs": [
    {
     "data": {
      "text/html": [
       "<div>\n",
       "<style scoped>\n",
       "    .dataframe tbody tr th:only-of-type {\n",
       "        vertical-align: middle;\n",
       "    }\n",
       "\n",
       "    .dataframe tbody tr th {\n",
       "        vertical-align: top;\n",
       "    }\n",
       "\n",
       "    .dataframe thead th {\n",
       "        text-align: right;\n",
       "    }\n",
       "</style>\n",
       "<table border=\"1\" class=\"dataframe\">\n",
       "  <thead>\n",
       "    <tr style=\"text-align: right;\">\n",
       "      <th></th>\n",
       "      <th>event_date</th>\n",
       "      <th>method</th>\n",
       "      <th>round</th>\n",
       "      <th>time</th>\n",
       "      <th>time_format</th>\n",
       "      <th>referee</th>\n",
       "      <th>details</th>\n",
       "      <th>bout_type</th>\n",
       "      <th>bonus</th>\n",
       "      <th>event_name</th>\n",
       "      <th>...</th>\n",
       "      <th>winner_sig_str_clinch_pct</th>\n",
       "      <th>loser_sig_str_clinch_pct</th>\n",
       "      <th>winner_sig_str_ground_pct</th>\n",
       "      <th>loser_sig_str_ground_pct</th>\n",
       "      <th>winner_total_str_landed_pct</th>\n",
       "      <th>loser_total_str_landed_pct</th>\n",
       "      <th>winner_striking_dominance</th>\n",
       "      <th>loser_striking_dominance</th>\n",
       "      <th>winner_wrestling_dominance</th>\n",
       "      <th>loser_wrestling_dominance</th>\n",
       "    </tr>\n",
       "  </thead>\n",
       "  <tbody>\n",
       "    <tr>\n",
       "      <th>7592</th>\n",
       "      <td>15/05/1998</td>\n",
       "      <td>Decision - Unanimous</td>\n",
       "      <td>2</td>\n",
       "      <td>3:00</td>\n",
       "      <td>1 Rnd + OT (12-3)</td>\n",
       "      <td>John McCarthy</td>\n",
       "      <td>0</td>\n",
       "      <td>Heavyweight Bout</td>\n",
       "      <td>0</td>\n",
       "      <td>UFC 17: Redemption</td>\n",
       "      <td>...</td>\n",
       "      <td>0</td>\n",
       "      <td>0</td>\n",
       "      <td>0</td>\n",
       "      <td>0</td>\n",
       "      <td>0.0</td>\n",
       "      <td>0.0</td>\n",
       "      <td>0.0</td>\n",
       "      <td>0.0</td>\n",
       "      <td>0.0</td>\n",
       "      <td>0.0</td>\n",
       "    </tr>\n",
       "    <tr>\n",
       "      <th>7667</th>\n",
       "      <td>12/07/1996</td>\n",
       "      <td>Decision - Unanimous</td>\n",
       "      <td>2</td>\n",
       "      <td>3:00</td>\n",
       "      <td>1 Rnd + OT (12-3)</td>\n",
       "      <td>John McCarthy</td>\n",
       "      <td>0</td>\n",
       "      <td>Open Weight Bout</td>\n",
       "      <td>0</td>\n",
       "      <td>UFC 10: The Tournament</td>\n",
       "      <td>...</td>\n",
       "      <td>0</td>\n",
       "      <td>0</td>\n",
       "      <td>0</td>\n",
       "      <td>0</td>\n",
       "      <td>0.0</td>\n",
       "      <td>0.0</td>\n",
       "      <td>0.0</td>\n",
       "      <td>0.0</td>\n",
       "      <td>0.0</td>\n",
       "      <td>0.0</td>\n",
       "    </tr>\n",
       "  </tbody>\n",
       "</table>\n",
       "<p>2 rows × 46 columns</p>\n",
       "</div>"
      ],
      "text/plain": [
       "      event_date                method  round  time        time_format  \\\n",
       "7592  15/05/1998  Decision - Unanimous      2  3:00  1 Rnd + OT (12-3)   \n",
       "7667  12/07/1996  Decision - Unanimous      2  3:00  1 Rnd + OT (12-3)   \n",
       "\n",
       "            referee details         bout_type bonus              event_name  \\\n",
       "7592  John McCarthy       0  Heavyweight Bout     0      UFC 17: Redemption   \n",
       "7667  John McCarthy       0  Open Weight Bout     0  UFC 10: The Tournament   \n",
       "\n",
       "      ... winner_sig_str_clinch_pct loser_sig_str_clinch_pct  \\\n",
       "7592  ...                         0                        0   \n",
       "7667  ...                         0                        0   \n",
       "\n",
       "     winner_sig_str_ground_pct loser_sig_str_ground_pct  \\\n",
       "7592                         0                        0   \n",
       "7667                         0                        0   \n",
       "\n",
       "     winner_total_str_landed_pct loser_total_str_landed_pct  \\\n",
       "7592                         0.0                        0.0   \n",
       "7667                         0.0                        0.0   \n",
       "\n",
       "      winner_striking_dominance  loser_striking_dominance  \\\n",
       "7592                        0.0                       0.0   \n",
       "7667                        0.0                       0.0   \n",
       "\n",
       "      winner_wrestling_dominance  loser_wrestling_dominance  \n",
       "7592                         0.0                        0.0  \n",
       "7667                         0.0                        0.0  \n",
       "\n",
       "[2 rows x 46 columns]"
      ]
     },
     "execution_count": 122,
     "metadata": {},
     "output_type": "execute_result"
    }
   ],
   "source": [
    "df.loc[(df['winner_striking_dominance'] == 0) & (df['round'] == 2), :]"
   ]
  },
  {
   "cell_type": "markdown",
   "id": "ebf81732-60fc-4e70-b527-713379ae57f8",
   "metadata": {},
   "source": [
    "Winner striking dominance that has a value of 0 and happened in the second round:"
   ]
  },
  {
   "cell_type": "code",
   "execution_count": 123,
   "id": "a4b8da1f-b429-4df9-a1ef-8a0a0ec4151d",
   "metadata": {},
   "outputs": [
    {
     "data": {
      "text/html": [
       "<div>\n",
       "<style scoped>\n",
       "    .dataframe tbody tr th:only-of-type {\n",
       "        vertical-align: middle;\n",
       "    }\n",
       "\n",
       "    .dataframe tbody tr th {\n",
       "        vertical-align: top;\n",
       "    }\n",
       "\n",
       "    .dataframe thead th {\n",
       "        text-align: right;\n",
       "    }\n",
       "</style>\n",
       "<table border=\"1\" class=\"dataframe\">\n",
       "  <thead>\n",
       "    <tr style=\"text-align: right;\">\n",
       "      <th></th>\n",
       "      <th>event_date</th>\n",
       "      <th>method</th>\n",
       "      <th>round</th>\n",
       "      <th>time</th>\n",
       "      <th>time_format</th>\n",
       "      <th>referee</th>\n",
       "      <th>details</th>\n",
       "      <th>bout_type</th>\n",
       "      <th>bonus</th>\n",
       "      <th>event_name</th>\n",
       "      <th>...</th>\n",
       "      <th>winner_sig_str_clinch_pct</th>\n",
       "      <th>loser_sig_str_clinch_pct</th>\n",
       "      <th>winner_sig_str_ground_pct</th>\n",
       "      <th>loser_sig_str_ground_pct</th>\n",
       "      <th>winner_total_str_landed_pct</th>\n",
       "      <th>loser_total_str_landed_pct</th>\n",
       "      <th>winner_striking_dominance</th>\n",
       "      <th>loser_striking_dominance</th>\n",
       "      <th>winner_wrestling_dominance</th>\n",
       "      <th>loser_wrestling_dominance</th>\n",
       "    </tr>\n",
       "  </thead>\n",
       "  <tbody>\n",
       "    <tr>\n",
       "      <th>6907</th>\n",
       "      <td>23/01/2008</td>\n",
       "      <td>KO/TKO</td>\n",
       "      <td>2</td>\n",
       "      <td>0:37</td>\n",
       "      <td>3 Rnd (5-5-5)</td>\n",
       "      <td>Herb Dean</td>\n",
       "      <td>Punches to Head On Ground</td>\n",
       "      <td>Lightweight Bout</td>\n",
       "      <td>0</td>\n",
       "      <td>UFC Fight Night: Swick vs Burkman</td>\n",
       "      <td>...</td>\n",
       "      <td>13</td>\n",
       "      <td>0</td>\n",
       "      <td>68</td>\n",
       "      <td>0</td>\n",
       "      <td>84.615385</td>\n",
       "      <td>0.0</td>\n",
       "      <td>156.615385</td>\n",
       "      <td>0.0</td>\n",
       "      <td>0.0</td>\n",
       "      <td>0.0</td>\n",
       "    </tr>\n",
       "    <tr>\n",
       "      <th>7592</th>\n",
       "      <td>15/05/1998</td>\n",
       "      <td>Decision - Unanimous</td>\n",
       "      <td>2</td>\n",
       "      <td>3:00</td>\n",
       "      <td>1 Rnd + OT (12-3)</td>\n",
       "      <td>John McCarthy</td>\n",
       "      <td>0</td>\n",
       "      <td>Heavyweight Bout</td>\n",
       "      <td>0</td>\n",
       "      <td>UFC 17: Redemption</td>\n",
       "      <td>...</td>\n",
       "      <td>0</td>\n",
       "      <td>0</td>\n",
       "      <td>0</td>\n",
       "      <td>0</td>\n",
       "      <td>0.000000</td>\n",
       "      <td>0.0</td>\n",
       "      <td>0.000000</td>\n",
       "      <td>0.0</td>\n",
       "      <td>0.0</td>\n",
       "      <td>0.0</td>\n",
       "    </tr>\n",
       "    <tr>\n",
       "      <th>7667</th>\n",
       "      <td>12/07/1996</td>\n",
       "      <td>Decision - Unanimous</td>\n",
       "      <td>2</td>\n",
       "      <td>3:00</td>\n",
       "      <td>1 Rnd + OT (12-3)</td>\n",
       "      <td>John McCarthy</td>\n",
       "      <td>0</td>\n",
       "      <td>Open Weight Bout</td>\n",
       "      <td>0</td>\n",
       "      <td>UFC 10: The Tournament</td>\n",
       "      <td>...</td>\n",
       "      <td>0</td>\n",
       "      <td>0</td>\n",
       "      <td>0</td>\n",
       "      <td>0</td>\n",
       "      <td>0.000000</td>\n",
       "      <td>0.0</td>\n",
       "      <td>0.000000</td>\n",
       "      <td>0.0</td>\n",
       "      <td>0.0</td>\n",
       "      <td>0.0</td>\n",
       "    </tr>\n",
       "  </tbody>\n",
       "</table>\n",
       "<p>3 rows × 46 columns</p>\n",
       "</div>"
      ],
      "text/plain": [
       "      event_date                method  round  time        time_format  \\\n",
       "6907  23/01/2008                KO/TKO      2  0:37      3 Rnd (5-5-5)   \n",
       "7592  15/05/1998  Decision - Unanimous      2  3:00  1 Rnd + OT (12-3)   \n",
       "7667  12/07/1996  Decision - Unanimous      2  3:00  1 Rnd + OT (12-3)   \n",
       "\n",
       "            referee                    details         bout_type bonus  \\\n",
       "6907      Herb Dean  Punches to Head On Ground  Lightweight Bout     0   \n",
       "7592  John McCarthy                          0  Heavyweight Bout     0   \n",
       "7667  John McCarthy                          0  Open Weight Bout     0   \n",
       "\n",
       "                             event_name  ... winner_sig_str_clinch_pct  \\\n",
       "6907  UFC Fight Night: Swick vs Burkman  ...                        13   \n",
       "7592                 UFC 17: Redemption  ...                         0   \n",
       "7667             UFC 10: The Tournament  ...                         0   \n",
       "\n",
       "     loser_sig_str_clinch_pct winner_sig_str_ground_pct  \\\n",
       "6907                        0                        68   \n",
       "7592                        0                         0   \n",
       "7667                        0                         0   \n",
       "\n",
       "     loser_sig_str_ground_pct winner_total_str_landed_pct  \\\n",
       "6907                        0                   84.615385   \n",
       "7592                        0                    0.000000   \n",
       "7667                        0                    0.000000   \n",
       "\n",
       "     loser_total_str_landed_pct  winner_striking_dominance  \\\n",
       "6907                        0.0                 156.615385   \n",
       "7592                        0.0                   0.000000   \n",
       "7667                        0.0                   0.000000   \n",
       "\n",
       "      loser_striking_dominance  winner_wrestling_dominance  \\\n",
       "6907                       0.0                         0.0   \n",
       "7592                       0.0                         0.0   \n",
       "7667                       0.0                         0.0   \n",
       "\n",
       "      loser_wrestling_dominance  \n",
       "6907                        0.0  \n",
       "7592                        0.0  \n",
       "7667                        0.0  \n",
       "\n",
       "[3 rows x 46 columns]"
      ]
     },
     "execution_count": 123,
     "metadata": {},
     "output_type": "execute_result"
    }
   ],
   "source": [
    "df.loc[(df['loser_striking_dominance'] == 0) & (df['round'] == 2), :]"
   ]
  },
  {
   "cell_type": "markdown",
   "id": "1420d972-c3df-47c9-91d8-d8d83897245e",
   "metadata": {},
   "source": [
    "Observations:\n",
    "* So, as we assumed, 4 empty data fights are from the 1996 / 1998;\n",
    "* And the 2008 fight from the empty *loser_striking_difference* is an example, where a losing fighter could not land a single shot and, eventually, got knocked out."
   ]
  },
  {
   "cell_type": "code",
   "execution_count": 164,
   "id": "e78ecf8a-b8df-4289-948e-a2daed513d3d",
   "metadata": {},
   "outputs": [
    {
     "data": {
      "image/png": "[encoded data removed]",
      "text/plain": [
       "<Figure size 1000x500 with 1 Axes>"
      ]
     },
     "metadata": {},
     "output_type": "display_data"
    }
   ],
   "source": [
    "fig, ax = plt.subplots(figsize=(10, 5))\n",
    "plt.title(\"Winner striking dominance vs loser striking dominance\", fontdict={'fontsize':14})\n",
    "\n",
    "sns.histplot(df['winner_wrestling_dominance'], color='green', kde=True, bins=120, label='winner wrestling dominance')\n",
    "sns.histplot(df['loser_wrestling_dominance'], color='blue', kde=True, bins=120, label='loser wrestling dominance')\n",
    "\n",
    "ax.set_xlabel(\"Wrestling dominance factor\", fontdict={'fontsize': 12})\n",
    "ax.set_ylabel(\"Count\", fontdict={'fontsize': 12})\n",
    "plt.show()"
   ]
  },
  {
   "cell_type": "code",
   "execution_count": 159,
   "id": "7a8a2f12-b116-4c83-96e1-f97e14ddf172",
   "metadata": {},
   "outputs": [
    {
     "data": {
      "text/plain": [
       "count    7754.000000\n",
       "mean       35.953443\n",
       "std        38.178213\n",
       "min         0.000000\n",
       "25%         0.000000\n",
       "50%        26.000000\n",
       "75%        66.000000\n",
       "max       108.000000\n",
       "Name: winner_wrestling_dominance, dtype: float64"
      ]
     },
     "execution_count": 159,
     "metadata": {},
     "output_type": "execute_result"
    }
   ],
   "source": [
    "df['winner_wrestling_dominance'].describe()"
   ]
  },
  {
   "cell_type": "code",
   "execution_count": 160,
   "id": "7e60ed78-bfc5-4eb5-a5a9-4536ed8af736",
   "metadata": {},
   "outputs": [
    {
     "data": {
      "image/png": "[encoded data removed]",
      "text/plain": [
       "<Figure size 1000x500 with 1 Axes>"
      ]
     },
     "metadata": {},
     "output_type": "display_data"
    }
   ],
   "source": [
    "fig, ax = plt.subplots(figsize=(10, 5))\n",
    "plt.title(\"Winner striking dominance vs loser striking dominance\", fontdict={'fontsize':14})\n",
    "\n",
    "#sns.histplot(df['winner_wrestling_dominance'], color='red', kde=True, bins=120, label='winner wrestling dominance')\n",
    "sns.histplot(df['loser_wrestling_dominance'], color='black', kde=True, bins=120, label='loser wrestling dominance')\n",
    "\n",
    "ax.set_xlabel(\"Wrestling dominance factor\", fontdict={'fontsize': 12})\n",
    "ax.set_ylabel(\"Count\", fontdict={'fontsize': 12})\n",
    "plt.show()"
   ]
  },
  {
   "cell_type": "code",
   "execution_count": 161,
   "id": "73e53fd8-ff3f-40ef-9afb-02dcdffcdfe0",
   "metadata": {},
   "outputs": [
    {
     "data": {
      "text/plain": [
       "count    7754.000000\n",
       "mean       18.407274\n",
       "std        30.579163\n",
       "min         0.000000\n",
       "25%         0.000000\n",
       "50%         0.000000\n",
       "75%        30.000000\n",
       "max       108.000000\n",
       "Name: loser_wrestling_dominance, dtype: float64"
      ]
     },
     "execution_count": 161,
     "metadata": {},
     "output_type": "execute_result"
    }
   ],
   "source": [
    "df['loser_wrestling_dominance'].describe()"
   ]
  },
  {
   "cell_type": "markdown",
   "id": "b0c7d027-aa1d-4c6c-a70c-188821e37a51",
   "metadata": {},
   "source": [
    "## 5. Does being in a particular corner contribute to a victory?"
   ]
  },
  {
   "cell_type": "markdown",
   "id": "3a5423a5-8604-4841-ba45-0189bd00704a",
   "metadata": {},
   "source": [
    "Data:"
   ]
  },
  {
   "cell_type": "code",
   "execution_count": 33,
   "id": "18949e7a-d079-46ad-97b0-8c6ac06284a9",
   "metadata": {},
   "outputs": [],
   "source": [
    "winners_by_corner = df['winner'].value_counts()\n",
    "winners_by_corner = winners_by_corner / sum(winners_by_corner) * 100"
   ]
  },
  {
   "cell_type": "markdown",
   "id": "0d4a0f11-7b3c-4f6c-a0a4-b024b0bffcfc",
   "metadata": {},
   "source": [
    "Let's plot:"
   ]
  },
  {
   "cell_type": "code",
   "execution_count": 34,
   "id": "86f0dd36-adf6-43da-84b0-8c4e8112d8c5",
   "metadata": {},
   "outputs": [
    {
     "data": {
      "text/plain": [
       "<module 'seaborn' from '/opt/anaconda3/lib/python3.12/site-packages/seaborn/__init__.py'>"
      ]
     },
     "execution_count": 34,
     "metadata": {},
     "output_type": "execute_result"
    },
    {
     "data": {
      "text/plain": [
       "<Figure size 640x480 with 0 Axes>"
      ]
     },
     "metadata": {},
     "output_type": "display_data"
    }
   ],
   "source": [
    "plt.figure()\n",
    "sns"
   ]
  },
  {
   "cell_type": "markdown",
   "id": "06ffa987-cc44-4c3c-a112-c1752cd13a8e",
   "metadata": {},
   "source": [
    "This is actually funny at first glance, but it turns out that red corner is given to champions, and, higher ranked fighters.\n",
    "<br>Where blue is assigned to lower ranked fighters and title challengers."
   ]
  },
  {
   "cell_type": "markdown",
   "id": "6480ead0-b441-42b2-8b42-397fc3966a10",
   "metadata": {},
   "source": [
    "## 6. What fight features contribute to the fight bonuses the most?"
   ]
  }
 ],
 "metadata": {
  "kernelspec": {
   "display_name": "Python 3 (ipykernel)",
   "language": "python",
   "name": "python3"
  },
  "language_info": {
   "codemirror_mode": {
    "name": "ipython",
    "version": 3
   },
   "file_extension": ".py",
   "mimetype": "text/x-python",
   "name": "python",
   "nbconvert_exporter": "python",
   "pygments_lexer": "ipython3",
   "version": "3.12.7"
  },
  "panel-cell-order": [
   "7758a506-c701-4b64-9d61-f6931b5f5b85",
   "111ccb8d-640d-4245-a2cf-37b3cd949a03",
   "f66fbf78-0c79-4bb4-b785-bd99dc817140",
   "5b29ca2b-92f8-4a79-88d3-73671073d5b3",
   "b8caa5e1-95ca-4a8b-b1e7-dcb0c91caa2a",
   "19ea8da2-499f-4c02-9400-dcd933121aaf",
   "6b47030d-e691-475f-b0f3-49783fe79c2e",
   "cf426bb7-e9b6-4600-a855-a38a7c9b00a1"
  ]
 },
 "nbformat": 4,
 "nbformat_minor": 5
}
