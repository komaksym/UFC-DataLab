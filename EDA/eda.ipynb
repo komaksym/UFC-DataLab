{
 "cells": [
  {
   "cell_type": "code",
   "execution_count": 1,
   "id": "f1d3c09c-2aab-431f-b658-6a4c8d07edc3",
   "metadata": {},
   "outputs": [],
   "source": [
    "import pandas as pd\n",
    "import matplotlib.pyplot as plt\n",
    "import pdb\n",
    "  "
   ]
  },
  {
   "cell_type": "code",
   "execution_count": 2,
   "id": "7758a506-c701-4b64-9d61-f6931b5f5b85",
   "metadata": {
    "panel-layout": {
     "height": 516.5,
     "visible": true,
     "width": 100
    },
    "scrolled": true
   },
   "outputs": [
    {
     "data": {
      "text/html": [
       "<div>\n",
       "<style scoped>\n",
       "    .dataframe tbody tr th:only-of-type {\n",
       "        vertical-align: middle;\n",
       "    }\n",
       "\n",
       "    .dataframe tbody tr th {\n",
       "        vertical-align: top;\n",
       "    }\n",
       "\n",
       "    .dataframe thead th {\n",
       "        text-align: right;\n",
       "    }\n",
       "</style>\n",
       "<table border=\"1\" class=\"dataframe\">\n",
       "  <thead>\n",
       "    <tr style=\"text-align: right;\">\n",
       "      <th></th>\n",
       "      <th>red_fighter_name</th>\n",
       "      <th>blue_fighter_name</th>\n",
       "      <th>event_date</th>\n",
       "      <th>red_fighter_nickname</th>\n",
       "      <th>blue_fighter_nickname</th>\n",
       "      <th>red_fighter_result</th>\n",
       "      <th>blue_fighter_result</th>\n",
       "      <th>method</th>\n",
       "      <th>round</th>\n",
       "      <th>time</th>\n",
       "      <th>...</th>\n",
       "      <th>red_fighter_sig_str_body_pct</th>\n",
       "      <th>blue_fighter_sig_str_body_pct</th>\n",
       "      <th>red_fighter_sig_str_leg_pct</th>\n",
       "      <th>blue_fighter_sig_str_leg_pct</th>\n",
       "      <th>red_fighter_sig_str_distance_pct</th>\n",
       "      <th>blue_fighter_sig_str_distance_pct</th>\n",
       "      <th>red_fighter_sig_str_clinch_pct</th>\n",
       "      <th>blue_fighter_sig_str_clinch_pct</th>\n",
       "      <th>red_fighter_sig_str_ground_pct</th>\n",
       "      <th>blue_fighter_sig_str_ground_pct</th>\n",
       "    </tr>\n",
       "  </thead>\n",
       "  <tbody>\n",
       "    <tr>\n",
       "      <th>7749</th>\n",
       "      <td>ORLANDO WIET</td>\n",
       "      <td>ROBERT LUCARELLI</td>\n",
       "      <td>11/03/1994</td>\n",
       "      <td>The Gladiator</td>\n",
       "      <td>-</td>\n",
       "      <td>W</td>\n",
       "      <td>L</td>\n",
       "      <td>KO/TKO</td>\n",
       "      <td>1</td>\n",
       "      <td>2:50</td>\n",
       "      <td>...</td>\n",
       "      <td>12</td>\n",
       "      <td>0</td>\n",
       "      <td>0</td>\n",
       "      <td>50</td>\n",
       "      <td>12</td>\n",
       "      <td>100</td>\n",
       "      <td>0</td>\n",
       "      <td>0</td>\n",
       "      <td>87</td>\n",
       "      <td>0</td>\n",
       "    </tr>\n",
       "    <tr>\n",
       "      <th>7750</th>\n",
       "      <td>FRANK HAMAKER</td>\n",
       "      <td>THADDEUS LUSTER</td>\n",
       "      <td>11/03/1994</td>\n",
       "      <td>-</td>\n",
       "      <td>-</td>\n",
       "      <td>W</td>\n",
       "      <td>L</td>\n",
       "      <td>Submission</td>\n",
       "      <td>1</td>\n",
       "      <td>4:52</td>\n",
       "      <td>...</td>\n",
       "      <td>0</td>\n",
       "      <td>0</td>\n",
       "      <td>0</td>\n",
       "      <td>0</td>\n",
       "      <td>50</td>\n",
       "      <td>0</td>\n",
       "      <td>0</td>\n",
       "      <td>0</td>\n",
       "      <td>50</td>\n",
       "      <td>0</td>\n",
       "    </tr>\n",
       "    <tr>\n",
       "      <th>7751</th>\n",
       "      <td>JOHNNY RHODES</td>\n",
       "      <td>DAVID LEVICKI</td>\n",
       "      <td>11/03/1994</td>\n",
       "      <td>-</td>\n",
       "      <td>-</td>\n",
       "      <td>W</td>\n",
       "      <td>L</td>\n",
       "      <td>KO/TKO</td>\n",
       "      <td>1</td>\n",
       "      <td>12:13</td>\n",
       "      <td>...</td>\n",
       "      <td>9</td>\n",
       "      <td>0</td>\n",
       "      <td>9</td>\n",
       "      <td>0</td>\n",
       "      <td>9</td>\n",
       "      <td>25</td>\n",
       "      <td>9</td>\n",
       "      <td>50</td>\n",
       "      <td>81</td>\n",
       "      <td>25</td>\n",
       "    </tr>\n",
       "    <tr>\n",
       "      <th>7752</th>\n",
       "      <td>PATRICK SMITH</td>\n",
       "      <td>RAY WIZARD</td>\n",
       "      <td>11/03/1994</td>\n",
       "      <td>-</td>\n",
       "      <td>-</td>\n",
       "      <td>W</td>\n",
       "      <td>L</td>\n",
       "      <td>Submission</td>\n",
       "      <td>1</td>\n",
       "      <td>0:58</td>\n",
       "      <td>...</td>\n",
       "      <td>100</td>\n",
       "      <td>0</td>\n",
       "      <td>0</td>\n",
       "      <td>100</td>\n",
       "      <td>0</td>\n",
       "      <td>100</td>\n",
       "      <td>100</td>\n",
       "      <td>0</td>\n",
       "      <td>0</td>\n",
       "      <td>0</td>\n",
       "    </tr>\n",
       "    <tr>\n",
       "      <th>7753</th>\n",
       "      <td>SCOTT MORRIS</td>\n",
       "      <td>SEAN DAUGHERTY</td>\n",
       "      <td>11/03/1994</td>\n",
       "      <td>-</td>\n",
       "      <td>-</td>\n",
       "      <td>W</td>\n",
       "      <td>L</td>\n",
       "      <td>Submission</td>\n",
       "      <td>1</td>\n",
       "      <td>0:20</td>\n",
       "      <td>...</td>\n",
       "      <td>0</td>\n",
       "      <td>0</td>\n",
       "      <td>0</td>\n",
       "      <td>0</td>\n",
       "      <td>0</td>\n",
       "      <td>0</td>\n",
       "      <td>100</td>\n",
       "      <td>0</td>\n",
       "      <td>0</td>\n",
       "      <td>0</td>\n",
       "    </tr>\n",
       "  </tbody>\n",
       "</table>\n",
       "<p>5 rows × 59 columns</p>\n",
       "</div>"
      ],
      "text/plain": [
       "     red_fighter_name blue_fighter_name  event_date red_fighter_nickname  \\\n",
       "7749     ORLANDO WIET  ROBERT LUCARELLI  11/03/1994        The Gladiator   \n",
       "7750    FRANK HAMAKER   THADDEUS LUSTER  11/03/1994                    -   \n",
       "7751    JOHNNY RHODES     DAVID LEVICKI  11/03/1994                    -   \n",
       "7752    PATRICK SMITH        RAY WIZARD  11/03/1994                    -   \n",
       "7753     SCOTT MORRIS    SEAN DAUGHERTY  11/03/1994                    -   \n",
       "\n",
       "     blue_fighter_nickname red_fighter_result blue_fighter_result      method  \\\n",
       "7749                     -                  W                   L      KO/TKO   \n",
       "7750                     -                  W                   L  Submission   \n",
       "7751                     -                  W                   L      KO/TKO   \n",
       "7752                     -                  W                   L  Submission   \n",
       "7753                     -                  W                   L  Submission   \n",
       "\n",
       "      round   time  ... red_fighter_sig_str_body_pct  \\\n",
       "7749      1   2:50  ...                           12   \n",
       "7750      1   4:52  ...                            0   \n",
       "7751      1  12:13  ...                            9   \n",
       "7752      1   0:58  ...                          100   \n",
       "7753      1   0:20  ...                            0   \n",
       "\n",
       "     blue_fighter_sig_str_body_pct red_fighter_sig_str_leg_pct  \\\n",
       "7749                             0                           0   \n",
       "7750                             0                           0   \n",
       "7751                             0                           9   \n",
       "7752                             0                           0   \n",
       "7753                             0                           0   \n",
       "\n",
       "     blue_fighter_sig_str_leg_pct red_fighter_sig_str_distance_pct  \\\n",
       "7749                           50                               12   \n",
       "7750                            0                               50   \n",
       "7751                            0                                9   \n",
       "7752                          100                                0   \n",
       "7753                            0                                0   \n",
       "\n",
       "     blue_fighter_sig_str_distance_pct red_fighter_sig_str_clinch_pct  \\\n",
       "7749                               100                              0   \n",
       "7750                                 0                              0   \n",
       "7751                                25                              9   \n",
       "7752                               100                            100   \n",
       "7753                                 0                            100   \n",
       "\n",
       "     blue_fighter_sig_str_clinch_pct red_fighter_sig_str_ground_pct  \\\n",
       "7749                               0                             87   \n",
       "7750                               0                             50   \n",
       "7751                              50                             81   \n",
       "7752                               0                              0   \n",
       "7753                               0                              0   \n",
       "\n",
       "     blue_fighter_sig_str_ground_pct  \n",
       "7749                               0  \n",
       "7750                               0  \n",
       "7751                              25  \n",
       "7752                               0  \n",
       "7753                               0  \n",
       "\n",
       "[5 rows x 59 columns]"
      ]
     },
     "execution_count": 2,
     "metadata": {},
     "output_type": "execute_result"
    }
   ],
   "source": [
    "df = pd.read_csv(\"../datasets/stats/stats.csv\", sep=';')\n",
    "df.tail()"
   ]
  },
  {
   "cell_type": "markdown",
   "id": "111ccb8d-640d-4245-a2cf-37b3cd949a03",
   "metadata": {
    "panel-layout": {
     "height": 60.616668701171875,
     "visible": true,
     "width": 100
    }
   },
   "source": [
    "# Establishing questions"
   ]
  },
  {
   "cell_type": "markdown",
   "id": "f66fbf78-0c79-4bb4-b785-bd99dc817140",
   "metadata": {
    "jp-MarkdownHeadingCollapsed": true,
    "panel-layout": {
     "height": 163.9666748046875,
     "visible": true,
     "width": 100
    }
   },
   "source": [
    "### Here are a few questions I want to be answered by the end of this notebook:\n",
    "1. What are the most popular locations that UFC hosts its events in?\n",
    "2. What is the historical average amount of UFC fights hosted annually?\n",
    "3. What are the top fight outcomes?\n",
    "4. What are the main fight tactics contributing to a victory?\n",
    "5. Does being in a particular corner contribute to a victory? (This one is a meme, but we in meme mood today)\n",
    "6. What fight features contribute to the fight bonuses the most?"
   ]
  },
  {
   "cell_type": "markdown",
   "id": "5b29ca2b-92f8-4a79-88d3-73671073d5b3",
   "metadata": {
    "panel-layout": {
     "height": 60.616668701171875,
     "visible": true,
     "width": 100
    }
   },
   "source": [
    "# Data preprocessing"
   ]
  },
  {
   "cell_type": "markdown",
   "id": "6fd6b70b-3473-4d0d-b935-4d78d90ba30f",
   "metadata": {},
   "source": [
    "### Creating a single *winner* feature instead of two *red_fighter_result* and *blue_fighter_result* features"
   ]
  },
  {
   "cell_type": "code",
   "execution_count": 3,
   "id": "287960f4-511c-4bba-88c7-e9d385a0c377",
   "metadata": {},
   "outputs": [],
   "source": [
    "df.loc[:, 'winner'] = df['red_fighter_result'].apply(lambda x: 'red' if x == 'W' else 'blue')"
   ]
  },
  {
   "cell_type": "markdown",
   "id": "2cc37e8a-83a9-411f-8baa-f6d187eac453",
   "metadata": {},
   "source": [
    "### Changing columns from *red/blue+feature name* to *winner/loser+feature name*"
   ]
  },
  {
   "cell_type": "code",
   "execution_count": 4,
   "id": "040b8fbe-6e0b-45ea-acab-361cbe1bc862",
   "metadata": {
    "scrolled": true
   },
   "outputs": [
    {
     "data": {
      "text/html": [
       "<div>\n",
       "<style scoped>\n",
       "    .dataframe tbody tr th:only-of-type {\n",
       "        vertical-align: middle;\n",
       "    }\n",
       "\n",
       "    .dataframe tbody tr th {\n",
       "        vertical-align: top;\n",
       "    }\n",
       "\n",
       "    .dataframe thead th {\n",
       "        text-align: right;\n",
       "    }\n",
       "</style>\n",
       "<table border=\"1\" class=\"dataframe\">\n",
       "  <thead>\n",
       "    <tr style=\"text-align: right;\">\n",
       "      <th></th>\n",
       "      <th>red_fighter_name</th>\n",
       "      <th>blue_fighter_name</th>\n",
       "      <th>event_date</th>\n",
       "      <th>red_fighter_nickname</th>\n",
       "      <th>blue_fighter_nickname</th>\n",
       "      <th>red_fighter_result</th>\n",
       "      <th>blue_fighter_result</th>\n",
       "      <th>method</th>\n",
       "      <th>round</th>\n",
       "      <th>time</th>\n",
       "      <th>...</th>\n",
       "      <th>blue_fighter_sig_str_body_pct</th>\n",
       "      <th>red_fighter_sig_str_leg_pct</th>\n",
       "      <th>blue_fighter_sig_str_leg_pct</th>\n",
       "      <th>red_fighter_sig_str_distance_pct</th>\n",
       "      <th>blue_fighter_sig_str_distance_pct</th>\n",
       "      <th>red_fighter_sig_str_clinch_pct</th>\n",
       "      <th>blue_fighter_sig_str_clinch_pct</th>\n",
       "      <th>red_fighter_sig_str_ground_pct</th>\n",
       "      <th>blue_fighter_sig_str_ground_pct</th>\n",
       "      <th>winner</th>\n",
       "    </tr>\n",
       "  </thead>\n",
       "  <tbody>\n",
       "    <tr>\n",
       "      <th>0</th>\n",
       "      <td>ILIA TOPURIA</td>\n",
       "      <td>MAX HOLLOWAY</td>\n",
       "      <td>26/10/2024</td>\n",
       "      <td>El Matador</td>\n",
       "      <td>Blessed</td>\n",
       "      <td>W</td>\n",
       "      <td>L</td>\n",
       "      <td>KO/TKO</td>\n",
       "      <td>3</td>\n",
       "      <td>1:34</td>\n",
       "      <td>...</td>\n",
       "      <td>16</td>\n",
       "      <td>20</td>\n",
       "      <td>24</td>\n",
       "      <td>94</td>\n",
       "      <td>100</td>\n",
       "      <td>0</td>\n",
       "      <td>0</td>\n",
       "      <td>5</td>\n",
       "      <td>0</td>\n",
       "      <td>red</td>\n",
       "    </tr>\n",
       "    <tr>\n",
       "      <th>1</th>\n",
       "      <td>ROBERT WHITTAKER</td>\n",
       "      <td>KHAMZAT CHIMAEV</td>\n",
       "      <td>26/10/2024</td>\n",
       "      <td>The Reaper</td>\n",
       "      <td>Borz</td>\n",
       "      <td>L</td>\n",
       "      <td>W</td>\n",
       "      <td>Submission</td>\n",
       "      <td>1</td>\n",
       "      <td>3:34</td>\n",
       "      <td>...</td>\n",
       "      <td>33</td>\n",
       "      <td>100</td>\n",
       "      <td>0</td>\n",
       "      <td>100</td>\n",
       "      <td>0</td>\n",
       "      <td>0</td>\n",
       "      <td>0</td>\n",
       "      <td>0</td>\n",
       "      <td>100</td>\n",
       "      <td>blue</td>\n",
       "    </tr>\n",
       "    <tr>\n",
       "      <th>2</th>\n",
       "      <td>MAGOMED ANKALAEV</td>\n",
       "      <td>ALEKSANDAR RAKIC</td>\n",
       "      <td>26/10/2024</td>\n",
       "      <td>-</td>\n",
       "      <td>Rocket</td>\n",
       "      <td>W</td>\n",
       "      <td>L</td>\n",
       "      <td>Decision - Unanimous</td>\n",
       "      <td>3</td>\n",
       "      <td>5:00</td>\n",
       "      <td>...</td>\n",
       "      <td>16</td>\n",
       "      <td>23</td>\n",
       "      <td>64</td>\n",
       "      <td>90</td>\n",
       "      <td>94</td>\n",
       "      <td>9</td>\n",
       "      <td>5</td>\n",
       "      <td>0</td>\n",
       "      <td>0</td>\n",
       "      <td>red</td>\n",
       "    </tr>\n",
       "    <tr>\n",
       "      <th>3</th>\n",
       "      <td>LERONE MURPHY</td>\n",
       "      <td>DAN IGE</td>\n",
       "      <td>26/10/2024</td>\n",
       "      <td>The Miracle</td>\n",
       "      <td>50K</td>\n",
       "      <td>W</td>\n",
       "      <td>L</td>\n",
       "      <td>Decision - Unanimous</td>\n",
       "      <td>3</td>\n",
       "      <td>5:00</td>\n",
       "      <td>...</td>\n",
       "      <td>10</td>\n",
       "      <td>7</td>\n",
       "      <td>13</td>\n",
       "      <td>71</td>\n",
       "      <td>69</td>\n",
       "      <td>23</td>\n",
       "      <td>13</td>\n",
       "      <td>5</td>\n",
       "      <td>17</td>\n",
       "      <td>red</td>\n",
       "    </tr>\n",
       "    <tr>\n",
       "      <th>4</th>\n",
       "      <td>SHARA MAGOMEDOV</td>\n",
       "      <td>ARMEN PETROSYAN</td>\n",
       "      <td>26/10/2024</td>\n",
       "      <td>Bullet</td>\n",
       "      <td>Superman</td>\n",
       "      <td>W</td>\n",
       "      <td>L</td>\n",
       "      <td>KO/TKO</td>\n",
       "      <td>2</td>\n",
       "      <td>4:52</td>\n",
       "      <td>...</td>\n",
       "      <td>12</td>\n",
       "      <td>18</td>\n",
       "      <td>58</td>\n",
       "      <td>96</td>\n",
       "      <td>97</td>\n",
       "      <td>3</td>\n",
       "      <td>2</td>\n",
       "      <td>0</td>\n",
       "      <td>0</td>\n",
       "      <td>red</td>\n",
       "    </tr>\n",
       "  </tbody>\n",
       "</table>\n",
       "<p>5 rows × 60 columns</p>\n",
       "</div>"
      ],
      "text/plain": [
       "   red_fighter_name blue_fighter_name  event_date red_fighter_nickname  \\\n",
       "0      ILIA TOPURIA      MAX HOLLOWAY  26/10/2024           El Matador   \n",
       "1  ROBERT WHITTAKER   KHAMZAT CHIMAEV  26/10/2024           The Reaper   \n",
       "2  MAGOMED ANKALAEV  ALEKSANDAR RAKIC  26/10/2024                    -   \n",
       "3     LERONE MURPHY           DAN IGE  26/10/2024          The Miracle   \n",
       "4   SHARA MAGOMEDOV   ARMEN PETROSYAN  26/10/2024               Bullet   \n",
       "\n",
       "  blue_fighter_nickname red_fighter_result blue_fighter_result  \\\n",
       "0               Blessed                  W                   L   \n",
       "1                  Borz                  L                   W   \n",
       "2                Rocket                  W                   L   \n",
       "3                   50K                  W                   L   \n",
       "4              Superman                  W                   L   \n",
       "\n",
       "                 method  round  time  ... blue_fighter_sig_str_body_pct  \\\n",
       "0                KO/TKO      3  1:34  ...                            16   \n",
       "1            Submission      1  3:34  ...                            33   \n",
       "2  Decision - Unanimous      3  5:00  ...                            16   \n",
       "3  Decision - Unanimous      3  5:00  ...                            10   \n",
       "4                KO/TKO      2  4:52  ...                            12   \n",
       "\n",
       "  red_fighter_sig_str_leg_pct blue_fighter_sig_str_leg_pct  \\\n",
       "0                          20                           24   \n",
       "1                         100                            0   \n",
       "2                          23                           64   \n",
       "3                           7                           13   \n",
       "4                          18                           58   \n",
       "\n",
       "  red_fighter_sig_str_distance_pct blue_fighter_sig_str_distance_pct  \\\n",
       "0                               94                               100   \n",
       "1                              100                                 0   \n",
       "2                               90                                94   \n",
       "3                               71                                69   \n",
       "4                               96                                97   \n",
       "\n",
       "  red_fighter_sig_str_clinch_pct blue_fighter_sig_str_clinch_pct  \\\n",
       "0                              0                               0   \n",
       "1                              0                               0   \n",
       "2                              9                               5   \n",
       "3                             23                              13   \n",
       "4                              3                               2   \n",
       "\n",
       "  red_fighter_sig_str_ground_pct blue_fighter_sig_str_ground_pct winner  \n",
       "0                              5                               0    red  \n",
       "1                              0                             100   blue  \n",
       "2                              0                               0    red  \n",
       "3                              5                              17    red  \n",
       "4                              0                               0    red  \n",
       "\n",
       "[5 rows x 60 columns]"
      ]
     },
     "execution_count": 4,
     "metadata": {},
     "output_type": "execute_result"
    }
   ],
   "source": [
    "df.head()"
   ]
  },
  {
   "cell_type": "code",
   "execution_count": 5,
   "id": "b5f3a1df-1f01-4f45-ba69-0806e010bc60",
   "metadata": {},
   "outputs": [],
   "source": [
    "def assign_winner_n_loser(df, columns_to_change, winner_col='winner'):\n",
    "    for col in columns_to_change:\n",
    "        df.loc[:, f\"winner_{col}\"] = df[f\"red_{col}\"].where(df[winner_col] == 'red', df[f\"blue_{col}\"])\n",
    "        df.loc[:, f\"loser_{col}\"] = df[f\"red_{col}\"].where(df[winner_col] == 'blue', df[f\"blue_{col}\"])\n",
    "        \n",
    "    return df \n",
    "        "
   ]
  },
  {
   "cell_type": "code",
   "execution_count": 6,
   "id": "443b58b6-d15e-410f-bd78-b604cf9ad2f7",
   "metadata": {},
   "outputs": [
    {
     "data": {
      "text/html": [
       "<div>\n",
       "<style scoped>\n",
       "    .dataframe tbody tr th:only-of-type {\n",
       "        vertical-align: middle;\n",
       "    }\n",
       "\n",
       "    .dataframe tbody tr th {\n",
       "        vertical-align: top;\n",
       "    }\n",
       "\n",
       "    .dataframe thead th {\n",
       "        text-align: right;\n",
       "    }\n",
       "</style>\n",
       "<table border=\"1\" class=\"dataframe\">\n",
       "  <thead>\n",
       "    <tr style=\"text-align: right;\">\n",
       "      <th></th>\n",
       "      <th>red_fighter_name</th>\n",
       "      <th>blue_fighter_name</th>\n",
       "      <th>event_date</th>\n",
       "      <th>red_fighter_nickname</th>\n",
       "      <th>blue_fighter_nickname</th>\n",
       "      <th>red_fighter_result</th>\n",
       "      <th>blue_fighter_result</th>\n",
       "      <th>method</th>\n",
       "      <th>round</th>\n",
       "      <th>time</th>\n",
       "      <th>...</th>\n",
       "      <th>winner_fighter_sig_str_body_pct</th>\n",
       "      <th>loser_fighter_sig_str_body_pct</th>\n",
       "      <th>winner_fighter_sig_str_leg_pct</th>\n",
       "      <th>loser_fighter_sig_str_leg_pct</th>\n",
       "      <th>winner_fighter_sig_str_distance_pct</th>\n",
       "      <th>loser_fighter_sig_str_distance_pct</th>\n",
       "      <th>winner_fighter_sig_str_clinch_pct</th>\n",
       "      <th>loser_fighter_sig_str_clinch_pct</th>\n",
       "      <th>winner_fighter_sig_str_ground_pct</th>\n",
       "      <th>loser_fighter_sig_str_ground_pct</th>\n",
       "    </tr>\n",
       "  </thead>\n",
       "  <tbody>\n",
       "    <tr>\n",
       "      <th>0</th>\n",
       "      <td>ILIA TOPURIA</td>\n",
       "      <td>MAX HOLLOWAY</td>\n",
       "      <td>26/10/2024</td>\n",
       "      <td>El Matador</td>\n",
       "      <td>Blessed</td>\n",
       "      <td>W</td>\n",
       "      <td>L</td>\n",
       "      <td>KO/TKO</td>\n",
       "      <td>3</td>\n",
       "      <td>1:34</td>\n",
       "      <td>...</td>\n",
       "      <td>14</td>\n",
       "      <td>16</td>\n",
       "      <td>20</td>\n",
       "      <td>24</td>\n",
       "      <td>94</td>\n",
       "      <td>100</td>\n",
       "      <td>0</td>\n",
       "      <td>0</td>\n",
       "      <td>5</td>\n",
       "      <td>0</td>\n",
       "    </tr>\n",
       "    <tr>\n",
       "      <th>1</th>\n",
       "      <td>ROBERT WHITTAKER</td>\n",
       "      <td>KHAMZAT CHIMAEV</td>\n",
       "      <td>26/10/2024</td>\n",
       "      <td>The Reaper</td>\n",
       "      <td>Borz</td>\n",
       "      <td>L</td>\n",
       "      <td>W</td>\n",
       "      <td>Submission</td>\n",
       "      <td>1</td>\n",
       "      <td>3:34</td>\n",
       "      <td>...</td>\n",
       "      <td>33</td>\n",
       "      <td>0</td>\n",
       "      <td>0</td>\n",
       "      <td>100</td>\n",
       "      <td>0</td>\n",
       "      <td>100</td>\n",
       "      <td>0</td>\n",
       "      <td>0</td>\n",
       "      <td>100</td>\n",
       "      <td>0</td>\n",
       "    </tr>\n",
       "    <tr>\n",
       "      <th>2</th>\n",
       "      <td>MAGOMED ANKALAEV</td>\n",
       "      <td>ALEKSANDAR RAKIC</td>\n",
       "      <td>26/10/2024</td>\n",
       "      <td>-</td>\n",
       "      <td>Rocket</td>\n",
       "      <td>W</td>\n",
       "      <td>L</td>\n",
       "      <td>Decision - Unanimous</td>\n",
       "      <td>3</td>\n",
       "      <td>5:00</td>\n",
       "      <td>...</td>\n",
       "      <td>40</td>\n",
       "      <td>16</td>\n",
       "      <td>23</td>\n",
       "      <td>64</td>\n",
       "      <td>90</td>\n",
       "      <td>94</td>\n",
       "      <td>9</td>\n",
       "      <td>5</td>\n",
       "      <td>0</td>\n",
       "      <td>0</td>\n",
       "    </tr>\n",
       "    <tr>\n",
       "      <th>3</th>\n",
       "      <td>LERONE MURPHY</td>\n",
       "      <td>DAN IGE</td>\n",
       "      <td>26/10/2024</td>\n",
       "      <td>The Miracle</td>\n",
       "      <td>50K</td>\n",
       "      <td>W</td>\n",
       "      <td>L</td>\n",
       "      <td>Decision - Unanimous</td>\n",
       "      <td>3</td>\n",
       "      <td>5:00</td>\n",
       "      <td>...</td>\n",
       "      <td>23</td>\n",
       "      <td>10</td>\n",
       "      <td>7</td>\n",
       "      <td>13</td>\n",
       "      <td>71</td>\n",
       "      <td>69</td>\n",
       "      <td>23</td>\n",
       "      <td>13</td>\n",
       "      <td>5</td>\n",
       "      <td>17</td>\n",
       "    </tr>\n",
       "    <tr>\n",
       "      <th>4</th>\n",
       "      <td>SHARA MAGOMEDOV</td>\n",
       "      <td>ARMEN PETROSYAN</td>\n",
       "      <td>26/10/2024</td>\n",
       "      <td>Bullet</td>\n",
       "      <td>Superman</td>\n",
       "      <td>W</td>\n",
       "      <td>L</td>\n",
       "      <td>KO/TKO</td>\n",
       "      <td>2</td>\n",
       "      <td>4:52</td>\n",
       "      <td>...</td>\n",
       "      <td>44</td>\n",
       "      <td>12</td>\n",
       "      <td>18</td>\n",
       "      <td>58</td>\n",
       "      <td>96</td>\n",
       "      <td>97</td>\n",
       "      <td>3</td>\n",
       "      <td>2</td>\n",
       "      <td>0</td>\n",
       "      <td>0</td>\n",
       "    </tr>\n",
       "  </tbody>\n",
       "</table>\n",
       "<p>5 rows × 106 columns</p>\n",
       "</div>"
      ],
      "text/plain": [
       "   red_fighter_name blue_fighter_name  event_date red_fighter_nickname  \\\n",
       "0      ILIA TOPURIA      MAX HOLLOWAY  26/10/2024           El Matador   \n",
       "1  ROBERT WHITTAKER   KHAMZAT CHIMAEV  26/10/2024           The Reaper   \n",
       "2  MAGOMED ANKALAEV  ALEKSANDAR RAKIC  26/10/2024                    -   \n",
       "3     LERONE MURPHY           DAN IGE  26/10/2024          The Miracle   \n",
       "4   SHARA MAGOMEDOV   ARMEN PETROSYAN  26/10/2024               Bullet   \n",
       "\n",
       "  blue_fighter_nickname red_fighter_result blue_fighter_result  \\\n",
       "0               Blessed                  W                   L   \n",
       "1                  Borz                  L                   W   \n",
       "2                Rocket                  W                   L   \n",
       "3                   50K                  W                   L   \n",
       "4              Superman                  W                   L   \n",
       "\n",
       "                 method  round  time  ... winner_fighter_sig_str_body_pct  \\\n",
       "0                KO/TKO      3  1:34  ...                              14   \n",
       "1            Submission      1  3:34  ...                              33   \n",
       "2  Decision - Unanimous      3  5:00  ...                              40   \n",
       "3  Decision - Unanimous      3  5:00  ...                              23   \n",
       "4                KO/TKO      2  4:52  ...                              44   \n",
       "\n",
       "  loser_fighter_sig_str_body_pct winner_fighter_sig_str_leg_pct  \\\n",
       "0                             16                             20   \n",
       "1                              0                              0   \n",
       "2                             16                             23   \n",
       "3                             10                              7   \n",
       "4                             12                             18   \n",
       "\n",
       "  loser_fighter_sig_str_leg_pct winner_fighter_sig_str_distance_pct  \\\n",
       "0                            24                                  94   \n",
       "1                           100                                   0   \n",
       "2                            64                                  90   \n",
       "3                            13                                  71   \n",
       "4                            58                                  96   \n",
       "\n",
       "  loser_fighter_sig_str_distance_pct winner_fighter_sig_str_clinch_pct  \\\n",
       "0                                100                                 0   \n",
       "1                                100                                 0   \n",
       "2                                 94                                 9   \n",
       "3                                 69                                23   \n",
       "4                                 97                                 3   \n",
       "\n",
       "  loser_fighter_sig_str_clinch_pct winner_fighter_sig_str_ground_pct  \\\n",
       "0                                0                                 5   \n",
       "1                                0                               100   \n",
       "2                                5                                 0   \n",
       "3                               13                                 5   \n",
       "4                                2                                 0   \n",
       "\n",
       "  loser_fighter_sig_str_ground_pct  \n",
       "0                                0  \n",
       "1                                0  \n",
       "2                                0  \n",
       "3                               17  \n",
       "4                                0  \n",
       "\n",
       "[5 rows x 106 columns]"
      ]
     },
     "execution_count": 6,
     "metadata": {},
     "output_type": "execute_result"
    }
   ],
   "source": [
    "cols_to_change = ['fighter_name', 'fighter_nickname','fighter_KD',\n",
    "                  'fighter_sig_str', 'fighter_sig_str_pct', \n",
    "                  'fighter_total_str', 'fighter_TD', 'fighter_TD_pct', \n",
    "                  'fighter_sub_att', 'fighter_rev', 'fighter_ctrl', \n",
    "                  'fighter_sig_str_head', 'fighter_sig_str_body', \n",
    "                  'fighter_sig_str_leg', 'fighter_sig_str_distance', \n",
    "                  'fighter_sig_str_clinch', 'fighter_sig_str_ground', \n",
    "                  'fighter_sig_str_head_pct', 'fighter_sig_str_body_pct', \n",
    "                  'fighter_sig_str_leg_pct', 'fighter_sig_str_distance_pct', \n",
    "                  'fighter_sig_str_clinch_pct', 'fighter_sig_str_ground_pct']\n",
    "\n",
    "df = assign_winner_n_loser(df, cols_to_change)\n",
    "df.head()"
   ]
  },
  {
   "cell_type": "markdown",
   "id": "122dda75-04b6-4bc1-89a0-a3870f4bd689",
   "metadata": {},
   "source": [
    "### Dropping the old features, leaving the new *winner/loser* ones"
   ]
  },
  {
   "cell_type": "code",
   "execution_count": 7,
   "id": "3a1f8005-1eaa-4482-80f9-63e0c221f424",
   "metadata": {
    "scrolled": true
   },
   "outputs": [
    {
     "data": {
      "text/html": [
       "<div>\n",
       "<style scoped>\n",
       "    .dataframe tbody tr th:only-of-type {\n",
       "        vertical-align: middle;\n",
       "    }\n",
       "\n",
       "    .dataframe tbody tr th {\n",
       "        vertical-align: top;\n",
       "    }\n",
       "\n",
       "    .dataframe thead th {\n",
       "        text-align: right;\n",
       "    }\n",
       "</style>\n",
       "<table border=\"1\" class=\"dataframe\">\n",
       "  <thead>\n",
       "    <tr style=\"text-align: right;\">\n",
       "      <th></th>\n",
       "      <th>event_date</th>\n",
       "      <th>method</th>\n",
       "      <th>round</th>\n",
       "      <th>time</th>\n",
       "      <th>time_format</th>\n",
       "      <th>referee</th>\n",
       "      <th>details</th>\n",
       "      <th>bout_type</th>\n",
       "      <th>bonus</th>\n",
       "      <th>event_name</th>\n",
       "      <th>...</th>\n",
       "      <th>winner_fighter_sig_str_body_pct</th>\n",
       "      <th>loser_fighter_sig_str_body_pct</th>\n",
       "      <th>winner_fighter_sig_str_leg_pct</th>\n",
       "      <th>loser_fighter_sig_str_leg_pct</th>\n",
       "      <th>winner_fighter_sig_str_distance_pct</th>\n",
       "      <th>loser_fighter_sig_str_distance_pct</th>\n",
       "      <th>winner_fighter_sig_str_clinch_pct</th>\n",
       "      <th>loser_fighter_sig_str_clinch_pct</th>\n",
       "      <th>winner_fighter_sig_str_ground_pct</th>\n",
       "      <th>loser_fighter_sig_str_ground_pct</th>\n",
       "    </tr>\n",
       "  </thead>\n",
       "  <tbody>\n",
       "    <tr>\n",
       "      <th>0</th>\n",
       "      <td>26/10/2024</td>\n",
       "      <td>KO/TKO</td>\n",
       "      <td>3</td>\n",
       "      <td>1:34</td>\n",
       "      <td>5 Rnd (5-5-5-5-5)</td>\n",
       "      <td>Marc Goddard</td>\n",
       "      <td>Punch to Head At Distance</td>\n",
       "      <td>UFC Featherweight Title Bout</td>\n",
       "      <td>belt</td>\n",
       "      <td>UFC 308: Topuria vs. Holloway</td>\n",
       "      <td>...</td>\n",
       "      <td>14</td>\n",
       "      <td>16</td>\n",
       "      <td>20</td>\n",
       "      <td>24</td>\n",
       "      <td>94</td>\n",
       "      <td>100</td>\n",
       "      <td>0</td>\n",
       "      <td>0</td>\n",
       "      <td>5</td>\n",
       "      <td>0</td>\n",
       "    </tr>\n",
       "    <tr>\n",
       "      <th>1</th>\n",
       "      <td>26/10/2024</td>\n",
       "      <td>Submission</td>\n",
       "      <td>1</td>\n",
       "      <td>3:34</td>\n",
       "      <td>5 Rnd (5-5-5-5-5)</td>\n",
       "      <td>Jason Herzog</td>\n",
       "      <td>Rear Naked Choke</td>\n",
       "      <td>Middleweight Bout</td>\n",
       "      <td>perf</td>\n",
       "      <td>UFC 308: Topuria vs. Holloway</td>\n",
       "      <td>...</td>\n",
       "      <td>33</td>\n",
       "      <td>0</td>\n",
       "      <td>0</td>\n",
       "      <td>100</td>\n",
       "      <td>0</td>\n",
       "      <td>100</td>\n",
       "      <td>0</td>\n",
       "      <td>0</td>\n",
       "      <td>100</td>\n",
       "      <td>0</td>\n",
       "    </tr>\n",
       "    <tr>\n",
       "      <th>2</th>\n",
       "      <td>26/10/2024</td>\n",
       "      <td>Decision - Unanimous</td>\n",
       "      <td>3</td>\n",
       "      <td>5:00</td>\n",
       "      <td>3 Rnd (5-5-5)</td>\n",
       "      <td>Vitor Ribeiro</td>\n",
       "      <td>Sal D'amato 28 - 29. Jacob Montalvo 28 - 29. T...</td>\n",
       "      <td>Light Heavyweight Bout</td>\n",
       "      <td>-</td>\n",
       "      <td>UFC 308: Topuria vs. Holloway</td>\n",
       "      <td>...</td>\n",
       "      <td>40</td>\n",
       "      <td>16</td>\n",
       "      <td>23</td>\n",
       "      <td>64</td>\n",
       "      <td>90</td>\n",
       "      <td>94</td>\n",
       "      <td>9</td>\n",
       "      <td>5</td>\n",
       "      <td>0</td>\n",
       "      <td>0</td>\n",
       "    </tr>\n",
       "    <tr>\n",
       "      <th>3</th>\n",
       "      <td>26/10/2024</td>\n",
       "      <td>Decision - Unanimous</td>\n",
       "      <td>3</td>\n",
       "      <td>5:00</td>\n",
       "      <td>3 Rnd (5-5-5)</td>\n",
       "      <td>Mark Smith</td>\n",
       "      <td>Mike Bell 28 - 29. Ben Cartlidge 28 - 29. Hadi...</td>\n",
       "      <td>Featherweight Bout</td>\n",
       "      <td>-</td>\n",
       "      <td>UFC 308: Topuria vs. Holloway</td>\n",
       "      <td>...</td>\n",
       "      <td>23</td>\n",
       "      <td>10</td>\n",
       "      <td>7</td>\n",
       "      <td>13</td>\n",
       "      <td>71</td>\n",
       "      <td>69</td>\n",
       "      <td>23</td>\n",
       "      <td>13</td>\n",
       "      <td>5</td>\n",
       "      <td>17</td>\n",
       "    </tr>\n",
       "    <tr>\n",
       "      <th>4</th>\n",
       "      <td>26/10/2024</td>\n",
       "      <td>KO/TKO</td>\n",
       "      <td>2</td>\n",
       "      <td>4:52</td>\n",
       "      <td>3 Rnd (5-5-5)</td>\n",
       "      <td>Kerry Hatley</td>\n",
       "      <td>Spinning Back Fist Head</td>\n",
       "      <td>Middleweight Bout</td>\n",
       "      <td>perf</td>\n",
       "      <td>UFC 308: Topuria vs. Holloway</td>\n",
       "      <td>...</td>\n",
       "      <td>44</td>\n",
       "      <td>12</td>\n",
       "      <td>18</td>\n",
       "      <td>58</td>\n",
       "      <td>96</td>\n",
       "      <td>97</td>\n",
       "      <td>3</td>\n",
       "      <td>2</td>\n",
       "      <td>0</td>\n",
       "      <td>0</td>\n",
       "    </tr>\n",
       "  </tbody>\n",
       "</table>\n",
       "<p>5 rows × 58 columns</p>\n",
       "</div>"
      ],
      "text/plain": [
       "   event_date                method  round  time        time_format  \\\n",
       "0  26/10/2024                KO/TKO      3  1:34  5 Rnd (5-5-5-5-5)   \n",
       "1  26/10/2024            Submission      1  3:34  5 Rnd (5-5-5-5-5)   \n",
       "2  26/10/2024  Decision - Unanimous      3  5:00      3 Rnd (5-5-5)   \n",
       "3  26/10/2024  Decision - Unanimous      3  5:00      3 Rnd (5-5-5)   \n",
       "4  26/10/2024                KO/TKO      2  4:52      3 Rnd (5-5-5)   \n",
       "\n",
       "         referee                                            details  \\\n",
       "0   Marc Goddard                          Punch to Head At Distance   \n",
       "1   Jason Herzog                                   Rear Naked Choke   \n",
       "2  Vitor Ribeiro  Sal D'amato 28 - 29. Jacob Montalvo 28 - 29. T...   \n",
       "3     Mark Smith  Mike Bell 28 - 29. Ben Cartlidge 28 - 29. Hadi...   \n",
       "4   Kerry Hatley                            Spinning Back Fist Head   \n",
       "\n",
       "                      bout_type bonus                     event_name  ...  \\\n",
       "0  UFC Featherweight Title Bout  belt  UFC 308: Topuria vs. Holloway  ...   \n",
       "1             Middleweight Bout  perf  UFC 308: Topuria vs. Holloway  ...   \n",
       "2        Light Heavyweight Bout     -  UFC 308: Topuria vs. Holloway  ...   \n",
       "3            Featherweight Bout     -  UFC 308: Topuria vs. Holloway  ...   \n",
       "4             Middleweight Bout  perf  UFC 308: Topuria vs. Holloway  ...   \n",
       "\n",
       "  winner_fighter_sig_str_body_pct loser_fighter_sig_str_body_pct  \\\n",
       "0                              14                             16   \n",
       "1                              33                              0   \n",
       "2                              40                             16   \n",
       "3                              23                             10   \n",
       "4                              44                             12   \n",
       "\n",
       "  winner_fighter_sig_str_leg_pct loser_fighter_sig_str_leg_pct  \\\n",
       "0                             20                            24   \n",
       "1                              0                           100   \n",
       "2                             23                            64   \n",
       "3                              7                            13   \n",
       "4                             18                            58   \n",
       "\n",
       "  winner_fighter_sig_str_distance_pct loser_fighter_sig_str_distance_pct  \\\n",
       "0                                  94                                100   \n",
       "1                                   0                                100   \n",
       "2                                  90                                 94   \n",
       "3                                  71                                 69   \n",
       "4                                  96                                 97   \n",
       "\n",
       "  winner_fighter_sig_str_clinch_pct loser_fighter_sig_str_clinch_pct  \\\n",
       "0                                 0                                0   \n",
       "1                                 0                                0   \n",
       "2                                 9                                5   \n",
       "3                                23                               13   \n",
       "4                                 3                                2   \n",
       "\n",
       "  winner_fighter_sig_str_ground_pct loser_fighter_sig_str_ground_pct  \n",
       "0                                 5                                0  \n",
       "1                               100                                0  \n",
       "2                                 0                                0  \n",
       "3                                 5                               17  \n",
       "4                                 0                                0  \n",
       "\n",
       "[5 rows x 58 columns]"
      ]
     },
     "execution_count": 7,
     "metadata": {},
     "output_type": "execute_result"
    }
   ],
   "source": [
    "df = df.loc[:, ['event_date', 'method', 'round', 'time', 'time_format', \n",
    "           'referee', 'details', 'bout_type', 'bonus', 'event_name', 'event_location']].join(df.iloc[:, -47:])\n",
    "df.head()\n"
   ]
  },
  {
   "cell_type": "markdown",
   "id": "b8caa5e1-95ca-4a8b-b1e7-dcb0c91caa2a",
   "metadata": {
    "panel-layout": {
     "height": 60.616668701171875,
     "visible": true,
     "width": 100
    }
   },
   "source": [
    "# Data Cleaning"
   ]
  },
  {
   "cell_type": "markdown",
   "id": "19ea8da2-499f-4c02-9400-dcd933121aaf",
   "metadata": {
    "panel-layout": {
     "height": 50.850006103515625,
     "visible": true,
     "width": 100
    }
   },
   "source": [
    "## NaN values"
   ]
  },
  {
   "cell_type": "code",
   "execution_count": 8,
   "id": "6b47030d-e691-475f-b0f3-49783fe79c2e",
   "metadata": {
    "panel-layout": {
     "height": 556.75,
     "visible": true,
     "width": 100
    },
    "scrolled": true
   },
   "outputs": [
    {
     "data": {
      "text/plain": [
       "np.int64(0)"
      ]
     },
     "execution_count": 8,
     "metadata": {},
     "output_type": "execute_result"
    }
   ],
   "source": [
    "df.isnull().sum().sum()"
   ]
  },
  {
   "cell_type": "markdown",
   "id": "52809f78-541a-4ec6-98e8-54278d1e6c48",
   "metadata": {},
   "source": [
    "## Duplicates"
   ]
  },
  {
   "cell_type": "code",
   "execution_count": 9,
   "id": "a7d47819-58f3-4b9b-b57d-275eee322e74",
   "metadata": {},
   "outputs": [
    {
     "data": {
      "text/plain": [
       "np.int64(0)"
      ]
     },
     "execution_count": 9,
     "metadata": {},
     "output_type": "execute_result"
    }
   ],
   "source": [
    "df.duplicated().sum()"
   ]
  },
  {
   "cell_type": "markdown",
   "id": "d900592a-c4e9-495e-b960-2ad8de26eaa6",
   "metadata": {},
   "source": [
    "We can see that there's no NaNs nor duplicates. Let's go to EDA."
   ]
  },
  {
   "cell_type": "markdown",
   "id": "20cb9d44-3ca6-491e-83eb-08107d0db676",
   "metadata": {},
   "source": [
    "# EDA"
   ]
  },
  {
   "cell_type": "markdown",
   "id": "3b82609e-c1be-49ca-8da6-73c6eb7cf935",
   "metadata": {},
   "source": [
    "## 1. What are the most popular locations that UFC hosts its events in?"
   ]
  },
  {
   "cell_type": "markdown",
   "id": "28f54d0f-e76a-40d8-bf09-a0a19256c38d",
   "metadata": {},
   "source": [
    "Preparing data for plotting (taking the top 10 locations by hosting frequency):"
   ]
  },
  {
   "cell_type": "code",
   "execution_count": 10,
   "id": "0851f043-c66b-49fc-ab02-87f2a74c293d",
   "metadata": {},
   "outputs": [],
   "source": [
    "counts = df[['event_name', 'event_location']].drop_duplicates()\n",
    "counts = counts['event_location'].value_counts()\n",
    "top_10_locations = counts.nlargest(20)"
   ]
  },
  {
   "cell_type": "markdown",
   "id": "70c2fcb2-2a26-4b3e-8b5f-f3bd92c84b54",
   "metadata": {},
   "source": [
    "Plotting:"
   ]
  },
  {
   "cell_type": "code",
   "execution_count": 11,
   "id": "b1818656-d589-49f7-a3e9-f901cd73917f",
   "metadata": {},
   "outputs": [
    {
     "data": {
      "image/png": "[encoded data removed]",
      "text/plain": [
       "<Figure size 1000x500 with 1 Axes>"
      ]
     },
     "metadata": {},
     "output_type": "display_data"
    }
   ],
   "source": [
    "import matplotlib.ticker as ticker\n",
    "\n",
    "# Main\n",
    "fig, ax = plt.subplots(figsize=(10,5))\n",
    "ax.barh(top_10_locations.index, top_10_locations.values, color='#DC143C')\n",
    "ax.set_title(\"Top 10 UFC event locations\", fontdict={'fontsize': 14})\n",
    "ax.set_xlabel(\"Frequency\", fontdict={'fontsize': 12})\n",
    "ax.set_ylabel(\"Location\", fontdict={'fontsize': 12})\n",
    "\n",
    "# Minor tick labels\n",
    "ax.xaxis.set_minor_locator(ticker.FixedLocator([15, 30]))\n",
    "ax.xaxis.set_minor_formatter(ticker.FixedFormatter([15, 30]))\n",
    "plt.show()"
   ]
  },
  {
   "cell_type": "code",
   "execution_count": 12,
   "id": "75e77b77-dd1b-47e7-80d2-c08969161805",
   "metadata": {},
   "outputs": [
    {
     "data": {
      "text/plain": [
       "event_location\n",
       "Las Vegas, Nevada, USA    34.555712\n",
       "Others                    65.444288\n",
       "Name: count, dtype: float64"
      ]
     },
     "execution_count": 12,
     "metadata": {},
     "output_type": "execute_result"
    }
   ],
   "source": [
    "# Converting to a % pct format\n",
    "pct = counts / sum(counts) * 100\n",
    "\n",
    "# Extracting only the Las Vegas, Nevada, USA\n",
    "pct = pct[:1]\n",
    "\n",
    "# Calculating how much % pct is the rest\n",
    "pct.loc[\"Others\"] = 100 - sum(pct.values)\n",
    "pct.head()"
   ]
  },
  {
   "cell_type": "markdown",
   "id": "6fcce5d5-49b2-453f-9a52-4dc0a0a98a3c",
   "metadata": {},
   "source": [
    "Looks like *Las Vegas, Nevada, USA* takes up the big most of it.\n",
    "<br>Let's check out what it looks like in percentages."
   ]
  },
  {
   "cell_type": "code",
   "execution_count": 13,
   "id": "816f9828-8f82-42cc-8c73-75c9ee57bb48",
   "metadata": {},
   "outputs": [
    {
     "data": {
      "image/png": "[encoded data removed]",
      "text/plain": [
       "<Figure size 640x480 with 1 Axes>"
      ]
     },
     "metadata": {},
     "output_type": "display_data"
    }
   ],
   "source": [
    "fig, ax = plt.subplots()\n",
    "ax.pie(pct, labels=pct.index, autopct=\"%1.1f%%\", colors=['red', 'blue'])\n",
    "ax.set_title(\"Location by total % contribution\", fontdict={'fontsize': 14})\n",
    "plt.show()"
   ]
  },
  {
   "cell_type": "markdown",
   "id": "32423a5e-1557-488a-8159-6b3faa2bfdb1",
   "metadata": {},
   "source": [
    "We can see that it, single handedly, takes 34.6% of the total events pool"
   ]
  },
  {
   "cell_type": "markdown",
   "id": "63e40568-ce92-40e8-bfd0-9ffc0a336775",
   "metadata": {},
   "source": [
    "## 2. What is the historical average amount of UFC fights hosted annually?"
   ]
  },
  {
   "cell_type": "markdown",
   "id": "e191abd5-352a-461f-b828-c918a7e957f0",
   "metadata": {},
   "source": [
    "Preparing the data for plotting. Dropping duplicates, saving only the annual data and then sorting it."
   ]
  },
  {
   "cell_type": "code",
   "execution_count": 14,
   "id": "def3907a-b522-4836-9a40-cf96c90534e2",
   "metadata": {},
   "outputs": [],
   "source": [
    "# Drop\n",
    "events_annually = df[['event_name', 'event_date']].drop_duplicates()\n",
    "events_annually['event_date'] = pd.to_datetime(events_annually['event_date'], dayfirst=True).dt.year\n",
    "events_annually_counts = events_annually['event_date'].value_counts(sort=False)"
   ]
  },
  {
   "cell_type": "markdown",
   "id": "17cf30de-6c48-4603-961f-f6ccb27d1785",
   "metadata": {},
   "source": [
    "Let's plot this:"
   ]
  },
  {
   "cell_type": "code",
   "execution_count": 15,
   "id": "90c12087-6950-4578-bbf2-2beea4e4dd2b",
   "metadata": {},
   "outputs": [
    {
     "data": {
      "image/png": "[encoded data removed]",
      "text/plain": [
       "<Figure size 1000x500 with 1 Axes>"
      ]
     },
     "metadata": {},
     "output_type": "display_data"
    }
   ],
   "source": [
    "fig, ax = plt.subplots(figsize=(10,5))\n",
    "ax.plot(events_annually_counts, marker='o')\n",
    "ax.set_title(\"UFC events per year\", fontdict={'fontsize': 14})\n",
    "ax.set_xlabel(\"Year\", fontdict={'fontsize': 12})\n",
    "ax.set_ylabel(\"Number of events\", fontdict={'fontsize': 12})\n",
    "plt.grid(True)\n",
    "\n",
    "# Starting from the earliest year, up until now, with a stepping size of 3\n",
    "ax.set_xticks(range(min(events_annually_counts.index), max(events_annually_counts.index)+1, 3))\n",
    "# Starting from 0 up until the max frequency, with a steping size of 5\n",
    "ax.set_yticks(range(0, max(events_annually_counts.values), 5))\n",
    "plt.show()"
   ]
  },
  {
   "cell_type": "markdown",
   "id": "f2dc5bd7-4b72-4f36-a4c9-78c478ffe83a",
   "metadata": {},
   "source": [
    "We can observe the following:\n",
    "* The chart starts out with initial steady growth throughout 1995-2005, fluctuating of 2-3 events on average;\n",
    "* Then we see the rapid growth phase between 2005-2014, reaching a peak in 2014;\n",
    "* After which throughout 2015-2023 it goes into relative plateau with fluctuations of 2-3 events on average;\n",
    "* 2024 is still going so we're not going to do any conclusions here just yet.\n",
    "\n",
    "**Why** the rapid, almost exponential growth in the 2005-2014 stage? Potentially due to the start of adoption of UFC as a sport and looser regulation, to know for sure, we would have to look into more data, which is out of the scope of this dataset."
   ]
  },
  {
   "cell_type": "markdown",
   "id": "f198ed22-595c-4df1-a62f-8e0a2fe19ef2",
   "metadata": {},
   "source": [
    "## 3. What are the top fight outcomes?"
   ]
  },
  {
   "cell_type": "markdown",
   "id": "1bdc6ebf-2c14-4e9a-9be8-88f9cdf28b89",
   "metadata": {},
   "source": [
    "Getting the data ready:"
   ]
  },
  {
   "cell_type": "code",
   "execution_count": 16,
   "id": "ad2bdd2e-2666-46c2-b775-c9a892b0aac9",
   "metadata": {},
   "outputs": [
    {
     "data": {
      "text/plain": [
       "method\n",
       "Decision - Unanimous       2793\n",
       "KO/TKO                     2484\n",
       "Submission                 1550\n",
       "Decision - Split            750\n",
       "TKO - Doctor's Stoppage      94\n",
       "Decision - Majority          60\n",
       "DQ                           23\n",
       "Name: count, dtype: int64"
      ]
     },
     "execution_count": 16,
     "metadata": {},
     "output_type": "execute_result"
    }
   ],
   "source": [
    "top_fight_outcomes = df['method'].value_counts()\n",
    "top_fight_outcomes"
   ]
  },
  {
   "cell_type": "markdown",
   "id": "607131ba-9335-4760-a9f7-f900491d8a89",
   "metadata": {},
   "source": [
    "Plotting it:"
   ]
  },
  {
   "cell_type": "code",
   "execution_count": 17,
   "id": "8c41e2e0-788e-494c-8ce8-c937478e7a13",
   "metadata": {},
   "outputs": [
    {
     "data": {
      "image/png": "[encoded data removed]",
      "text/plain": [
       "<Figure size 1000x500 with 1 Axes>"
      ]
     },
     "metadata": {},
     "output_type": "display_data"
    }
   ],
   "source": [
    "fig, ax = plt.subplots(figsize=(10,5))\n",
    "ax.barh(top_fight_outcomes.index, top_fight_outcomes.values, color='red')\n",
    "ax.set_title(\"Top fight result methods\", fontdict={'fontsize': 14})\n",
    "ax.set_xlabel(\"Count\", fontdict={'fontsize': 12})\n",
    "ax.set_ylabel(\"Method\", fontdict={'fontsize': 12})\n",
    "\n",
    "# X ticks (large in minor) configuration\n",
    "ax.set_xticks(range(0, max(top_fight_outcomes.values), 300))\n",
    "ax.xaxis.set_minor_locator(ticker.FixedLocator([100]))\n",
    "ax.xaxis.set_minor_formatter(ticker.FixedFormatter([100]))\n",
    "plt.show()"
   ]
  },
  {
   "cell_type": "markdown",
   "id": "b1f7ed24-f954-4225-96e5-d3f903ac9d7b",
   "metadata": {},
   "source": [
    "## 4. What are the main fight tactics contributing to a victory?"
   ]
  },
  {
   "cell_type": "markdown",
   "id": "b0c7d027-aa1d-4c6c-a70c-188821e37a51",
   "metadata": {},
   "source": [
    "## 5. Does being in a particular corner contribute to a victory?"
   ]
  },
  {
   "cell_type": "markdown",
   "id": "3a5423a5-8604-4841-ba45-0189bd00704a",
   "metadata": {},
   "source": [
    "Data:"
   ]
  },
  {
   "cell_type": "code",
   "execution_count": 18,
   "id": "18949e7a-d079-46ad-97b0-8c6ac06284a9",
   "metadata": {},
   "outputs": [],
   "source": [
    "winners_by_corner = df['winner'].value_counts()\n",
    "winners_by_corner = winners_by_corner / sum(winners_by_corner) * 100"
   ]
  },
  {
   "cell_type": "markdown",
   "id": "0d4a0f11-7b3c-4f6c-a0a4-b024b0bffcfc",
   "metadata": {},
   "source": [
    "Let's plot:"
   ]
  },
  {
   "cell_type": "code",
   "execution_count": 19,
   "id": "86f0dd36-adf6-43da-84b0-8c4e8112d8c5",
   "metadata": {},
   "outputs": [
    {
     "data": {
      "image/png": "[encoded data removed]",
      "text/plain": [
       "<Figure size 640x480 with 1 Axes>"
      ]
     },
     "metadata": {},
     "output_type": "display_data"
    }
   ],
   "source": [
    "fig, ax = plt.subplots()\n",
    "patches, texts, autotexts = ax.pie(winners_by_corner.values, autopct='%.1f%%', labels=['red_corner', 'blue_corner'], colors=['red', 'blue']\n",
    "      , textprops={'fontsize': 12, 'color': 'black'})\n",
    "\n",
    "# Changing the autotext color\n",
    "for autotext in autotexts:\n",
    "    autotext.set_color('white')\n",
    "    \n",
    "ax.set_title(\"Total % of winners in the corresponding corner\", fontdict={'fontsize': 14})\n",
    "plt.show()"
   ]
  },
  {
   "cell_type": "markdown",
   "id": "06ffa987-cc44-4c3c-a112-c1752cd13a8e",
   "metadata": {},
   "source": [
    "This is actually funny at first glance, but it turns out that red corner is given to champions, and, higher ranked fighters.\n",
    "<br>Where blue is assigned to lower ranked fighters and title challengers."
   ]
  },
  {
   "cell_type": "markdown",
   "id": "6480ead0-b441-42b2-8b42-397fc3966a10",
   "metadata": {},
   "source": [
    "## 6. What fight features contribute to the fight bonuses the most?"
   ]
  },
  {
   "cell_type": "code",
   "execution_count": null,
   "id": "df0106df-236e-4580-976d-eff92ab6d727",
   "metadata": {},
   "outputs": [],
   "source": [
    "!pip install torch"
   ]
  },
  {
   "cell_type": "code",
   "execution_count": null,
   "id": "c1ed8c2a-b541-40c7-b662-82c4b5e11a0c",
   "metadata": {},
   "outputs": [],
   "source": [
    "import torch\n",
    "\n",
    "foo = torch.tensor((2, 3, 4))\n",
    "\n",
    "foo"
   ]
  }
 ],
 "metadata": {
  "kernelspec": {
   "display_name": "Python 3 (ipykernel)",
   "language": "python",
   "name": "python3"
  },
  "language_info": {
   "codemirror_mode": {
    "name": "ipython",
    "version": 3
   },
   "file_extension": ".py",
   "mimetype": "text/x-python",
   "name": "python",
   "nbconvert_exporter": "python",
   "pygments_lexer": "ipython3",
   "version": "3.12.7"
  },
  "panel-cell-order": [
   "7758a506-c701-4b64-9d61-f6931b5f5b85",
   "111ccb8d-640d-4245-a2cf-37b3cd949a03",
   "f66fbf78-0c79-4bb4-b785-bd99dc817140",
   "5b29ca2b-92f8-4a79-88d3-73671073d5b3",
   "b8caa5e1-95ca-4a8b-b1e7-dcb0c91caa2a",
   "19ea8da2-499f-4c02-9400-dcd933121aaf",
   "6b47030d-e691-475f-b0f3-49783fe79c2e",
   "cf426bb7-e9b6-4600-a855-a38a7c9b00a1"
  ]
 },
 "nbformat": 4,
 "nbformat_minor": 5
}
