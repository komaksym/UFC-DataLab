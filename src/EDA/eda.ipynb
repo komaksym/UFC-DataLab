{
 "cells": [
  {
   "cell_type": "markdown",
   "id": "a5a49988-3875-40e3-8fb7-172704cccff0",
   "metadata": {},
   "source": [
    "# Imports"
   ]
  },
  {
   "cell_type": "code",
   "execution_count": 185,
   "id": "f1d3c09c-2aab-431f-b658-6a4c8d07edc3",
   "metadata": {},
   "outputs": [],
   "source": [
    "import re\n",
    "import numpy as np\n",
    "import pandas as pd\n",
    "import seaborn as sns\n",
    "import matplotlib.pyplot as plt\n",
    "import matplotlib.ticker as ticker"
   ]
  },
  {
   "cell_type": "markdown",
   "id": "f7453278-c897-4cbf-9c0c-bde4528ce458",
   "metadata": {},
   "source": [
    "# Loading the data"
   ]
  },
  {
   "cell_type": "code",
   "execution_count": 186,
   "id": "d20d2431-9746-4ad7-8b60-0efbc12ba566",
   "metadata": {},
   "outputs": [
    {
     "data": {
      "text/html": [
       "<div>\n",
       "<style scoped>\n",
       "    .dataframe tbody tr th:only-of-type {\n",
       "        vertical-align: middle;\n",
       "    }\n",
       "\n",
       "    .dataframe tbody tr th {\n",
       "        vertical-align: top;\n",
       "    }\n",
       "\n",
       "    .dataframe thead th {\n",
       "        text-align: right;\n",
       "    }\n",
       "</style>\n",
       "<table border=\"1\" class=\"dataframe\">\n",
       "  <thead>\n",
       "    <tr style=\"text-align: right;\">\n",
       "      <th></th>\n",
       "      <th>winner_name</th>\n",
       "      <th>loser_name</th>\n",
       "      <th>event_date</th>\n",
       "      <th>method</th>\n",
       "      <th>round</th>\n",
       "      <th>time</th>\n",
       "      <th>time_format</th>\n",
       "      <th>bout_type</th>\n",
       "      <th>event_name</th>\n",
       "      <th>event_location</th>\n",
       "      <th>...</th>\n",
       "      <th>delta_height</th>\n",
       "      <th>delta_reach</th>\n",
       "      <th>delta_slpm_cs</th>\n",
       "      <th>delta_str_acc_cs</th>\n",
       "      <th>delta_sapm_cs</th>\n",
       "      <th>delta_str_def_cs</th>\n",
       "      <th>delta_td_avg_cs</th>\n",
       "      <th>delta_td_acc_cs</th>\n",
       "      <th>delta_td_def_cs</th>\n",
       "      <th>delta_sub_avg_cs</th>\n",
       "    </tr>\n",
       "  </thead>\n",
       "  <tbody>\n",
       "    <tr>\n",
       "      <th>0</th>\n",
       "      <td>ILIA TOPURIA</td>\n",
       "      <td>MAX HOLLOWAY</td>\n",
       "      <td>26/10/2024</td>\n",
       "      <td>KO/TKO</td>\n",
       "      <td>3.0</td>\n",
       "      <td>1:34</td>\n",
       "      <td>5 Rnd (5-5-5-5-5)</td>\n",
       "      <td>UFC Featherweight Title Bout</td>\n",
       "      <td>UFC 308: Topuria vs. Holloway</td>\n",
       "      <td>Abu Dhabi, Abu Dhabi, United Arab Emirates</td>\n",
       "      <td>...</td>\n",
       "      <td>-10.16</td>\n",
       "      <td>0.00</td>\n",
       "      <td>-4.76</td>\n",
       "      <td>-1.0</td>\n",
       "      <td>-2.71</td>\n",
       "      <td>8.0</td>\n",
       "      <td>4.04</td>\n",
       "      <td>-16.0</td>\n",
       "      <td>16.0</td>\n",
       "      <td>3.9</td>\n",
       "    </tr>\n",
       "    <tr>\n",
       "      <th>1</th>\n",
       "      <td>KHAMZAT CHIMAEV</td>\n",
       "      <td>ROBERT WHITTAKER</td>\n",
       "      <td>26/10/2024</td>\n",
       "      <td>Submission</td>\n",
       "      <td>1.0</td>\n",
       "      <td>3:34</td>\n",
       "      <td>5 Rnd (5-5-5-5-5)</td>\n",
       "      <td>Middleweight Bout</td>\n",
       "      <td>UFC 308: Topuria vs. Holloway</td>\n",
       "      <td>Abu Dhabi, Abu Dhabi, United Arab Emirates</td>\n",
       "      <td>...</td>\n",
       "      <td>5.08</td>\n",
       "      <td>5.08</td>\n",
       "      <td>4.51</td>\n",
       "      <td>32.0</td>\n",
       "      <td>-3.34</td>\n",
       "      <td>6.0</td>\n",
       "      <td>4.24</td>\n",
       "      <td>48.0</td>\n",
       "      <td>-84.0</td>\n",
       "      <td>3.1</td>\n",
       "    </tr>\n",
       "    <tr>\n",
       "      <th>2</th>\n",
       "      <td>MAGOMED ANKALAEV</td>\n",
       "      <td>ALEKSANDAR RAKIC</td>\n",
       "      <td>26/10/2024</td>\n",
       "      <td>Decision - Unanimous</td>\n",
       "      <td>3.0</td>\n",
       "      <td>5:00</td>\n",
       "      <td>3 Rnd (5-5-5)</td>\n",
       "      <td>Light Heavyweight Bout</td>\n",
       "      <td>UFC 308: Topuria vs. Holloway</td>\n",
       "      <td>Abu Dhabi, Abu Dhabi, United Arab Emirates</td>\n",
       "      <td>...</td>\n",
       "      <td>-2.54</td>\n",
       "      <td>-7.62</td>\n",
       "      <td>-0.82</td>\n",
       "      <td>1.0</td>\n",
       "      <td>-0.45</td>\n",
       "      <td>13.0</td>\n",
       "      <td>0.43</td>\n",
       "      <td>8.0</td>\n",
       "      <td>-5.0</td>\n",
       "      <td>-0.2</td>\n",
       "    </tr>\n",
       "    <tr>\n",
       "      <th>3</th>\n",
       "      <td>LERONE MURPHY</td>\n",
       "      <td>DAN IGE</td>\n",
       "      <td>26/10/2024</td>\n",
       "      <td>Decision - Unanimous</td>\n",
       "      <td>3.0</td>\n",
       "      <td>5:00</td>\n",
       "      <td>3 Rnd (5-5-5)</td>\n",
       "      <td>Featherweight Bout</td>\n",
       "      <td>UFC 308: Topuria vs. Holloway</td>\n",
       "      <td>Abu Dhabi, Abu Dhabi, United Arab Emirates</td>\n",
       "      <td>...</td>\n",
       "      <td>5.08</td>\n",
       "      <td>5.08</td>\n",
       "      <td>-1.09</td>\n",
       "      <td>-4.0</td>\n",
       "      <td>-1.29</td>\n",
       "      <td>5.0</td>\n",
       "      <td>-0.81</td>\n",
       "      <td>6.0</td>\n",
       "      <td>-18.0</td>\n",
       "      <td>0.4</td>\n",
       "    </tr>\n",
       "    <tr>\n",
       "      <th>4</th>\n",
       "      <td>SHARA MAGOMEDOV</td>\n",
       "      <td>ARMEN PETROSYAN</td>\n",
       "      <td>26/10/2024</td>\n",
       "      <td>KO/TKO</td>\n",
       "      <td>2.0</td>\n",
       "      <td>4:52</td>\n",
       "      <td>3 Rnd (5-5-5)</td>\n",
       "      <td>Middleweight Bout</td>\n",
       "      <td>UFC 308: Topuria vs. Holloway</td>\n",
       "      <td>Abu Dhabi, Abu Dhabi, United Arab Emirates</td>\n",
       "      <td>...</td>\n",
       "      <td>NaN</td>\n",
       "      <td>NaN</td>\n",
       "      <td>NaN</td>\n",
       "      <td>NaN</td>\n",
       "      <td>NaN</td>\n",
       "      <td>NaN</td>\n",
       "      <td>NaN</td>\n",
       "      <td>NaN</td>\n",
       "      <td>NaN</td>\n",
       "      <td>NaN</td>\n",
       "    </tr>\n",
       "  </tbody>\n",
       "</table>\n",
       "<p>5 rows × 42 columns</p>\n",
       "</div>"
      ],
      "text/plain": [
       "        winner_name        loser_name  event_date                method  \\\n",
       "0      ILIA TOPURIA      MAX HOLLOWAY  26/10/2024                KO/TKO   \n",
       "1   KHAMZAT CHIMAEV  ROBERT WHITTAKER  26/10/2024            Submission   \n",
       "2  MAGOMED ANKALAEV  ALEKSANDAR RAKIC  26/10/2024  Decision - Unanimous   \n",
       "3     LERONE MURPHY           DAN IGE  26/10/2024  Decision - Unanimous   \n",
       "4   SHARA MAGOMEDOV   ARMEN PETROSYAN  26/10/2024                KO/TKO   \n",
       "\n",
       "   round  time        time_format                     bout_type  \\\n",
       "0    3.0  1:34  5 Rnd (5-5-5-5-5)  UFC Featherweight Title Bout   \n",
       "1    1.0  3:34  5 Rnd (5-5-5-5-5)             Middleweight Bout   \n",
       "2    3.0  5:00      3 Rnd (5-5-5)        Light Heavyweight Bout   \n",
       "3    3.0  5:00      3 Rnd (5-5-5)            Featherweight Bout   \n",
       "4    2.0  4:52      3 Rnd (5-5-5)             Middleweight Bout   \n",
       "\n",
       "                      event_name                              event_location  \\\n",
       "0  UFC 308: Topuria vs. Holloway  Abu Dhabi, Abu Dhabi, United Arab Emirates   \n",
       "1  UFC 308: Topuria vs. Holloway  Abu Dhabi, Abu Dhabi, United Arab Emirates   \n",
       "2  UFC 308: Topuria vs. Holloway  Abu Dhabi, Abu Dhabi, United Arab Emirates   \n",
       "3  UFC 308: Topuria vs. Holloway  Abu Dhabi, Abu Dhabi, United Arab Emirates   \n",
       "4  UFC 308: Topuria vs. Holloway  Abu Dhabi, Abu Dhabi, United Arab Emirates   \n",
       "\n",
       "   ... delta_height delta_reach delta_slpm_cs  delta_str_acc_cs  \\\n",
       "0  ...       -10.16        0.00         -4.76              -1.0   \n",
       "1  ...         5.08        5.08          4.51              32.0   \n",
       "2  ...        -2.54       -7.62         -0.82               1.0   \n",
       "3  ...         5.08        5.08         -1.09              -4.0   \n",
       "4  ...          NaN         NaN           NaN               NaN   \n",
       "\n",
       "   delta_sapm_cs  delta_str_def_cs  delta_td_avg_cs  delta_td_acc_cs  \\\n",
       "0          -2.71               8.0             4.04            -16.0   \n",
       "1          -3.34               6.0             4.24             48.0   \n",
       "2          -0.45              13.0             0.43              8.0   \n",
       "3          -1.29               5.0            -0.81              6.0   \n",
       "4            NaN               NaN              NaN              NaN   \n",
       "\n",
       "   delta_td_def_cs  delta_sub_avg_cs  \n",
       "0             16.0               3.9  \n",
       "1            -84.0               3.1  \n",
       "2             -5.0              -0.2  \n",
       "3            -18.0               0.4  \n",
       "4              NaN               NaN  \n",
       "\n",
       "[5 rows x 42 columns]"
      ]
     },
     "execution_count": 186,
     "metadata": {},
     "output_type": "execute_result"
    }
   ],
   "source": [
    "df = pd.read_csv(\"../../data/stats/stats_processed.csv\", sep=';')\n",
    "df.head(5)"
   ]
  },
  {
   "cell_type": "markdown",
   "id": "43f7acd0-eecb-4787-9723-0b3e40a3ced3",
   "metadata": {},
   "source": [
    "# Explaining features"
   ]
  },
  {
   "cell_type": "markdown",
   "id": "50a2cc9a-6f58-49f7-9789-33ccbe8b1ade",
   "metadata": {},
   "source": [
    "The features (columns) break down into 2 categories:\n",
    "* **Categorical features**: Categorical features contain general fight/athlete data like: Fighters' names, nicknames, date of the event, location, number of rounds, time format, etc. Categorical features do not start with prefix `delta`, i.e. all numerical features start with prefix `delta`, the rest are categorical.\n",
    "* **Numerical features**: These features contain all possible statistical details of the fight. Some of these are: The number of strikes landed, the number of significant strikes landed, the number of submissions attempted, the percentage ratio of the strikes that were landed to the head, the percentage ratio of the strikes that were landed in clinch position, etc. The numerical features, as already mentioned, can be identified by their prefix `delta`."
   ]
  },
  {
   "cell_type": "markdown",
   "id": "2f12edfb-8f59-4861-a3b6-e7e8c31e4110",
   "metadata": {},
   "source": [
    "**Note:** Delta features can be interpreted as follows:<br>\n",
    "`Delta` - is the difference between two values or metrics, often used to quantify change between different groups.<br>\n",
    "So in our case `delta_feature_x` is the difference between **the winner's** `feature_x` and **the loser's** `feature_x`. <br><br>For example: <br>\n",
    "There's `winner_total_strikes_landed` and `loser_total_strikes_landed`.<br>\n",
    "> `delta_total_strikes_landed` = `winner_total_strikes_landed` - `loser_total_strikes_landed`. <br>"
   ]
  },
  {
   "cell_type": "markdown",
   "id": "936cb38c-8fad-4df2-92a0-2bf1a2940118",
   "metadata": {},
   "source": [
    "If the value of delta is *positive*, that means the **winner's** performance in that partical feature is **higher**, if the value is *negative*, it means the winner's contribution in that feature was lower compared to loser's, if it *equals 0*, it means the contribution from the winner and loser was **equal**."
   ]
  },
  {
   "cell_type": "markdown",
   "id": "fe99e192-3e0c-4168-b214-cff0559c05d9",
   "metadata": {},
   "source": [
    "* `winner_name`          - The name of the winner of the fight: ('ILIA TOPURIA', 'KHAMZAT CHIMAEV', etc.)\n",
    "* `loser_name`           - The name of the loser of the fight: ('LERONE MURPHY', 'GEOFF NEAL', etc.)\n",
    "* `event_date`           - The date of when event took place: ('26/10/2024', '19/10/2024', etc.)\n",
    "* `winner_nickname`      - The nickname of the winner of the fight: ('El Matador', 'Borz', etc.)\n",
    "* `loser_nickname`       - The nickname of the loser of the fight: ('Blessed', 'The Reaper', etc.)\n",
    "* `method`               - The method of victory: ('KO/TKO', 'Submission', Decision - Unanimous', 'Decision - Split', etc.)\n",
    "* `round`                - The round in which the victory was gained: ('3', '5', '1', etc.)\n",
    "* `time`                 - The time of the round in which the victory was gained: ('1:34', '3:34', etc.)\n",
    "* `time_format`          - Time format of the fight and how many rounds: ('5 Rnd (5-5-5-5-5)', '3 Rnd (5-5-5)', etc.)\n",
    "* `referee`              - The name of the referee: ('Marc Goddard', 'Jason Herzog', etc.)\n",
    "* `details`              - The details of the victory: ('Punch to Head At Distance', 'Rear Naked Choke', scorecards, etc.)\n",
    "* `bout_type`            - Bout type: ('UFC Featherweight Title Bout', 'Middleweight Bout', 'Light Heavyweight Bout', etc.)\n",
    "* `bonus`                - The bonus that the fight got: ('Performance of the night', 'knockout of the night', etc.)\n",
    "* `event_name`           - The name of the event: ('UFC 308: Topuria vs. Holloway', 'UFC Fight Night: Hernandez vs. Pereira')\n",
    "* `event_location`       - The location of the event: ('Las Vegas, Nevada, USA', 'Paris, Ile-de-France, France', etc)\n",
    "* `winner_stance`        - Winner's fighting stance: ('Orthodox', 'Southpaw', etc.)\n",
    "* `loser_stance`         - Loser's fighting stance: ('Switch', 'Southpaw', etc.)\n",
    "* `winner`               - The fighter of which corner won: ('Red', 'Blue', etc.)\n",
    "* `delta_KD`             - The delta difference in landed Knockdowns by strikes: (1,  0, -1)\n",
    "* `delta_sig_str_pct`    - The delta difference in landed significant strikes in %: (14, -25,  3,)\n",
    "* `delta_total_str_pct`  - The delta difference in landed total strikes in %: (significant and insignificant) : (14, -25,  3,)\n",
    "* `delta_TD_pct`         - The delta difference in landed takedowns in %: (14, -25,  3,)\n",
    "* `delta_sub_att`        - The delta difference in submission attempts: \n",
    "* `delta_rev`            - The delta difference in wrestling reversals (where a fighter reverses a disadvantageous position into advantageous). \n",
    "* `delta_ctrl`           - The delta difference in the fighter's control of the fight, in seconds\n",
    "* `delta_sig_str_head_acc_pct` - The delta difference in accuracy (fraction of landed out of the total thrown) of landing significant strikes to the head in %\n",
    "* `delta_sig_str_body_acc_pct` - The delta difference in accuracy (fraction of landed out of the total thrown) of landing significant strikes to the body in %\n",
    "* `delta_sig_str_leg_acc_pct`  - The delta difference in accuracy (fraction of landed out of the total thrown) of landing significant strikes to the leg in %\n",
    "* `delta_sig_str_distance_acc_pct` - The delta difference in accuracy (fraction of landed out of the total thrown) of landing significant strikes from the distance in % \n",
    "* `delta_sig_str_clinch_acc_pct` - The delta difference in accuracy (fraction of landed out of the total thrown) of landing significant strikes from the clinch in % \n",
    "* `delta_sig_str_ground_acc_pct` - The delta difference in accuracy (fraction of landed out of the total thrown) of landing significant strikes from the ground in % \n",
    "* `delta_sig_str_head_tar_pct` - The delta difference in contribution (fraction of strikes that were landed on the specified target out of the total 100% pool of 3 possible targets: head, body, legs) of significant strikes to the head in %\n",
    "* `delta_sig_str_body_tar_pct` - The delta difference in contribution (fraction of strikes that were landed on the specified target out of the total 100% pool of 3 possible targets: head, body, legs) of significant strikes to the body in %\n",
    "* `delta_sig_str_leg_tar_pct` - The delta difference in contribution (fraction of strikes that were landed on the specified target out of the total 100% pool of 3 possible targets: head, body, legs) of significant strikes to the leg in %\n",
    "* `delta_sig_str_distance_pos_pct` - The delta difference in contribution (fraction of strikes that were landed from the specified position out of the total 100% pool of 3 possible positions: distance, clinch, ground) of significant strikes from the distance in %\n",
    "* `delta_sig_str_clinch_pos_pct` - The delta difference in contribution (fraction of strikes that were landed from the specified position out of the total 100% pool of 3 possible positions: distance, clinch, ground) of significant strikes from clinch in %\n",
    "* `delta_sig_str_ground_pos_pct` - The delta difference in contribution (fraction of strikes that were landed from the specified position out of the total 100% pool of 3 possible positions: distance, clinch, ground) of significant strikes from the ground in %\n",
    "* `delta_height` - The delta difference in fighters' height\n",
    "* `delta_reach` - The delta difference in fighters' arms reach\n",
    "* `delta_slpm_cs` - The delta difference in fighters' total career statistic (computed from all fights) Significant Strikes Landed per Minute\n",
    "* `delta_str_acc_cs` - The delta difference in fighters' total career statistic (computed from all fights) Significant Striking Accuracy\n",
    "* `delta_sapm_cs` - The delta difference in fighters' total career statistic (computed from all fights) Significant Strikes Absorbed per Minute\n",
    "* `delta_str_def_cs` - The delta difference in fighters' total career statistic (computed from all fights) Significant Strike Defence (the % of opponents' strikes that did not land)\n",
    "* `delta_td_avg_cs` - The delta difference in fighters' total career statistic (computed from all fights) Average Takedowns Landed per 15 minutes\n",
    "* `delta_td_acc_cs` - The delta difference in fighters' total career statistic (computed from all fights) Takedown Accuracy\n",
    "* `delta_td_def_cs` - The delta difference in fighters' total career statistic (computed from all fights) Takedown Defense (the % of opponents' TD attempts that did not land)\n",
    "* `delta_sub_avg_cs` - The delta difference in fighters' total career statistic (computed from all fights) Average Submissions Attempted per 15 minutes\n",
    "* `delta_striking_dominance` - The delta difference in fighters' striking dominance (number of knockdowns + number of significant strikes landed + number of total strikes landed\n",
    "* `delta_wrestling_dominance` - The delta difference in fighters' wrestling dominance (number of takedowns landed + number of submission attempts + number of reversals)"
   ]
  },
  {
   "cell_type": "markdown",
   "id": "9eb36477-5c83-4c6b-a549-3e6ad9162d43",
   "metadata": {},
   "source": [
    "# Table of contents\n",
    "- [Establishing Questions](#Establishing-questions)\n",
    "- [Data Preprocessing](#Data-preprocessing)\n",
    "- [Data Cleaning](#Data-Cleaning)\n",
    "  - [NaN values](#NaN-values)\n",
    "  - [Duplicates](#Duplicates)\n",
    "- [Feature Enginering](#Feature-Engineering)\n",
    "    - [Standardizing Features](#Standardizing-Features)\n",
    "    - [Dropping Redundant Features](#Dropping-Redundant-Features)\n",
    "    - [Converting Dtypes](#Converting-Dtypes)\n",
    "    - [Engineering New Features](#Engineering-New-Features)\n",
    "- [EDA](#EDA)\n",
    "    - [1. What are the most popular locations where UFC hosts its events?](#1.-What-are-the-most-popular-locations-where-UFC-hosts-its-events?)\n",
    "    - [2. What is the historical average amount of UFC fights hosted annually?](#2.-What-is-the-historical-average-amount-of-UFC-fights-hosted-annually?)\n",
    "    - [3. What are the top fight outcomes?](#3.-What-are-the-top-fight-outcomes?)\n",
    "    - [4. Does being in a particular corner contribute to a victory?](#4.-Does-being-in-a-particular-corner-contribute-to-a-victory?)\n",
    "    - [5. What are the main fight tactics contributing to a victory?](#5.-What-are-the-main-fight-tactics-contributing-to-a-victory?)\n",
    "- [Answering questions](#Answering-questions)\n",
    "    - [Questions](#Questions)\n",
    "    - [Answers](#Answers)"
   ]
  },
  {
   "cell_type": "markdown",
   "id": "5cfdd218-288f-466e-bbfd-4122a266abf5",
   "metadata": {
    "panel-layout": {
     "height": 60.616668701171875,
     "visible": true,
     "width": 100
    }
   },
   "source": [
    "# Establishing questions"
   ]
  },
  {
   "cell_type": "markdown",
   "id": "f47e297d-70da-4f6f-aba6-f786ed7ebe5f",
   "metadata": {
    "panel-layout": {
     "height": 163.9666748046875,
     "visible": true,
     "width": 100
    }
   },
   "source": [
    "### Here are a few questions I want to be answered by the end of this notebook:\n",
    "1. What are the most popular locations where UFC hosts its events?\n",
    "2. What is the historical average amount of UFC events hosted annually?\n",
    "3. What are the top fight outcomes?\n",
    "4. Does being in a particular corner contribute to a victory?\n",
    "5. Do any specific physical characteristics (like height, reach, etc.) contribute to a victory?\n",
    "6. What are the main fight tactics contributing to a victory?\n",
    "7. Based on the findings, can we use the information to bet on a fighter?"
   ]
  },
  {
   "cell_type": "markdown",
   "id": "20cb9d44-3ca6-491e-83eb-08107d0db676",
   "metadata": {},
   "source": [
    "# EDA"
   ]
  },
  {
   "cell_type": "markdown",
   "id": "3b82609e-c1be-49ca-8da6-73c6eb7cf935",
   "metadata": {},
   "source": [
    "## 1. What are the most popular locations where UFC hosts its events?"
   ]
  },
  {
   "cell_type": "markdown",
   "id": "5499982f-55a5-44cf-a91e-5c3d8dd2f79d",
   "metadata": {},
   "source": [
    "### Top countries by # of UFC events"
   ]
  },
  {
   "cell_type": "markdown",
   "id": "9c16a7fe-b168-458f-82b3-57c5733c3556",
   "metadata": {},
   "source": [
    "Preparing the data:"
   ]
  },
  {
   "cell_type": "code",
   "execution_count": 187,
   "id": "0851f043-c66b-49fc-ab02-87f2a74c293d",
   "metadata": {},
   "outputs": [
    {
     "data": {
      "text/html": [
       "<div>\n",
       "<style scoped>\n",
       "    .dataframe tbody tr th:only-of-type {\n",
       "        vertical-align: middle;\n",
       "    }\n",
       "\n",
       "    .dataframe tbody tr th {\n",
       "        vertical-align: top;\n",
       "    }\n",
       "\n",
       "    .dataframe thead th {\n",
       "        text-align: right;\n",
       "    }\n",
       "</style>\n",
       "<table border=\"1\" class=\"dataframe\">\n",
       "  <thead>\n",
       "    <tr style=\"text-align: right;\">\n",
       "      <th></th>\n",
       "      <th>event_location</th>\n",
       "      <th>num_of_events</th>\n",
       "      <th>country</th>\n",
       "    </tr>\n",
       "  </thead>\n",
       "  <tbody>\n",
       "    <tr>\n",
       "      <th>0</th>\n",
       "      <td>Las Vegas, Nevada, USA</td>\n",
       "      <td>245</td>\n",
       "      <td>USA</td>\n",
       "    </tr>\n",
       "    <tr>\n",
       "      <th>1</th>\n",
       "      <td>Abu Dhabi, Abu Dhabi, United Arab Emirates</td>\n",
       "      <td>18</td>\n",
       "      <td>United Arab Emirates</td>\n",
       "    </tr>\n",
       "    <tr>\n",
       "      <th>2</th>\n",
       "      <td>London, England, United Kingdom</td>\n",
       "      <td>15</td>\n",
       "      <td>United Kingdom</td>\n",
       "    </tr>\n",
       "    <tr>\n",
       "      <th>3</th>\n",
       "      <td>Anaheim, California, USA</td>\n",
       "      <td>10</td>\n",
       "      <td>USA</td>\n",
       "    </tr>\n",
       "    <tr>\n",
       "      <th>4</th>\n",
       "      <td>Atlantic City, New Jersey, USA</td>\n",
       "      <td>10</td>\n",
       "      <td>USA</td>\n",
       "    </tr>\n",
       "  </tbody>\n",
       "</table>\n",
       "</div>"
      ],
      "text/plain": [
       "                               event_location  num_of_events  \\\n",
       "0                      Las Vegas, Nevada, USA            245   \n",
       "1  Abu Dhabi, Abu Dhabi, United Arab Emirates             18   \n",
       "2             London, England, United Kingdom             15   \n",
       "3                    Anaheim, California, USA             10   \n",
       "4              Atlantic City, New Jersey, USA             10   \n",
       "\n",
       "                country  \n",
       "0                   USA  \n",
       "1  United Arab Emirates  \n",
       "2        United Kingdom  \n",
       "3                   USA  \n",
       "4                   USA  "
      ]
     },
     "execution_count": 187,
     "metadata": {},
     "output_type": "execute_result"
    }
   ],
   "source": [
    "# Dropping duplicates to keep only one event per date\n",
    "events = df[['event_name', 'event_location']].drop_duplicates()\n",
    "\n",
    "# Getting the location counts\n",
    "counts = events['event_location'].value_counts()\n",
    "\n",
    "# Make 'event_location' a column and rename the 'count' column to 'num_of_events'\n",
    "top_locations = counts.reset_index().rename(columns={'count': 'num_of_events'})\n",
    "top_locations['country'] = top_locations['event_location'].apply(lambda x: x.split(',')[-1].strip())\n",
    "top_locations.head()"
   ]
  },
  {
   "cell_type": "code",
   "execution_count": 188,
   "id": "fea653fd-7ea2-4976-8e67-2d93fbb88fc4",
   "metadata": {},
   "outputs": [
    {
     "data": {
      "text/html": [
       "<div>\n",
       "<style scoped>\n",
       "    .dataframe tbody tr th:only-of-type {\n",
       "        vertical-align: middle;\n",
       "    }\n",
       "\n",
       "    .dataframe tbody tr th {\n",
       "        vertical-align: top;\n",
       "    }\n",
       "\n",
       "    .dataframe thead th {\n",
       "        text-align: right;\n",
       "    }\n",
       "</style>\n",
       "<table border=\"1\" class=\"dataframe\">\n",
       "  <thead>\n",
       "    <tr style=\"text-align: right;\">\n",
       "      <th></th>\n",
       "      <th>country</th>\n",
       "      <th>num_of_events</th>\n",
       "    </tr>\n",
       "  </thead>\n",
       "  <tbody>\n",
       "    <tr>\n",
       "      <th>0</th>\n",
       "      <td>USA</td>\n",
       "      <td>502</td>\n",
       "    </tr>\n",
       "    <tr>\n",
       "      <th>1</th>\n",
       "      <td>Brazil</td>\n",
       "      <td>40</td>\n",
       "    </tr>\n",
       "    <tr>\n",
       "      <th>2</th>\n",
       "      <td>Canada</td>\n",
       "      <td>33</td>\n",
       "    </tr>\n",
       "    <tr>\n",
       "      <th>3</th>\n",
       "      <td>United Kingdom</td>\n",
       "      <td>29</td>\n",
       "    </tr>\n",
       "    <tr>\n",
       "      <th>4</th>\n",
       "      <td>United Arab Emirates</td>\n",
       "      <td>20</td>\n",
       "    </tr>\n",
       "  </tbody>\n",
       "</table>\n",
       "</div>"
      ],
      "text/plain": [
       "                country  num_of_events\n",
       "0                   USA            502\n",
       "1                Brazil             40\n",
       "2                Canada             33\n",
       "3        United Kingdom             29\n",
       "4  United Arab Emirates             20"
      ]
     },
     "execution_count": 188,
     "metadata": {},
     "output_type": "execute_result"
    }
   ],
   "source": [
    "top_countries = top_locations.copy()\n",
    "# Sum by countries\n",
    "top_countries = top_countries.groupby('country').sum().sort_values(by='num_of_events', ascending=False).reset_index()\n",
    "# Drop column to keep it clean\n",
    "top_countries.drop(columns=[\"event_location\"], inplace=True)\n",
    "top_countries.head()"
   ]
  },
  {
   "cell_type": "markdown",
   "id": "a3e405df-4f66-4666-93d7-4506cb6f7326",
   "metadata": {},
   "source": [
    "Add ISO3 country codes for plotting in choropleth:"
   ]
  },
  {
   "cell_type": "code",
   "execution_count": 189,
   "id": "b0912b30-4676-4b4c-8890-0e5c0bd204f8",
   "metadata": {},
   "outputs": [
    {
     "data": {
      "text/html": [
       "<div>\n",
       "<style scoped>\n",
       "    .dataframe tbody tr th:only-of-type {\n",
       "        vertical-align: middle;\n",
       "    }\n",
       "\n",
       "    .dataframe tbody tr th {\n",
       "        vertical-align: top;\n",
       "    }\n",
       "\n",
       "    .dataframe thead th {\n",
       "        text-align: right;\n",
       "    }\n",
       "</style>\n",
       "<table border=\"1\" class=\"dataframe\">\n",
       "  <thead>\n",
       "    <tr style=\"text-align: right;\">\n",
       "      <th></th>\n",
       "      <th>country</th>\n",
       "      <th>iso_alpha</th>\n",
       "      <th>num_of_events</th>\n",
       "    </tr>\n",
       "  </thead>\n",
       "  <tbody>\n",
       "    <tr>\n",
       "      <th>0</th>\n",
       "      <td>USA</td>\n",
       "      <td>USA</td>\n",
       "      <td>502</td>\n",
       "    </tr>\n",
       "    <tr>\n",
       "      <th>1</th>\n",
       "      <td>Brazil</td>\n",
       "      <td>BRA</td>\n",
       "      <td>40</td>\n",
       "    </tr>\n",
       "    <tr>\n",
       "      <th>2</th>\n",
       "      <td>Canada</td>\n",
       "      <td>CAN</td>\n",
       "      <td>33</td>\n",
       "    </tr>\n",
       "    <tr>\n",
       "      <th>3</th>\n",
       "      <td>United Kingdom</td>\n",
       "      <td>GBR</td>\n",
       "      <td>29</td>\n",
       "    </tr>\n",
       "    <tr>\n",
       "      <th>4</th>\n",
       "      <td>United Arab Emirates</td>\n",
       "      <td>ARE</td>\n",
       "      <td>20</td>\n",
       "    </tr>\n",
       "  </tbody>\n",
       "</table>\n",
       "</div>"
      ],
      "text/plain": [
       "                country iso_alpha  num_of_events\n",
       "0                   USA       USA            502\n",
       "1                Brazil       BRA             40\n",
       "2                Canada       CAN             33\n",
       "3        United Kingdom       GBR             29\n",
       "4  United Arab Emirates       ARE             20"
      ]
     },
     "execution_count": 189,
     "metadata": {},
     "output_type": "execute_result"
    }
   ],
   "source": [
    "import country_converter as coco\n",
    "cc = coco.CountryConverter()\n",
    "\n",
    "# Convert countries to ISO alpha-3 format\n",
    "top_countries['iso_alpha'] = cc.pandas_convert(series=top_countries['country'], to='ISO3')\n",
    "\n",
    "# Change column positions\n",
    "top_countries = top_countries.iloc[:, [0, 2, 1]]\n",
    "top_countries.head()"
   ]
  },
  {
   "cell_type": "markdown",
   "id": "b4255805-a48b-4847-9c64-7e129c6ef175",
   "metadata": {},
   "source": [
    "Let's add log scaled version of the counts, as the range between the top1 and top 2 is huge and the choropleth gradient color is going to eat away all of the empty 40 - 500 range:"
   ]
  },
  {
   "cell_type": "code",
   "execution_count": 190,
   "id": "85a43ad2-8ed1-4f40-8402-a3240c1755ad",
   "metadata": {},
   "outputs": [
    {
     "data": {
      "text/html": [
       "<div>\n",
       "<style scoped>\n",
       "    .dataframe tbody tr th:only-of-type {\n",
       "        vertical-align: middle;\n",
       "    }\n",
       "\n",
       "    .dataframe tbody tr th {\n",
       "        vertical-align: top;\n",
       "    }\n",
       "\n",
       "    .dataframe thead th {\n",
       "        text-align: right;\n",
       "    }\n",
       "</style>\n",
       "<table border=\"1\" class=\"dataframe\">\n",
       "  <thead>\n",
       "    <tr style=\"text-align: right;\">\n",
       "      <th></th>\n",
       "      <th>country</th>\n",
       "      <th>iso_alpha</th>\n",
       "      <th>num_of_events</th>\n",
       "      <th>log_num_of_events</th>\n",
       "    </tr>\n",
       "  </thead>\n",
       "  <tbody>\n",
       "    <tr>\n",
       "      <th>0</th>\n",
       "      <td>USA</td>\n",
       "      <td>USA</td>\n",
       "      <td>502</td>\n",
       "      <td>6.218600</td>\n",
       "    </tr>\n",
       "    <tr>\n",
       "      <th>1</th>\n",
       "      <td>Brazil</td>\n",
       "      <td>BRA</td>\n",
       "      <td>40</td>\n",
       "      <td>3.688879</td>\n",
       "    </tr>\n",
       "    <tr>\n",
       "      <th>2</th>\n",
       "      <td>Canada</td>\n",
       "      <td>CAN</td>\n",
       "      <td>33</td>\n",
       "      <td>3.496508</td>\n",
       "    </tr>\n",
       "    <tr>\n",
       "      <th>3</th>\n",
       "      <td>United Kingdom</td>\n",
       "      <td>GBR</td>\n",
       "      <td>29</td>\n",
       "      <td>3.367296</td>\n",
       "    </tr>\n",
       "    <tr>\n",
       "      <th>4</th>\n",
       "      <td>United Arab Emirates</td>\n",
       "      <td>ARE</td>\n",
       "      <td>20</td>\n",
       "      <td>2.995732</td>\n",
       "    </tr>\n",
       "  </tbody>\n",
       "</table>\n",
       "</div>"
      ],
      "text/plain": [
       "                country iso_alpha  num_of_events  log_num_of_events\n",
       "0                   USA       USA            502           6.218600\n",
       "1                Brazil       BRA             40           3.688879\n",
       "2                Canada       CAN             33           3.496508\n",
       "3        United Kingdom       GBR             29           3.367296\n",
       "4  United Arab Emirates       ARE             20           2.995732"
      ]
     },
     "execution_count": 190,
     "metadata": {},
     "output_type": "execute_result"
    }
   ],
   "source": [
    "top_countries['log_num_of_events'] = np.log(top_countries['num_of_events'])\n",
    "top_countries.head()"
   ]
  },
  {
   "cell_type": "markdown",
   "id": "cedae3ce-60aa-4d46-b345-9e939bf1e8ee",
   "metadata": {},
   "source": [
    "Plotting:"
   ]
  },
  {
   "cell_type": "markdown",
   "id": "7efd7850-93d1-44bc-82a5-8ea30a502156",
   "metadata": {},
   "source": [
    "### Top countries by the number of UFC events on their soil (log-scaled)"
   ]
  },
  {
   "cell_type": "markdown",
   "id": "50d1c161-34cb-4cbe-bc1e-06c36ffa7a4c",
   "metadata": {},
   "source": [
    "We will add the log-scaled version of the `num_of_events` feature, as the deviation from the max value *(USA, **501**)* to the rest of the data *(Others, **1-40**)* is extremely large which would lead to choropleth stretching the color scale too much and that would make all of the other (non-USA) countries effectively the same color."
   ]
  },
  {
   "cell_type": "code",
   "execution_count": 191,
   "id": "7a548178-64ba-4cb1-bc9d-e70d21ce3c5c",
   "metadata": {},
   "outputs": [
    {
     "data": {
      "application/vnd.plotly.v1+json": {
       "config": {
        "plotlyServerURL": "https://plot.ly"
       },
       "data": [
        {
         "coloraxis": "coloraxis",
         "geo": "geo",
         "hovertemplate": "<b>%{hovertext}</b><br><br>iso_alpha=%{location}<br>log_num_of_events=%{z}<extra></extra>",
         "hovertext": [
          "USA",
          "Brazil",
          "Canada",
          "United Kingdom",
          "United Arab Emirates",
          "Australia",
          "Japan",
          "Mexico",
          "Germany",
          "China",
          "Sweden",
          "Singapore",
          "New Zealand",
          "Russia",
          "Ireland",
          "France",
          "South Korea",
          "Poland",
          "Netherlands",
          "Saudi Arabia",
          "Argentina",
          "Puerto Rico",
          "Philippines",
          "Denmark",
          "Czech Republic",
          "Croatia",
          "Chile",
          "Uruguay"
         ],
         "locations": [
          "USA",
          "BRA",
          "CAN",
          "GBR",
          "ARE",
          "AUS",
          "JPN",
          "MEX",
          "DEU",
          "CHN",
          "SWE",
          "SGP",
          "NZL",
          "RUS",
          "IRL",
          "FRA",
          "KOR",
          "POL",
          "NLD",
          "SAU",
          "ARG",
          "PRI",
          "PHL",
          "DNK",
          "CZE",
          "HRV",
          "CHL",
          "URY"
         ],
         "name": "",
         "type": "choropleth",
         "z": {
          "bdata": "IOmztdjfGEANcjI704INQNG41fTY+AtAH/7NyzjwCkCR43N7QvcHQIaRazp7HwdACwOteuqTAUBXWjKuciL/PwIgKvoLq/w/AiAq+gur/D8CICr6C6v8PwIgKvoLq/w/CwOteuqT8T8LA6166pPxPwsDrXrqk/E/CwOteuqT8T/vOfr+Qi7mP+85+v5CLuY/7zn6/kIu5j8AAAAAAAAAAAAAAAAAAAAAAAAAAAAAAAAAAAAAAAAAAAAAAAAAAAAAAAAAAAAAAAAAAAAAAAAAAAAAAAAAAAAAAAAAAAAAAAA=",
          "dtype": "f8"
         }
        }
       ],
       "layout": {
        "coloraxis": {
         "colorbar": {
          "title": {
           "text": "log_num_of_events"
          }
         },
         "colorscale": [
          [
           0,
           "#0d0887"
          ],
          [
           0.1111111111111111,
           "#46039f"
          ],
          [
           0.2222222222222222,
           "#7201a8"
          ],
          [
           0.3333333333333333,
           "#9c179e"
          ],
          [
           0.4444444444444444,
           "#bd3786"
          ],
          [
           0.5555555555555556,
           "#d8576b"
          ],
          [
           0.6666666666666666,
           "#ed7953"
          ],
          [
           0.7777777777777778,
           "#fb9f3a"
          ],
          [
           0.8888888888888888,
           "#fdca26"
          ],
          [
           1,
           "#f0f921"
          ]
         ]
        },
        "geo": {
         "center": {},
         "domain": {
          "x": [
           0,
           1
          ],
          "y": [
           0,
           1
          ]
         },
         "showcountries": true
        },
        "height": 500,
        "legend": {
         "tracegroupgap": 0
        },
        "margin": {
         "b": 30,
         "l": 30,
         "r": 30,
         "t": 80
        },
        "template": {
         "data": {
          "bar": [
           {
            "error_x": {
             "color": "#2a3f5f"
            },
            "error_y": {
             "color": "#2a3f5f"
            },
            "marker": {
             "line": {
              "color": "#E5ECF6",
              "width": 0.5
             },
             "pattern": {
              "fillmode": "overlay",
              "size": 10,
              "solidity": 0.2
             }
            },
            "type": "bar"
           }
          ],
          "barpolar": [
           {
            "marker": {
             "line": {
              "color": "#E5ECF6",
              "width": 0.5
             },
             "pattern": {
              "fillmode": "overlay",
              "size": 10,
              "solidity": 0.2
             }
            },
            "type": "barpolar"
           }
          ],
          "carpet": [
           {
            "aaxis": {
             "endlinecolor": "#2a3f5f",
             "gridcolor": "white",
             "linecolor": "white",
             "minorgridcolor": "white",
             "startlinecolor": "#2a3f5f"
            },
            "baxis": {
             "endlinecolor": "#2a3f5f",
             "gridcolor": "white",
             "linecolor": "white",
             "minorgridcolor": "white",
             "startlinecolor": "#2a3f5f"
            },
            "type": "carpet"
           }
          ],
          "choropleth": [
           {
            "colorbar": {
             "outlinewidth": 0,
             "ticks": ""
            },
            "type": "choropleth"
           }
          ],
          "contour": [
           {
            "colorbar": {
             "outlinewidth": 0,
             "ticks": ""
            },
            "colorscale": [
             [
              0,
              "#0d0887"
             ],
             [
              0.1111111111111111,
              "#46039f"
             ],
             [
              0.2222222222222222,
              "#7201a8"
             ],
             [
              0.3333333333333333,
              "#9c179e"
             ],
             [
              0.4444444444444444,
              "#bd3786"
             ],
             [
              0.5555555555555556,
              "#d8576b"
             ],
             [
              0.6666666666666666,
              "#ed7953"
             ],
             [
              0.7777777777777778,
              "#fb9f3a"
             ],
             [
              0.8888888888888888,
              "#fdca26"
             ],
             [
              1,
              "#f0f921"
             ]
            ],
            "type": "contour"
           }
          ],
          "contourcarpet": [
           {
            "colorbar": {
             "outlinewidth": 0,
             "ticks": ""
            },
            "type": "contourcarpet"
           }
          ],
          "heatmap": [
           {
            "colorbar": {
             "outlinewidth": 0,
             "ticks": ""
            },
            "colorscale": [
             [
              0,
              "#0d0887"
             ],
             [
              0.1111111111111111,
              "#46039f"
             ],
             [
              0.2222222222222222,
              "#7201a8"
             ],
             [
              0.3333333333333333,
              "#9c179e"
             ],
             [
              0.4444444444444444,
              "#bd3786"
             ],
             [
              0.5555555555555556,
              "#d8576b"
             ],
             [
              0.6666666666666666,
              "#ed7953"
             ],
             [
              0.7777777777777778,
              "#fb9f3a"
             ],
             [
              0.8888888888888888,
              "#fdca26"
             ],
             [
              1,
              "#f0f921"
             ]
            ],
            "type": "heatmap"
           }
          ],
          "histogram": [
           {
            "marker": {
             "pattern": {
              "fillmode": "overlay",
              "size": 10,
              "solidity": 0.2
             }
            },
            "type": "histogram"
           }
          ],
          "histogram2d": [
           {
            "colorbar": {
             "outlinewidth": 0,
             "ticks": ""
            },
            "colorscale": [
             [
              0,
              "#0d0887"
             ],
             [
              0.1111111111111111,
              "#46039f"
             ],
             [
              0.2222222222222222,
              "#7201a8"
             ],
             [
              0.3333333333333333,
              "#9c179e"
             ],
             [
              0.4444444444444444,
              "#bd3786"
             ],
             [
              0.5555555555555556,
              "#d8576b"
             ],
             [
              0.6666666666666666,
              "#ed7953"
             ],
             [
              0.7777777777777778,
              "#fb9f3a"
             ],
             [
              0.8888888888888888,
              "#fdca26"
             ],
             [
              1,
              "#f0f921"
             ]
            ],
            "type": "histogram2d"
           }
          ],
          "histogram2dcontour": [
           {
            "colorbar": {
             "outlinewidth": 0,
             "ticks": ""
            },
            "colorscale": [
             [
              0,
              "#0d0887"
             ],
             [
              0.1111111111111111,
              "#46039f"
             ],
             [
              0.2222222222222222,
              "#7201a8"
             ],
             [
              0.3333333333333333,
              "#9c179e"
             ],
             [
              0.4444444444444444,
              "#bd3786"
             ],
             [
              0.5555555555555556,
              "#d8576b"
             ],
             [
              0.6666666666666666,
              "#ed7953"
             ],
             [
              0.7777777777777778,
              "#fb9f3a"
             ],
             [
              0.8888888888888888,
              "#fdca26"
             ],
             [
              1,
              "#f0f921"
             ]
            ],
            "type": "histogram2dcontour"
           }
          ],
          "mesh3d": [
           {
            "colorbar": {
             "outlinewidth": 0,
             "ticks": ""
            },
            "type": "mesh3d"
           }
          ],
          "parcoords": [
           {
            "line": {
             "colorbar": {
              "outlinewidth": 0,
              "ticks": ""
             }
            },
            "type": "parcoords"
           }
          ],
          "pie": [
           {
            "automargin": true,
            "type": "pie"
           }
          ],
          "scatter": [
           {
            "fillpattern": {
             "fillmode": "overlay",
             "size": 10,
             "solidity": 0.2
            },
            "type": "scatter"
           }
          ],
          "scatter3d": [
           {
            "line": {
             "colorbar": {
              "outlinewidth": 0,
              "ticks": ""
             }
            },
            "marker": {
             "colorbar": {
              "outlinewidth": 0,
              "ticks": ""
             }
            },
            "type": "scatter3d"
           }
          ],
          "scattercarpet": [
           {
            "marker": {
             "colorbar": {
              "outlinewidth": 0,
              "ticks": ""
             }
            },
            "type": "scattercarpet"
           }
          ],
          "scattergeo": [
           {
            "marker": {
             "colorbar": {
              "outlinewidth": 0,
              "ticks": ""
             }
            },
            "type": "scattergeo"
           }
          ],
          "scattergl": [
           {
            "marker": {
             "colorbar": {
              "outlinewidth": 0,
              "ticks": ""
             }
            },
            "type": "scattergl"
           }
          ],
          "scattermap": [
           {
            "marker": {
             "colorbar": {
              "outlinewidth": 0,
              "ticks": ""
             }
            },
            "type": "scattermap"
           }
          ],
          "scattermapbox": [
           {
            "marker": {
             "colorbar": {
              "outlinewidth": 0,
              "ticks": ""
             }
            },
            "type": "scattermapbox"
           }
          ],
          "scatterpolar": [
           {
            "marker": {
             "colorbar": {
              "outlinewidth": 0,
              "ticks": ""
             }
            },
            "type": "scatterpolar"
           }
          ],
          "scatterpolargl": [
           {
            "marker": {
             "colorbar": {
              "outlinewidth": 0,
              "ticks": ""
             }
            },
            "type": "scatterpolargl"
           }
          ],
          "scatterternary": [
           {
            "marker": {
             "colorbar": {
              "outlinewidth": 0,
              "ticks": ""
             }
            },
            "type": "scatterternary"
           }
          ],
          "surface": [
           {
            "colorbar": {
             "outlinewidth": 0,
             "ticks": ""
            },
            "colorscale": [
             [
              0,
              "#0d0887"
             ],
             [
              0.1111111111111111,
              "#46039f"
             ],
             [
              0.2222222222222222,
              "#7201a8"
             ],
             [
              0.3333333333333333,
              "#9c179e"
             ],
             [
              0.4444444444444444,
              "#bd3786"
             ],
             [
              0.5555555555555556,
              "#d8576b"
             ],
             [
              0.6666666666666666,
              "#ed7953"
             ],
             [
              0.7777777777777778,
              "#fb9f3a"
             ],
             [
              0.8888888888888888,
              "#fdca26"
             ],
             [
              1,
              "#f0f921"
             ]
            ],
            "type": "surface"
           }
          ],
          "table": [
           {
            "cells": {
             "fill": {
              "color": "#EBF0F8"
             },
             "line": {
              "color": "white"
             }
            },
            "header": {
             "fill": {
              "color": "#C8D4E3"
             },
             "line": {
              "color": "white"
             }
            },
            "type": "table"
           }
          ]
         },
         "layout": {
          "annotationdefaults": {
           "arrowcolor": "#2a3f5f",
           "arrowhead": 0,
           "arrowwidth": 1
          },
          "autotypenumbers": "strict",
          "coloraxis": {
           "colorbar": {
            "outlinewidth": 0,
            "ticks": ""
           }
          },
          "colorscale": {
           "diverging": [
            [
             0,
             "#8e0152"
            ],
            [
             0.1,
             "#c51b7d"
            ],
            [
             0.2,
             "#de77ae"
            ],
            [
             0.3,
             "#f1b6da"
            ],
            [
             0.4,
             "#fde0ef"
            ],
            [
             0.5,
             "#f7f7f7"
            ],
            [
             0.6,
             "#e6f5d0"
            ],
            [
             0.7,
             "#b8e186"
            ],
            [
             0.8,
             "#7fbc41"
            ],
            [
             0.9,
             "#4d9221"
            ],
            [
             1,
             "#276419"
            ]
           ],
           "sequential": [
            [
             0,
             "#0d0887"
            ],
            [
             0.1111111111111111,
             "#46039f"
            ],
            [
             0.2222222222222222,
             "#7201a8"
            ],
            [
             0.3333333333333333,
             "#9c179e"
            ],
            [
             0.4444444444444444,
             "#bd3786"
            ],
            [
             0.5555555555555556,
             "#d8576b"
            ],
            [
             0.6666666666666666,
             "#ed7953"
            ],
            [
             0.7777777777777778,
             "#fb9f3a"
            ],
            [
             0.8888888888888888,
             "#fdca26"
            ],
            [
             1,
             "#f0f921"
            ]
           ],
           "sequentialminus": [
            [
             0,
             "#0d0887"
            ],
            [
             0.1111111111111111,
             "#46039f"
            ],
            [
             0.2222222222222222,
             "#7201a8"
            ],
            [
             0.3333333333333333,
             "#9c179e"
            ],
            [
             0.4444444444444444,
             "#bd3786"
            ],
            [
             0.5555555555555556,
             "#d8576b"
            ],
            [
             0.6666666666666666,
             "#ed7953"
            ],
            [
             0.7777777777777778,
             "#fb9f3a"
            ],
            [
             0.8888888888888888,
             "#fdca26"
            ],
            [
             1,
             "#f0f921"
            ]
           ]
          },
          "colorway": [
           "#636efa",
           "#EF553B",
           "#00cc96",
           "#ab63fa",
           "#FFA15A",
           "#19d3f3",
           "#FF6692",
           "#B6E880",
           "#FF97FF",
           "#FECB52"
          ],
          "font": {
           "color": "#2a3f5f"
          },
          "geo": {
           "bgcolor": "white",
           "lakecolor": "white",
           "landcolor": "#E5ECF6",
           "showlakes": true,
           "showland": true,
           "subunitcolor": "white"
          },
          "hoverlabel": {
           "align": "left"
          },
          "hovermode": "closest",
          "mapbox": {
           "style": "light"
          },
          "paper_bgcolor": "white",
          "plot_bgcolor": "#E5ECF6",
          "polar": {
           "angularaxis": {
            "gridcolor": "white",
            "linecolor": "white",
            "ticks": ""
           },
           "bgcolor": "#E5ECF6",
           "radialaxis": {
            "gridcolor": "white",
            "linecolor": "white",
            "ticks": ""
           }
          },
          "scene": {
           "xaxis": {
            "backgroundcolor": "#E5ECF6",
            "gridcolor": "white",
            "gridwidth": 2,
            "linecolor": "white",
            "showbackground": true,
            "ticks": "",
            "zerolinecolor": "white"
           },
           "yaxis": {
            "backgroundcolor": "#E5ECF6",
            "gridcolor": "white",
            "gridwidth": 2,
            "linecolor": "white",
            "showbackground": true,
            "ticks": "",
            "zerolinecolor": "white"
           },
           "zaxis": {
            "backgroundcolor": "#E5ECF6",
            "gridcolor": "white",
            "gridwidth": 2,
            "linecolor": "white",
            "showbackground": true,
            "ticks": "",
            "zerolinecolor": "white"
           }
          },
          "shapedefaults": {
           "line": {
            "color": "#2a3f5f"
           }
          },
          "ternary": {
           "aaxis": {
            "gridcolor": "white",
            "linecolor": "white",
            "ticks": ""
           },
           "baxis": {
            "gridcolor": "white",
            "linecolor": "white",
            "ticks": ""
           },
           "bgcolor": "#E5ECF6",
           "caxis": {
            "gridcolor": "white",
            "linecolor": "white",
            "ticks": ""
           }
          },
          "title": {
           "x": 0.05
          },
          "xaxis": {
           "automargin": true,
           "gridcolor": "white",
           "linecolor": "white",
           "ticks": "",
           "title": {
            "standoff": 15
           },
           "zerolinecolor": "white",
           "zerolinewidth": 2
          },
          "yaxis": {
           "automargin": true,
           "gridcolor": "white",
           "linecolor": "white",
           "ticks": "",
           "title": {
            "standoff": 15
           },
           "zerolinecolor": "white",
           "zerolinewidth": 2
          }
         }
        },
        "title": {
         "font": {
          "size": 20
         },
         "text": "Countries by # of UFC events (log scale):",
         "x": 0.5
        },
        "width": 1000
       }
      }
     },
     "metadata": {},
     "output_type": "display_data"
    }
   ],
   "source": [
    "import plotly.express as px\n",
    "import numpy as np\n",
    "\n",
    "\n",
    "fig = px.choropleth(top_countries, # Plot data\n",
    "                    locations='iso_alpha', # Use ISO codes as location identifiers\n",
    "                    color='log_num_of_events', # Coloring based on log scaled num_of_events\n",
    "                    hover_name='country', # On hover display country\n",
    "                    title =\"Countries by # of UFC events (log scale):\",\n",
    "                    color_continuous_scale=px.colors.sequential.Plasma)\n",
    "\n",
    "\n",
    "# Make bigger and clearer\n",
    "fig.update_layout(\n",
    "    title={\"x\": 0.5, \"font_size\": 20},\n",
    "    height=500, width=1000,\n",
    "    geo=dict(showcountries=True),\n",
    "    margin=dict(l=30, r=30, t=80, b=30)\n",
    ")\n",
    "fig.show()"
   ]
  },
  {
   "cell_type": "markdown",
   "id": "41ba915d-c7f2-4c7d-aa7f-c5b013f1a09c",
   "metadata": {},
   "source": [
    "#### Non-log version of the top 20 countries"
   ]
  },
  {
   "cell_type": "code",
   "execution_count": 192,
   "id": "8dfa0cac-70fc-4f84-9681-f52817e7ba6a",
   "metadata": {},
   "outputs": [
    {
     "data": {
      "application/vnd.plotly.v1+json": {
       "config": {
        "plotlyServerURL": "https://plot.ly"
       },
       "data": [
        {
         "hovertemplate": "country=%{y}<br>num_of_events=%{x}<extra></extra>",
         "legendgroup": "USA",
         "marker": {
          "color": "#636efa",
          "pattern": {
           "shape": ""
          }
         },
         "name": "USA",
         "orientation": "h",
         "showlegend": true,
         "textposition": "auto",
         "type": "bar",
         "x": {
          "bdata": "9gE=",
          "dtype": "i2"
         },
         "xaxis": "x",
         "y": [
          "USA"
         ],
         "yaxis": "y"
        },
        {
         "hovertemplate": "country=%{y}<br>num_of_events=%{x}<extra></extra>",
         "legendgroup": "Brazil",
         "marker": {
          "color": "#EF553B",
          "pattern": {
           "shape": ""
          }
         },
         "name": "Brazil",
         "orientation": "h",
         "showlegend": true,
         "textposition": "auto",
         "type": "bar",
         "x": {
          "bdata": "KA==",
          "dtype": "i1"
         },
         "xaxis": "x",
         "y": [
          "Brazil"
         ],
         "yaxis": "y"
        },
        {
         "hovertemplate": "country=%{y}<br>num_of_events=%{x}<extra></extra>",
         "legendgroup": "Canada",
         "marker": {
          "color": "#00cc96",
          "pattern": {
           "shape": ""
          }
         },
         "name": "Canada",
         "orientation": "h",
         "showlegend": true,
         "textposition": "auto",
         "type": "bar",
         "x": {
          "bdata": "IQ==",
          "dtype": "i1"
         },
         "xaxis": "x",
         "y": [
          "Canada"
         ],
         "yaxis": "y"
        },
        {
         "hovertemplate": "country=%{y}<br>num_of_events=%{x}<extra></extra>",
         "legendgroup": "United Kingdom",
         "marker": {
          "color": "#ab63fa",
          "pattern": {
           "shape": ""
          }
         },
         "name": "United Kingdom",
         "orientation": "h",
         "showlegend": true,
         "textposition": "auto",
         "type": "bar",
         "x": {
          "bdata": "HQ==",
          "dtype": "i1"
         },
         "xaxis": "x",
         "y": [
          "United Kingdom"
         ],
         "yaxis": "y"
        },
        {
         "hovertemplate": "country=%{y}<br>num_of_events=%{x}<extra></extra>",
         "legendgroup": "United Arab Emirates",
         "marker": {
          "color": "#FFA15A",
          "pattern": {
           "shape": ""
          }
         },
         "name": "United Arab Emirates",
         "orientation": "h",
         "showlegend": true,
         "textposition": "auto",
         "type": "bar",
         "x": {
          "bdata": "FA==",
          "dtype": "i1"
         },
         "xaxis": "x",
         "y": [
          "United Arab Emirates"
         ],
         "yaxis": "y"
        },
        {
         "hovertemplate": "country=%{y}<br>num_of_events=%{x}<extra></extra>",
         "legendgroup": "Australia",
         "marker": {
          "color": "#19d3f3",
          "pattern": {
           "shape": ""
          }
         },
         "name": "Australia",
         "orientation": "h",
         "showlegend": true,
         "textposition": "auto",
         "type": "bar",
         "x": {
          "bdata": "Eg==",
          "dtype": "i1"
         },
         "xaxis": "x",
         "y": [
          "Australia"
         ],
         "yaxis": "y"
        },
        {
         "hovertemplate": "country=%{y}<br>num_of_events=%{x}<extra></extra>",
         "legendgroup": "Japan",
         "marker": {
          "color": "#FF6692",
          "pattern": {
           "shape": ""
          }
         },
         "name": "Japan",
         "orientation": "h",
         "showlegend": true,
         "textposition": "auto",
         "type": "bar",
         "x": {
          "bdata": "CQ==",
          "dtype": "i1"
         },
         "xaxis": "x",
         "y": [
          "Japan"
         ],
         "yaxis": "y"
        },
        {
         "hovertemplate": "country=%{y}<br>num_of_events=%{x}<extra></extra>",
         "legendgroup": "Mexico",
         "marker": {
          "color": "#B6E880",
          "pattern": {
           "shape": ""
          }
         },
         "name": "Mexico",
         "orientation": "h",
         "showlegend": true,
         "textposition": "auto",
         "type": "bar",
         "x": {
          "bdata": "Bw==",
          "dtype": "i1"
         },
         "xaxis": "x",
         "y": [
          "Mexico"
         ],
         "yaxis": "y"
        },
        {
         "hovertemplate": "country=%{y}<br>num_of_events=%{x}<extra></extra>",
         "legendgroup": "Germany",
         "marker": {
          "color": "#FF97FF",
          "pattern": {
           "shape": ""
          }
         },
         "name": "Germany",
         "orientation": "h",
         "showlegend": true,
         "textposition": "auto",
         "type": "bar",
         "x": {
          "bdata": "Bg==",
          "dtype": "i1"
         },
         "xaxis": "x",
         "y": [
          "Germany"
         ],
         "yaxis": "y"
        },
        {
         "hovertemplate": "country=%{y}<br>num_of_events=%{x}<extra></extra>",
         "legendgroup": "China",
         "marker": {
          "color": "#FECB52",
          "pattern": {
           "shape": ""
          }
         },
         "name": "China",
         "orientation": "h",
         "showlegend": true,
         "textposition": "auto",
         "type": "bar",
         "x": {
          "bdata": "Bg==",
          "dtype": "i1"
         },
         "xaxis": "x",
         "y": [
          "China"
         ],
         "yaxis": "y"
        },
        {
         "hovertemplate": "country=%{y}<br>num_of_events=%{x}<extra></extra>",
         "legendgroup": "Sweden",
         "marker": {
          "color": "#636efa",
          "pattern": {
           "shape": ""
          }
         },
         "name": "Sweden",
         "orientation": "h",
         "showlegend": true,
         "textposition": "auto",
         "type": "bar",
         "x": {
          "bdata": "Bg==",
          "dtype": "i1"
         },
         "xaxis": "x",
         "y": [
          "Sweden"
         ],
         "yaxis": "y"
        },
        {
         "hovertemplate": "country=%{y}<br>num_of_events=%{x}<extra></extra>",
         "legendgroup": "Singapore",
         "marker": {
          "color": "#EF553B",
          "pattern": {
           "shape": ""
          }
         },
         "name": "Singapore",
         "orientation": "h",
         "showlegend": true,
         "textposition": "auto",
         "type": "bar",
         "x": {
          "bdata": "Bg==",
          "dtype": "i1"
         },
         "xaxis": "x",
         "y": [
          "Singapore"
         ],
         "yaxis": "y"
        },
        {
         "hovertemplate": "country=%{y}<br>num_of_events=%{x}<extra></extra>",
         "legendgroup": "New Zealand",
         "marker": {
          "color": "#00cc96",
          "pattern": {
           "shape": ""
          }
         },
         "name": "New Zealand",
         "orientation": "h",
         "showlegend": true,
         "textposition": "auto",
         "type": "bar",
         "x": {
          "bdata": "Aw==",
          "dtype": "i1"
         },
         "xaxis": "x",
         "y": [
          "New Zealand"
         ],
         "yaxis": "y"
        },
        {
         "hovertemplate": "country=%{y}<br>num_of_events=%{x}<extra></extra>",
         "legendgroup": "Russia",
         "marker": {
          "color": "#ab63fa",
          "pattern": {
           "shape": ""
          }
         },
         "name": "Russia",
         "orientation": "h",
         "showlegend": true,
         "textposition": "auto",
         "type": "bar",
         "x": {
          "bdata": "Aw==",
          "dtype": "i1"
         },
         "xaxis": "x",
         "y": [
          "Russia"
         ],
         "yaxis": "y"
        },
        {
         "hovertemplate": "country=%{y}<br>num_of_events=%{x}<extra></extra>",
         "legendgroup": "Ireland",
         "marker": {
          "color": "#FFA15A",
          "pattern": {
           "shape": ""
          }
         },
         "name": "Ireland",
         "orientation": "h",
         "showlegend": true,
         "textposition": "auto",
         "type": "bar",
         "x": {
          "bdata": "Aw==",
          "dtype": "i1"
         },
         "xaxis": "x",
         "y": [
          "Ireland"
         ],
         "yaxis": "y"
        },
        {
         "hovertemplate": "country=%{y}<br>num_of_events=%{x}<extra></extra>",
         "legendgroup": "France",
         "marker": {
          "color": "#19d3f3",
          "pattern": {
           "shape": ""
          }
         },
         "name": "France",
         "orientation": "h",
         "showlegend": true,
         "textposition": "auto",
         "type": "bar",
         "x": {
          "bdata": "Aw==",
          "dtype": "i1"
         },
         "xaxis": "x",
         "y": [
          "France"
         ],
         "yaxis": "y"
        },
        {
         "hovertemplate": "country=%{y}<br>num_of_events=%{x}<extra></extra>",
         "legendgroup": "South Korea",
         "marker": {
          "color": "#FF6692",
          "pattern": {
           "shape": ""
          }
         },
         "name": "South Korea",
         "orientation": "h",
         "showlegend": true,
         "textposition": "auto",
         "type": "bar",
         "x": {
          "bdata": "Ag==",
          "dtype": "i1"
         },
         "xaxis": "x",
         "y": [
          "South Korea"
         ],
         "yaxis": "y"
        },
        {
         "hovertemplate": "country=%{y}<br>num_of_events=%{x}<extra></extra>",
         "legendgroup": "Poland",
         "marker": {
          "color": "#B6E880",
          "pattern": {
           "shape": ""
          }
         },
         "name": "Poland",
         "orientation": "h",
         "showlegend": true,
         "textposition": "auto",
         "type": "bar",
         "x": {
          "bdata": "Ag==",
          "dtype": "i1"
         },
         "xaxis": "x",
         "y": [
          "Poland"
         ],
         "yaxis": "y"
        },
        {
         "hovertemplate": "country=%{y}<br>num_of_events=%{x}<extra></extra>",
         "legendgroup": "Netherlands",
         "marker": {
          "color": "#FF97FF",
          "pattern": {
           "shape": ""
          }
         },
         "name": "Netherlands",
         "orientation": "h",
         "showlegend": true,
         "textposition": "auto",
         "type": "bar",
         "x": {
          "bdata": "Ag==",
          "dtype": "i1"
         },
         "xaxis": "x",
         "y": [
          "Netherlands"
         ],
         "yaxis": "y"
        },
        {
         "hovertemplate": "country=%{y}<br>num_of_events=%{x}<extra></extra>",
         "legendgroup": "Saudi Arabia",
         "marker": {
          "color": "#FECB52",
          "pattern": {
           "shape": ""
          }
         },
         "name": "Saudi Arabia",
         "orientation": "h",
         "showlegend": true,
         "textposition": "auto",
         "type": "bar",
         "x": {
          "bdata": "AQ==",
          "dtype": "i1"
         },
         "xaxis": "x",
         "y": [
          "Saudi Arabia"
         ],
         "yaxis": "y"
        }
       ],
       "layout": {
        "barmode": "relative",
        "font": {
         "size": 14
        },
        "height": 500,
        "legend": {
         "title": {
          "text": "country"
         },
         "tracegroupgap": 0
        },
        "margin": {
         "t": 60
        },
        "showlegend": false,
        "template": {
         "data": {
          "bar": [
           {
            "error_x": {
             "color": "#2a3f5f"
            },
            "error_y": {
             "color": "#2a3f5f"
            },
            "marker": {
             "line": {
              "color": "#E5ECF6",
              "width": 0.5
             },
             "pattern": {
              "fillmode": "overlay",
              "size": 10,
              "solidity": 0.2
             }
            },
            "type": "bar"
           }
          ],
          "barpolar": [
           {
            "marker": {
             "line": {
              "color": "#E5ECF6",
              "width": 0.5
             },
             "pattern": {
              "fillmode": "overlay",
              "size": 10,
              "solidity": 0.2
             }
            },
            "type": "barpolar"
           }
          ],
          "carpet": [
           {
            "aaxis": {
             "endlinecolor": "#2a3f5f",
             "gridcolor": "white",
             "linecolor": "white",
             "minorgridcolor": "white",
             "startlinecolor": "#2a3f5f"
            },
            "baxis": {
             "endlinecolor": "#2a3f5f",
             "gridcolor": "white",
             "linecolor": "white",
             "minorgridcolor": "white",
             "startlinecolor": "#2a3f5f"
            },
            "type": "carpet"
           }
          ],
          "choropleth": [
           {
            "colorbar": {
             "outlinewidth": 0,
             "ticks": ""
            },
            "type": "choropleth"
           }
          ],
          "contour": [
           {
            "colorbar": {
             "outlinewidth": 0,
             "ticks": ""
            },
            "colorscale": [
             [
              0,
              "#0d0887"
             ],
             [
              0.1111111111111111,
              "#46039f"
             ],
             [
              0.2222222222222222,
              "#7201a8"
             ],
             [
              0.3333333333333333,
              "#9c179e"
             ],
             [
              0.4444444444444444,
              "#bd3786"
             ],
             [
              0.5555555555555556,
              "#d8576b"
             ],
             [
              0.6666666666666666,
              "#ed7953"
             ],
             [
              0.7777777777777778,
              "#fb9f3a"
             ],
             [
              0.8888888888888888,
              "#fdca26"
             ],
             [
              1,
              "#f0f921"
             ]
            ],
            "type": "contour"
           }
          ],
          "contourcarpet": [
           {
            "colorbar": {
             "outlinewidth": 0,
             "ticks": ""
            },
            "type": "contourcarpet"
           }
          ],
          "heatmap": [
           {
            "colorbar": {
             "outlinewidth": 0,
             "ticks": ""
            },
            "colorscale": [
             [
              0,
              "#0d0887"
             ],
             [
              0.1111111111111111,
              "#46039f"
             ],
             [
              0.2222222222222222,
              "#7201a8"
             ],
             [
              0.3333333333333333,
              "#9c179e"
             ],
             [
              0.4444444444444444,
              "#bd3786"
             ],
             [
              0.5555555555555556,
              "#d8576b"
             ],
             [
              0.6666666666666666,
              "#ed7953"
             ],
             [
              0.7777777777777778,
              "#fb9f3a"
             ],
             [
              0.8888888888888888,
              "#fdca26"
             ],
             [
              1,
              "#f0f921"
             ]
            ],
            "type": "heatmap"
           }
          ],
          "histogram": [
           {
            "marker": {
             "pattern": {
              "fillmode": "overlay",
              "size": 10,
              "solidity": 0.2
             }
            },
            "type": "histogram"
           }
          ],
          "histogram2d": [
           {
            "colorbar": {
             "outlinewidth": 0,
             "ticks": ""
            },
            "colorscale": [
             [
              0,
              "#0d0887"
             ],
             [
              0.1111111111111111,
              "#46039f"
             ],
             [
              0.2222222222222222,
              "#7201a8"
             ],
             [
              0.3333333333333333,
              "#9c179e"
             ],
             [
              0.4444444444444444,
              "#bd3786"
             ],
             [
              0.5555555555555556,
              "#d8576b"
             ],
             [
              0.6666666666666666,
              "#ed7953"
             ],
             [
              0.7777777777777778,
              "#fb9f3a"
             ],
             [
              0.8888888888888888,
              "#fdca26"
             ],
             [
              1,
              "#f0f921"
             ]
            ],
            "type": "histogram2d"
           }
          ],
          "histogram2dcontour": [
           {
            "colorbar": {
             "outlinewidth": 0,
             "ticks": ""
            },
            "colorscale": [
             [
              0,
              "#0d0887"
             ],
             [
              0.1111111111111111,
              "#46039f"
             ],
             [
              0.2222222222222222,
              "#7201a8"
             ],
             [
              0.3333333333333333,
              "#9c179e"
             ],
             [
              0.4444444444444444,
              "#bd3786"
             ],
             [
              0.5555555555555556,
              "#d8576b"
             ],
             [
              0.6666666666666666,
              "#ed7953"
             ],
             [
              0.7777777777777778,
              "#fb9f3a"
             ],
             [
              0.8888888888888888,
              "#fdca26"
             ],
             [
              1,
              "#f0f921"
             ]
            ],
            "type": "histogram2dcontour"
           }
          ],
          "mesh3d": [
           {
            "colorbar": {
             "outlinewidth": 0,
             "ticks": ""
            },
            "type": "mesh3d"
           }
          ],
          "parcoords": [
           {
            "line": {
             "colorbar": {
              "outlinewidth": 0,
              "ticks": ""
             }
            },
            "type": "parcoords"
           }
          ],
          "pie": [
           {
            "automargin": true,
            "type": "pie"
           }
          ],
          "scatter": [
           {
            "fillpattern": {
             "fillmode": "overlay",
             "size": 10,
             "solidity": 0.2
            },
            "type": "scatter"
           }
          ],
          "scatter3d": [
           {
            "line": {
             "colorbar": {
              "outlinewidth": 0,
              "ticks": ""
             }
            },
            "marker": {
             "colorbar": {
              "outlinewidth": 0,
              "ticks": ""
             }
            },
            "type": "scatter3d"
           }
          ],
          "scattercarpet": [
           {
            "marker": {
             "colorbar": {
              "outlinewidth": 0,
              "ticks": ""
             }
            },
            "type": "scattercarpet"
           }
          ],
          "scattergeo": [
           {
            "marker": {
             "colorbar": {
              "outlinewidth": 0,
              "ticks": ""
             }
            },
            "type": "scattergeo"
           }
          ],
          "scattergl": [
           {
            "marker": {
             "colorbar": {
              "outlinewidth": 0,
              "ticks": ""
             }
            },
            "type": "scattergl"
           }
          ],
          "scattermap": [
           {
            "marker": {
             "colorbar": {
              "outlinewidth": 0,
              "ticks": ""
             }
            },
            "type": "scattermap"
           }
          ],
          "scattermapbox": [
           {
            "marker": {
             "colorbar": {
              "outlinewidth": 0,
              "ticks": ""
             }
            },
            "type": "scattermapbox"
           }
          ],
          "scatterpolar": [
           {
            "marker": {
             "colorbar": {
              "outlinewidth": 0,
              "ticks": ""
             }
            },
            "type": "scatterpolar"
           }
          ],
          "scatterpolargl": [
           {
            "marker": {
             "colorbar": {
              "outlinewidth": 0,
              "ticks": ""
             }
            },
            "type": "scatterpolargl"
           }
          ],
          "scatterternary": [
           {
            "marker": {
             "colorbar": {
              "outlinewidth": 0,
              "ticks": ""
             }
            },
            "type": "scatterternary"
           }
          ],
          "surface": [
           {
            "colorbar": {
             "outlinewidth": 0,
             "ticks": ""
            },
            "colorscale": [
             [
              0,
              "#0d0887"
             ],
             [
              0.1111111111111111,
              "#46039f"
             ],
             [
              0.2222222222222222,
              "#7201a8"
             ],
             [
              0.3333333333333333,
              "#9c179e"
             ],
             [
              0.4444444444444444,
              "#bd3786"
             ],
             [
              0.5555555555555556,
              "#d8576b"
             ],
             [
              0.6666666666666666,
              "#ed7953"
             ],
             [
              0.7777777777777778,
              "#fb9f3a"
             ],
             [
              0.8888888888888888,
              "#fdca26"
             ],
             [
              1,
              "#f0f921"
             ]
            ],
            "type": "surface"
           }
          ],
          "table": [
           {
            "cells": {
             "fill": {
              "color": "#EBF0F8"
             },
             "line": {
              "color": "white"
             }
            },
            "header": {
             "fill": {
              "color": "#C8D4E3"
             },
             "line": {
              "color": "white"
             }
            },
            "type": "table"
           }
          ]
         },
         "layout": {
          "annotationdefaults": {
           "arrowcolor": "#2a3f5f",
           "arrowhead": 0,
           "arrowwidth": 1
          },
          "autotypenumbers": "strict",
          "coloraxis": {
           "colorbar": {
            "outlinewidth": 0,
            "ticks": ""
           }
          },
          "colorscale": {
           "diverging": [
            [
             0,
             "#8e0152"
            ],
            [
             0.1,
             "#c51b7d"
            ],
            [
             0.2,
             "#de77ae"
            ],
            [
             0.3,
             "#f1b6da"
            ],
            [
             0.4,
             "#fde0ef"
            ],
            [
             0.5,
             "#f7f7f7"
            ],
            [
             0.6,
             "#e6f5d0"
            ],
            [
             0.7,
             "#b8e186"
            ],
            [
             0.8,
             "#7fbc41"
            ],
            [
             0.9,
             "#4d9221"
            ],
            [
             1,
             "#276419"
            ]
           ],
           "sequential": [
            [
             0,
             "#0d0887"
            ],
            [
             0.1111111111111111,
             "#46039f"
            ],
            [
             0.2222222222222222,
             "#7201a8"
            ],
            [
             0.3333333333333333,
             "#9c179e"
            ],
            [
             0.4444444444444444,
             "#bd3786"
            ],
            [
             0.5555555555555556,
             "#d8576b"
            ],
            [
             0.6666666666666666,
             "#ed7953"
            ],
            [
             0.7777777777777778,
             "#fb9f3a"
            ],
            [
             0.8888888888888888,
             "#fdca26"
            ],
            [
             1,
             "#f0f921"
            ]
           ],
           "sequentialminus": [
            [
             0,
             "#0d0887"
            ],
            [
             0.1111111111111111,
             "#46039f"
            ],
            [
             0.2222222222222222,
             "#7201a8"
            ],
            [
             0.3333333333333333,
             "#9c179e"
            ],
            [
             0.4444444444444444,
             "#bd3786"
            ],
            [
             0.5555555555555556,
             "#d8576b"
            ],
            [
             0.6666666666666666,
             "#ed7953"
            ],
            [
             0.7777777777777778,
             "#fb9f3a"
            ],
            [
             0.8888888888888888,
             "#fdca26"
            ],
            [
             1,
             "#f0f921"
            ]
           ]
          },
          "colorway": [
           "#636efa",
           "#EF553B",
           "#00cc96",
           "#ab63fa",
           "#FFA15A",
           "#19d3f3",
           "#FF6692",
           "#B6E880",
           "#FF97FF",
           "#FECB52"
          ],
          "font": {
           "color": "#2a3f5f"
          },
          "geo": {
           "bgcolor": "white",
           "lakecolor": "white",
           "landcolor": "#E5ECF6",
           "showlakes": true,
           "showland": true,
           "subunitcolor": "white"
          },
          "hoverlabel": {
           "align": "left"
          },
          "hovermode": "closest",
          "mapbox": {
           "style": "light"
          },
          "paper_bgcolor": "white",
          "plot_bgcolor": "#E5ECF6",
          "polar": {
           "angularaxis": {
            "gridcolor": "white",
            "linecolor": "white",
            "ticks": ""
           },
           "bgcolor": "#E5ECF6",
           "radialaxis": {
            "gridcolor": "white",
            "linecolor": "white",
            "ticks": ""
           }
          },
          "scene": {
           "xaxis": {
            "backgroundcolor": "#E5ECF6",
            "gridcolor": "white",
            "gridwidth": 2,
            "linecolor": "white",
            "showbackground": true,
            "ticks": "",
            "zerolinecolor": "white"
           },
           "yaxis": {
            "backgroundcolor": "#E5ECF6",
            "gridcolor": "white",
            "gridwidth": 2,
            "linecolor": "white",
            "showbackground": true,
            "ticks": "",
            "zerolinecolor": "white"
           },
           "zaxis": {
            "backgroundcolor": "#E5ECF6",
            "gridcolor": "white",
            "gridwidth": 2,
            "linecolor": "white",
            "showbackground": true,
            "ticks": "",
            "zerolinecolor": "white"
           }
          },
          "shapedefaults": {
           "line": {
            "color": "#2a3f5f"
           }
          },
          "ternary": {
           "aaxis": {
            "gridcolor": "white",
            "linecolor": "white",
            "ticks": ""
           },
           "baxis": {
            "gridcolor": "white",
            "linecolor": "white",
            "ticks": ""
           },
           "bgcolor": "#E5ECF6",
           "caxis": {
            "gridcolor": "white",
            "linecolor": "white",
            "ticks": ""
           }
          },
          "title": {
           "x": 0.05
          },
          "xaxis": {
           "automargin": true,
           "gridcolor": "white",
           "linecolor": "white",
           "ticks": "",
           "title": {
            "standoff": 15
           },
           "zerolinecolor": "white",
           "zerolinewidth": 2
          },
          "yaxis": {
           "automargin": true,
           "gridcolor": "white",
           "linecolor": "white",
           "ticks": "",
           "title": {
            "standoff": 15
           },
           "zerolinecolor": "white",
           "zerolinewidth": 2
          }
         }
        },
        "title": {
         "font": {
          "size": 20
         },
         "text": "Top 20 countries by # of UFC Events",
         "x": 0.5
        },
        "xaxis": {
         "anchor": "y",
         "domain": [
          0,
          1
         ],
         "tickmode": "array",
         "tickvals": [
          20,
          50,
          100,
          200,
          300,
          400,
          500
         ],
         "title": {
          "standoff": 25,
          "text": "Number of events"
         }
        },
        "yaxis": {
         "anchor": "x",
         "categoryarray": [
          "Saudi Arabia",
          "Netherlands",
          "Poland",
          "South Korea",
          "France",
          "Ireland",
          "Russia",
          "New Zealand",
          "Singapore",
          "Sweden",
          "China",
          "Germany",
          "Mexico",
          "Japan",
          "Australia",
          "United Arab Emirates",
          "United Kingdom",
          "Canada",
          "Brazil",
          "USA"
         ],
         "categoryorder": "array",
         "domain": [
          0,
          1
         ],
         "title": {
          "standoff": 40,
          "text": "Country"
         }
        }
       }
      }
     },
     "metadata": {},
     "output_type": "display_data"
    }
   ],
   "source": [
    "fig = px.bar(top_countries[:20], x=\"num_of_events\", y=\"country\", color=\"country\")\n",
    "\n",
    "\n",
    "fig.update_layout(title={\"text\": \"Top 20 countries by # of UFC Events\", \"x\": 0.5, \"font_size\": 20},\n",
    "                  font={\"size\": 14}, \n",
    "                  xaxis=dict(\n",
    "                      tickmode='array', tickvals=[20, 50, 100, 200, 300, 400, 500],\n",
    "                      title = \"Number of events\", title_standoff=25\n",
    "                  ),\n",
    "                  yaxis=dict(\n",
    "                      title=\"Country\", title_standoff=40\n",
    "                  ),\n",
    "                  \n",
    "                  showlegend=False, height=500)\n",
    "\n",
    "fig.show()"
   ]
  },
  {
   "cell_type": "markdown",
   "id": "f8bcac90-2a75-4c13-8468-fbc22def6a08",
   "metadata": {},
   "source": [
    "The homeland to the UFC - The USA is the clear dominant here, followed by: Brazil, Canada, the UK, the UAE, Australia, Japan, and others."
   ]
  },
  {
   "cell_type": "markdown",
   "id": "62ffdad6-a6c4-4240-a47d-c49734da15ba",
   "metadata": {},
   "source": [
    "The US is obviously the first because it is, again, the homeland, also I think because of the fact that regulation concerns were cleared up over the years and overall the UFC is given a thumbs up for the events as they don't have any additional regulatory requirements to comply with as they would have to do in hosting events internationally."
   ]
  },
  {
   "cell_type": "markdown",
   "id": "0144c798-ecf5-4c8b-9d7e-03bf0951f206",
   "metadata": {},
   "source": [
    "That said, by looking at other countries:<br>\n",
    "* Brazil is ranked at #2. And what contributes to that is the cultural roots of Brazilian jiu-jitsu, as well as the BJJ grand-master co-founder, the second top country that is the hometown to the most UFC champions, and massive fan appetite like UFC 134 in Rio selling out tickets in 74 minutes and drawing ~35 million TV viewers, which accounts to about x10 the network's average.\n",
    "* Canada sits at #3. Canada is the most profitable international market for UFC, in addition to that: massive MMA fan base, popularity of one of the best UFC fighters in history, who is a canadian, George St-Pierre, and strong Canadian regulatory support after legalization in major provinces make it the #2.\n",
    "* UK at #4 is the premiere MMA hub in Europe (London, Manchester). Loyal fanbase, home to stars like Bisping, Aspinall; Prime timezone for capturing European/US crossover audiences and provides fertile ground for local talent development, e.g. Cage Warriors (the UK-based MMA promotion) to UFC pipeline, e.g. Conor McGregor.\n",
    "* #5, UAE. UAE isn't known for huge MMA fanbases, local stars or notably strong PPV numbers, but it has its own reasons. Massive government funding and infrastructure support, e.g. they helped UFC build \"Fight Island\" on Yas Island during COVID. As well as, showcases MMA as a global sport to regional audiences.\n",
    "* Australia at #6. Australian fans are known to be loud, loyal, and spend-heavy. Local champions like Alexander Volkanovski, Israel Adesanya, Robert Whittaker keep demand high.\n",
    "* Japan, #7. Japan was once the global center of MMA - Pride FC, Shooto, Pancrase. So UFC tried to capture that market and attempted expansion in early 2000s, then again with UFC Japan events in late 2010s. It is known for deep martial arts culture and knowlegable fans."
   ]
  },
  {
   "cell_type": "markdown",
   "id": "8c122e7a-248c-4a0a-9304-4722d27c1cdc",
   "metadata": {},
   "source": [
    "But let's take a look at the ratio that it has with respect to the total pool of events in all of the countries:"
   ]
  },
  {
   "cell_type": "code",
   "execution_count": 193,
   "id": "7d723e3d-8c01-4e1a-986a-573721ba5ebb",
   "metadata": {},
   "outputs": [
    {
     "data": {
      "text/html": [
       "<div>\n",
       "<style scoped>\n",
       "    .dataframe tbody tr th:only-of-type {\n",
       "        vertical-align: middle;\n",
       "    }\n",
       "\n",
       "    .dataframe tbody tr th {\n",
       "        vertical-align: top;\n",
       "    }\n",
       "\n",
       "    .dataframe thead th {\n",
       "        text-align: right;\n",
       "    }\n",
       "</style>\n",
       "<table border=\"1\" class=\"dataframe\">\n",
       "  <thead>\n",
       "    <tr style=\"text-align: right;\">\n",
       "      <th></th>\n",
       "      <th>country</th>\n",
       "      <th>pct_of_events</th>\n",
       "    </tr>\n",
       "  </thead>\n",
       "  <tbody>\n",
       "    <tr>\n",
       "      <th>0</th>\n",
       "      <td>USA</td>\n",
       "      <td>70.803949</td>\n",
       "    </tr>\n",
       "    <tr>\n",
       "      <th>1</th>\n",
       "      <td>Others</td>\n",
       "      <td>29.196051</td>\n",
       "    </tr>\n",
       "  </tbody>\n",
       "</table>\n",
       "</div>"
      ],
      "text/plain": [
       "  country  pct_of_events\n",
       "0     USA      70.803949\n",
       "1  Others      29.196051"
      ]
     },
     "execution_count": 193,
     "metadata": {},
     "output_type": "execute_result"
    }
   ],
   "source": [
    "# Calculate what pct of UFC events take place in the US\n",
    "usa_pct = (top_countries[\"num_of_events\"] / sum(top_countries[\"num_of_events\"]) * 100).iloc[0]\n",
    "\n",
    "# Prep the data\n",
    "pct = pd.DataFrame({\"country\": [\"USA\", \"Others\"], \"pct_of_events\": [usa_pct, 100 - usa_pct]})\n",
    "pct"
   ]
  },
  {
   "cell_type": "markdown",
   "id": "c3a06188-b59d-4551-8ae4-4ecd0d88d038",
   "metadata": {},
   "source": [
    "Plot:"
   ]
  },
  {
   "cell_type": "code",
   "execution_count": 194,
   "id": "dec477bb-4bbd-4216-8e72-4349bfeae6d1",
   "metadata": {},
   "outputs": [
    {
     "data": {
      "application/vnd.plotly.v1+json": {
       "config": {
        "plotlyServerURL": "https://plot.ly"
       },
       "data": [
        {
         "domain": {
          "x": [
           0,
           1
          ],
          "y": [
           0,
           1
          ]
         },
         "hovertemplate": "country=%{label}<br>pct_of_events=%{value}<extra></extra>",
         "labels": [
          "USA",
          "Others"
         ],
         "legendgroup": "",
         "name": "",
         "showlegend": true,
         "textfont": {
          "color": "white",
          "size": 14
         },
         "type": "pie",
         "values": {
          "bdata": "tnVy53OzUUAoKTZiMDI9QA==",
          "dtype": "f8"
         }
        }
       ],
       "layout": {
        "font": {
         "size": 14
        },
        "height": 500,
        "legend": {
         "tracegroupgap": 0
        },
        "template": {
         "data": {
          "bar": [
           {
            "error_x": {
             "color": "#2a3f5f"
            },
            "error_y": {
             "color": "#2a3f5f"
            },
            "marker": {
             "line": {
              "color": "#E5ECF6",
              "width": 0.5
             },
             "pattern": {
              "fillmode": "overlay",
              "size": 10,
              "solidity": 0.2
             }
            },
            "type": "bar"
           }
          ],
          "barpolar": [
           {
            "marker": {
             "line": {
              "color": "#E5ECF6",
              "width": 0.5
             },
             "pattern": {
              "fillmode": "overlay",
              "size": 10,
              "solidity": 0.2
             }
            },
            "type": "barpolar"
           }
          ],
          "carpet": [
           {
            "aaxis": {
             "endlinecolor": "#2a3f5f",
             "gridcolor": "white",
             "linecolor": "white",
             "minorgridcolor": "white",
             "startlinecolor": "#2a3f5f"
            },
            "baxis": {
             "endlinecolor": "#2a3f5f",
             "gridcolor": "white",
             "linecolor": "white",
             "minorgridcolor": "white",
             "startlinecolor": "#2a3f5f"
            },
            "type": "carpet"
           }
          ],
          "choropleth": [
           {
            "colorbar": {
             "outlinewidth": 0,
             "ticks": ""
            },
            "type": "choropleth"
           }
          ],
          "contour": [
           {
            "colorbar": {
             "outlinewidth": 0,
             "ticks": ""
            },
            "colorscale": [
             [
              0,
              "#0d0887"
             ],
             [
              0.1111111111111111,
              "#46039f"
             ],
             [
              0.2222222222222222,
              "#7201a8"
             ],
             [
              0.3333333333333333,
              "#9c179e"
             ],
             [
              0.4444444444444444,
              "#bd3786"
             ],
             [
              0.5555555555555556,
              "#d8576b"
             ],
             [
              0.6666666666666666,
              "#ed7953"
             ],
             [
              0.7777777777777778,
              "#fb9f3a"
             ],
             [
              0.8888888888888888,
              "#fdca26"
             ],
             [
              1,
              "#f0f921"
             ]
            ],
            "type": "contour"
           }
          ],
          "contourcarpet": [
           {
            "colorbar": {
             "outlinewidth": 0,
             "ticks": ""
            },
            "type": "contourcarpet"
           }
          ],
          "heatmap": [
           {
            "colorbar": {
             "outlinewidth": 0,
             "ticks": ""
            },
            "colorscale": [
             [
              0,
              "#0d0887"
             ],
             [
              0.1111111111111111,
              "#46039f"
             ],
             [
              0.2222222222222222,
              "#7201a8"
             ],
             [
              0.3333333333333333,
              "#9c179e"
             ],
             [
              0.4444444444444444,
              "#bd3786"
             ],
             [
              0.5555555555555556,
              "#d8576b"
             ],
             [
              0.6666666666666666,
              "#ed7953"
             ],
             [
              0.7777777777777778,
              "#fb9f3a"
             ],
             [
              0.8888888888888888,
              "#fdca26"
             ],
             [
              1,
              "#f0f921"
             ]
            ],
            "type": "heatmap"
           }
          ],
          "histogram": [
           {
            "marker": {
             "pattern": {
              "fillmode": "overlay",
              "size": 10,
              "solidity": 0.2
             }
            },
            "type": "histogram"
           }
          ],
          "histogram2d": [
           {
            "colorbar": {
             "outlinewidth": 0,
             "ticks": ""
            },
            "colorscale": [
             [
              0,
              "#0d0887"
             ],
             [
              0.1111111111111111,
              "#46039f"
             ],
             [
              0.2222222222222222,
              "#7201a8"
             ],
             [
              0.3333333333333333,
              "#9c179e"
             ],
             [
              0.4444444444444444,
              "#bd3786"
             ],
             [
              0.5555555555555556,
              "#d8576b"
             ],
             [
              0.6666666666666666,
              "#ed7953"
             ],
             [
              0.7777777777777778,
              "#fb9f3a"
             ],
             [
              0.8888888888888888,
              "#fdca26"
             ],
             [
              1,
              "#f0f921"
             ]
            ],
            "type": "histogram2d"
           }
          ],
          "histogram2dcontour": [
           {
            "colorbar": {
             "outlinewidth": 0,
             "ticks": ""
            },
            "colorscale": [
             [
              0,
              "#0d0887"
             ],
             [
              0.1111111111111111,
              "#46039f"
             ],
             [
              0.2222222222222222,
              "#7201a8"
             ],
             [
              0.3333333333333333,
              "#9c179e"
             ],
             [
              0.4444444444444444,
              "#bd3786"
             ],
             [
              0.5555555555555556,
              "#d8576b"
             ],
             [
              0.6666666666666666,
              "#ed7953"
             ],
             [
              0.7777777777777778,
              "#fb9f3a"
             ],
             [
              0.8888888888888888,
              "#fdca26"
             ],
             [
              1,
              "#f0f921"
             ]
            ],
            "type": "histogram2dcontour"
           }
          ],
          "mesh3d": [
           {
            "colorbar": {
             "outlinewidth": 0,
             "ticks": ""
            },
            "type": "mesh3d"
           }
          ],
          "parcoords": [
           {
            "line": {
             "colorbar": {
              "outlinewidth": 0,
              "ticks": ""
             }
            },
            "type": "parcoords"
           }
          ],
          "pie": [
           {
            "automargin": true,
            "type": "pie"
           }
          ],
          "scatter": [
           {
            "fillpattern": {
             "fillmode": "overlay",
             "size": 10,
             "solidity": 0.2
            },
            "type": "scatter"
           }
          ],
          "scatter3d": [
           {
            "line": {
             "colorbar": {
              "outlinewidth": 0,
              "ticks": ""
             }
            },
            "marker": {
             "colorbar": {
              "outlinewidth": 0,
              "ticks": ""
             }
            },
            "type": "scatter3d"
           }
          ],
          "scattercarpet": [
           {
            "marker": {
             "colorbar": {
              "outlinewidth": 0,
              "ticks": ""
             }
            },
            "type": "scattercarpet"
           }
          ],
          "scattergeo": [
           {
            "marker": {
             "colorbar": {
              "outlinewidth": 0,
              "ticks": ""
             }
            },
            "type": "scattergeo"
           }
          ],
          "scattergl": [
           {
            "marker": {
             "colorbar": {
              "outlinewidth": 0,
              "ticks": ""
             }
            },
            "type": "scattergl"
           }
          ],
          "scattermap": [
           {
            "marker": {
             "colorbar": {
              "outlinewidth": 0,
              "ticks": ""
             }
            },
            "type": "scattermap"
           }
          ],
          "scattermapbox": [
           {
            "marker": {
             "colorbar": {
              "outlinewidth": 0,
              "ticks": ""
             }
            },
            "type": "scattermapbox"
           }
          ],
          "scatterpolar": [
           {
            "marker": {
             "colorbar": {
              "outlinewidth": 0,
              "ticks": ""
             }
            },
            "type": "scatterpolar"
           }
          ],
          "scatterpolargl": [
           {
            "marker": {
             "colorbar": {
              "outlinewidth": 0,
              "ticks": ""
             }
            },
            "type": "scatterpolargl"
           }
          ],
          "scatterternary": [
           {
            "marker": {
             "colorbar": {
              "outlinewidth": 0,
              "ticks": ""
             }
            },
            "type": "scatterternary"
           }
          ],
          "surface": [
           {
            "colorbar": {
             "outlinewidth": 0,
             "ticks": ""
            },
            "colorscale": [
             [
              0,
              "#0d0887"
             ],
             [
              0.1111111111111111,
              "#46039f"
             ],
             [
              0.2222222222222222,
              "#7201a8"
             ],
             [
              0.3333333333333333,
              "#9c179e"
             ],
             [
              0.4444444444444444,
              "#bd3786"
             ],
             [
              0.5555555555555556,
              "#d8576b"
             ],
             [
              0.6666666666666666,
              "#ed7953"
             ],
             [
              0.7777777777777778,
              "#fb9f3a"
             ],
             [
              0.8888888888888888,
              "#fdca26"
             ],
             [
              1,
              "#f0f921"
             ]
            ],
            "type": "surface"
           }
          ],
          "table": [
           {
            "cells": {
             "fill": {
              "color": "#EBF0F8"
             },
             "line": {
              "color": "white"
             }
            },
            "header": {
             "fill": {
              "color": "#C8D4E3"
             },
             "line": {
              "color": "white"
             }
            },
            "type": "table"
           }
          ]
         },
         "layout": {
          "annotationdefaults": {
           "arrowcolor": "#2a3f5f",
           "arrowhead": 0,
           "arrowwidth": 1
          },
          "autotypenumbers": "strict",
          "coloraxis": {
           "colorbar": {
            "outlinewidth": 0,
            "ticks": ""
           }
          },
          "colorscale": {
           "diverging": [
            [
             0,
             "#8e0152"
            ],
            [
             0.1,
             "#c51b7d"
            ],
            [
             0.2,
             "#de77ae"
            ],
            [
             0.3,
             "#f1b6da"
            ],
            [
             0.4,
             "#fde0ef"
            ],
            [
             0.5,
             "#f7f7f7"
            ],
            [
             0.6,
             "#e6f5d0"
            ],
            [
             0.7,
             "#b8e186"
            ],
            [
             0.8,
             "#7fbc41"
            ],
            [
             0.9,
             "#4d9221"
            ],
            [
             1,
             "#276419"
            ]
           ],
           "sequential": [
            [
             0,
             "#0d0887"
            ],
            [
             0.1111111111111111,
             "#46039f"
            ],
            [
             0.2222222222222222,
             "#7201a8"
            ],
            [
             0.3333333333333333,
             "#9c179e"
            ],
            [
             0.4444444444444444,
             "#bd3786"
            ],
            [
             0.5555555555555556,
             "#d8576b"
            ],
            [
             0.6666666666666666,
             "#ed7953"
            ],
            [
             0.7777777777777778,
             "#fb9f3a"
            ],
            [
             0.8888888888888888,
             "#fdca26"
            ],
            [
             1,
             "#f0f921"
            ]
           ],
           "sequentialminus": [
            [
             0,
             "#0d0887"
            ],
            [
             0.1111111111111111,
             "#46039f"
            ],
            [
             0.2222222222222222,
             "#7201a8"
            ],
            [
             0.3333333333333333,
             "#9c179e"
            ],
            [
             0.4444444444444444,
             "#bd3786"
            ],
            [
             0.5555555555555556,
             "#d8576b"
            ],
            [
             0.6666666666666666,
             "#ed7953"
            ],
            [
             0.7777777777777778,
             "#fb9f3a"
            ],
            [
             0.8888888888888888,
             "#fdca26"
            ],
            [
             1,
             "#f0f921"
            ]
           ]
          },
          "colorway": [
           "#636efa",
           "#EF553B",
           "#00cc96",
           "#ab63fa",
           "#FFA15A",
           "#19d3f3",
           "#FF6692",
           "#B6E880",
           "#FF97FF",
           "#FECB52"
          ],
          "font": {
           "color": "#2a3f5f"
          },
          "geo": {
           "bgcolor": "white",
           "lakecolor": "white",
           "landcolor": "#E5ECF6",
           "showlakes": true,
           "showland": true,
           "subunitcolor": "white"
          },
          "hoverlabel": {
           "align": "left"
          },
          "hovermode": "closest",
          "mapbox": {
           "style": "light"
          },
          "paper_bgcolor": "white",
          "plot_bgcolor": "#E5ECF6",
          "polar": {
           "angularaxis": {
            "gridcolor": "white",
            "linecolor": "white",
            "ticks": ""
           },
           "bgcolor": "#E5ECF6",
           "radialaxis": {
            "gridcolor": "white",
            "linecolor": "white",
            "ticks": ""
           }
          },
          "scene": {
           "xaxis": {
            "backgroundcolor": "#E5ECF6",
            "gridcolor": "white",
            "gridwidth": 2,
            "linecolor": "white",
            "showbackground": true,
            "ticks": "",
            "zerolinecolor": "white"
           },
           "yaxis": {
            "backgroundcolor": "#E5ECF6",
            "gridcolor": "white",
            "gridwidth": 2,
            "linecolor": "white",
            "showbackground": true,
            "ticks": "",
            "zerolinecolor": "white"
           },
           "zaxis": {
            "backgroundcolor": "#E5ECF6",
            "gridcolor": "white",
            "gridwidth": 2,
            "linecolor": "white",
            "showbackground": true,
            "ticks": "",
            "zerolinecolor": "white"
           }
          },
          "shapedefaults": {
           "line": {
            "color": "#2a3f5f"
           }
          },
          "ternary": {
           "aaxis": {
            "gridcolor": "white",
            "linecolor": "white",
            "ticks": ""
           },
           "baxis": {
            "gridcolor": "white",
            "linecolor": "white",
            "ticks": ""
           },
           "bgcolor": "#E5ECF6",
           "caxis": {
            "gridcolor": "white",
            "linecolor": "white",
            "ticks": ""
           }
          },
          "title": {
           "x": 0.05
          },
          "xaxis": {
           "automargin": true,
           "gridcolor": "white",
           "linecolor": "white",
           "ticks": "",
           "title": {
            "standoff": 15
           },
           "zerolinecolor": "white",
           "zerolinewidth": 2
          },
          "yaxis": {
           "automargin": true,
           "gridcolor": "white",
           "linecolor": "white",
           "ticks": "",
           "title": {
            "standoff": 15
           },
           "zerolinecolor": "white",
           "zerolinewidth": 2
          }
         }
        },
        "title": {
         "font": {
          "size": 20
         },
         "text": "Percentage of # of UFC events taking place in the US vs others",
         "x": 0.5
        }
       }
      }
     },
     "metadata": {},
     "output_type": "display_data"
    }
   ],
   "source": [
    "fig = px.pie(pct, values=\"pct_of_events\", names=\"country\",\n",
    "             title=\"Percentage of # of UFC events taking place in the US vs others\", height=500)\n",
    "\n",
    "fig.update_layout(title={\"x\": 0.5, \"font_size\": 20},\n",
    "                  font={\"size\": 14})\n",
    "\n",
    "fig.update_traces(textfont_size=14, textfont={'color': 'white'})\n",
    "\n",
    "fig.show()"
   ]
  },
  {
   "cell_type": "markdown",
   "id": "570b8b87-7f75-4c8f-be73-393840ebe9ef",
   "metadata": {},
   "source": [
    "70.8% is the USA only! Alright, but let's take a look at the states:"
   ]
  },
  {
   "cell_type": "markdown",
   "id": "e5757a37-f106-45d6-8fb2-cc15e9bfc4bf",
   "metadata": {},
   "source": [
    "### Top US states by # of UFC events"
   ]
  },
  {
   "cell_type": "markdown",
   "id": "b6ca6fef-31b8-436a-a12d-9af2233d12c0",
   "metadata": {},
   "source": [
    "#### Preparing the data"
   ]
  },
  {
   "cell_type": "markdown",
   "id": "66e50bb3-8169-4c66-bef5-01bc23129688",
   "metadata": {},
   "source": [
    "Let's prep the data:"
   ]
  },
  {
   "cell_type": "code",
   "execution_count": 195,
   "id": "b134b785-800b-43ce-bfd2-d1d453873ab0",
   "metadata": {},
   "outputs": [
    {
     "data": {
      "text/html": [
       "<div>\n",
       "<style scoped>\n",
       "    .dataframe tbody tr th:only-of-type {\n",
       "        vertical-align: middle;\n",
       "    }\n",
       "\n",
       "    .dataframe tbody tr th {\n",
       "        vertical-align: top;\n",
       "    }\n",
       "\n",
       "    .dataframe thead th {\n",
       "        text-align: right;\n",
       "    }\n",
       "</style>\n",
       "<table border=\"1\" class=\"dataframe\">\n",
       "  <thead>\n",
       "    <tr style=\"text-align: right;\">\n",
       "      <th></th>\n",
       "      <th>state</th>\n",
       "      <th>num_of_events</th>\n",
       "      <th>state_abv</th>\n",
       "    </tr>\n",
       "  </thead>\n",
       "  <tbody>\n",
       "    <tr>\n",
       "      <th>0</th>\n",
       "      <td>Nevada</td>\n",
       "      <td>245</td>\n",
       "      <td>NV</td>\n",
       "    </tr>\n",
       "    <tr>\n",
       "      <th>1</th>\n",
       "      <td>California</td>\n",
       "      <td>33</td>\n",
       "      <td>CA</td>\n",
       "    </tr>\n",
       "    <tr>\n",
       "      <th>2</th>\n",
       "      <td>Texas</td>\n",
       "      <td>25</td>\n",
       "      <td>TX</td>\n",
       "    </tr>\n",
       "    <tr>\n",
       "      <th>3</th>\n",
       "      <td>Florida</td>\n",
       "      <td>22</td>\n",
       "      <td>FL</td>\n",
       "    </tr>\n",
       "    <tr>\n",
       "      <th>4</th>\n",
       "      <td>New Jersey</td>\n",
       "      <td>22</td>\n",
       "      <td>NJ</td>\n",
       "    </tr>\n",
       "  </tbody>\n",
       "</table>\n",
       "</div>"
      ],
      "text/plain": [
       "        state  num_of_events state_abv\n",
       "0      Nevada            245        NV\n",
       "1  California             33        CA\n",
       "2       Texas             25        TX\n",
       "3     Florida             22        FL\n",
       "4  New Jersey             22        NJ"
      ]
     },
     "execution_count": 195,
     "metadata": {},
     "output_type": "execute_result"
    }
   ],
   "source": [
    "# Get a separate df for the top US states\n",
    "top_states = top_locations[top_locations['country'] == 'USA'].copy()\n",
    "# Extract the states from 'event_location' column\n",
    "top_states['state'] = top_states['event_location'].apply(lambda x: x.split(',')[-2].strip())\n",
    "# Count the number of events per state and sort\n",
    "top_states = top_states.groupby('state').sum('num_of_events').sort_values(by='num_of_events', ascending=False).reset_index()\n",
    "\n",
    "# A dictionary that maps full state names to their abbreviations\n",
    "us_state_to_abbrev = {\n",
    "    \"Alabama\": \"AL\",\n",
    "    \"Alaska\": \"AK\",\n",
    "    \"Arizona\": \"AZ\",\n",
    "    \"Arkansas\": \"AR\",\n",
    "    \"California\": \"CA\",\n",
    "    \"Colorado\": \"CO\",\n",
    "    \"Connecticut\": \"CT\",\n",
    "    \"Delaware\": \"DE\",\n",
    "    \"Florida\": \"FL\",\n",
    "    \"Georgia\": \"GA\",\n",
    "    \"Hawaii\": \"HI\",\n",
    "    \"Idaho\": \"ID\",\n",
    "    \"Illinois\": \"IL\",\n",
    "    \"Indiana\": \"IN\",\n",
    "    \"Iowa\": \"IA\",\n",
    "    \"Kansas\": \"KS\",\n",
    "    \"Kentucky\": \"KY\",\n",
    "    \"Louisiana\": \"LA\",\n",
    "    \"Maine\": \"ME\",\n",
    "    \"Maryland\": \"MD\",\n",
    "    \"Massachusetts\": \"MA\",\n",
    "    \"Michigan\": \"MI\",\n",
    "    \"Minnesota\": \"MN\",\n",
    "    \"Mississippi\": \"MS\",\n",
    "    \"Missouri\": \"MO\",\n",
    "    \"Montana\": \"MT\",\n",
    "    \"Nebraska\": \"NE\",\n",
    "    \"Nevada\": \"NV\",\n",
    "    \"New Hampshire\": \"NH\",\n",
    "    \"New Jersey\": \"NJ\",\n",
    "    \"New Mexico\": \"NM\",\n",
    "    \"New York\": \"NY\",\n",
    "    \"North Carolina\": \"NC\",\n",
    "    \"North Dakota\": \"ND\",\n",
    "    \"Ohio\": \"OH\",\n",
    "    \"Oklahoma\": \"OK\",\n",
    "    \"Oregon\": \"OR\",\n",
    "    \"Pennsylvania\": \"PA\",\n",
    "    \"Rhode Island\": \"RI\",\n",
    "    \"South Carolina\": \"SC\",\n",
    "    \"South Dakota\": \"SD\",\n",
    "    \"Tennessee\": \"TN\",\n",
    "    \"Texas\": \"TX\",\n",
    "    \"Utah\": \"UT\",\n",
    "    \"Vermont\": \"VT\",\n",
    "    \"Virginia\": \"VA\",\n",
    "    \"Washington\": \"WA\",\n",
    "    \"DC\": \"WA\",\n",
    "    \"West Virginia\": \"WV\",\n",
    "    \"Wisconsin\": \"WI\",\n",
    "    \"Wyoming\": \"WY\",\n",
    "    \"District of Columbia\": \"DC\",\n",
    "    \"American Samoa\": \"AS\",\n",
    "    \"Guam\": \"GU\",\n",
    "    \"Northern Mariana Islands\": \"MP\",\n",
    "    \"Puerto Rico\": \"PR\",\n",
    "    \"United States Minor Outlying Islands\": \"UM\",\n",
    "    \"Virgin Islands, U.S.\": \"VI\",\n",
    "}\n",
    "\n",
    "# Mapping to abbreviations\n",
    "top_states['state_abv'] = top_states['state'].apply(lambda x: us_state_to_abbrev[x])\n",
    "top_states.head()"
   ]
  },
  {
   "cell_type": "markdown",
   "id": "4a57419f-9e17-4446-bd09-952008ab680e",
   "metadata": {},
   "source": [
    "### Plotting"
   ]
  },
  {
   "cell_type": "code",
   "execution_count": 196,
   "id": "0f4b2e38-4caf-490e-964f-5166a7bb5a48",
   "metadata": {},
   "outputs": [],
   "source": [
    "top_states['log_num_of_events'] = np.log(top_states[\"num_of_events\"])"
   ]
  },
  {
   "cell_type": "code",
   "execution_count": 197,
   "id": "e7f0f176-9e29-42a9-8e0b-6c9f7b18a259",
   "metadata": {},
   "outputs": [
    {
     "data": {
      "application/vnd.plotly.v1+json": {
       "config": {
        "plotlyServerURL": "https://plot.ly"
       },
       "data": [
        {
         "coloraxis": "coloraxis",
         "geo": "geo",
         "hovertemplate": "state_abv=%{location}<br>num_of_events=%{z}<extra></extra>",
         "locationmode": "USA-states",
         "locations": [
          "NV",
          "CA",
          "TX",
          "FL",
          "NJ",
          "NY",
          "CO",
          "LA",
          "IL",
          "NC",
          "MA",
          "TN",
          "OH",
          "GA",
          "PA",
          "AZ",
          "AL",
          "VA",
          "CT",
          "OK",
          "UT",
          "MO",
          "KY",
          "MI",
          "MN",
          "NE",
          "WA",
          "WI",
          "OR",
          "MS",
          "NM",
          "IA",
          "IN",
          "WA",
          "MD",
          "SC",
          "SD",
          "ME",
          "KS",
          "ID",
          "WY"
         ],
         "name": "",
         "type": "choropleth",
         "z": {
          "bdata": "9QAhABkAFgAWABEACgAIAAgABwAHAAcABwAHAAYABgAGAAUABQAEAAQABAADAAMAAwADAAMAAwACAAIAAgACAAIAAgABAAEAAQABAAEAAQABAA==",
          "dtype": "i2"
         }
        },
        {
         "locationmode": "USA-states",
         "locations": [
          "NV",
          "CA",
          "TX",
          "FL",
          "NJ",
          "NY",
          "CO",
          "LA",
          "IL",
          "NC",
          "MA",
          "TN",
          "OH",
          "GA",
          "PA",
          "AZ",
          "AL",
          "VA",
          "CT",
          "OK",
          "UT",
          "MO",
          "KY",
          "MI",
          "MN",
          "NE",
          "WA",
          "WI",
          "OR",
          "MS",
          "NM",
          "IA",
          "IN",
          "WA",
          "MD",
          "SC",
          "SD",
          "ME",
          "KS",
          "ID",
          "WY"
         ],
         "mode": "text",
         "text": [
          "NV",
          "CA",
          "TX",
          "FL",
          "NJ",
          "NY",
          "CO",
          "LA",
          "IL",
          "NC",
          "MA",
          "TN",
          "OH",
          "GA",
          "PA",
          "AZ",
          "AL",
          "VA",
          "CT",
          "OK",
          "UT",
          "MO",
          "KY",
          "MI",
          "MN",
          "NE",
          "WA",
          "WI",
          "OR",
          "MS",
          "NM",
          "IA",
          "IN",
          "WA",
          "MD",
          "SC",
          "SD",
          "ME",
          "KS",
          "ID",
          "WY"
         ],
         "textfont": {
          "color": "red",
          "size": 12
         },
         "type": "scattergeo"
        }
       ],
       "layout": {
        "coloraxis": {
         "colorbar": {
          "title": {
           "text": "num_of_events"
          }
         },
         "colorscale": [
          [
           0,
           "#0d0887"
          ],
          [
           0.1111111111111111,
           "#46039f"
          ],
          [
           0.2222222222222222,
           "#7201a8"
          ],
          [
           0.3333333333333333,
           "#9c179e"
          ],
          [
           0.4444444444444444,
           "#bd3786"
          ],
          [
           0.5555555555555556,
           "#d8576b"
          ],
          [
           0.6666666666666666,
           "#ed7953"
          ],
          [
           0.7777777777777778,
           "#fb9f3a"
          ],
          [
           0.8888888888888888,
           "#fdca26"
          ],
          [
           1,
           "#f0f921"
          ]
         ]
        },
        "geo": {
         "center": {},
         "domain": {
          "x": [
           0,
           1
          ],
          "y": [
           0,
           1
          ]
         },
         "scope": "usa",
         "showcountries": true
        },
        "height": 500,
        "legend": {
         "tracegroupgap": 0
        },
        "margin": {
         "b": 30,
         "l": 30,
         "r": 30,
         "t": 80
        },
        "template": {
         "data": {
          "bar": [
           {
            "error_x": {
             "color": "#2a3f5f"
            },
            "error_y": {
             "color": "#2a3f5f"
            },
            "marker": {
             "line": {
              "color": "#E5ECF6",
              "width": 0.5
             },
             "pattern": {
              "fillmode": "overlay",
              "size": 10,
              "solidity": 0.2
             }
            },
            "type": "bar"
           }
          ],
          "barpolar": [
           {
            "marker": {
             "line": {
              "color": "#E5ECF6",
              "width": 0.5
             },
             "pattern": {
              "fillmode": "overlay",
              "size": 10,
              "solidity": 0.2
             }
            },
            "type": "barpolar"
           }
          ],
          "carpet": [
           {
            "aaxis": {
             "endlinecolor": "#2a3f5f",
             "gridcolor": "white",
             "linecolor": "white",
             "minorgridcolor": "white",
             "startlinecolor": "#2a3f5f"
            },
            "baxis": {
             "endlinecolor": "#2a3f5f",
             "gridcolor": "white",
             "linecolor": "white",
             "minorgridcolor": "white",
             "startlinecolor": "#2a3f5f"
            },
            "type": "carpet"
           }
          ],
          "choropleth": [
           {
            "colorbar": {
             "outlinewidth": 0,
             "ticks": ""
            },
            "type": "choropleth"
           }
          ],
          "contour": [
           {
            "colorbar": {
             "outlinewidth": 0,
             "ticks": ""
            },
            "colorscale": [
             [
              0,
              "#0d0887"
             ],
             [
              0.1111111111111111,
              "#46039f"
             ],
             [
              0.2222222222222222,
              "#7201a8"
             ],
             [
              0.3333333333333333,
              "#9c179e"
             ],
             [
              0.4444444444444444,
              "#bd3786"
             ],
             [
              0.5555555555555556,
              "#d8576b"
             ],
             [
              0.6666666666666666,
              "#ed7953"
             ],
             [
              0.7777777777777778,
              "#fb9f3a"
             ],
             [
              0.8888888888888888,
              "#fdca26"
             ],
             [
              1,
              "#f0f921"
             ]
            ],
            "type": "contour"
           }
          ],
          "contourcarpet": [
           {
            "colorbar": {
             "outlinewidth": 0,
             "ticks": ""
            },
            "type": "contourcarpet"
           }
          ],
          "heatmap": [
           {
            "colorbar": {
             "outlinewidth": 0,
             "ticks": ""
            },
            "colorscale": [
             [
              0,
              "#0d0887"
             ],
             [
              0.1111111111111111,
              "#46039f"
             ],
             [
              0.2222222222222222,
              "#7201a8"
             ],
             [
              0.3333333333333333,
              "#9c179e"
             ],
             [
              0.4444444444444444,
              "#bd3786"
             ],
             [
              0.5555555555555556,
              "#d8576b"
             ],
             [
              0.6666666666666666,
              "#ed7953"
             ],
             [
              0.7777777777777778,
              "#fb9f3a"
             ],
             [
              0.8888888888888888,
              "#fdca26"
             ],
             [
              1,
              "#f0f921"
             ]
            ],
            "type": "heatmap"
           }
          ],
          "histogram": [
           {
            "marker": {
             "pattern": {
              "fillmode": "overlay",
              "size": 10,
              "solidity": 0.2
             }
            },
            "type": "histogram"
           }
          ],
          "histogram2d": [
           {
            "colorbar": {
             "outlinewidth": 0,
             "ticks": ""
            },
            "colorscale": [
             [
              0,
              "#0d0887"
             ],
             [
              0.1111111111111111,
              "#46039f"
             ],
             [
              0.2222222222222222,
              "#7201a8"
             ],
             [
              0.3333333333333333,
              "#9c179e"
             ],
             [
              0.4444444444444444,
              "#bd3786"
             ],
             [
              0.5555555555555556,
              "#d8576b"
             ],
             [
              0.6666666666666666,
              "#ed7953"
             ],
             [
              0.7777777777777778,
              "#fb9f3a"
             ],
             [
              0.8888888888888888,
              "#fdca26"
             ],
             [
              1,
              "#f0f921"
             ]
            ],
            "type": "histogram2d"
           }
          ],
          "histogram2dcontour": [
           {
            "colorbar": {
             "outlinewidth": 0,
             "ticks": ""
            },
            "colorscale": [
             [
              0,
              "#0d0887"
             ],
             [
              0.1111111111111111,
              "#46039f"
             ],
             [
              0.2222222222222222,
              "#7201a8"
             ],
             [
              0.3333333333333333,
              "#9c179e"
             ],
             [
              0.4444444444444444,
              "#bd3786"
             ],
             [
              0.5555555555555556,
              "#d8576b"
             ],
             [
              0.6666666666666666,
              "#ed7953"
             ],
             [
              0.7777777777777778,
              "#fb9f3a"
             ],
             [
              0.8888888888888888,
              "#fdca26"
             ],
             [
              1,
              "#f0f921"
             ]
            ],
            "type": "histogram2dcontour"
           }
          ],
          "mesh3d": [
           {
            "colorbar": {
             "outlinewidth": 0,
             "ticks": ""
            },
            "type": "mesh3d"
           }
          ],
          "parcoords": [
           {
            "line": {
             "colorbar": {
              "outlinewidth": 0,
              "ticks": ""
             }
            },
            "type": "parcoords"
           }
          ],
          "pie": [
           {
            "automargin": true,
            "type": "pie"
           }
          ],
          "scatter": [
           {
            "fillpattern": {
             "fillmode": "overlay",
             "size": 10,
             "solidity": 0.2
            },
            "type": "scatter"
           }
          ],
          "scatter3d": [
           {
            "line": {
             "colorbar": {
              "outlinewidth": 0,
              "ticks": ""
             }
            },
            "marker": {
             "colorbar": {
              "outlinewidth": 0,
              "ticks": ""
             }
            },
            "type": "scatter3d"
           }
          ],
          "scattercarpet": [
           {
            "marker": {
             "colorbar": {
              "outlinewidth": 0,
              "ticks": ""
             }
            },
            "type": "scattercarpet"
           }
          ],
          "scattergeo": [
           {
            "marker": {
             "colorbar": {
              "outlinewidth": 0,
              "ticks": ""
             }
            },
            "type": "scattergeo"
           }
          ],
          "scattergl": [
           {
            "marker": {
             "colorbar": {
              "outlinewidth": 0,
              "ticks": ""
             }
            },
            "type": "scattergl"
           }
          ],
          "scattermap": [
           {
            "marker": {
             "colorbar": {
              "outlinewidth": 0,
              "ticks": ""
             }
            },
            "type": "scattermap"
           }
          ],
          "scattermapbox": [
           {
            "marker": {
             "colorbar": {
              "outlinewidth": 0,
              "ticks": ""
             }
            },
            "type": "scattermapbox"
           }
          ],
          "scatterpolar": [
           {
            "marker": {
             "colorbar": {
              "outlinewidth": 0,
              "ticks": ""
             }
            },
            "type": "scatterpolar"
           }
          ],
          "scatterpolargl": [
           {
            "marker": {
             "colorbar": {
              "outlinewidth": 0,
              "ticks": ""
             }
            },
            "type": "scatterpolargl"
           }
          ],
          "scatterternary": [
           {
            "marker": {
             "colorbar": {
              "outlinewidth": 0,
              "ticks": ""
             }
            },
            "type": "scatterternary"
           }
          ],
          "surface": [
           {
            "colorbar": {
             "outlinewidth": 0,
             "ticks": ""
            },
            "colorscale": [
             [
              0,
              "#0d0887"
             ],
             [
              0.1111111111111111,
              "#46039f"
             ],
             [
              0.2222222222222222,
              "#7201a8"
             ],
             [
              0.3333333333333333,
              "#9c179e"
             ],
             [
              0.4444444444444444,
              "#bd3786"
             ],
             [
              0.5555555555555556,
              "#d8576b"
             ],
             [
              0.6666666666666666,
              "#ed7953"
             ],
             [
              0.7777777777777778,
              "#fb9f3a"
             ],
             [
              0.8888888888888888,
              "#fdca26"
             ],
             [
              1,
              "#f0f921"
             ]
            ],
            "type": "surface"
           }
          ],
          "table": [
           {
            "cells": {
             "fill": {
              "color": "#EBF0F8"
             },
             "line": {
              "color": "white"
             }
            },
            "header": {
             "fill": {
              "color": "#C8D4E3"
             },
             "line": {
              "color": "white"
             }
            },
            "type": "table"
           }
          ]
         },
         "layout": {
          "annotationdefaults": {
           "arrowcolor": "#2a3f5f",
           "arrowhead": 0,
           "arrowwidth": 1
          },
          "autotypenumbers": "strict",
          "coloraxis": {
           "colorbar": {
            "outlinewidth": 0,
            "ticks": ""
           }
          },
          "colorscale": {
           "diverging": [
            [
             0,
             "#8e0152"
            ],
            [
             0.1,
             "#c51b7d"
            ],
            [
             0.2,
             "#de77ae"
            ],
            [
             0.3,
             "#f1b6da"
            ],
            [
             0.4,
             "#fde0ef"
            ],
            [
             0.5,
             "#f7f7f7"
            ],
            [
             0.6,
             "#e6f5d0"
            ],
            [
             0.7,
             "#b8e186"
            ],
            [
             0.8,
             "#7fbc41"
            ],
            [
             0.9,
             "#4d9221"
            ],
            [
             1,
             "#276419"
            ]
           ],
           "sequential": [
            [
             0,
             "#0d0887"
            ],
            [
             0.1111111111111111,
             "#46039f"
            ],
            [
             0.2222222222222222,
             "#7201a8"
            ],
            [
             0.3333333333333333,
             "#9c179e"
            ],
            [
             0.4444444444444444,
             "#bd3786"
            ],
            [
             0.5555555555555556,
             "#d8576b"
            ],
            [
             0.6666666666666666,
             "#ed7953"
            ],
            [
             0.7777777777777778,
             "#fb9f3a"
            ],
            [
             0.8888888888888888,
             "#fdca26"
            ],
            [
             1,
             "#f0f921"
            ]
           ],
           "sequentialminus": [
            [
             0,
             "#0d0887"
            ],
            [
             0.1111111111111111,
             "#46039f"
            ],
            [
             0.2222222222222222,
             "#7201a8"
            ],
            [
             0.3333333333333333,
             "#9c179e"
            ],
            [
             0.4444444444444444,
             "#bd3786"
            ],
            [
             0.5555555555555556,
             "#d8576b"
            ],
            [
             0.6666666666666666,
             "#ed7953"
            ],
            [
             0.7777777777777778,
             "#fb9f3a"
            ],
            [
             0.8888888888888888,
             "#fdca26"
            ],
            [
             1,
             "#f0f921"
            ]
           ]
          },
          "colorway": [
           "#636efa",
           "#EF553B",
           "#00cc96",
           "#ab63fa",
           "#FFA15A",
           "#19d3f3",
           "#FF6692",
           "#B6E880",
           "#FF97FF",
           "#FECB52"
          ],
          "font": {
           "color": "#2a3f5f"
          },
          "geo": {
           "bgcolor": "white",
           "lakecolor": "white",
           "landcolor": "#E5ECF6",
           "showlakes": true,
           "showland": true,
           "subunitcolor": "white"
          },
          "hoverlabel": {
           "align": "left"
          },
          "hovermode": "closest",
          "mapbox": {
           "style": "light"
          },
          "paper_bgcolor": "white",
          "plot_bgcolor": "#E5ECF6",
          "polar": {
           "angularaxis": {
            "gridcolor": "white",
            "linecolor": "white",
            "ticks": ""
           },
           "bgcolor": "#E5ECF6",
           "radialaxis": {
            "gridcolor": "white",
            "linecolor": "white",
            "ticks": ""
           }
          },
          "scene": {
           "xaxis": {
            "backgroundcolor": "#E5ECF6",
            "gridcolor": "white",
            "gridwidth": 2,
            "linecolor": "white",
            "showbackground": true,
            "ticks": "",
            "zerolinecolor": "white"
           },
           "yaxis": {
            "backgroundcolor": "#E5ECF6",
            "gridcolor": "white",
            "gridwidth": 2,
            "linecolor": "white",
            "showbackground": true,
            "ticks": "",
            "zerolinecolor": "white"
           },
           "zaxis": {
            "backgroundcolor": "#E5ECF6",
            "gridcolor": "white",
            "gridwidth": 2,
            "linecolor": "white",
            "showbackground": true,
            "ticks": "",
            "zerolinecolor": "white"
           }
          },
          "shapedefaults": {
           "line": {
            "color": "#2a3f5f"
           }
          },
          "ternary": {
           "aaxis": {
            "gridcolor": "white",
            "linecolor": "white",
            "ticks": ""
           },
           "baxis": {
            "gridcolor": "white",
            "linecolor": "white",
            "ticks": ""
           },
           "bgcolor": "#E5ECF6",
           "caxis": {
            "gridcolor": "white",
            "linecolor": "white",
            "ticks": ""
           }
          },
          "title": {
           "x": 0.05
          },
          "xaxis": {
           "automargin": true,
           "gridcolor": "white",
           "linecolor": "white",
           "ticks": "",
           "title": {
            "standoff": 15
           },
           "zerolinecolor": "white",
           "zerolinewidth": 2
          },
          "yaxis": {
           "automargin": true,
           "gridcolor": "white",
           "linecolor": "white",
           "ticks": "",
           "title": {
            "standoff": 15
           },
           "zerolinecolor": "white",
           "zerolinewidth": 2
          }
         }
        },
        "title": {
         "font": {
          "size": 20
         },
         "text": "The US states by # of UFC events",
         "x": 0.5
        },
        "width": 1000
       }
      }
     },
     "metadata": {},
     "output_type": "display_data"
    }
   ],
   "source": [
    "import plotly.express as px\n",
    "import numpy as np\n",
    "\n",
    "\n",
    "fig = px.choropleth(top_states,\n",
    "                    locations=\"state_abv\",\n",
    "                    locationmode=\"USA-states\",\n",
    "                    color='num_of_events',\n",
    "                    scope=\"usa\",\n",
    "                    title=\"The US states by # of UFC events\",\n",
    "                    color_continuous_scale=px.colors.sequential.Plasma)\n",
    "\n",
    "fig.add_scattergeo(\n",
    "    locations=top_states[\"state_abv\"],\n",
    "    locationmode=\"USA-states\",\n",
    "    text=top_states[\"state_abv\"],\n",
    "    mode=\"text\",\n",
    "    textfont=dict(\n",
    "        size=12,\n",
    "        color='red'\n",
    "    ),\n",
    ")\n",
    "\n",
    "# Make bigger and clearer\n",
    "fig.update_layout(\n",
    "    title={'x': 0.5, \"font_size\": 20},\n",
    "    height=500, width=1000,\n",
    "    geo=dict(showcountries=True),\n",
    "    margin=dict(l=30, r=30, t=80, b=30)\n",
    ")\n",
    "fig.show()"
   ]
  },
  {
   "cell_type": "code",
   "execution_count": 198,
   "id": "69eaeefb-d736-46f0-a366-2e3ebf11ddeb",
   "metadata": {},
   "outputs": [
    {
     "data": {
      "application/vnd.plotly.v1+json": {
       "config": {
        "plotlyServerURL": "https://plot.ly"
       },
       "data": [
        {
         "hovertemplate": "state=%{y}<br>num_of_events=%{x}<extra></extra>",
         "legendgroup": "Nevada",
         "marker": {
          "color": "#636efa",
          "pattern": {
           "shape": ""
          }
         },
         "name": "Nevada",
         "orientation": "h",
         "showlegend": true,
         "textposition": "auto",
         "type": "bar",
         "x": {
          "bdata": "9QA=",
          "dtype": "i2"
         },
         "xaxis": "x",
         "y": [
          "Nevada"
         ],
         "yaxis": "y"
        },
        {
         "hovertemplate": "state=%{y}<br>num_of_events=%{x}<extra></extra>",
         "legendgroup": "California",
         "marker": {
          "color": "#EF553B",
          "pattern": {
           "shape": ""
          }
         },
         "name": "California",
         "orientation": "h",
         "showlegend": true,
         "textposition": "auto",
         "type": "bar",
         "x": {
          "bdata": "IQ==",
          "dtype": "i1"
         },
         "xaxis": "x",
         "y": [
          "California"
         ],
         "yaxis": "y"
        },
        {
         "hovertemplate": "state=%{y}<br>num_of_events=%{x}<extra></extra>",
         "legendgroup": "Texas",
         "marker": {
          "color": "#00cc96",
          "pattern": {
           "shape": ""
          }
         },
         "name": "Texas",
         "orientation": "h",
         "showlegend": true,
         "textposition": "auto",
         "type": "bar",
         "x": {
          "bdata": "GQ==",
          "dtype": "i1"
         },
         "xaxis": "x",
         "y": [
          "Texas"
         ],
         "yaxis": "y"
        },
        {
         "hovertemplate": "state=%{y}<br>num_of_events=%{x}<extra></extra>",
         "legendgroup": "Florida",
         "marker": {
          "color": "#ab63fa",
          "pattern": {
           "shape": ""
          }
         },
         "name": "Florida",
         "orientation": "h",
         "showlegend": true,
         "textposition": "auto",
         "type": "bar",
         "x": {
          "bdata": "Fg==",
          "dtype": "i1"
         },
         "xaxis": "x",
         "y": [
          "Florida"
         ],
         "yaxis": "y"
        },
        {
         "hovertemplate": "state=%{y}<br>num_of_events=%{x}<extra></extra>",
         "legendgroup": "New Jersey",
         "marker": {
          "color": "#FFA15A",
          "pattern": {
           "shape": ""
          }
         },
         "name": "New Jersey",
         "orientation": "h",
         "showlegend": true,
         "textposition": "auto",
         "type": "bar",
         "x": {
          "bdata": "Fg==",
          "dtype": "i1"
         },
         "xaxis": "x",
         "y": [
          "New Jersey"
         ],
         "yaxis": "y"
        },
        {
         "hovertemplate": "state=%{y}<br>num_of_events=%{x}<extra></extra>",
         "legendgroup": "New York",
         "marker": {
          "color": "#19d3f3",
          "pattern": {
           "shape": ""
          }
         },
         "name": "New York",
         "orientation": "h",
         "showlegend": true,
         "textposition": "auto",
         "type": "bar",
         "x": {
          "bdata": "EQ==",
          "dtype": "i1"
         },
         "xaxis": "x",
         "y": [
          "New York"
         ],
         "yaxis": "y"
        },
        {
         "hovertemplate": "state=%{y}<br>num_of_events=%{x}<extra></extra>",
         "legendgroup": "Colorado",
         "marker": {
          "color": "#FF6692",
          "pattern": {
           "shape": ""
          }
         },
         "name": "Colorado",
         "orientation": "h",
         "showlegend": true,
         "textposition": "auto",
         "type": "bar",
         "x": {
          "bdata": "Cg==",
          "dtype": "i1"
         },
         "xaxis": "x",
         "y": [
          "Colorado"
         ],
         "yaxis": "y"
        },
        {
         "hovertemplate": "state=%{y}<br>num_of_events=%{x}<extra></extra>",
         "legendgroup": "Louisiana",
         "marker": {
          "color": "#B6E880",
          "pattern": {
           "shape": ""
          }
         },
         "name": "Louisiana",
         "orientation": "h",
         "showlegend": true,
         "textposition": "auto",
         "type": "bar",
         "x": {
          "bdata": "CA==",
          "dtype": "i1"
         },
         "xaxis": "x",
         "y": [
          "Louisiana"
         ],
         "yaxis": "y"
        },
        {
         "hovertemplate": "state=%{y}<br>num_of_events=%{x}<extra></extra>",
         "legendgroup": "Illinois",
         "marker": {
          "color": "#FF97FF",
          "pattern": {
           "shape": ""
          }
         },
         "name": "Illinois",
         "orientation": "h",
         "showlegend": true,
         "textposition": "auto",
         "type": "bar",
         "x": {
          "bdata": "CA==",
          "dtype": "i1"
         },
         "xaxis": "x",
         "y": [
          "Illinois"
         ],
         "yaxis": "y"
        },
        {
         "hovertemplate": "state=%{y}<br>num_of_events=%{x}<extra></extra>",
         "legendgroup": "North Carolina",
         "marker": {
          "color": "#FECB52",
          "pattern": {
           "shape": ""
          }
         },
         "name": "North Carolina",
         "orientation": "h",
         "showlegend": true,
         "textposition": "auto",
         "type": "bar",
         "x": {
          "bdata": "Bw==",
          "dtype": "i1"
         },
         "xaxis": "x",
         "y": [
          "North Carolina"
         ],
         "yaxis": "y"
        },
        {
         "hovertemplate": "state=%{y}<br>num_of_events=%{x}<extra></extra>",
         "legendgroup": "Massachusetts",
         "marker": {
          "color": "#636efa",
          "pattern": {
           "shape": ""
          }
         },
         "name": "Massachusetts",
         "orientation": "h",
         "showlegend": true,
         "textposition": "auto",
         "type": "bar",
         "x": {
          "bdata": "Bw==",
          "dtype": "i1"
         },
         "xaxis": "x",
         "y": [
          "Massachusetts"
         ],
         "yaxis": "y"
        },
        {
         "hovertemplate": "state=%{y}<br>num_of_events=%{x}<extra></extra>",
         "legendgroup": "Tennessee",
         "marker": {
          "color": "#EF553B",
          "pattern": {
           "shape": ""
          }
         },
         "name": "Tennessee",
         "orientation": "h",
         "showlegend": true,
         "textposition": "auto",
         "type": "bar",
         "x": {
          "bdata": "Bw==",
          "dtype": "i1"
         },
         "xaxis": "x",
         "y": [
          "Tennessee"
         ],
         "yaxis": "y"
        },
        {
         "hovertemplate": "state=%{y}<br>num_of_events=%{x}<extra></extra>",
         "legendgroup": "Ohio",
         "marker": {
          "color": "#00cc96",
          "pattern": {
           "shape": ""
          }
         },
         "name": "Ohio",
         "orientation": "h",
         "showlegend": true,
         "textposition": "auto",
         "type": "bar",
         "x": {
          "bdata": "Bw==",
          "dtype": "i1"
         },
         "xaxis": "x",
         "y": [
          "Ohio"
         ],
         "yaxis": "y"
        },
        {
         "hovertemplate": "state=%{y}<br>num_of_events=%{x}<extra></extra>",
         "legendgroup": "Georgia",
         "marker": {
          "color": "#ab63fa",
          "pattern": {
           "shape": ""
          }
         },
         "name": "Georgia",
         "orientation": "h",
         "showlegend": true,
         "textposition": "auto",
         "type": "bar",
         "x": {
          "bdata": "Bw==",
          "dtype": "i1"
         },
         "xaxis": "x",
         "y": [
          "Georgia"
         ],
         "yaxis": "y"
        },
        {
         "hovertemplate": "state=%{y}<br>num_of_events=%{x}<extra></extra>",
         "legendgroup": "Pennsylvania",
         "marker": {
          "color": "#FFA15A",
          "pattern": {
           "shape": ""
          }
         },
         "name": "Pennsylvania",
         "orientation": "h",
         "showlegend": true,
         "textposition": "auto",
         "type": "bar",
         "x": {
          "bdata": "Bg==",
          "dtype": "i1"
         },
         "xaxis": "x",
         "y": [
          "Pennsylvania"
         ],
         "yaxis": "y"
        },
        {
         "hovertemplate": "state=%{y}<br>num_of_events=%{x}<extra></extra>",
         "legendgroup": "Arizona",
         "marker": {
          "color": "#19d3f3",
          "pattern": {
           "shape": ""
          }
         },
         "name": "Arizona",
         "orientation": "h",
         "showlegend": true,
         "textposition": "auto",
         "type": "bar",
         "x": {
          "bdata": "Bg==",
          "dtype": "i1"
         },
         "xaxis": "x",
         "y": [
          "Arizona"
         ],
         "yaxis": "y"
        },
        {
         "hovertemplate": "state=%{y}<br>num_of_events=%{x}<extra></extra>",
         "legendgroup": "Alabama",
         "marker": {
          "color": "#FF6692",
          "pattern": {
           "shape": ""
          }
         },
         "name": "Alabama",
         "orientation": "h",
         "showlegend": true,
         "textposition": "auto",
         "type": "bar",
         "x": {
          "bdata": "Bg==",
          "dtype": "i1"
         },
         "xaxis": "x",
         "y": [
          "Alabama"
         ],
         "yaxis": "y"
        },
        {
         "hovertemplate": "state=%{y}<br>num_of_events=%{x}<extra></extra>",
         "legendgroup": "Virginia",
         "marker": {
          "color": "#B6E880",
          "pattern": {
           "shape": ""
          }
         },
         "name": "Virginia",
         "orientation": "h",
         "showlegend": true,
         "textposition": "auto",
         "type": "bar",
         "x": {
          "bdata": "BQ==",
          "dtype": "i1"
         },
         "xaxis": "x",
         "y": [
          "Virginia"
         ],
         "yaxis": "y"
        },
        {
         "hovertemplate": "state=%{y}<br>num_of_events=%{x}<extra></extra>",
         "legendgroup": "Connecticut",
         "marker": {
          "color": "#FF97FF",
          "pattern": {
           "shape": ""
          }
         },
         "name": "Connecticut",
         "orientation": "h",
         "showlegend": true,
         "textposition": "auto",
         "type": "bar",
         "x": {
          "bdata": "BQ==",
          "dtype": "i1"
         },
         "xaxis": "x",
         "y": [
          "Connecticut"
         ],
         "yaxis": "y"
        },
        {
         "hovertemplate": "state=%{y}<br>num_of_events=%{x}<extra></extra>",
         "legendgroup": "Oklahoma",
         "marker": {
          "color": "#FECB52",
          "pattern": {
           "shape": ""
          }
         },
         "name": "Oklahoma",
         "orientation": "h",
         "showlegend": true,
         "textposition": "auto",
         "type": "bar",
         "x": {
          "bdata": "BA==",
          "dtype": "i1"
         },
         "xaxis": "x",
         "y": [
          "Oklahoma"
         ],
         "yaxis": "y"
        }
       ],
       "layout": {
        "barmode": "relative",
        "font": {
         "size": 14
        },
        "height": 500,
        "legend": {
         "title": {
          "text": "state"
         },
         "tracegroupgap": 0
        },
        "margin": {
         "t": 60
        },
        "showlegend": false,
        "template": {
         "data": {
          "bar": [
           {
            "error_x": {
             "color": "#2a3f5f"
            },
            "error_y": {
             "color": "#2a3f5f"
            },
            "marker": {
             "line": {
              "color": "#E5ECF6",
              "width": 0.5
             },
             "pattern": {
              "fillmode": "overlay",
              "size": 10,
              "solidity": 0.2
             }
            },
            "type": "bar"
           }
          ],
          "barpolar": [
           {
            "marker": {
             "line": {
              "color": "#E5ECF6",
              "width": 0.5
             },
             "pattern": {
              "fillmode": "overlay",
              "size": 10,
              "solidity": 0.2
             }
            },
            "type": "barpolar"
           }
          ],
          "carpet": [
           {
            "aaxis": {
             "endlinecolor": "#2a3f5f",
             "gridcolor": "white",
             "linecolor": "white",
             "minorgridcolor": "white",
             "startlinecolor": "#2a3f5f"
            },
            "baxis": {
             "endlinecolor": "#2a3f5f",
             "gridcolor": "white",
             "linecolor": "white",
             "minorgridcolor": "white",
             "startlinecolor": "#2a3f5f"
            },
            "type": "carpet"
           }
          ],
          "choropleth": [
           {
            "colorbar": {
             "outlinewidth": 0,
             "ticks": ""
            },
            "type": "choropleth"
           }
          ],
          "contour": [
           {
            "colorbar": {
             "outlinewidth": 0,
             "ticks": ""
            },
            "colorscale": [
             [
              0,
              "#0d0887"
             ],
             [
              0.1111111111111111,
              "#46039f"
             ],
             [
              0.2222222222222222,
              "#7201a8"
             ],
             [
              0.3333333333333333,
              "#9c179e"
             ],
             [
              0.4444444444444444,
              "#bd3786"
             ],
             [
              0.5555555555555556,
              "#d8576b"
             ],
             [
              0.6666666666666666,
              "#ed7953"
             ],
             [
              0.7777777777777778,
              "#fb9f3a"
             ],
             [
              0.8888888888888888,
              "#fdca26"
             ],
             [
              1,
              "#f0f921"
             ]
            ],
            "type": "contour"
           }
          ],
          "contourcarpet": [
           {
            "colorbar": {
             "outlinewidth": 0,
             "ticks": ""
            },
            "type": "contourcarpet"
           }
          ],
          "heatmap": [
           {
            "colorbar": {
             "outlinewidth": 0,
             "ticks": ""
            },
            "colorscale": [
             [
              0,
              "#0d0887"
             ],
             [
              0.1111111111111111,
              "#46039f"
             ],
             [
              0.2222222222222222,
              "#7201a8"
             ],
             [
              0.3333333333333333,
              "#9c179e"
             ],
             [
              0.4444444444444444,
              "#bd3786"
             ],
             [
              0.5555555555555556,
              "#d8576b"
             ],
             [
              0.6666666666666666,
              "#ed7953"
             ],
             [
              0.7777777777777778,
              "#fb9f3a"
             ],
             [
              0.8888888888888888,
              "#fdca26"
             ],
             [
              1,
              "#f0f921"
             ]
            ],
            "type": "heatmap"
           }
          ],
          "histogram": [
           {
            "marker": {
             "pattern": {
              "fillmode": "overlay",
              "size": 10,
              "solidity": 0.2
             }
            },
            "type": "histogram"
           }
          ],
          "histogram2d": [
           {
            "colorbar": {
             "outlinewidth": 0,
             "ticks": ""
            },
            "colorscale": [
             [
              0,
              "#0d0887"
             ],
             [
              0.1111111111111111,
              "#46039f"
             ],
             [
              0.2222222222222222,
              "#7201a8"
             ],
             [
              0.3333333333333333,
              "#9c179e"
             ],
             [
              0.4444444444444444,
              "#bd3786"
             ],
             [
              0.5555555555555556,
              "#d8576b"
             ],
             [
              0.6666666666666666,
              "#ed7953"
             ],
             [
              0.7777777777777778,
              "#fb9f3a"
             ],
             [
              0.8888888888888888,
              "#fdca26"
             ],
             [
              1,
              "#f0f921"
             ]
            ],
            "type": "histogram2d"
           }
          ],
          "histogram2dcontour": [
           {
            "colorbar": {
             "outlinewidth": 0,
             "ticks": ""
            },
            "colorscale": [
             [
              0,
              "#0d0887"
             ],
             [
              0.1111111111111111,
              "#46039f"
             ],
             [
              0.2222222222222222,
              "#7201a8"
             ],
             [
              0.3333333333333333,
              "#9c179e"
             ],
             [
              0.4444444444444444,
              "#bd3786"
             ],
             [
              0.5555555555555556,
              "#d8576b"
             ],
             [
              0.6666666666666666,
              "#ed7953"
             ],
             [
              0.7777777777777778,
              "#fb9f3a"
             ],
             [
              0.8888888888888888,
              "#fdca26"
             ],
             [
              1,
              "#f0f921"
             ]
            ],
            "type": "histogram2dcontour"
           }
          ],
          "mesh3d": [
           {
            "colorbar": {
             "outlinewidth": 0,
             "ticks": ""
            },
            "type": "mesh3d"
           }
          ],
          "parcoords": [
           {
            "line": {
             "colorbar": {
              "outlinewidth": 0,
              "ticks": ""
             }
            },
            "type": "parcoords"
           }
          ],
          "pie": [
           {
            "automargin": true,
            "type": "pie"
           }
          ],
          "scatter": [
           {
            "fillpattern": {
             "fillmode": "overlay",
             "size": 10,
             "solidity": 0.2
            },
            "type": "scatter"
           }
          ],
          "scatter3d": [
           {
            "line": {
             "colorbar": {
              "outlinewidth": 0,
              "ticks": ""
             }
            },
            "marker": {
             "colorbar": {
              "outlinewidth": 0,
              "ticks": ""
             }
            },
            "type": "scatter3d"
           }
          ],
          "scattercarpet": [
           {
            "marker": {
             "colorbar": {
              "outlinewidth": 0,
              "ticks": ""
             }
            },
            "type": "scattercarpet"
           }
          ],
          "scattergeo": [
           {
            "marker": {
             "colorbar": {
              "outlinewidth": 0,
              "ticks": ""
             }
            },
            "type": "scattergeo"
           }
          ],
          "scattergl": [
           {
            "marker": {
             "colorbar": {
              "outlinewidth": 0,
              "ticks": ""
             }
            },
            "type": "scattergl"
           }
          ],
          "scattermap": [
           {
            "marker": {
             "colorbar": {
              "outlinewidth": 0,
              "ticks": ""
             }
            },
            "type": "scattermap"
           }
          ],
          "scattermapbox": [
           {
            "marker": {
             "colorbar": {
              "outlinewidth": 0,
              "ticks": ""
             }
            },
            "type": "scattermapbox"
           }
          ],
          "scatterpolar": [
           {
            "marker": {
             "colorbar": {
              "outlinewidth": 0,
              "ticks": ""
             }
            },
            "type": "scatterpolar"
           }
          ],
          "scatterpolargl": [
           {
            "marker": {
             "colorbar": {
              "outlinewidth": 0,
              "ticks": ""
             }
            },
            "type": "scatterpolargl"
           }
          ],
          "scatterternary": [
           {
            "marker": {
             "colorbar": {
              "outlinewidth": 0,
              "ticks": ""
             }
            },
            "type": "scatterternary"
           }
          ],
          "surface": [
           {
            "colorbar": {
             "outlinewidth": 0,
             "ticks": ""
            },
            "colorscale": [
             [
              0,
              "#0d0887"
             ],
             [
              0.1111111111111111,
              "#46039f"
             ],
             [
              0.2222222222222222,
              "#7201a8"
             ],
             [
              0.3333333333333333,
              "#9c179e"
             ],
             [
              0.4444444444444444,
              "#bd3786"
             ],
             [
              0.5555555555555556,
              "#d8576b"
             ],
             [
              0.6666666666666666,
              "#ed7953"
             ],
             [
              0.7777777777777778,
              "#fb9f3a"
             ],
             [
              0.8888888888888888,
              "#fdca26"
             ],
             [
              1,
              "#f0f921"
             ]
            ],
            "type": "surface"
           }
          ],
          "table": [
           {
            "cells": {
             "fill": {
              "color": "#EBF0F8"
             },
             "line": {
              "color": "white"
             }
            },
            "header": {
             "fill": {
              "color": "#C8D4E3"
             },
             "line": {
              "color": "white"
             }
            },
            "type": "table"
           }
          ]
         },
         "layout": {
          "annotationdefaults": {
           "arrowcolor": "#2a3f5f",
           "arrowhead": 0,
           "arrowwidth": 1
          },
          "autotypenumbers": "strict",
          "coloraxis": {
           "colorbar": {
            "outlinewidth": 0,
            "ticks": ""
           }
          },
          "colorscale": {
           "diverging": [
            [
             0,
             "#8e0152"
            ],
            [
             0.1,
             "#c51b7d"
            ],
            [
             0.2,
             "#de77ae"
            ],
            [
             0.3,
             "#f1b6da"
            ],
            [
             0.4,
             "#fde0ef"
            ],
            [
             0.5,
             "#f7f7f7"
            ],
            [
             0.6,
             "#e6f5d0"
            ],
            [
             0.7,
             "#b8e186"
            ],
            [
             0.8,
             "#7fbc41"
            ],
            [
             0.9,
             "#4d9221"
            ],
            [
             1,
             "#276419"
            ]
           ],
           "sequential": [
            [
             0,
             "#0d0887"
            ],
            [
             0.1111111111111111,
             "#46039f"
            ],
            [
             0.2222222222222222,
             "#7201a8"
            ],
            [
             0.3333333333333333,
             "#9c179e"
            ],
            [
             0.4444444444444444,
             "#bd3786"
            ],
            [
             0.5555555555555556,
             "#d8576b"
            ],
            [
             0.6666666666666666,
             "#ed7953"
            ],
            [
             0.7777777777777778,
             "#fb9f3a"
            ],
            [
             0.8888888888888888,
             "#fdca26"
            ],
            [
             1,
             "#f0f921"
            ]
           ],
           "sequentialminus": [
            [
             0,
             "#0d0887"
            ],
            [
             0.1111111111111111,
             "#46039f"
            ],
            [
             0.2222222222222222,
             "#7201a8"
            ],
            [
             0.3333333333333333,
             "#9c179e"
            ],
            [
             0.4444444444444444,
             "#bd3786"
            ],
            [
             0.5555555555555556,
             "#d8576b"
            ],
            [
             0.6666666666666666,
             "#ed7953"
            ],
            [
             0.7777777777777778,
             "#fb9f3a"
            ],
            [
             0.8888888888888888,
             "#fdca26"
            ],
            [
             1,
             "#f0f921"
            ]
           ]
          },
          "colorway": [
           "#636efa",
           "#EF553B",
           "#00cc96",
           "#ab63fa",
           "#FFA15A",
           "#19d3f3",
           "#FF6692",
           "#B6E880",
           "#FF97FF",
           "#FECB52"
          ],
          "font": {
           "color": "#2a3f5f"
          },
          "geo": {
           "bgcolor": "white",
           "lakecolor": "white",
           "landcolor": "#E5ECF6",
           "showlakes": true,
           "showland": true,
           "subunitcolor": "white"
          },
          "hoverlabel": {
           "align": "left"
          },
          "hovermode": "closest",
          "mapbox": {
           "style": "light"
          },
          "paper_bgcolor": "white",
          "plot_bgcolor": "#E5ECF6",
          "polar": {
           "angularaxis": {
            "gridcolor": "white",
            "linecolor": "white",
            "ticks": ""
           },
           "bgcolor": "#E5ECF6",
           "radialaxis": {
            "gridcolor": "white",
            "linecolor": "white",
            "ticks": ""
           }
          },
          "scene": {
           "xaxis": {
            "backgroundcolor": "#E5ECF6",
            "gridcolor": "white",
            "gridwidth": 2,
            "linecolor": "white",
            "showbackground": true,
            "ticks": "",
            "zerolinecolor": "white"
           },
           "yaxis": {
            "backgroundcolor": "#E5ECF6",
            "gridcolor": "white",
            "gridwidth": 2,
            "linecolor": "white",
            "showbackground": true,
            "ticks": "",
            "zerolinecolor": "white"
           },
           "zaxis": {
            "backgroundcolor": "#E5ECF6",
            "gridcolor": "white",
            "gridwidth": 2,
            "linecolor": "white",
            "showbackground": true,
            "ticks": "",
            "zerolinecolor": "white"
           }
          },
          "shapedefaults": {
           "line": {
            "color": "#2a3f5f"
           }
          },
          "ternary": {
           "aaxis": {
            "gridcolor": "white",
            "linecolor": "white",
            "ticks": ""
           },
           "baxis": {
            "gridcolor": "white",
            "linecolor": "white",
            "ticks": ""
           },
           "bgcolor": "#E5ECF6",
           "caxis": {
            "gridcolor": "white",
            "linecolor": "white",
            "ticks": ""
           }
          },
          "title": {
           "x": 0.05
          },
          "xaxis": {
           "automargin": true,
           "gridcolor": "white",
           "linecolor": "white",
           "ticks": "",
           "title": {
            "standoff": 15
           },
           "zerolinecolor": "white",
           "zerolinewidth": 2
          },
          "yaxis": {
           "automargin": true,
           "gridcolor": "white",
           "linecolor": "white",
           "ticks": "",
           "title": {
            "standoff": 15
           },
           "zerolinecolor": "white",
           "zerolinewidth": 2
          }
         }
        },
        "title": {
         "font": {
          "size": 20
         },
         "text": "Top 20 countries by # of UFC Events",
         "x": 0.5
        },
        "xaxis": {
         "anchor": "y",
         "domain": [
          0,
          1
         ],
         "tickmode": "array",
         "tickvals": [
          20,
          50,
          100,
          200,
          300,
          400,
          500
         ],
         "title": {
          "standoff": 25,
          "text": "Number of events"
         }
        },
        "yaxis": {
         "anchor": "x",
         "categoryarray": [
          "Oklahoma",
          "Connecticut",
          "Virginia",
          "Alabama",
          "Arizona",
          "Pennsylvania",
          "Georgia",
          "Ohio",
          "Tennessee",
          "Massachusetts",
          "North Carolina",
          "Illinois",
          "Louisiana",
          "Colorado",
          "New York",
          "New Jersey",
          "Florida",
          "Texas",
          "California",
          "Nevada"
         ],
         "categoryorder": "array",
         "domain": [
          0,
          1
         ],
         "title": {
          "standoff": 40,
          "text": "Country"
         }
        }
       }
      }
     },
     "metadata": {},
     "output_type": "display_data"
    }
   ],
   "source": [
    "fig = px.bar(top_states[:20], x=\"num_of_events\", y=\"state\", color=\"state\")\n",
    "\n",
    "\n",
    "fig.update_layout(title={\"text\": \"Top 20 countries by # of UFC Events\", \"x\": 0.5, \"font_size\": 20},\n",
    "                  font={\"size\": 14}, \n",
    "                  xaxis=dict(\n",
    "                      tickmode='array', tickvals=[20, 50, 100, 200, 300, 400, 500],\n",
    "                      title = \"Number of events\", title_standoff=25\n",
    "                  ),\n",
    "                  yaxis=dict(\n",
    "                      title=\"Country\", title_standoff=40\n",
    "                  ),\n",
    "                  \n",
    "                  showlegend=False, height=500)\n",
    "\n",
    "fig.show()"
   ]
  },
  {
   "cell_type": "markdown",
   "id": "a59598db-c9fc-47ff-aacb-bac8e4e1a185",
   "metadata": {},
   "source": [
    "Let's take a look at a few:\n",
    "* Nevada is #1 as Las Vegas is the fight capital of the world, it is considered the home of boxing since 1960s (Muhammad Ali, Mike Tyson, Mayweather), the biggest fights are usually expected to be in Vegas. So UFC benefits from Las Vegas's established reputation as the world's top fight city. Some other reasons are that UFC is headquartered in Las Vegas, Nevada's State Athletic Commission being fighter-friendly and high tourism aspect.\n",
    "* California at #2 because of the largest population in the U.S. has huge fanbase and ticket demand, also CA has been longtime MMA-friendly since it was the first state to regulate MMA (1990s) also LA events are very good for media eyeballs.\n",
    "* Texas at #3 because of the low-friction regulation, drug testing and licencing is usually easier in Texas. Additionally, Texas offers stadium-sized venues like Toyota Center and passionate fanbase.\n",
    "* Florida at #4 also because of low regulatory risk, and one a place for capturing Latin/Caribbean fanbase.\n",
    "* New York at #6 is interesting, even though the strictest regulation, UFC literally lobbied 10+ years to legalize MMA, which finally passed in 2016. NY is prestige & media, MSG is known as \"World's most famous arena\", NY cards are often loaded PPVs."
   ]
  },
  {
   "cell_type": "markdown",
   "id": "63e40568-ce92-40e8-bfd0-9ffc0a336775",
   "metadata": {},
   "source": [
    "## 2. What is the historical average amount of UFC fights hosted annually?"
   ]
  },
  {
   "cell_type": "markdown",
   "id": "e191abd5-352a-461f-b828-c918a7e957f0",
   "metadata": {},
   "source": [
    "Preparing the data for plotting. Dropping duplicates, saving only the annual data, and then sorting it:"
   ]
  },
  {
   "cell_type": "code",
   "execution_count": 199,
   "id": "def3907a-b522-4836-9a40-cf96c90534e2",
   "metadata": {},
   "outputs": [
    {
     "data": {
      "text/html": [
       "<div>\n",
       "<style scoped>\n",
       "    .dataframe tbody tr th:only-of-type {\n",
       "        vertical-align: middle;\n",
       "    }\n",
       "\n",
       "    .dataframe tbody tr th {\n",
       "        vertical-align: top;\n",
       "    }\n",
       "\n",
       "    .dataframe thead th {\n",
       "        text-align: right;\n",
       "    }\n",
       "</style>\n",
       "<table border=\"1\" class=\"dataframe\">\n",
       "  <thead>\n",
       "    <tr style=\"text-align: right;\">\n",
       "      <th></th>\n",
       "      <th>event_year</th>\n",
       "      <th>num_of_events</th>\n",
       "    </tr>\n",
       "  </thead>\n",
       "  <tbody>\n",
       "    <tr>\n",
       "      <th>0</th>\n",
       "      <td>2024</td>\n",
       "      <td>36</td>\n",
       "    </tr>\n",
       "    <tr>\n",
       "      <th>1</th>\n",
       "      <td>2023</td>\n",
       "      <td>43</td>\n",
       "    </tr>\n",
       "    <tr>\n",
       "      <th>2</th>\n",
       "      <td>2022</td>\n",
       "      <td>42</td>\n",
       "    </tr>\n",
       "    <tr>\n",
       "      <th>3</th>\n",
       "      <td>2021</td>\n",
       "      <td>43</td>\n",
       "    </tr>\n",
       "    <tr>\n",
       "      <th>4</th>\n",
       "      <td>2020</td>\n",
       "      <td>41</td>\n",
       "    </tr>\n",
       "  </tbody>\n",
       "</table>\n",
       "</div>"
      ],
      "text/plain": [
       "   event_year  num_of_events\n",
       "0        2024             36\n",
       "1        2023             43\n",
       "2        2022             42\n",
       "3        2021             43\n",
       "4        2020             41"
      ]
     },
     "execution_count": 199,
     "metadata": {},
     "output_type": "execute_result"
    }
   ],
   "source": [
    "# Drop duplicates\n",
    "events_annually = df[['event_name', 'event_date']].drop_duplicates()\n",
    "# Extracting annual data\n",
    "events_annually['event_year'] = pd.to_datetime(events_annually['event_date'], dayfirst=True).dt.year\n",
    "\n",
    "# Sorting \n",
    "events_annually_counts = events_annually['event_year'].value_counts(sort=False)\n",
    "# Making it look more presentable\n",
    "events_annually_counts = events_annually_counts.reset_index().rename(columns={'count': 'num_of_events'})\n",
    "\n",
    "# Taking a look\n",
    "events_annually_counts.head()"
   ]
  },
  {
   "cell_type": "markdown",
   "id": "17cf30de-6c48-4603-961f-f6ccb27d1785",
   "metadata": {},
   "source": [
    "Let's plot this:"
   ]
  },
  {
   "cell_type": "code",
   "execution_count": 200,
   "id": "ddb95a76-939e-407b-b9b3-e8900c179a1c",
   "metadata": {},
   "outputs": [
    {
     "data": {
      "application/vnd.plotly.v1+json": {
       "config": {
        "plotlyServerURL": "https://plot.ly"
       },
       "data": [
        {
         "hovertemplate": "event_year=%{x}<br>num_of_events=%{y}<extra></extra>",
         "legendgroup": "",
         "line": {
          "color": "#636efa",
          "dash": "solid",
          "width": 2.5
         },
         "marker": {
          "symbol": "circle"
         },
         "mode": "lines+markers",
         "name": "",
         "orientation": "v",
         "showlegend": false,
         "type": "scatter",
         "x": {
          "bdata": "6AcAAOcHAADmBwAA5QcAAOQHAADjBwAA4gcAAOEHAADgBwAA3wcAAN4HAADdBwAA3AcAANsHAADaBwAA2QcAANgHAADXBwAA1gcAANUHAADUBwAA0wcAANIHAADRBwAA0AcAAM8HAADOBwAAzQcAAMwHAADLBwAAygcAAA==",
          "dtype": "i4"
         },
         "xaxis": "x",
         "y": {
          "bdata": "JCsqKykqJycpKS4hHxsYFBQTEgoFBQcFBgYDBQUEAw==",
          "dtype": "i1"
         },
         "yaxis": "y"
        }
       ],
       "layout": {
        "font": {
         "size": 14
        },
        "height": 500,
        "legend": {
         "tracegroupgap": 0
        },
        "margin": {
         "t": 60
        },
        "template": {
         "data": {
          "bar": [
           {
            "error_x": {
             "color": "#2a3f5f"
            },
            "error_y": {
             "color": "#2a3f5f"
            },
            "marker": {
             "line": {
              "color": "#E5ECF6",
              "width": 0.5
             },
             "pattern": {
              "fillmode": "overlay",
              "size": 10,
              "solidity": 0.2
             }
            },
            "type": "bar"
           }
          ],
          "barpolar": [
           {
            "marker": {
             "line": {
              "color": "#E5ECF6",
              "width": 0.5
             },
             "pattern": {
              "fillmode": "overlay",
              "size": 10,
              "solidity": 0.2
             }
            },
            "type": "barpolar"
           }
          ],
          "carpet": [
           {
            "aaxis": {
             "endlinecolor": "#2a3f5f",
             "gridcolor": "white",
             "linecolor": "white",
             "minorgridcolor": "white",
             "startlinecolor": "#2a3f5f"
            },
            "baxis": {
             "endlinecolor": "#2a3f5f",
             "gridcolor": "white",
             "linecolor": "white",
             "minorgridcolor": "white",
             "startlinecolor": "#2a3f5f"
            },
            "type": "carpet"
           }
          ],
          "choropleth": [
           {
            "colorbar": {
             "outlinewidth": 0,
             "ticks": ""
            },
            "type": "choropleth"
           }
          ],
          "contour": [
           {
            "colorbar": {
             "outlinewidth": 0,
             "ticks": ""
            },
            "colorscale": [
             [
              0,
              "#0d0887"
             ],
             [
              0.1111111111111111,
              "#46039f"
             ],
             [
              0.2222222222222222,
              "#7201a8"
             ],
             [
              0.3333333333333333,
              "#9c179e"
             ],
             [
              0.4444444444444444,
              "#bd3786"
             ],
             [
              0.5555555555555556,
              "#d8576b"
             ],
             [
              0.6666666666666666,
              "#ed7953"
             ],
             [
              0.7777777777777778,
              "#fb9f3a"
             ],
             [
              0.8888888888888888,
              "#fdca26"
             ],
             [
              1,
              "#f0f921"
             ]
            ],
            "type": "contour"
           }
          ],
          "contourcarpet": [
           {
            "colorbar": {
             "outlinewidth": 0,
             "ticks": ""
            },
            "type": "contourcarpet"
           }
          ],
          "heatmap": [
           {
            "colorbar": {
             "outlinewidth": 0,
             "ticks": ""
            },
            "colorscale": [
             [
              0,
              "#0d0887"
             ],
             [
              0.1111111111111111,
              "#46039f"
             ],
             [
              0.2222222222222222,
              "#7201a8"
             ],
             [
              0.3333333333333333,
              "#9c179e"
             ],
             [
              0.4444444444444444,
              "#bd3786"
             ],
             [
              0.5555555555555556,
              "#d8576b"
             ],
             [
              0.6666666666666666,
              "#ed7953"
             ],
             [
              0.7777777777777778,
              "#fb9f3a"
             ],
             [
              0.8888888888888888,
              "#fdca26"
             ],
             [
              1,
              "#f0f921"
             ]
            ],
            "type": "heatmap"
           }
          ],
          "histogram": [
           {
            "marker": {
             "pattern": {
              "fillmode": "overlay",
              "size": 10,
              "solidity": 0.2
             }
            },
            "type": "histogram"
           }
          ],
          "histogram2d": [
           {
            "colorbar": {
             "outlinewidth": 0,
             "ticks": ""
            },
            "colorscale": [
             [
              0,
              "#0d0887"
             ],
             [
              0.1111111111111111,
              "#46039f"
             ],
             [
              0.2222222222222222,
              "#7201a8"
             ],
             [
              0.3333333333333333,
              "#9c179e"
             ],
             [
              0.4444444444444444,
              "#bd3786"
             ],
             [
              0.5555555555555556,
              "#d8576b"
             ],
             [
              0.6666666666666666,
              "#ed7953"
             ],
             [
              0.7777777777777778,
              "#fb9f3a"
             ],
             [
              0.8888888888888888,
              "#fdca26"
             ],
             [
              1,
              "#f0f921"
             ]
            ],
            "type": "histogram2d"
           }
          ],
          "histogram2dcontour": [
           {
            "colorbar": {
             "outlinewidth": 0,
             "ticks": ""
            },
            "colorscale": [
             [
              0,
              "#0d0887"
             ],
             [
              0.1111111111111111,
              "#46039f"
             ],
             [
              0.2222222222222222,
              "#7201a8"
             ],
             [
              0.3333333333333333,
              "#9c179e"
             ],
             [
              0.4444444444444444,
              "#bd3786"
             ],
             [
              0.5555555555555556,
              "#d8576b"
             ],
             [
              0.6666666666666666,
              "#ed7953"
             ],
             [
              0.7777777777777778,
              "#fb9f3a"
             ],
             [
              0.8888888888888888,
              "#fdca26"
             ],
             [
              1,
              "#f0f921"
             ]
            ],
            "type": "histogram2dcontour"
           }
          ],
          "mesh3d": [
           {
            "colorbar": {
             "outlinewidth": 0,
             "ticks": ""
            },
            "type": "mesh3d"
           }
          ],
          "parcoords": [
           {
            "line": {
             "colorbar": {
              "outlinewidth": 0,
              "ticks": ""
             }
            },
            "type": "parcoords"
           }
          ],
          "pie": [
           {
            "automargin": true,
            "type": "pie"
           }
          ],
          "scatter": [
           {
            "fillpattern": {
             "fillmode": "overlay",
             "size": 10,
             "solidity": 0.2
            },
            "type": "scatter"
           }
          ],
          "scatter3d": [
           {
            "line": {
             "colorbar": {
              "outlinewidth": 0,
              "ticks": ""
             }
            },
            "marker": {
             "colorbar": {
              "outlinewidth": 0,
              "ticks": ""
             }
            },
            "type": "scatter3d"
           }
          ],
          "scattercarpet": [
           {
            "marker": {
             "colorbar": {
              "outlinewidth": 0,
              "ticks": ""
             }
            },
            "type": "scattercarpet"
           }
          ],
          "scattergeo": [
           {
            "marker": {
             "colorbar": {
              "outlinewidth": 0,
              "ticks": ""
             }
            },
            "type": "scattergeo"
           }
          ],
          "scattergl": [
           {
            "marker": {
             "colorbar": {
              "outlinewidth": 0,
              "ticks": ""
             }
            },
            "type": "scattergl"
           }
          ],
          "scattermap": [
           {
            "marker": {
             "colorbar": {
              "outlinewidth": 0,
              "ticks": ""
             }
            },
            "type": "scattermap"
           }
          ],
          "scattermapbox": [
           {
            "marker": {
             "colorbar": {
              "outlinewidth": 0,
              "ticks": ""
             }
            },
            "type": "scattermapbox"
           }
          ],
          "scatterpolar": [
           {
            "marker": {
             "colorbar": {
              "outlinewidth": 0,
              "ticks": ""
             }
            },
            "type": "scatterpolar"
           }
          ],
          "scatterpolargl": [
           {
            "marker": {
             "colorbar": {
              "outlinewidth": 0,
              "ticks": ""
             }
            },
            "type": "scatterpolargl"
           }
          ],
          "scatterternary": [
           {
            "marker": {
             "colorbar": {
              "outlinewidth": 0,
              "ticks": ""
             }
            },
            "type": "scatterternary"
           }
          ],
          "surface": [
           {
            "colorbar": {
             "outlinewidth": 0,
             "ticks": ""
            },
            "colorscale": [
             [
              0,
              "#0d0887"
             ],
             [
              0.1111111111111111,
              "#46039f"
             ],
             [
              0.2222222222222222,
              "#7201a8"
             ],
             [
              0.3333333333333333,
              "#9c179e"
             ],
             [
              0.4444444444444444,
              "#bd3786"
             ],
             [
              0.5555555555555556,
              "#d8576b"
             ],
             [
              0.6666666666666666,
              "#ed7953"
             ],
             [
              0.7777777777777778,
              "#fb9f3a"
             ],
             [
              0.8888888888888888,
              "#fdca26"
             ],
             [
              1,
              "#f0f921"
             ]
            ],
            "type": "surface"
           }
          ],
          "table": [
           {
            "cells": {
             "fill": {
              "color": "#EBF0F8"
             },
             "line": {
              "color": "white"
             }
            },
            "header": {
             "fill": {
              "color": "#C8D4E3"
             },
             "line": {
              "color": "white"
             }
            },
            "type": "table"
           }
          ]
         },
         "layout": {
          "annotationdefaults": {
           "arrowcolor": "#2a3f5f",
           "arrowhead": 0,
           "arrowwidth": 1
          },
          "autotypenumbers": "strict",
          "coloraxis": {
           "colorbar": {
            "outlinewidth": 0,
            "ticks": ""
           }
          },
          "colorscale": {
           "diverging": [
            [
             0,
             "#8e0152"
            ],
            [
             0.1,
             "#c51b7d"
            ],
            [
             0.2,
             "#de77ae"
            ],
            [
             0.3,
             "#f1b6da"
            ],
            [
             0.4,
             "#fde0ef"
            ],
            [
             0.5,
             "#f7f7f7"
            ],
            [
             0.6,
             "#e6f5d0"
            ],
            [
             0.7,
             "#b8e186"
            ],
            [
             0.8,
             "#7fbc41"
            ],
            [
             0.9,
             "#4d9221"
            ],
            [
             1,
             "#276419"
            ]
           ],
           "sequential": [
            [
             0,
             "#0d0887"
            ],
            [
             0.1111111111111111,
             "#46039f"
            ],
            [
             0.2222222222222222,
             "#7201a8"
            ],
            [
             0.3333333333333333,
             "#9c179e"
            ],
            [
             0.4444444444444444,
             "#bd3786"
            ],
            [
             0.5555555555555556,
             "#d8576b"
            ],
            [
             0.6666666666666666,
             "#ed7953"
            ],
            [
             0.7777777777777778,
             "#fb9f3a"
            ],
            [
             0.8888888888888888,
             "#fdca26"
            ],
            [
             1,
             "#f0f921"
            ]
           ],
           "sequentialminus": [
            [
             0,
             "#0d0887"
            ],
            [
             0.1111111111111111,
             "#46039f"
            ],
            [
             0.2222222222222222,
             "#7201a8"
            ],
            [
             0.3333333333333333,
             "#9c179e"
            ],
            [
             0.4444444444444444,
             "#bd3786"
            ],
            [
             0.5555555555555556,
             "#d8576b"
            ],
            [
             0.6666666666666666,
             "#ed7953"
            ],
            [
             0.7777777777777778,
             "#fb9f3a"
            ],
            [
             0.8888888888888888,
             "#fdca26"
            ],
            [
             1,
             "#f0f921"
            ]
           ]
          },
          "colorway": [
           "#636efa",
           "#EF553B",
           "#00cc96",
           "#ab63fa",
           "#FFA15A",
           "#19d3f3",
           "#FF6692",
           "#B6E880",
           "#FF97FF",
           "#FECB52"
          ],
          "font": {
           "color": "#2a3f5f"
          },
          "geo": {
           "bgcolor": "white",
           "lakecolor": "white",
           "landcolor": "#E5ECF6",
           "showlakes": true,
           "showland": true,
           "subunitcolor": "white"
          },
          "hoverlabel": {
           "align": "left"
          },
          "hovermode": "closest",
          "mapbox": {
           "style": "light"
          },
          "paper_bgcolor": "white",
          "plot_bgcolor": "#E5ECF6",
          "polar": {
           "angularaxis": {
            "gridcolor": "white",
            "linecolor": "white",
            "ticks": ""
           },
           "bgcolor": "#E5ECF6",
           "radialaxis": {
            "gridcolor": "white",
            "linecolor": "white",
            "ticks": ""
           }
          },
          "scene": {
           "xaxis": {
            "backgroundcolor": "#E5ECF6",
            "gridcolor": "white",
            "gridwidth": 2,
            "linecolor": "white",
            "showbackground": true,
            "ticks": "",
            "zerolinecolor": "white"
           },
           "yaxis": {
            "backgroundcolor": "#E5ECF6",
            "gridcolor": "white",
            "gridwidth": 2,
            "linecolor": "white",
            "showbackground": true,
            "ticks": "",
            "zerolinecolor": "white"
           },
           "zaxis": {
            "backgroundcolor": "#E5ECF6",
            "gridcolor": "white",
            "gridwidth": 2,
            "linecolor": "white",
            "showbackground": true,
            "ticks": "",
            "zerolinecolor": "white"
           }
          },
          "shapedefaults": {
           "line": {
            "color": "#2a3f5f"
           }
          },
          "ternary": {
           "aaxis": {
            "gridcolor": "white",
            "linecolor": "white",
            "ticks": ""
           },
           "baxis": {
            "gridcolor": "white",
            "linecolor": "white",
            "ticks": ""
           },
           "bgcolor": "#E5ECF6",
           "caxis": {
            "gridcolor": "white",
            "linecolor": "white",
            "ticks": ""
           }
          },
          "title": {
           "x": 0.05
          },
          "xaxis": {
           "automargin": true,
           "gridcolor": "white",
           "linecolor": "white",
           "ticks": "",
           "title": {
            "standoff": 15
           },
           "zerolinecolor": "white",
           "zerolinewidth": 2
          },
          "yaxis": {
           "automargin": true,
           "gridcolor": "white",
           "linecolor": "white",
           "ticks": "",
           "title": {
            "standoff": 15
           },
           "zerolinecolor": "white",
           "zerolinewidth": 2
          }
         }
        },
        "title": {
         "font": {
          "size": 20
         },
         "text": "Number of UFC events per year",
         "x": 0.5
        },
        "xaxis": {
         "anchor": "y",
         "domain": [
          0,
          1
         ],
         "dtick": 3,
         "tick0": 1994,
         "title": {
          "standoff": 25,
          "text": "Year"
         }
        },
        "yaxis": {
         "anchor": "x",
         "domain": [
          0,
          1
         ],
         "title": {
          "standoff": 40,
          "text": "Number of events"
         }
        }
       }
      }
     },
     "metadata": {},
     "output_type": "display_data"
    }
   ],
   "source": [
    "fig = px.line(events_annually_counts, x='event_year', y='num_of_events', markers=True)\n",
    "\n",
    "# Cosmetics config\n",
    "fig.update_layout(title={\"text\": \"Number of UFC events per year\", \"x\": 0.5, \"font_size\": 20},\n",
    "                  font={\"size\": 14}, \n",
    "                  xaxis=dict(\n",
    "                      tick0=1994, # this specifies the x axis tick to start from\n",
    "                      dtick=3, # this specifies the step of x axis ticks\n",
    "                      title = \"Year\", title_standoff=25\n",
    "                  ),\n",
    "                  yaxis=dict(\n",
    "                      title=\"Number of events\", title_standoff=40\n",
    "                  ),\n",
    "                  height=500)\n",
    "\n",
    "# Increase the width of the line\n",
    "fig.update_traces(patch={\"line\": {\"width\": 2.5}})\n",
    "fig.show()"
   ]
  },
  {
   "cell_type": "markdown",
   "id": "f2dc5bd7-4b72-4f36-a4c9-78c478ffe83a",
   "metadata": {},
   "source": [
    "We can observe the following:\n",
    "* The chart starts out with initial steady growth throughout 1995-2005, fluctuating of 2-3 events on average;\n",
    "* Then, the 2005-2010 era, is where the UFC signed a deal with Spike TV to broadcast The Ultimate Fighter show, at the same time UFC starts being taken as a legitimate sports property, shifting perception from the \"human cockfighting\" to \"real sport\" in controlled, regulated environment, UFC starts expanding.\n",
    "* In 2011-2014 UFC enters Brazil, Asia, Europe - showcased by a jump from 27 => 46 events.\n",
    "* In 2015-2019 there's steady number of annual events, ~40 on average, UFC signs deal with ESPN, becomes more structured, stable, profitable.\n",
    "* 2020-2021 is interesting, it's the COVID era, but UFC did well, due to having build UFC Apex (UFC's own custom facility that is adapted to hosting events, as well as a training facility) a year before in 2019 as well as Abu Dhabi's built fight island. This allows them to continue hosting events behind closed doors (no other leage could do that).\n",
    "* 2021-2024 shows how fast UFC normalized their events, where Florida was the first state to allow them continue hosting events\n",
    "* 2024 is still going so we're not going to draw any conclusions here just yet."
   ]
  },
  {
   "cell_type": "markdown",
   "id": "f198ed22-595c-4df1-a62f-8e0a2fe19ef2",
   "metadata": {},
   "source": [
    "## 3. What are the top fight outcomes?"
   ]
  },
  {
   "cell_type": "markdown",
   "id": "1bdc6ebf-2c14-4e9a-9be8-88f9cdf28b89",
   "metadata": {},
   "source": [
    "Getting the data ready:"
   ]
  },
  {
   "cell_type": "code",
   "execution_count": 201,
   "id": "ad2bdd2e-2666-46c2-b775-c9a892b0aac9",
   "metadata": {},
   "outputs": [
    {
     "data": {
      "text/plain": [
       "method\n",
       "Decision - Unanimous       2793\n",
       "KO/TKO                     2484\n",
       "Submission                 1550\n",
       "Decision - Split            750\n",
       "TKO - Doctor's Stoppage      94\n",
       "Decision - Majority          60\n",
       "DQ                           23\n",
       "Name: count, dtype: int64"
      ]
     },
     "execution_count": 201,
     "metadata": {},
     "output_type": "execute_result"
    }
   ],
   "source": [
    "# Get the counts per every victory method\n",
    "top_fight_outcomes = df['method'].value_counts()\n",
    "\n",
    "# Extracting data\n",
    "outcomes = top_fight_outcomes.index\n",
    "counts = top_fight_outcomes.values\n",
    "\n",
    "# Taking a peak\n",
    "top_fight_outcomes"
   ]
  },
  {
   "cell_type": "markdown",
   "id": "607131ba-9335-4760-a9f7-f900491d8a89",
   "metadata": {},
   "source": [
    "Plotting it:"
   ]
  },
  {
   "cell_type": "code",
   "execution_count": 202,
   "id": "e92395e8-3edc-4ee3-847f-a8785c81c3b6",
   "metadata": {},
   "outputs": [
    {
     "data": {
      "application/vnd.plotly.v1+json": {
       "config": {
        "plotlyServerURL": "https://plot.ly"
       },
       "data": [
        {
         "hovertemplate": "color=Decision - Unanimous<br>x=%{x}<br>y=%{y}<extra></extra>",
         "legendgroup": "Decision - Unanimous",
         "marker": {
          "color": "#636efa",
          "pattern": {
           "shape": ""
          }
         },
         "name": "Decision - Unanimous",
         "orientation": "h",
         "showlegend": true,
         "textposition": "auto",
         "type": "bar",
         "x": {
          "bdata": "6Qo=",
          "dtype": "i2"
         },
         "xaxis": "x",
         "y": [
          "Decision - Unanimous"
         ],
         "yaxis": "y"
        },
        {
         "hovertemplate": "color=KO/TKO<br>x=%{x}<br>y=%{y}<extra></extra>",
         "legendgroup": "KO/TKO",
         "marker": {
          "color": "#EF553B",
          "pattern": {
           "shape": ""
          }
         },
         "name": "KO/TKO",
         "orientation": "h",
         "showlegend": true,
         "textposition": "auto",
         "type": "bar",
         "x": {
          "bdata": "tAk=",
          "dtype": "i2"
         },
         "xaxis": "x",
         "y": [
          "KO/TKO"
         ],
         "yaxis": "y"
        },
        {
         "hovertemplate": "color=Submission<br>x=%{x}<br>y=%{y}<extra></extra>",
         "legendgroup": "Submission",
         "marker": {
          "color": "#00cc96",
          "pattern": {
           "shape": ""
          }
         },
         "name": "Submission",
         "orientation": "h",
         "showlegend": true,
         "textposition": "auto",
         "type": "bar",
         "x": {
          "bdata": "DgY=",
          "dtype": "i2"
         },
         "xaxis": "x",
         "y": [
          "Submission"
         ],
         "yaxis": "y"
        },
        {
         "hovertemplate": "color=Decision - Split<br>x=%{x}<br>y=%{y}<extra></extra>",
         "legendgroup": "Decision - Split",
         "marker": {
          "color": "#ab63fa",
          "pattern": {
           "shape": ""
          }
         },
         "name": "Decision - Split",
         "orientation": "h",
         "showlegend": true,
         "textposition": "auto",
         "type": "bar",
         "x": {
          "bdata": "7gI=",
          "dtype": "i2"
         },
         "xaxis": "x",
         "y": [
          "Decision - Split"
         ],
         "yaxis": "y"
        },
        {
         "hovertemplate": "color=TKO - Doctor's Stoppage<br>x=%{x}<br>y=%{y}<extra></extra>",
         "legendgroup": "TKO - Doctor's Stoppage",
         "marker": {
          "color": "#FFA15A",
          "pattern": {
           "shape": ""
          }
         },
         "name": "TKO - Doctor's Stoppage",
         "orientation": "h",
         "showlegend": true,
         "textposition": "auto",
         "type": "bar",
         "x": {
          "bdata": "Xg==",
          "dtype": "i1"
         },
         "xaxis": "x",
         "y": [
          "TKO - Doctor's Stoppage"
         ],
         "yaxis": "y"
        },
        {
         "hovertemplate": "color=Decision - Majority<br>x=%{x}<br>y=%{y}<extra></extra>",
         "legendgroup": "Decision - Majority",
         "marker": {
          "color": "#19d3f3",
          "pattern": {
           "shape": ""
          }
         },
         "name": "Decision - Majority",
         "orientation": "h",
         "showlegend": true,
         "textposition": "auto",
         "type": "bar",
         "x": {
          "bdata": "PA==",
          "dtype": "i1"
         },
         "xaxis": "x",
         "y": [
          "Decision - Majority"
         ],
         "yaxis": "y"
        },
        {
         "hovertemplate": "color=DQ<br>x=%{x}<br>y=%{y}<extra></extra>",
         "legendgroup": "DQ",
         "marker": {
          "color": "#FF6692",
          "pattern": {
           "shape": ""
          }
         },
         "name": "DQ",
         "orientation": "h",
         "showlegend": true,
         "textposition": "auto",
         "type": "bar",
         "x": {
          "bdata": "Fw==",
          "dtype": "i1"
         },
         "xaxis": "x",
         "y": [
          "DQ"
         ],
         "yaxis": "y"
        }
       ],
       "layout": {
        "barmode": "relative",
        "font": {
         "size": 14
        },
        "height": 500,
        "legend": {
         "title": {
          "text": "color"
         },
         "tracegroupgap": 0
        },
        "margin": {
         "t": 60
        },
        "showlegend": false,
        "template": {
         "data": {
          "bar": [
           {
            "error_x": {
             "color": "#2a3f5f"
            },
            "error_y": {
             "color": "#2a3f5f"
            },
            "marker": {
             "line": {
              "color": "#E5ECF6",
              "width": 0.5
             },
             "pattern": {
              "fillmode": "overlay",
              "size": 10,
              "solidity": 0.2
             }
            },
            "type": "bar"
           }
          ],
          "barpolar": [
           {
            "marker": {
             "line": {
              "color": "#E5ECF6",
              "width": 0.5
             },
             "pattern": {
              "fillmode": "overlay",
              "size": 10,
              "solidity": 0.2
             }
            },
            "type": "barpolar"
           }
          ],
          "carpet": [
           {
            "aaxis": {
             "endlinecolor": "#2a3f5f",
             "gridcolor": "white",
             "linecolor": "white",
             "minorgridcolor": "white",
             "startlinecolor": "#2a3f5f"
            },
            "baxis": {
             "endlinecolor": "#2a3f5f",
             "gridcolor": "white",
             "linecolor": "white",
             "minorgridcolor": "white",
             "startlinecolor": "#2a3f5f"
            },
            "type": "carpet"
           }
          ],
          "choropleth": [
           {
            "colorbar": {
             "outlinewidth": 0,
             "ticks": ""
            },
            "type": "choropleth"
           }
          ],
          "contour": [
           {
            "colorbar": {
             "outlinewidth": 0,
             "ticks": ""
            },
            "colorscale": [
             [
              0,
              "#0d0887"
             ],
             [
              0.1111111111111111,
              "#46039f"
             ],
             [
              0.2222222222222222,
              "#7201a8"
             ],
             [
              0.3333333333333333,
              "#9c179e"
             ],
             [
              0.4444444444444444,
              "#bd3786"
             ],
             [
              0.5555555555555556,
              "#d8576b"
             ],
             [
              0.6666666666666666,
              "#ed7953"
             ],
             [
              0.7777777777777778,
              "#fb9f3a"
             ],
             [
              0.8888888888888888,
              "#fdca26"
             ],
             [
              1,
              "#f0f921"
             ]
            ],
            "type": "contour"
           }
          ],
          "contourcarpet": [
           {
            "colorbar": {
             "outlinewidth": 0,
             "ticks": ""
            },
            "type": "contourcarpet"
           }
          ],
          "heatmap": [
           {
            "colorbar": {
             "outlinewidth": 0,
             "ticks": ""
            },
            "colorscale": [
             [
              0,
              "#0d0887"
             ],
             [
              0.1111111111111111,
              "#46039f"
             ],
             [
              0.2222222222222222,
              "#7201a8"
             ],
             [
              0.3333333333333333,
              "#9c179e"
             ],
             [
              0.4444444444444444,
              "#bd3786"
             ],
             [
              0.5555555555555556,
              "#d8576b"
             ],
             [
              0.6666666666666666,
              "#ed7953"
             ],
             [
              0.7777777777777778,
              "#fb9f3a"
             ],
             [
              0.8888888888888888,
              "#fdca26"
             ],
             [
              1,
              "#f0f921"
             ]
            ],
            "type": "heatmap"
           }
          ],
          "histogram": [
           {
            "marker": {
             "pattern": {
              "fillmode": "overlay",
              "size": 10,
              "solidity": 0.2
             }
            },
            "type": "histogram"
           }
          ],
          "histogram2d": [
           {
            "colorbar": {
             "outlinewidth": 0,
             "ticks": ""
            },
            "colorscale": [
             [
              0,
              "#0d0887"
             ],
             [
              0.1111111111111111,
              "#46039f"
             ],
             [
              0.2222222222222222,
              "#7201a8"
             ],
             [
              0.3333333333333333,
              "#9c179e"
             ],
             [
              0.4444444444444444,
              "#bd3786"
             ],
             [
              0.5555555555555556,
              "#d8576b"
             ],
             [
              0.6666666666666666,
              "#ed7953"
             ],
             [
              0.7777777777777778,
              "#fb9f3a"
             ],
             [
              0.8888888888888888,
              "#fdca26"
             ],
             [
              1,
              "#f0f921"
             ]
            ],
            "type": "histogram2d"
           }
          ],
          "histogram2dcontour": [
           {
            "colorbar": {
             "outlinewidth": 0,
             "ticks": ""
            },
            "colorscale": [
             [
              0,
              "#0d0887"
             ],
             [
              0.1111111111111111,
              "#46039f"
             ],
             [
              0.2222222222222222,
              "#7201a8"
             ],
             [
              0.3333333333333333,
              "#9c179e"
             ],
             [
              0.4444444444444444,
              "#bd3786"
             ],
             [
              0.5555555555555556,
              "#d8576b"
             ],
             [
              0.6666666666666666,
              "#ed7953"
             ],
             [
              0.7777777777777778,
              "#fb9f3a"
             ],
             [
              0.8888888888888888,
              "#fdca26"
             ],
             [
              1,
              "#f0f921"
             ]
            ],
            "type": "histogram2dcontour"
           }
          ],
          "mesh3d": [
           {
            "colorbar": {
             "outlinewidth": 0,
             "ticks": ""
            },
            "type": "mesh3d"
           }
          ],
          "parcoords": [
           {
            "line": {
             "colorbar": {
              "outlinewidth": 0,
              "ticks": ""
             }
            },
            "type": "parcoords"
           }
          ],
          "pie": [
           {
            "automargin": true,
            "type": "pie"
           }
          ],
          "scatter": [
           {
            "fillpattern": {
             "fillmode": "overlay",
             "size": 10,
             "solidity": 0.2
            },
            "type": "scatter"
           }
          ],
          "scatter3d": [
           {
            "line": {
             "colorbar": {
              "outlinewidth": 0,
              "ticks": ""
             }
            },
            "marker": {
             "colorbar": {
              "outlinewidth": 0,
              "ticks": ""
             }
            },
            "type": "scatter3d"
           }
          ],
          "scattercarpet": [
           {
            "marker": {
             "colorbar": {
              "outlinewidth": 0,
              "ticks": ""
             }
            },
            "type": "scattercarpet"
           }
          ],
          "scattergeo": [
           {
            "marker": {
             "colorbar": {
              "outlinewidth": 0,
              "ticks": ""
             }
            },
            "type": "scattergeo"
           }
          ],
          "scattergl": [
           {
            "marker": {
             "colorbar": {
              "outlinewidth": 0,
              "ticks": ""
             }
            },
            "type": "scattergl"
           }
          ],
          "scattermap": [
           {
            "marker": {
             "colorbar": {
              "outlinewidth": 0,
              "ticks": ""
             }
            },
            "type": "scattermap"
           }
          ],
          "scattermapbox": [
           {
            "marker": {
             "colorbar": {
              "outlinewidth": 0,
              "ticks": ""
             }
            },
            "type": "scattermapbox"
           }
          ],
          "scatterpolar": [
           {
            "marker": {
             "colorbar": {
              "outlinewidth": 0,
              "ticks": ""
             }
            },
            "type": "scatterpolar"
           }
          ],
          "scatterpolargl": [
           {
            "marker": {
             "colorbar": {
              "outlinewidth": 0,
              "ticks": ""
             }
            },
            "type": "scatterpolargl"
           }
          ],
          "scatterternary": [
           {
            "marker": {
             "colorbar": {
              "outlinewidth": 0,
              "ticks": ""
             }
            },
            "type": "scatterternary"
           }
          ],
          "surface": [
           {
            "colorbar": {
             "outlinewidth": 0,
             "ticks": ""
            },
            "colorscale": [
             [
              0,
              "#0d0887"
             ],
             [
              0.1111111111111111,
              "#46039f"
             ],
             [
              0.2222222222222222,
              "#7201a8"
             ],
             [
              0.3333333333333333,
              "#9c179e"
             ],
             [
              0.4444444444444444,
              "#bd3786"
             ],
             [
              0.5555555555555556,
              "#d8576b"
             ],
             [
              0.6666666666666666,
              "#ed7953"
             ],
             [
              0.7777777777777778,
              "#fb9f3a"
             ],
             [
              0.8888888888888888,
              "#fdca26"
             ],
             [
              1,
              "#f0f921"
             ]
            ],
            "type": "surface"
           }
          ],
          "table": [
           {
            "cells": {
             "fill": {
              "color": "#EBF0F8"
             },
             "line": {
              "color": "white"
             }
            },
            "header": {
             "fill": {
              "color": "#C8D4E3"
             },
             "line": {
              "color": "white"
             }
            },
            "type": "table"
           }
          ]
         },
         "layout": {
          "annotationdefaults": {
           "arrowcolor": "#2a3f5f",
           "arrowhead": 0,
           "arrowwidth": 1
          },
          "autotypenumbers": "strict",
          "coloraxis": {
           "colorbar": {
            "outlinewidth": 0,
            "ticks": ""
           }
          },
          "colorscale": {
           "diverging": [
            [
             0,
             "#8e0152"
            ],
            [
             0.1,
             "#c51b7d"
            ],
            [
             0.2,
             "#de77ae"
            ],
            [
             0.3,
             "#f1b6da"
            ],
            [
             0.4,
             "#fde0ef"
            ],
            [
             0.5,
             "#f7f7f7"
            ],
            [
             0.6,
             "#e6f5d0"
            ],
            [
             0.7,
             "#b8e186"
            ],
            [
             0.8,
             "#7fbc41"
            ],
            [
             0.9,
             "#4d9221"
            ],
            [
             1,
             "#276419"
            ]
           ],
           "sequential": [
            [
             0,
             "#0d0887"
            ],
            [
             0.1111111111111111,
             "#46039f"
            ],
            [
             0.2222222222222222,
             "#7201a8"
            ],
            [
             0.3333333333333333,
             "#9c179e"
            ],
            [
             0.4444444444444444,
             "#bd3786"
            ],
            [
             0.5555555555555556,
             "#d8576b"
            ],
            [
             0.6666666666666666,
             "#ed7953"
            ],
            [
             0.7777777777777778,
             "#fb9f3a"
            ],
            [
             0.8888888888888888,
             "#fdca26"
            ],
            [
             1,
             "#f0f921"
            ]
           ],
           "sequentialminus": [
            [
             0,
             "#0d0887"
            ],
            [
             0.1111111111111111,
             "#46039f"
            ],
            [
             0.2222222222222222,
             "#7201a8"
            ],
            [
             0.3333333333333333,
             "#9c179e"
            ],
            [
             0.4444444444444444,
             "#bd3786"
            ],
            [
             0.5555555555555556,
             "#d8576b"
            ],
            [
             0.6666666666666666,
             "#ed7953"
            ],
            [
             0.7777777777777778,
             "#fb9f3a"
            ],
            [
             0.8888888888888888,
             "#fdca26"
            ],
            [
             1,
             "#f0f921"
            ]
           ]
          },
          "colorway": [
           "#636efa",
           "#EF553B",
           "#00cc96",
           "#ab63fa",
           "#FFA15A",
           "#19d3f3",
           "#FF6692",
           "#B6E880",
           "#FF97FF",
           "#FECB52"
          ],
          "font": {
           "color": "#2a3f5f"
          },
          "geo": {
           "bgcolor": "white",
           "lakecolor": "white",
           "landcolor": "#E5ECF6",
           "showlakes": true,
           "showland": true,
           "subunitcolor": "white"
          },
          "hoverlabel": {
           "align": "left"
          },
          "hovermode": "closest",
          "mapbox": {
           "style": "light"
          },
          "paper_bgcolor": "white",
          "plot_bgcolor": "#E5ECF6",
          "polar": {
           "angularaxis": {
            "gridcolor": "white",
            "linecolor": "white",
            "ticks": ""
           },
           "bgcolor": "#E5ECF6",
           "radialaxis": {
            "gridcolor": "white",
            "linecolor": "white",
            "ticks": ""
           }
          },
          "scene": {
           "xaxis": {
            "backgroundcolor": "#E5ECF6",
            "gridcolor": "white",
            "gridwidth": 2,
            "linecolor": "white",
            "showbackground": true,
            "ticks": "",
            "zerolinecolor": "white"
           },
           "yaxis": {
            "backgroundcolor": "#E5ECF6",
            "gridcolor": "white",
            "gridwidth": 2,
            "linecolor": "white",
            "showbackground": true,
            "ticks": "",
            "zerolinecolor": "white"
           },
           "zaxis": {
            "backgroundcolor": "#E5ECF6",
            "gridcolor": "white",
            "gridwidth": 2,
            "linecolor": "white",
            "showbackground": true,
            "ticks": "",
            "zerolinecolor": "white"
           }
          },
          "shapedefaults": {
           "line": {
            "color": "#2a3f5f"
           }
          },
          "ternary": {
           "aaxis": {
            "gridcolor": "white",
            "linecolor": "white",
            "ticks": ""
           },
           "baxis": {
            "gridcolor": "white",
            "linecolor": "white",
            "ticks": ""
           },
           "bgcolor": "#E5ECF6",
           "caxis": {
            "gridcolor": "white",
            "linecolor": "white",
            "ticks": ""
           }
          },
          "title": {
           "x": 0.05
          },
          "xaxis": {
           "automargin": true,
           "gridcolor": "white",
           "linecolor": "white",
           "ticks": "",
           "title": {
            "standoff": 15
           },
           "zerolinecolor": "white",
           "zerolinewidth": 2
          },
          "yaxis": {
           "automargin": true,
           "gridcolor": "white",
           "linecolor": "white",
           "ticks": "",
           "title": {
            "standoff": 15
           },
           "zerolinecolor": "white",
           "zerolinewidth": 2
          }
         }
        },
        "title": {
         "font": {
          "size": 20
         },
         "text": "Top fight result methods",
         "x": 0.5
        },
        "xaxis": {
         "anchor": "y",
         "domain": [
          0,
          1
         ],
         "title": {
          "standoff": 25,
          "text": "Count"
         }
        },
        "yaxis": {
         "anchor": "x",
         "domain": [
          0,
          1
         ],
         "title": {
          "standoff": 40,
          "text": "Method"
         }
        }
       }
      }
     },
     "metadata": {},
     "output_type": "display_data"
    }
   ],
   "source": [
    "fig = px.bar(x=counts, y=outcomes, color=outcomes)\n",
    "\n",
    "# Cosmetics config\n",
    "fig.update_layout(title={\"text\": \"Top fight result methods\", \"x\": 0.5, \"font_size\": 20},\n",
    "                  font={\"size\": 14}, \n",
    "                  xaxis=dict(\n",
    "                      title = \"Count\", title_standoff=25\n",
    "                  ),\n",
    "                  yaxis=dict(\n",
    "                      title=\"Method\", title_standoff=40\n",
    "                  ),\n",
    "                  showlegend=False, height=500)\n",
    "fig.show()"
   ]
  },
  {
   "cell_type": "markdown",
   "id": "53205c93-c701-4d9b-984b-f7441347a3ee",
   "metadata": {},
   "source": [
    "* The top 1 result is a win by Decision - Unanimous. The reason for that is that: 1 - it is much harder to KO/TKO or submit an opponent as it usually indicates a significant difference in expertese / level of fighters, and 2 - is probably the fact that a lot of the fighters like to \"play safe\", avoid taking big risks and just win by points.\n",
    "* The top 2 is KO/TKO, followed by submission at top 3, which is just a grappler's way of KO/TKOing someone. KO/TKO is more common due to two reasons: 1 - the fights, as well as each round, start in stand-up (from striking position) and not from wrestling position, meaning on average, fighters spend more time striking than grappling, 2 - There is more strikers than wrestlers in the UFC roster, and potentially 3 - Fighters might, sometimes, avoid wrestling as the fans do not like it and say that it is \"boring\" and prefer striking instead.\n",
    "* At top 4 - Decision - Split, is when only 2 judges out of 3 gave the victory to the winner. Usually happens relatively more rare, as the judges are, usually, on the same page when it comes to a winner.\n",
    "* At top 5 - TKO Doctor's Stoppage - the result, when a fighter is deemed unfit by a doctor or referee to continue to fight due to an injury, even less likely, because, usually, small cuts or swellings that could naturally happen during the fight are not deemed to unfit to continue, and it is marginally much rarer that a fighter sustained a significant injury and is not knocked out or submitted.\n",
    "* At top 6 - Decision - Majority, almost the same as Decision - Split, but instead of the 2 out of 3 judges giving victory to the winner and the 3rd giving victory to the loser, in Majority Decision the third judge scores the fight as draw. The majority decisions are less common because it is harder statistically, one fighter would have to be scored two 10-8 rounds and then the other fighter one 10-8 round in a 3-rd fight, which is rarer, or a round being scored 10-10 which is even less likely as judges are discouraged to do that, unless it is impossible to assign the winner of the round, even no slightest difference can be noted, or a combination of the factors above + point deductions, which happen in fewer than 2% of the fights.\n",
    "* At top 7 - DQ, DQ is disqualification, it is the rarest, as the fighters are usually very careful when it comes to the rules, and disqualification effectively means loss, so they'd rather try and win even if they're losing than outright lose."
   ]
  },
  {
   "cell_type": "markdown",
   "id": "d626b1f3-06a7-447a-9f58-7b32d6faab31",
   "metadata": {},
   "source": [
    "## 4. Does being in a particular corner contribute to a victory?"
   ]
  },
  {
   "cell_type": "markdown",
   "id": "df3ef4d7-4dbb-4770-ae7d-dab48b64d330",
   "metadata": {},
   "source": [
    "Data:"
   ]
  },
  {
   "cell_type": "code",
   "execution_count": 203,
   "id": "18949e7a-d079-46ad-97b0-8c6ac06284a9",
   "metadata": {},
   "outputs": [],
   "source": [
    "# Sorting\n",
    "winners_by_corner = df['winner'].value_counts()\n",
    "\n",
    "# Converting into pct\n",
    "winners_by_corner = winners_by_corner / sum(winners_by_corner) * 100"
   ]
  },
  {
   "cell_type": "markdown",
   "id": "d135437c-4808-433f-8d8b-ceb54f86dc8d",
   "metadata": {},
   "source": [
    "Let's plot:"
   ]
  },
  {
   "cell_type": "code",
   "execution_count": 204,
   "id": "a03601ac-ce7d-4369-a8e6-3135ff7f9039",
   "metadata": {},
   "outputs": [
    {
     "data": {
      "text/html": [
       "<div>\n",
       "<style scoped>\n",
       "    .dataframe tbody tr th:only-of-type {\n",
       "        vertical-align: middle;\n",
       "    }\n",
       "\n",
       "    .dataframe tbody tr th {\n",
       "        vertical-align: top;\n",
       "    }\n",
       "\n",
       "    .dataframe thead th {\n",
       "        text-align: right;\n",
       "    }\n",
       "</style>\n",
       "<table border=\"1\" class=\"dataframe\">\n",
       "  <thead>\n",
       "    <tr style=\"text-align: right;\">\n",
       "      <th></th>\n",
       "      <th>winner</th>\n",
       "      <th>count</th>\n",
       "    </tr>\n",
       "  </thead>\n",
       "  <tbody>\n",
       "    <tr>\n",
       "      <th>0</th>\n",
       "      <td>red</td>\n",
       "      <td>65.0374</td>\n",
       "    </tr>\n",
       "    <tr>\n",
       "      <th>1</th>\n",
       "      <td>blue</td>\n",
       "      <td>34.9626</td>\n",
       "    </tr>\n",
       "  </tbody>\n",
       "</table>\n",
       "</div>"
      ],
      "text/plain": [
       "  winner    count\n",
       "0    red  65.0374\n",
       "1   blue  34.9626"
      ]
     },
     "execution_count": 204,
     "metadata": {},
     "output_type": "execute_result"
    }
   ],
   "source": [
    "winners_by_corner = pd.DataFrame(winners_by_corner).reset_index()\n",
    "winners_by_corner"
   ]
  },
  {
   "cell_type": "code",
   "execution_count": 205,
   "id": "006db1e8-4ee3-4f09-826a-b019a3391a13",
   "metadata": {},
   "outputs": [
    {
     "data": {
      "application/vnd.plotly.v1+json": {
       "config": {
        "plotlyServerURL": "https://plot.ly"
       },
       "data": [
        {
         "customdata": [
          [
           "red"
          ],
          [
           "blue"
          ]
         ],
         "domain": {
          "x": [
           0,
           1
          ],
          "y": [
           0,
           1
          ]
         },
         "hovertemplate": "winner=%{customdata[0]}<br>count=%{value}<extra></extra>",
         "labels": [
          "red",
          "blue"
         ],
         "legendgroup": "",
         "marker": {
          "colors": [
           "EF553B",
           "636EFA"
          ]
         },
         "name": "",
         "showlegend": true,
         "textfont": {
          "color": "white",
          "size": 14
         },
         "type": "pie",
         "values": {
          "bdata": "opsvw2RCUEC7yKB5NntBQA==",
          "dtype": "f8"
         }
        }
       ],
       "layout": {
        "font": {
         "size": 14
        },
        "height": 500,
        "legend": {
         "tracegroupgap": 0
        },
        "template": {
         "data": {
          "bar": [
           {
            "error_x": {
             "color": "#2a3f5f"
            },
            "error_y": {
             "color": "#2a3f5f"
            },
            "marker": {
             "line": {
              "color": "#E5ECF6",
              "width": 0.5
             },
             "pattern": {
              "fillmode": "overlay",
              "size": 10,
              "solidity": 0.2
             }
            },
            "type": "bar"
           }
          ],
          "barpolar": [
           {
            "marker": {
             "line": {
              "color": "#E5ECF6",
              "width": 0.5
             },
             "pattern": {
              "fillmode": "overlay",
              "size": 10,
              "solidity": 0.2
             }
            },
            "type": "barpolar"
           }
          ],
          "carpet": [
           {
            "aaxis": {
             "endlinecolor": "#2a3f5f",
             "gridcolor": "white",
             "linecolor": "white",
             "minorgridcolor": "white",
             "startlinecolor": "#2a3f5f"
            },
            "baxis": {
             "endlinecolor": "#2a3f5f",
             "gridcolor": "white",
             "linecolor": "white",
             "minorgridcolor": "white",
             "startlinecolor": "#2a3f5f"
            },
            "type": "carpet"
           }
          ],
          "choropleth": [
           {
            "colorbar": {
             "outlinewidth": 0,
             "ticks": ""
            },
            "type": "choropleth"
           }
          ],
          "contour": [
           {
            "colorbar": {
             "outlinewidth": 0,
             "ticks": ""
            },
            "colorscale": [
             [
              0,
              "#0d0887"
             ],
             [
              0.1111111111111111,
              "#46039f"
             ],
             [
              0.2222222222222222,
              "#7201a8"
             ],
             [
              0.3333333333333333,
              "#9c179e"
             ],
             [
              0.4444444444444444,
              "#bd3786"
             ],
             [
              0.5555555555555556,
              "#d8576b"
             ],
             [
              0.6666666666666666,
              "#ed7953"
             ],
             [
              0.7777777777777778,
              "#fb9f3a"
             ],
             [
              0.8888888888888888,
              "#fdca26"
             ],
             [
              1,
              "#f0f921"
             ]
            ],
            "type": "contour"
           }
          ],
          "contourcarpet": [
           {
            "colorbar": {
             "outlinewidth": 0,
             "ticks": ""
            },
            "type": "contourcarpet"
           }
          ],
          "heatmap": [
           {
            "colorbar": {
             "outlinewidth": 0,
             "ticks": ""
            },
            "colorscale": [
             [
              0,
              "#0d0887"
             ],
             [
              0.1111111111111111,
              "#46039f"
             ],
             [
              0.2222222222222222,
              "#7201a8"
             ],
             [
              0.3333333333333333,
              "#9c179e"
             ],
             [
              0.4444444444444444,
              "#bd3786"
             ],
             [
              0.5555555555555556,
              "#d8576b"
             ],
             [
              0.6666666666666666,
              "#ed7953"
             ],
             [
              0.7777777777777778,
              "#fb9f3a"
             ],
             [
              0.8888888888888888,
              "#fdca26"
             ],
             [
              1,
              "#f0f921"
             ]
            ],
            "type": "heatmap"
           }
          ],
          "histogram": [
           {
            "marker": {
             "pattern": {
              "fillmode": "overlay",
              "size": 10,
              "solidity": 0.2
             }
            },
            "type": "histogram"
           }
          ],
          "histogram2d": [
           {
            "colorbar": {
             "outlinewidth": 0,
             "ticks": ""
            },
            "colorscale": [
             [
              0,
              "#0d0887"
             ],
             [
              0.1111111111111111,
              "#46039f"
             ],
             [
              0.2222222222222222,
              "#7201a8"
             ],
             [
              0.3333333333333333,
              "#9c179e"
             ],
             [
              0.4444444444444444,
              "#bd3786"
             ],
             [
              0.5555555555555556,
              "#d8576b"
             ],
             [
              0.6666666666666666,
              "#ed7953"
             ],
             [
              0.7777777777777778,
              "#fb9f3a"
             ],
             [
              0.8888888888888888,
              "#fdca26"
             ],
             [
              1,
              "#f0f921"
             ]
            ],
            "type": "histogram2d"
           }
          ],
          "histogram2dcontour": [
           {
            "colorbar": {
             "outlinewidth": 0,
             "ticks": ""
            },
            "colorscale": [
             [
              0,
              "#0d0887"
             ],
             [
              0.1111111111111111,
              "#46039f"
             ],
             [
              0.2222222222222222,
              "#7201a8"
             ],
             [
              0.3333333333333333,
              "#9c179e"
             ],
             [
              0.4444444444444444,
              "#bd3786"
             ],
             [
              0.5555555555555556,
              "#d8576b"
             ],
             [
              0.6666666666666666,
              "#ed7953"
             ],
             [
              0.7777777777777778,
              "#fb9f3a"
             ],
             [
              0.8888888888888888,
              "#fdca26"
             ],
             [
              1,
              "#f0f921"
             ]
            ],
            "type": "histogram2dcontour"
           }
          ],
          "mesh3d": [
           {
            "colorbar": {
             "outlinewidth": 0,
             "ticks": ""
            },
            "type": "mesh3d"
           }
          ],
          "parcoords": [
           {
            "line": {
             "colorbar": {
              "outlinewidth": 0,
              "ticks": ""
             }
            },
            "type": "parcoords"
           }
          ],
          "pie": [
           {
            "automargin": true,
            "type": "pie"
           }
          ],
          "scatter": [
           {
            "fillpattern": {
             "fillmode": "overlay",
             "size": 10,
             "solidity": 0.2
            },
            "type": "scatter"
           }
          ],
          "scatter3d": [
           {
            "line": {
             "colorbar": {
              "outlinewidth": 0,
              "ticks": ""
             }
            },
            "marker": {
             "colorbar": {
              "outlinewidth": 0,
              "ticks": ""
             }
            },
            "type": "scatter3d"
           }
          ],
          "scattercarpet": [
           {
            "marker": {
             "colorbar": {
              "outlinewidth": 0,
              "ticks": ""
             }
            },
            "type": "scattercarpet"
           }
          ],
          "scattergeo": [
           {
            "marker": {
             "colorbar": {
              "outlinewidth": 0,
              "ticks": ""
             }
            },
            "type": "scattergeo"
           }
          ],
          "scattergl": [
           {
            "marker": {
             "colorbar": {
              "outlinewidth": 0,
              "ticks": ""
             }
            },
            "type": "scattergl"
           }
          ],
          "scattermap": [
           {
            "marker": {
             "colorbar": {
              "outlinewidth": 0,
              "ticks": ""
             }
            },
            "type": "scattermap"
           }
          ],
          "scattermapbox": [
           {
            "marker": {
             "colorbar": {
              "outlinewidth": 0,
              "ticks": ""
             }
            },
            "type": "scattermapbox"
           }
          ],
          "scatterpolar": [
           {
            "marker": {
             "colorbar": {
              "outlinewidth": 0,
              "ticks": ""
             }
            },
            "type": "scatterpolar"
           }
          ],
          "scatterpolargl": [
           {
            "marker": {
             "colorbar": {
              "outlinewidth": 0,
              "ticks": ""
             }
            },
            "type": "scatterpolargl"
           }
          ],
          "scatterternary": [
           {
            "marker": {
             "colorbar": {
              "outlinewidth": 0,
              "ticks": ""
             }
            },
            "type": "scatterternary"
           }
          ],
          "surface": [
           {
            "colorbar": {
             "outlinewidth": 0,
             "ticks": ""
            },
            "colorscale": [
             [
              0,
              "#0d0887"
             ],
             [
              0.1111111111111111,
              "#46039f"
             ],
             [
              0.2222222222222222,
              "#7201a8"
             ],
             [
              0.3333333333333333,
              "#9c179e"
             ],
             [
              0.4444444444444444,
              "#bd3786"
             ],
             [
              0.5555555555555556,
              "#d8576b"
             ],
             [
              0.6666666666666666,
              "#ed7953"
             ],
             [
              0.7777777777777778,
              "#fb9f3a"
             ],
             [
              0.8888888888888888,
              "#fdca26"
             ],
             [
              1,
              "#f0f921"
             ]
            ],
            "type": "surface"
           }
          ],
          "table": [
           {
            "cells": {
             "fill": {
              "color": "#EBF0F8"
             },
             "line": {
              "color": "white"
             }
            },
            "header": {
             "fill": {
              "color": "#C8D4E3"
             },
             "line": {
              "color": "white"
             }
            },
            "type": "table"
           }
          ]
         },
         "layout": {
          "annotationdefaults": {
           "arrowcolor": "#2a3f5f",
           "arrowhead": 0,
           "arrowwidth": 1
          },
          "autotypenumbers": "strict",
          "coloraxis": {
           "colorbar": {
            "outlinewidth": 0,
            "ticks": ""
           }
          },
          "colorscale": {
           "diverging": [
            [
             0,
             "#8e0152"
            ],
            [
             0.1,
             "#c51b7d"
            ],
            [
             0.2,
             "#de77ae"
            ],
            [
             0.3,
             "#f1b6da"
            ],
            [
             0.4,
             "#fde0ef"
            ],
            [
             0.5,
             "#f7f7f7"
            ],
            [
             0.6,
             "#e6f5d0"
            ],
            [
             0.7,
             "#b8e186"
            ],
            [
             0.8,
             "#7fbc41"
            ],
            [
             0.9,
             "#4d9221"
            ],
            [
             1,
             "#276419"
            ]
           ],
           "sequential": [
            [
             0,
             "#0d0887"
            ],
            [
             0.1111111111111111,
             "#46039f"
            ],
            [
             0.2222222222222222,
             "#7201a8"
            ],
            [
             0.3333333333333333,
             "#9c179e"
            ],
            [
             0.4444444444444444,
             "#bd3786"
            ],
            [
             0.5555555555555556,
             "#d8576b"
            ],
            [
             0.6666666666666666,
             "#ed7953"
            ],
            [
             0.7777777777777778,
             "#fb9f3a"
            ],
            [
             0.8888888888888888,
             "#fdca26"
            ],
            [
             1,
             "#f0f921"
            ]
           ],
           "sequentialminus": [
            [
             0,
             "#0d0887"
            ],
            [
             0.1111111111111111,
             "#46039f"
            ],
            [
             0.2222222222222222,
             "#7201a8"
            ],
            [
             0.3333333333333333,
             "#9c179e"
            ],
            [
             0.4444444444444444,
             "#bd3786"
            ],
            [
             0.5555555555555556,
             "#d8576b"
            ],
            [
             0.6666666666666666,
             "#ed7953"
            ],
            [
             0.7777777777777778,
             "#fb9f3a"
            ],
            [
             0.8888888888888888,
             "#fdca26"
            ],
            [
             1,
             "#f0f921"
            ]
           ]
          },
          "colorway": [
           "#636efa",
           "#EF553B",
           "#00cc96",
           "#ab63fa",
           "#FFA15A",
           "#19d3f3",
           "#FF6692",
           "#B6E880",
           "#FF97FF",
           "#FECB52"
          ],
          "font": {
           "color": "#2a3f5f"
          },
          "geo": {
           "bgcolor": "white",
           "lakecolor": "white",
           "landcolor": "#E5ECF6",
           "showlakes": true,
           "showland": true,
           "subunitcolor": "white"
          },
          "hoverlabel": {
           "align": "left"
          },
          "hovermode": "closest",
          "mapbox": {
           "style": "light"
          },
          "paper_bgcolor": "white",
          "plot_bgcolor": "#E5ECF6",
          "polar": {
           "angularaxis": {
            "gridcolor": "white",
            "linecolor": "white",
            "ticks": ""
           },
           "bgcolor": "#E5ECF6",
           "radialaxis": {
            "gridcolor": "white",
            "linecolor": "white",
            "ticks": ""
           }
          },
          "scene": {
           "xaxis": {
            "backgroundcolor": "#E5ECF6",
            "gridcolor": "white",
            "gridwidth": 2,
            "linecolor": "white",
            "showbackground": true,
            "ticks": "",
            "zerolinecolor": "white"
           },
           "yaxis": {
            "backgroundcolor": "#E5ECF6",
            "gridcolor": "white",
            "gridwidth": 2,
            "linecolor": "white",
            "showbackground": true,
            "ticks": "",
            "zerolinecolor": "white"
           },
           "zaxis": {
            "backgroundcolor": "#E5ECF6",
            "gridcolor": "white",
            "gridwidth": 2,
            "linecolor": "white",
            "showbackground": true,
            "ticks": "",
            "zerolinecolor": "white"
           }
          },
          "shapedefaults": {
           "line": {
            "color": "#2a3f5f"
           }
          },
          "ternary": {
           "aaxis": {
            "gridcolor": "white",
            "linecolor": "white",
            "ticks": ""
           },
           "baxis": {
            "gridcolor": "white",
            "linecolor": "white",
            "ticks": ""
           },
           "bgcolor": "#E5ECF6",
           "caxis": {
            "gridcolor": "white",
            "linecolor": "white",
            "ticks": ""
           }
          },
          "title": {
           "x": 0.05
          },
          "xaxis": {
           "automargin": true,
           "gridcolor": "white",
           "linecolor": "white",
           "ticks": "",
           "title": {
            "standoff": 15
           },
           "zerolinecolor": "white",
           "zerolinewidth": 2
          },
          "yaxis": {
           "automargin": true,
           "gridcolor": "white",
           "linecolor": "white",
           "ticks": "",
           "title": {
            "standoff": 15
           },
           "zerolinecolor": "white",
           "zerolinewidth": 2
          }
         }
        },
        "title": {
         "font": {
          "size": 20
         },
         "text": "Total % of winners in the corresponding corner",
         "x": 0.5
        }
       }
      }
     },
     "metadata": {},
     "output_type": "display_data"
    }
   ],
   "source": [
    "fig = px.pie(winners_by_corner, values='count', names='winner',\n",
    "             title=\"Total % of winners in the corresponding corner\", height=500,\n",
    "            color = 'winner', color_discrete_map={'red':'EF553B','blue':'636EFA'})\n",
    "\n",
    "fig.update_layout(title={\"x\": 0.5, \"font_size\": 20},\n",
    "                  font={\"size\": 14}, )\n",
    "\n",
    "fig.update_traces(textfont_size=14, textfont={'color': 'white'})\n",
    "\n",
    "fig.show()"
   ]
  },
  {
   "cell_type": "markdown",
   "id": "a41e1e15-b906-45cb-8fa6-fe8d71b8a7a0",
   "metadata": {},
   "source": [
    "* The red corner is the dominant since it is given to champions, and, higher-ranked fighters.\n",
    "* Where blue is assigned to lower-ranked fighters and title challengers."
   ]
  },
  {
   "cell_type": "markdown",
   "id": "b1f7ed24-f954-4225-96e5-d3f903ac9d7b",
   "metadata": {},
   "source": [
    "## 5. What are the main fighting aspects contributing to a victory?"
   ]
  },
  {
   "cell_type": "markdown",
   "id": "531f201f-94f2-44e6-a5de-51c400fb780c",
   "metadata": {},
   "source": [
    "### Let's examine a few features between a winner and a loser:"
   ]
  },
  {
   "cell_type": "markdown",
   "id": "d127a3a8-fb2e-4f24-b226-3da1d6a95d7c",
   "metadata": {},
   "source": [
    "#### Height"
   ]
  },
  {
   "cell_type": "markdown",
   "id": "f0f3ac6a-9b9a-4dcb-a720-98f117c26d36",
   "metadata": {},
   "source": [
    "**Univariate analysis**"
   ]
  },
  {
   "cell_type": "markdown",
   "id": "498e9832-468c-4bd1-b91b-31e8b1030fc2",
   "metadata": {},
   "source": [
    "For the starters, let's examine some anatomy-based features like height and reach. <br>\n",
    "Let's start with `height`:"
   ]
  },
  {
   "cell_type": "code",
   "execution_count": 206,
   "id": "a379746f-bce5-45b7-9072-c2961bcafbe0",
   "metadata": {},
   "outputs": [
    {
     "data": {
      "text/plain": [
       "count    6813.000000\n",
       "mean        0.298999\n",
       "std         6.522503\n",
       "min       -33.020000\n",
       "25%        -5.080000\n",
       "50%         0.000000\n",
       "75%         5.080000\n",
       "max        33.020000\n",
       "Name: delta_height, dtype: float64"
      ]
     },
     "execution_count": 206,
     "metadata": {},
     "output_type": "execute_result"
    }
   ],
   "source": [
    "df['delta_height'].describe()"
   ]
  },
  {
   "cell_type": "markdown",
   "id": "57cffbea-dc92-4933-bebe-6a65dbe9d1ea",
   "metadata": {},
   "source": [
    "Looks like we have some outliers here. The mean is 0, std is 11, but min and max are -193, 193, which looks like they are the outliers, these are essentially the cases, where the height of one of the fighters is not recorded, and so is filled with 0. Effectively taking delta values by subtracting 0 or from 0, resulting in the height of a single fighter, let's drop these:"
   ]
  },
  {
   "cell_type": "markdown",
   "id": "63fa99cc-c97e-4349-a426-40a4b01fc9c0",
   "metadata": {},
   "source": [
    "But before dropping, we will write a function as I suspect there's a bunch similar not-filled entries in other columns as well, and we cannot simply drop them all at once, as there's still a lot of useful information in those rows in other columns:"
   ]
  },
  {
   "cell_type": "code",
   "execution_count": 207,
   "id": "4084f228-d87c-4a49-81b0-0a50b1397ea0",
   "metadata": {},
   "outputs": [],
   "source": [
    "def drop_outliers(series, outlier_threshold):\n",
    "    \"\"\"Returns series that dropped rows, \n",
    "    where values are above the threshold\"\"\"\n",
    "    \n",
    "    mask = np.abs(series) > outlier_threshold\n",
    "    idxs = mask[mask].index\n",
    "\n",
    "    return series.drop(index=idxs)"
   ]
  },
  {
   "cell_type": "code",
   "execution_count": 208,
   "id": "60d5876d-68e4-47b2-b767-644a299bf456",
   "metadata": {},
   "outputs": [
    {
     "data": {
      "text/plain": [
       "count    6813.000000\n",
       "mean        0.298999\n",
       "std         6.522503\n",
       "min       -33.020000\n",
       "25%        -5.080000\n",
       "50%         0.000000\n",
       "75%         5.080000\n",
       "max        33.020000\n",
       "Name: delta_height, dtype: float64"
      ]
     },
     "execution_count": 208,
     "metadata": {},
     "output_type": "execute_result"
    }
   ],
   "source": [
    "dtheights = drop_outliers(df['delta_height'], 100)\n",
    "dtheights.describe()"
   ]
  },
  {
   "cell_type": "markdown",
   "id": "a338a4e9-3744-495f-9115-1dba077b8f98",
   "metadata": {},
   "source": [
    "Looks much better, let's plot:"
   ]
  },
  {
   "cell_type": "code",
   "execution_count": 209,
   "id": "92753858-0e7f-47df-a40b-f945b6f94697",
   "metadata": {},
   "outputs": [
    {
     "data": {
      "application/vnd.plotly.v1+json": {
       "config": {
        "plotlyServerURL": "https://plot.ly"
       },
       "data": [
        {
         "alignmentgroup": "True",
         "hovertemplate": "delta_height=%{x}<extra></extra>",
         "legendgroup": "",
         "marker": {
          "color": "#636efa"
         },
         "name": "",
         "notched": false,
         "offsetgroup": "",
         "orientation": "h",
         "showlegend": false,
         "type": "box",
         "x": {
          "bdata": "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",
          "dtype": "f8"
         },
         "x0": " ",
         "xaxis": "x",
         "y0": " ",
         "yaxis": "y"
        }
       ],
       "layout": {
        "boxmode": "group",
        "font": {
         "size": 14
        },
        "height": 500,
        "legend": {
         "tracegroupgap": 0
        },
        "template": {
         "data": {
          "bar": [
           {
            "error_x": {
             "color": "#2a3f5f"
            },
            "error_y": {
             "color": "#2a3f5f"
            },
            "marker": {
             "line": {
              "color": "#E5ECF6",
              "width": 0.5
             },
             "pattern": {
              "fillmode": "overlay",
              "size": 10,
              "solidity": 0.2
             }
            },
            "type": "bar"
           }
          ],
          "barpolar": [
           {
            "marker": {
             "line": {
              "color": "#E5ECF6",
              "width": 0.5
             },
             "pattern": {
              "fillmode": "overlay",
              "size": 10,
              "solidity": 0.2
             }
            },
            "type": "barpolar"
           }
          ],
          "carpet": [
           {
            "aaxis": {
             "endlinecolor": "#2a3f5f",
             "gridcolor": "white",
             "linecolor": "white",
             "minorgridcolor": "white",
             "startlinecolor": "#2a3f5f"
            },
            "baxis": {
             "endlinecolor": "#2a3f5f",
             "gridcolor": "white",
             "linecolor": "white",
             "minorgridcolor": "white",
             "startlinecolor": "#2a3f5f"
            },
            "type": "carpet"
           }
          ],
          "choropleth": [
           {
            "colorbar": {
             "outlinewidth": 0,
             "ticks": ""
            },
            "type": "choropleth"
           }
          ],
          "contour": [
           {
            "colorbar": {
             "outlinewidth": 0,
             "ticks": ""
            },
            "colorscale": [
             [
              0,
              "#0d0887"
             ],
             [
              0.1111111111111111,
              "#46039f"
             ],
             [
              0.2222222222222222,
              "#7201a8"
             ],
             [
              0.3333333333333333,
              "#9c179e"
             ],
             [
              0.4444444444444444,
              "#bd3786"
             ],
             [
              0.5555555555555556,
              "#d8576b"
             ],
             [
              0.6666666666666666,
              "#ed7953"
             ],
             [
              0.7777777777777778,
              "#fb9f3a"
             ],
             [
              0.8888888888888888,
              "#fdca26"
             ],
             [
              1,
              "#f0f921"
             ]
            ],
            "type": "contour"
           }
          ],
          "contourcarpet": [
           {
            "colorbar": {
             "outlinewidth": 0,
             "ticks": ""
            },
            "type": "contourcarpet"
           }
          ],
          "heatmap": [
           {
            "colorbar": {
             "outlinewidth": 0,
             "ticks": ""
            },
            "colorscale": [
             [
              0,
              "#0d0887"
             ],
             [
              0.1111111111111111,
              "#46039f"
             ],
             [
              0.2222222222222222,
              "#7201a8"
             ],
             [
              0.3333333333333333,
              "#9c179e"
             ],
             [
              0.4444444444444444,
              "#bd3786"
             ],
             [
              0.5555555555555556,
              "#d8576b"
             ],
             [
              0.6666666666666666,
              "#ed7953"
             ],
             [
              0.7777777777777778,
              "#fb9f3a"
             ],
             [
              0.8888888888888888,
              "#fdca26"
             ],
             [
              1,
              "#f0f921"
             ]
            ],
            "type": "heatmap"
           }
          ],
          "histogram": [
           {
            "marker": {
             "pattern": {
              "fillmode": "overlay",
              "size": 10,
              "solidity": 0.2
             }
            },
            "type": "histogram"
           }
          ],
          "histogram2d": [
           {
            "colorbar": {
             "outlinewidth": 0,
             "ticks": ""
            },
            "colorscale": [
             [
              0,
              "#0d0887"
             ],
             [
              0.1111111111111111,
              "#46039f"
             ],
             [
              0.2222222222222222,
              "#7201a8"
             ],
             [
              0.3333333333333333,
              "#9c179e"
             ],
             [
              0.4444444444444444,
              "#bd3786"
             ],
             [
              0.5555555555555556,
              "#d8576b"
             ],
             [
              0.6666666666666666,
              "#ed7953"
             ],
             [
              0.7777777777777778,
              "#fb9f3a"
             ],
             [
              0.8888888888888888,
              "#fdca26"
             ],
             [
              1,
              "#f0f921"
             ]
            ],
            "type": "histogram2d"
           }
          ],
          "histogram2dcontour": [
           {
            "colorbar": {
             "outlinewidth": 0,
             "ticks": ""
            },
            "colorscale": [
             [
              0,
              "#0d0887"
             ],
             [
              0.1111111111111111,
              "#46039f"
             ],
             [
              0.2222222222222222,
              "#7201a8"
             ],
             [
              0.3333333333333333,
              "#9c179e"
             ],
             [
              0.4444444444444444,
              "#bd3786"
             ],
             [
              0.5555555555555556,
              "#d8576b"
             ],
             [
              0.6666666666666666,
              "#ed7953"
             ],
             [
              0.7777777777777778,
              "#fb9f3a"
             ],
             [
              0.8888888888888888,
              "#fdca26"
             ],
             [
              1,
              "#f0f921"
             ]
            ],
            "type": "histogram2dcontour"
           }
          ],
          "mesh3d": [
           {
            "colorbar": {
             "outlinewidth": 0,
             "ticks": ""
            },
            "type": "mesh3d"
           }
          ],
          "parcoords": [
           {
            "line": {
             "colorbar": {
              "outlinewidth": 0,
              "ticks": ""
             }
            },
            "type": "parcoords"
           }
          ],
          "pie": [
           {
            "automargin": true,
            "type": "pie"
           }
          ],
          "scatter": [
           {
            "fillpattern": {
             "fillmode": "overlay",
             "size": 10,
             "solidity": 0.2
            },
            "type": "scatter"
           }
          ],
          "scatter3d": [
           {
            "line": {
             "colorbar": {
              "outlinewidth": 0,
              "ticks": ""
             }
            },
            "marker": {
             "colorbar": {
              "outlinewidth": 0,
              "ticks": ""
             }
            },
            "type": "scatter3d"
           }
          ],
          "scattercarpet": [
           {
            "marker": {
             "colorbar": {
              "outlinewidth": 0,
              "ticks": ""
             }
            },
            "type": "scattercarpet"
           }
          ],
          "scattergeo": [
           {
            "marker": {
             "colorbar": {
              "outlinewidth": 0,
              "ticks": ""
             }
            },
            "type": "scattergeo"
           }
          ],
          "scattergl": [
           {
            "marker": {
             "colorbar": {
              "outlinewidth": 0,
              "ticks": ""
             }
            },
            "type": "scattergl"
           }
          ],
          "scattermap": [
           {
            "marker": {
             "colorbar": {
              "outlinewidth": 0,
              "ticks": ""
             }
            },
            "type": "scattermap"
           }
          ],
          "scattermapbox": [
           {
            "marker": {
             "colorbar": {
              "outlinewidth": 0,
              "ticks": ""
             }
            },
            "type": "scattermapbox"
           }
          ],
          "scatterpolar": [
           {
            "marker": {
             "colorbar": {
              "outlinewidth": 0,
              "ticks": ""
             }
            },
            "type": "scatterpolar"
           }
          ],
          "scatterpolargl": [
           {
            "marker": {
             "colorbar": {
              "outlinewidth": 0,
              "ticks": ""
             }
            },
            "type": "scatterpolargl"
           }
          ],
          "scatterternary": [
           {
            "marker": {
             "colorbar": {
              "outlinewidth": 0,
              "ticks": ""
             }
            },
            "type": "scatterternary"
           }
          ],
          "surface": [
           {
            "colorbar": {
             "outlinewidth": 0,
             "ticks": ""
            },
            "colorscale": [
             [
              0,
              "#0d0887"
             ],
             [
              0.1111111111111111,
              "#46039f"
             ],
             [
              0.2222222222222222,
              "#7201a8"
             ],
             [
              0.3333333333333333,
              "#9c179e"
             ],
             [
              0.4444444444444444,
              "#bd3786"
             ],
             [
              0.5555555555555556,
              "#d8576b"
             ],
             [
              0.6666666666666666,
              "#ed7953"
             ],
             [
              0.7777777777777778,
              "#fb9f3a"
             ],
             [
              0.8888888888888888,
              "#fdca26"
             ],
             [
              1,
              "#f0f921"
             ]
            ],
            "type": "surface"
           }
          ],
          "table": [
           {
            "cells": {
             "fill": {
              "color": "#EBF0F8"
             },
             "line": {
              "color": "white"
             }
            },
            "header": {
             "fill": {
              "color": "#C8D4E3"
             },
             "line": {
              "color": "white"
             }
            },
            "type": "table"
           }
          ]
         },
         "layout": {
          "annotationdefaults": {
           "arrowcolor": "#2a3f5f",
           "arrowhead": 0,
           "arrowwidth": 1
          },
          "autotypenumbers": "strict",
          "coloraxis": {
           "colorbar": {
            "outlinewidth": 0,
            "ticks": ""
           }
          },
          "colorscale": {
           "diverging": [
            [
             0,
             "#8e0152"
            ],
            [
             0.1,
             "#c51b7d"
            ],
            [
             0.2,
             "#de77ae"
            ],
            [
             0.3,
             "#f1b6da"
            ],
            [
             0.4,
             "#fde0ef"
            ],
            [
             0.5,
             "#f7f7f7"
            ],
            [
             0.6,
             "#e6f5d0"
            ],
            [
             0.7,
             "#b8e186"
            ],
            [
             0.8,
             "#7fbc41"
            ],
            [
             0.9,
             "#4d9221"
            ],
            [
             1,
             "#276419"
            ]
           ],
           "sequential": [
            [
             0,
             "#0d0887"
            ],
            [
             0.1111111111111111,
             "#46039f"
            ],
            [
             0.2222222222222222,
             "#7201a8"
            ],
            [
             0.3333333333333333,
             "#9c179e"
            ],
            [
             0.4444444444444444,
             "#bd3786"
            ],
            [
             0.5555555555555556,
             "#d8576b"
            ],
            [
             0.6666666666666666,
             "#ed7953"
            ],
            [
             0.7777777777777778,
             "#fb9f3a"
            ],
            [
             0.8888888888888888,
             "#fdca26"
            ],
            [
             1,
             "#f0f921"
            ]
           ],
           "sequentialminus": [
            [
             0,
             "#0d0887"
            ],
            [
             0.1111111111111111,
             "#46039f"
            ],
            [
             0.2222222222222222,
             "#7201a8"
            ],
            [
             0.3333333333333333,
             "#9c179e"
            ],
            [
             0.4444444444444444,
             "#bd3786"
            ],
            [
             0.5555555555555556,
             "#d8576b"
            ],
            [
             0.6666666666666666,
             "#ed7953"
            ],
            [
             0.7777777777777778,
             "#fb9f3a"
            ],
            [
             0.8888888888888888,
             "#fdca26"
            ],
            [
             1,
             "#f0f921"
            ]
           ]
          },
          "colorway": [
           "#636efa",
           "#EF553B",
           "#00cc96",
           "#ab63fa",
           "#FFA15A",
           "#19d3f3",
           "#FF6692",
           "#B6E880",
           "#FF97FF",
           "#FECB52"
          ],
          "font": {
           "color": "#2a3f5f"
          },
          "geo": {
           "bgcolor": "white",
           "lakecolor": "white",
           "landcolor": "#E5ECF6",
           "showlakes": true,
           "showland": true,
           "subunitcolor": "white"
          },
          "hoverlabel": {
           "align": "left"
          },
          "hovermode": "closest",
          "mapbox": {
           "style": "light"
          },
          "paper_bgcolor": "white",
          "plot_bgcolor": "#E5ECF6",
          "polar": {
           "angularaxis": {
            "gridcolor": "white",
            "linecolor": "white",
            "ticks": ""
           },
           "bgcolor": "#E5ECF6",
           "radialaxis": {
            "gridcolor": "white",
            "linecolor": "white",
            "ticks": ""
           }
          },
          "scene": {
           "xaxis": {
            "backgroundcolor": "#E5ECF6",
            "gridcolor": "white",
            "gridwidth": 2,
            "linecolor": "white",
            "showbackground": true,
            "ticks": "",
            "zerolinecolor": "white"
           },
           "yaxis": {
            "backgroundcolor": "#E5ECF6",
            "gridcolor": "white",
            "gridwidth": 2,
            "linecolor": "white",
            "showbackground": true,
            "ticks": "",
            "zerolinecolor": "white"
           },
           "zaxis": {
            "backgroundcolor": "#E5ECF6",
            "gridcolor": "white",
            "gridwidth": 2,
            "linecolor": "white",
            "showbackground": true,
            "ticks": "",
            "zerolinecolor": "white"
           }
          },
          "shapedefaults": {
           "line": {
            "color": "#2a3f5f"
           }
          },
          "ternary": {
           "aaxis": {
            "gridcolor": "white",
            "linecolor": "white",
            "ticks": ""
           },
           "baxis": {
            "gridcolor": "white",
            "linecolor": "white",
            "ticks": ""
           },
           "bgcolor": "#E5ECF6",
           "caxis": {
            "gridcolor": "white",
            "linecolor": "white",
            "ticks": ""
           }
          },
          "title": {
           "x": 0.05
          },
          "xaxis": {
           "automargin": true,
           "gridcolor": "white",
           "linecolor": "white",
           "ticks": "",
           "title": {
            "standoff": 15
           },
           "zerolinecolor": "white",
           "zerolinewidth": 2
          },
          "yaxis": {
           "automargin": true,
           "gridcolor": "white",
           "linecolor": "white",
           "ticks": "",
           "title": {
            "standoff": 15
           },
           "zerolinecolor": "white",
           "zerolinewidth": 2
          }
         }
        },
        "title": {
         "font": {
          "size": 20
         },
         "text": "Differences in heights between winner and loser",
         "x": 0.5
        },
        "xaxis": {
         "anchor": "y",
         "domain": [
          0,
          1
         ],
         "title": {
          "text": "delta_height"
         }
        },
        "yaxis": {
         "anchor": "x",
         "domain": [
          0,
          1
         ]
        }
       }
      }
     },
     "metadata": {},
     "output_type": "display_data"
    }
   ],
   "source": [
    "fig = px.box(dtheights, x='delta_height', height=500, title=\"Differences in heights between winner and loser\")\n",
    "\n",
    "fig.update_layout(title={\"x\": 0.5, \"font_size\": 20},\n",
    "                  font={\"size\": 14}, )\n",
    "fig.show()"
   ]
  },
  {
   "cell_type": "markdown",
   "id": "682b774a-1cd1-4935-82df-e6ad22090adf",
   "metadata": {},
   "source": [
    "#### Reach"
   ]
  },
  {
   "cell_type": "code",
   "execution_count": 210,
   "id": "d0f11cb9-7bc5-4a6d-8704-82b709071ea9",
   "metadata": {},
   "outputs": [
    {
     "data": {
      "text/plain": [
       "count    5705.000000\n",
       "mean        0.573893\n",
       "std         8.241648\n",
       "min       -30.480000\n",
       "25%        -5.080000\n",
       "50%         0.000000\n",
       "75%         5.080000\n",
       "max        33.020000\n",
       "Name: delta_reach, dtype: float64"
      ]
     },
     "execution_count": 210,
     "metadata": {},
     "output_type": "execute_result"
    }
   ],
   "source": [
    "df[\"delta_reach\"].describe()"
   ]
  },
  {
   "cell_type": "markdown",
   "id": "33036df8-c24f-4af6-9689-966deff8f722",
   "metadata": {},
   "source": [
    "Looks like we have some outliers here as well. The mean is 17, std is 63, but min and max are -205, 213, it is anatomically, impossible to have a difference between fighters' reach of even 100. So these are just the rows, where one of the fighters' reach wasn't filled. So let's drop these:"
   ]
  },
  {
   "cell_type": "code",
   "execution_count": 211,
   "id": "931a7cc7-0f1c-47d0-9a17-81b7c166a9e1",
   "metadata": {},
   "outputs": [
    {
     "data": {
      "text/plain": [
       "count    5705.000000\n",
       "mean        0.573893\n",
       "std         8.241648\n",
       "min       -30.480000\n",
       "25%        -5.080000\n",
       "50%         0.000000\n",
       "75%         5.080000\n",
       "max        33.020000\n",
       "Name: delta_reach, dtype: float64"
      ]
     },
     "execution_count": 211,
     "metadata": {},
     "output_type": "execute_result"
    }
   ],
   "source": [
    "dtreach = drop_outliers(df[\"delta_reach\"], 100)\n",
    "dtreach.describe()"
   ]
  },
  {
   "cell_type": "code",
   "execution_count": 212,
   "id": "c6dff6a3-c298-4a71-8cda-7ffcfd3ee68f",
   "metadata": {},
   "outputs": [
    {
     "data": {
      "application/vnd.plotly.v1+json": {
       "config": {
        "plotlyServerURL": "https://plot.ly"
       },
       "data": [
        {
         "alignmentgroup": "True",
         "hovertemplate": "delta_reach=%{x}<extra></extra>",
         "legendgroup": "",
         "marker": {
          "color": "#636efa"
         },
         "name": "",
         "notched": false,
         "offsetgroup": "",
         "orientation": "h",
         "showlegend": false,
         "type": "box",
         "x": {
          "bdata": "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",
          "dtype": "f8"
         },
         "x0": " ",
         "xaxis": "x",
         "y0": " ",
         "yaxis": "y"
        }
       ],
       "layout": {
        "boxmode": "group",
        "font": {
         "size": 14
        },
        "height": 500,
        "legend": {
         "tracegroupgap": 0
        },
        "template": {
         "data": {
          "bar": [
           {
            "error_x": {
             "color": "#2a3f5f"
            },
            "error_y": {
             "color": "#2a3f5f"
            },
            "marker": {
             "line": {
              "color": "#E5ECF6",
              "width": 0.5
             },
             "pattern": {
              "fillmode": "overlay",
              "size": 10,
              "solidity": 0.2
             }
            },
            "type": "bar"
           }
          ],
          "barpolar": [
           {
            "marker": {
             "line": {
              "color": "#E5ECF6",
              "width": 0.5
             },
             "pattern": {
              "fillmode": "overlay",
              "size": 10,
              "solidity": 0.2
             }
            },
            "type": "barpolar"
           }
          ],
          "carpet": [
           {
            "aaxis": {
             "endlinecolor": "#2a3f5f",
             "gridcolor": "white",
             "linecolor": "white",
             "minorgridcolor": "white",
             "startlinecolor": "#2a3f5f"
            },
            "baxis": {
             "endlinecolor": "#2a3f5f",
             "gridcolor": "white",
             "linecolor": "white",
             "minorgridcolor": "white",
             "startlinecolor": "#2a3f5f"
            },
            "type": "carpet"
           }
          ],
          "choropleth": [
           {
            "colorbar": {
             "outlinewidth": 0,
             "ticks": ""
            },
            "type": "choropleth"
           }
          ],
          "contour": [
           {
            "colorbar": {
             "outlinewidth": 0,
             "ticks": ""
            },
            "colorscale": [
             [
              0,
              "#0d0887"
             ],
             [
              0.1111111111111111,
              "#46039f"
             ],
             [
              0.2222222222222222,
              "#7201a8"
             ],
             [
              0.3333333333333333,
              "#9c179e"
             ],
             [
              0.4444444444444444,
              "#bd3786"
             ],
             [
              0.5555555555555556,
              "#d8576b"
             ],
             [
              0.6666666666666666,
              "#ed7953"
             ],
             [
              0.7777777777777778,
              "#fb9f3a"
             ],
             [
              0.8888888888888888,
              "#fdca26"
             ],
             [
              1,
              "#f0f921"
             ]
            ],
            "type": "contour"
           }
          ],
          "contourcarpet": [
           {
            "colorbar": {
             "outlinewidth": 0,
             "ticks": ""
            },
            "type": "contourcarpet"
           }
          ],
          "heatmap": [
           {
            "colorbar": {
             "outlinewidth": 0,
             "ticks": ""
            },
            "colorscale": [
             [
              0,
              "#0d0887"
             ],
             [
              0.1111111111111111,
              "#46039f"
             ],
             [
              0.2222222222222222,
              "#7201a8"
             ],
             [
              0.3333333333333333,
              "#9c179e"
             ],
             [
              0.4444444444444444,
              "#bd3786"
             ],
             [
              0.5555555555555556,
              "#d8576b"
             ],
             [
              0.6666666666666666,
              "#ed7953"
             ],
             [
              0.7777777777777778,
              "#fb9f3a"
             ],
             [
              0.8888888888888888,
              "#fdca26"
             ],
             [
              1,
              "#f0f921"
             ]
            ],
            "type": "heatmap"
           }
          ],
          "histogram": [
           {
            "marker": {
             "pattern": {
              "fillmode": "overlay",
              "size": 10,
              "solidity": 0.2
             }
            },
            "type": "histogram"
           }
          ],
          "histogram2d": [
           {
            "colorbar": {
             "outlinewidth": 0,
             "ticks": ""
            },
            "colorscale": [
             [
              0,
              "#0d0887"
             ],
             [
              0.1111111111111111,
              "#46039f"
             ],
             [
              0.2222222222222222,
              "#7201a8"
             ],
             [
              0.3333333333333333,
              "#9c179e"
             ],
             [
              0.4444444444444444,
              "#bd3786"
             ],
             [
              0.5555555555555556,
              "#d8576b"
             ],
             [
              0.6666666666666666,
              "#ed7953"
             ],
             [
              0.7777777777777778,
              "#fb9f3a"
             ],
             [
              0.8888888888888888,
              "#fdca26"
             ],
             [
              1,
              "#f0f921"
             ]
            ],
            "type": "histogram2d"
           }
          ],
          "histogram2dcontour": [
           {
            "colorbar": {
             "outlinewidth": 0,
             "ticks": ""
            },
            "colorscale": [
             [
              0,
              "#0d0887"
             ],
             [
              0.1111111111111111,
              "#46039f"
             ],
             [
              0.2222222222222222,
              "#7201a8"
             ],
             [
              0.3333333333333333,
              "#9c179e"
             ],
             [
              0.4444444444444444,
              "#bd3786"
             ],
             [
              0.5555555555555556,
              "#d8576b"
             ],
             [
              0.6666666666666666,
              "#ed7953"
             ],
             [
              0.7777777777777778,
              "#fb9f3a"
             ],
             [
              0.8888888888888888,
              "#fdca26"
             ],
             [
              1,
              "#f0f921"
             ]
            ],
            "type": "histogram2dcontour"
           }
          ],
          "mesh3d": [
           {
            "colorbar": {
             "outlinewidth": 0,
             "ticks": ""
            },
            "type": "mesh3d"
           }
          ],
          "parcoords": [
           {
            "line": {
             "colorbar": {
              "outlinewidth": 0,
              "ticks": ""
             }
            },
            "type": "parcoords"
           }
          ],
          "pie": [
           {
            "automargin": true,
            "type": "pie"
           }
          ],
          "scatter": [
           {
            "fillpattern": {
             "fillmode": "overlay",
             "size": 10,
             "solidity": 0.2
            },
            "type": "scatter"
           }
          ],
          "scatter3d": [
           {
            "line": {
             "colorbar": {
              "outlinewidth": 0,
              "ticks": ""
             }
            },
            "marker": {
             "colorbar": {
              "outlinewidth": 0,
              "ticks": ""
             }
            },
            "type": "scatter3d"
           }
          ],
          "scattercarpet": [
           {
            "marker": {
             "colorbar": {
              "outlinewidth": 0,
              "ticks": ""
             }
            },
            "type": "scattercarpet"
           }
          ],
          "scattergeo": [
           {
            "marker": {
             "colorbar": {
              "outlinewidth": 0,
              "ticks": ""
             }
            },
            "type": "scattergeo"
           }
          ],
          "scattergl": [
           {
            "marker": {
             "colorbar": {
              "outlinewidth": 0,
              "ticks": ""
             }
            },
            "type": "scattergl"
           }
          ],
          "scattermap": [
           {
            "marker": {
             "colorbar": {
              "outlinewidth": 0,
              "ticks": ""
             }
            },
            "type": "scattermap"
           }
          ],
          "scattermapbox": [
           {
            "marker": {
             "colorbar": {
              "outlinewidth": 0,
              "ticks": ""
             }
            },
            "type": "scattermapbox"
           }
          ],
          "scatterpolar": [
           {
            "marker": {
             "colorbar": {
              "outlinewidth": 0,
              "ticks": ""
             }
            },
            "type": "scatterpolar"
           }
          ],
          "scatterpolargl": [
           {
            "marker": {
             "colorbar": {
              "outlinewidth": 0,
              "ticks": ""
             }
            },
            "type": "scatterpolargl"
           }
          ],
          "scatterternary": [
           {
            "marker": {
             "colorbar": {
              "outlinewidth": 0,
              "ticks": ""
             }
            },
            "type": "scatterternary"
           }
          ],
          "surface": [
           {
            "colorbar": {
             "outlinewidth": 0,
             "ticks": ""
            },
            "colorscale": [
             [
              0,
              "#0d0887"
             ],
             [
              0.1111111111111111,
              "#46039f"
             ],
             [
              0.2222222222222222,
              "#7201a8"
             ],
             [
              0.3333333333333333,
              "#9c179e"
             ],
             [
              0.4444444444444444,
              "#bd3786"
             ],
             [
              0.5555555555555556,
              "#d8576b"
             ],
             [
              0.6666666666666666,
              "#ed7953"
             ],
             [
              0.7777777777777778,
              "#fb9f3a"
             ],
             [
              0.8888888888888888,
              "#fdca26"
             ],
             [
              1,
              "#f0f921"
             ]
            ],
            "type": "surface"
           }
          ],
          "table": [
           {
            "cells": {
             "fill": {
              "color": "#EBF0F8"
             },
             "line": {
              "color": "white"
             }
            },
            "header": {
             "fill": {
              "color": "#C8D4E3"
             },
             "line": {
              "color": "white"
             }
            },
            "type": "table"
           }
          ]
         },
         "layout": {
          "annotationdefaults": {
           "arrowcolor": "#2a3f5f",
           "arrowhead": 0,
           "arrowwidth": 1
          },
          "autotypenumbers": "strict",
          "coloraxis": {
           "colorbar": {
            "outlinewidth": 0,
            "ticks": ""
           }
          },
          "colorscale": {
           "diverging": [
            [
             0,
             "#8e0152"
            ],
            [
             0.1,
             "#c51b7d"
            ],
            [
             0.2,
             "#de77ae"
            ],
            [
             0.3,
             "#f1b6da"
            ],
            [
             0.4,
             "#fde0ef"
            ],
            [
             0.5,
             "#f7f7f7"
            ],
            [
             0.6,
             "#e6f5d0"
            ],
            [
             0.7,
             "#b8e186"
            ],
            [
             0.8,
             "#7fbc41"
            ],
            [
             0.9,
             "#4d9221"
            ],
            [
             1,
             "#276419"
            ]
           ],
           "sequential": [
            [
             0,
             "#0d0887"
            ],
            [
             0.1111111111111111,
             "#46039f"
            ],
            [
             0.2222222222222222,
             "#7201a8"
            ],
            [
             0.3333333333333333,
             "#9c179e"
            ],
            [
             0.4444444444444444,
             "#bd3786"
            ],
            [
             0.5555555555555556,
             "#d8576b"
            ],
            [
             0.6666666666666666,
             "#ed7953"
            ],
            [
             0.7777777777777778,
             "#fb9f3a"
            ],
            [
             0.8888888888888888,
             "#fdca26"
            ],
            [
             1,
             "#f0f921"
            ]
           ],
           "sequentialminus": [
            [
             0,
             "#0d0887"
            ],
            [
             0.1111111111111111,
             "#46039f"
            ],
            [
             0.2222222222222222,
             "#7201a8"
            ],
            [
             0.3333333333333333,
             "#9c179e"
            ],
            [
             0.4444444444444444,
             "#bd3786"
            ],
            [
             0.5555555555555556,
             "#d8576b"
            ],
            [
             0.6666666666666666,
             "#ed7953"
            ],
            [
             0.7777777777777778,
             "#fb9f3a"
            ],
            [
             0.8888888888888888,
             "#fdca26"
            ],
            [
             1,
             "#f0f921"
            ]
           ]
          },
          "colorway": [
           "#636efa",
           "#EF553B",
           "#00cc96",
           "#ab63fa",
           "#FFA15A",
           "#19d3f3",
           "#FF6692",
           "#B6E880",
           "#FF97FF",
           "#FECB52"
          ],
          "font": {
           "color": "#2a3f5f"
          },
          "geo": {
           "bgcolor": "white",
           "lakecolor": "white",
           "landcolor": "#E5ECF6",
           "showlakes": true,
           "showland": true,
           "subunitcolor": "white"
          },
          "hoverlabel": {
           "align": "left"
          },
          "hovermode": "closest",
          "mapbox": {
           "style": "light"
          },
          "paper_bgcolor": "white",
          "plot_bgcolor": "#E5ECF6",
          "polar": {
           "angularaxis": {
            "gridcolor": "white",
            "linecolor": "white",
            "ticks": ""
           },
           "bgcolor": "#E5ECF6",
           "radialaxis": {
            "gridcolor": "white",
            "linecolor": "white",
            "ticks": ""
           }
          },
          "scene": {
           "xaxis": {
            "backgroundcolor": "#E5ECF6",
            "gridcolor": "white",
            "gridwidth": 2,
            "linecolor": "white",
            "showbackground": true,
            "ticks": "",
            "zerolinecolor": "white"
           },
           "yaxis": {
            "backgroundcolor": "#E5ECF6",
            "gridcolor": "white",
            "gridwidth": 2,
            "linecolor": "white",
            "showbackground": true,
            "ticks": "",
            "zerolinecolor": "white"
           },
           "zaxis": {
            "backgroundcolor": "#E5ECF6",
            "gridcolor": "white",
            "gridwidth": 2,
            "linecolor": "white",
            "showbackground": true,
            "ticks": "",
            "zerolinecolor": "white"
           }
          },
          "shapedefaults": {
           "line": {
            "color": "#2a3f5f"
           }
          },
          "ternary": {
           "aaxis": {
            "gridcolor": "white",
            "linecolor": "white",
            "ticks": ""
           },
           "baxis": {
            "gridcolor": "white",
            "linecolor": "white",
            "ticks": ""
           },
           "bgcolor": "#E5ECF6",
           "caxis": {
            "gridcolor": "white",
            "linecolor": "white",
            "ticks": ""
           }
          },
          "title": {
           "x": 0.05
          },
          "xaxis": {
           "automargin": true,
           "gridcolor": "white",
           "linecolor": "white",
           "ticks": "",
           "title": {
            "standoff": 15
           },
           "zerolinecolor": "white",
           "zerolinewidth": 2
          },
          "yaxis": {
           "automargin": true,
           "gridcolor": "white",
           "linecolor": "white",
           "ticks": "",
           "title": {
            "standoff": 15
           },
           "zerolinecolor": "white",
           "zerolinewidth": 2
          }
         }
        },
        "title": {
         "font": {
          "size": 20
         },
         "text": "Differences in reach between winner and loser",
         "x": 0.5
        },
        "xaxis": {
         "anchor": "y",
         "domain": [
          0,
          1
         ],
         "title": {
          "text": "delta_reach"
         }
        },
        "yaxis": {
         "anchor": "x",
         "domain": [
          0,
          1
         ]
        }
       }
      }
     },
     "metadata": {},
     "output_type": "display_data"
    }
   ],
   "source": [
    "fig = px.box(dtreach, x='delta_reach', height=500, title=\"Differences in reach between winner and loser\")\n",
    "\n",
    "fig.update_layout(title={\"x\": 0.5, \"font_size\": 20},\n",
    "                  font={\"size\": 14}, )\n",
    "fig.show()"
   ]
  },
  {
   "cell_type": "markdown",
   "id": "611567b7-f02b-4e61-b552-b0782331e6d3",
   "metadata": {},
   "source": [
    "#### Fighting stance"
   ]
  },
  {
   "cell_type": "markdown",
   "id": "9f79bd5c-2294-4355-a122-fc23b9bee58b",
   "metadata": {},
   "source": [
    "Now, let's take a look at whether fighting stance matters."
   ]
  },
  {
   "cell_type": "markdown",
   "id": "d624c545-f2b5-4c3e-a969-fc59ca4b0bb5",
   "metadata": {},
   "source": [
    "All possible stances:"
   ]
  },
  {
   "cell_type": "code",
   "execution_count": 213,
   "id": "839a256b-d4c6-4efe-8a25-82d2bf0bc7ac",
   "metadata": {},
   "outputs": [
    {
     "data": {
      "text/plain": [
       "{'Open Stance', 'Orthodox', 'Sideways', 'Southpaw', 'Switch', nan}"
      ]
     },
     "execution_count": 213,
     "metadata": {},
     "output_type": "execute_result"
    }
   ],
   "source": [
    "set(df.winner_stance.unique().tolist() + df.loser_stance.unique().tolist())"
   ]
  },
  {
   "cell_type": "markdown",
   "id": "d72037c4-baca-48df-bc7b-f98f3193ff95",
   "metadata": {},
   "source": [
    "Let's drop the 0's:"
   ]
  },
  {
   "cell_type": "code",
   "execution_count": 214,
   "id": "0aa51b16-8806-4ef1-a774-33c69d5b0125",
   "metadata": {},
   "outputs": [],
   "source": [
    "cols = [['winner_stance', 'loser_stance']]\n",
    "idxs = df[(df['winner_stance'] == \"0\") | (df['loser_stance'] == \"0\")].index\n",
    "\n",
    "stances_df = df[['winner_stance', 'loser_stance']].drop(index=idxs).dropna()"
   ]
  },
  {
   "cell_type": "code",
   "execution_count": 215,
   "id": "507967da-e5f4-4b7d-b476-25d03013d052",
   "metadata": {},
   "outputs": [
    {
     "data": {
      "text/plain": [
       "winner_stance\n",
       "Orthodox       4937\n",
       "Southpaw       1416\n",
       "Switch          315\n",
       "Open Stance      13\n",
       "Sideways          2\n",
       "Name: count, dtype: int64"
      ]
     },
     "execution_count": 215,
     "metadata": {},
     "output_type": "execute_result"
    }
   ],
   "source": [
    "stances_df['winner_stance'].value_counts()"
   ]
  },
  {
   "cell_type": "code",
   "execution_count": 217,
   "id": "482cbbac-fc41-4c7d-a48f-53694fd886ec",
   "metadata": {},
   "outputs": [
    {
     "data": {
      "text/plain": [
       "loser_stance\n",
       "Orthodox       5101\n",
       "Southpaw       1287\n",
       "Switch          280\n",
       "Open Stance      11\n",
       "Sideways          4\n",
       "Name: count, dtype: int64"
      ]
     },
     "execution_count": 217,
     "metadata": {},
     "output_type": "execute_result"
    }
   ],
   "source": [
    "stances_df['loser_stance'].value_counts()"
   ]
  },
  {
   "cell_type": "markdown",
   "id": "f8fc42f9-6f02-49ef-a2fd-5794964c33a6",
   "metadata": {},
   "source": [
    "Let's calculate win rate for each stance:"
   ]
  },
  {
   "cell_type": "code",
   "execution_count": 218,
   "id": "80472773-91e7-46b7-911f-525bf2542a43",
   "metadata": {},
   "outputs": [
    {
     "data": {
      "text/plain": [
       "winner_stance\n",
       "Sideways       33.333333\n",
       "Orthodox       49.183104\n",
       "Southpaw       52.386238\n",
       "Switch         52.941176\n",
       "Open Stance    54.166667\n",
       "Name: count, dtype: float64"
      ]
     },
     "execution_count": 218,
     "metadata": {},
     "output_type": "execute_result"
    }
   ],
   "source": [
    "# Stances total\n",
    "stances_total = stances_df['winner_stance'].value_counts().add(stances_df['loser_stance'].value_counts(), fill_value=0)\n",
    "\n",
    "# Stances win rate\n",
    "stances_wr = (stances_df['winner_stance'].value_counts().div(stances_total, fill_value=0) * 100).sort_values()\n",
    "stances_wr"
   ]
  },
  {
   "cell_type": "markdown",
   "id": "b9392fa9-cbd0-4822-90d5-71939a9fd03e",
   "metadata": {},
   "source": [
    "Good."
   ]
  },
  {
   "cell_type": "markdown",
   "id": "c627ae6d-6532-4f70-8525-af6dda36e745",
   "metadata": {},
   "source": [
    "Let's examine the different stance matchups:"
   ]
  },
  {
   "cell_type": "code",
   "execution_count": 219,
   "id": "7926e250-3f4e-49e8-ab27-97342be0abd6",
   "metadata": {},
   "outputs": [
    {
     "data": {
      "text/plain": [
       "winner_stance  loser_stance\n",
       "Orthodox       Orthodox        3814\n",
       "Southpaw       Orthodox        1056\n",
       "Orthodox       Southpaw         917\n",
       "Southpaw       Southpaw         295\n",
       "Switch         Orthodox         220\n",
       "Orthodox       Switch           196\n",
       "Switch         Southpaw          72\n",
       "Southpaw       Switch            61\n",
       "Switch         Switch            23\n",
       "Open Stance    Orthodox          10\n",
       "Orthodox       Open Stance        7\n",
       "Southpaw       Open Stance        3\n",
       "Open Stance    Southpaw           3\n",
       "Orthodox       Sideways           3\n",
       "Southpaw       Sideways           1\n",
       "Sideways       Open Stance        1\n",
       "               Orthodox           1\n",
       "Name: count, dtype: int64"
      ]
     },
     "execution_count": 219,
     "metadata": {},
     "output_type": "execute_result"
    }
   ],
   "source": [
    "stances_df.value_counts()"
   ]
  },
  {
   "cell_type": "code",
   "execution_count": 220,
   "id": "a41cbe24-22a6-475a-9d34-6f00b63ea64c",
   "metadata": {},
   "outputs": [],
   "source": [
    "# Pick rows, where the stances of both fighters are the same\n",
    "samestance_idxs = stances_df[stances_df.winner_stance == stances_df.loser_stance].index\n",
    "\n",
    "# Drop same stance matchups\n",
    "stances_df.drop(index=samestance_idxs, inplace=True)"
   ]
  },
  {
   "cell_type": "code",
   "execution_count": 221,
   "id": "99058d87-0dca-4869-9b3b-340acea42be8",
   "metadata": {},
   "outputs": [
    {
     "data": {
      "text/html": [
       "<div>\n",
       "<style scoped>\n",
       "    .dataframe tbody tr th:only-of-type {\n",
       "        vertical-align: middle;\n",
       "    }\n",
       "\n",
       "    .dataframe tbody tr th {\n",
       "        vertical-align: top;\n",
       "    }\n",
       "\n",
       "    .dataframe thead th {\n",
       "        text-align: right;\n",
       "    }\n",
       "</style>\n",
       "<table border=\"1\" class=\"dataframe\">\n",
       "  <thead>\n",
       "    <tr style=\"text-align: right;\">\n",
       "      <th></th>\n",
       "      <th>winner_stance</th>\n",
       "      <th>loser_stance</th>\n",
       "      <th>count</th>\n",
       "    </tr>\n",
       "  </thead>\n",
       "  <tbody>\n",
       "    <tr>\n",
       "      <th>0</th>\n",
       "      <td>Southpaw</td>\n",
       "      <td>Orthodox</td>\n",
       "      <td>1056</td>\n",
       "    </tr>\n",
       "    <tr>\n",
       "      <th>1</th>\n",
       "      <td>Orthodox</td>\n",
       "      <td>Southpaw</td>\n",
       "      <td>917</td>\n",
       "    </tr>\n",
       "    <tr>\n",
       "      <th>2</th>\n",
       "      <td>Switch</td>\n",
       "      <td>Orthodox</td>\n",
       "      <td>220</td>\n",
       "    </tr>\n",
       "    <tr>\n",
       "      <th>3</th>\n",
       "      <td>Orthodox</td>\n",
       "      <td>Switch</td>\n",
       "      <td>196</td>\n",
       "    </tr>\n",
       "    <tr>\n",
       "      <th>4</th>\n",
       "      <td>Switch</td>\n",
       "      <td>Southpaw</td>\n",
       "      <td>72</td>\n",
       "    </tr>\n",
       "    <tr>\n",
       "      <th>5</th>\n",
       "      <td>Southpaw</td>\n",
       "      <td>Switch</td>\n",
       "      <td>61</td>\n",
       "    </tr>\n",
       "    <tr>\n",
       "      <th>6</th>\n",
       "      <td>Open Stance</td>\n",
       "      <td>Orthodox</td>\n",
       "      <td>10</td>\n",
       "    </tr>\n",
       "    <tr>\n",
       "      <th>7</th>\n",
       "      <td>Orthodox</td>\n",
       "      <td>Open Stance</td>\n",
       "      <td>7</td>\n",
       "    </tr>\n",
       "    <tr>\n",
       "      <th>8</th>\n",
       "      <td>Open Stance</td>\n",
       "      <td>Southpaw</td>\n",
       "      <td>3</td>\n",
       "    </tr>\n",
       "    <tr>\n",
       "      <th>9</th>\n",
       "      <td>Orthodox</td>\n",
       "      <td>Sideways</td>\n",
       "      <td>3</td>\n",
       "    </tr>\n",
       "    <tr>\n",
       "      <th>10</th>\n",
       "      <td>Southpaw</td>\n",
       "      <td>Open Stance</td>\n",
       "      <td>3</td>\n",
       "    </tr>\n",
       "    <tr>\n",
       "      <th>11</th>\n",
       "      <td>Sideways</td>\n",
       "      <td>Open Stance</td>\n",
       "      <td>1</td>\n",
       "    </tr>\n",
       "    <tr>\n",
       "      <th>12</th>\n",
       "      <td>Sideways</td>\n",
       "      <td>Orthodox</td>\n",
       "      <td>1</td>\n",
       "    </tr>\n",
       "    <tr>\n",
       "      <th>13</th>\n",
       "      <td>Southpaw</td>\n",
       "      <td>Sideways</td>\n",
       "      <td>1</td>\n",
       "    </tr>\n",
       "  </tbody>\n",
       "</table>\n",
       "</div>"
      ],
      "text/plain": [
       "   winner_stance loser_stance  count\n",
       "0       Southpaw     Orthodox   1056\n",
       "1       Orthodox     Southpaw    917\n",
       "2         Switch     Orthodox    220\n",
       "3       Orthodox       Switch    196\n",
       "4         Switch     Southpaw     72\n",
       "5       Southpaw       Switch     61\n",
       "6    Open Stance     Orthodox     10\n",
       "7       Orthodox  Open Stance      7\n",
       "8    Open Stance     Southpaw      3\n",
       "9       Orthodox     Sideways      3\n",
       "10      Southpaw  Open Stance      3\n",
       "11      Sideways  Open Stance      1\n",
       "12      Sideways     Orthodox      1\n",
       "13      Southpaw     Sideways      1"
      ]
     },
     "execution_count": 221,
     "metadata": {},
     "output_type": "execute_result"
    }
   ],
   "source": [
    "matchup_cnts = stances_df.value_counts().reset_index()\n",
    "matchup_cnts"
   ]
  },
  {
   "cell_type": "markdown",
   "id": "1c2841d2-380c-4df2-ac27-c18ee7c10146",
   "metadata": {},
   "source": [
    "Normalize winner/loser_stance Southpaw:Orthodox and loser/winner_stance Orthodox:Southpaw into a single group Southpaw:Orthodox to get the total counts needed for ratio calculations:"
   ]
  },
  {
   "cell_type": "code",
   "execution_count": 223,
   "id": "b2d8f6a0-023a-417b-a439-f21b611110e6",
   "metadata": {},
   "outputs": [
    {
     "data": {
      "text/plain": [
       "{('Orthodox', 'Southpaw'): 1973,\n",
       " ('Orthodox', 'Switch'): 416,\n",
       " ('Southpaw', 'Switch'): 133,\n",
       " ('Open Stance', 'Orthodox'): 17,\n",
       " ('Open Stance', 'Southpaw'): 6,\n",
       " ('Orthodox', 'Sideways'): 4,\n",
       " ('Sideways', 'Southpaw'): 1,\n",
       " ('Open Stance', 'Sideways'): 1}"
      ]
     },
     "execution_count": 223,
     "metadata": {},
     "output_type": "execute_result"
    }
   ],
   "source": [
    "stances_df['stance_pairs'] = stances_df.apply(lambda row: tuple(sorted([row['winner_stance'], row['loser_stance']])), axis=1)\n",
    "stance_pairs_cnts = dict(stances_df['stance_pairs'].value_counts())\n",
    "stance_pairs_cnts"
   ]
  },
  {
   "cell_type": "code",
   "execution_count": null,
   "id": "0078a477-d7e1-4e06-a037-6b32494f7365",
   "metadata": {},
   "outputs": [],
   "source": [
    "stances_df['stance_pairs_cnts'] = stances_df['stance_pairs'].apply(lambda val: stance_pairs_cnts[val])\n",
    "stances_df.head()"
   ]
  },
  {
   "cell_type": "code",
   "execution_count": null,
   "id": "09b59b66-8187-4b84-8848-ba4b4698e181",
   "metadata": {},
   "outputs": [],
   "source": [
    "matchup_cnt = pd.DataFrame(stances_df[['winner_stance', 'loser_stance']].value_counts()).reset_index()\n",
    "matchup_cnt"
   ]
  },
  {
   "cell_type": "code",
   "execution_count": null,
   "id": "623503d3-7e14-4b79-9734-d810806f1901",
   "metadata": {},
   "outputs": [],
   "source": [
    "stances_df = stances_df.merge(matchup_cnt, how='left', on=['winner_stance', 'loser_stance']).rename(columns={'count': 'matchup_cnt'})\n",
    "stances_df"
   ]
  },
  {
   "cell_type": "code",
   "execution_count": null,
   "id": "bb014f40-2001-469e-82c0-ed42f7678cf6",
   "metadata": {},
   "outputs": [],
   "source": [
    "stances_df.drop_duplicates(subset=['loser_stance', 'winner_stance'], inplace=True)\n",
    "\n",
    "# Calc win rate\n",
    "stances_df['stance_matchups_wr'] = (stances_df.matchup_cnt.div(stances_df.stance_pairs_cnts) * 100).round(2)\n",
    "\n",
    "# Drop now irrelevant cols for interpretability\n",
    "stances_df = stances_df.loc[:, ['winner_stance', 'loser_stance', 'stance_matchups_wr']]\n",
    "stances_df"
   ]
  },
  {
   "cell_type": "code",
   "execution_count": null,
   "id": "2fc14107-0ab6-404a-adc7-229eef65f205",
   "metadata": {},
   "outputs": [],
   "source": [
    "stances_df"
   ]
  },
  {
   "cell_type": "code",
   "execution_count": null,
   "id": "51619abe-5636-49cb-9da7-ba29186bc2e7",
   "metadata": {},
   "outputs": [],
   "source": [
    "stances_df['matchup_cnt'] = stances_df[['winner_stance', 'loser_stance']].value_counts()"
   ]
  },
  {
   "cell_type": "code",
   "execution_count": 771,
   "id": "a746a6f2-6e41-4fda-857c-5740ac968dbe",
   "metadata": {},
   "outputs": [
    {
     "data": {
      "text/plain": [
       "11           (Orthodox, Switch)\n",
       "12                         1941\n",
       "15           (Orthodox, Switch)\n",
       "17                         1941\n",
       "19                         1941\n",
       "                 ...           \n",
       "6634                       1941\n",
       "6635                       1941\n",
       "6641                       1941\n",
       "6644                       1941\n",
       "6645    (Open Stance, Orthodox)\n",
       "Name: stance_pairs, Length: 2487, dtype: object"
      ]
     },
     "execution_count": 771,
     "metadata": {},
     "output_type": "execute_result"
    }
   ],
   "source": [
    "name, cnt = counts.index[0], counts.values[0]"
   ]
  },
  {
   "cell_type": "code",
   "execution_count": 682,
   "id": "b63c93e7-12b1-4843-bbf4-76473b5e1c1b",
   "metadata": {},
   "outputs": [
    {
     "data": {
      "text/plain": [
       "('Orthodox', 'Switch')"
      ]
     },
     "execution_count": 682,
     "metadata": {},
     "output_type": "execute_result"
    }
   ],
   "source": [
    "buf = stances_df['stance_pairs'].iloc[0]\n",
    "buf"
   ]
  },
  {
   "cell_type": "code",
   "execution_count": 685,
   "id": "1ed47413-1f45-43b6-b48f-f91c583b2cea",
   "metadata": {},
   "outputs": [
    {
     "data": {
      "text/plain": [
       "11                            1\n",
       "12         (Orthodox, Southpaw)\n",
       "15                            1\n",
       "17         (Orthodox, Southpaw)\n",
       "19         (Orthodox, Southpaw)\n",
       "                 ...           \n",
       "6634       (Orthodox, Southpaw)\n",
       "6635       (Orthodox, Southpaw)\n",
       "6641       (Orthodox, Southpaw)\n",
       "6644       (Orthodox, Southpaw)\n",
       "6645    (Open Stance, Orthodox)\n",
       "Name: stance_pairs, Length: 2487, dtype: object"
      ]
     },
     "execution_count": 685,
     "metadata": {},
     "output_type": "execute_result"
    }
   ],
   "source": [
    "stances_df[stances_df['stance_pairs'] == buf] = 1"
   ]
  },
  {
   "cell_type": "markdown",
   "id": "df32c5c6-c6c1-4674-939c-da733c5357e9",
   "metadata": {},
   "source": [
    "Let's start plotting:"
   ]
  },
  {
   "cell_type": "code",
   "execution_count": null,
   "id": "3e2fe2eb-7c1b-4d70-b76f-519fe1f7f7b5",
   "metadata": {},
   "outputs": [],
   "source": [
    "# Mean, std, min/max, quartiles labels\n",
    "mean_and_std_labels = df['winner_striking_dominance'].describe().index[1:].array\n",
    "\n",
    "\n",
    "# Function to plot a kde histogram\n",
    "def examine_feature_kde(feature_name, log_transform=False):\n",
    "    fig, ax = plt.subplots(figsize=(10, 5))\n",
    "    plt.title(f\"Winner_{feature_name} vs Loser_{feature_name}\", fontdict={'fontsize':14})\n",
    "\n",
    "    # Two histograms to compare against each other, the values are log1p transformed if the corresponding argument is passed\n",
    "    sns.histplot(np.log1p(df[f'winner_{feature_name}']) if log_transform else df[f'winner_{feature_name}'], color='red', \n",
    "                kde=True, bins=120, label=f'winner_{feature_name}')\n",
    "    sns.histplot(np.log1p(df[f'loser_{feature_name}']) if log_transform else df[f'loser_{feature_name}'], color='blue', \n",
    "                kde=True, bins=120, label=f'loser_{feature_name}')\n",
    "\n",
    "    # Plot config\n",
    "    ax.set_xlabel(f\"{feature_name}\", fontdict={'fontsize': 12})\n",
    "    ax.set_ylabel(\"Count\", fontdict={'fontsize': 12})\n",
    "    plt.legend()\n",
    "    plt.show()\n",
    "\n",
    "\n",
    "# Function to plot descriptive stats bar chart\n",
    "def examine_feature_mean_std(feature_name):\n",
    "    # Winner values\n",
    "    winner_feature_values = df[f'winner_{feature_name}'].describe().values[1:]\n",
    "    # Loser values\n",
    "    loser_feature_values = df[f'loser_{feature_name}'].describe().values[1:]\n",
    "\n",
    "    # Plotting\n",
    "    plt.figure(figsize=(10,5))\n",
    "    # X ticks\n",
    "    x = range(len(mean_and_std_labels))\n",
    "\n",
    "    # Plots\n",
    "    plt.bar(x, winner_feature_values, color='red', width=0.5, align='center', label=f'winner_{feature_name}')\n",
    "    plt.bar(x, loser_feature_values, color='blue', width=0.5, align='edge', label=f'loser_{feature_name}')\n",
    "\n",
    "    # Plot config\n",
    "    plt.xticks(x, mean_and_std_labels)\n",
    "    plt.title(f\"Mean, STDs and quartiles of the winner/loser {feature_name}\", fontdict={'fontsize': 14})\n",
    "    plt.xlabel(\"Data points\", fontdict={'fontsize': 12})\n",
    "    plt.ylabel(\"Counts\", fontdict={'fontsize': 12})\n",
    "\n",
    "    # Plot a legend\n",
    "    plt.legend()\n",
    "    plt.show()"
   ]
  },
  {
   "cell_type": "markdown",
   "id": "83663eb8-d69c-4709-abf4-fe75d7ad10ac",
   "metadata": {},
   "source": [
    "#### Striking Dominance"
   ]
  },
  {
   "cell_type": "code",
   "execution_count": null,
   "id": "76842fde-13ba-45f4-bf53-aa57198e088c",
   "metadata": {},
   "outputs": [],
   "source": [
    "examine_feature_kde('striking_dominance')"
   ]
  },
  {
   "cell_type": "markdown",
   "id": "bd7d836d-24f4-4cfb-abd9-cb04e61632b1",
   "metadata": {},
   "source": [
    "Observations:\n",
    "* We can clearly see that winners have a higher striking dominance on average, with a higher peak, and also a mean being around 110, whereas losers have a mean of around 80, we will take a look at the exact numbers very shortly;\n",
    "* There is a significant overlap in the 75-100 striking dominance factor range, indicating a significant striking opposition;\n",
    "* We can also see a large number of losers, as well as winners, having around 0 striking dominance, most likely due to being knocked out or submitted in the first round with having thrown zero punches, also the lack of data from the old events is possible, where they did not record these data points. We will look deeper into it in just a minute;\n",
    "* There is also, what looks like a capped bin at the 200 range, which is obvious, because the feature \"striking dominance factor\" consists of two added pct % based features, which can possibly have the maximum value of 100%, thus 100+100=200 bin. (Also the KD feature plays the role in the feature creation, which is the number of knockdowns, and by default is very low: in the 0-5 range, thus the bin is not exactly at 200, but more like 200-205).\n"
   ]
  },
  {
   "cell_type": "markdown",
   "id": "e73f00c7-87e0-4481-9e4a-0e2c0538b6fa",
   "metadata": {},
   "source": [
    "Let's check the mean and std:"
   ]
  },
  {
   "cell_type": "code",
   "execution_count": null,
   "id": "7ad4fa9f-bbb5-4b6a-aa00-ff44511d807f",
   "metadata": {},
   "outputs": [],
   "source": [
    "examine_feature_mean_std('striking_dominance')"
   ]
  },
  {
   "cell_type": "markdown",
   "id": "0121be6b-8ec4-429c-858d-5c25d0b25985",
   "metadata": {},
   "source": [
    "Observations:\n",
    "* As I said, the mean difference is about 20 points;\n",
    "* Standard deviation is a bit higher for losers, indicating a little higher variability for losers;\n",
    "* All quartiles are bigger for the winner, indicating a clear striking contribution to the fight outcome."
   ]
  },
  {
   "cell_type": "markdown",
   "id": "7cff166f-a8dc-4ef6-a1db-1dff582cf828",
   "metadata": {},
   "source": [
    "Let's investigate deeper whether the big bin with striking dominance factor 0 is due to the losers being knocked out in the first round or lack of data:"
   ]
  },
  {
   "cell_type": "code",
   "execution_count": null,
   "id": "64162057-280e-449b-afcb-9420f2a45b31",
   "metadata": {},
   "outputs": [],
   "source": [
    "# Saving samples, where the striking dominance is 0\n",
    "zero_winner_striking_dominance = df.loc[df['winner_striking_dominance'] == 0, ['round']].value_counts()\n",
    "zero_loser_striking_dominance = df.loc[df['loser_striking_dominance'] == 0, ['round']].value_counts()"
   ]
  },
  {
   "cell_type": "code",
   "execution_count": null,
   "id": "e810db18-4ed7-444c-bc5a-c8f955cf1eba",
   "metadata": {},
   "outputs": [],
   "source": [
    "fig, ax = plt.subplots(1, 2, figsize=(10, 5))\n",
    "\n",
    "ax[0].pie(zero_winner_striking_dominance, labels=[1,2], autopct=\"%.1f%%\")\n",
    "ax[1].pie(zero_loser_striking_dominance, labels=[1,2], autopct=\"%.1f%%\")\n",
    "ax[0].set_title(\"winner\")\n",
    "ax[1].set_title(\"loser\")\n",
    "\n",
    "plt.legend(['round 1', 'round 2'])\n",
    "plt.tight_layout(pad=5)\n",
    "fig.suptitle(\"Rounds in which the x_striking_dominance is 0\", fontsize=16)\n",
    "plt.show()"
   ]
  },
  {
   "cell_type": "markdown",
   "id": "79c3b3ec-da83-498b-854e-45110b55ee83",
   "metadata": {},
   "source": [
    "* As we can see, around 97% of 0 striking dominance factor comes from fights that ended in the first round;\n",
    "* There is still a small percentage of 0 striking dominance factor that comes from the fights that ended in the second round. I think the reason for this is just the lack of data points that the striking_dominance features were built upon, as the older UFC fights didn't have this detailed data, so let's take a look:"
   ]
  },
  {
   "cell_type": "markdown",
   "id": "0cce29de-3a09-4d46-8093-2570a50441d8",
   "metadata": {},
   "source": [
    "Winner striking dominance that has a value of 0 and happened in the second round:"
   ]
  },
  {
   "cell_type": "code",
   "execution_count": null,
   "id": "5df4eb85-d858-436e-848c-770ceeef8f47",
   "metadata": {},
   "outputs": [],
   "source": [
    "df.loc[(df['winner_striking_dominance'] == 0) & (df['round'] == 2), :]"
   ]
  },
  {
   "cell_type": "markdown",
   "id": "ebf81732-60fc-4e70-b527-713379ae57f8",
   "metadata": {},
   "source": [
    "Winner striking dominance that has a value of 0 and happened in the second round:"
   ]
  },
  {
   "cell_type": "code",
   "execution_count": null,
   "id": "a4b8da1f-b429-4df9-a1ef-8a0a0ec4151d",
   "metadata": {},
   "outputs": [],
   "source": [
    "df.loc[(df['loser_striking_dominance'] == 0) & (df['round'] == 2), :]"
   ]
  },
  {
   "cell_type": "markdown",
   "id": "1420d972-c3df-47c9-91d8-d8d83897245e",
   "metadata": {},
   "source": [
    "Observations:\n",
    "* So, as we assumed, 4 empty data fights are from the 1996 and 1998;\n",
    "* And the 2008 fight from the empty **loser_striking_difference** is an example, where a losing fighter could not land a single shot and, eventually, got knocked out."
   ]
  },
  {
   "cell_type": "markdown",
   "id": "626237e3-5911-451c-a6c4-6c4c46206e65",
   "metadata": {},
   "source": [
    "But let's get actually deeper into the features and see exactly what striking attributes contribute to winning."
   ]
  },
  {
   "cell_type": "markdown",
   "id": "a4856347-a476-4f61-97e3-a85c8a996569",
   "metadata": {},
   "source": [
    "#### KD (Knockdowns)"
   ]
  },
  {
   "cell_type": "code",
   "execution_count": null,
   "id": "337621ef-29b8-4721-b15e-4f2ab6b50543",
   "metadata": {},
   "outputs": [],
   "source": [
    "examine_feature_kde('KD')"
   ]
  },
  {
   "cell_type": "markdown",
   "id": "f3bc2896-fc50-4d2b-8d59-852de24c40bd",
   "metadata": {},
   "source": [
    "Observations:\n",
    "* We can see a higher peak at the 0 range for losers, indicating losers not score Knockdowns as much as winners;\n",
    "* We can see a higher peak at 1 range for winners, indicating winners scoring Knockdowns more;\n",
    "* There is a higher peak for 2 range as well, where winners score 2 knockdowns more than losers;\n",
    "* Winners also have a longer tail, indicating higher outliers compared to losers."
   ]
  },
  {
   "cell_type": "code",
   "execution_count": null,
   "id": "a8ef12d7-79aa-4a63-b59c-40fd6989e08c",
   "metadata": {},
   "outputs": [],
   "source": [
    "examine_feature_mean_std('KD')"
   ]
  },
  {
   "cell_type": "markdown",
   "id": "f7aa9b70-eab6-4600-8458-432e9855afa6",
   "metadata": {},
   "source": [
    "Observations:\n",
    "* We can see a clear pattern. The mean, standard deviation, 3rd quartile, and max are all higher for the winners, which indicates a correlation to victory;\n",
    "* Min, 1st, and 2nd quartiles are null due to half of the data having 0 for knockdowns, as they're not that common, a small amount of missing data is also possible."
   ]
  },
  {
   "cell_type": "markdown",
   "id": "f43343d4-d266-475a-866e-2d0832149b1f",
   "metadata": {},
   "source": [
    "#### Significant strikes percentage"
   ]
  },
  {
   "cell_type": "code",
   "execution_count": null,
   "id": "7d1362ca-e037-4191-89a5-c7b068e95ca0",
   "metadata": {},
   "outputs": [],
   "source": [
    "examine_feature_kde('sig_str_pct')"
   ]
  },
  {
   "cell_type": "markdown",
   "id": "5cdf5deb-1d5c-49cd-aa05-d64a4bffc2a9",
   "metadata": {},
   "source": [
    "Observations:\n",
    "* A higher peak for losers at 0 range, indicating that winners score more significant strikes;\n",
    "* A little bit higher peak for losers at 100 range, where, likely, the winners were out wrestling their opponents or ended the fight with a  KO/TKO/Submission. We will investigate this in a minute;\n",
    "* Winner's distribution is skewed higher. Indicating that winners land more significant strikes on average."
   ]
  },
  {
   "cell_type": "code",
   "execution_count": null,
   "id": "0254b77d-9179-47f3-be99-c825239d4c0a",
   "metadata": {},
   "outputs": [],
   "source": [
    "examine_feature_mean_std('sig_str_pct')"
   ]
  },
  {
   "cell_type": "markdown",
   "id": "1ddcb11f-0c55-4b87-bd4d-210ae83de057",
   "metadata": {},
   "source": [
    "Observations:\n",
    "* Indeed, as we can see, every single data point except for standard deviation is higher for winners, which indicates a correlation with the result of the fight;\n",
    "* Standard deviation is a bit higher for losers, around a 2-point difference, indicating that values range just a little bit more for losers in this feature."
   ]
  },
  {
   "cell_type": "markdown",
   "id": "55e84f99-85cb-426f-9521-51a8686f2360",
   "metadata": {},
   "source": [
    "#### Total strikes landed percentage"
   ]
  },
  {
   "cell_type": "code",
   "execution_count": null,
   "id": "be8b2fb1-5f28-40b5-82a8-a149c37f5e9f",
   "metadata": {},
   "outputs": [],
   "source": [
    "examine_feature_kde('total_str_landed_pct')"
   ]
  },
  {
   "cell_type": "markdown",
   "id": "2394daf4-9954-47b3-b993-f1a3bb77d26d",
   "metadata": {},
   "source": [
    "Observations:\n",
    "* Again, a higher peak for losers at 0 range, indicating that losers are more prone to land strikes;\n",
    "* Also again, we can observe a little bit higher peak for losers at the 100 range, again, likely due to winners focusing more on wrestling, or where losers lost by a KO/TKO/Submission;\n",
    "* Winner's distribution is skewed higher. Indicating that winners land more total strikes on average."
   ]
  },
  {
   "cell_type": "code",
   "execution_count": null,
   "id": "d2aa8645-ea12-44c1-a3ca-f04ce307f981",
   "metadata": {},
   "outputs": [],
   "source": [
    "examine_feature_mean_std('total_str_landed_pct')"
   ]
  },
  {
   "cell_type": "markdown",
   "id": "ce321262-3163-47bf-a327-b996d480fefa",
   "metadata": {},
   "source": [
    "Observations:\n",
    "* The same pattern so far, all data points except for standard deviation are bigger for winners compared to losers, indicating a correlation between this feature and the result of the fight.\n",
    "* Standard deviation is a bit higher for losers, around a 2-point difference, indicating that values range just a little bit more for losers in this feature."
   ]
  },
  {
   "cell_type": "markdown",
   "id": "45eb67d7-feca-4eeb-9db8-eb02c8f0f985",
   "metadata": {},
   "source": [
    "#### Significant strikes to the head percentage"
   ]
  },
  {
   "cell_type": "code",
   "execution_count": null,
   "id": "4d329c0d-85ea-44bf-bfb9-cf1ae751317a",
   "metadata": {},
   "outputs": [],
   "source": [
    "examine_feature_kde('sig_str_head_pct')"
   ]
  },
  {
   "cell_type": "markdown",
   "id": "68b83b4e-6d13-4196-8c77-0023447d5ede",
   "metadata": {},
   "source": [
    "Observations:\n",
    "* The same pattern here, a much higher peak at 0 range for losers, which indicates that losers deal less significant strikes to the head;\n",
    "* A bit higher peak at tick 100 for winners, indicating that winners strike 100% to the head only a bit more often than losers;\n",
    "* Winner's distribution is skewed higher, indicating that winners land more significant strikes to the head on average."
   ]
  },
  {
   "cell_type": "code",
   "execution_count": null,
   "id": "e966752e-af10-44f1-9990-a71a975b7fd7",
   "metadata": {},
   "outputs": [],
   "source": [
    "examine_feature_mean_std('sig_str_head_pct')"
   ]
  },
  {
   "cell_type": "markdown",
   "id": "464028ce-40c7-4841-af07-9feb528197b1",
   "metadata": {},
   "source": [
    "Observations:\n",
    "* Again, all data points except std are winner-dominant. Indicates a correlation with the fight result.\n",
    "* Standard deviation is a bit higher for losers, around a 5-point difference, indicating that values range just a little bit more for losers in this feature."
   ]
  },
  {
   "cell_type": "markdown",
   "id": "1a4e86c3-9e44-43e8-9c2c-965a4e6646d9",
   "metadata": {},
   "source": [
    "#### Significant strikes to the body percentage"
   ]
  },
  {
   "cell_type": "code",
   "execution_count": null,
   "id": "282792f7-99e8-46f4-b6b2-7f7182acf033",
   "metadata": {},
   "outputs": [],
   "source": [
    "examine_feature_kde('sig_str_body_pct')"
   ]
  },
  {
   "cell_type": "markdown",
   "id": "ed7ef4da-1520-4063-99da-ee05328973c3",
   "metadata": {},
   "source": [
    "Observations:\n",
    "* The same pattern here, a much higher peak at tick 0 for losers, which indicates that losers are more prone to land 0 significant strikes to the body;\n",
    "* Now it's getting interesting, looks like the loser's distribution is skewed higher for this feature;\n",
    "* Also, a much longer tail for losers, indicating that losers are more prone to land a lot of their significant strikes to the body than winners;\n"
   ]
  },
  {
   "cell_type": "code",
   "execution_count": null,
   "id": "ec2df531-ff02-4453-b00b-1f766ff37d3e",
   "metadata": {},
   "outputs": [],
   "source": [
    "examine_feature_mean_std('sig_str_body_pct')"
   ]
  },
  {
   "cell_type": "markdown",
   "id": "74431c02-7aa7-4975-bf02-0bcbbcb13de1",
   "metadata": {},
   "source": [
    "Observations:\n",
    "* The mean and quartiles confirm this. All of the data points, except for the first quartile are higher for losers than for winners. Looks like losers indeed do tend to land their significant strikes on the body more than winners.\n",
    "* Standard deviation is at around 3 points difference, which makes sense because the losers' distribution has longer tails."
   ]
  },
  {
   "cell_type": "markdown",
   "id": "b3a7fe01-f7ad-46e3-a790-2b208d9b021a",
   "metadata": {},
   "source": [
    "#### Significant strikes to legs percentage"
   ]
  },
  {
   "cell_type": "code",
   "execution_count": null,
   "id": "bf28be58-2552-47ad-b4b5-e47b30230614",
   "metadata": {},
   "outputs": [],
   "source": [
    "examine_feature_kde('sig_str_leg_pct')"
   ]
  },
  {
   "cell_type": "markdown",
   "id": "b9812b36-4266-4e6d-9b77-bd0051471843",
   "metadata": {},
   "source": [
    "Observations: \n",
    "* Very close peaks on tick 0, indicate that neither winners nor losers really focus their significant strikes on the leg, and instead, they are more likely to go for the head and the body;\n",
    "* But look at this, loser's distribution here is also skewed higher, indicating that losers on average land more significant strikes to the leg;\n",
    "* Also the long tail, indicates a few outliers, where the losers have a much higher peak, where all of their significant strikes went to the leg region."
   ]
  },
  {
   "cell_type": "code",
   "execution_count": null,
   "id": "a9371e61-f811-4aca-9128-d0ce942d58de",
   "metadata": {},
   "outputs": [],
   "source": [
    "examine_feature_mean_std('sig_str_leg_pct')"
   ]
  },
  {
   "cell_type": "markdown",
   "id": "c6ca6815-d873-4b5c-871a-af10d6d606cf",
   "metadata": {},
   "source": [
    "Observations:\n",
    "* Mean, std, and quartiles confirm this. All of the data points are higher for losers;\n",
    "* Standard deviation is higher for losers, due to a longer tail."
   ]
  },
  {
   "cell_type": "markdown",
   "id": "074f0f45-116b-484b-9846-2a3a384432c1",
   "metadata": {},
   "source": [
    "#### Significant strikes from the distance percentage"
   ]
  },
  {
   "cell_type": "code",
   "execution_count": null,
   "id": "d73f4013-0879-42f7-aefb-a0085b3d2bdf",
   "metadata": {},
   "outputs": [],
   "source": [
    "examine_feature_kde('sig_str_distance_pct')"
   ]
  },
  {
   "cell_type": "markdown",
   "id": "16ca3ddf-fdb0-48de-8548-3ba270b8a90e",
   "metadata": {},
   "source": [
    "Observations:\n",
    "* A higher peak at tick 0 for losers, indicating that they have more samples of scoring zero significant strikes from the distance, most likely due to a first-round loss;\n",
    "* But also a higher peak at tick 100, indicating that when they do score significant strikes from the distance, they mostly strike from that position, whereas winners probably mix things up, like striking from the clinch or the ground. We will see this in just a bit;\n",
    "* Winners like to strike from the distance as well, especially at the 20 - 60% range, but then for the rest of their striking they likely choose to land from other positions."
   ]
  },
  {
   "cell_type": "code",
   "execution_count": null,
   "id": "6a7eba87-891d-461b-a0e2-fd35e3139ef2",
   "metadata": {},
   "outputs": [],
   "source": [
    "examine_feature_mean_std('sig_str_distance_pct')"
   ]
  },
  {
   "cell_type": "markdown",
   "id": "0b416fc4-7b20-4b0c-b57a-c470e71fd2ad",
   "metadata": {},
   "source": [
    "Observations:\n",
    "* Descriptive statistics confirm this. All of the data points are higher for losers, which indicates that losers like to keep it simple, and mostly strike from a distance;\n",
    "* Standard deviation is almost the same, with a 1-2 point difference."
   ]
  },
  {
   "cell_type": "markdown",
   "id": "333a26b7-b9b5-4d99-b168-71a844c78145",
   "metadata": {},
   "source": [
    "#### Significant strikes from clinch percentage"
   ]
  },
  {
   "cell_type": "code",
   "execution_count": null,
   "id": "db0b0795-4857-4fa0-84bf-cd56334b73d2",
   "metadata": {},
   "outputs": [],
   "source": [
    "examine_feature_kde('sig_str_clinch_pct')"
   ]
  },
  {
   "cell_type": "markdown",
   "id": "840d14e1-4498-43da-a321-8b037bcb8139",
   "metadata": {},
   "source": [
    "Observations:\n",
    "* We can see a higher peak at tick 0 for losers, with a difference of around 500 samples, which indicates that losers are more prone to not strike from the clinch at all, but also losing in the first round could be the reason here;\n",
    "* We can observe a small difference in the 0 - 20% range, where winners land their significant strikes from the clinch just a bit more than losers;\n",
    "* But then a long tail, where some outliers are present for losers scoring 100% of their significant strikes from the clinch position."
   ]
  },
  {
   "cell_type": "code",
   "execution_count": null,
   "id": "ed5f16a0-965d-4c98-9094-e859bd3557e0",
   "metadata": {},
   "outputs": [],
   "source": [
    "examine_feature_mean_std('sig_str_clinch_pct')"
   ]
  },
  {
   "cell_type": "markdown",
   "id": "b52279d6-c49d-4753-9bd1-90c7b14acd56",
   "metadata": {},
   "source": [
    "Observations:\n",
    "* This one is close. Still, all data points are in the losers' favor, but the difference is very small, with a 2 - 4 points difference on average;\n",
    "* Standard deviation is also higher for losers with an around 3 points difference, due to the long tail."
   ]
  },
  {
   "cell_type": "markdown",
   "id": "392b8511-c0b2-4acf-b447-4d9e8b7e43b8",
   "metadata": {},
   "source": [
    "#### Significant strikes from the ground percentage"
   ]
  },
  {
   "cell_type": "code",
   "execution_count": null,
   "id": "f8ee5e22-d2b4-441e-9cba-a9a786b913dc",
   "metadata": {},
   "outputs": [],
   "source": [
    "examine_feature_kde('sig_str_ground_pct')"
   ]
  },
  {
   "cell_type": "markdown",
   "id": "b95778c5-6d47-4632-8151-95902a8d1991",
   "metadata": {},
   "source": [
    "Observations:\n",
    "* Woah, a lot of samples at 0 tick here, likely due to such factors as:\n",
    "    * A potentially bigger amount of strikers in the roster than wrestlers;\n",
    "    * Fights starting on the feet;\n",
    "    * Fighters prefer to strike than wrestle, as that's what the public likes;\n",
    "* Longer tail indicates winners' choice of taking their opponent down, which is correlated to winning, and is logical as wrestlers win more than losers on average (out of the scope of this dataset)."
   ]
  },
  {
   "cell_type": "code",
   "execution_count": null,
   "id": "783fafe3-3818-44c9-819a-80a68aac1b28",
   "metadata": {},
   "outputs": [],
   "source": [
    "examine_feature_mean_std('sig_str_ground_pct')"
   ]
  },
  {
   "cell_type": "markdown",
   "id": "23004a64-3aa7-4521-bd66-cd3fd15dd8f7",
   "metadata": {},
   "source": [
    "Observations:\n",
    "* Descriptive statistics confirm this. All of the data points are higher for winners. Winners like to wrestle more than losers.\n",
    "* Standard deviation is higher for winners due to the long tail."
   ]
  },
  {
   "cell_type": "markdown",
   "id": "f033846a-a001-49fb-981e-c3fcce750ee6",
   "metadata": {},
   "source": [
    "#### Wrestling dominance"
   ]
  },
  {
   "cell_type": "code",
   "execution_count": null,
   "id": "e78ecf8a-b8df-4289-948e-a2daed513d3d",
   "metadata": {},
   "outputs": [],
   "source": [
    "fig, ax = plt.subplots(2, 1, figsize=(10, 5))\n",
    "plt.suptitle(\"Winner wrestling dominance vs loser wrestling dominance\", fontsize=14)\n",
    "\n",
    "plt.subplot(2,1,1)\n",
    "sns.histplot(df['winner_wrestling_dominance'], color='green', kde=True, bins=120, label='winner')\n",
    "plt.xlabel(\"winner wrestling dominance \", fontdict={'fontsize': 12})\n",
    "plt.ylabel(\"count\", fontdict={'fontsize': 12})\n",
    "\n",
    "plt.subplot(2,1,2)\n",
    "sns.histplot(df['loser_wrestling_dominance'], color='blue', kde=True, bins=120, label='loser')\n",
    "plt.xlabel(\"loser wrestling dominance\", fontdict={'fontsize': 12})\n",
    "plt.ylabel(\"count\", fontdict={'fontsize': 12})\n",
    "\n",
    "plt.subplots_adjust(hspace=0.4)\n",
    "fig.legend()\n",
    "plt.show()"
   ]
  },
  {
   "cell_type": "markdown",
   "id": "d99f10c5-bb3f-4493-b674-0529d0c6d6ad",
   "metadata": {},
   "source": [
    "Observations:\n",
    "* We can see that the most of wrestling dominance factor is around 0 for both, winners, and losers. This indicates that fighters don't wrestle as much, as strike, also, since the fight starts on the feet and not on the ground;\n",
    "* Even though a lot of wrestling dominance at the 0 range has both winners and fighters, winners have around 1.5 less wrestling dominance around the 0 range than losers, losers' peak is around 4000, while winners' is around 2500);\n",
    "* Both distributions have long tails extending to higher values of dominance, indicating a few fighters display extreme wrestling dominance;\n",
    "* Winners have slightly more density in the higher dominance range than losers, implying that the higher wrestling dominance might correlate to winning.\n",
    "* Extreme outliers show that winners have slightly more extreme wrestling dominance than losers at the 100 range."
   ]
  },
  {
   "cell_type": "markdown",
   "id": "254148e2-fb4c-4e30-869d-c20c7b6310c1",
   "metadata": {},
   "source": [
    "Let's check the mean, std, min/max and quartiles:"
   ]
  },
  {
   "cell_type": "code",
   "execution_count": null,
   "id": "4247008a-da70-4164-bf90-499045ed714d",
   "metadata": {},
   "outputs": [],
   "source": [
    "examine_feature_mean_std('wrestling_dominance')"
   ]
  },
  {
   "cell_type": "markdown",
   "id": "dddfbb02-742b-4033-a9cd-10e750808ee0",
   "metadata": {},
   "source": [
    "Observations:\n",
    "* Winners have a higher mean, around 10 points difference, meaning that on average they have a higher wrestling dominance score;\n",
    "* Winners have a higher standard deviation, meaning that the data deviates from the mean a little bit more compared to losers' std;\n",
    "* The first quartile is empty, due to a lot of samples being at 0;\n",
    "* The second quartile (50%): unlike winners', losers' quartile is still 0, due to a bigger number of samples at the 0 range;\n",
    "* The second and third (50% and 75%) quartiles confirm the bigger density for winners."
   ]
  },
  {
   "cell_type": "markdown",
   "id": "b099369c-8d54-4235-abfd-68d94bbc6fad",
   "metadata": {},
   "source": [
    "#### Takedown percentage"
   ]
  },
  {
   "cell_type": "code",
   "execution_count": null,
   "id": "66e9f79c-30fb-4be1-8b6a-6995036ac4c5",
   "metadata": {},
   "outputs": [],
   "source": [
    "examine_feature_kde('TD_pct')"
   ]
  },
  {
   "cell_type": "markdown",
   "id": "ea2e482b-e864-4f6a-80da-d73fb5ba4baf",
   "metadata": {},
   "source": [
    "Observations: \n",
    "* A higher peak at tick 0, indicates that loses land at least one takedown less often than winners;\n",
    "* We can also see a higher peak at 50 and 100 ticks range, where winners are scoring more takedowns.\n",
    "\n",
    "The scale of the data is hard to see, let's get into descriptive statistics before we jump to any conclusions:"
   ]
  },
  {
   "cell_type": "code",
   "execution_count": null,
   "id": "0f842ea0-7020-4bea-a957-ca33a74e6306",
   "metadata": {},
   "outputs": [],
   "source": [
    "examine_feature_mean_std('TD_pct')"
   ]
  },
  {
   "cell_type": "markdown",
   "id": "671c3ba0-2b21-40e2-a0c4-018dc375e291",
   "metadata": {},
   "source": [
    "Observations: \n",
    "* This is much more clear now. All of the data points are higher for winners, and the mean, std, and quartiles are all higher for winners, which indicates that scoring more takedowns is correlated to winning;\n",
    "* Standard deviation is around 5 points higher for winners, as they have fewer samples at 0 tick and more samples at tick 100."
   ]
  },
  {
   "cell_type": "markdown",
   "id": "371da716-e4e9-49f9-914d-1d5324628b39",
   "metadata": {},
   "source": [
    "#### Submission attempts"
   ]
  },
  {
   "cell_type": "code",
   "execution_count": null,
   "id": "73af1df3-2bb9-45ed-9887-6285b376643b",
   "metadata": {},
   "outputs": [],
   "source": [
    "examine_feature_kde('sub_att')"
   ]
  },
  {
   "cell_type": "markdown",
   "id": "012d83d0-216e-497d-af27-ef2291edd20f",
   "metadata": {},
   "source": [
    "Observations:\n",
    "* A higher peak at a 0 tick, again, indicating that losers perform fewer submission attempts;\n",
    "* Also higher peaks at 1, 2, 3, and 4 ticks, clearly show a tendency for winners to perform more submission attempts, which correlates to winning;\n",
    "* Additionally, there is a long tail, where looks like winners still have the edge, let's go into descriptives to be sure:"
   ]
  },
  {
   "cell_type": "code",
   "execution_count": null,
   "id": "a43092ff-3b32-4a12-b1aa-00a5afe15e6d",
   "metadata": {},
   "outputs": [],
   "source": [
    "examine_feature_mean_std('sub_att')"
   ]
  },
  {
   "cell_type": "markdown",
   "id": "12cdd80a-1869-4cc6-be8b-d148c7c919d0",
   "metadata": {},
   "source": [
    "Observations: \n",
    "* Not a lot of submission attempts going on, thus min, 1st, and 2nd quartiles are all 0;\n",
    "* Mean and std is slightly higher for winners;\n",
    "* But look at the 3rd quartile and max, that's what we couldn't see clearly on our histogram before. The 3rd quartile is completely dominated by the winners, meaning only winners try at least 1 submission. Max also indicates that winners do more submissions than losers, which correlates to winning."
   ]
  },
  {
   "cell_type": "markdown",
   "id": "1dedf078-f4a2-460e-82c7-fd82a6c55388",
   "metadata": {},
   "source": [
    "#### Reversals"
   ]
  },
  {
   "cell_type": "code",
   "execution_count": null,
   "id": "d49455c5-0dc4-4737-a153-8684e9979c2c",
   "metadata": {},
   "outputs": [],
   "source": [
    "examine_feature_kde('rev')"
   ]
  },
  {
   "cell_type": "markdown",
   "id": "baf4d8e4-dd35-4d55-a02c-e6fe742c81d6",
   "metadata": {},
   "source": [
    "Observations:\n",
    "* We can see clearly that reversals are not that common. The 0 tick has an extremely high peak, which indicates a lot of 0 entries for both, winners and losers;\n",
    "* We can see a bit more reversals on the 1 tick for winners;\n",
    "* Around the same small peak at tick 2, to see better, we'll take a look at descriptives;\n",
    "* And a long tail, where, looks like, winners are dominating, let's take a closer look:"
   ]
  },
  {
   "cell_type": "code",
   "execution_count": null,
   "id": "23f0eeef-a4f3-4f4a-a8c7-3eef389ab717",
   "metadata": {},
   "outputs": [],
   "source": [
    "examine_feature_mean_std('rev')"
   ]
  },
  {
   "cell_type": "markdown",
   "id": "d3a17968-44d9-42a4-afe3-df943b99bd61",
   "metadata": {},
   "source": [
    "Observations:\n",
    "* Clearly all 3 quartiles are 0, due to fighters, mostly, not doing even a single reversal;\n",
    "* Mean and std is around the same;\n",
    "* But the max is higher for winners, so when fighters do a lot of reversals during a fight, winners do it more often, which can indicate a wrestling dominance and skill difference. Which in turn, *might* correlate to winning"
   ]
  },
  {
   "cell_type": "markdown",
   "id": "0ced8efb-004f-4b9e-8981-517ed3253547",
   "metadata": {},
   "source": [
    "#### Fight Control"
   ]
  },
  {
   "cell_type": "markdown",
   "id": "c60358a3-4ead-46cf-a6e0-808eacbfe108",
   "metadata": {},
   "source": [
    "Data types:"
   ]
  },
  {
   "cell_type": "code",
   "execution_count": null,
   "id": "0ff5b8cc-748e-44be-8ad7-5b858a5f0268",
   "metadata": {},
   "outputs": [],
   "source": [
    "examine_feature_kde('ctrl', log_transform=True)"
   ]
  },
  {
   "cell_type": "markdown",
   "id": "a37c5a48-418b-4161-9bbb-b38d208ffe73",
   "metadata": {},
   "source": [
    "Observations:\n",
    "* A much higher peak at 0 tick for losers, indicating that losers more often have 0 control;\n",
    "* Higher skewed distribution for winners, they peak more at the 0.5 - 2 range, then almost equal at the 2 - 5 range, and then again winners dominate in control at the 5 - 7 range."
   ]
  },
  {
   "cell_type": "code",
   "execution_count": null,
   "id": "a48c82ea-1dee-43c4-8756-cd175337a01a",
   "metadata": {},
   "outputs": [],
   "source": [
    "examine_feature_mean_std('ctrl')"
   ]
  },
  {
   "cell_type": "markdown",
   "id": "c332fa01-fd92-4454-8025-a05bca7296d8",
   "metadata": {},
   "source": [
    "Observations:\n",
    "* All of the descriptive statistics data points are higher for winners than losers, fight control clearly correlates to winning;\n",
    "* Standard deviation is higher for winners, as winner feature has less size at 0 tick and more size at extreme ticks."
   ]
  },
  {
   "cell_type": "markdown",
   "id": "75dbfb2b-2bef-4f1a-a810-99f5532040b3",
   "metadata": {},
   "source": [
    "# Answering questions"
   ]
  },
  {
   "cell_type": "markdown",
   "id": "5168a2ff-79f0-429e-bee6-658889512c8b",
   "metadata": {},
   "source": [
    "## Questions"
   ]
  },
  {
   "cell_type": "markdown",
   "id": "981c41ba-2f0e-454e-821a-c953478170bd",
   "metadata": {},
   "source": [
    "1. What are the most popular locations where UFC hosts its events?\n",
    "2. What is the historical average amount of UFC fights hosted annually?\n",
    "3. What are the top fight outcomes?\n",
    "4. Does being in a particular corner contribute to a victory? (This one is a meme, but we in that mood today:))\n",
    "5. What are the main fight tactics contributing to a victory?"
   ]
  },
  {
   "cell_type": "markdown",
   "id": "ccc48265-a22a-4bd8-8edc-13dcd36e6551",
   "metadata": {},
   "source": [
    "## Answers"
   ]
  },
  {
   "cell_type": "markdown",
   "id": "c3ae99df-4c8d-43c4-a574-04c17cc728e5",
   "metadata": {},
   "source": [
    "1. Las Vegas, Nevada, USA takes a whopping 34.6% of all the possible UFC event locations from 1994 - 2024 (not finished yet at the time of writing this notebook);\n",
    "A few other top 5 locations are (in descending order):\n",
    "Abu Dhabi, Abu Dhabi, United Arab Emirates;\n",
    "London, England, United Kingdom;\n",
    "Anaheim, California, USA;\n",
    "Atlantic City, New Jersey, USA.\n",
    "\n",
    "    We cannot define the potential reasons for this, as additional external data is needed. But likely regulation/business reasons play a role.\n",
    "    \n",
    "       \n",
    "2. Initially, from 1994 - 2004 there were around 5 events on average;\n",
    "   Then, from 2004 till its peak in 2014 there was rapid growth with an average annual increase of 3.6 events;\n",
    "   Which followed by a small drop of 5 events in 2015, after which it was in a relative plateau with fluctuations of 2-3 events on average;\n",
    "   Ends with 2024, which is not finished yet, but is on track to fit in with the latest trend.\n",
    "\n",
    "   \n",
    "   We can not provide the actual reasons for this, as this requires data outside the scope of this dataset. But if I were to guess why the rapid growth starting from 2004 was due to the start of adoption of UFC as a sport, and regulatory looseness in other states.\n",
    "\n",
    "\n",
    "3. Top fight outcomes are (in descending order): Decision - Unanimous, KO/TKO, Submission, Decision - split, TKO - Doctor's Stoppage, Decision - Majority.\n",
    "Unanimous decisions are the top fight outcome, and the reason is, probably, that it is not that easy to KO/TKO/Submit a fighter in such a high-level competition.\n",
    "\n",
    "\n",
    "\n",
    "4. 65% of all victories are coming from the fighters in the red corner, and the remaining 35% are coming from the blue corner fighters.\n",
    "This happens due to how fighters are assigned a certain corner, red corner is given to the champions defending their title, and also red corners are given to the higher-ranked fighters. \n",
    "\n",
    "\n",
    "5. Winners in general both outstrike and outwrestle losers, which is kind of obvious. But let's get deeper:\n",
    "\n",
    "\n",
    "   Let's talk striking first:\n",
    "   Winners score more knockdowns, significant strikes, and total strikes. But looking even further at the significant strikes by position, we saw that winners tend to land their significant strikes to the head, whereas losers tend to keep it diverse, they land their significant strikes more to the body and legs. Also when looking at the significant strikes by position, we can see that losers actually land more from the distance, a pretty equal pct of significant strikes from the clinch position, and winners land more strikes from the ground position.\n",
    "\n",
    "   Now let's talk wrestling:\n",
    "   Winners have almost twice the losers' wrestling dominance, indicating that wrestling in general contributes to a fighting victory. But again, let's get deeper into features:\n",
    "   Winners land almost twice the loser's successful takedowns, and submission attempts, and even though not as much of a difference here, but still more reversals.\n",
    "\n",
    "   Winners also have twice as much fight control as losers.\n",
    "\n",
    "   #### Conclusion\n",
    "   \n",
    "   Based on this, a fighter should focus on:\n",
    "   1. All aspects of wrestling (Takedowns, submission attempts, reversals);\n",
    "   2. Some aspects of striking (Knockdowns, number of total strikes, significant strikes to the head, significant strikes from the ground position);\n",
    "   3. Fight control time."
   ]
  }
 ],
 "metadata": {
  "kernelspec": {
   "display_name": "Python 3 (ipykernel)",
   "language": "python",
   "name": "python3"
  },
  "language_info": {
   "codemirror_mode": {
    "name": "ipython",
    "version": 3
   },
   "file_extension": ".py",
   "mimetype": "text/x-python",
   "name": "python",
   "nbconvert_exporter": "python",
   "pygments_lexer": "ipython3",
   "version": "3.8.20"
  },
  "panel-cell-order": [
   "7758a506-c701-4b64-9d61-f6931b5f5b85",
   "111ccb8d-640d-4245-a2cf-37b3cd949a03",
   "f66fbf78-0c79-4bb4-b785-bd99dc817140",
   "5b29ca2b-92f8-4a79-88d3-73671073d5b3",
   "b8caa5e1-95ca-4a8b-b1e7-dcb0c91caa2a",
   "19ea8da2-499f-4c02-9400-dcd933121aaf",
   "6b47030d-e691-475f-b0f3-49783fe79c2e",
   "cf426bb7-e9b6-4600-a855-a38a7c9b00a1"
  ]
 },
 "nbformat": 4,
 "nbformat_minor": 5
}
