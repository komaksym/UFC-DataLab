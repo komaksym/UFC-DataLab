{
 "cells": [
  {
   "cell_type": "markdown",
   "id": "3526dcd3-92d6-4709-8ae0-8fe95e1ee503",
   "metadata": {},
   "source": [
    "# Table of Contents\n",
    "- [Importing](#Imports)\n",
    "- [Loading fights dataset](#Loading-fights-dataset)\n",
    "    - [Data Preprocessing](#Data-Preprocessing)\n",
    "        - [Dropping redundant features](#Dropping-redundant-features)\n",
    "        - [Renaming features](#Renaming-features)\n",
    "- [Loading athlete stats dataset](#Loading-athlete-stats-dataset)\n",
    "    - [Data Preprocessing](#Data-Preprocessing)\n",
    "        - [Dropping irrelevant features](#Dropping-irrelevant-features)\n",
    "        - [Renaming features](#Renaming-features)\n",
    "        - [Imputing NaNs](#Imputing-NaNs)\n",
    "        - [Formatting to match the format in the fights dataset](#Formatting-to-match-the-format-in-the-fights-dataset)\n",
    "        - [Converting from inches to cm](#Converting-from-inches-to-cm)\n",
    "- [Merging into the final dataset](#Merging-into-the-final-dataset)\n",
    "    - [Data preprocessing](#Data-preprocessing)\n",
    "        - [Data Cleaning](#Data-Cleaning)\n",
    "            - [Imputing NaNs](#Imputing-NaNs)\n",
    "            - [Handling Duplicates](#Handling-Duplicates)\n",
    "        - [Processing categorical features](#Processing-categorical-features)\n",
    "        - [Standardizing](#Standardizing)\n",
    "            - [Standardizing fraction-based features](#Standardizing-fraction-based-features)\n",
    "            - [Standardizing percentage-based features](#Standardizing-percentage-based-features)\n",
    "            - [Standardizing time-based features](#Standardizing-time-based-features)\n",
    "        - [Dtype converting](#Dtype-converting)\n",
    "    - [Feature Engineering](#Feature-Engineering)\n",
    "        - [Winner](#Winner)\n",
    "        - [Winner_feature/loser_feature](#Winner_feature/loser_feature)\n",
    "        - [Striking/wrestling dominance](#Striking/wrestling-dominance)\n",
    "        - [Delta](#Delta)\n",
    "- [Saving](#Saving)"
   ]
  },
  {
   "cell_type": "code",
   "execution_count": 158,
   "id": "4c9625c1-b89c-46fc-ab02-ff49df3ee4e8",
   "metadata": {},
   "outputs": [],
   "source": [
    "# TEST\n",
    "def check_nans(): \n",
    "    return stats.isna().sum().sort_values(ascending=False)[:60] "
   ]
  },
  {
   "cell_type": "markdown",
   "id": "b97ad391-8aee-4e2f-8ba0-a773e0d7f710",
   "metadata": {},
   "source": [
    "# Imports"
   ]
  },
  {
   "cell_type": "markdown",
   "id": "50dc38f5-fb96-4c8c-beb8-298b21b7299a",
   "metadata": {},
   "source": [
    "### Dtype converting"
   ]
  },
  {
   "cell_type": "code",
   "execution_count": 159,
   "id": "1fb5a3ac-993f-49b9-a4d8-7e3520c4b1fd",
   "metadata": {},
   "outputs": [],
   "source": [
    "import re\n",
    "\n",
    "import numpy as np\n",
    "import pandas as pd"
   ]
  },
  {
   "cell_type": "markdown",
   "id": "42efb423-b665-43c8-8560-6669cc44e520",
   "metadata": {},
   "source": [
    "# Loading fights dataset"
   ]
  },
  {
   "cell_type": "code",
   "execution_count": 160,
   "id": "cececaf4-1ab3-4bd7-9cba-0628e99d0cac",
   "metadata": {
    "panel-layout": {
     "height": 516.5,
     "visible": true,
     "width": 100
    },
    "scrolled": true
   },
   "outputs": [
    {
     "data": {
      "text/html": [
       "<div>\n",
       "<style scoped>\n",
       "    .dataframe tbody tr th:only-of-type {\n",
       "        vertical-align: middle;\n",
       "    }\n",
       "\n",
       "    .dataframe tbody tr th {\n",
       "        vertical-align: top;\n",
       "    }\n",
       "\n",
       "    .dataframe thead th {\n",
       "        text-align: right;\n",
       "    }\n",
       "</style>\n",
       "<table border=\"1\" class=\"dataframe\">\n",
       "  <thead>\n",
       "    <tr style=\"text-align: right;\">\n",
       "      <th></th>\n",
       "      <th>red_fighter_name</th>\n",
       "      <th>blue_fighter_name</th>\n",
       "      <th>event_date</th>\n",
       "      <th>red_fighter_nickname</th>\n",
       "      <th>blue_fighter_nickname</th>\n",
       "      <th>red_fighter_result</th>\n",
       "      <th>blue_fighter_result</th>\n",
       "      <th>method</th>\n",
       "      <th>round</th>\n",
       "      <th>time</th>\n",
       "      <th>...</th>\n",
       "      <th>red_fighter_sig_str_body_pct</th>\n",
       "      <th>blue_fighter_sig_str_body_pct</th>\n",
       "      <th>red_fighter_sig_str_leg_pct</th>\n",
       "      <th>blue_fighter_sig_str_leg_pct</th>\n",
       "      <th>red_fighter_sig_str_distance_pct</th>\n",
       "      <th>blue_fighter_sig_str_distance_pct</th>\n",
       "      <th>red_fighter_sig_str_clinch_pct</th>\n",
       "      <th>blue_fighter_sig_str_clinch_pct</th>\n",
       "      <th>red_fighter_sig_str_ground_pct</th>\n",
       "      <th>blue_fighter_sig_str_ground_pct</th>\n",
       "    </tr>\n",
       "  </thead>\n",
       "  <tbody>\n",
       "    <tr>\n",
       "      <th>0</th>\n",
       "      <td>ILIA TOPURIA</td>\n",
       "      <td>MAX HOLLOWAY</td>\n",
       "      <td>26/10/2024</td>\n",
       "      <td>El Matador</td>\n",
       "      <td>Blessed</td>\n",
       "      <td>W</td>\n",
       "      <td>L</td>\n",
       "      <td>KO/TKO</td>\n",
       "      <td>3</td>\n",
       "      <td>1:34</td>\n",
       "      <td>...</td>\n",
       "      <td>14</td>\n",
       "      <td>16</td>\n",
       "      <td>20</td>\n",
       "      <td>24</td>\n",
       "      <td>94</td>\n",
       "      <td>100</td>\n",
       "      <td>0</td>\n",
       "      <td>0</td>\n",
       "      <td>5</td>\n",
       "      <td>0</td>\n",
       "    </tr>\n",
       "    <tr>\n",
       "      <th>1</th>\n",
       "      <td>ROBERT WHITTAKER</td>\n",
       "      <td>KHAMZAT CHIMAEV</td>\n",
       "      <td>26/10/2024</td>\n",
       "      <td>The Reaper</td>\n",
       "      <td>Borz</td>\n",
       "      <td>L</td>\n",
       "      <td>W</td>\n",
       "      <td>Submission</td>\n",
       "      <td>1</td>\n",
       "      <td>3:34</td>\n",
       "      <td>...</td>\n",
       "      <td>0</td>\n",
       "      <td>33</td>\n",
       "      <td>100</td>\n",
       "      <td>0</td>\n",
       "      <td>100</td>\n",
       "      <td>0</td>\n",
       "      <td>0</td>\n",
       "      <td>0</td>\n",
       "      <td>0</td>\n",
       "      <td>100</td>\n",
       "    </tr>\n",
       "    <tr>\n",
       "      <th>2</th>\n",
       "      <td>MAGOMED ANKALAEV</td>\n",
       "      <td>ALEKSANDAR RAKIC</td>\n",
       "      <td>26/10/2024</td>\n",
       "      <td>-</td>\n",
       "      <td>Rocket</td>\n",
       "      <td>W</td>\n",
       "      <td>L</td>\n",
       "      <td>Decision - Unanimous</td>\n",
       "      <td>3</td>\n",
       "      <td>5:00</td>\n",
       "      <td>...</td>\n",
       "      <td>40</td>\n",
       "      <td>16</td>\n",
       "      <td>23</td>\n",
       "      <td>64</td>\n",
       "      <td>90</td>\n",
       "      <td>94</td>\n",
       "      <td>9</td>\n",
       "      <td>5</td>\n",
       "      <td>0</td>\n",
       "      <td>0</td>\n",
       "    </tr>\n",
       "    <tr>\n",
       "      <th>3</th>\n",
       "      <td>LERONE MURPHY</td>\n",
       "      <td>DAN IGE</td>\n",
       "      <td>26/10/2024</td>\n",
       "      <td>The Miracle</td>\n",
       "      <td>50K</td>\n",
       "      <td>W</td>\n",
       "      <td>L</td>\n",
       "      <td>Decision - Unanimous</td>\n",
       "      <td>3</td>\n",
       "      <td>5:00</td>\n",
       "      <td>...</td>\n",
       "      <td>23</td>\n",
       "      <td>10</td>\n",
       "      <td>7</td>\n",
       "      <td>13</td>\n",
       "      <td>71</td>\n",
       "      <td>69</td>\n",
       "      <td>23</td>\n",
       "      <td>13</td>\n",
       "      <td>5</td>\n",
       "      <td>17</td>\n",
       "    </tr>\n",
       "    <tr>\n",
       "      <th>4</th>\n",
       "      <td>SHARA MAGOMEDOV</td>\n",
       "      <td>ARMEN PETROSYAN</td>\n",
       "      <td>26/10/2024</td>\n",
       "      <td>Bullet</td>\n",
       "      <td>Superman</td>\n",
       "      <td>W</td>\n",
       "      <td>L</td>\n",
       "      <td>KO/TKO</td>\n",
       "      <td>2</td>\n",
       "      <td>4:52</td>\n",
       "      <td>...</td>\n",
       "      <td>44</td>\n",
       "      <td>12</td>\n",
       "      <td>18</td>\n",
       "      <td>58</td>\n",
       "      <td>96</td>\n",
       "      <td>97</td>\n",
       "      <td>3</td>\n",
       "      <td>2</td>\n",
       "      <td>0</td>\n",
       "      <td>0</td>\n",
       "    </tr>\n",
       "  </tbody>\n",
       "</table>\n",
       "<p>5 rows × 59 columns</p>\n",
       "</div>"
      ],
      "text/plain": [
       "   red_fighter_name blue_fighter_name  event_date red_fighter_nickname  \\\n",
       "0      ILIA TOPURIA      MAX HOLLOWAY  26/10/2024           El Matador   \n",
       "1  ROBERT WHITTAKER   KHAMZAT CHIMAEV  26/10/2024           The Reaper   \n",
       "2  MAGOMED ANKALAEV  ALEKSANDAR RAKIC  26/10/2024                    -   \n",
       "3     LERONE MURPHY           DAN IGE  26/10/2024          The Miracle   \n",
       "4   SHARA MAGOMEDOV   ARMEN PETROSYAN  26/10/2024               Bullet   \n",
       "\n",
       "  blue_fighter_nickname red_fighter_result blue_fighter_result  \\\n",
       "0               Blessed                  W                   L   \n",
       "1                  Borz                  L                   W   \n",
       "2                Rocket                  W                   L   \n",
       "3                   50K                  W                   L   \n",
       "4              Superman                  W                   L   \n",
       "\n",
       "                 method  round  time  ... red_fighter_sig_str_body_pct  \\\n",
       "0                KO/TKO      3  1:34  ...                           14   \n",
       "1            Submission      1  3:34  ...                            0   \n",
       "2  Decision - Unanimous      3  5:00  ...                           40   \n",
       "3  Decision - Unanimous      3  5:00  ...                           23   \n",
       "4                KO/TKO      2  4:52  ...                           44   \n",
       "\n",
       "  blue_fighter_sig_str_body_pct red_fighter_sig_str_leg_pct  \\\n",
       "0                            16                          20   \n",
       "1                            33                         100   \n",
       "2                            16                          23   \n",
       "3                            10                           7   \n",
       "4                            12                          18   \n",
       "\n",
       "  blue_fighter_sig_str_leg_pct red_fighter_sig_str_distance_pct  \\\n",
       "0                           24                               94   \n",
       "1                            0                              100   \n",
       "2                           64                               90   \n",
       "3                           13                               71   \n",
       "4                           58                               96   \n",
       "\n",
       "  blue_fighter_sig_str_distance_pct red_fighter_sig_str_clinch_pct  \\\n",
       "0                               100                              0   \n",
       "1                                 0                              0   \n",
       "2                                94                              9   \n",
       "3                                69                             23   \n",
       "4                                97                              3   \n",
       "\n",
       "  blue_fighter_sig_str_clinch_pct red_fighter_sig_str_ground_pct  \\\n",
       "0                               0                              5   \n",
       "1                               0                              0   \n",
       "2                               5                              0   \n",
       "3                              13                              5   \n",
       "4                               2                              0   \n",
       "\n",
       "  blue_fighter_sig_str_ground_pct  \n",
       "0                               0  \n",
       "1                             100  \n",
       "2                               0  \n",
       "3                              17  \n",
       "4                               0  \n",
       "\n",
       "[5 rows x 59 columns]"
      ]
     },
     "execution_count": 160,
     "metadata": {},
     "output_type": "execute_result"
    }
   ],
   "source": [
    "fights_stats = pd.read_csv(\"../stats/stats_raw.csv\", sep=\";\")\n",
    "fights_stats.head()"
   ]
  },
  {
   "cell_type": "markdown",
   "id": "f5986735-d813-4e8f-a186-c0f0580e07b1",
   "metadata": {},
   "source": [
    "Taking a look at the num of rows and cols:"
   ]
  },
  {
   "cell_type": "code",
   "execution_count": 161,
   "id": "7214e156-0a6b-4014-ad27-2db0bc182bcd",
   "metadata": {},
   "outputs": [
    {
     "data": {
      "text/plain": [
       "(7754, 59)"
      ]
     },
     "execution_count": 161,
     "metadata": {},
     "output_type": "execute_result"
    }
   ],
   "source": [
    "fights_stats.shape"
   ]
  },
  {
   "cell_type": "markdown",
   "id": "c3027b02-7e5c-458b-8c18-d86518c50d06",
   "metadata": {},
   "source": [
    "## Data Preprocessing"
   ]
  },
  {
   "cell_type": "markdown",
   "id": "b9d12fbb-70d7-4d49-928c-9858426b7fd7",
   "metadata": {},
   "source": [
    "### Dropping features"
   ]
  },
  {
   "cell_type": "code",
   "execution_count": 162,
   "id": "04b25820-7010-4c7c-a7a2-efdbabd34522",
   "metadata": {},
   "outputs": [
    {
     "data": {
      "text/plain": [
       "Index(['red_fighter_name', 'blue_fighter_name', 'event_date',\n",
       "       'red_fighter_nickname', 'blue_fighter_nickname', 'red_fighter_result',\n",
       "       'blue_fighter_result', 'method', 'round', 'time', 'time_format',\n",
       "       'referee', 'details', 'bout_type', 'bonus', 'event_name',\n",
       "       'event_location', 'red_fighter_KD', 'blue_fighter_KD',\n",
       "       'red_fighter_sig_str', 'blue_fighter_sig_str',\n",
       "       'red_fighter_sig_str_pct', 'blue_fighter_sig_str_pct',\n",
       "       'red_fighter_total_str', 'blue_fighter_total_str', 'red_fighter_TD',\n",
       "       'blue_fighter_TD', 'red_fighter_TD_pct', 'blue_fighter_TD_pct',\n",
       "       'red_fighter_sub_att', 'blue_fighter_sub_att', 'red_fighter_rev',\n",
       "       'blue_fighter_rev', 'red_fighter_ctrl', 'blue_fighter_ctrl',\n",
       "       'red_fighter_sig_str_head', 'blue_fighter_sig_str_head',\n",
       "       'red_fighter_sig_str_body', 'blue_fighter_sig_str_body',\n",
       "       'red_fighter_sig_str_leg', 'blue_fighter_sig_str_leg',\n",
       "       'red_fighter_sig_str_distance', 'blue_fighter_sig_str_distance',\n",
       "       'red_fighter_sig_str_clinch', 'blue_fighter_sig_str_clinch',\n",
       "       'red_fighter_sig_str_ground', 'blue_fighter_sig_str_ground',\n",
       "       'red_fighter_sig_str_head_pct', 'blue_fighter_sig_str_head_pct',\n",
       "       'red_fighter_sig_str_body_pct', 'blue_fighter_sig_str_body_pct',\n",
       "       'red_fighter_sig_str_leg_pct', 'blue_fighter_sig_str_leg_pct',\n",
       "       'red_fighter_sig_str_distance_pct', 'blue_fighter_sig_str_distance_pct',\n",
       "       'red_fighter_sig_str_clinch_pct', 'blue_fighter_sig_str_clinch_pct',\n",
       "       'red_fighter_sig_str_ground_pct', 'blue_fighter_sig_str_ground_pct'],\n",
       "      dtype='object')"
      ]
     },
     "execution_count": 162,
     "metadata": {},
     "output_type": "execute_result"
    }
   ],
   "source": [
    "fights_stats.columns"
   ]
  },
  {
   "cell_type": "markdown",
   "id": "c0c4fc08-27fa-4265-9a74-7e068cc15d9b",
   "metadata": {},
   "source": [
    "Let's drop some **redundant** features that are redundant and have no value for us here, for example: <br>\n",
    "> `x_fighter_sig_str`, where we already have `x_fighter_sig_str_pct`. Where the prior takes the `75 of 144` form, and the latter takes the percentage version of the same value = `52%`. The latter is already scaled, and will be easier to work with."
   ]
  },
  {
   "cell_type": "code",
   "execution_count": 163,
   "id": "a5f937ed-e890-498d-9328-c267cf3824c4",
   "metadata": {},
   "outputs": [
    {
     "data": {
      "text/html": [
       "<div>\n",
       "<style scoped>\n",
       "    .dataframe tbody tr th:only-of-type {\n",
       "        vertical-align: middle;\n",
       "    }\n",
       "\n",
       "    .dataframe tbody tr th {\n",
       "        vertical-align: top;\n",
       "    }\n",
       "\n",
       "    .dataframe thead th {\n",
       "        text-align: right;\n",
       "    }\n",
       "</style>\n",
       "<table border=\"1\" class=\"dataframe\">\n",
       "  <thead>\n",
       "    <tr style=\"text-align: right;\">\n",
       "      <th></th>\n",
       "      <th>red_fighter_sig_str</th>\n",
       "      <th>red_fighter_sig_str_pct</th>\n",
       "    </tr>\n",
       "  </thead>\n",
       "  <tbody>\n",
       "    <tr>\n",
       "      <th>0</th>\n",
       "      <td>75 of 144</td>\n",
       "      <td>52</td>\n",
       "    </tr>\n",
       "    <tr>\n",
       "      <th>1</th>\n",
       "      <td>2 of 2</td>\n",
       "      <td>100</td>\n",
       "    </tr>\n",
       "  </tbody>\n",
       "</table>\n",
       "</div>"
      ],
      "text/plain": [
       "  red_fighter_sig_str red_fighter_sig_str_pct\n",
       "0           75 of 144                      52\n",
       "1              2 of 2                     100"
      ]
     },
     "execution_count": 163,
     "metadata": {},
     "output_type": "execute_result"
    }
   ],
   "source": [
    "fights_stats.loc[:1, [\"red_fighter_sig_str\", \"red_fighter_sig_str_pct\"]]"
   ]
  },
  {
   "cell_type": "markdown",
   "id": "0673930e-c935-49b7-846f-9171f775b737",
   "metadata": {},
   "source": [
    "We will also drop some **irrelevant** features that we are not going to work with, these are:\n",
    "* Nicknames: `red_fighter_nickname`, `blue_fighter_nickname`\n",
    "* `Referee`\n",
    "* `Details`\n",
    "* `Bonus`"
   ]
  },
  {
   "cell_type": "code",
   "execution_count": 164,
   "id": "eee89fb0-93e6-4b7d-9e6c-6caf0e8f68af",
   "metadata": {},
   "outputs": [
    {
     "data": {
      "text/plain": [
       "['red_fighter_sig_str',\n",
       " 'blue_fighter_sig_str',\n",
       " 'red_fighter_TD',\n",
       " 'blue_fighter_TD',\n",
       " 'red_fighter_nickname',\n",
       " 'blue_fighter_nickname',\n",
       " 'referee',\n",
       " 'details',\n",
       " 'bonus']"
      ]
     },
     "execution_count": 164,
     "metadata": {},
     "output_type": "execute_result"
    }
   ],
   "source": [
    "redundant_cols = [\"fighter_sig_str\", \"fighter_TD\"]\n",
    "irrelevant_cols = [\n",
    "    \"red_fighter_nickname\",\n",
    "    \"blue_fighter_nickname\",\n",
    "    \"referee\",\n",
    "    \"details\",\n",
    "    \"bonus\",\n",
    "]\n",
    "\n",
    "# Fighters from both corners\n",
    "fighters = (\"red_\", \"blue_\")\n",
    "\n",
    "# For both red/blue fighters\n",
    "cols_to_drop = [f\"{fighter}{col}\" for col in redundant_cols for fighter in fighters]\n",
    "cols_to_drop.extend(irrelevant_cols)\n",
    "cols_to_drop"
   ]
  },
  {
   "cell_type": "markdown",
   "id": "1f0e189a-8821-4ac5-b24e-1999b82595ec",
   "metadata": {},
   "source": [
    "Dropping:"
   ]
  },
  {
   "cell_type": "code",
   "execution_count": 165,
   "id": "85ed6f20-052b-4668-bc97-f371b938729d",
   "metadata": {},
   "outputs": [],
   "source": [
    "fights_stats.drop(columns=cols_to_drop, inplace=True)"
   ]
  },
  {
   "cell_type": "markdown",
   "id": "c12ce192-cbaa-4e42-9a9f-e624bf144656",
   "metadata": {},
   "source": [
    "### Renaming features"
   ]
  },
  {
   "cell_type": "markdown",
   "id": "0d5cb582-c93a-45ad-a9ea-e41050c0e8fd",
   "metadata": {},
   "source": [
    "Let's rename some columns to avoid name conflicts later and to better represent what they mean.\n",
    "* `sig_str_acc_cols` - Significant Strikes **Accuracy** columns (how much *landed out of the total* thrown)\n",
    "* `sig_str_tar_cols` - Significant Strikes by **Target** columns (*what ratio of the strikes went to a certain location*: head, body, leg)\n",
    "* `sig_str_pos_cols` - Significant Strikes by **Position** columns (*what ratio of the strikes were landed from a certain position*: distance, clinch, ground)"
   ]
  },
  {
   "cell_type": "markdown",
   "id": "03c5aad8-d7e7-4a3e-982d-0a3bcdbfab93",
   "metadata": {},
   "source": [
    "Preparing:"
   ]
  },
  {
   "cell_type": "code",
   "execution_count": 166,
   "id": "e53be9cd-2eaf-42c8-bf86-0819f821bd90",
   "metadata": {},
   "outputs": [],
   "source": [
    "# Define feature groups\n",
    "sig_str_acc_cols = [\n",
    "    \"fighter_sig_str_head\",\n",
    "    \"fighter_sig_str_body\",\n",
    "    \"fighter_sig_str_leg\",\n",
    "    \"fighter_sig_str_distance\",\n",
    "    \"fighter_sig_str_clinch\",\n",
    "    \"fighter_sig_str_ground\",\n",
    "]\n",
    "sig_str_tar_cols = [\n",
    "    \"fighter_sig_str_head_pct\",\n",
    "    \"fighter_sig_str_body_pct\",\n",
    "    \"fighter_sig_str_leg_pct\",\n",
    "]\n",
    "sig_str_pos_cols = [\n",
    "    \"fighter_sig_str_distance_pct\",\n",
    "    \"fighter_sig_str_clinch_pct\",\n",
    "    \"fighter_sig_str_ground_pct\",\n",
    "]\n",
    "\n",
    "# Define fighters' corners\n",
    "fighters = (\"red_\", \"blue_\")\n",
    "\n",
    "# Postfixes\n",
    "ACC_POST = \"_acc\"\n",
    "TAR_POST = \"_tar_pct\"\n",
    "POS_POST = \"_pos_pct\"\n",
    "\n",
    "# Define mappings\n",
    "col_names_mappings = {}\n",
    "\n",
    "# Start mapping\n",
    "for fighter in fighters:\n",
    "    # For significant strikes accuracy features\n",
    "    for col in sig_str_acc_cols:\n",
    "        col_names_mappings[f\"{fighter}{col}\"] = f\"{fighter}{col}{ACC_POST}\"\n",
    "\n",
    "    # For significant strikes by target features\n",
    "    for col in sig_str_tar_cols:\n",
    "        # Reposition '_pct' suffix to the end\n",
    "        base = col.removesuffix(\"_pct\")\n",
    "        col_names_mappings[f\"{fighter}{col}\"] = f\"{fighter}{base}{TAR_POST}\"\n",
    "\n",
    "    # For significant strikes by position features\n",
    "    for col in sig_str_pos_cols:\n",
    "        # Reposition '_pct' suffix to the end\n",
    "        base = col.removesuffix(\"_pct\")\n",
    "        col_names_mappings[f\"{fighter}{col}\"] = f\"{fighter}{base}{POS_POST}\""
   ]
  },
  {
   "cell_type": "markdown",
   "id": "9dfb7d3c-e521-493d-ab28-4291852eca18",
   "metadata": {},
   "source": [
    "Renaming:"
   ]
  },
  {
   "cell_type": "code",
   "execution_count": 167,
   "id": "4dc2d99c-5ccf-4aed-b0aa-68127bab9435",
   "metadata": {},
   "outputs": [
    {
     "data": {
      "text/plain": [
       "Index(['red_fighter_name', 'blue_fighter_name', 'event_date',\n",
       "       'red_fighter_result', 'blue_fighter_result', 'method', 'round', 'time',\n",
       "       'time_format', 'bout_type', 'event_name', 'event_location',\n",
       "       'red_fighter_KD', 'blue_fighter_KD', 'red_fighter_sig_str_pct',\n",
       "       'blue_fighter_sig_str_pct', 'red_fighter_total_str',\n",
       "       'blue_fighter_total_str', 'red_fighter_TD_pct', 'blue_fighter_TD_pct',\n",
       "       'red_fighter_sub_att', 'blue_fighter_sub_att', 'red_fighter_rev',\n",
       "       'blue_fighter_rev', 'red_fighter_ctrl', 'blue_fighter_ctrl',\n",
       "       'red_fighter_sig_str_head_acc', 'blue_fighter_sig_str_head_acc',\n",
       "       'red_fighter_sig_str_body_acc', 'blue_fighter_sig_str_body_acc',\n",
       "       'red_fighter_sig_str_leg_acc', 'blue_fighter_sig_str_leg_acc',\n",
       "       'red_fighter_sig_str_distance_acc', 'blue_fighter_sig_str_distance_acc',\n",
       "       'red_fighter_sig_str_clinch_acc', 'blue_fighter_sig_str_clinch_acc',\n",
       "       'red_fighter_sig_str_ground_acc', 'blue_fighter_sig_str_ground_acc',\n",
       "       'red_fighter_sig_str_head_tar_pct', 'blue_fighter_sig_str_head_tar_pct',\n",
       "       'red_fighter_sig_str_body_tar_pct', 'blue_fighter_sig_str_body_tar_pct',\n",
       "       'red_fighter_sig_str_leg_tar_pct', 'blue_fighter_sig_str_leg_tar_pct',\n",
       "       'red_fighter_sig_str_distance_pos_pct',\n",
       "       'blue_fighter_sig_str_distance_pos_pct',\n",
       "       'red_fighter_sig_str_clinch_pos_pct',\n",
       "       'blue_fighter_sig_str_clinch_pos_pct',\n",
       "       'red_fighter_sig_str_ground_pos_pct',\n",
       "       'blue_fighter_sig_str_ground_pos_pct'],\n",
       "      dtype='object')"
      ]
     },
     "execution_count": 167,
     "metadata": {},
     "output_type": "execute_result"
    }
   ],
   "source": [
    "fights_stats.rename(columns=col_names_mappings, inplace=True)\n",
    "fights_stats.columns"
   ]
  },
  {
   "cell_type": "markdown",
   "id": "cd9d075c-13cf-4c6b-a02b-6fc762071237",
   "metadata": {},
   "source": [
    "Too long and too many features to look at, we will make the names shorter and decrease the number of features by half. But first, we need to merge some additional features :))"
   ]
  },
  {
   "cell_type": "markdown",
   "id": "1ac9bdbc-63b9-44ee-9c4f-203d57666ef9",
   "metadata": {},
   "source": [
    "# Loading athlete stats dataset"
   ]
  },
  {
   "cell_type": "markdown",
   "id": "8504dbcf-97d9-46fa-b57a-4aa4931a4cda",
   "metadata": {},
   "source": [
    "Let's merge additional athlete-based features from an external dataset like: `Height`, `Reach`, `Stance` and other career statistic features like: \n",
    "* `SLpM`-`Significant Strikes Landed per Minute`\n",
    "* `Str_Acc`-`Significant Striking Accuracy`"
   ]
  },
  {
   "cell_type": "code",
   "execution_count": 168,
   "id": "60596ece-f84d-4884-bb2a-175cdd3f6dfb",
   "metadata": {},
   "outputs": [
    {
     "data": {
      "text/html": [
       "<div>\n",
       "<style scoped>\n",
       "    .dataframe tbody tr th:only-of-type {\n",
       "        vertical-align: middle;\n",
       "    }\n",
       "\n",
       "    .dataframe tbody tr th {\n",
       "        vertical-align: top;\n",
       "    }\n",
       "\n",
       "    .dataframe thead th {\n",
       "        text-align: right;\n",
       "    }\n",
       "</style>\n",
       "<table border=\"1\" class=\"dataframe\">\n",
       "  <thead>\n",
       "    <tr style=\"text-align: right;\">\n",
       "      <th></th>\n",
       "      <th>fighter_name</th>\n",
       "      <th>Height</th>\n",
       "      <th>Weight</th>\n",
       "      <th>Reach</th>\n",
       "      <th>Stance</th>\n",
       "      <th>DOB</th>\n",
       "      <th>SLpM</th>\n",
       "      <th>Str_Acc</th>\n",
       "      <th>SApM</th>\n",
       "      <th>Str_Def</th>\n",
       "      <th>TD_Avg</th>\n",
       "      <th>TD_Acc</th>\n",
       "      <th>TD_Def</th>\n",
       "      <th>Sub_Avg</th>\n",
       "    </tr>\n",
       "  </thead>\n",
       "  <tbody>\n",
       "    <tr>\n",
       "      <th>0</th>\n",
       "      <td>Tom Aaron</td>\n",
       "      <td>NaN</td>\n",
       "      <td>155 lbs.</td>\n",
       "      <td>NaN</td>\n",
       "      <td>NaN</td>\n",
       "      <td>Jul 13, 1978</td>\n",
       "      <td>0.00</td>\n",
       "      <td>0%</td>\n",
       "      <td>0.00</td>\n",
       "      <td>0%</td>\n",
       "      <td>0.00</td>\n",
       "      <td>0%</td>\n",
       "      <td>0%</td>\n",
       "      <td>0.0</td>\n",
       "    </tr>\n",
       "    <tr>\n",
       "      <th>1</th>\n",
       "      <td>Papy Abedi</td>\n",
       "      <td>5' 11\"</td>\n",
       "      <td>185 lbs.</td>\n",
       "      <td>NaN</td>\n",
       "      <td>Southpaw</td>\n",
       "      <td>Jun 30, 1978</td>\n",
       "      <td>2.80</td>\n",
       "      <td>55%</td>\n",
       "      <td>3.15</td>\n",
       "      <td>48%</td>\n",
       "      <td>3.47</td>\n",
       "      <td>57%</td>\n",
       "      <td>50%</td>\n",
       "      <td>1.3</td>\n",
       "    </tr>\n",
       "    <tr>\n",
       "      <th>2</th>\n",
       "      <td>Shamil Abdurakhimov</td>\n",
       "      <td>6' 3\"</td>\n",
       "      <td>235 lbs.</td>\n",
       "      <td>76\"</td>\n",
       "      <td>Orthodox</td>\n",
       "      <td>Sep 02, 1981</td>\n",
       "      <td>2.45</td>\n",
       "      <td>44%</td>\n",
       "      <td>2.45</td>\n",
       "      <td>58%</td>\n",
       "      <td>1.23</td>\n",
       "      <td>24%</td>\n",
       "      <td>47%</td>\n",
       "      <td>0.2</td>\n",
       "    </tr>\n",
       "  </tbody>\n",
       "</table>\n",
       "</div>"
      ],
      "text/plain": [
       "          fighter_name  Height    Weight Reach    Stance           DOB  SLpM  \\\n",
       "0            Tom Aaron     NaN  155 lbs.   NaN       NaN  Jul 13, 1978  0.00   \n",
       "1           Papy Abedi  5' 11\"  185 lbs.   NaN  Southpaw  Jun 30, 1978  2.80   \n",
       "2  Shamil Abdurakhimov   6' 3\"  235 lbs.   76\"  Orthodox  Sep 02, 1981  2.45   \n",
       "\n",
       "  Str_Acc  SApM Str_Def  TD_Avg TD_Acc TD_Def  Sub_Avg  \n",
       "0      0%  0.00      0%    0.00     0%     0%      0.0  \n",
       "1     55%  3.15     48%    3.47    57%    50%      1.3  \n",
       "2     44%  2.45     58%    1.23    24%    47%      0.2  "
      ]
     },
     "execution_count": 168,
     "metadata": {},
     "output_type": "execute_result"
    }
   ],
   "source": [
    "# External dataset\n",
    "athlete_stats = pd.read_csv(\"../external_data/raw_fighter_details.csv\", sep=\",\")\n",
    "athlete_stats.head(3)"
   ]
  },
  {
   "cell_type": "markdown",
   "id": "c06585f9-d113-4891-8428-d287626e0599",
   "metadata": {},
   "source": [
    "Taking a look at the num of rows and cols:"
   ]
  },
  {
   "cell_type": "code",
   "execution_count": 169,
   "id": "d576c727-be06-421b-9c06-7a712bbcbe3e",
   "metadata": {},
   "outputs": [
    {
     "data": {
      "text/plain": [
       "(3596, 14)"
      ]
     },
     "execution_count": 169,
     "metadata": {},
     "output_type": "execute_result"
    }
   ],
   "source": [
    "athlete_stats.shape"
   ]
  },
  {
   "cell_type": "markdown",
   "id": "4dfb1113-6651-41af-bcee-b3c9809ddf67",
   "metadata": {},
   "source": [
    "## Data Preprocessing"
   ]
  },
  {
   "cell_type": "markdown",
   "id": "84fec373-4281-4154-bec7-0ab067a840f7",
   "metadata": {},
   "source": [
    "### Dropping irrelevant features"
   ]
  },
  {
   "cell_type": "markdown",
   "id": "d9d87983-efaf-445b-9fa7-b39858a1cfa4",
   "metadata": {},
   "source": [
    "We leave only the features we are interested in, and drop irrelevant ones:"
   ]
  },
  {
   "cell_type": "code",
   "execution_count": 170,
   "id": "ebbfcb4e-f010-4c33-8139-c54275017b1c",
   "metadata": {},
   "outputs": [
    {
     "data": {
      "text/html": [
       "<div>\n",
       "<style scoped>\n",
       "    .dataframe tbody tr th:only-of-type {\n",
       "        vertical-align: middle;\n",
       "    }\n",
       "\n",
       "    .dataframe tbody tr th {\n",
       "        vertical-align: top;\n",
       "    }\n",
       "\n",
       "    .dataframe thead th {\n",
       "        text-align: right;\n",
       "    }\n",
       "</style>\n",
       "<table border=\"1\" class=\"dataframe\">\n",
       "  <thead>\n",
       "    <tr style=\"text-align: right;\">\n",
       "      <th></th>\n",
       "      <th>fighter_name</th>\n",
       "      <th>Height</th>\n",
       "      <th>Reach</th>\n",
       "      <th>Stance</th>\n",
       "      <th>SLpM</th>\n",
       "      <th>Str_Acc</th>\n",
       "      <th>SApM</th>\n",
       "      <th>Str_Def</th>\n",
       "      <th>TD_Avg</th>\n",
       "      <th>TD_Acc</th>\n",
       "      <th>TD_Def</th>\n",
       "      <th>Sub_Avg</th>\n",
       "    </tr>\n",
       "  </thead>\n",
       "  <tbody>\n",
       "    <tr>\n",
       "      <th>3591</th>\n",
       "      <td>Zhang Tiequan</td>\n",
       "      <td>5' 8\"</td>\n",
       "      <td>69\"</td>\n",
       "      <td>Orthodox</td>\n",
       "      <td>1.23</td>\n",
       "      <td>36%</td>\n",
       "      <td>2.14</td>\n",
       "      <td>51%</td>\n",
       "      <td>1.95</td>\n",
       "      <td>58%</td>\n",
       "      <td>75%</td>\n",
       "      <td>3.4</td>\n",
       "    </tr>\n",
       "    <tr>\n",
       "      <th>3592</th>\n",
       "      <td>Alex Zuniga</td>\n",
       "      <td>NaN</td>\n",
       "      <td>NaN</td>\n",
       "      <td>NaN</td>\n",
       "      <td>0.00</td>\n",
       "      <td>0%</td>\n",
       "      <td>0.00</td>\n",
       "      <td>0%</td>\n",
       "      <td>0.00</td>\n",
       "      <td>0%</td>\n",
       "      <td>0%</td>\n",
       "      <td>0.0</td>\n",
       "    </tr>\n",
       "    <tr>\n",
       "      <th>3593</th>\n",
       "      <td>George Zuniga</td>\n",
       "      <td>5' 9\"</td>\n",
       "      <td>NaN</td>\n",
       "      <td>NaN</td>\n",
       "      <td>7.64</td>\n",
       "      <td>38%</td>\n",
       "      <td>5.45</td>\n",
       "      <td>37%</td>\n",
       "      <td>0.00</td>\n",
       "      <td>0%</td>\n",
       "      <td>100%</td>\n",
       "      <td>0.0</td>\n",
       "    </tr>\n",
       "    <tr>\n",
       "      <th>3594</th>\n",
       "      <td>Allan Zuniga</td>\n",
       "      <td>5' 7\"</td>\n",
       "      <td>70\"</td>\n",
       "      <td>Orthodox</td>\n",
       "      <td>3.93</td>\n",
       "      <td>52%</td>\n",
       "      <td>1.80</td>\n",
       "      <td>61%</td>\n",
       "      <td>0.00</td>\n",
       "      <td>0%</td>\n",
       "      <td>57%</td>\n",
       "      <td>1.0</td>\n",
       "    </tr>\n",
       "    <tr>\n",
       "      <th>3595</th>\n",
       "      <td>Virgil Zwicker</td>\n",
       "      <td>6' 2\"</td>\n",
       "      <td>74\"</td>\n",
       "      <td>NaN</td>\n",
       "      <td>3.34</td>\n",
       "      <td>48%</td>\n",
       "      <td>4.87</td>\n",
       "      <td>39%</td>\n",
       "      <td>1.31</td>\n",
       "      <td>30%</td>\n",
       "      <td>50%</td>\n",
       "      <td>0.0</td>\n",
       "    </tr>\n",
       "  </tbody>\n",
       "</table>\n",
       "</div>"
      ],
      "text/plain": [
       "        fighter_name Height Reach    Stance  SLpM Str_Acc  SApM Str_Def  \\\n",
       "3591   Zhang Tiequan  5' 8\"   69\"  Orthodox  1.23     36%  2.14     51%   \n",
       "3592     Alex Zuniga    NaN   NaN       NaN  0.00      0%  0.00      0%   \n",
       "3593   George Zuniga  5' 9\"   NaN       NaN  7.64     38%  5.45     37%   \n",
       "3594    Allan Zuniga  5' 7\"   70\"  Orthodox  3.93     52%  1.80     61%   \n",
       "3595  Virgil Zwicker  6' 2\"   74\"       NaN  3.34     48%  4.87     39%   \n",
       "\n",
       "      TD_Avg TD_Acc TD_Def  Sub_Avg  \n",
       "3591    1.95    58%    75%      3.4  \n",
       "3592    0.00     0%     0%      0.0  \n",
       "3593    0.00     0%   100%      0.0  \n",
       "3594    0.00     0%    57%      1.0  \n",
       "3595    1.31    30%    50%      0.0  "
      ]
     },
     "execution_count": 170,
     "metadata": {},
     "output_type": "execute_result"
    }
   ],
   "source": [
    "athlete_stats.drop(columns=[\"Weight\", \"DOB\"], inplace=True)\n",
    "athlete_stats.tail()"
   ]
  },
  {
   "cell_type": "markdown",
   "id": "45171d24-a72e-464a-9d8e-677ce3373531",
   "metadata": {},
   "source": [
    "### Renaming features"
   ]
  },
  {
   "cell_type": "markdown",
   "id": "f0e92694-0c39-4fb5-aa50-64d3c7344fcb",
   "metadata": {},
   "source": [
    "We need to rename some columns for differentiating between **athlete-based** and **fight-based**. <br>\n",
    "We'll add `_cs` suffix to the **athlete-based** features. `cs` stands for `Career Statistic`."
   ]
  },
  {
   "cell_type": "markdown",
   "id": "2c9769d1-6fac-4338-ab18-178d47497a40",
   "metadata": {},
   "source": [
    "Let's prep the columns:"
   ]
  },
  {
   "cell_type": "code",
   "execution_count": 171,
   "id": "d6a3e2a0-5ba8-4da2-8c30-d676c62f9dde",
   "metadata": {},
   "outputs": [
    {
     "data": {
      "text/plain": [
       "{'SLpM': 'SLpM_cs',\n",
       " 'Str_Acc': 'Str_Acc_cs',\n",
       " 'SApM': 'SApM_cs',\n",
       " 'Str_Def': 'Str_Def_cs',\n",
       " 'TD_Avg': 'TD_Avg_cs',\n",
       " 'TD_Acc': 'TD_Acc_cs',\n",
       " 'TD_Def': 'TD_Def_cs',\n",
       " 'Sub_Avg': 'Sub_Avg_cs'}"
      ]
     },
     "execution_count": 171,
     "metadata": {},
     "output_type": "execute_result"
    }
   ],
   "source": [
    "suffix = \"_cs\"  # _cs is an abbreviation for career statistic\n",
    "cols_to_rename = [\n",
    "    \"SLpM\",\n",
    "    \"Str_Acc\",\n",
    "    \"SApM\",\n",
    "    \"Str_Def\",\n",
    "    \"TD_Avg\",\n",
    "    \"TD_Acc\",\n",
    "    \"TD_Def\",\n",
    "    \"Sub_Avg\",\n",
    "]\n",
    "name_mappings = {col: f\"{col}{suffix}\" for col in cols_to_rename}\n",
    "name_mappings"
   ]
  },
  {
   "cell_type": "markdown",
   "id": "e0463cc3-b9b7-404f-ac03-a79a61452f52",
   "metadata": {},
   "source": [
    "Rename:"
   ]
  },
  {
   "cell_type": "code",
   "execution_count": 172,
   "id": "eb4c5207-a5e4-44e9-ad1a-7a36e64a4672",
   "metadata": {},
   "outputs": [
    {
     "data": {
      "text/html": [
       "<div>\n",
       "<style scoped>\n",
       "    .dataframe tbody tr th:only-of-type {\n",
       "        vertical-align: middle;\n",
       "    }\n",
       "\n",
       "    .dataframe tbody tr th {\n",
       "        vertical-align: top;\n",
       "    }\n",
       "\n",
       "    .dataframe thead th {\n",
       "        text-align: right;\n",
       "    }\n",
       "</style>\n",
       "<table border=\"1\" class=\"dataframe\">\n",
       "  <thead>\n",
       "    <tr style=\"text-align: right;\">\n",
       "      <th></th>\n",
       "      <th>fighter_name</th>\n",
       "      <th>Height</th>\n",
       "      <th>Reach</th>\n",
       "      <th>Stance</th>\n",
       "      <th>SLpM_cs</th>\n",
       "      <th>Str_Acc_cs</th>\n",
       "      <th>SApM_cs</th>\n",
       "      <th>Str_Def_cs</th>\n",
       "      <th>TD_Avg_cs</th>\n",
       "      <th>TD_Acc_cs</th>\n",
       "      <th>TD_Def_cs</th>\n",
       "      <th>Sub_Avg_cs</th>\n",
       "    </tr>\n",
       "  </thead>\n",
       "  <tbody>\n",
       "    <tr>\n",
       "      <th>0</th>\n",
       "      <td>Tom Aaron</td>\n",
       "      <td>NaN</td>\n",
       "      <td>NaN</td>\n",
       "      <td>NaN</td>\n",
       "      <td>0.00</td>\n",
       "      <td>0%</td>\n",
       "      <td>0.00</td>\n",
       "      <td>0%</td>\n",
       "      <td>0.00</td>\n",
       "      <td>0%</td>\n",
       "      <td>0%</td>\n",
       "      <td>0.0</td>\n",
       "    </tr>\n",
       "    <tr>\n",
       "      <th>1</th>\n",
       "      <td>Papy Abedi</td>\n",
       "      <td>5' 11\"</td>\n",
       "      <td>NaN</td>\n",
       "      <td>Southpaw</td>\n",
       "      <td>2.80</td>\n",
       "      <td>55%</td>\n",
       "      <td>3.15</td>\n",
       "      <td>48%</td>\n",
       "      <td>3.47</td>\n",
       "      <td>57%</td>\n",
       "      <td>50%</td>\n",
       "      <td>1.3</td>\n",
       "    </tr>\n",
       "    <tr>\n",
       "      <th>2</th>\n",
       "      <td>Shamil Abdurakhimov</td>\n",
       "      <td>6' 3\"</td>\n",
       "      <td>76\"</td>\n",
       "      <td>Orthodox</td>\n",
       "      <td>2.45</td>\n",
       "      <td>44%</td>\n",
       "      <td>2.45</td>\n",
       "      <td>58%</td>\n",
       "      <td>1.23</td>\n",
       "      <td>24%</td>\n",
       "      <td>47%</td>\n",
       "      <td>0.2</td>\n",
       "    </tr>\n",
       "  </tbody>\n",
       "</table>\n",
       "</div>"
      ],
      "text/plain": [
       "          fighter_name  Height Reach    Stance  SLpM_cs Str_Acc_cs  SApM_cs  \\\n",
       "0            Tom Aaron     NaN   NaN       NaN     0.00         0%     0.00   \n",
       "1           Papy Abedi  5' 11\"   NaN  Southpaw     2.80        55%     3.15   \n",
       "2  Shamil Abdurakhimov   6' 3\"   76\"  Orthodox     2.45        44%     2.45   \n",
       "\n",
       "  Str_Def_cs  TD_Avg_cs TD_Acc_cs TD_Def_cs  Sub_Avg_cs  \n",
       "0         0%       0.00        0%        0%         0.0  \n",
       "1        48%       3.47       57%       50%         1.3  \n",
       "2        58%       1.23       24%       47%         0.2  "
      ]
     },
     "execution_count": 172,
     "metadata": {},
     "output_type": "execute_result"
    }
   ],
   "source": [
    "athlete_stats.rename(columns=name_mappings, inplace=True)\n",
    "athlete_stats.head(3)"
   ]
  },
  {
   "cell_type": "markdown",
   "id": "ff980df1-0819-41df-9464-2ae9bc0c844e",
   "metadata": {},
   "source": [
    "### Examining NaNs"
   ]
  },
  {
   "cell_type": "markdown",
   "id": "577d04cd-9b8d-4e91-afd0-6f456827071b",
   "metadata": {},
   "source": [
    "Dropping rows, that bring us no information whatsoever (rows, where all valuable columns are empty):"
   ]
  },
  {
   "cell_type": "code",
   "execution_count": 173,
   "id": "c49a0d4e-52fb-446d-bace-770041c5d36a",
   "metadata": {},
   "outputs": [
    {
     "data": {
      "text/plain": [
       "['Height',\n",
       " 'Reach',\n",
       " 'Stance',\n",
       " 'SLpM_cs',\n",
       " 'Str_Acc_cs',\n",
       " 'SApM_cs',\n",
       " 'Str_Def_cs',\n",
       " 'TD_Avg_cs',\n",
       " 'TD_Acc_cs',\n",
       " 'TD_Def_cs',\n",
       " 'Sub_Avg_cs']"
      ]
     },
     "execution_count": 173,
     "metadata": {},
     "output_type": "execute_result"
    }
   ],
   "source": [
    "cols_of_interest = list(athlete_stats.columns)\n",
    "cols_of_interest.remove(\"fighter_name\")\n",
    "cols_of_interest"
   ]
  },
  {
   "cell_type": "markdown",
   "id": "2d13017b-4b96-4c68-af08-ac2ddf77d47d",
   "metadata": {},
   "source": [
    "Are there any?"
   ]
  },
  {
   "cell_type": "code",
   "execution_count": 174,
   "id": "fceb70d0-f5d0-4585-9ad1-8e33898b3992",
   "metadata": {},
   "outputs": [
    {
     "data": {
      "text/plain": [
       "0.0"
      ]
     },
     "execution_count": 174,
     "metadata": {},
     "output_type": "execute_result"
    }
   ],
   "source": [
    "all_nans = athlete_stats[athlete_stats[cols_of_interest] == 0].sum().sum()\n",
    "all_nans"
   ]
  },
  {
   "cell_type": "markdown",
   "id": "a38e53ed-efba-4a27-b1f6-070df5467c32",
   "metadata": {},
   "source": [
    "There's not, good."
   ]
  },
  {
   "cell_type": "markdown",
   "id": "0af08717-2386-4bf1-9da7-66b5fcb6da7c",
   "metadata": {},
   "source": [
    "How about NaNs?"
   ]
  },
  {
   "cell_type": "code",
   "execution_count": 175,
   "id": "5920b30a-019f-4037-8cfa-340facb04aac",
   "metadata": {},
   "outputs": [
    {
     "name": "stdout",
     "output_type": "stream",
     "text": [
      "Number of NaNs: 2979\n"
     ]
    }
   ],
   "source": [
    "print(f\"Number of NaNs: {athlete_stats.isna().sum().sum()}\")"
   ]
  },
  {
   "cell_type": "markdown",
   "id": "0ebf2db2-b68a-4cb0-865e-bf1175d6da46",
   "metadata": {},
   "source": [
    "Ok, we got some, let's take a look:"
   ]
  },
  {
   "cell_type": "code",
   "execution_count": 176,
   "id": "8c6bff0d-5ac8-4ce8-a691-04b346ecd57d",
   "metadata": {},
   "outputs": [
    {
     "data": {
      "text/plain": [
       "Reach           1912\n",
       "Stance           804\n",
       "Height           263\n",
       "fighter_name       0\n",
       "SLpM_cs            0\n",
       "Str_Acc_cs         0\n",
       "SApM_cs            0\n",
       "Str_Def_cs         0\n",
       "TD_Avg_cs          0\n",
       "TD_Acc_cs          0\n",
       "TD_Def_cs          0\n",
       "Sub_Avg_cs         0\n",
       "dtype: int64"
      ]
     },
     "execution_count": 176,
     "metadata": {},
     "output_type": "execute_result"
    }
   ],
   "source": [
    "athlete_stats.isna().sum().sort_values(ascending=False)"
   ]
  },
  {
   "cell_type": "markdown",
   "id": "134cd8fd-4be3-4b08-91cb-e5daf987d7b2",
   "metadata": {},
   "source": [
    "Ok, so it wouldn't make any sense for these columns to be actually zero, so **we're not going to impute them with 0's, nor drop them**, as doing the prior wouldn't make any sense for someone's height to be 0, and I **do not want to drop these for now**, as **there are other rows that contain valuable information**, and **doing so would make us lose it**. I also do not want to fill the values with majority for categorical or mean for numerical features, I want to keep the information as accurate as possible.\n",
    "\n",
    "So for now, we're **going to keep these as NaNs**, and **when we will be about to do EDA** on one of these features, **then we will drop the NaNs**, that way, we **will not lose the information** in the other columns in the rows where there are some NaNs.\n",
    "\n",
    "And instead, we will impute with 0's the features, that would actually make sense to have as 0's. More on this in the Merged Examining NaNs part."
   ]
  },
  {
   "cell_type": "markdown",
   "id": "423feb8e-2200-40fc-8a8b-4dfde892dbc8",
   "metadata": {},
   "source": [
    "### Formatting to match the format in the fights dataset"
   ]
  },
  {
   "cell_type": "markdown",
   "id": "e3dad26d-d2cc-445b-8a9c-15efc9107a33",
   "metadata": {},
   "source": [
    "Convert external dataset's `fighter_name` values to uppercase, and column names to lowercase to match our format:"
   ]
  },
  {
   "cell_type": "code",
   "execution_count": 177,
   "id": "cf62b38f-b81d-47f1-a98d-9d68a1a26bbf",
   "metadata": {},
   "outputs": [
    {
     "data": {
      "text/html": [
       "<div>\n",
       "<style scoped>\n",
       "    .dataframe tbody tr th:only-of-type {\n",
       "        vertical-align: middle;\n",
       "    }\n",
       "\n",
       "    .dataframe tbody tr th {\n",
       "        vertical-align: top;\n",
       "    }\n",
       "\n",
       "    .dataframe thead th {\n",
       "        text-align: right;\n",
       "    }\n",
       "</style>\n",
       "<table border=\"1\" class=\"dataframe\">\n",
       "  <thead>\n",
       "    <tr style=\"text-align: right;\">\n",
       "      <th></th>\n",
       "      <th>height</th>\n",
       "      <th>reach</th>\n",
       "    </tr>\n",
       "  </thead>\n",
       "  <tbody>\n",
       "    <tr>\n",
       "      <th>2</th>\n",
       "      <td>6' 3\"</td>\n",
       "      <td>76\"</td>\n",
       "    </tr>\n",
       "    <tr>\n",
       "      <th>6</th>\n",
       "      <td>5' 11\"</td>\n",
       "      <td>71\"</td>\n",
       "    </tr>\n",
       "    <tr>\n",
       "      <th>8</th>\n",
       "      <td>6' 0\"</td>\n",
       "      <td>74\"</td>\n",
       "    </tr>\n",
       "  </tbody>\n",
       "</table>\n",
       "</div>"
      ],
      "text/plain": [
       "   height reach\n",
       "2   6' 3\"   76\"\n",
       "6  5' 11\"   71\"\n",
       "8   6' 0\"   74\""
      ]
     },
     "execution_count": 177,
     "metadata": {},
     "output_type": "execute_result"
    }
   ],
   "source": [
    "# Fighter names values to => upper\n",
    "athlete_stats[\"fighter_name\"] = athlete_stats[\"fighter_name\"].str.upper()\n",
    "\n",
    "# Column names to => lower\n",
    "athlete_stats.columns = athlete_stats.columns.str.lower()\n",
    "athlete_stats.loc[:9, [\"height\", \"reach\"]].dropna()"
   ]
  },
  {
   "cell_type": "markdown",
   "id": "adb166f4-79f2-49c9-a762-6a0ce02e2f63",
   "metadata": {},
   "source": [
    "### Converting from inches to cm"
   ]
  },
  {
   "cell_type": "markdown",
   "id": "e69439ac-b011-47e7-bb2e-642c9ab40717",
   "metadata": {},
   "source": [
    "Defining a function that converts `height` and `reach` features from inches to cm:"
   ]
  },
  {
   "cell_type": "code",
   "execution_count": 178,
   "id": "fcd50292-186b-424a-a148-51bc0be8b3bc",
   "metadata": {},
   "outputs": [],
   "source": [
    "def conv_from_inches_to_cm(inches):\n",
    "    \"\"\"Converts from inches to cm\"\"\"\n",
    "\n",
    "    # To avoid trying to operate str ops on numerical input\n",
    "    if not isinstance(inches, str):\n",
    "        return inches\n",
    "\n",
    "    # Separate feet from inches\n",
    "    inches = inches.replace('\"', \"\").strip()\n",
    "\n",
    "    # If both, feet and inches given\n",
    "    if \"'\" in inches:\n",
    "        feet, inch = inches.split(\"'\")\n",
    "        feet = int(feet)\n",
    "        inch = int(inch) if inch else 0\n",
    "        return round(feet * 30.48 + inch * 2.54, 2)\n",
    "    # If only feet given\n",
    "    else:\n",
    "        return round(float(inches) * 2.54, 2)"
   ]
  },
  {
   "cell_type": "markdown",
   "id": "8979f11b-92c6-42dd-b31e-1672a0721b0f",
   "metadata": {},
   "source": [
    "Applying:"
   ]
  },
  {
   "cell_type": "code",
   "execution_count": 179,
   "id": "486dde8b-1a7b-4ea1-99c7-bb2cd8fd97ad",
   "metadata": {},
   "outputs": [],
   "source": [
    "# Convert height\n",
    "athlete_stats[\"height\"] = athlete_stats[\"height\"].apply(conv_from_inches_to_cm)\n",
    "# Convert reach\n",
    "athlete_stats[\"reach\"] = athlete_stats[\"reach\"].apply(conv_from_inches_to_cm)"
   ]
  },
  {
   "cell_type": "code",
   "execution_count": 180,
   "id": "ad76898f-608c-494a-bcfe-88bde509de9f",
   "metadata": {},
   "outputs": [
    {
     "data": {
      "text/html": [
       "<div>\n",
       "<style scoped>\n",
       "    .dataframe tbody tr th:only-of-type {\n",
       "        vertical-align: middle;\n",
       "    }\n",
       "\n",
       "    .dataframe tbody tr th {\n",
       "        vertical-align: top;\n",
       "    }\n",
       "\n",
       "    .dataframe thead th {\n",
       "        text-align: right;\n",
       "    }\n",
       "</style>\n",
       "<table border=\"1\" class=\"dataframe\">\n",
       "  <thead>\n",
       "    <tr style=\"text-align: right;\">\n",
       "      <th></th>\n",
       "      <th>height</th>\n",
       "      <th>reach</th>\n",
       "    </tr>\n",
       "  </thead>\n",
       "  <tbody>\n",
       "    <tr>\n",
       "      <th>2</th>\n",
       "      <td>190.50</td>\n",
       "      <td>193.04</td>\n",
       "    </tr>\n",
       "    <tr>\n",
       "      <th>6</th>\n",
       "      <td>180.34</td>\n",
       "      <td>180.34</td>\n",
       "    </tr>\n",
       "    <tr>\n",
       "      <th>8</th>\n",
       "      <td>182.88</td>\n",
       "      <td>187.96</td>\n",
       "    </tr>\n",
       "  </tbody>\n",
       "</table>\n",
       "</div>"
      ],
      "text/plain": [
       "   height   reach\n",
       "2  190.50  193.04\n",
       "6  180.34  180.34\n",
       "8  182.88  187.96"
      ]
     },
     "execution_count": 180,
     "metadata": {},
     "output_type": "execute_result"
    }
   ],
   "source": [
    "# Take a look\n",
    "athlete_stats.loc[:10, [\"height\", \"reach\"]].dropna()"
   ]
  },
  {
   "cell_type": "markdown",
   "id": "ce0659be-b3d3-448f-9239-faab0ff62edb",
   "metadata": {},
   "source": [
    "Looks solid."
   ]
  },
  {
   "cell_type": "markdown",
   "id": "ee3106ba-c3e2-447e-8335-ff090447ac05",
   "metadata": {},
   "source": [
    "# Merging into the final dataset"
   ]
  },
  {
   "cell_type": "markdown",
   "id": "ddae1e77-c788-4b23-8cb4-53c2f427853a",
   "metadata": {},
   "source": [
    "Prepare mappings to map features to red/blue fighters:"
   ]
  },
  {
   "cell_type": "code",
   "execution_count": 181,
   "id": "1617344c-76aa-432a-b502-f2ad771803c2",
   "metadata": {},
   "outputs": [],
   "source": [
    "red_mappings = {\n",
    "    col: f\"red_fighter_{col}\" for col in athlete_stats.columns if \"fighter\" not in col\n",
    "}\n",
    "blue_mappings = {\n",
    "    col: f\"blue_fighter_{col}\" for col in athlete_stats.columns if \"fighter\" not in col\n",
    "}"
   ]
  },
  {
   "cell_type": "markdown",
   "id": "b305c203-bb1c-4968-b659-f148fb173146",
   "metadata": {},
   "source": [
    "Merging:"
   ]
  },
  {
   "cell_type": "code",
   "execution_count": 182,
   "id": "7d2cf4d9-2435-482d-b01b-0b58f0aa54a4",
   "metadata": {},
   "outputs": [],
   "source": [
    "# Merge reds\n",
    "stats = pd.merge(\n",
    "    fights_stats,\n",
    "    athlete_stats.rename(columns=red_mappings),\n",
    "    left_on=\"red_fighter_name\",\n",
    "    how=\"left\",\n",
    "    right_on=\"fighter_name\",\n",
    ")\n",
    "stats.drop(columns=\"fighter_name\", inplace=True)"
   ]
  },
  {
   "cell_type": "code",
   "execution_count": 183,
   "id": "938cb03c-1cf0-4dc5-a1b8-90be435f1acd",
   "metadata": {},
   "outputs": [],
   "source": [
    "# Merge blues\n",
    "stats = pd.merge(\n",
    "    stats,\n",
    "    athlete_stats.rename(columns=blue_mappings),\n",
    "    how=\"left\",\n",
    "    left_on=\"blue_fighter_name\",\n",
    "    right_on=\"fighter_name\",\n",
    ")\n",
    "stats.drop(columns=\"fighter_name\", inplace=True)"
   ]
  },
  {
   "cell_type": "code",
   "execution_count": 184,
   "id": "cf689f12-0a87-40ca-b9a7-e2efde29e4ce",
   "metadata": {},
   "outputs": [
    {
     "data": {
      "text/plain": [
       "blue_fighter_reach                   1628\n",
       "red_fighter_reach                     997\n",
       "blue_fighter_stance                   780\n",
       "blue_fighter_height                   675\n",
       "blue_fighter_sub_avg_cs               648\n",
       "blue_fighter_td_def_cs                648\n",
       "blue_fighter_td_acc_cs                648\n",
       "blue_fighter_td_avg_cs                648\n",
       "blue_fighter_str_def_cs               648\n",
       "blue_fighter_sapm_cs                  648\n",
       "blue_fighter_str_acc_cs               648\n",
       "blue_fighter_slpm_cs                  648\n",
       "red_fighter_stance                    599\n",
       "red_fighter_height                    541\n",
       "red_fighter_sapm_cs                   526\n",
       "red_fighter_slpm_cs                   526\n",
       "red_fighter_str_acc_cs                526\n",
       "red_fighter_str_def_cs                526\n",
       "red_fighter_td_avg_cs                 526\n",
       "red_fighter_td_acc_cs                 526\n",
       "red_fighter_td_def_cs                 526\n",
       "red_fighter_sub_avg_cs                526\n",
       "blue_fighter_sig_str_leg_tar_pct        0\n",
       "red_fighter_sig_str_head_tar_pct        0\n",
       "blue_fighter_sig_str_head_tar_pct       0\n",
       "dtype: int64"
      ]
     },
     "execution_count": 184,
     "metadata": {},
     "output_type": "execute_result"
    }
   ],
   "source": [
    "stats.isna().sum().sort_values(ascending=False)[:25] # TEST"
   ]
  },
  {
   "cell_type": "markdown",
   "id": "1bfaf2e6-836c-4a57-9a4e-ef83b2d783fb",
   "metadata": {},
   "source": [
    "Taking a look at the num of rows and cols:"
   ]
  },
  {
   "cell_type": "code",
   "execution_count": 185,
   "id": "fbffdaf7-26e1-44c8-9f16-13cd9a48b05a",
   "metadata": {},
   "outputs": [
    {
     "data": {
      "text/plain": [
       "(7754, 72)"
      ]
     },
     "execution_count": 185,
     "metadata": {},
     "output_type": "execute_result"
    }
   ],
   "source": [
    "stats.shape"
   ]
  },
  {
   "cell_type": "markdown",
   "id": "513a7ead-900d-4406-a804-683f828ad169",
   "metadata": {},
   "source": [
    "Merged columns:"
   ]
  },
  {
   "cell_type": "code",
   "execution_count": 186,
   "id": "862be3c8-31e6-496e-a61a-96d23b55c591",
   "metadata": {},
   "outputs": [
    {
     "data": {
      "text/plain": [
       "Index(['red_fighter_name', 'blue_fighter_name', 'event_date',\n",
       "       'red_fighter_result', 'blue_fighter_result', 'method', 'round', 'time',\n",
       "       'time_format', 'bout_type', 'event_name', 'event_location',\n",
       "       'red_fighter_KD', 'blue_fighter_KD', 'red_fighter_sig_str_pct',\n",
       "       'blue_fighter_sig_str_pct', 'red_fighter_total_str',\n",
       "       'blue_fighter_total_str', 'red_fighter_TD_pct', 'blue_fighter_TD_pct',\n",
       "       'red_fighter_sub_att', 'blue_fighter_sub_att', 'red_fighter_rev',\n",
       "       'blue_fighter_rev', 'red_fighter_ctrl', 'blue_fighter_ctrl',\n",
       "       'red_fighter_sig_str_head_acc', 'blue_fighter_sig_str_head_acc',\n",
       "       'red_fighter_sig_str_body_acc', 'blue_fighter_sig_str_body_acc',\n",
       "       'red_fighter_sig_str_leg_acc', 'blue_fighter_sig_str_leg_acc',\n",
       "       'red_fighter_sig_str_distance_acc', 'blue_fighter_sig_str_distance_acc',\n",
       "       'red_fighter_sig_str_clinch_acc', 'blue_fighter_sig_str_clinch_acc',\n",
       "       'red_fighter_sig_str_ground_acc', 'blue_fighter_sig_str_ground_acc',\n",
       "       'red_fighter_sig_str_head_tar_pct', 'blue_fighter_sig_str_head_tar_pct',\n",
       "       'red_fighter_sig_str_body_tar_pct', 'blue_fighter_sig_str_body_tar_pct',\n",
       "       'red_fighter_sig_str_leg_tar_pct', 'blue_fighter_sig_str_leg_tar_pct',\n",
       "       'red_fighter_sig_str_distance_pos_pct',\n",
       "       'blue_fighter_sig_str_distance_pos_pct',\n",
       "       'red_fighter_sig_str_clinch_pos_pct',\n",
       "       'blue_fighter_sig_str_clinch_pos_pct',\n",
       "       'red_fighter_sig_str_ground_pos_pct',\n",
       "       'blue_fighter_sig_str_ground_pos_pct', 'red_fighter_height',\n",
       "       'red_fighter_reach', 'red_fighter_stance', 'red_fighter_slpm_cs',\n",
       "       'red_fighter_str_acc_cs', 'red_fighter_sapm_cs',\n",
       "       'red_fighter_str_def_cs', 'red_fighter_td_avg_cs',\n",
       "       'red_fighter_td_acc_cs', 'red_fighter_td_def_cs',\n",
       "       'red_fighter_sub_avg_cs', 'blue_fighter_height', 'blue_fighter_reach',\n",
       "       'blue_fighter_stance', 'blue_fighter_slpm_cs',\n",
       "       'blue_fighter_str_acc_cs', 'blue_fighter_sapm_cs',\n",
       "       'blue_fighter_str_def_cs', 'blue_fighter_td_avg_cs',\n",
       "       'blue_fighter_td_acc_cs', 'blue_fighter_td_def_cs',\n",
       "       'blue_fighter_sub_avg_cs'],\n",
       "      dtype='object')"
      ]
     },
     "execution_count": 186,
     "metadata": {},
     "output_type": "execute_result"
    }
   ],
   "source": [
    "stats.columns"
   ]
  },
  {
   "cell_type": "markdown",
   "id": "2dcf59ed-651d-4c98-b606-b43054b1f2c7",
   "metadata": {},
   "source": [
    "Looks good, let's now work on the merged dataset."
   ]
  },
  {
   "cell_type": "markdown",
   "id": "a5317c1e-cc7f-4318-87a4-53360372ab79",
   "metadata": {
    "panel-layout": {
     "height": 60.616668701171875,
     "visible": true,
     "width": 100
    }
   },
   "source": [
    "## Data preprocessing"
   ]
  },
  {
   "cell_type": "markdown",
   "id": "d81c643c-7bcc-411a-a982-607602b01699",
   "metadata": {
    "panel-layout": {
     "height": 60.616668701171875,
     "visible": true,
     "width": 100
    }
   },
   "source": [
    "### Data Cleaning"
   ]
  },
  {
   "cell_type": "markdown",
   "id": "6bbab48c-1926-4652-915a-fbaa94160df2",
   "metadata": {},
   "source": [
    "#### Examining NaNs"
   ]
  },
  {
   "cell_type": "code",
   "execution_count": 187,
   "id": "b392d156-f9c8-4139-a380-57ead00b8515",
   "metadata": {
    "panel-layout": {
     "height": 556.75,
     "visible": true,
     "width": 100
    }
   },
   "outputs": [
    {
     "data": {
      "text/plain": [
       "14612"
      ]
     },
     "execution_count": 187,
     "metadata": {},
     "output_type": "execute_result"
    }
   ],
   "source": [
    "stats.isna().sum().sum()"
   ]
  },
  {
   "cell_type": "markdown",
   "id": "ed029a37-4458-40f4-b9cb-dc7482612bec",
   "metadata": {},
   "source": [
    "Ok, since we merged on **left** `fights_stats`, if the `athlete_stats` didn't have a fighter in its records, the `athlete_stats` columns **become NaNs**."
   ]
  },
  {
   "cell_type": "code",
   "execution_count": 188,
   "id": "9b3e4146-7c8a-432b-94dd-fda3ec1eadd3",
   "metadata": {},
   "outputs": [
    {
     "data": {
      "text/plain": [
       "blue_fighter_reach                   1628\n",
       "red_fighter_reach                     997\n",
       "blue_fighter_stance                   780\n",
       "blue_fighter_height                   675\n",
       "blue_fighter_sub_avg_cs               648\n",
       "blue_fighter_td_def_cs                648\n",
       "blue_fighter_td_acc_cs                648\n",
       "blue_fighter_td_avg_cs                648\n",
       "blue_fighter_str_def_cs               648\n",
       "blue_fighter_sapm_cs                  648\n",
       "blue_fighter_str_acc_cs               648\n",
       "blue_fighter_slpm_cs                  648\n",
       "red_fighter_stance                    599\n",
       "red_fighter_height                    541\n",
       "red_fighter_sapm_cs                   526\n",
       "red_fighter_slpm_cs                   526\n",
       "red_fighter_str_acc_cs                526\n",
       "red_fighter_str_def_cs                526\n",
       "red_fighter_td_avg_cs                 526\n",
       "red_fighter_td_acc_cs                 526\n",
       "red_fighter_td_def_cs                 526\n",
       "red_fighter_sub_avg_cs                526\n",
       "blue_fighter_sig_str_leg_tar_pct        0\n",
       "red_fighter_sig_str_head_tar_pct        0\n",
       "blue_fighter_sig_str_head_tar_pct       0\n",
       "dtype: int64"
      ]
     },
     "execution_count": 188,
     "metadata": {},
     "output_type": "execute_result"
    }
   ],
   "source": [
    "stats.isna().sum().sort_values(ascending=False)[:25]"
   ]
  },
  {
   "cell_type": "markdown",
   "id": "4ad2ea3a-b7aa-44a6-8ed7-337fcb580c78",
   "metadata": {},
   "source": [
    "Our dataset also has NaN placeholders like: `'-'`, `'-'`, `'---'`. Which are essentially **fillers** on the ufcstats.com and they're assigned as a value to an inactive stat, **effectively 0**. So let's examine these:"
   ]
  },
  {
   "cell_type": "code",
   "execution_count": 189,
   "id": "821e8fce-35da-41b0-ad31-68c122dd2d64",
   "metadata": {},
   "outputs": [
    {
     "data": {
      "text/plain": [
       "Index(['red_fighter_KD', 'blue_fighter_KD', 'red_fighter_sig_str_pct',\n",
       "       'blue_fighter_sig_str_pct', 'red_fighter_total_str',\n",
       "       'blue_fighter_total_str', 'red_fighter_TD_pct', 'blue_fighter_TD_pct',\n",
       "       'red_fighter_sub_att', 'blue_fighter_sub_att', 'red_fighter_rev',\n",
       "       'blue_fighter_rev', 'red_fighter_ctrl', 'blue_fighter_ctrl',\n",
       "       'red_fighter_sig_str_head_acc', 'blue_fighter_sig_str_head_acc',\n",
       "       'red_fighter_sig_str_body_acc', 'blue_fighter_sig_str_body_acc',\n",
       "       'red_fighter_sig_str_leg_acc', 'blue_fighter_sig_str_leg_acc',\n",
       "       'red_fighter_sig_str_distance_acc', 'blue_fighter_sig_str_distance_acc',\n",
       "       'red_fighter_sig_str_clinch_acc', 'blue_fighter_sig_str_clinch_acc',\n",
       "       'red_fighter_sig_str_ground_acc', 'blue_fighter_sig_str_ground_acc',\n",
       "       'red_fighter_sig_str_head_tar_pct', 'blue_fighter_sig_str_head_tar_pct',\n",
       "       'red_fighter_sig_str_body_tar_pct', 'blue_fighter_sig_str_body_tar_pct',\n",
       "       'red_fighter_sig_str_leg_tar_pct', 'blue_fighter_sig_str_leg_tar_pct',\n",
       "       'red_fighter_sig_str_distance_pos_pct',\n",
       "       'blue_fighter_sig_str_distance_pos_pct',\n",
       "       'red_fighter_sig_str_clinch_pos_pct',\n",
       "       'blue_fighter_sig_str_clinch_pos_pct',\n",
       "       'red_fighter_sig_str_ground_pos_pct',\n",
       "       'blue_fighter_sig_str_ground_pos_pct'],\n",
       "      dtype='object')"
      ]
     },
     "execution_count": 189,
     "metadata": {},
     "output_type": "execute_result"
    }
   ],
   "source": [
    "nan_placeholders = [\"-\", \"--\", \"---\"]\n",
    "# Mask that returns True/False based on a value matching the set of placeholders\n",
    "mask = stats.isin(nan_placeholders)\n",
    "\n",
    "# Get cols where there's at least one True\n",
    "nan_cols = stats.loc[:, mask.any(axis=0)].columns\n",
    "nan_cols"
   ]
  },
  {
   "cell_type": "markdown",
   "id": "736bc80f-54ce-40c9-9db2-2923ede9cad0",
   "metadata": {},
   "source": [
    "Let's take a look at the counts of NaN placeholders in these columns:"
   ]
  },
  {
   "cell_type": "code",
   "execution_count": 190,
   "id": "c446862a-f523-4e16-b8af-4beeccdd49ec",
   "metadata": {},
   "outputs": [
    {
     "data": {
      "text/plain": [
       "red_fighter_KD                             21\n",
       "blue_fighter_sig_str_distance_acc          21\n",
       "red_fighter_sig_str_clinch_acc             21\n",
       "blue_fighter_sig_str_clinch_acc            21\n",
       "red_fighter_sig_str_ground_acc             21\n",
       "blue_fighter_sig_str_ground_acc            21\n",
       "red_fighter_sig_str_head_tar_pct           21\n",
       "blue_fighter_sig_str_head_tar_pct          21\n",
       "red_fighter_sig_str_body_tar_pct           21\n",
       "blue_fighter_sig_str_body_tar_pct          21\n",
       "red_fighter_sig_str_leg_tar_pct            21\n",
       "blue_fighter_sig_str_leg_tar_pct           21\n",
       "red_fighter_sig_str_distance_pos_pct       21\n",
       "blue_fighter_sig_str_distance_pos_pct      21\n",
       "red_fighter_sig_str_clinch_pos_pct         21\n",
       "blue_fighter_sig_str_clinch_pos_pct        21\n",
       "red_fighter_sig_str_distance_acc           21\n",
       "blue_fighter_sig_str_leg_acc               21\n",
       "red_fighter_sig_str_leg_acc                21\n",
       "blue_fighter_sig_str_body_acc              21\n",
       "blue_fighter_KD                            21\n",
       "red_fighter_total_str                      21\n",
       "blue_fighter_total_str                     21\n",
       "red_fighter_sig_str_ground_pos_pct         21\n",
       "blue_fighter_sub_att                       21\n",
       "red_fighter_rev                            21\n",
       "red_fighter_sub_att                        21\n",
       "red_fighter_sig_str_head_acc               21\n",
       "blue_fighter_sig_str_head_acc              21\n",
       "red_fighter_sig_str_body_acc               21\n",
       "blue_fighter_rev                           21\n",
       "blue_fighter_sig_str_ground_pos_pct        21\n",
       "red_fighter_sig_str_pct                    58\n",
       "blue_fighter_sig_str_pct                   77\n",
       "red_fighter_ctrl                          199\n",
       "blue_fighter_ctrl                         199\n",
       "red_fighter_TD_pct                       2481\n",
       "blue_fighter_TD_pct                      2921\n",
       "dtype: int64"
      ]
     },
     "execution_count": 190,
     "metadata": {},
     "output_type": "execute_result"
    }
   ],
   "source": [
    "# Get the counts of NaN placeholders per NaN columns and sort\n",
    "nan_counts = (stats[nan_cols].isin(nan_placeholders)).sum().sort_values(ascending=True)\n",
    "nan_counts"
   ]
  },
  {
   "cell_type": "markdown",
   "id": "605e03b8-b96c-4938-a401-f1928075e58b",
   "metadata": {},
   "source": [
    "Ok, let's inspect these rows to have an idea on how we are going to treat these NaNs. <br>\n",
    "Let's create a function for inspection:"
   ]
  },
  {
   "cell_type": "code",
   "execution_count": 191,
   "id": "9063acaa-f980-41fe-b2ab-4113c875b124",
   "metadata": {},
   "outputs": [],
   "source": [
    "def inspect_nans(df, cols_to_inspect):\n",
    "    \"\"\"Creates a mask that assigns True/False to every single value\n",
    "    based on whether the value is in the specified set set of NaN placeholders.\n",
    "    It then applies that mask on top of the dataframe that returns all of the rows\n",
    "    and the given columns where that value is True, i.e. the value is one of the NaN placeholders.\n",
    "    \"\"\"\n",
    "\n",
    "    nan_placeholders = [\"-\", \"--\", \"---\"]\n",
    "\n",
    "    # Mask that returns True/False based on a value matching the set of placeholders\n",
    "    mask = df.loc[:, cols_to_inspect].isin(nan_placeholders)\n",
    "    # Get cols where there's at least one True\n",
    "    nan_rows = df.loc[mask.any(axis=1), :]\n",
    "\n",
    "    return nan_rows"
   ]
  },
  {
   "cell_type": "markdown",
   "id": "e37b98eb-4175-4c58-8d97-cd9b171b41d0",
   "metadata": {},
   "source": [
    "Let's start examining. We'll **examine the first 32 NaN columns**, where **the number of NaN placeholders is the same = 21**. I assume these entries are from the old UFC ~ 1-10 events, where the data wasn't even recorded. But assuming doesn't cut it. Let's find out:"
   ]
  },
  {
   "cell_type": "markdown",
   "id": "3220e476-41a1-4027-819e-5bc775367d0c",
   "metadata": {},
   "source": [
    "Let's grab these columns first:"
   ]
  },
  {
   "cell_type": "code",
   "execution_count": 192,
   "id": "1f83f92c-1421-424f-9729-fcf6e81813a4",
   "metadata": {},
   "outputs": [
    {
     "data": {
      "text/plain": [
       "(['red_fighter_KD',\n",
       "  'blue_fighter_sig_str_distance_acc',\n",
       "  'red_fighter_sig_str_clinch_acc',\n",
       "  'blue_fighter_sig_str_clinch_acc',\n",
       "  'red_fighter_sig_str_ground_acc',\n",
       "  'blue_fighter_sig_str_ground_acc',\n",
       "  'red_fighter_sig_str_head_tar_pct',\n",
       "  'blue_fighter_sig_str_head_tar_pct',\n",
       "  'red_fighter_sig_str_body_tar_pct',\n",
       "  'blue_fighter_sig_str_body_tar_pct',\n",
       "  'red_fighter_sig_str_leg_tar_pct',\n",
       "  'blue_fighter_sig_str_leg_tar_pct',\n",
       "  'red_fighter_sig_str_distance_pos_pct',\n",
       "  'blue_fighter_sig_str_distance_pos_pct',\n",
       "  'red_fighter_sig_str_clinch_pos_pct',\n",
       "  'blue_fighter_sig_str_clinch_pos_pct',\n",
       "  'red_fighter_sig_str_distance_acc',\n",
       "  'blue_fighter_sig_str_leg_acc',\n",
       "  'red_fighter_sig_str_leg_acc',\n",
       "  'blue_fighter_sig_str_body_acc',\n",
       "  'blue_fighter_KD',\n",
       "  'red_fighter_total_str',\n",
       "  'blue_fighter_total_str',\n",
       "  'red_fighter_sig_str_ground_pos_pct',\n",
       "  'blue_fighter_sub_att',\n",
       "  'red_fighter_rev',\n",
       "  'red_fighter_sub_att',\n",
       "  'red_fighter_sig_str_head_acc',\n",
       "  'blue_fighter_sig_str_head_acc',\n",
       "  'red_fighter_sig_str_body_acc',\n",
       "  'blue_fighter_rev',\n",
       "  'blue_fighter_sig_str_ground_pos_pct'],\n",
       " 32)"
      ]
     },
     "execution_count": 192,
     "metadata": {},
     "output_type": "execute_result"
    }
   ],
   "source": [
    "# Get a bool mask where the number of NaNs is 21\n",
    "c = nan_counts == 21\n",
    "# Get columns of interest only where the the mask is == True\n",
    "fsttwentyone_nancols = c[c].index.tolist()\n",
    "# Check the cols, and their count\n",
    "fsttwentyone_nancols, len(fsttwentyone_nancols)"
   ]
  },
  {
   "cell_type": "markdown",
   "id": "470815d3-163c-4dde-ac0f-7e908abf1ef7",
   "metadata": {},
   "source": [
    "Good. Let's inspect now:"
   ]
  },
  {
   "cell_type": "code",
   "execution_count": 193,
   "id": "6d0abe94-35ff-4833-b4b7-c12ff8dc1e0b",
   "metadata": {},
   "outputs": [
    {
     "data": {
      "text/plain": [
       "event_date\n",
       "07/12/1996    3\n",
       "13/03/1998    2\n",
       "07/02/1997    2\n",
       "20/09/1996    2\n",
       "16/12/1995    2\n",
       "08/09/1995    2\n",
       "14/07/1995    2\n",
       "16/12/1994    2\n",
       "16/10/1998    1\n",
       "15/05/1998    1\n",
       "12/07/1996    1\n",
       "16/02/1996    1\n",
       "Name: count, dtype: int64"
      ]
     },
     "execution_count": 193,
     "metadata": {},
     "output_type": "execute_result"
    }
   ],
   "source": [
    "fsttwentyone_nanrows = inspect_nans(stats, fsttwentyone_nancols)\n",
    "fsttwentyone_nanrows.event_date.value_counts()"
   ]
  },
  {
   "cell_type": "markdown",
   "id": "ae588a60-4bc5-48af-9e62-2be1e6cd2ca3",
   "metadata": {},
   "source": [
    "Indeed, they're all from the 1990's. which means the entries are just **not filled**, and not technically 0, so we will **make these as NaNs for now** so that we **do not lose information** in other columns, and will **drop these NaNs, once we will be doing EDA on these features.**"
   ]
  },
  {
   "cell_type": "markdown",
   "id": "9e65dd2b-d274-472e-910a-da1b6064bccc",
   "metadata": {},
   "source": [
    "Now, let's inspect the `red_fighter_sig_str_pct` and `blue_fighter_sig_str_pct` features. My guess is that the NaNs come for two, but mostly one reason - A fighter did not land any significant strikes because:\n",
    "* **They lost instantly** in the first round\n",
    "* **They were completely dominated** thus being unable to score a single significant punch to their opponent."
   ]
  },
  {
   "cell_type": "markdown",
   "id": "4502ed43-ab45-48e8-b490-c53006c1f804",
   "metadata": {},
   "source": [
    "Let's take a look:"
   ]
  },
  {
   "cell_type": "code",
   "execution_count": 194,
   "id": "76479c33-53a7-4163-a08a-4b6c6e49cf4f",
   "metadata": {},
   "outputs": [
    {
     "data": {
      "text/plain": [
       "round\n",
       "1    104\n",
       "2      3\n",
       "Name: count, dtype: int64"
      ]
     },
     "execution_count": 194,
     "metadata": {},
     "output_type": "execute_result"
    }
   ],
   "source": [
    "# Columns of interest\n",
    "sigstr_nancols = ['red_fighter_sig_str_pct', 'blue_fighter_sig_str_pct']\n",
    "sigstr_nanrows = inspect_nans(stats, sigstr_nancols)\n",
    "sigstr_nanrows['round'].value_counts()"
   ]
  },
  {
   "cell_type": "markdown",
   "id": "ae6913f7-bbfb-414c-998b-25f2f287294b",
   "metadata": {},
   "source": [
    "Indeed, in 97% of the cases these fights **ended in the first round**, which means **the NaNs** technically **are just 0's** and thus **can be safely replaced with 0's.**"
   ]
  },
  {
   "cell_type": "markdown",
   "id": "2d9fb6a0-87d2-4b82-9d9a-f41d8fd35545",
   "metadata": {},
   "source": [
    "Let's take a look at `red_fighter_ctrl` and `blue_fighter_ctrl`, which both have the same number of NaNs = 199. Now, it is important to know what is `ctrl` - `control` in the context of UFC. `Control` - is **the amount of time a fighter maintains top (dominant) position in grappling**, effectively, \"*controlling*\" their opponent."
   ]
  },
  {
   "cell_type": "markdown",
   "id": "184948bf-e113-43a8-9121-5a508a0cefb6",
   "metadata": {},
   "source": [
    "So, my assumption is that these features are from the same rows, where the fighters just didn't grapple at all, and used only striking. <br>Let's \"Sherlock Holmes\" this:"
   ]
  },
  {
   "cell_type": "code",
   "execution_count": 195,
   "id": "64c1dc6d-2411-403a-9d10-7504ef4dcdd9",
   "metadata": {},
   "outputs": [
    {
     "data": {
      "text/html": [
       "<div>\n",
       "<style scoped>\n",
       "    .dataframe tbody tr th:only-of-type {\n",
       "        vertical-align: middle;\n",
       "    }\n",
       "\n",
       "    .dataframe tbody tr th {\n",
       "        vertical-align: top;\n",
       "    }\n",
       "\n",
       "    .dataframe thead th {\n",
       "        text-align: right;\n",
       "    }\n",
       "</style>\n",
       "<table border=\"1\" class=\"dataframe\">\n",
       "  <thead>\n",
       "    <tr style=\"text-align: right;\">\n",
       "      <th></th>\n",
       "      <th>red_fighter_sig_str_ground_pos_pct</th>\n",
       "      <th>blue_fighter_sig_str_ground_pos_pct</th>\n",
       "    </tr>\n",
       "  </thead>\n",
       "  <tbody>\n",
       "    <tr>\n",
       "      <th>7546</th>\n",
       "      <td>80</td>\n",
       "      <td>0</td>\n",
       "    </tr>\n",
       "    <tr>\n",
       "      <th>7556</th>\n",
       "      <td>72</td>\n",
       "      <td>100</td>\n",
       "    </tr>\n",
       "    <tr>\n",
       "      <th>7557</th>\n",
       "      <td>0</td>\n",
       "      <td>0</td>\n",
       "    </tr>\n",
       "    <tr>\n",
       "      <th>7558</th>\n",
       "      <td>40</td>\n",
       "      <td>66</td>\n",
       "    </tr>\n",
       "    <tr>\n",
       "      <th>7559</th>\n",
       "      <td>4</td>\n",
       "      <td>0</td>\n",
       "    </tr>\n",
       "    <tr>\n",
       "      <th>...</th>\n",
       "      <td>...</td>\n",
       "      <td>...</td>\n",
       "    </tr>\n",
       "    <tr>\n",
       "      <th>7749</th>\n",
       "      <td>87</td>\n",
       "      <td>0</td>\n",
       "    </tr>\n",
       "    <tr>\n",
       "      <th>7750</th>\n",
       "      <td>50</td>\n",
       "      <td>0</td>\n",
       "    </tr>\n",
       "    <tr>\n",
       "      <th>7751</th>\n",
       "      <td>81</td>\n",
       "      <td>25</td>\n",
       "    </tr>\n",
       "    <tr>\n",
       "      <th>7752</th>\n",
       "      <td>0</td>\n",
       "      <td>0</td>\n",
       "    </tr>\n",
       "    <tr>\n",
       "      <th>7753</th>\n",
       "      <td>0</td>\n",
       "      <td>0</td>\n",
       "    </tr>\n",
       "  </tbody>\n",
       "</table>\n",
       "<p>199 rows × 2 columns</p>\n",
       "</div>"
      ],
      "text/plain": [
       "     red_fighter_sig_str_ground_pos_pct blue_fighter_sig_str_ground_pos_pct\n",
       "7546                                 80                                   0\n",
       "7556                                 72                                 100\n",
       "7557                                  0                                   0\n",
       "7558                                 40                                  66\n",
       "7559                                  4                                   0\n",
       "...                                 ...                                 ...\n",
       "7749                                 87                                   0\n",
       "7750                                 50                                   0\n",
       "7751                                 81                                  25\n",
       "7752                                  0                                   0\n",
       "7753                                  0                                   0\n",
       "\n",
       "[199 rows x 2 columns]"
      ]
     },
     "execution_count": 195,
     "metadata": {},
     "output_type": "execute_result"
    }
   ],
   "source": [
    "ctrl_nancols = [\"red_fighter_ctrl\", \"blue_fighter_ctrl\"]\n",
    "ctrl_nanrows = inspect_nans(stats, ctrl_nancols)\n",
    "ctrl_nanrows[[\"red_fighter_sig_str_ground_pos_pct\", \"blue_fighter_sig_str_ground_pos_pct\"]]"
   ]
  },
  {
   "cell_type": "markdown",
   "id": "38b34d55-d109-4270-ad18-040dd91d18fa",
   "metadata": {},
   "source": [
    "Ha! I was wrong in this one, turns out these are just also the old fights, where this data wasn't recorded:"
   ]
  },
  {
   "cell_type": "code",
   "execution_count": 196,
   "id": "663d94bc-9c0c-49fd-8c88-d3ea8969a4cc",
   "metadata": {},
   "outputs": [
    {
     "data": {
      "text/plain": [
       "event_date\n",
       "11/03/1994    15\n",
       "08/09/1995    10\n",
       "16/12/1994    10\n",
       "14/07/1995    10\n",
       "07/12/1996    10\n",
       "15/05/1998     9\n",
       "07/02/1997     9\n",
       "07/04/1995     9\n",
       "16/12/1995     9\n",
       "16/02/1996     9\n",
       "12/07/1996     9\n",
       "30/05/1997     9\n",
       "27/07/1997     9\n",
       "20/09/1996     8\n",
       "13/03/1998     8\n",
       "16/10/1998     8\n",
       "07/05/1999     7\n",
       "17/05/1996     7\n",
       "17/10/1997     7\n",
       "08/01/1999     7\n",
       "05/03/1999     7\n",
       "21/12/1997     6\n",
       "09/09/1994     6\n",
       "24/09/1999     1\n",
       "Name: count, dtype: int64"
      ]
     },
     "execution_count": 196,
     "metadata": {},
     "output_type": "execute_result"
    }
   ],
   "source": [
    "ctrl_nanrows['event_date'].value_counts()"
   ]
  },
  {
   "cell_type": "markdown",
   "id": "69a95a65-b5c2-4306-821e-eaf3ff8f9700",
   "metadata": {},
   "source": [
    "Again, this **data wasn't recorded**, so technically, **it is not 0's**, there definitelly has been some control from either of the fighters, at least in some columns. So, since the data isn't technically 0, we will **keep these as NaNs for now** as well."
   ]
  },
  {
   "cell_type": "markdown",
   "id": "7c72624d-6f51-40e8-8098-a5e89233d5cd",
   "metadata": {},
   "source": [
    "Let's take a look at the final group of features: `red_fighter_TD_pct`, `blue_fighter_TD_pct`. These features are just the percentage of successfull takedowns. So my assumption is that, these features are empty because:\n",
    "* A fighter just **didn't try any takedowns** and used striking exclusively in the fight\n",
    "* A fighter tried taking their opponent down, **but didn't succeed**, thus gaining 0 out of x takedowns percentage ratio, which in that case is represented as \"-\"  on the official ufcstats.com, where the data was scraped from."
   ]
  },
  {
   "cell_type": "markdown",
   "id": "c9d35022-5146-47df-bfb8-49a704e99a74",
   "metadata": {},
   "source": [
    "Let's take a look:"
   ]
  },
  {
   "cell_type": "code",
   "execution_count": 197,
   "id": "1b4ed452-fdce-49c0-b7e0-3849a406a480",
   "metadata": {},
   "outputs": [
    {
     "data": {
      "text/html": [
       "<div>\n",
       "<style scoped>\n",
       "    .dataframe tbody tr th:only-of-type {\n",
       "        vertical-align: middle;\n",
       "    }\n",
       "\n",
       "    .dataframe tbody tr th {\n",
       "        vertical-align: top;\n",
       "    }\n",
       "\n",
       "    .dataframe thead th {\n",
       "        text-align: right;\n",
       "    }\n",
       "</style>\n",
       "<table border=\"1\" class=\"dataframe\">\n",
       "  <thead>\n",
       "    <tr style=\"text-align: right;\">\n",
       "      <th></th>\n",
       "      <th>red_fighter_TD_pct</th>\n",
       "      <th>red_fighter_sig_str_ground_pos_pct</th>\n",
       "      <th>blue_fighter_TD_pct</th>\n",
       "      <th>blue_fighter_sig_str_ground_pos_pct</th>\n",
       "    </tr>\n",
       "  </thead>\n",
       "  <tbody>\n",
       "    <tr>\n",
       "      <th>0</th>\n",
       "      <td>100</td>\n",
       "      <td>5</td>\n",
       "      <td>---</td>\n",
       "      <td>0</td>\n",
       "    </tr>\n",
       "    <tr>\n",
       "      <th>1</th>\n",
       "      <td>---</td>\n",
       "      <td>0</td>\n",
       "      <td>50</td>\n",
       "      <td>100</td>\n",
       "    </tr>\n",
       "    <tr>\n",
       "      <th>2</th>\n",
       "      <td>---</td>\n",
       "      <td>0</td>\n",
       "      <td>0</td>\n",
       "      <td>0</td>\n",
       "    </tr>\n",
       "    <tr>\n",
       "      <th>4</th>\n",
       "      <td>---</td>\n",
       "      <td>0</td>\n",
       "      <td>---</td>\n",
       "      <td>0</td>\n",
       "    </tr>\n",
       "    <tr>\n",
       "      <th>5</th>\n",
       "      <td>---</td>\n",
       "      <td>0</td>\n",
       "      <td>---</td>\n",
       "      <td>0</td>\n",
       "    </tr>\n",
       "    <tr>\n",
       "      <th>...</th>\n",
       "      <td>...</td>\n",
       "      <td>...</td>\n",
       "      <td>...</td>\n",
       "      <td>...</td>\n",
       "    </tr>\n",
       "    <tr>\n",
       "      <th>7748</th>\n",
       "      <td>100</td>\n",
       "      <td>100</td>\n",
       "      <td>---</td>\n",
       "      <td>0</td>\n",
       "    </tr>\n",
       "    <tr>\n",
       "      <th>7749</th>\n",
       "      <td>---</td>\n",
       "      <td>87</td>\n",
       "      <td>100</td>\n",
       "      <td>0</td>\n",
       "    </tr>\n",
       "    <tr>\n",
       "      <th>7751</th>\n",
       "      <td>100</td>\n",
       "      <td>81</td>\n",
       "      <td>---</td>\n",
       "      <td>25</td>\n",
       "    </tr>\n",
       "    <tr>\n",
       "      <th>7752</th>\n",
       "      <td>0</td>\n",
       "      <td>0</td>\n",
       "      <td>---</td>\n",
       "      <td>0</td>\n",
       "    </tr>\n",
       "    <tr>\n",
       "      <th>7753</th>\n",
       "      <td>100</td>\n",
       "      <td>0</td>\n",
       "      <td>---</td>\n",
       "      <td>0</td>\n",
       "    </tr>\n",
       "  </tbody>\n",
       "</table>\n",
       "<p>4469 rows × 4 columns</p>\n",
       "</div>"
      ],
      "text/plain": [
       "     red_fighter_TD_pct red_fighter_sig_str_ground_pos_pct  \\\n",
       "0                   100                                  5   \n",
       "1                   ---                                  0   \n",
       "2                   ---                                  0   \n",
       "4                   ---                                  0   \n",
       "5                   ---                                  0   \n",
       "...                 ...                                ...   \n",
       "7748                100                                100   \n",
       "7749                ---                                 87   \n",
       "7751                100                                 81   \n",
       "7752                  0                                  0   \n",
       "7753                100                                  0   \n",
       "\n",
       "     blue_fighter_TD_pct blue_fighter_sig_str_ground_pos_pct  \n",
       "0                    ---                                   0  \n",
       "1                     50                                 100  \n",
       "2                      0                                   0  \n",
       "4                    ---                                   0  \n",
       "5                    ---                                   0  \n",
       "...                  ...                                 ...  \n",
       "7748                 ---                                   0  \n",
       "7749                 100                                   0  \n",
       "7751                 ---                                  25  \n",
       "7752                 ---                                   0  \n",
       "7753                 ---                                   0  \n",
       "\n",
       "[4469 rows x 4 columns]"
      ]
     },
     "execution_count": 197,
     "metadata": {},
     "output_type": "execute_result"
    }
   ],
   "source": [
    "tdpct_nancols = [\"red_fighter_TD_pct\", \"blue_fighter_TD_pct\"]\n",
    "tdpct_nanrows = inspect_nans(stats, tdpct_nancols)\n",
    "tdpct_nanrows[[\"red_fighter_TD_pct\", \"red_fighter_sig_str_ground_pos_pct\", \"blue_fighter_TD_pct\", \"blue_fighter_sig_str_ground_pos_pct\"]]"
   ]
  },
  {
   "cell_type": "markdown",
   "id": "02ffd2e9-a8f7-4731-8bfc-4c9064911b4c",
   "metadata": {},
   "source": [
    "It's not that one sided, but it looks like there's a lot of cases where my assumption #1 confirms, let's take a deeper look:"
   ]
  },
  {
   "cell_type": "code",
   "execution_count": 198,
   "id": "469ec622-1674-4139-8a48-3f5815ad5c17",
   "metadata": {},
   "outputs": [
    {
     "data": {
      "text/plain": [
       "red_fighter_TD_pct  red_fighter_ctrl\n",
       "---                 0:00                722\n",
       "                    0:02                142\n",
       "0                   0:00                114\n",
       "---                 0:03                109\n",
       "                    0:01                 88\n",
       "Name: count, dtype: int64"
      ]
     },
     "execution_count": 198,
     "metadata": {},
     "output_type": "execute_result"
    }
   ],
   "source": [
    "tdpct_nanrows.loc[(tdpct_nanrows[\"red_fighter_TD_pct\"].isin(nan_placeholders)).any(axis=0)\n",
    "                   | (tdpct_nanrows[\"red_fighter_ctrl\"] == \"0\")] \\\n",
    "    [[\"red_fighter_TD_pct\", \"red_fighter_ctrl\"]].value_counts().head(5)"
   ]
  },
  {
   "cell_type": "code",
   "execution_count": 199,
   "id": "a6b5cf70-d8a8-406b-b651-e0216cd95b48",
   "metadata": {},
   "outputs": [
    {
     "data": {
      "text/plain": [
       "blue_fighter_TD_pct  blue_fighter_ctrl\n",
       "---                  0:00                 1124\n",
       "0                    0:00                  144\n",
       "---                  0:02                  124\n",
       "                     --                    102\n",
       "                     0:03                   84\n",
       "Name: count, dtype: int64"
      ]
     },
     "execution_count": 199,
     "metadata": {},
     "output_type": "execute_result"
    }
   ],
   "source": [
    "tdpct_nanrows.loc[(tdpct_nanrows[\"blue_fighter_TD_pct\"].isin(nan_placeholders)).any(axis=0)\n",
    "                   | (tdpct_nanrows[\"blue_fighter_ctrl\"] == \"0\")] \\\n",
    "    [[\"blue_fighter_TD_pct\", \"blue_fighter_ctrl\"]].value_counts().head(5)"
   ]
  },
  {
   "cell_type": "markdown",
   "id": "7865cd28-2c52-41d6-babb-a7644507c4e7",
   "metadata": {},
   "source": [
    "Observations:\n",
    "> The top 1 combination is where `red/blue_fighter_TD_pct` = `---`, as well as in the top 2 and 3, which is cross-checked with `red/blue_fighter_ctrl` column, that shows that the control time. We can observe that the top most groups, indeed, there were no grappling action involved in those fights.\n",
    "> \n",
    "> There are a few seconds 1-4 seconds of control time, but the fighter could have been taken down by their opponent, but then reversed and scored a few control seconds."
   ]
  },
  {
   "cell_type": "markdown",
   "id": "558621e8-2776-4055-a41b-97161fa760a1",
   "metadata": {},
   "source": [
    "So, since it looks like **it's not the case, where the data exists but is not filled**, since the other confirm feature/s of low grappling action, so, these features **are technically 0's** and so, we will **replace them with 0's**."
   ]
  },
  {
   "cell_type": "markdown",
   "id": "42013400-457a-4fe9-add2-8c3536406dc4",
   "metadata": {},
   "source": [
    "**Conclusion**: \n",
    "- *Convert* to NaN: `ctrl_nancols`, `fsttwentyone_nancols`\n",
    "- *Replace* with 0's: `tdpct_nancols`, `sigstr_nancols`"
   ]
  },
  {
   "cell_type": "markdown",
   "id": "cce570a0-d277-45a5-838c-fab3eb5164bf",
   "metadata": {},
   "source": [
    "#### Handling NaNs"
   ]
  },
  {
   "cell_type": "markdown",
   "id": "aea36504-a29c-4114-8e64-9977625acdf9",
   "metadata": {},
   "source": [
    "Let's group the rows and cols into two distinct groups, one to NaN, another to zeros:"
   ]
  },
  {
   "cell_type": "code",
   "execution_count": 200,
   "id": "9802c91c-aa3f-4afb-b409-bd8376a03127",
   "metadata": {},
   "outputs": [],
   "source": [
    "cols_tonan = fsttwentyone_nancols + ctrl_nancols\n",
    "cols_tozero = tdpct_nancols + sigstr_nancols"
   ]
  },
  {
   "cell_type": "code",
   "execution_count": 201,
   "id": "a2e9c542-41c7-4467-b631-5659555dc33d",
   "metadata": {},
   "outputs": [
    {
     "data": {
      "text/plain": [
       "(34, 4)"
      ]
     },
     "execution_count": 201,
     "metadata": {},
     "output_type": "execute_result"
    }
   ],
   "source": [
    "# Num of columns that is going to be changed to NaN and num of cols that will be changed to 0\n",
    "len(cols_tonan), len(cols_tozero)"
   ]
  },
  {
   "cell_type": "markdown",
   "id": "614fc787-319c-440b-a4a2-3267afd7faa1",
   "metadata": {},
   "source": [
    "**Replacing NaN placeholders to NaNs:**"
   ]
  },
  {
   "cell_type": "markdown",
   "id": "ddc7475d-3df3-46e7-97b6-eae8151c1bb3",
   "metadata": {},
   "source": [
    "Num of NaN placeholders `[\"-\", \"--\", \"---\"]` before dropping:"
   ]
  },
  {
   "cell_type": "code",
   "execution_count": 202,
   "id": "7cfb12e8-9004-42c9-b9e1-081bb1624f97",
   "metadata": {},
   "outputs": [
    {
     "data": {
      "text/plain": [
       "6607"
      ]
     },
     "execution_count": 202,
     "metadata": {},
     "output_type": "execute_result"
    }
   ],
   "source": [
    "nnan_pls_before = stats.isin(nan_placeholders).sum().sum()\n",
    "nnan_pls_before"
   ]
  },
  {
   "cell_type": "markdown",
   "id": "cf278d03-4ea8-487c-8ea1-05e704f32091",
   "metadata": {},
   "source": [
    "Replace:"
   ]
  },
  {
   "cell_type": "code",
   "execution_count": 203,
   "id": "ed571861-7585-4631-ac47-bb8b6c95a6aa",
   "metadata": {},
   "outputs": [],
   "source": [
    "stats[cols_tonan] = stats[cols_tonan].replace(nan_placeholders, np.NaN)"
   ]
  },
  {
   "cell_type": "markdown",
   "id": "d94b697e-20bf-49b1-bd19-b121679cd31b",
   "metadata": {},
   "source": [
    "Num of replaced NaN placeholders:"
   ]
  },
  {
   "cell_type": "code",
   "execution_count": 204,
   "id": "26c3c85a-4bf3-4994-8d06-0ebed5cf25d0",
   "metadata": {},
   "outputs": [
    {
     "data": {
      "text/plain": [
       "1070"
      ]
     },
     "execution_count": 204,
     "metadata": {},
     "output_type": "execute_result"
    }
   ],
   "source": [
    "nnan_pls_after = stats.isin(nan_placeholders).sum().sum()\n",
    "nnan_pls_before - nnan_pls_after"
   ]
  },
  {
   "cell_type": "markdown",
   "id": "6e4b140f-408d-4feb-9b3d-ac6685063123",
   "metadata": {},
   "source": [
    "Num of NaN placeholders now: "
   ]
  },
  {
   "cell_type": "code",
   "execution_count": 205,
   "id": "1d4b6365-2dfb-4370-8ae8-908166cdcf8c",
   "metadata": {},
   "outputs": [
    {
     "data": {
      "text/plain": [
       "5537"
      ]
     },
     "execution_count": 205,
     "metadata": {},
     "output_type": "execute_result"
    }
   ],
   "source": [
    "nnan_pls_after"
   ]
  },
  {
   "cell_type": "markdown",
   "id": "fbaa14e4-7428-4422-9037-288c40ca0533",
   "metadata": {},
   "source": [
    "**Replacing NaN placeholders to 0:**"
   ]
  },
  {
   "cell_type": "markdown",
   "id": "d321cf06-b8db-4457-a0ae-d3ecb2942e73",
   "metadata": {},
   "source": [
    "Num of NaN placeholders `[\"-\", \"--\", \"---\"]` before dropping:"
   ]
  },
  {
   "cell_type": "code",
   "execution_count": 206,
   "id": "1dea0c98-f181-4220-b6e0-80990a8c1c77",
   "metadata": {},
   "outputs": [
    {
     "data": {
      "text/plain": [
       "5537"
      ]
     },
     "execution_count": 206,
     "metadata": {},
     "output_type": "execute_result"
    }
   ],
   "source": [
    "nnan_pls_before = stats.isin(nan_placeholders).sum().sum()\n",
    "nnan_pls_before"
   ]
  },
  {
   "cell_type": "code",
   "execution_count": 207,
   "id": "6842612e-1f99-4a22-9103-862e4c216b5c",
   "metadata": {},
   "outputs": [],
   "source": [
    "stats[cols_tozero] = stats[cols_tozero].replace(nan_placeholders, \"0\")"
   ]
  },
  {
   "cell_type": "markdown",
   "id": "5134cff8-954c-48c0-a1b4-a4702909c9c6",
   "metadata": {},
   "source": [
    "Num of replaced NaNs:"
   ]
  },
  {
   "cell_type": "code",
   "execution_count": 208,
   "id": "e0786962-6714-4b93-ae68-19893bf12236",
   "metadata": {},
   "outputs": [
    {
     "data": {
      "text/plain": [
       "5537"
      ]
     },
     "execution_count": 208,
     "metadata": {},
     "output_type": "execute_result"
    }
   ],
   "source": [
    "nnan_pls_after = stats.isin(nan_placeholders).sum().sum()\n",
    "nnan_pls_before - nnan_pls_after"
   ]
  },
  {
   "cell_type": "markdown",
   "id": "d7a59d89-d06b-4391-aacc-9d3d66d29de8",
   "metadata": {},
   "source": [
    "Num of NaN placeholders now: "
   ]
  },
  {
   "cell_type": "code",
   "execution_count": 209,
   "id": "c5e48638-976d-4795-b57d-86ec5c359d33",
   "metadata": {},
   "outputs": [
    {
     "data": {
      "text/plain": [
       "0"
      ]
     },
     "execution_count": 209,
     "metadata": {},
     "output_type": "execute_result"
    }
   ],
   "source": [
    "nnan_pls_after"
   ]
  },
  {
   "cell_type": "markdown",
   "id": "6a38adab-746e-45da-8865-65a6a587e116",
   "metadata": {},
   "source": [
    "#### Handling Duplicates"
   ]
  },
  {
   "cell_type": "code",
   "execution_count": 210,
   "id": "30605159-1e13-4a54-b426-84567b47385f",
   "metadata": {},
   "outputs": [
    {
     "data": {
      "text/plain": [
       "0"
      ]
     },
     "execution_count": 210,
     "metadata": {},
     "output_type": "execute_result"
    }
   ],
   "source": [
    "stats.duplicated().sum()"
   ]
  },
  {
   "cell_type": "markdown",
   "id": "0f058bf6-6684-412d-80df-b2cc088d9b33",
   "metadata": {},
   "source": [
    "We can see that there are no NaNs or duplicates. Let's get to Feature Engineering."
   ]
  },
  {
   "cell_type": "markdown",
   "id": "11e1b7ff-5595-4edc-946d-6ea979af9708",
   "metadata": {},
   "source": [
    "### Processing categorical features"
   ]
  },
  {
   "cell_type": "markdown",
   "id": "98d17a33-144e-4d78-8bf4-662281911b85",
   "metadata": {},
   "source": [
    "Find columns that need to be standardized from categorical dtype to numerical:"
   ]
  },
  {
   "cell_type": "code",
   "execution_count": 211,
   "id": "f21441a8-0364-4378-9eed-5dfc2da7bdfd",
   "metadata": {
    "editable": true,
    "scrolled": true,
    "slideshow": {
     "slide_type": ""
    },
    "tags": []
   },
   "outputs": [],
   "source": [
    "def find_obj_cols(df):\n",
    "    \"\"\"Searches for columns that are of dtype object,\n",
    "    contain numbers, and names of cols start with either 'red_' or 'blue_'\"\"\"\n",
    "\n",
    "    cols_to_standardize = []\n",
    "\n",
    "    for col in df.columns:\n",
    "        if stats[col].dtype == \"object\" and (\n",
    "            col.startswith(\"red_\") or col.startswith(\"blue_\")\n",
    "        ):\n",
    "            # Get the first non-nan value, and convert to str to be able to use .isdigit()\n",
    "            sample_val = stats[col].dropna().astype(str).head(1).values[0]\n",
    "            if len(sample_val) > 0 and any(char.isdigit() for char in sample_val):\n",
    "                cols_to_standardize.append(col)\n",
    "\n",
    "    return cols_to_standardize"
   ]
  },
  {
   "cell_type": "code",
   "execution_count": 212,
   "id": "cae6553a-9196-4824-b61c-5e9e19b87781",
   "metadata": {},
   "outputs": [
    {
     "name": "stdout",
     "output_type": "stream",
     "text": [
      "Number of categorical features to preprocess: 46\n"
     ]
    }
   ],
   "source": [
    "cols_to_standardize = find_obj_cols(stats)\n",
    "print(f\"Number of categorical features to preprocess: {len(cols_to_standardize)}\")"
   ]
  },
  {
   "cell_type": "markdown",
   "id": "9527aebf-2386-47cb-96e3-4faf50e4ba0d",
   "metadata": {},
   "source": [
    "In total we have to standardize 3 types of features:\n",
    "1. Ratio to pct: 75 of 144 => 52 (%)\n",
    "2. Dropping pct symbol: 85% => 85 (%)\n",
    "3. Time: 1:31\t=> 91 (seconds)"
   ]
  },
  {
   "cell_type": "markdown",
   "id": "088be5a5-b16a-420e-a80d-c6ee8c8e80b5",
   "metadata": {},
   "source": [
    "Taking a look:"
   ]
  },
  {
   "cell_type": "code",
   "execution_count": 213,
   "id": "9f21554a-f3a5-42fa-b6b8-eab99e3df430",
   "metadata": {},
   "outputs": [
    {
     "data": {
      "text/html": [
       "<div>\n",
       "<style scoped>\n",
       "    .dataframe tbody tr th:only-of-type {\n",
       "        vertical-align: middle;\n",
       "    }\n",
       "\n",
       "    .dataframe tbody tr th {\n",
       "        vertical-align: top;\n",
       "    }\n",
       "\n",
       "    .dataframe thead th {\n",
       "        text-align: right;\n",
       "    }\n",
       "</style>\n",
       "<table border=\"1\" class=\"dataframe\">\n",
       "  <thead>\n",
       "    <tr style=\"text-align: right;\">\n",
       "      <th></th>\n",
       "      <th>red_fighter_total_str</th>\n",
       "      <th>red_fighter_td_acc_cs</th>\n",
       "      <th>red_fighter_ctrl</th>\n",
       "    </tr>\n",
       "  </thead>\n",
       "  <tbody>\n",
       "    <tr>\n",
       "      <th>0</th>\n",
       "      <td>78 of 147</td>\n",
       "      <td>55%</td>\n",
       "      <td>0:45</td>\n",
       "    </tr>\n",
       "    <tr>\n",
       "      <th>1</th>\n",
       "      <td>2 of 2</td>\n",
       "      <td>27%</td>\n",
       "      <td>0:00</td>\n",
       "    </tr>\n",
       "    <tr>\n",
       "      <th>2</th>\n",
       "      <td>75 of 142</td>\n",
       "      <td>33%</td>\n",
       "      <td>1:31</td>\n",
       "    </tr>\n",
       "  </tbody>\n",
       "</table>\n",
       "</div>"
      ],
      "text/plain": [
       "  red_fighter_total_str red_fighter_td_acc_cs red_fighter_ctrl\n",
       "0             78 of 147                   55%             0:45\n",
       "1                2 of 2                   27%             0:00\n",
       "2             75 of 142                   33%             1:31"
      ]
     },
     "execution_count": 213,
     "metadata": {},
     "output_type": "execute_result"
    }
   ],
   "source": [
    "stats.loc[:2, [\"red_fighter_total_str\", \"red_fighter_td_acc_cs\", \"red_fighter_ctrl\"]]"
   ]
  },
  {
   "cell_type": "markdown",
   "id": "09c64579-ce1b-471a-bbbc-9764bf5393e1",
   "metadata": {},
   "source": [
    "But let's first group the columns into 3 different buckets for simplicity:\n",
    "* `of_cols`, for example: `78 of 147`\n",
    "* `pct_cols`, for example: `45%`\n",
    "* `time_cols`, for example: `0:45`"
   ]
  },
  {
   "cell_type": "code",
   "execution_count": 214,
   "id": "0d711e01-0626-4545-8813-e8658c38c190",
   "metadata": {},
   "outputs": [],
   "source": [
    "def bucket_obj_cols(cols):\n",
    "    \"\"\"Buckets provided columns into 3 various buckets, based on regex patterns.\"\"\"\n",
    "\n",
    "    of_cols = []\n",
    "    pct_cols = []\n",
    "    time_cols = []\n",
    "\n",
    "    for col in cols:\n",
    "        sample_val = stats[col].dropna().astype(str).head(1).values[0]\n",
    "\n",
    "        if re.search(\n",
    "            r\"\\d+\\s*of\\s*\\d+\", sample_val\n",
    "        ):  # If matches 'number of number' schema\n",
    "            of_cols.append(col)\n",
    "        elif re.search(r\"\\d+\\s*%\", sample_val):  # If matches 'x%' pct schema\n",
    "            pct_cols.append(col)\n",
    "        elif re.search(r\"\\d+\\s*:\\s*\\d+\", sample_val):  # If matches 'x:yy' time schema\n",
    "            time_cols.append(col)\n",
    "\n",
    "    return of_cols, pct_cols, time_cols"
   ]
  },
  {
   "cell_type": "markdown",
   "id": "aa39cb76-ad38-406e-bbfe-c50158f9b312",
   "metadata": {},
   "source": [
    "Running it:"
   ]
  },
  {
   "cell_type": "code",
   "execution_count": 215,
   "id": "7787cbcd-1850-44f9-b8ab-397f6c6d7af4",
   "metadata": {},
   "outputs": [],
   "source": [
    "of_cols, pct_cols, time_cols = bucket_obj_cols(cols_to_standardize)"
   ]
  },
  {
   "cell_type": "markdown",
   "id": "9d13c7bf-43c2-4f02-bad5-a6117c102162",
   "metadata": {},
   "source": [
    "Let's take a look:"
   ]
  },
  {
   "cell_type": "code",
   "execution_count": 216,
   "id": "1042cc71-c955-4754-b6b0-fca3b553cb32",
   "metadata": {},
   "outputs": [
    {
     "data": {
      "text/html": [
       "<div>\n",
       "<style scoped>\n",
       "    .dataframe tbody tr th:only-of-type {\n",
       "        vertical-align: middle;\n",
       "    }\n",
       "\n",
       "    .dataframe tbody tr th {\n",
       "        vertical-align: top;\n",
       "    }\n",
       "\n",
       "    .dataframe thead th {\n",
       "        text-align: right;\n",
       "    }\n",
       "</style>\n",
       "<table border=\"1\" class=\"dataframe\">\n",
       "  <thead>\n",
       "    <tr style=\"text-align: right;\">\n",
       "      <th></th>\n",
       "      <th>red_fighter_total_str</th>\n",
       "      <th>blue_fighter_total_str</th>\n",
       "      <th>red_fighter_sig_str_head_acc</th>\n",
       "    </tr>\n",
       "  </thead>\n",
       "  <tbody>\n",
       "    <tr>\n",
       "      <th>0</th>\n",
       "      <td>78 of 147</td>\n",
       "      <td>84 of 209</td>\n",
       "      <td>49 of 114</td>\n",
       "    </tr>\n",
       "    <tr>\n",
       "      <th>1</th>\n",
       "      <td>2 of 2</td>\n",
       "      <td>25 of 31</td>\n",
       "      <td>0 of 0</td>\n",
       "    </tr>\n",
       "    <tr>\n",
       "      <th>2</th>\n",
       "      <td>75 of 142</td>\n",
       "      <td>59 of 123</td>\n",
       "      <td>20 of 72</td>\n",
       "    </tr>\n",
       "  </tbody>\n",
       "</table>\n",
       "</div>"
      ],
      "text/plain": [
       "  red_fighter_total_str blue_fighter_total_str red_fighter_sig_str_head_acc\n",
       "0             78 of 147              84 of 209                    49 of 114\n",
       "1                2 of 2               25 of 31                       0 of 0\n",
       "2             75 of 142              59 of 123                     20 of 72"
      ]
     },
     "execution_count": 216,
     "metadata": {},
     "output_type": "execute_result"
    }
   ],
   "source": [
    "stats.loc[:2, of_cols[:3]]"
   ]
  },
  {
   "cell_type": "code",
   "execution_count": 217,
   "id": "8437951d-5b0e-4d49-beab-1be6f1821c2a",
   "metadata": {},
   "outputs": [
    {
     "data": {
      "text/html": [
       "<div>\n",
       "<style scoped>\n",
       "    .dataframe tbody tr th:only-of-type {\n",
       "        vertical-align: middle;\n",
       "    }\n",
       "\n",
       "    .dataframe tbody tr th {\n",
       "        vertical-align: top;\n",
       "    }\n",
       "\n",
       "    .dataframe thead th {\n",
       "        text-align: right;\n",
       "    }\n",
       "</style>\n",
       "<table border=\"1\" class=\"dataframe\">\n",
       "  <thead>\n",
       "    <tr style=\"text-align: right;\">\n",
       "      <th></th>\n",
       "      <th>red_fighter_str_acc_cs</th>\n",
       "      <th>red_fighter_str_def_cs</th>\n",
       "      <th>red_fighter_td_acc_cs</th>\n",
       "    </tr>\n",
       "  </thead>\n",
       "  <tbody>\n",
       "    <tr>\n",
       "      <th>0</th>\n",
       "      <td>45%</td>\n",
       "      <td>68%</td>\n",
       "      <td>55%</td>\n",
       "    </tr>\n",
       "    <tr>\n",
       "      <th>1</th>\n",
       "      <td>40%</td>\n",
       "      <td>60%</td>\n",
       "      <td>27%</td>\n",
       "    </tr>\n",
       "    <tr>\n",
       "      <th>2</th>\n",
       "      <td>53%</td>\n",
       "      <td>65%</td>\n",
       "      <td>33%</td>\n",
       "    </tr>\n",
       "  </tbody>\n",
       "</table>\n",
       "</div>"
      ],
      "text/plain": [
       "  red_fighter_str_acc_cs red_fighter_str_def_cs red_fighter_td_acc_cs\n",
       "0                    45%                    68%                   55%\n",
       "1                    40%                    60%                   27%\n",
       "2                    53%                    65%                   33%"
      ]
     },
     "execution_count": 217,
     "metadata": {},
     "output_type": "execute_result"
    }
   ],
   "source": [
    "stats.loc[:2, pct_cols[:3]]"
   ]
  },
  {
   "cell_type": "code",
   "execution_count": 218,
   "id": "a57bcc4d-5e89-4588-9bd4-70e0e9897161",
   "metadata": {},
   "outputs": [
    {
     "data": {
      "text/html": [
       "<div>\n",
       "<style scoped>\n",
       "    .dataframe tbody tr th:only-of-type {\n",
       "        vertical-align: middle;\n",
       "    }\n",
       "\n",
       "    .dataframe tbody tr th {\n",
       "        vertical-align: top;\n",
       "    }\n",
       "\n",
       "    .dataframe thead th {\n",
       "        text-align: right;\n",
       "    }\n",
       "</style>\n",
       "<table border=\"1\" class=\"dataframe\">\n",
       "  <thead>\n",
       "    <tr style=\"text-align: right;\">\n",
       "      <th></th>\n",
       "      <th>red_fighter_ctrl</th>\n",
       "      <th>blue_fighter_ctrl</th>\n",
       "    </tr>\n",
       "  </thead>\n",
       "  <tbody>\n",
       "    <tr>\n",
       "      <th>0</th>\n",
       "      <td>0:45</td>\n",
       "      <td>0:00</td>\n",
       "    </tr>\n",
       "    <tr>\n",
       "      <th>1</th>\n",
       "      <td>0:00</td>\n",
       "      <td>3:20</td>\n",
       "    </tr>\n",
       "    <tr>\n",
       "      <th>2</th>\n",
       "      <td>1:31</td>\n",
       "      <td>1:00</td>\n",
       "    </tr>\n",
       "  </tbody>\n",
       "</table>\n",
       "</div>"
      ],
      "text/plain": [
       "  red_fighter_ctrl blue_fighter_ctrl\n",
       "0             0:45              0:00\n",
       "1             0:00              3:20\n",
       "2             1:31              1:00"
      ]
     },
     "execution_count": 218,
     "metadata": {},
     "output_type": "execute_result"
    }
   ],
   "source": [
    "stats.loc[:2, time_cols]"
   ]
  },
  {
   "cell_type": "markdown",
   "id": "1169406b-390b-4fa8-82a7-e8b8e2a838c2",
   "metadata": {},
   "source": [
    "Let's standardize."
   ]
  },
  {
   "cell_type": "markdown",
   "id": "b19d14ee-cf19-4d5e-95ed-30ccef825504",
   "metadata": {},
   "source": [
    "### Standardizing"
   ]
  },
  {
   "cell_type": "markdown",
   "id": "f862f720-e916-48aa-bb49-827fc31357b8",
   "metadata": {},
   "source": [
    "#### Standardizing fraction-based features"
   ]
  },
  {
   "cell_type": "markdown",
   "id": "7e155f59-37f0-41d9-80c7-7bc3b53ce65a",
   "metadata": {},
   "source": [
    "Standardizing fractions into pct % (e.g. from `70 of 140` to `50` (%)):"
   ]
  },
  {
   "cell_type": "code",
   "execution_count": 219,
   "id": "016525e2-2ec5-45e9-9c5d-4221649502b8",
   "metadata": {},
   "outputs": [],
   "source": [
    "def convert_ratio_to_pct(row):\n",
    "    \"\"\"Converts ratio 'x of y' to percentages 'z'\"\"\"\n",
    "\n",
    "    # If NaN, just return NaN\n",
    "    if pd.isna(row):\n",
    "        return row\n",
    "\n",
    "    vals = row.split(\"of\")\n",
    "    if len(vals) != 2:\n",
    "        return 0\n",
    "\n",
    "    made = int(vals[0].strip())\n",
    "    attempted = int(vals[1].strip())\n",
    "    if made == 0 or attempted == 0:\n",
    "        return 0\n",
    "\n",
    "    return round((made * 100) / attempted, 2)"
   ]
  },
  {
   "cell_type": "markdown",
   "id": "af97dc52-3087-4711-9a29-3592e5b0c7dc",
   "metadata": {},
   "source": [
    "Applying:"
   ]
  },
  {
   "cell_type": "code",
   "execution_count": 220,
   "id": "692dd25c-8585-4689-88f6-99f1f4665642",
   "metadata": {},
   "outputs": [],
   "source": [
    "for col in of_cols:\n",
    "    stats[col] = stats[col].apply(convert_ratio_to_pct)\n",
    "\n",
    "# Rename\n",
    "name_mappings = {col: f\"{col}_pct\" for col in of_cols}\n",
    "stats.rename(columns=name_mappings, inplace=True)"
   ]
  },
  {
   "cell_type": "code",
   "execution_count": 221,
   "id": "c65984ef-fbfe-4bbf-b6e5-e1b1a0dad5cb",
   "metadata": {},
   "outputs": [
    {
     "data": {
      "text/html": [
       "<div>\n",
       "<style scoped>\n",
       "    .dataframe tbody tr th:only-of-type {\n",
       "        vertical-align: middle;\n",
       "    }\n",
       "\n",
       "    .dataframe tbody tr th {\n",
       "        vertical-align: top;\n",
       "    }\n",
       "\n",
       "    .dataframe thead th {\n",
       "        text-align: right;\n",
       "    }\n",
       "</style>\n",
       "<table border=\"1\" class=\"dataframe\">\n",
       "  <thead>\n",
       "    <tr style=\"text-align: right;\">\n",
       "      <th></th>\n",
       "      <th>red_fighter_total_str_pct</th>\n",
       "      <th>blue_fighter_total_str_pct</th>\n",
       "      <th>red_fighter_sig_str_head_acc_pct</th>\n",
       "      <th>blue_fighter_sig_str_head_acc_pct</th>\n",
       "      <th>red_fighter_sig_str_body_acc_pct</th>\n",
       "      <th>blue_fighter_sig_str_body_acc_pct</th>\n",
       "      <th>red_fighter_sig_str_leg_acc_pct</th>\n",
       "      <th>blue_fighter_sig_str_leg_acc_pct</th>\n",
       "      <th>red_fighter_sig_str_distance_acc_pct</th>\n",
       "      <th>blue_fighter_sig_str_distance_acc_pct</th>\n",
       "      <th>red_fighter_sig_str_clinch_acc_pct</th>\n",
       "      <th>blue_fighter_sig_str_clinch_acc_pct</th>\n",
       "      <th>red_fighter_sig_str_ground_acc_pct</th>\n",
       "      <th>blue_fighter_sig_str_ground_acc_pct</th>\n",
       "    </tr>\n",
       "  </thead>\n",
       "  <tbody>\n",
       "    <tr>\n",
       "      <th>0</th>\n",
       "      <td>53.06</td>\n",
       "      <td>40.19</td>\n",
       "      <td>42.98</td>\n",
       "      <td>31.13</td>\n",
       "      <td>78.57</td>\n",
       "      <td>43.33</td>\n",
       "      <td>93.75</td>\n",
       "      <td>82.61</td>\n",
       "      <td>50.71</td>\n",
       "      <td>38.73</td>\n",
       "      <td>0.00</td>\n",
       "      <td>0.0</td>\n",
       "      <td>100.0</td>\n",
       "      <td>0.0</td>\n",
       "    </tr>\n",
       "    <tr>\n",
       "      <th>1</th>\n",
       "      <td>100.00</td>\n",
       "      <td>80.65</td>\n",
       "      <td>0.00</td>\n",
       "      <td>66.67</td>\n",
       "      <td>0.00</td>\n",
       "      <td>100.00</td>\n",
       "      <td>100.00</td>\n",
       "      <td>0.00</td>\n",
       "      <td>100.00</td>\n",
       "      <td>0.00</td>\n",
       "      <td>0.00</td>\n",
       "      <td>0.0</td>\n",
       "      <td>0.0</td>\n",
       "      <td>100.0</td>\n",
       "    </tr>\n",
       "    <tr>\n",
       "      <th>2</th>\n",
       "      <td>52.82</td>\n",
       "      <td>47.97</td>\n",
       "      <td>27.78</td>\n",
       "      <td>15.38</td>\n",
       "      <td>75.86</td>\n",
       "      <td>75.00</td>\n",
       "      <td>100.00</td>\n",
       "      <td>85.00</td>\n",
       "      <td>47.62</td>\n",
       "      <td>45.05</td>\n",
       "      <td>55.56</td>\n",
       "      <td>50.0</td>\n",
       "      <td>0.0</td>\n",
       "      <td>0.0</td>\n",
       "    </tr>\n",
       "  </tbody>\n",
       "</table>\n",
       "</div>"
      ],
      "text/plain": [
       "   red_fighter_total_str_pct  blue_fighter_total_str_pct  \\\n",
       "0                      53.06                       40.19   \n",
       "1                     100.00                       80.65   \n",
       "2                      52.82                       47.97   \n",
       "\n",
       "   red_fighter_sig_str_head_acc_pct  blue_fighter_sig_str_head_acc_pct  \\\n",
       "0                             42.98                              31.13   \n",
       "1                              0.00                              66.67   \n",
       "2                             27.78                              15.38   \n",
       "\n",
       "   red_fighter_sig_str_body_acc_pct  blue_fighter_sig_str_body_acc_pct  \\\n",
       "0                             78.57                              43.33   \n",
       "1                              0.00                             100.00   \n",
       "2                             75.86                              75.00   \n",
       "\n",
       "   red_fighter_sig_str_leg_acc_pct  blue_fighter_sig_str_leg_acc_pct  \\\n",
       "0                            93.75                             82.61   \n",
       "1                           100.00                              0.00   \n",
       "2                           100.00                             85.00   \n",
       "\n",
       "   red_fighter_sig_str_distance_acc_pct  \\\n",
       "0                                 50.71   \n",
       "1                                100.00   \n",
       "2                                 47.62   \n",
       "\n",
       "   blue_fighter_sig_str_distance_acc_pct  red_fighter_sig_str_clinch_acc_pct  \\\n",
       "0                                  38.73                                0.00   \n",
       "1                                   0.00                                0.00   \n",
       "2                                  45.05                               55.56   \n",
       "\n",
       "   blue_fighter_sig_str_clinch_acc_pct  red_fighter_sig_str_ground_acc_pct  \\\n",
       "0                                  0.0                               100.0   \n",
       "1                                  0.0                                 0.0   \n",
       "2                                 50.0                                 0.0   \n",
       "\n",
       "   blue_fighter_sig_str_ground_acc_pct  \n",
       "0                                  0.0  \n",
       "1                                100.0  \n",
       "2                                  0.0  "
      ]
     },
     "execution_count": 221,
     "metadata": {},
     "output_type": "execute_result"
    }
   ],
   "source": [
    "stats[name_mappings.values()].head(3)"
   ]
  },
  {
   "cell_type": "markdown",
   "id": "f914dd88-14bb-4a84-8522-b3f56b2c163a",
   "metadata": {},
   "source": [
    "#### Standardizing percentage-based features"
   ]
  },
  {
   "cell_type": "markdown",
   "id": "97a3aa12-3a22-45ef-8bdc-afab98e759db",
   "metadata": {},
   "source": [
    "Standardizing pct features, dropping `%` symbol (e.g. from `50%` to `50`):"
   ]
  },
  {
   "cell_type": "code",
   "execution_count": 222,
   "id": "66ed6916-dca8-4081-9554-6dad4c0640a0",
   "metadata": {},
   "outputs": [
    {
     "data": {
      "text/html": [
       "<div>\n",
       "<style scoped>\n",
       "    .dataframe tbody tr th:only-of-type {\n",
       "        vertical-align: middle;\n",
       "    }\n",
       "\n",
       "    .dataframe tbody tr th {\n",
       "        vertical-align: top;\n",
       "    }\n",
       "\n",
       "    .dataframe thead th {\n",
       "        text-align: right;\n",
       "    }\n",
       "</style>\n",
       "<table border=\"1\" class=\"dataframe\">\n",
       "  <thead>\n",
       "    <tr style=\"text-align: right;\">\n",
       "      <th></th>\n",
       "      <th>red_fighter_str_acc_cs</th>\n",
       "      <th>red_fighter_str_def_cs</th>\n",
       "      <th>red_fighter_td_acc_cs</th>\n",
       "      <th>red_fighter_td_def_cs</th>\n",
       "      <th>blue_fighter_str_acc_cs</th>\n",
       "      <th>blue_fighter_str_def_cs</th>\n",
       "      <th>blue_fighter_td_acc_cs</th>\n",
       "      <th>blue_fighter_td_def_cs</th>\n",
       "    </tr>\n",
       "  </thead>\n",
       "  <tbody>\n",
       "    <tr>\n",
       "      <th>0</th>\n",
       "      <td>45</td>\n",
       "      <td>68</td>\n",
       "      <td>55</td>\n",
       "      <td>100</td>\n",
       "      <td>46</td>\n",
       "      <td>60</td>\n",
       "      <td>71</td>\n",
       "      <td>84</td>\n",
       "    </tr>\n",
       "    <tr>\n",
       "      <th>1</th>\n",
       "      <td>40</td>\n",
       "      <td>60</td>\n",
       "      <td>27</td>\n",
       "      <td>84</td>\n",
       "      <td>72</td>\n",
       "      <td>66</td>\n",
       "      <td>75</td>\n",
       "      <td>0</td>\n",
       "    </tr>\n",
       "    <tr>\n",
       "      <th>2</th>\n",
       "      <td>53</td>\n",
       "      <td>65</td>\n",
       "      <td>33</td>\n",
       "      <td>85</td>\n",
       "      <td>52</td>\n",
       "      <td>52</td>\n",
       "      <td>25</td>\n",
       "      <td>90</td>\n",
       "    </tr>\n",
       "  </tbody>\n",
       "</table>\n",
       "</div>"
      ],
      "text/plain": [
       "  red_fighter_str_acc_cs red_fighter_str_def_cs red_fighter_td_acc_cs  \\\n",
       "0                     45                     68                    55   \n",
       "1                     40                     60                    27   \n",
       "2                     53                     65                    33   \n",
       "\n",
       "  red_fighter_td_def_cs blue_fighter_str_acc_cs blue_fighter_str_def_cs  \\\n",
       "0                   100                      46                      60   \n",
       "1                    84                      72                      66   \n",
       "2                    85                      52                      52   \n",
       "\n",
       "  blue_fighter_td_acc_cs blue_fighter_td_def_cs  \n",
       "0                     71                     84  \n",
       "1                     75                      0  \n",
       "2                     25                     90  "
      ]
     },
     "execution_count": 222,
     "metadata": {},
     "output_type": "execute_result"
    }
   ],
   "source": [
    "stats[pct_cols] = stats[pct_cols].apply(lambda row: row.str.strip(\"%\"))\n",
    "stats[pct_cols].head(3)"
   ]
  },
  {
   "cell_type": "markdown",
   "id": "ced0dc33-8f37-4681-a237-ca3a82a12b9e",
   "metadata": {},
   "source": [
    "#### Standardizing time-based features"
   ]
  },
  {
   "cell_type": "markdown",
   "id": "46ead8ea-4396-4dae-8c67-5399a983fe1e",
   "metadata": {},
   "source": [
    "Standardizing time features from `mm:ss` into the total `seconds` (e.g. from `1:31` **minutes** to `91` **seconds**):"
   ]
  },
  {
   "cell_type": "markdown",
   "id": "26ec3e98-5b82-461b-847a-25e417b44b89",
   "metadata": {},
   "source": [
    "Features to work with:"
   ]
  },
  {
   "cell_type": "code",
   "execution_count": 223,
   "id": "1340823c-f41b-4739-b306-bb04f4d29934",
   "metadata": {},
   "outputs": [
    {
     "data": {
      "text/plain": [
       "['red_fighter_ctrl', 'blue_fighter_ctrl']"
      ]
     },
     "execution_count": 223,
     "metadata": {},
     "output_type": "execute_result"
    }
   ],
   "source": [
    "time_cols"
   ]
  },
  {
   "cell_type": "markdown",
   "id": "cdc98b18-d2cb-4a51-bb78-e18b9c72b899",
   "metadata": {},
   "source": [
    "Replace 0s to match the common format `0:00`"
   ]
  },
  {
   "cell_type": "code",
   "execution_count": 224,
   "id": "c5a4394b-0c89-4ac3-a580-c85393d1a6ba",
   "metadata": {},
   "outputs": [],
   "source": [
    "stats[time_cols] = stats[time_cols].replace(\"0\", \"0:00\")"
   ]
  },
  {
   "cell_type": "markdown",
   "id": "41d48975-40b4-43d9-931e-78157af0c896",
   "metadata": {},
   "source": [
    "Format time schema to make it have the `hh:mm:ss` shape:"
   ]
  },
  {
   "cell_type": "markdown",
   "id": "021bec9d-b107-48c8-8d82-21b92f7b5701",
   "metadata": {},
   "source": [
    "Before:"
   ]
  },
  {
   "cell_type": "code",
   "execution_count": 225,
   "id": "c823ec9b-d800-4b2e-9cf3-86cc913075fe",
   "metadata": {},
   "outputs": [
    {
     "data": {
      "text/html": [
       "<div>\n",
       "<style scoped>\n",
       "    .dataframe tbody tr th:only-of-type {\n",
       "        vertical-align: middle;\n",
       "    }\n",
       "\n",
       "    .dataframe tbody tr th {\n",
       "        vertical-align: top;\n",
       "    }\n",
       "\n",
       "    .dataframe thead th {\n",
       "        text-align: right;\n",
       "    }\n",
       "</style>\n",
       "<table border=\"1\" class=\"dataframe\">\n",
       "  <thead>\n",
       "    <tr style=\"text-align: right;\">\n",
       "      <th></th>\n",
       "      <th>red_fighter_ctrl</th>\n",
       "      <th>blue_fighter_ctrl</th>\n",
       "    </tr>\n",
       "  </thead>\n",
       "  <tbody>\n",
       "    <tr>\n",
       "      <th>40</th>\n",
       "      <td>0:00</td>\n",
       "      <td>7:54</td>\n",
       "    </tr>\n",
       "    <tr>\n",
       "      <th>41</th>\n",
       "      <td>0:03</td>\n",
       "      <td>4:13</td>\n",
       "    </tr>\n",
       "    <tr>\n",
       "      <th>42</th>\n",
       "      <td>0:11</td>\n",
       "      <td>4:40</td>\n",
       "    </tr>\n",
       "  </tbody>\n",
       "</table>\n",
       "</div>"
      ],
      "text/plain": [
       "   red_fighter_ctrl blue_fighter_ctrl\n",
       "40             0:00              7:54\n",
       "41             0:03              4:13\n",
       "42             0:11              4:40"
      ]
     },
     "execution_count": 225,
     "metadata": {},
     "output_type": "execute_result"
    }
   ],
   "source": [
    "# Rows to compare before/after on\n",
    "comp_rows = [i for i in range(40, 43)]\n",
    "# Before samples\n",
    "stats.loc[comp_rows, time_cols]"
   ]
  },
  {
   "cell_type": "code",
   "execution_count": 226,
   "id": "357bb946-2271-4a23-88ba-9d6a191ac40b",
   "metadata": {},
   "outputs": [],
   "source": [
    "def format_time_schema(row):\n",
    "    \"\"\"Formats time schema by making sure it follows hh:mm:ss format\"\"\"\n",
    "\n",
    "    # If is nan, just retur nan\n",
    "    if pd.isna(row):\n",
    "        return row\n",
    "        \n",
    "    parts = row.split(\":\")\n",
    "    if len(parts) == 2:\n",
    "        minutes, seconds = parts\n",
    "        # Pad both minutes and seconds to 2 zeros\n",
    "        minutes = minutes.zfill(2)\n",
    "        seconds = seconds.zfill(2)\n",
    "        # Add hours prefix\n",
    "        return f\"00:{minutes}:{seconds}\"\n",
    "    return parts  # Return like is if not in mm:ss format"
   ]
  },
  {
   "cell_type": "markdown",
   "id": "f96d4d25-1c82-4ae1-b311-8053781aba9a",
   "metadata": {},
   "source": [
    "Applying:"
   ]
  },
  {
   "cell_type": "code",
   "execution_count": 227,
   "id": "da2ce0f5-c75b-4134-98e1-9ea9e059ef45",
   "metadata": {},
   "outputs": [],
   "source": [
    "for col in time_cols:\n",
    "    stats[col] = stats[col].apply(format_time_schema)"
   ]
  },
  {
   "cell_type": "markdown",
   "id": "28939088-8cf5-4cfb-a687-74176ff55b24",
   "metadata": {},
   "source": [
    "After:"
   ]
  },
  {
   "cell_type": "code",
   "execution_count": 228,
   "id": "68d05b79-6ade-4d96-b50d-27822b09d580",
   "metadata": {},
   "outputs": [
    {
     "data": {
      "text/html": [
       "<div>\n",
       "<style scoped>\n",
       "    .dataframe tbody tr th:only-of-type {\n",
       "        vertical-align: middle;\n",
       "    }\n",
       "\n",
       "    .dataframe tbody tr th {\n",
       "        vertical-align: top;\n",
       "    }\n",
       "\n",
       "    .dataframe thead th {\n",
       "        text-align: right;\n",
       "    }\n",
       "</style>\n",
       "<table border=\"1\" class=\"dataframe\">\n",
       "  <thead>\n",
       "    <tr style=\"text-align: right;\">\n",
       "      <th></th>\n",
       "      <th>red_fighter_ctrl</th>\n",
       "      <th>blue_fighter_ctrl</th>\n",
       "    </tr>\n",
       "  </thead>\n",
       "  <tbody>\n",
       "    <tr>\n",
       "      <th>40</th>\n",
       "      <td>00:00:00</td>\n",
       "      <td>00:07:54</td>\n",
       "    </tr>\n",
       "    <tr>\n",
       "      <th>41</th>\n",
       "      <td>00:00:03</td>\n",
       "      <td>00:04:13</td>\n",
       "    </tr>\n",
       "    <tr>\n",
       "      <th>42</th>\n",
       "      <td>00:00:11</td>\n",
       "      <td>00:04:40</td>\n",
       "    </tr>\n",
       "  </tbody>\n",
       "</table>\n",
       "</div>"
      ],
      "text/plain": [
       "   red_fighter_ctrl blue_fighter_ctrl\n",
       "40         00:00:00          00:07:54\n",
       "41         00:00:03          00:04:13\n",
       "42         00:00:11          00:04:40"
      ]
     },
     "execution_count": 228,
     "metadata": {},
     "output_type": "execute_result"
    }
   ],
   "source": [
    "pd.DataFrame(stats.loc[comp_rows, time_cols])"
   ]
  },
  {
   "cell_type": "markdown",
   "id": "8bd120c1-9d3f-4584-9779-533a7bfac855",
   "metadata": {},
   "source": [
    "Convert to total seconds:"
   ]
  },
  {
   "cell_type": "markdown",
   "id": "fd489754-3c09-46bb-9608-a2c843047478",
   "metadata": {},
   "source": [
    "Before:"
   ]
  },
  {
   "cell_type": "code",
   "execution_count": 229,
   "id": "e0ca0a11-34b1-40b2-a22d-00e01ad30572",
   "metadata": {},
   "outputs": [
    {
     "data": {
      "text/html": [
       "<div>\n",
       "<style scoped>\n",
       "    .dataframe tbody tr th:only-of-type {\n",
       "        vertical-align: middle;\n",
       "    }\n",
       "\n",
       "    .dataframe tbody tr th {\n",
       "        vertical-align: top;\n",
       "    }\n",
       "\n",
       "    .dataframe thead th {\n",
       "        text-align: right;\n",
       "    }\n",
       "</style>\n",
       "<table border=\"1\" class=\"dataframe\">\n",
       "  <thead>\n",
       "    <tr style=\"text-align: right;\">\n",
       "      <th></th>\n",
       "      <th>red_fighter_ctrl</th>\n",
       "      <th>blue_fighter_ctrl</th>\n",
       "    </tr>\n",
       "  </thead>\n",
       "  <tbody>\n",
       "    <tr>\n",
       "      <th>0</th>\n",
       "      <td>00:00:45</td>\n",
       "      <td>00:00:00</td>\n",
       "    </tr>\n",
       "    <tr>\n",
       "      <th>1</th>\n",
       "      <td>00:00:00</td>\n",
       "      <td>00:03:20</td>\n",
       "    </tr>\n",
       "  </tbody>\n",
       "</table>\n",
       "</div>"
      ],
      "text/plain": [
       "  red_fighter_ctrl blue_fighter_ctrl\n",
       "0         00:00:45          00:00:00\n",
       "1         00:00:00          00:03:20"
      ]
     },
     "execution_count": 229,
     "metadata": {},
     "output_type": "execute_result"
    }
   ],
   "source": [
    "# Rows to compare before/after on\n",
    "comp_rows = [i for i in range(0, 2)]\n",
    "stats.loc[comp_rows, time_cols]"
   ]
  },
  {
   "cell_type": "code",
   "execution_count": 230,
   "id": "dd990d68-c55d-4041-a26f-a563080fe862",
   "metadata": {},
   "outputs": [],
   "source": [
    "# Convert into total seconds\n",
    "stats[time_cols] = stats[time_cols].apply(\n",
    "    lambda col: pd.to_timedelta(col).dt.total_seconds()\n",
    ")"
   ]
  },
  {
   "cell_type": "markdown",
   "id": "7d15995e-af73-4ebe-8914-ef95e3e87f73",
   "metadata": {},
   "source": [
    "After:"
   ]
  },
  {
   "cell_type": "code",
   "execution_count": 231,
   "id": "e62c51f5-c258-489c-8a08-bea42f6930ae",
   "metadata": {},
   "outputs": [
    {
     "data": {
      "text/html": [
       "<div>\n",
       "<style scoped>\n",
       "    .dataframe tbody tr th:only-of-type {\n",
       "        vertical-align: middle;\n",
       "    }\n",
       "\n",
       "    .dataframe tbody tr th {\n",
       "        vertical-align: top;\n",
       "    }\n",
       "\n",
       "    .dataframe thead th {\n",
       "        text-align: right;\n",
       "    }\n",
       "</style>\n",
       "<table border=\"1\" class=\"dataframe\">\n",
       "  <thead>\n",
       "    <tr style=\"text-align: right;\">\n",
       "      <th></th>\n",
       "      <th>red_fighter_ctrl</th>\n",
       "      <th>blue_fighter_ctrl</th>\n",
       "    </tr>\n",
       "  </thead>\n",
       "  <tbody>\n",
       "    <tr>\n",
       "      <th>0</th>\n",
       "      <td>45.0</td>\n",
       "      <td>0.0</td>\n",
       "    </tr>\n",
       "    <tr>\n",
       "      <th>1</th>\n",
       "      <td>0.0</td>\n",
       "      <td>200.0</td>\n",
       "    </tr>\n",
       "  </tbody>\n",
       "</table>\n",
       "</div>"
      ],
      "text/plain": [
       "   red_fighter_ctrl  blue_fighter_ctrl\n",
       "0              45.0                0.0\n",
       "1               0.0              200.0"
      ]
     },
     "execution_count": 231,
     "metadata": {},
     "output_type": "execute_result"
    }
   ],
   "source": [
    "stats.loc[comp_rows, time_cols]"
   ]
  },
  {
   "cell_type": "markdown",
   "id": "c7e618c7-390e-421c-9f1a-b5f5a7562d5a",
   "metadata": {},
   "source": [
    "Looks good."
   ]
  },
  {
   "cell_type": "code",
   "execution_count": 232,
   "id": "8bef27ea-001b-47f5-a6f7-1e7d2b616216",
   "metadata": {},
   "outputs": [
    {
     "data": {
      "text/plain": [
       "blue_fighter_reach                       1628\n",
       "red_fighter_reach                         997\n",
       "blue_fighter_stance                       780\n",
       "blue_fighter_height                       675\n",
       "blue_fighter_sub_avg_cs                   648\n",
       "blue_fighter_td_def_cs                    648\n",
       "blue_fighter_td_acc_cs                    648\n",
       "blue_fighter_td_avg_cs                    648\n",
       "blue_fighter_str_def_cs                   648\n",
       "blue_fighter_sapm_cs                      648\n",
       "blue_fighter_str_acc_cs                   648\n",
       "blue_fighter_slpm_cs                      648\n",
       "red_fighter_stance                        599\n",
       "red_fighter_height                        541\n",
       "red_fighter_sapm_cs                       526\n",
       "red_fighter_slpm_cs                       526\n",
       "red_fighter_str_acc_cs                    526\n",
       "red_fighter_str_def_cs                    526\n",
       "red_fighter_td_avg_cs                     526\n",
       "red_fighter_td_acc_cs                     526\n",
       "red_fighter_td_def_cs                     526\n",
       "red_fighter_sub_avg_cs                    526\n",
       "red_fighter_ctrl                          199\n",
       "blue_fighter_ctrl                         199\n",
       "red_fighter_sig_str_distance_pos_pct       21\n",
       "blue_fighter_sig_str_head_tar_pct          21\n",
       "red_fighter_sig_str_body_tar_pct           21\n",
       "blue_fighter_sig_str_body_tar_pct          21\n",
       "red_fighter_sig_str_leg_tar_pct            21\n",
       "blue_fighter_sig_str_leg_tar_pct           21\n",
       "blue_fighter_sig_str_clinch_pos_pct        21\n",
       "blue_fighter_sig_str_distance_pos_pct      21\n",
       "red_fighter_sig_str_clinch_pos_pct         21\n",
       "blue_fighter_sig_str_ground_acc_pct        21\n",
       "red_fighter_sig_str_ground_pos_pct         21\n",
       "blue_fighter_sig_str_ground_pos_pct        21\n",
       "red_fighter_sig_str_head_tar_pct           21\n",
       "red_fighter_sig_str_ground_acc_pct         21\n",
       "blue_fighter_total_str_pct                 21\n",
       "red_fighter_sig_str_head_acc_pct           21\n",
       "red_fighter_KD                             21\n",
       "blue_fighter_KD                            21\n",
       "red_fighter_total_str_pct                  21\n",
       "blue_fighter_sig_str_clinch_acc_pct        21\n",
       "red_fighter_sub_att                        21\n",
       "blue_fighter_sub_att                       21\n",
       "blue_fighter_rev                           21\n",
       "red_fighter_rev                            21\n",
       "blue_fighter_sig_str_head_acc_pct          21\n",
       "red_fighter_sig_str_body_acc_pct           21\n",
       "blue_fighter_sig_str_body_acc_pct          21\n",
       "red_fighter_sig_str_leg_acc_pct            21\n",
       "blue_fighter_sig_str_leg_acc_pct           21\n",
       "red_fighter_sig_str_distance_acc_pct       21\n",
       "blue_fighter_sig_str_distance_acc_pct      21\n",
       "red_fighter_sig_str_clinch_acc_pct         21\n",
       "time_format                                 0\n",
       "event_date                                  0\n",
       "red_fighter_result                          0\n",
       "blue_fighter_result                         0\n",
       "dtype: int64"
      ]
     },
     "execution_count": 232,
     "metadata": {},
     "output_type": "execute_result"
    }
   ],
   "source": [
    "# TEST\n",
    "check_nans()"
   ]
  },
  {
   "cell_type": "markdown",
   "id": "56f5c1bd-6033-4087-8c39-900013c198e1",
   "metadata": {},
   "source": [
    "### Dtype converting"
   ]
  },
  {
   "cell_type": "markdown",
   "id": "f990e4d6-838d-42ac-8bef-ddb10d361a1e",
   "metadata": {},
   "source": [
    "Convert columns that are in object dtype but contain values of numerical dtype to remove the pool of features that need to be preprocessed:"
   ]
  },
  {
   "cell_type": "code",
   "execution_count": 233,
   "id": "5360c52d-cc15-497a-aec9-0cd9573602dc",
   "metadata": {},
   "outputs": [
    {
     "data": {
      "text/plain": [
       "object     43\n",
       "float64    28\n",
       "int64       1\n",
       "Name: count, dtype: int64"
      ]
     },
     "execution_count": 233,
     "metadata": {},
     "output_type": "execute_result"
    }
   ],
   "source": [
    "stats.dtypes.value_counts()"
   ]
  },
  {
   "cell_type": "code",
   "execution_count": 234,
   "id": "ccb36942-5ca1-4a49-bacf-8bee19eeb314",
   "metadata": {},
   "outputs": [
    {
     "data": {
      "text/plain": [
       "float32    59\n",
       "object     13\n",
       "Name: count, dtype: int64"
      ]
     },
     "execution_count": 234,
     "metadata": {},
     "output_type": "execute_result"
    }
   ],
   "source": [
    "for col in stats.columns:\n",
    "    try:\n",
    "        stats[col] = pd.to_numeric(stats[col], downcast=\"float\")\n",
    "\n",
    "    # If not possible, (contains strings) we'll handle it in a minute\n",
    "    except:\n",
    "        continue\n",
    "\n",
    "stats.dtypes.value_counts()"
   ]
  },
  {
   "cell_type": "code",
   "execution_count": 235,
   "id": "98bfaddb-bfbe-4b25-84fd-b2702889b7b3",
   "metadata": {},
   "outputs": [
    {
     "data": {
      "text/plain": [
       "blue_fighter_reach                       1628\n",
       "red_fighter_reach                         997\n",
       "blue_fighter_stance                       780\n",
       "blue_fighter_height                       675\n",
       "blue_fighter_sub_avg_cs                   648\n",
       "blue_fighter_td_def_cs                    648\n",
       "blue_fighter_td_acc_cs                    648\n",
       "blue_fighter_td_avg_cs                    648\n",
       "blue_fighter_str_def_cs                   648\n",
       "blue_fighter_sapm_cs                      648\n",
       "blue_fighter_str_acc_cs                   648\n",
       "blue_fighter_slpm_cs                      648\n",
       "red_fighter_stance                        599\n",
       "red_fighter_height                        541\n",
       "red_fighter_sapm_cs                       526\n",
       "red_fighter_slpm_cs                       526\n",
       "red_fighter_str_acc_cs                    526\n",
       "red_fighter_str_def_cs                    526\n",
       "red_fighter_td_avg_cs                     526\n",
       "red_fighter_td_acc_cs                     526\n",
       "red_fighter_td_def_cs                     526\n",
       "red_fighter_sub_avg_cs                    526\n",
       "red_fighter_ctrl                          199\n",
       "blue_fighter_ctrl                         199\n",
       "red_fighter_sig_str_distance_pos_pct       21\n",
       "blue_fighter_sig_str_head_tar_pct          21\n",
       "red_fighter_sig_str_body_tar_pct           21\n",
       "blue_fighter_sig_str_body_tar_pct          21\n",
       "red_fighter_sig_str_leg_tar_pct            21\n",
       "blue_fighter_sig_str_leg_tar_pct           21\n",
       "blue_fighter_sig_str_clinch_pos_pct        21\n",
       "blue_fighter_sig_str_distance_pos_pct      21\n",
       "red_fighter_sig_str_clinch_pos_pct         21\n",
       "blue_fighter_sig_str_ground_acc_pct        21\n",
       "red_fighter_sig_str_ground_pos_pct         21\n",
       "blue_fighter_sig_str_ground_pos_pct        21\n",
       "red_fighter_sig_str_head_tar_pct           21\n",
       "red_fighter_sig_str_ground_acc_pct         21\n",
       "blue_fighter_total_str_pct                 21\n",
       "red_fighter_sig_str_head_acc_pct           21\n",
       "red_fighter_KD                             21\n",
       "blue_fighter_KD                            21\n",
       "red_fighter_total_str_pct                  21\n",
       "blue_fighter_sig_str_clinch_acc_pct        21\n",
       "red_fighter_sub_att                        21\n",
       "blue_fighter_sub_att                       21\n",
       "blue_fighter_rev                           21\n",
       "red_fighter_rev                            21\n",
       "blue_fighter_sig_str_head_acc_pct          21\n",
       "red_fighter_sig_str_body_acc_pct           21\n",
       "blue_fighter_sig_str_body_acc_pct          21\n",
       "red_fighter_sig_str_leg_acc_pct            21\n",
       "blue_fighter_sig_str_leg_acc_pct           21\n",
       "red_fighter_sig_str_distance_acc_pct       21\n",
       "blue_fighter_sig_str_distance_acc_pct      21\n",
       "red_fighter_sig_str_clinch_acc_pct         21\n",
       "time_format                                 0\n",
       "event_date                                  0\n",
       "red_fighter_result                          0\n",
       "blue_fighter_result                         0\n",
       "dtype: int64"
      ]
     },
     "execution_count": 235,
     "metadata": {},
     "output_type": "execute_result"
    }
   ],
   "source": [
    "# TEST\n",
    "check_nans()"
   ]
  },
  {
   "cell_type": "markdown",
   "id": "13c8085f-58fe-4ead-bd78-7c86c31eaef0",
   "metadata": {},
   "source": [
    "## Feature Engineering"
   ]
  },
  {
   "cell_type": "markdown",
   "id": "c005dfa4-7747-497c-9c0f-7f6b6aedb4b2",
   "metadata": {},
   "source": [
    "### Winner"
   ]
  },
  {
   "cell_type": "markdown",
   "id": "8a74be98-0018-4a58-8aa3-7b04d7314bd7",
   "metadata": {},
   "source": [
    "Adding a winner feature:"
   ]
  },
  {
   "cell_type": "code",
   "execution_count": 236,
   "id": "ff0c0021-50b5-4f10-bac9-8d03cd9909b1",
   "metadata": {},
   "outputs": [],
   "source": [
    "stats.loc[:, \"winner\"] = stats[\"red_fighter_result\"].apply(\n",
    "    lambda x: \"red\" if x == \"W\" else \"blue\"\n",
    ")"
   ]
  },
  {
   "cell_type": "code",
   "execution_count": 237,
   "id": "88d593ad-3ed2-49d0-9eb0-af396a1d0d83",
   "metadata": {},
   "outputs": [
    {
     "data": {
      "text/plain": [
       "0     red\n",
       "1    blue\n",
       "2     red\n",
       "Name: winner, dtype: object"
      ]
     },
     "execution_count": 237,
     "metadata": {},
     "output_type": "execute_result"
    }
   ],
   "source": [
    "stats[\"winner\"].head(3)"
   ]
  },
  {
   "cell_type": "markdown",
   "id": "002c1106-027e-4658-9325-c8b70649a113",
   "metadata": {},
   "source": [
    "Since we now have the `winner` feature, we can drop the `red_fighter_result/blue_fighter_result` features:"
   ]
  },
  {
   "cell_type": "code",
   "execution_count": 238,
   "id": "8434e3da-e40d-4c93-8982-977d0199b771",
   "metadata": {},
   "outputs": [],
   "source": [
    "stats.drop(columns=[\"red_fighter_result\", \"blue_fighter_result\"], inplace=True)"
   ]
  },
  {
   "cell_type": "markdown",
   "id": "7f7fd713-3550-477f-a4e9-8ad5f95d971c",
   "metadata": {},
   "source": [
    "### Winner_feature/loser_feature"
   ]
  },
  {
   "cell_type": "markdown",
   "id": "95805e9e-c64b-41d4-a375-f1fde268e7ea",
   "metadata": {},
   "source": [
    "Let's change the columns from `red/blue_fighter`+`feature name` to `winner/loser`+`feature name`."
   ]
  },
  {
   "cell_type": "markdown",
   "id": "d7c9aedd-4da2-46b7-8811-b649e65a985e",
   "metadata": {},
   "source": [
    "Saving the order of the columns first because it will be distorted:"
   ]
  },
  {
   "cell_type": "code",
   "execution_count": 239,
   "id": "f0abe83c-a6f9-41d8-a192-fa61ab160e60",
   "metadata": {},
   "outputs": [],
   "source": [
    "def rename_condition(col):\n",
    "    if col.startswith(\"red_fighter_\"):\n",
    "        return col.replace(\"red_fighter_\", \"winner_\")\n",
    "    elif col.startswith(\"blue_fighter_\"):\n",
    "        return col.replace(\"blue_fighter_\", \"loser_\")\n",
    "    return col"
   ]
  },
  {
   "cell_type": "code",
   "execution_count": 240,
   "id": "eab430ab-edfa-4997-828a-973c0cd36748",
   "metadata": {},
   "outputs": [],
   "source": [
    "# Get the renamed cols order\n",
    "cols_order = [rename_condition(col) for col in stats.columns]"
   ]
  },
  {
   "cell_type": "markdown",
   "id": "01c7da48-00f5-4e4c-90f9-7ed30902cf8b",
   "metadata": {},
   "source": [
    "Function for setting winner & loser:"
   ]
  },
  {
   "cell_type": "code",
   "execution_count": 241,
   "id": "aaac7319-63d4-47bc-a5a6-fcded0d5d067",
   "metadata": {},
   "outputs": [],
   "source": [
    "def set_winner_n_loser(df, winner_col=\"winner\"):\n",
    "    \"\"\"Filters what columns to take into account,\n",
    "    creates new columns, instead of red/blue makes winner/loser,\n",
    "    gets data points from red/blue column based on\n",
    "    the value of the feature 'winner' in that same row.\"\"\"\n",
    "\n",
    "    df = df.copy()\n",
    "    cols_to_drop = []\n",
    "\n",
    "    # Find all red columns that have blue equivalents\n",
    "    for col in df.columns:\n",
    "        if col.startswith(\"red_fighter_\"):\n",
    "            base = col.removeprefix(\"red_fighter_\")\n",
    "            red_col = f\"red_fighter_{base}\"\n",
    "            blue_col = f\"blue_fighter_{base}\"\n",
    "\n",
    "            # If blue counterpart exists\n",
    "            if blue_col in df.columns:\n",
    "                # Create winner/loser columns\n",
    "                df[f\"winner_{base}\"] = np.where(\n",
    "                    df[winner_col] == \"red\", df[red_col], df[blue_col]\n",
    "                )\n",
    "                df[f\"loser_{base}\"] = np.where(\n",
    "                    df[winner_col] == \"blue\", df[red_col], df[blue_col]\n",
    "                )\n",
    "\n",
    "                cols_to_drop.extend([red_col, blue_col])\n",
    "\n",
    "    # Drop the red/blue columns to keep only winner/loser\n",
    "    df = df.drop(columns=cols_to_drop)\n",
    "    return df"
   ]
  },
  {
   "cell_type": "code",
   "execution_count": 242,
   "id": "0b274e76-527c-43c5-9882-34b4fd67cc4c",
   "metadata": {},
   "outputs": [
    {
     "data": {
      "text/plain": [
       "Index(['event_date', 'method', 'round', 'time', 'time_format'], dtype='object')"
      ]
     },
     "execution_count": 242,
     "metadata": {},
     "output_type": "execute_result"
    }
   ],
   "source": [
    "stats = set_winner_n_loser(stats)\n",
    "stats.columns[:5]"
   ]
  },
  {
   "cell_type": "markdown",
   "id": "2fa3bdf7-a41a-4c14-80da-10ccb6e29ae0",
   "metadata": {},
   "source": [
    "Setting the previous, correct order up:"
   ]
  },
  {
   "cell_type": "code",
   "execution_count": 243,
   "id": "c7b170f2-c837-4c8e-a513-6451320fa350",
   "metadata": {},
   "outputs": [],
   "source": [
    "stats = stats.loc[:, cols_order]"
   ]
  },
  {
   "cell_type": "code",
   "execution_count": 244,
   "id": "d657077c-d488-4941-9486-7fdd0d5d4e54",
   "metadata": {},
   "outputs": [
    {
     "data": {
      "text/plain": [
       "Index(['winner_name', 'loser_name', 'event_date', 'method', 'round'], dtype='object')"
      ]
     },
     "execution_count": 244,
     "metadata": {},
     "output_type": "execute_result"
    }
   ],
   "source": [
    "stats.columns[:5]"
   ]
  },
  {
   "cell_type": "code",
   "execution_count": 245,
   "id": "348181e6-bd95-4a81-9486-72634b5740a7",
   "metadata": {},
   "outputs": [
    {
     "data": {
      "text/plain": [
       "loser_reach                        1600\n",
       "winner_reach                       1025\n",
       "winner_stance                       694\n",
       "loser_stance                        685\n",
       "winner_height                       630\n",
       "winner_sapm_cs                      614\n",
       "winner_td_acc_cs                    614\n",
       "winner_sub_avg_cs                   614\n",
       "winner_slpm_cs                      614\n",
       "winner_str_acc_cs                   614\n",
       "winner_td_avg_cs                    614\n",
       "winner_str_def_cs                   614\n",
       "winner_td_def_cs                    614\n",
       "loser_height                        586\n",
       "loser_str_acc_cs                    560\n",
       "loser_slpm_cs                       560\n",
       "loser_str_def_cs                    560\n",
       "loser_td_avg_cs                     560\n",
       "loser_sub_avg_cs                    560\n",
       "loser_td_acc_cs                     560\n",
       "loser_td_def_cs                     560\n",
       "loser_sapm_cs                       560\n",
       "loser_ctrl                          199\n",
       "winner_ctrl                         199\n",
       "loser_sig_str_ground_pos_pct         21\n",
       "loser_sig_str_clinch_pos_pct         21\n",
       "winner_sig_str_clinch_pos_pct        21\n",
       "loser_sig_str_distance_pos_pct       21\n",
       "winner_sig_str_head_tar_pct          21\n",
       "winner_sig_str_distance_pos_pct      21\n",
       "loser_sig_str_leg_tar_pct            21\n",
       "winner_sig_str_leg_tar_pct           21\n",
       "loser_sig_str_body_tar_pct           21\n",
       "winner_sig_str_body_tar_pct          21\n",
       "loser_sig_str_head_tar_pct           21\n",
       "winner_sig_str_ground_pos_pct        21\n",
       "loser_sig_str_ground_acc_pct         21\n",
       "winner_sig_str_ground_acc_pct        21\n",
       "loser_rev                            21\n",
       "winner_KD                            21\n",
       "loser_KD                             21\n",
       "winner_total_str_pct                 21\n",
       "loser_total_str_pct                  21\n",
       "winner_sub_att                       21\n",
       "loser_sub_att                        21\n",
       "winner_rev                           21\n",
       "winner_sig_str_head_acc_pct          21\n",
       "loser_sig_str_clinch_acc_pct         21\n",
       "loser_sig_str_head_acc_pct           21\n",
       "winner_sig_str_body_acc_pct          21\n",
       "loser_sig_str_body_acc_pct           21\n",
       "loser_sig_str_leg_acc_pct            21\n",
       "winner_sig_str_distance_acc_pct      21\n",
       "loser_sig_str_distance_acc_pct       21\n",
       "winner_sig_str_clinch_acc_pct        21\n",
       "winner_sig_str_leg_acc_pct           21\n",
       "winner_name                           0\n",
       "loser_name                            0\n",
       "loser_TD_pct                          0\n",
       "winner_TD_pct                         0\n",
       "dtype: int64"
      ]
     },
     "execution_count": 245,
     "metadata": {},
     "output_type": "execute_result"
    }
   ],
   "source": [
    "# TEST\n",
    "check_nans()"
   ]
  },
  {
   "cell_type": "markdown",
   "id": "e0361237-66cd-4bff-a2ed-108744caa5c9",
   "metadata": {},
   "source": [
    "### Delta"
   ]
  },
  {
   "cell_type": "markdown",
   "id": "35858e01-5b2b-451e-b533-862a72f3bb87",
   "metadata": {},
   "source": [
    "Let's now decrease the amount of features by half. We're going to use *delta* for this. For example, instead of having both `winner_striking_dominance` and `loser_striking_dominance` features, we're going to just have `delta_striking_dominance`. Which would just be `winner_striking_dominance` - `loser_striking_dominance`. Where a positive value would mean that the winner has a higher striking dominance factor and vice versa for negative."
   ]
  },
  {
   "cell_type": "code",
   "execution_count": 347,
   "id": "93caa6f5-5482-4396-83d2-7d38bcbb8105",
   "metadata": {},
   "outputs": [],
   "source": [
    "def deltafy_data(df):\n",
    "    \"\"\"Filters what columns to process,\n",
    "    creates new columns, instead of winner/loser makes delta.\n",
    "    Merges the new delta columns to the df, and drops the previous winner/loser columns.\n",
    "    \"\"\"\n",
    "\n",
    "    df = df.copy()\n",
    "    cols_to_drop = []\n",
    "\n",
    "    # Get the columns that are numerical and have winner/loser counterparts\n",
    "    delta_cols = {}\n",
    "\n",
    "    for col in df.columns:\n",
    "        if col.startswith(\"winner_\"):\n",
    "            base = col.removeprefix(\"winner_\")\n",
    "            winner_col = f\"winner_{base}\"\n",
    "            loser_col = f\"loser_{base}\"\n",
    "\n",
    "            # If loser counterpart also exists, and col dtype is numerical => calculate delta\n",
    "            if loser_col in df.columns and df[col].dtype in (np.float32, int):\n",
    "                delta_cols[f\"delta_{base}\"] = np.round(\n",
    "                    df[winner_col] - df[loser_col], 2\n",
    "                )\n",
    "\n",
    "                cols_to_drop.extend([winner_col, loser_col])\n",
    "\n",
    "    # Delta df\n",
    "    delta_df = pd.DataFrame(delta_cols)\n",
    "\n",
    "    # Concat to the original one\n",
    "    df = pd.concat([df, delta_df], axis=1)\n",
    "\n",
    "    # Drop the winner/loser columns to keep only delta\n",
    "    df.drop(columns=cols_to_drop, inplace=True)\n",
    "    return df"
   ]
  },
  {
   "cell_type": "code",
   "execution_count": 348,
   "id": "40af51d0-cf45-4586-9a97-405c6c72a6e5",
   "metadata": {},
   "outputs": [
    {
     "data": {
      "text/plain": [
       "Index(['winner_name', 'loser_name', 'event_date', 'method', 'round', 'time',\n",
       "       'time_format', 'bout_type', 'event_name', 'event_location',\n",
       "       'winner_stance', 'loser_stance', 'winner', 'delta_KD',\n",
       "       'delta_sig_str_pct', 'delta_total_str_pct', 'delta_TD_pct',\n",
       "       'delta_sub_att', 'delta_rev', 'delta_ctrl',\n",
       "       'delta_sig_str_head_acc_pct', 'delta_sig_str_body_acc_pct',\n",
       "       'delta_sig_str_leg_acc_pct', 'delta_sig_str_distance_acc_pct',\n",
       "       'delta_sig_str_clinch_acc_pct', 'delta_sig_str_ground_acc_pct',\n",
       "       'delta_sig_str_head_tar_pct', 'delta_sig_str_body_tar_pct',\n",
       "       'delta_sig_str_leg_tar_pct', 'delta_sig_str_distance_pos_pct',\n",
       "       'delta_sig_str_clinch_pos_pct', 'delta_sig_str_ground_pos_pct',\n",
       "       'delta_height', 'delta_reach', 'delta_slpm_cs', 'delta_str_acc_cs',\n",
       "       'delta_sapm_cs', 'delta_str_def_cs', 'delta_td_avg_cs',\n",
       "       'delta_td_acc_cs', 'delta_td_def_cs', 'delta_sub_avg_cs'],\n",
       "      dtype='object')"
      ]
     },
     "execution_count": 348,
     "metadata": {},
     "output_type": "execute_result"
    }
   ],
   "source": [
    "stats = deltafy_data(stats)\n",
    "stats.columns"
   ]
  },
  {
   "cell_type": "code",
   "execution_count": 349,
   "id": "c177bf19-713a-4bbd-8a8b-fc55a1ab87ab",
   "metadata": {},
   "outputs": [
    {
     "data": {
      "text/plain": [
       "delta_reach                       2049\n",
       "delta_height                       941\n",
       "delta_sub_avg_cs                   905\n",
       "delta_td_def_cs                    905\n",
       "delta_td_acc_cs                    905\n",
       "delta_td_avg_cs                    905\n",
       "delta_str_def_cs                   905\n",
       "delta_sapm_cs                      905\n",
       "delta_str_acc_cs                   905\n",
       "delta_slpm_cs                      905\n",
       "winner_stance                      694\n",
       "loser_stance                       685\n",
       "delta_ctrl                         199\n",
       "delta_sig_str_distance_acc_pct      21\n",
       "delta_sig_str_ground_pos_pct        21\n",
       "delta_sig_str_clinch_pos_pct        21\n",
       "delta_sig_str_distance_pos_pct      21\n",
       "delta_sig_str_leg_tar_pct           21\n",
       "delta_sig_str_body_tar_pct          21\n",
       "delta_sig_str_head_tar_pct          21\n",
       "delta_sig_str_ground_acc_pct        21\n",
       "delta_sig_str_clinch_acc_pct        21\n",
       "delta_sig_str_body_acc_pct          21\n",
       "delta_sig_str_leg_acc_pct           21\n",
       "delta_sig_str_head_acc_pct          21\n",
       "delta_rev                           21\n",
       "delta_sub_att                       21\n",
       "delta_total_str_pct                 21\n",
       "delta_KD                            21\n",
       "bout_type                            0\n",
       "event_date                           0\n",
       "method                               0\n",
       "round                                0\n",
       "time                                 0\n",
       "time_format                          0\n",
       "winner                               0\n",
       "event_name                           0\n",
       "event_location                       0\n",
       "loser_name                           0\n",
       "delta_sig_str_pct                    0\n",
       "delta_TD_pct                         0\n",
       "winner_name                          0\n",
       "dtype: int64"
      ]
     },
     "execution_count": 349,
     "metadata": {},
     "output_type": "execute_result"
    }
   ],
   "source": [
    "check_nans()"
   ]
  },
  {
   "cell_type": "code",
   "execution_count": 350,
   "id": "cbd2d3e3-7431-4cd1-b609-9372251f8dac",
   "metadata": {},
   "outputs": [
    {
     "data": {
      "text/html": [
       "<div>\n",
       "<style scoped>\n",
       "    .dataframe tbody tr th:only-of-type {\n",
       "        vertical-align: middle;\n",
       "    }\n",
       "\n",
       "    .dataframe tbody tr th {\n",
       "        vertical-align: top;\n",
       "    }\n",
       "\n",
       "    .dataframe thead th {\n",
       "        text-align: right;\n",
       "    }\n",
       "</style>\n",
       "<table border=\"1\" class=\"dataframe\">\n",
       "  <thead>\n",
       "    <tr style=\"text-align: right;\">\n",
       "      <th></th>\n",
       "      <th>winner_name</th>\n",
       "      <th>loser_name</th>\n",
       "      <th>event_date</th>\n",
       "      <th>method</th>\n",
       "      <th>round</th>\n",
       "      <th>time</th>\n",
       "      <th>time_format</th>\n",
       "      <th>bout_type</th>\n",
       "      <th>event_name</th>\n",
       "      <th>event_location</th>\n",
       "      <th>...</th>\n",
       "      <th>delta_height</th>\n",
       "      <th>delta_reach</th>\n",
       "      <th>delta_slpm_cs</th>\n",
       "      <th>delta_str_acc_cs</th>\n",
       "      <th>delta_sapm_cs</th>\n",
       "      <th>delta_str_def_cs</th>\n",
       "      <th>delta_td_avg_cs</th>\n",
       "      <th>delta_td_acc_cs</th>\n",
       "      <th>delta_td_def_cs</th>\n",
       "      <th>delta_sub_avg_cs</th>\n",
       "    </tr>\n",
       "  </thead>\n",
       "  <tbody>\n",
       "    <tr>\n",
       "      <th>0</th>\n",
       "      <td>ILIA TOPURIA</td>\n",
       "      <td>MAX HOLLOWAY</td>\n",
       "      <td>26/10/2024</td>\n",
       "      <td>KO/TKO</td>\n",
       "      <td>3.0</td>\n",
       "      <td>1:34</td>\n",
       "      <td>5 Rnd (5-5-5-5-5)</td>\n",
       "      <td>UFC Featherweight Title Bout</td>\n",
       "      <td>UFC 308: Topuria vs. Holloway</td>\n",
       "      <td>Abu Dhabi, Abu Dhabi, United Arab Emirates</td>\n",
       "      <td>...</td>\n",
       "      <td>-10.16</td>\n",
       "      <td>0.00</td>\n",
       "      <td>-4.76</td>\n",
       "      <td>-1.0</td>\n",
       "      <td>-2.71</td>\n",
       "      <td>8.0</td>\n",
       "      <td>4.04</td>\n",
       "      <td>-16.0</td>\n",
       "      <td>16.0</td>\n",
       "      <td>3.9</td>\n",
       "    </tr>\n",
       "    <tr>\n",
       "      <th>1</th>\n",
       "      <td>KHAMZAT CHIMAEV</td>\n",
       "      <td>ROBERT WHITTAKER</td>\n",
       "      <td>26/10/2024</td>\n",
       "      <td>Submission</td>\n",
       "      <td>1.0</td>\n",
       "      <td>3:34</td>\n",
       "      <td>5 Rnd (5-5-5-5-5)</td>\n",
       "      <td>Middleweight Bout</td>\n",
       "      <td>UFC 308: Topuria vs. Holloway</td>\n",
       "      <td>Abu Dhabi, Abu Dhabi, United Arab Emirates</td>\n",
       "      <td>...</td>\n",
       "      <td>5.08</td>\n",
       "      <td>5.08</td>\n",
       "      <td>4.51</td>\n",
       "      <td>32.0</td>\n",
       "      <td>-3.34</td>\n",
       "      <td>6.0</td>\n",
       "      <td>4.24</td>\n",
       "      <td>48.0</td>\n",
       "      <td>-84.0</td>\n",
       "      <td>3.1</td>\n",
       "    </tr>\n",
       "    <tr>\n",
       "      <th>2</th>\n",
       "      <td>MAGOMED ANKALAEV</td>\n",
       "      <td>ALEKSANDAR RAKIC</td>\n",
       "      <td>26/10/2024</td>\n",
       "      <td>Decision - Unanimous</td>\n",
       "      <td>3.0</td>\n",
       "      <td>5:00</td>\n",
       "      <td>3 Rnd (5-5-5)</td>\n",
       "      <td>Light Heavyweight Bout</td>\n",
       "      <td>UFC 308: Topuria vs. Holloway</td>\n",
       "      <td>Abu Dhabi, Abu Dhabi, United Arab Emirates</td>\n",
       "      <td>...</td>\n",
       "      <td>-2.54</td>\n",
       "      <td>-7.62</td>\n",
       "      <td>-0.82</td>\n",
       "      <td>1.0</td>\n",
       "      <td>-0.45</td>\n",
       "      <td>13.0</td>\n",
       "      <td>0.43</td>\n",
       "      <td>8.0</td>\n",
       "      <td>-5.0</td>\n",
       "      <td>-0.2</td>\n",
       "    </tr>\n",
       "  </tbody>\n",
       "</table>\n",
       "<p>3 rows × 42 columns</p>\n",
       "</div>"
      ],
      "text/plain": [
       "        winner_name        loser_name  event_date                method  \\\n",
       "0      ILIA TOPURIA      MAX HOLLOWAY  26/10/2024                KO/TKO   \n",
       "1   KHAMZAT CHIMAEV  ROBERT WHITTAKER  26/10/2024            Submission   \n",
       "2  MAGOMED ANKALAEV  ALEKSANDAR RAKIC  26/10/2024  Decision - Unanimous   \n",
       "\n",
       "   round  time        time_format                     bout_type  \\\n",
       "0    3.0  1:34  5 Rnd (5-5-5-5-5)  UFC Featherweight Title Bout   \n",
       "1    1.0  3:34  5 Rnd (5-5-5-5-5)             Middleweight Bout   \n",
       "2    3.0  5:00      3 Rnd (5-5-5)        Light Heavyweight Bout   \n",
       "\n",
       "                      event_name                              event_location  \\\n",
       "0  UFC 308: Topuria vs. Holloway  Abu Dhabi, Abu Dhabi, United Arab Emirates   \n",
       "1  UFC 308: Topuria vs. Holloway  Abu Dhabi, Abu Dhabi, United Arab Emirates   \n",
       "2  UFC 308: Topuria vs. Holloway  Abu Dhabi, Abu Dhabi, United Arab Emirates   \n",
       "\n",
       "   ... delta_height delta_reach delta_slpm_cs  delta_str_acc_cs  \\\n",
       "0  ...       -10.16        0.00         -4.76              -1.0   \n",
       "1  ...         5.08        5.08          4.51              32.0   \n",
       "2  ...        -2.54       -7.62         -0.82               1.0   \n",
       "\n",
       "   delta_sapm_cs  delta_str_def_cs  delta_td_avg_cs  delta_td_acc_cs  \\\n",
       "0          -2.71               8.0             4.04            -16.0   \n",
       "1          -3.34               6.0             4.24             48.0   \n",
       "2          -0.45              13.0             0.43              8.0   \n",
       "\n",
       "   delta_td_def_cs  delta_sub_avg_cs  \n",
       "0             16.0               3.9  \n",
       "1            -84.0               3.1  \n",
       "2             -5.0              -0.2  \n",
       "\n",
       "[3 rows x 42 columns]"
      ]
     },
     "execution_count": 350,
     "metadata": {},
     "output_type": "execute_result"
    }
   ],
   "source": [
    "stats.head(3)"
   ]
  },
  {
   "cell_type": "markdown",
   "id": "b47d66aa-a31d-4572-ad87-97dee2c5440b",
   "metadata": {},
   "source": [
    "# Saving"
   ]
  },
  {
   "cell_type": "markdown",
   "id": "0fb97d25-e771-4c0e-a9ac-458eeafa3774",
   "metadata": {},
   "source": [
    "Saving preprocessed, cleaned, merged, feature-engineer added, ready for EDA dataset:"
   ]
  },
  {
   "cell_type": "code",
   "execution_count": 351,
   "id": "125ca249-f15c-41aa-9023-a643b5124950",
   "metadata": {},
   "outputs": [],
   "source": [
    "stats.to_csv(\"../stats/stats_processed.csv\", sep=\";\", index=False)"
   ]
  }
 ],
 "metadata": {
  "kernelspec": {
   "display_name": "Python 3 (ipykernel)",
   "language": "python",
   "name": "python3"
  },
  "language_info": {
   "codemirror_mode": {
    "name": "ipython",
    "version": 3
   },
   "file_extension": ".py",
   "mimetype": "text/x-python",
   "name": "python",
   "nbconvert_exporter": "python",
   "pygments_lexer": "ipython3",
   "version": "3.12.2"
  }
 },
 "nbformat": 4,
 "nbformat_minor": 5
}
