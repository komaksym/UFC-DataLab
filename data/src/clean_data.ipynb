{
 "cells": [
  {
   "cell_type": "code",
   "execution_count": 37,
   "id": "1fb5a3ac-993f-49b9-a4d8-7e3520c4b1fd",
   "metadata": {},
   "outputs": [],
   "source": [
    "import re\n",
    "\n",
    "import numpy as np\n",
    "import pandas as pd"
   ]
  },
  {
   "cell_type": "markdown",
   "id": "431f2299-7741-421c-94db-fa98d9fd4c92",
   "metadata": {},
   "source": [
    "# Loading data"
   ]
  },
  {
   "cell_type": "markdown",
   "id": "42efb423-b665-43c8-8560-6669cc44e520",
   "metadata": {},
   "source": [
    "## Loading fights dataset"
   ]
  },
  {
   "cell_type": "code",
   "execution_count": 38,
   "id": "cececaf4-1ab3-4bd7-9cba-0628e99d0cac",
   "metadata": {
    "panel-layout": {
     "height": 516.5,
     "visible": true,
     "width": 100
    },
    "scrolled": true
   },
   "outputs": [
    {
     "data": {
      "text/html": [
       "<div>\n",
       "<style scoped>\n",
       "    .dataframe tbody tr th:only-of-type {\n",
       "        vertical-align: middle;\n",
       "    }\n",
       "\n",
       "    .dataframe tbody tr th {\n",
       "        vertical-align: top;\n",
       "    }\n",
       "\n",
       "    .dataframe thead th {\n",
       "        text-align: right;\n",
       "    }\n",
       "</style>\n",
       "<table border=\"1\" class=\"dataframe\">\n",
       "  <thead>\n",
       "    <tr style=\"text-align: right;\">\n",
       "      <th></th>\n",
       "      <th>red_fighter_name</th>\n",
       "      <th>blue_fighter_name</th>\n",
       "      <th>event_date</th>\n",
       "      <th>red_fighter_nickname</th>\n",
       "      <th>blue_fighter_nickname</th>\n",
       "      <th>red_fighter_result</th>\n",
       "      <th>blue_fighter_result</th>\n",
       "      <th>method</th>\n",
       "      <th>round</th>\n",
       "      <th>time</th>\n",
       "      <th>...</th>\n",
       "      <th>red_fighter_sig_str_body_pct</th>\n",
       "      <th>blue_fighter_sig_str_body_pct</th>\n",
       "      <th>red_fighter_sig_str_leg_pct</th>\n",
       "      <th>blue_fighter_sig_str_leg_pct</th>\n",
       "      <th>red_fighter_sig_str_distance_pct</th>\n",
       "      <th>blue_fighter_sig_str_distance_pct</th>\n",
       "      <th>red_fighter_sig_str_clinch_pct</th>\n",
       "      <th>blue_fighter_sig_str_clinch_pct</th>\n",
       "      <th>red_fighter_sig_str_ground_pct</th>\n",
       "      <th>blue_fighter_sig_str_ground_pct</th>\n",
       "    </tr>\n",
       "  </thead>\n",
       "  <tbody>\n",
       "    <tr>\n",
       "      <th>0</th>\n",
       "      <td>ILIA TOPURIA</td>\n",
       "      <td>MAX HOLLOWAY</td>\n",
       "      <td>26/10/2024</td>\n",
       "      <td>El Matador</td>\n",
       "      <td>Blessed</td>\n",
       "      <td>W</td>\n",
       "      <td>L</td>\n",
       "      <td>KO/TKO</td>\n",
       "      <td>3</td>\n",
       "      <td>1:34</td>\n",
       "      <td>...</td>\n",
       "      <td>14</td>\n",
       "      <td>16</td>\n",
       "      <td>20</td>\n",
       "      <td>24</td>\n",
       "      <td>94</td>\n",
       "      <td>100</td>\n",
       "      <td>0</td>\n",
       "      <td>0</td>\n",
       "      <td>5</td>\n",
       "      <td>0</td>\n",
       "    </tr>\n",
       "    <tr>\n",
       "      <th>1</th>\n",
       "      <td>ROBERT WHITTAKER</td>\n",
       "      <td>KHAMZAT CHIMAEV</td>\n",
       "      <td>26/10/2024</td>\n",
       "      <td>The Reaper</td>\n",
       "      <td>Borz</td>\n",
       "      <td>L</td>\n",
       "      <td>W</td>\n",
       "      <td>Submission</td>\n",
       "      <td>1</td>\n",
       "      <td>3:34</td>\n",
       "      <td>...</td>\n",
       "      <td>0</td>\n",
       "      <td>33</td>\n",
       "      <td>100</td>\n",
       "      <td>0</td>\n",
       "      <td>100</td>\n",
       "      <td>0</td>\n",
       "      <td>0</td>\n",
       "      <td>0</td>\n",
       "      <td>0</td>\n",
       "      <td>100</td>\n",
       "    </tr>\n",
       "    <tr>\n",
       "      <th>2</th>\n",
       "      <td>MAGOMED ANKALAEV</td>\n",
       "      <td>ALEKSANDAR RAKIC</td>\n",
       "      <td>26/10/2024</td>\n",
       "      <td>-</td>\n",
       "      <td>Rocket</td>\n",
       "      <td>W</td>\n",
       "      <td>L</td>\n",
       "      <td>Decision - Unanimous</td>\n",
       "      <td>3</td>\n",
       "      <td>5:00</td>\n",
       "      <td>...</td>\n",
       "      <td>40</td>\n",
       "      <td>16</td>\n",
       "      <td>23</td>\n",
       "      <td>64</td>\n",
       "      <td>90</td>\n",
       "      <td>94</td>\n",
       "      <td>9</td>\n",
       "      <td>5</td>\n",
       "      <td>0</td>\n",
       "      <td>0</td>\n",
       "    </tr>\n",
       "    <tr>\n",
       "      <th>3</th>\n",
       "      <td>LERONE MURPHY</td>\n",
       "      <td>DAN IGE</td>\n",
       "      <td>26/10/2024</td>\n",
       "      <td>The Miracle</td>\n",
       "      <td>50K</td>\n",
       "      <td>W</td>\n",
       "      <td>L</td>\n",
       "      <td>Decision - Unanimous</td>\n",
       "      <td>3</td>\n",
       "      <td>5:00</td>\n",
       "      <td>...</td>\n",
       "      <td>23</td>\n",
       "      <td>10</td>\n",
       "      <td>7</td>\n",
       "      <td>13</td>\n",
       "      <td>71</td>\n",
       "      <td>69</td>\n",
       "      <td>23</td>\n",
       "      <td>13</td>\n",
       "      <td>5</td>\n",
       "      <td>17</td>\n",
       "    </tr>\n",
       "    <tr>\n",
       "      <th>4</th>\n",
       "      <td>SHARA MAGOMEDOV</td>\n",
       "      <td>ARMEN PETROSYAN</td>\n",
       "      <td>26/10/2024</td>\n",
       "      <td>Bullet</td>\n",
       "      <td>Superman</td>\n",
       "      <td>W</td>\n",
       "      <td>L</td>\n",
       "      <td>KO/TKO</td>\n",
       "      <td>2</td>\n",
       "      <td>4:52</td>\n",
       "      <td>...</td>\n",
       "      <td>44</td>\n",
       "      <td>12</td>\n",
       "      <td>18</td>\n",
       "      <td>58</td>\n",
       "      <td>96</td>\n",
       "      <td>97</td>\n",
       "      <td>3</td>\n",
       "      <td>2</td>\n",
       "      <td>0</td>\n",
       "      <td>0</td>\n",
       "    </tr>\n",
       "  </tbody>\n",
       "</table>\n",
       "<p>5 rows × 59 columns</p>\n",
       "</div>"
      ],
      "text/plain": [
       "   red_fighter_name blue_fighter_name  event_date red_fighter_nickname  \\\n",
       "0      ILIA TOPURIA      MAX HOLLOWAY  26/10/2024           El Matador   \n",
       "1  ROBERT WHITTAKER   KHAMZAT CHIMAEV  26/10/2024           The Reaper   \n",
       "2  MAGOMED ANKALAEV  ALEKSANDAR RAKIC  26/10/2024                    -   \n",
       "3     LERONE MURPHY           DAN IGE  26/10/2024          The Miracle   \n",
       "4   SHARA MAGOMEDOV   ARMEN PETROSYAN  26/10/2024               Bullet   \n",
       "\n",
       "  blue_fighter_nickname red_fighter_result blue_fighter_result  \\\n",
       "0               Blessed                  W                   L   \n",
       "1                  Borz                  L                   W   \n",
       "2                Rocket                  W                   L   \n",
       "3                   50K                  W                   L   \n",
       "4              Superman                  W                   L   \n",
       "\n",
       "                 method  round  time  ... red_fighter_sig_str_body_pct  \\\n",
       "0                KO/TKO      3  1:34  ...                           14   \n",
       "1            Submission      1  3:34  ...                            0   \n",
       "2  Decision - Unanimous      3  5:00  ...                           40   \n",
       "3  Decision - Unanimous      3  5:00  ...                           23   \n",
       "4                KO/TKO      2  4:52  ...                           44   \n",
       "\n",
       "  blue_fighter_sig_str_body_pct red_fighter_sig_str_leg_pct  \\\n",
       "0                            16                          20   \n",
       "1                            33                         100   \n",
       "2                            16                          23   \n",
       "3                            10                           7   \n",
       "4                            12                          18   \n",
       "\n",
       "  blue_fighter_sig_str_leg_pct red_fighter_sig_str_distance_pct  \\\n",
       "0                           24                               94   \n",
       "1                            0                              100   \n",
       "2                           64                               90   \n",
       "3                           13                               71   \n",
       "4                           58                               96   \n",
       "\n",
       "  blue_fighter_sig_str_distance_pct red_fighter_sig_str_clinch_pct  \\\n",
       "0                               100                              0   \n",
       "1                                 0                              0   \n",
       "2                                94                              9   \n",
       "3                                69                             23   \n",
       "4                                97                              3   \n",
       "\n",
       "  blue_fighter_sig_str_clinch_pct red_fighter_sig_str_ground_pct  \\\n",
       "0                               0                              5   \n",
       "1                               0                              0   \n",
       "2                               5                              0   \n",
       "3                              13                              5   \n",
       "4                               2                              0   \n",
       "\n",
       "  blue_fighter_sig_str_ground_pct  \n",
       "0                               0  \n",
       "1                             100  \n",
       "2                               0  \n",
       "3                              17  \n",
       "4                               0  \n",
       "\n",
       "[5 rows x 59 columns]"
      ]
     },
     "execution_count": 38,
     "metadata": {},
     "output_type": "execute_result"
    }
   ],
   "source": [
    "fights_stats = pd.read_csv(\"../stats/stats_raw.csv\", sep=\";\")\n",
    "fights_stats.head()"
   ]
  },
  {
   "cell_type": "markdown",
   "id": "b9d12fbb-70d7-4d49-928c-9858426b7fd7",
   "metadata": {},
   "source": [
    "## Drop redundant features"
   ]
  },
  {
   "cell_type": "markdown",
   "id": "fc0ab155-00cb-4794-8076-c4d664905761",
   "metadata": {},
   "source": [
    "Let's drop some features that are redundant and have no value for us here, for example: <br>\n",
    "> `x_fighter_sig_str`, where we already have `x_fighter_sig_str_pct`. Where the prior takes the `75 of 144` form, and the latter takes the percentage version of the same value = `52%`. The latter is already scaled, and will be easier to work with."
   ]
  },
  {
   "cell_type": "code",
   "execution_count": 39,
   "id": "a5f937ed-e890-498d-9328-c267cf3824c4",
   "metadata": {},
   "outputs": [
    {
     "data": {
      "text/html": [
       "<div>\n",
       "<style scoped>\n",
       "    .dataframe tbody tr th:only-of-type {\n",
       "        vertical-align: middle;\n",
       "    }\n",
       "\n",
       "    .dataframe tbody tr th {\n",
       "        vertical-align: top;\n",
       "    }\n",
       "\n",
       "    .dataframe thead th {\n",
       "        text-align: right;\n",
       "    }\n",
       "</style>\n",
       "<table border=\"1\" class=\"dataframe\">\n",
       "  <thead>\n",
       "    <tr style=\"text-align: right;\">\n",
       "      <th></th>\n",
       "      <th>red_fighter_sig_str</th>\n",
       "      <th>red_fighter_sig_str_pct</th>\n",
       "    </tr>\n",
       "  </thead>\n",
       "  <tbody>\n",
       "    <tr>\n",
       "      <th>0</th>\n",
       "      <td>75 of 144</td>\n",
       "      <td>52</td>\n",
       "    </tr>\n",
       "    <tr>\n",
       "      <th>1</th>\n",
       "      <td>2 of 2</td>\n",
       "      <td>100</td>\n",
       "    </tr>\n",
       "  </tbody>\n",
       "</table>\n",
       "</div>"
      ],
      "text/plain": [
       "  red_fighter_sig_str red_fighter_sig_str_pct\n",
       "0           75 of 144                      52\n",
       "1              2 of 2                     100"
      ]
     },
     "execution_count": 39,
     "metadata": {},
     "output_type": "execute_result"
    }
   ],
   "source": [
    "fights_stats.loc[:1, [\"red_fighter_sig_str\", \"red_fighter_sig_str_pct\"]]"
   ]
  },
  {
   "cell_type": "code",
   "execution_count": 40,
   "id": "eee89fb0-93e6-4b7d-9e6c-6caf0e8f68af",
   "metadata": {},
   "outputs": [
    {
     "data": {
      "text/plain": [
       "['red_fighter_sig_str',\n",
       " 'blue_fighter_sig_str',\n",
       " 'red_fighter_TD',\n",
       " 'blue_fighter_TD']"
      ]
     },
     "execution_count": 40,
     "metadata": {},
     "output_type": "execute_result"
    }
   ],
   "source": [
    "redundant_cols = [\"fighter_sig_str\", \"fighter_TD\"]\n",
    "\n",
    "# Init both fighters' corners\n",
    "fighters = (\"red_\", \"blue_\")\n",
    "\n",
    "# For both red/blue fighters\n",
    "cols_to_drop = [f\"{fighter}{col}\" for col in redundant_cols for fighter in fighters]\n",
    "cols_to_drop"
   ]
  },
  {
   "cell_type": "markdown",
   "id": "1f0e189a-8821-4ac5-b24e-1999b82595ec",
   "metadata": {},
   "source": [
    "Dropping:"
   ]
  },
  {
   "cell_type": "code",
   "execution_count": 41,
   "id": "85ed6f20-052b-4668-bc97-f371b938729d",
   "metadata": {},
   "outputs": [],
   "source": [
    "fights_stats.drop(columns=cols_to_drop, inplace=True)"
   ]
  },
  {
   "cell_type": "markdown",
   "id": "c12ce192-cbaa-4e42-9a9f-e624bf144656",
   "metadata": {},
   "source": [
    "## Rename features"
   ]
  },
  {
   "cell_type": "markdown",
   "id": "0d5cb582-c93a-45ad-a9ea-e41050c0e8fd",
   "metadata": {},
   "source": [
    "Let's rename some columns to avoid name conflicts later and to better represent what they mean."
   ]
  },
  {
   "cell_type": "markdown",
   "id": "03c5aad8-d7e7-4a3e-982d-0a3bcdbfab93",
   "metadata": {},
   "source": [
    "Preparing:"
   ]
  },
  {
   "cell_type": "code",
   "execution_count": 42,
   "id": "e53be9cd-2eaf-42c8-bf86-0819f821bd90",
   "metadata": {},
   "outputs": [
    {
     "data": {
      "text/plain": [
       "{'red_fighter_sig_str_head': 'red_fighter_sig_str_head_acc',\n",
       " 'red_fighter_sig_str_body': 'red_fighter_sig_str_body_acc',\n",
       " 'red_fighter_sig_str_leg': 'red_fighter_sig_str_leg_acc',\n",
       " 'red_fighter_sig_str_distance': 'red_fighter_sig_str_distance_acc',\n",
       " 'red_fighter_sig_str_clinch': 'red_fighter_sig_str_clinch_acc',\n",
       " 'red_fighter_sig_str_ground': 'red_fighter_sig_str_ground_acc',\n",
       " 'blue_fighter_sig_str_head': 'blue_fighter_sig_str_head_acc',\n",
       " 'blue_fighter_sig_str_body': 'blue_fighter_sig_str_body_acc',\n",
       " 'blue_fighter_sig_str_leg': 'blue_fighter_sig_str_leg_acc',\n",
       " 'blue_fighter_sig_str_distance': 'blue_fighter_sig_str_distance_acc',\n",
       " 'blue_fighter_sig_str_clinch': 'blue_fighter_sig_str_clinch_acc',\n",
       " 'blue_fighter_sig_str_ground': 'blue_fighter_sig_str_ground_acc',\n",
       " 'red_fighter_sig_str_head_pct': 'red_fighter_sig_str_head_tar_pct',\n",
       " 'red_fighter_sig_str_body_pct': 'red_fighter_sig_str_body_tar_pct',\n",
       " 'red_fighter_sig_str_leg_pct': 'red_fighter_sig_str_leg_tar_pct',\n",
       " 'blue_fighter_sig_str_head_pct': 'blue_fighter_sig_str_head_tar_pct',\n",
       " 'blue_fighter_sig_str_body_pct': 'blue_fighter_sig_str_body_tar_pct',\n",
       " 'blue_fighter_sig_str_leg_pct': 'blue_fighter_sig_str_leg_tar_pct',\n",
       " 'red_fighter_sig_str_distance_pct': 'red_fighter_sig_str_distance_pos_pct',\n",
       " 'red_fighter_sig_str_clinch_pct': 'red_fighter_sig_str_clinch_pos_pct',\n",
       " 'red_fighter_sig_str_ground_pct': 'red_fighter_sig_str_ground_pos_pct',\n",
       " 'blue_fighter_sig_str_distance_pct': 'blue_fighter_sig_str_distance_pos_pct',\n",
       " 'blue_fighter_sig_str_clinch_pct': 'blue_fighter_sig_str_clinch_pos_pct',\n",
       " 'blue_fighter_sig_str_ground_pct': 'blue_fighter_sig_str_ground_pos_pct'}"
      ]
     },
     "execution_count": 42,
     "metadata": {},
     "output_type": "execute_result"
    }
   ],
   "source": [
    "# Significant strikes accuracy\n",
    "sig_str_acc_cols = [\n",
    "    \"fighter_sig_str_head\",\n",
    "    \"fighter_sig_str_body\",\n",
    "    \"fighter_sig_str_leg\",\n",
    "    \"fighter_sig_str_distance\",\n",
    "    \"fighter_sig_str_clinch\",\n",
    "    \"fighter_sig_str_ground\",\n",
    "]\n",
    "\n",
    "# Significant strikes target\n",
    "sig_str_tar_cols = [\n",
    "    \"fighter_sig_str_head_pct\",\n",
    "    \"fighter_sig_str_body_pct\",\n",
    "    \"fighter_sig_str_leg_pct\",\n",
    "]\n",
    "\n",
    "# Significant strikes position\n",
    "sig_str_pos_cols = [\n",
    "    \"fighter_sig_str_distance_pct\",\n",
    "    \"fighter_sig_str_clinch_pct\",\n",
    "    \"fighter_sig_str_ground_pct\",\n",
    "]\n",
    "\n",
    "# Init mappings\n",
    "sig_str_acc_mappings = {}\n",
    "sig_str_tar_mappings = {}\n",
    "sig_str_pos_mappings = {}\n",
    "\n",
    "# Init both fighters' corners\n",
    "fighters = (\"red_\", \"blue_\")\n",
    "\n",
    "# Postfixes\n",
    "sig_str_acc_postfix = \"_acc\"\n",
    "sig_str_tar_postfix = \"_tar_pct\"\n",
    "sig_str_pos_postfix = \"_pos_pct\"\n",
    "\n",
    "# Start mapping\n",
    "for fighter in fighters:\n",
    "    # For significant strikes accuracy features\n",
    "    for col in sig_str_acc_cols:\n",
    "        sig_str_acc_mappings[f\"{fighter}{col}\"] = f\"{fighter}{col}{sig_str_acc_postfix}\"\n",
    "\n",
    "    # For significant strikes by target features\n",
    "    for col in sig_str_tar_cols:\n",
    "        # Reposition '_pct' to the end\n",
    "        sig_str_tar_mappings[f\"{fighter}{col}\"] = (\n",
    "            f\"{fighter}{col.strip(\"_pct\")}{sig_str_tar_postfix}\"\n",
    "        )\n",
    "\n",
    "    # For significant strikes by position features\n",
    "    for col in sig_str_pos_cols:\n",
    "        # Reposition '_pct' to the end\n",
    "        sig_str_pos_mappings[f\"{fighter}{col}\"] = (\n",
    "            f\"{fighter}{col.strip(\"_pct\")}{sig_str_pos_postfix}\"\n",
    "        )\n",
    "\n",
    "# Merge mappings into 1 single dict\n",
    "col_names_mappings = sig_str_acc_mappings | sig_str_tar_mappings | sig_str_pos_mappings\n",
    "col_names_mappings"
   ]
  },
  {
   "cell_type": "markdown",
   "id": "9dfb7d3c-e521-493d-ab28-4291852eca18",
   "metadata": {},
   "source": [
    "Renaming:"
   ]
  },
  {
   "cell_type": "code",
   "execution_count": 43,
   "id": "4dc2d99c-5ccf-4aed-b0aa-68127bab9435",
   "metadata": {},
   "outputs": [
    {
     "data": {
      "text/plain": [
       "Index(['red_fighter_name', 'blue_fighter_name', 'event_date',\n",
       "       'red_fighter_nickname', 'blue_fighter_nickname', 'red_fighter_result',\n",
       "       'blue_fighter_result', 'method', 'round', 'time', 'time_format',\n",
       "       'referee', 'details', 'bout_type', 'bonus', 'event_name',\n",
       "       'event_location', 'red_fighter_KD', 'blue_fighter_KD',\n",
       "       'red_fighter_sig_str_pct', 'blue_fighter_sig_str_pct',\n",
       "       'red_fighter_total_str', 'blue_fighter_total_str', 'red_fighter_TD_pct',\n",
       "       'blue_fighter_TD_pct', 'red_fighter_sub_att', 'blue_fighter_sub_att',\n",
       "       'red_fighter_rev', 'blue_fighter_rev', 'red_fighter_ctrl',\n",
       "       'blue_fighter_ctrl', 'red_fighter_sig_str_head_acc',\n",
       "       'blue_fighter_sig_str_head_acc', 'red_fighter_sig_str_body_acc',\n",
       "       'blue_fighter_sig_str_body_acc', 'red_fighter_sig_str_leg_acc',\n",
       "       'blue_fighter_sig_str_leg_acc', 'red_fighter_sig_str_distance_acc',\n",
       "       'blue_fighter_sig_str_distance_acc', 'red_fighter_sig_str_clinch_acc',\n",
       "       'blue_fighter_sig_str_clinch_acc', 'red_fighter_sig_str_ground_acc',\n",
       "       'blue_fighter_sig_str_ground_acc', 'red_fighter_sig_str_head_tar_pct',\n",
       "       'blue_fighter_sig_str_head_tar_pct', 'red_fighter_sig_str_body_tar_pct',\n",
       "       'blue_fighter_sig_str_body_tar_pct', 'red_fighter_sig_str_leg_tar_pct',\n",
       "       'blue_fighter_sig_str_leg_tar_pct',\n",
       "       'red_fighter_sig_str_distance_pos_pct',\n",
       "       'blue_fighter_sig_str_distance_pos_pct',\n",
       "       'red_fighter_sig_str_clinch_pos_pct',\n",
       "       'blue_fighter_sig_str_clinch_pos_pct',\n",
       "       'red_fighter_sig_str_ground_pos_pct',\n",
       "       'blue_fighter_sig_str_ground_pos_pct'],\n",
       "      dtype='object')"
      ]
     },
     "execution_count": 43,
     "metadata": {},
     "output_type": "execute_result"
    }
   ],
   "source": [
    "fights_stats.rename(columns=col_names_mappings, inplace=True)\n",
    "fights_stats.columns"
   ]
  },
  {
   "cell_type": "markdown",
   "id": "cd9d075c-13cf-4c6b-a02b-6fc762071237",
   "metadata": {},
   "source": [
    "Too long and too many features to look at, we will make the names shorter and make the number of features x2 less. But first, we need to merge some additional features :))"
   ]
  },
  {
   "cell_type": "markdown",
   "id": "1ac9bdbc-63b9-44ee-9c4f-203d57666ef9",
   "metadata": {},
   "source": [
    "## Loading athlete stats dataset"
   ]
  },
  {
   "cell_type": "markdown",
   "id": "8504dbcf-97d9-46fa-b57a-4aa4931a4cda",
   "metadata": {},
   "source": [
    "Let's merge additional athlete-based features from an external dataset like: `Height`, `Reach`, `Stance`"
   ]
  },
  {
   "cell_type": "code",
   "execution_count": 44,
   "id": "60596ece-f84d-4884-bb2a-175cdd3f6dfb",
   "metadata": {},
   "outputs": [
    {
     "data": {
      "text/html": [
       "<div>\n",
       "<style scoped>\n",
       "    .dataframe tbody tr th:only-of-type {\n",
       "        vertical-align: middle;\n",
       "    }\n",
       "\n",
       "    .dataframe tbody tr th {\n",
       "        vertical-align: top;\n",
       "    }\n",
       "\n",
       "    .dataframe thead th {\n",
       "        text-align: right;\n",
       "    }\n",
       "</style>\n",
       "<table border=\"1\" class=\"dataframe\">\n",
       "  <thead>\n",
       "    <tr style=\"text-align: right;\">\n",
       "      <th></th>\n",
       "      <th>fighter_name</th>\n",
       "      <th>Height</th>\n",
       "      <th>Weight</th>\n",
       "      <th>Reach</th>\n",
       "      <th>Stance</th>\n",
       "      <th>DOB</th>\n",
       "      <th>SLpM</th>\n",
       "      <th>Str_Acc</th>\n",
       "      <th>SApM</th>\n",
       "      <th>Str_Def</th>\n",
       "      <th>TD_Avg</th>\n",
       "      <th>TD_Acc</th>\n",
       "      <th>TD_Def</th>\n",
       "      <th>Sub_Avg</th>\n",
       "    </tr>\n",
       "  </thead>\n",
       "  <tbody>\n",
       "    <tr>\n",
       "      <th>3591</th>\n",
       "      <td>Zhang Tiequan</td>\n",
       "      <td>5' 8\"</td>\n",
       "      <td>155 lbs.</td>\n",
       "      <td>69\"</td>\n",
       "      <td>Orthodox</td>\n",
       "      <td>Jul 25, 1978</td>\n",
       "      <td>1.23</td>\n",
       "      <td>36%</td>\n",
       "      <td>2.14</td>\n",
       "      <td>51%</td>\n",
       "      <td>1.95</td>\n",
       "      <td>58%</td>\n",
       "      <td>75%</td>\n",
       "      <td>3.4</td>\n",
       "    </tr>\n",
       "    <tr>\n",
       "      <th>3592</th>\n",
       "      <td>Alex Zuniga</td>\n",
       "      <td>NaN</td>\n",
       "      <td>145 lbs.</td>\n",
       "      <td>NaN</td>\n",
       "      <td>NaN</td>\n",
       "      <td>NaN</td>\n",
       "      <td>0.00</td>\n",
       "      <td>0%</td>\n",
       "      <td>0.00</td>\n",
       "      <td>0%</td>\n",
       "      <td>0.00</td>\n",
       "      <td>0%</td>\n",
       "      <td>0%</td>\n",
       "      <td>0.0</td>\n",
       "    </tr>\n",
       "    <tr>\n",
       "      <th>3593</th>\n",
       "      <td>George Zuniga</td>\n",
       "      <td>5' 9\"</td>\n",
       "      <td>185 lbs.</td>\n",
       "      <td>NaN</td>\n",
       "      <td>NaN</td>\n",
       "      <td>NaN</td>\n",
       "      <td>7.64</td>\n",
       "      <td>38%</td>\n",
       "      <td>5.45</td>\n",
       "      <td>37%</td>\n",
       "      <td>0.00</td>\n",
       "      <td>0%</td>\n",
       "      <td>100%</td>\n",
       "      <td>0.0</td>\n",
       "    </tr>\n",
       "    <tr>\n",
       "      <th>3594</th>\n",
       "      <td>Allan Zuniga</td>\n",
       "      <td>5' 7\"</td>\n",
       "      <td>155 lbs.</td>\n",
       "      <td>70\"</td>\n",
       "      <td>Orthodox</td>\n",
       "      <td>Apr 04, 1992</td>\n",
       "      <td>3.93</td>\n",
       "      <td>52%</td>\n",
       "      <td>1.80</td>\n",
       "      <td>61%</td>\n",
       "      <td>0.00</td>\n",
       "      <td>0%</td>\n",
       "      <td>57%</td>\n",
       "      <td>1.0</td>\n",
       "    </tr>\n",
       "    <tr>\n",
       "      <th>3595</th>\n",
       "      <td>Virgil Zwicker</td>\n",
       "      <td>6' 2\"</td>\n",
       "      <td>205 lbs.</td>\n",
       "      <td>74\"</td>\n",
       "      <td>NaN</td>\n",
       "      <td>Jun 26, 1982</td>\n",
       "      <td>3.34</td>\n",
       "      <td>48%</td>\n",
       "      <td>4.87</td>\n",
       "      <td>39%</td>\n",
       "      <td>1.31</td>\n",
       "      <td>30%</td>\n",
       "      <td>50%</td>\n",
       "      <td>0.0</td>\n",
       "    </tr>\n",
       "  </tbody>\n",
       "</table>\n",
       "</div>"
      ],
      "text/plain": [
       "        fighter_name Height    Weight Reach    Stance           DOB  SLpM  \\\n",
       "3591   Zhang Tiequan  5' 8\"  155 lbs.   69\"  Orthodox  Jul 25, 1978  1.23   \n",
       "3592     Alex Zuniga    NaN  145 lbs.   NaN       NaN           NaN  0.00   \n",
       "3593   George Zuniga  5' 9\"  185 lbs.   NaN       NaN           NaN  7.64   \n",
       "3594    Allan Zuniga  5' 7\"  155 lbs.   70\"  Orthodox  Apr 04, 1992  3.93   \n",
       "3595  Virgil Zwicker  6' 2\"  205 lbs.   74\"       NaN  Jun 26, 1982  3.34   \n",
       "\n",
       "     Str_Acc  SApM Str_Def  TD_Avg TD_Acc TD_Def  Sub_Avg  \n",
       "3591     36%  2.14     51%    1.95    58%    75%      3.4  \n",
       "3592      0%  0.00      0%    0.00     0%     0%      0.0  \n",
       "3593     38%  5.45     37%    0.00     0%   100%      0.0  \n",
       "3594     52%  1.80     61%    0.00     0%    57%      1.0  \n",
       "3595     48%  4.87     39%    1.31    30%    50%      0.0  "
      ]
     },
     "execution_count": 44,
     "metadata": {},
     "output_type": "execute_result"
    }
   ],
   "source": [
    "# External dataset\n",
    "athlete_stats = pd.read_csv(\"../external_data/raw_fighter_details.csv\", sep=\",\")\n",
    "athlete_stats.tail()"
   ]
  },
  {
   "cell_type": "markdown",
   "id": "4dfb1113-6651-41af-bcee-b3c9809ddf67",
   "metadata": {},
   "source": [
    "### Feature engineering"
   ]
  },
  {
   "cell_type": "markdown",
   "id": "84fec373-4281-4154-bec7-0ab067a840f7",
   "metadata": {},
   "source": [
    "#### Dropping irrelevant features"
   ]
  },
  {
   "cell_type": "markdown",
   "id": "d9d87983-efaf-445b-9fa7-b39858a1cfa4",
   "metadata": {},
   "source": [
    "We leave only the features we are interested in:"
   ]
  },
  {
   "cell_type": "code",
   "execution_count": 45,
   "id": "ebbfcb4e-f010-4c33-8139-c54275017b1c",
   "metadata": {},
   "outputs": [
    {
     "data": {
      "text/html": [
       "<div>\n",
       "<style scoped>\n",
       "    .dataframe tbody tr th:only-of-type {\n",
       "        vertical-align: middle;\n",
       "    }\n",
       "\n",
       "    .dataframe tbody tr th {\n",
       "        vertical-align: top;\n",
       "    }\n",
       "\n",
       "    .dataframe thead th {\n",
       "        text-align: right;\n",
       "    }\n",
       "</style>\n",
       "<table border=\"1\" class=\"dataframe\">\n",
       "  <thead>\n",
       "    <tr style=\"text-align: right;\">\n",
       "      <th></th>\n",
       "      <th>fighter_name</th>\n",
       "      <th>Height</th>\n",
       "      <th>Reach</th>\n",
       "      <th>Stance</th>\n",
       "      <th>SLpM</th>\n",
       "      <th>Str_Acc</th>\n",
       "      <th>SApM</th>\n",
       "      <th>Str_Def</th>\n",
       "      <th>TD_Avg</th>\n",
       "      <th>TD_Acc</th>\n",
       "      <th>TD_Def</th>\n",
       "      <th>Sub_Avg</th>\n",
       "    </tr>\n",
       "  </thead>\n",
       "  <tbody>\n",
       "    <tr>\n",
       "      <th>3591</th>\n",
       "      <td>Zhang Tiequan</td>\n",
       "      <td>5' 8\"</td>\n",
       "      <td>69\"</td>\n",
       "      <td>Orthodox</td>\n",
       "      <td>1.23</td>\n",
       "      <td>36%</td>\n",
       "      <td>2.14</td>\n",
       "      <td>51%</td>\n",
       "      <td>1.95</td>\n",
       "      <td>58%</td>\n",
       "      <td>75%</td>\n",
       "      <td>3.4</td>\n",
       "    </tr>\n",
       "    <tr>\n",
       "      <th>3592</th>\n",
       "      <td>Alex Zuniga</td>\n",
       "      <td>NaN</td>\n",
       "      <td>NaN</td>\n",
       "      <td>NaN</td>\n",
       "      <td>0.00</td>\n",
       "      <td>0%</td>\n",
       "      <td>0.00</td>\n",
       "      <td>0%</td>\n",
       "      <td>0.00</td>\n",
       "      <td>0%</td>\n",
       "      <td>0%</td>\n",
       "      <td>0.0</td>\n",
       "    </tr>\n",
       "    <tr>\n",
       "      <th>3593</th>\n",
       "      <td>George Zuniga</td>\n",
       "      <td>5' 9\"</td>\n",
       "      <td>NaN</td>\n",
       "      <td>NaN</td>\n",
       "      <td>7.64</td>\n",
       "      <td>38%</td>\n",
       "      <td>5.45</td>\n",
       "      <td>37%</td>\n",
       "      <td>0.00</td>\n",
       "      <td>0%</td>\n",
       "      <td>100%</td>\n",
       "      <td>0.0</td>\n",
       "    </tr>\n",
       "    <tr>\n",
       "      <th>3594</th>\n",
       "      <td>Allan Zuniga</td>\n",
       "      <td>5' 7\"</td>\n",
       "      <td>70\"</td>\n",
       "      <td>Orthodox</td>\n",
       "      <td>3.93</td>\n",
       "      <td>52%</td>\n",
       "      <td>1.80</td>\n",
       "      <td>61%</td>\n",
       "      <td>0.00</td>\n",
       "      <td>0%</td>\n",
       "      <td>57%</td>\n",
       "      <td>1.0</td>\n",
       "    </tr>\n",
       "    <tr>\n",
       "      <th>3595</th>\n",
       "      <td>Virgil Zwicker</td>\n",
       "      <td>6' 2\"</td>\n",
       "      <td>74\"</td>\n",
       "      <td>NaN</td>\n",
       "      <td>3.34</td>\n",
       "      <td>48%</td>\n",
       "      <td>4.87</td>\n",
       "      <td>39%</td>\n",
       "      <td>1.31</td>\n",
       "      <td>30%</td>\n",
       "      <td>50%</td>\n",
       "      <td>0.0</td>\n",
       "    </tr>\n",
       "  </tbody>\n",
       "</table>\n",
       "</div>"
      ],
      "text/plain": [
       "        fighter_name Height Reach    Stance  SLpM Str_Acc  SApM Str_Def  \\\n",
       "3591   Zhang Tiequan  5' 8\"   69\"  Orthodox  1.23     36%  2.14     51%   \n",
       "3592     Alex Zuniga    NaN   NaN       NaN  0.00      0%  0.00      0%   \n",
       "3593   George Zuniga  5' 9\"   NaN       NaN  7.64     38%  5.45     37%   \n",
       "3594    Allan Zuniga  5' 7\"   70\"  Orthodox  3.93     52%  1.80     61%   \n",
       "3595  Virgil Zwicker  6' 2\"   74\"       NaN  3.34     48%  4.87     39%   \n",
       "\n",
       "      TD_Avg TD_Acc TD_Def  Sub_Avg  \n",
       "3591    1.95    58%    75%      3.4  \n",
       "3592    0.00     0%     0%      0.0  \n",
       "3593    0.00     0%   100%      0.0  \n",
       "3594    0.00     0%    57%      1.0  \n",
       "3595    1.31    30%    50%      0.0  "
      ]
     },
     "execution_count": 45,
     "metadata": {},
     "output_type": "execute_result"
    }
   ],
   "source": [
    "athlete_stats.drop(columns=[\"Weight\", \"DOB\"], inplace=True)\n",
    "athlete_stats.tail()"
   ]
  },
  {
   "cell_type": "markdown",
   "id": "45171d24-a72e-464a-9d8e-677ce3373531",
   "metadata": {},
   "source": [
    "#### Renaming features"
   ]
  },
  {
   "cell_type": "markdown",
   "id": "f0e92694-0c39-4fb5-aa50-64d3c7344fcb",
   "metadata": {},
   "source": [
    "We need to rename some columns for differentiating between athlete-based and fight-based.\n",
    "Let's prep the columns:"
   ]
  },
  {
   "cell_type": "code",
   "execution_count": 46,
   "id": "d6a3e2a0-5ba8-4da2-8c30-d676c62f9dde",
   "metadata": {},
   "outputs": [
    {
     "data": {
      "text/plain": [
       "{'SLpM': 'SLpM_cs',\n",
       " 'Str_Acc': 'Str_Acc_cs',\n",
       " 'SApM': 'SApM_cs',\n",
       " 'Str_Def': 'Str_Def_cs',\n",
       " 'TD_Avg': 'TD_Avg_cs',\n",
       " 'TD_Acc': 'TD_Acc_cs',\n",
       " 'TD_Def': 'TD_Def_cs',\n",
       " 'Sub_Avg': 'Sub_Avg_cs'}"
      ]
     },
     "execution_count": 46,
     "metadata": {},
     "output_type": "execute_result"
    }
   ],
   "source": [
    "postfix = \"_cs\"  # _cs is an abbreviation for career statistic\n",
    "cols_to_rename = [\n",
    "    \"SLpM\",\n",
    "    \"Str_Acc\",\n",
    "    \"SApM\",\n",
    "    \"Str_Def\",\n",
    "    \"TD_Avg\",\n",
    "    \"TD_Acc\",\n",
    "    \"TD_Def\",\n",
    "    \"Sub_Avg\",\n",
    "]\n",
    "name_mappings = {col: f\"{col}{postfix}\" for col in cols_to_rename}\n",
    "name_mappings"
   ]
  },
  {
   "cell_type": "markdown",
   "id": "e0463cc3-b9b7-404f-ac03-a79a61452f52",
   "metadata": {},
   "source": [
    "Rename:"
   ]
  },
  {
   "cell_type": "code",
   "execution_count": 47,
   "id": "eb4c5207-a5e4-44e9-ad1a-7a36e64a4672",
   "metadata": {},
   "outputs": [
    {
     "data": {
      "text/html": [
       "<div>\n",
       "<style scoped>\n",
       "    .dataframe tbody tr th:only-of-type {\n",
       "        vertical-align: middle;\n",
       "    }\n",
       "\n",
       "    .dataframe tbody tr th {\n",
       "        vertical-align: top;\n",
       "    }\n",
       "\n",
       "    .dataframe thead th {\n",
       "        text-align: right;\n",
       "    }\n",
       "</style>\n",
       "<table border=\"1\" class=\"dataframe\">\n",
       "  <thead>\n",
       "    <tr style=\"text-align: right;\">\n",
       "      <th></th>\n",
       "      <th>fighter_name</th>\n",
       "      <th>Height</th>\n",
       "      <th>Reach</th>\n",
       "      <th>Stance</th>\n",
       "      <th>SLpM_cs</th>\n",
       "      <th>Str_Acc_cs</th>\n",
       "      <th>SApM_cs</th>\n",
       "      <th>Str_Def_cs</th>\n",
       "      <th>TD_Avg_cs</th>\n",
       "      <th>TD_Acc_cs</th>\n",
       "      <th>TD_Def_cs</th>\n",
       "      <th>Sub_Avg_cs</th>\n",
       "    </tr>\n",
       "  </thead>\n",
       "  <tbody>\n",
       "    <tr>\n",
       "      <th>0</th>\n",
       "      <td>Tom Aaron</td>\n",
       "      <td>NaN</td>\n",
       "      <td>NaN</td>\n",
       "      <td>NaN</td>\n",
       "      <td>0.00</td>\n",
       "      <td>0%</td>\n",
       "      <td>0.00</td>\n",
       "      <td>0%</td>\n",
       "      <td>0.00</td>\n",
       "      <td>0%</td>\n",
       "      <td>0%</td>\n",
       "      <td>0.0</td>\n",
       "    </tr>\n",
       "    <tr>\n",
       "      <th>1</th>\n",
       "      <td>Papy Abedi</td>\n",
       "      <td>5' 11\"</td>\n",
       "      <td>NaN</td>\n",
       "      <td>Southpaw</td>\n",
       "      <td>2.80</td>\n",
       "      <td>55%</td>\n",
       "      <td>3.15</td>\n",
       "      <td>48%</td>\n",
       "      <td>3.47</td>\n",
       "      <td>57%</td>\n",
       "      <td>50%</td>\n",
       "      <td>1.3</td>\n",
       "    </tr>\n",
       "    <tr>\n",
       "      <th>2</th>\n",
       "      <td>Shamil Abdurakhimov</td>\n",
       "      <td>6' 3\"</td>\n",
       "      <td>76\"</td>\n",
       "      <td>Orthodox</td>\n",
       "      <td>2.45</td>\n",
       "      <td>44%</td>\n",
       "      <td>2.45</td>\n",
       "      <td>58%</td>\n",
       "      <td>1.23</td>\n",
       "      <td>24%</td>\n",
       "      <td>47%</td>\n",
       "      <td>0.2</td>\n",
       "    </tr>\n",
       "  </tbody>\n",
       "</table>\n",
       "</div>"
      ],
      "text/plain": [
       "          fighter_name  Height Reach    Stance  SLpM_cs Str_Acc_cs  SApM_cs  \\\n",
       "0            Tom Aaron     NaN   NaN       NaN     0.00         0%     0.00   \n",
       "1           Papy Abedi  5' 11\"   NaN  Southpaw     2.80        55%     3.15   \n",
       "2  Shamil Abdurakhimov   6' 3\"   76\"  Orthodox     2.45        44%     2.45   \n",
       "\n",
       "  Str_Def_cs  TD_Avg_cs TD_Acc_cs TD_Def_cs  Sub_Avg_cs  \n",
       "0         0%       0.00        0%        0%         0.0  \n",
       "1        48%       3.47       57%       50%         1.3  \n",
       "2        58%       1.23       24%       47%         0.2  "
      ]
     },
     "execution_count": 47,
     "metadata": {},
     "output_type": "execute_result"
    }
   ],
   "source": [
    "athlete_stats.rename(columns=name_mappings, inplace=True)\n",
    "athlete_stats.head(3)"
   ]
  },
  {
   "cell_type": "markdown",
   "id": "ff980df1-0819-41df-9464-2ae9bc0c844e",
   "metadata": {},
   "source": [
    "#### Imputing NaNs"
   ]
  },
  {
   "cell_type": "markdown",
   "id": "577d04cd-9b8d-4e91-afd0-6f456827071b",
   "metadata": {},
   "source": [
    "Dropping rows, that bring us no information whatsoever:"
   ]
  },
  {
   "cell_type": "code",
   "execution_count": 48,
   "id": "0ddb8926-eb5f-4a6d-9966-476970388bec",
   "metadata": {},
   "outputs": [
    {
     "data": {
      "text/plain": [
       "(3363, 12)"
      ]
     },
     "execution_count": 48,
     "metadata": {},
     "output_type": "execute_result"
    }
   ],
   "source": [
    "athlete_stats.dropna(how=\"all\", subset=[\"Height\", \"Reach\", \"Stance\"], inplace=True)\n",
    "athlete_stats.shape"
   ]
  },
  {
   "cell_type": "markdown",
   "id": "0af08717-2386-4bf1-9da7-66b5fcb6da7c",
   "metadata": {},
   "source": [
    "Impututing the rest of NaNs with zeros:"
   ]
  },
  {
   "cell_type": "code",
   "execution_count": 49,
   "id": "ca42086a-214f-4bd2-b982-62fe2c907012",
   "metadata": {},
   "outputs": [
    {
     "name": "stdout",
     "output_type": "stream",
     "text": [
      "Number of NaN entries: 0\n"
     ]
    }
   ],
   "source": [
    "athlete_stats.fillna(0, inplace=True)\n",
    "print(f\"Number of NaN entries: {athlete_stats.isna().sum().sum()}\")"
   ]
  },
  {
   "cell_type": "markdown",
   "id": "423feb8e-2200-40fc-8a8b-4dfde892dbc8",
   "metadata": {},
   "source": [
    "### Formatting to match the format in the fights dataset"
   ]
  },
  {
   "cell_type": "markdown",
   "id": "e3dad26d-d2cc-445b-8a9c-15efc9107a33",
   "metadata": {},
   "source": [
    "Convert external dataset fighter names to uppercase, and columns to lowercase to match our format:"
   ]
  },
  {
   "cell_type": "code",
   "execution_count": 50,
   "id": "cf62b38f-b81d-47f1-a98d-9d68a1a26bbf",
   "metadata": {},
   "outputs": [
    {
     "data": {
      "text/html": [
       "<div>\n",
       "<style scoped>\n",
       "    .dataframe tbody tr th:only-of-type {\n",
       "        vertical-align: middle;\n",
       "    }\n",
       "\n",
       "    .dataframe tbody tr th {\n",
       "        vertical-align: top;\n",
       "    }\n",
       "\n",
       "    .dataframe thead th {\n",
       "        text-align: right;\n",
       "    }\n",
       "</style>\n",
       "<table border=\"1\" class=\"dataframe\">\n",
       "  <thead>\n",
       "    <tr style=\"text-align: right;\">\n",
       "      <th></th>\n",
       "      <th>fighter_name</th>\n",
       "      <th>height</th>\n",
       "      <th>reach</th>\n",
       "      <th>stance</th>\n",
       "      <th>slpm_cs</th>\n",
       "      <th>str_acc_cs</th>\n",
       "      <th>sapm_cs</th>\n",
       "      <th>str_def_cs</th>\n",
       "      <th>td_avg_cs</th>\n",
       "      <th>td_acc_cs</th>\n",
       "      <th>td_def_cs</th>\n",
       "      <th>sub_avg_cs</th>\n",
       "    </tr>\n",
       "  </thead>\n",
       "  <tbody>\n",
       "    <tr>\n",
       "      <th>1</th>\n",
       "      <td>PAPY ABEDI</td>\n",
       "      <td>5' 11\"</td>\n",
       "      <td>0</td>\n",
       "      <td>Southpaw</td>\n",
       "      <td>2.80</td>\n",
       "      <td>55%</td>\n",
       "      <td>3.15</td>\n",
       "      <td>48%</td>\n",
       "      <td>3.47</td>\n",
       "      <td>57%</td>\n",
       "      <td>50%</td>\n",
       "      <td>1.3</td>\n",
       "    </tr>\n",
       "    <tr>\n",
       "      <th>2</th>\n",
       "      <td>SHAMIL ABDURAKHIMOV</td>\n",
       "      <td>6' 3\"</td>\n",
       "      <td>76\"</td>\n",
       "      <td>Orthodox</td>\n",
       "      <td>2.45</td>\n",
       "      <td>44%</td>\n",
       "      <td>2.45</td>\n",
       "      <td>58%</td>\n",
       "      <td>1.23</td>\n",
       "      <td>24%</td>\n",
       "      <td>47%</td>\n",
       "      <td>0.2</td>\n",
       "    </tr>\n",
       "    <tr>\n",
       "      <th>3</th>\n",
       "      <td>DANNY ABBADI</td>\n",
       "      <td>5' 11\"</td>\n",
       "      <td>0</td>\n",
       "      <td>Orthodox</td>\n",
       "      <td>3.29</td>\n",
       "      <td>38%</td>\n",
       "      <td>4.41</td>\n",
       "      <td>57%</td>\n",
       "      <td>0.00</td>\n",
       "      <td>0%</td>\n",
       "      <td>77%</td>\n",
       "      <td>0.0</td>\n",
       "    </tr>\n",
       "    <tr>\n",
       "      <th>4</th>\n",
       "      <td>HIROYUKI ABE</td>\n",
       "      <td>5' 6\"</td>\n",
       "      <td>0</td>\n",
       "      <td>Orthodox</td>\n",
       "      <td>1.71</td>\n",
       "      <td>36%</td>\n",
       "      <td>3.11</td>\n",
       "      <td>63%</td>\n",
       "      <td>0.00</td>\n",
       "      <td>0%</td>\n",
       "      <td>33%</td>\n",
       "      <td>0.0</td>\n",
       "    </tr>\n",
       "    <tr>\n",
       "      <th>5</th>\n",
       "      <td>RICARDO ABREU</td>\n",
       "      <td>5' 11\"</td>\n",
       "      <td>0</td>\n",
       "      <td>Orthodox</td>\n",
       "      <td>3.79</td>\n",
       "      <td>31%</td>\n",
       "      <td>3.98</td>\n",
       "      <td>68%</td>\n",
       "      <td>2.13</td>\n",
       "      <td>42%</td>\n",
       "      <td>100%</td>\n",
       "      <td>0.7</td>\n",
       "    </tr>\n",
       "  </tbody>\n",
       "</table>\n",
       "</div>"
      ],
      "text/plain": [
       "          fighter_name  height reach    stance  slpm_cs str_acc_cs  sapm_cs  \\\n",
       "1           PAPY ABEDI  5' 11\"     0  Southpaw     2.80        55%     3.15   \n",
       "2  SHAMIL ABDURAKHIMOV   6' 3\"   76\"  Orthodox     2.45        44%     2.45   \n",
       "3         DANNY ABBADI  5' 11\"     0  Orthodox     3.29        38%     4.41   \n",
       "4         HIROYUKI ABE   5' 6\"     0  Orthodox     1.71        36%     3.11   \n",
       "5        RICARDO ABREU  5' 11\"     0  Orthodox     3.79        31%     3.98   \n",
       "\n",
       "  str_def_cs  td_avg_cs td_acc_cs td_def_cs  sub_avg_cs  \n",
       "1        48%       3.47       57%       50%         1.3  \n",
       "2        58%       1.23       24%       47%         0.2  \n",
       "3        57%       0.00        0%       77%         0.0  \n",
       "4        63%       0.00        0%       33%         0.0  \n",
       "5        68%       2.13       42%      100%         0.7  "
      ]
     },
     "execution_count": 50,
     "metadata": {},
     "output_type": "execute_result"
    }
   ],
   "source": [
    "# Fighter names => upper\n",
    "athlete_stats[\"fighter_name\"] = athlete_stats[\"fighter_name\"].str.upper()\n",
    "# Columns => lower\n",
    "athlete_stats.columns = athlete_stats.columns.str.lower()\n",
    "athlete_stats.head()"
   ]
  },
  {
   "cell_type": "markdown",
   "id": "adb166f4-79f2-49c9-a762-6a0ce02e2f63",
   "metadata": {},
   "source": [
    "#### Converting from inches to cm"
   ]
  },
  {
   "cell_type": "markdown",
   "id": "e69439ac-b011-47e7-bb2e-642c9ab40717",
   "metadata": {},
   "source": [
    "Defining a function that converts height and reach from inches to cm:"
   ]
  },
  {
   "cell_type": "code",
   "execution_count": 51,
   "id": "fcd50292-186b-424a-a148-51bc0be8b3bc",
   "metadata": {},
   "outputs": [],
   "source": [
    "def conv_from_inches_to_cm(inches):\n",
    "    \"\"\"Converts from inches to cm\"\"\"\n",
    "    # If the data is missing\n",
    "    if not inches:\n",
    "        return inches\n",
    "\n",
    "    res = inches.strip('\"').split(\"'\")\n",
    "    # Foot to cm conversion rate\n",
    "    f_cm_cr = 30.48\n",
    "    # Inch to cm convetsion rate\n",
    "    i_cm_cr = 2.54\n",
    "\n",
    "    # If converting height\n",
    "    if len(res) > 1:\n",
    "        return int(res[0]) * f_cm_cr + int(res[1]) * i_cm_cr\n",
    "    # Or reach\n",
    "    else:\n",
    "        return int(res[0]) * i_cm_cr"
   ]
  },
  {
   "cell_type": "markdown",
   "id": "8979f11b-92c6-42dd-b31e-1672a0721b0f",
   "metadata": {},
   "source": [
    "Applying:"
   ]
  },
  {
   "cell_type": "code",
   "execution_count": 52,
   "id": "486dde8b-1a7b-4ea1-99c7-bb2cd8fd97ad",
   "metadata": {},
   "outputs": [
    {
     "data": {
      "text/html": [
       "<div>\n",
       "<style scoped>\n",
       "    .dataframe tbody tr th:only-of-type {\n",
       "        vertical-align: middle;\n",
       "    }\n",
       "\n",
       "    .dataframe tbody tr th {\n",
       "        vertical-align: top;\n",
       "    }\n",
       "\n",
       "    .dataframe thead th {\n",
       "        text-align: right;\n",
       "    }\n",
       "</style>\n",
       "<table border=\"1\" class=\"dataframe\">\n",
       "  <thead>\n",
       "    <tr style=\"text-align: right;\">\n",
       "      <th></th>\n",
       "      <th>fighter_name</th>\n",
       "      <th>height</th>\n",
       "      <th>reach</th>\n",
       "      <th>stance</th>\n",
       "      <th>slpm_cs</th>\n",
       "      <th>str_acc_cs</th>\n",
       "      <th>sapm_cs</th>\n",
       "      <th>str_def_cs</th>\n",
       "      <th>td_avg_cs</th>\n",
       "      <th>td_acc_cs</th>\n",
       "      <th>td_def_cs</th>\n",
       "      <th>sub_avg_cs</th>\n",
       "    </tr>\n",
       "  </thead>\n",
       "  <tbody>\n",
       "    <tr>\n",
       "      <th>1</th>\n",
       "      <td>PAPY ABEDI</td>\n",
       "      <td>180.34</td>\n",
       "      <td>0.00</td>\n",
       "      <td>Southpaw</td>\n",
       "      <td>2.80</td>\n",
       "      <td>55%</td>\n",
       "      <td>3.15</td>\n",
       "      <td>48%</td>\n",
       "      <td>3.47</td>\n",
       "      <td>57%</td>\n",
       "      <td>50%</td>\n",
       "      <td>1.3</td>\n",
       "    </tr>\n",
       "    <tr>\n",
       "      <th>2</th>\n",
       "      <td>SHAMIL ABDURAKHIMOV</td>\n",
       "      <td>190.50</td>\n",
       "      <td>193.04</td>\n",
       "      <td>Orthodox</td>\n",
       "      <td>2.45</td>\n",
       "      <td>44%</td>\n",
       "      <td>2.45</td>\n",
       "      <td>58%</td>\n",
       "      <td>1.23</td>\n",
       "      <td>24%</td>\n",
       "      <td>47%</td>\n",
       "      <td>0.2</td>\n",
       "    </tr>\n",
       "    <tr>\n",
       "      <th>3</th>\n",
       "      <td>DANNY ABBADI</td>\n",
       "      <td>180.34</td>\n",
       "      <td>0.00</td>\n",
       "      <td>Orthodox</td>\n",
       "      <td>3.29</td>\n",
       "      <td>38%</td>\n",
       "      <td>4.41</td>\n",
       "      <td>57%</td>\n",
       "      <td>0.00</td>\n",
       "      <td>0%</td>\n",
       "      <td>77%</td>\n",
       "      <td>0.0</td>\n",
       "    </tr>\n",
       "    <tr>\n",
       "      <th>4</th>\n",
       "      <td>HIROYUKI ABE</td>\n",
       "      <td>167.64</td>\n",
       "      <td>0.00</td>\n",
       "      <td>Orthodox</td>\n",
       "      <td>1.71</td>\n",
       "      <td>36%</td>\n",
       "      <td>3.11</td>\n",
       "      <td>63%</td>\n",
       "      <td>0.00</td>\n",
       "      <td>0%</td>\n",
       "      <td>33%</td>\n",
       "      <td>0.0</td>\n",
       "    </tr>\n",
       "    <tr>\n",
       "      <th>5</th>\n",
       "      <td>RICARDO ABREU</td>\n",
       "      <td>180.34</td>\n",
       "      <td>0.00</td>\n",
       "      <td>Orthodox</td>\n",
       "      <td>3.79</td>\n",
       "      <td>31%</td>\n",
       "      <td>3.98</td>\n",
       "      <td>68%</td>\n",
       "      <td>2.13</td>\n",
       "      <td>42%</td>\n",
       "      <td>100%</td>\n",
       "      <td>0.7</td>\n",
       "    </tr>\n",
       "  </tbody>\n",
       "</table>\n",
       "</div>"
      ],
      "text/plain": [
       "          fighter_name  height   reach    stance  slpm_cs str_acc_cs  sapm_cs  \\\n",
       "1           PAPY ABEDI  180.34    0.00  Southpaw     2.80        55%     3.15   \n",
       "2  SHAMIL ABDURAKHIMOV  190.50  193.04  Orthodox     2.45        44%     2.45   \n",
       "3         DANNY ABBADI  180.34    0.00  Orthodox     3.29        38%     4.41   \n",
       "4         HIROYUKI ABE  167.64    0.00  Orthodox     1.71        36%     3.11   \n",
       "5        RICARDO ABREU  180.34    0.00  Orthodox     3.79        31%     3.98   \n",
       "\n",
       "  str_def_cs  td_avg_cs td_acc_cs td_def_cs  sub_avg_cs  \n",
       "1        48%       3.47       57%       50%         1.3  \n",
       "2        58%       1.23       24%       47%         0.2  \n",
       "3        57%       0.00        0%       77%         0.0  \n",
       "4        63%       0.00        0%       33%         0.0  \n",
       "5        68%       2.13       42%      100%         0.7  "
      ]
     },
     "execution_count": 52,
     "metadata": {},
     "output_type": "execute_result"
    }
   ],
   "source": [
    "# Convert height\n",
    "athlete_stats[\"height\"] = athlete_stats[\"height\"].apply(conv_from_inches_to_cm)\n",
    "# Convert reach\n",
    "athlete_stats[\"reach\"] = athlete_stats[\"reach\"].apply(conv_from_inches_to_cm)\n",
    "# Take a look\n",
    "athlete_stats.head()"
   ]
  },
  {
   "cell_type": "markdown",
   "id": "ee3106ba-c3e2-447e-8335-ff090447ac05",
   "metadata": {},
   "source": [
    "## Merge datasets"
   ]
  },
  {
   "cell_type": "markdown",
   "id": "ddae1e77-c788-4b23-8cb4-53c2f427853a",
   "metadata": {},
   "source": [
    "Prepare mappings to map features to red/blue fighters:"
   ]
  },
  {
   "cell_type": "code",
   "execution_count": 53,
   "id": "1617344c-76aa-432a-b502-f2ad771803c2",
   "metadata": {},
   "outputs": [],
   "source": [
    "red_mappings = {\n",
    "    col: f\"red_fighter_{col}\" for col in athlete_stats.columns if \"fighter\" not in col\n",
    "}\n",
    "blue_mappings = {\n",
    "    col: f\"blue_fighter_{col}\" for col in athlete_stats.columns if \"fighter\" not in col\n",
    "}"
   ]
  },
  {
   "cell_type": "markdown",
   "id": "b305c203-bb1c-4968-b659-f148fb173146",
   "metadata": {},
   "source": [
    "Merging:"
   ]
  },
  {
   "cell_type": "code",
   "execution_count": 54,
   "id": "7d2cf4d9-2435-482d-b01b-0b58f0aa54a4",
   "metadata": {},
   "outputs": [],
   "source": [
    "# Merge reds\n",
    "stats = pd.merge(\n",
    "    fights_stats,\n",
    "    athlete_stats.rename(columns=red_mappings),\n",
    "    left_on=\"red_fighter_name\",\n",
    "    right_on=\"fighter_name\",\n",
    ")\n",
    "stats.drop(columns=\"fighter_name\", inplace=True)"
   ]
  },
  {
   "cell_type": "code",
   "execution_count": 55,
   "id": "938cb03c-1cf0-4dc5-a1b8-90be435f1acd",
   "metadata": {},
   "outputs": [],
   "source": [
    "# Merge blues\n",
    "stats = pd.merge(\n",
    "    stats,\n",
    "    athlete_stats.rename(columns=blue_mappings),\n",
    "    left_on=\"blue_fighter_name\",\n",
    "    right_on=\"fighter_name\",\n",
    ")\n",
    "stats.drop(columns=\"fighter_name\", inplace=True)"
   ]
  },
  {
   "cell_type": "code",
   "execution_count": 56,
   "id": "862be3c8-31e6-496e-a61a-96d23b55c591",
   "metadata": {},
   "outputs": [
    {
     "data": {
      "text/plain": [
       "Index(['red_fighter_name', 'blue_fighter_name', 'event_date',\n",
       "       'red_fighter_nickname', 'blue_fighter_nickname', 'red_fighter_result',\n",
       "       'blue_fighter_result', 'method', 'round', 'time', 'time_format',\n",
       "       'referee', 'details', 'bout_type', 'bonus', 'event_name',\n",
       "       'event_location', 'red_fighter_KD', 'blue_fighter_KD',\n",
       "       'red_fighter_sig_str_pct', 'blue_fighter_sig_str_pct',\n",
       "       'red_fighter_total_str', 'blue_fighter_total_str', 'red_fighter_TD_pct',\n",
       "       'blue_fighter_TD_pct', 'red_fighter_sub_att', 'blue_fighter_sub_att',\n",
       "       'red_fighter_rev', 'blue_fighter_rev', 'red_fighter_ctrl',\n",
       "       'blue_fighter_ctrl', 'red_fighter_sig_str_head_acc',\n",
       "       'blue_fighter_sig_str_head_acc', 'red_fighter_sig_str_body_acc',\n",
       "       'blue_fighter_sig_str_body_acc', 'red_fighter_sig_str_leg_acc',\n",
       "       'blue_fighter_sig_str_leg_acc', 'red_fighter_sig_str_distance_acc',\n",
       "       'blue_fighter_sig_str_distance_acc', 'red_fighter_sig_str_clinch_acc',\n",
       "       'blue_fighter_sig_str_clinch_acc', 'red_fighter_sig_str_ground_acc',\n",
       "       'blue_fighter_sig_str_ground_acc', 'red_fighter_sig_str_head_tar_pct',\n",
       "       'blue_fighter_sig_str_head_tar_pct', 'red_fighter_sig_str_body_tar_pct',\n",
       "       'blue_fighter_sig_str_body_tar_pct', 'red_fighter_sig_str_leg_tar_pct',\n",
       "       'blue_fighter_sig_str_leg_tar_pct',\n",
       "       'red_fighter_sig_str_distance_pos_pct',\n",
       "       'blue_fighter_sig_str_distance_pos_pct',\n",
       "       'red_fighter_sig_str_clinch_pos_pct',\n",
       "       'blue_fighter_sig_str_clinch_pos_pct',\n",
       "       'red_fighter_sig_str_ground_pos_pct',\n",
       "       'blue_fighter_sig_str_ground_pos_pct', 'red_fighter_height',\n",
       "       'red_fighter_reach', 'red_fighter_stance', 'red_fighter_slpm_cs',\n",
       "       'red_fighter_str_acc_cs', 'red_fighter_sapm_cs',\n",
       "       'red_fighter_str_def_cs', 'red_fighter_td_avg_cs',\n",
       "       'red_fighter_td_acc_cs', 'red_fighter_td_def_cs',\n",
       "       'red_fighter_sub_avg_cs', 'blue_fighter_height', 'blue_fighter_reach',\n",
       "       'blue_fighter_stance', 'blue_fighter_slpm_cs',\n",
       "       'blue_fighter_str_acc_cs', 'blue_fighter_sapm_cs',\n",
       "       'blue_fighter_str_def_cs', 'blue_fighter_td_avg_cs',\n",
       "       'blue_fighter_td_acc_cs', 'blue_fighter_td_def_cs',\n",
       "       'blue_fighter_sub_avg_cs'],\n",
       "      dtype='object')"
      ]
     },
     "execution_count": 56,
     "metadata": {},
     "output_type": "execute_result"
    }
   ],
   "source": [
    "stats.columns"
   ]
  },
  {
   "cell_type": "markdown",
   "id": "a5317c1e-cc7f-4318-87a4-53360372ab79",
   "metadata": {
    "panel-layout": {
     "height": 60.616668701171875,
     "visible": true,
     "width": 100
    }
   },
   "source": [
    "# Data preprocessing"
   ]
  },
  {
   "cell_type": "markdown",
   "id": "48b98c83-17a3-4a6b-aebf-d196cb7a5711",
   "metadata": {},
   "source": [
    "Creating a single `winner` feature instead of two `red_fighter_result` and `blue_fighter_result` features:"
   ]
  },
  {
   "cell_type": "code",
   "execution_count": 22,
   "id": "565cbeba-5986-465c-a9b1-a66a0fad84e9",
   "metadata": {},
   "outputs": [],
   "source": [
    "stats.loc[:, \"winner\"] = stats[\"red_fighter_result\"].apply(\n",
    "    lambda x: \"red\" if x == \"W\" else \"blue\"\n",
    ")"
   ]
  },
  {
   "cell_type": "code",
   "execution_count": 23,
   "id": "cc1b14ad-0451-475f-83dd-fa35a66066f2",
   "metadata": {},
   "outputs": [
    {
     "data": {
      "text/plain": [
       "0     red\n",
       "1    blue\n",
       "2     red\n",
       "3     red\n",
       "4     red\n",
       "Name: winner, dtype: object"
      ]
     },
     "execution_count": 23,
     "metadata": {},
     "output_type": "execute_result"
    }
   ],
   "source": [
    "stats[\"winner\"].head()"
   ]
  },
  {
   "cell_type": "markdown",
   "id": "46ab7409-8ed2-44b4-b25e-3c4119b5f630",
   "metadata": {},
   "source": [
    "Saving the order of the columns because it will be distorted:"
   ]
  },
  {
   "cell_type": "code",
   "execution_count": 24,
   "id": "cbe68adf-9e05-42f3-886d-6bab3f5f306f",
   "metadata": {},
   "outputs": [],
   "source": [
    "def rename_condition(col):\n",
    "    if col.startswith(\"red_fighter_\"):\n",
    "        return col.replace(\"red_fighter_\", \"winner_\")\n",
    "    elif col.startswith(\"blue_fighter_\"):\n",
    "        return col.replace(\"blue_fighter_\", \"loser_\")\n",
    "    return col"
   ]
  },
  {
   "cell_type": "code",
   "execution_count": 25,
   "id": "b46cd890-a5bc-422c-98c1-bb8a94c82e33",
   "metadata": {},
   "outputs": [],
   "source": [
    "# Setup mapping\n",
    "col_mappings = {col: rename_condition(col) for col in stats.columns}\n",
    "# Get the new column names\n",
    "cols_order = list(col_mappings.values())"
   ]
  },
  {
   "cell_type": "markdown",
   "id": "3728996a-7fc9-4179-9e98-b1586ea1e301",
   "metadata": {},
   "source": [
    "Changing columns from **red/blue+feature name** to **winner/loser+feature name**:"
   ]
  },
  {
   "cell_type": "code",
   "execution_count": 26,
   "id": "6fa1ef47-e44c-4a9e-af43-f5e4e414cb84",
   "metadata": {},
   "outputs": [
    {
     "data": {
      "text/plain": [
       "Index(['blue_fighter_td_avg_cs', 'blue_fighter_td_acc_cs',\n",
       "       'blue_fighter_td_def_cs', 'blue_fighter_sub_avg_cs', 'winner'],\n",
       "      dtype='object')"
      ]
     },
     "execution_count": 26,
     "metadata": {},
     "output_type": "execute_result"
    }
   ],
   "source": [
    "stats.columns[-5:]"
   ]
  },
  {
   "cell_type": "code",
   "execution_count": 27,
   "id": "fd3f1e9a-c53a-40c2-8e76-53507f7353cf",
   "metadata": {},
   "outputs": [],
   "source": [
    "def assign_winner_n_loser(df, winner_col=\"winner\"):\n",
    "    \"\"\"Filters what columns to take into account,\n",
    "    creates new columns, instead of red/blue makes winner/loser,\n",
    "    gets data points from red/blue column based on\n",
    "    the value of the feature 'winner' in that same row.\"\"\"\n",
    "\n",
    "    # Get the columns, leave features like 'round', 'method', 'time' like they are\n",
    "    cols_to_drop = [\n",
    "        col for col in df.columns if col.startswith(\"red\") or col.startswith(\"blue\")\n",
    "    ]\n",
    "    # Remove prefixes to replace them with winner/loser instead\n",
    "    cols_to_change = set(\n",
    "        col.removeprefix(\"red_\").removeprefix(\"blue_\") for col in cols_to_drop\n",
    "    )\n",
    "\n",
    "    # Change each column\n",
    "    for col in cols_to_change:\n",
    "        # Create new features, sort the data according to the value of the 'winner' featuer\n",
    "        df.loc[:, f\"winner_{col.replace('fighter_', '')}\"] = df[f\"red_{col}\"].where(\n",
    "            df[winner_col] == \"red\", df[f\"blue_{col}\"]\n",
    "        )\n",
    "        df.loc[:, f\"loser_{col.replace('fighter_', '')}\"] = df[f\"red_{col}\"].where(\n",
    "            df[winner_col] == \"blue\", df[f\"blue_{col}\"]\n",
    "        )\n",
    "\n",
    "    # Drop the red/blue columns to keep only winner/loser\n",
    "    df.drop(columns=cols_to_drop, inplace=True)\n",
    "    return df"
   ]
  },
  {
   "cell_type": "code",
   "execution_count": 28,
   "id": "c6564417-979b-4f78-8c8c-d660ded448d5",
   "metadata": {},
   "outputs": [
    {
     "data": {
      "text/plain": [
       "Index(['loser_slpm_cs', 'winner_sig_str_clinch_acc',\n",
       "       'loser_sig_str_clinch_acc', 'winner_sig_str_ground_pos_pct',\n",
       "       'loser_sig_str_ground_pos_pct'],\n",
       "      dtype='object')"
      ]
     },
     "execution_count": 28,
     "metadata": {},
     "output_type": "execute_result"
    }
   ],
   "source": [
    "stats = assign_winner_n_loser(stats)\n",
    "stats.columns[-5:]"
   ]
  },
  {
   "cell_type": "code",
   "execution_count": 29,
   "id": "16abc52a-f5b4-4fd7-8d2c-254f1643c066",
   "metadata": {},
   "outputs": [
    {
     "data": {
      "text/html": [
       "<div>\n",
       "<style scoped>\n",
       "    .dataframe tbody tr th:only-of-type {\n",
       "        vertical-align: middle;\n",
       "    }\n",
       "\n",
       "    .dataframe tbody tr th {\n",
       "        vertical-align: top;\n",
       "    }\n",
       "\n",
       "    .dataframe thead th {\n",
       "        text-align: right;\n",
       "    }\n",
       "</style>\n",
       "<table border=\"1\" class=\"dataframe\">\n",
       "  <thead>\n",
       "    <tr style=\"text-align: right;\">\n",
       "      <th></th>\n",
       "      <th>event_date</th>\n",
       "      <th>method</th>\n",
       "      <th>round</th>\n",
       "      <th>time</th>\n",
       "      <th>time_format</th>\n",
       "      <th>referee</th>\n",
       "      <th>details</th>\n",
       "      <th>bout_type</th>\n",
       "      <th>bonus</th>\n",
       "      <th>event_name</th>\n",
       "      <th>...</th>\n",
       "      <th>winner_stance</th>\n",
       "      <th>loser_stance</th>\n",
       "      <th>winner_sig_str_leg_tar_pct</th>\n",
       "      <th>loser_sig_str_leg_tar_pct</th>\n",
       "      <th>winner_slpm_cs</th>\n",
       "      <th>loser_slpm_cs</th>\n",
       "      <th>winner_sig_str_clinch_acc</th>\n",
       "      <th>loser_sig_str_clinch_acc</th>\n",
       "      <th>winner_sig_str_ground_pos_pct</th>\n",
       "      <th>loser_sig_str_ground_pos_pct</th>\n",
       "    </tr>\n",
       "  </thead>\n",
       "  <tbody>\n",
       "    <tr>\n",
       "      <th>0</th>\n",
       "      <td>26/10/2024</td>\n",
       "      <td>KO/TKO</td>\n",
       "      <td>3</td>\n",
       "      <td>1:34</td>\n",
       "      <td>5 Rnd (5-5-5-5-5)</td>\n",
       "      <td>Marc Goddard</td>\n",
       "      <td>Punch to Head At Distance</td>\n",
       "      <td>UFC Featherweight Title Bout</td>\n",
       "      <td>belt</td>\n",
       "      <td>UFC 308: Topuria vs. Holloway</td>\n",
       "      <td>...</td>\n",
       "      <td>Orthodox</td>\n",
       "      <td>Orthodox</td>\n",
       "      <td>20</td>\n",
       "      <td>24</td>\n",
       "      <td>2.50</td>\n",
       "      <td>7.26</td>\n",
       "      <td>0 of 0</td>\n",
       "      <td>0 of 0</td>\n",
       "      <td>5</td>\n",
       "      <td>0</td>\n",
       "    </tr>\n",
       "    <tr>\n",
       "      <th>1</th>\n",
       "      <td>26/10/2024</td>\n",
       "      <td>Submission</td>\n",
       "      <td>1</td>\n",
       "      <td>3:34</td>\n",
       "      <td>5 Rnd (5-5-5-5-5)</td>\n",
       "      <td>Jason Herzog</td>\n",
       "      <td>Rear Naked Choke</td>\n",
       "      <td>Middleweight Bout</td>\n",
       "      <td>perf</td>\n",
       "      <td>UFC 308: Topuria vs. Holloway</td>\n",
       "      <td>...</td>\n",
       "      <td>Orthodox</td>\n",
       "      <td>Orthodox</td>\n",
       "      <td>0</td>\n",
       "      <td>100</td>\n",
       "      <td>9.03</td>\n",
       "      <td>4.52</td>\n",
       "      <td>0 of 0</td>\n",
       "      <td>0 of 0</td>\n",
       "      <td>100</td>\n",
       "      <td>0</td>\n",
       "    </tr>\n",
       "    <tr>\n",
       "      <th>2</th>\n",
       "      <td>26/10/2024</td>\n",
       "      <td>Decision - Unanimous</td>\n",
       "      <td>3</td>\n",
       "      <td>5:00</td>\n",
       "      <td>3 Rnd (5-5-5)</td>\n",
       "      <td>Vitor Ribeiro</td>\n",
       "      <td>Sal D'amato 28 - 29. Jacob Montalvo 28 - 29. T...</td>\n",
       "      <td>Light Heavyweight Bout</td>\n",
       "      <td>-</td>\n",
       "      <td>UFC 308: Topuria vs. Holloway</td>\n",
       "      <td>...</td>\n",
       "      <td>Orthodox</td>\n",
       "      <td>Orthodox</td>\n",
       "      <td>23</td>\n",
       "      <td>64</td>\n",
       "      <td>3.41</td>\n",
       "      <td>4.23</td>\n",
       "      <td>5 of 9</td>\n",
       "      <td>3 of 6</td>\n",
       "      <td>0</td>\n",
       "      <td>0</td>\n",
       "    </tr>\n",
       "    <tr>\n",
       "      <th>3</th>\n",
       "      <td>26/10/2024</td>\n",
       "      <td>Decision - Unanimous</td>\n",
       "      <td>3</td>\n",
       "      <td>5:00</td>\n",
       "      <td>3 Rnd (5-5-5)</td>\n",
       "      <td>Mark Smith</td>\n",
       "      <td>Mike Bell 28 - 29. Ben Cartlidge 28 - 29. Hadi...</td>\n",
       "      <td>Featherweight Bout</td>\n",
       "      <td>-</td>\n",
       "      <td>UFC 308: Topuria vs. Holloway</td>\n",
       "      <td>...</td>\n",
       "      <td>Orthodox</td>\n",
       "      <td>Orthodox</td>\n",
       "      <td>7</td>\n",
       "      <td>13</td>\n",
       "      <td>2.86</td>\n",
       "      <td>3.95</td>\n",
       "      <td>12 of 16</td>\n",
       "      <td>6 of 16</td>\n",
       "      <td>5</td>\n",
       "      <td>17</td>\n",
       "    </tr>\n",
       "    <tr>\n",
       "      <th>4</th>\n",
       "      <td>26/10/2024</td>\n",
       "      <td>KO/TKO</td>\n",
       "      <td>1</td>\n",
       "      <td>1:30</td>\n",
       "      <td>3 Rnd (5-5-5)</td>\n",
       "      <td>Mark Smith</td>\n",
       "      <td>to At Distance Dos Anjos leg injury</td>\n",
       "      <td>Welterweight Bout</td>\n",
       "      <td>-</td>\n",
       "      <td>UFC 308: Topuria vs. Holloway</td>\n",
       "      <td>...</td>\n",
       "      <td>Southpaw</td>\n",
       "      <td>Southpaw</td>\n",
       "      <td>16</td>\n",
       "      <td>25</td>\n",
       "      <td>4.94</td>\n",
       "      <td>3.49</td>\n",
       "      <td>0 of 0</td>\n",
       "      <td>0 of 0</td>\n",
       "      <td>27</td>\n",
       "      <td>0</td>\n",
       "    </tr>\n",
       "  </tbody>\n",
       "</table>\n",
       "<p>5 rows × 78 columns</p>\n",
       "</div>"
      ],
      "text/plain": [
       "   event_date                method  round  time        time_format  \\\n",
       "0  26/10/2024                KO/TKO      3  1:34  5 Rnd (5-5-5-5-5)   \n",
       "1  26/10/2024            Submission      1  3:34  5 Rnd (5-5-5-5-5)   \n",
       "2  26/10/2024  Decision - Unanimous      3  5:00      3 Rnd (5-5-5)   \n",
       "3  26/10/2024  Decision - Unanimous      3  5:00      3 Rnd (5-5-5)   \n",
       "4  26/10/2024                KO/TKO      1  1:30      3 Rnd (5-5-5)   \n",
       "\n",
       "         referee                                            details  \\\n",
       "0   Marc Goddard                          Punch to Head At Distance   \n",
       "1   Jason Herzog                                   Rear Naked Choke   \n",
       "2  Vitor Ribeiro  Sal D'amato 28 - 29. Jacob Montalvo 28 - 29. T...   \n",
       "3     Mark Smith  Mike Bell 28 - 29. Ben Cartlidge 28 - 29. Hadi...   \n",
       "4     Mark Smith                to At Distance Dos Anjos leg injury   \n",
       "\n",
       "                      bout_type bonus                     event_name  ...  \\\n",
       "0  UFC Featherweight Title Bout  belt  UFC 308: Topuria vs. Holloway  ...   \n",
       "1             Middleweight Bout  perf  UFC 308: Topuria vs. Holloway  ...   \n",
       "2        Light Heavyweight Bout     -  UFC 308: Topuria vs. Holloway  ...   \n",
       "3            Featherweight Bout     -  UFC 308: Topuria vs. Holloway  ...   \n",
       "4             Welterweight Bout     -  UFC 308: Topuria vs. Holloway  ...   \n",
       "\n",
       "  winner_stance loser_stance winner_sig_str_leg_tar_pct  \\\n",
       "0      Orthodox     Orthodox                         20   \n",
       "1      Orthodox     Orthodox                          0   \n",
       "2      Orthodox     Orthodox                         23   \n",
       "3      Orthodox     Orthodox                          7   \n",
       "4      Southpaw     Southpaw                         16   \n",
       "\n",
       "  loser_sig_str_leg_tar_pct  winner_slpm_cs  loser_slpm_cs  \\\n",
       "0                        24            2.50           7.26   \n",
       "1                       100            9.03           4.52   \n",
       "2                        64            3.41           4.23   \n",
       "3                        13            2.86           3.95   \n",
       "4                        25            4.94           3.49   \n",
       "\n",
       "  winner_sig_str_clinch_acc loser_sig_str_clinch_acc  \\\n",
       "0                    0 of 0                   0 of 0   \n",
       "1                    0 of 0                   0 of 0   \n",
       "2                    5 of 9                   3 of 6   \n",
       "3                  12 of 16                  6 of 16   \n",
       "4                    0 of 0                   0 of 0   \n",
       "\n",
       "  winner_sig_str_ground_pos_pct loser_sig_str_ground_pos_pct  \n",
       "0                             5                            0  \n",
       "1                           100                            0  \n",
       "2                             0                            0  \n",
       "3                             5                           17  \n",
       "4                            27                            0  \n",
       "\n",
       "[5 rows x 78 columns]"
      ]
     },
     "execution_count": 29,
     "metadata": {},
     "output_type": "execute_result"
    }
   ],
   "source": [
    "stats.head()"
   ]
  },
  {
   "cell_type": "markdown",
   "id": "379172de-7691-418e-b72a-8173db9db1ac",
   "metadata": {},
   "source": [
    "Setting the previous, correct order up:"
   ]
  },
  {
   "cell_type": "code",
   "execution_count": 30,
   "id": "ee192de0-1d2a-4dc4-a886-77425a2a5526",
   "metadata": {},
   "outputs": [],
   "source": [
    "stats = stats.loc[:, cols_order]"
   ]
  },
  {
   "cell_type": "markdown",
   "id": "d81c643c-7bcc-411a-a982-607602b01699",
   "metadata": {
    "panel-layout": {
     "height": 60.616668701171875,
     "visible": true,
     "width": 100
    }
   },
   "source": [
    "# Data Cleaning"
   ]
  },
  {
   "cell_type": "markdown",
   "id": "e9bfbdb9-ef69-4b4e-bb8f-626f4e10b3a8",
   "metadata": {
    "panel-layout": {
     "height": 50.850006103515625,
     "visible": true,
     "width": 100
    }
   },
   "source": [
    "## NaN values"
   ]
  },
  {
   "cell_type": "code",
   "execution_count": 31,
   "id": "b392d156-f9c8-4139-a380-57ead00b8515",
   "metadata": {
    "panel-layout": {
     "height": 556.75,
     "visible": true,
     "width": 100
    }
   },
   "outputs": [
    {
     "data": {
      "text/plain": [
       "0"
      ]
     },
     "execution_count": 31,
     "metadata": {},
     "output_type": "execute_result"
    }
   ],
   "source": [
    "stats.isnull().sum().sum()"
   ]
  },
  {
   "cell_type": "markdown",
   "id": "964adb30-2635-4c71-96dc-4705d24c5de8",
   "metadata": {},
   "source": [
    "Replacing NaN entry fillers with zeros:"
   ]
  },
  {
   "cell_type": "code",
   "execution_count": 32,
   "id": "4f66f5d9-59e4-45e6-af3f-59d27f00a65a",
   "metadata": {},
   "outputs": [
    {
     "data": {
      "text/plain": [
       "14392"
      ]
     },
     "execution_count": 32,
     "metadata": {},
     "output_type": "execute_result"
    }
   ],
   "source": [
    "stats.isin([\"-\", \"--\", \"---\"]).sum().sum()"
   ]
  },
  {
   "cell_type": "code",
   "execution_count": 33,
   "id": "e0786962-6714-4b93-ae68-19893bf12236",
   "metadata": {},
   "outputs": [
    {
     "data": {
      "text/plain": [
       "0"
      ]
     },
     "execution_count": 33,
     "metadata": {},
     "output_type": "execute_result"
    }
   ],
   "source": [
    "stats = stats.replace([\"-\", \"--\", \"---\"], \"0\")\n",
    "stats.isin([\"-\", \"--\", \"---\"]).sum().sum()"
   ]
  },
  {
   "cell_type": "markdown",
   "id": "6a38adab-746e-45da-8865-65a6a587e116",
   "metadata": {},
   "source": [
    "## Duplicates"
   ]
  },
  {
   "cell_type": "code",
   "execution_count": 34,
   "id": "30605159-1e13-4a54-b426-84567b47385f",
   "metadata": {},
   "outputs": [
    {
     "data": {
      "text/plain": [
       "0"
      ]
     },
     "execution_count": 34,
     "metadata": {},
     "output_type": "execute_result"
    }
   ],
   "source": [
    "stats.duplicated().sum()"
   ]
  },
  {
   "cell_type": "markdown",
   "id": "0f058bf6-6684-412d-80df-b2cc088d9b33",
   "metadata": {},
   "source": [
    "We can see that there are no NaNs or duplicates. Let's get to Feature Engineering."
   ]
  },
  {
   "cell_type": "markdown",
   "id": "13c8085f-58fe-4ead-bd78-7c86c31eaef0",
   "metadata": {},
   "source": [
    "# Feature Engineering"
   ]
  },
  {
   "cell_type": "markdown",
   "id": "b6a868fd-e1c6-4b2e-b79b-31025ed7f43c",
   "metadata": {},
   "source": [
    "## First dtype conversion"
   ]
  },
  {
   "cell_type": "markdown",
   "id": "c7210de2-0ab3-4c97-a93d-24555e3e00b3",
   "metadata": {},
   "source": [
    "Convert columns that are in object dtype but where values just consist of intigers only to remove the pool of preprocessing:"
   ]
  },
  {
   "cell_type": "code",
   "execution_count": 35,
   "id": "5360c52d-cc15-497a-aec9-0cd9573602dc",
   "metadata": {},
   "outputs": [
    {
     "data": {
      "text/plain": [
       "object     65\n",
       "float64    12\n",
       "int64       1\n",
       "Name: count, dtype: int64"
      ]
     },
     "execution_count": 35,
     "metadata": {},
     "output_type": "execute_result"
    }
   ],
   "source": [
    "stats.dtypes.value_counts()"
   ]
  },
  {
   "cell_type": "code",
   "execution_count": 36,
   "id": "ee080c57-34fa-432d-84c9-196782f15e09",
   "metadata": {},
   "outputs": [],
   "source": [
    "for col in stats.columns:\n",
    "    try:\n",
    "        stats[col] = stats[col].astype(float)\n",
    "\n",
    "    # If not possible, (contains strings) we'll handle it in a minute\n",
    "    except:\n",
    "        continue"
   ]
  },
  {
   "cell_type": "code",
   "execution_count": 37,
   "id": "ac1ce1b3-fbf4-4dc8-a7b1-02d0fc753785",
   "metadata": {},
   "outputs": [
    {
     "data": {
      "text/plain": [
       "object     43\n",
       "float64    35\n",
       "Name: count, dtype: int64"
      ]
     },
     "execution_count": 37,
     "metadata": {},
     "output_type": "execute_result"
    }
   ],
   "source": [
    "stats.dtypes.value_counts()"
   ]
  },
  {
   "cell_type": "markdown",
   "id": "50cdb102-501e-4968-ac05-08196622a985",
   "metadata": {},
   "source": [
    "## Process categorical features"
   ]
  },
  {
   "cell_type": "markdown",
   "id": "ff5592a5-b366-4ca5-bebe-51a8ff12e357",
   "metadata": {},
   "source": [
    "Find columns that need to be cleaned:"
   ]
  },
  {
   "cell_type": "code",
   "execution_count": 38,
   "id": "f21441a8-0364-4378-9eed-5dfc2da7bdfd",
   "metadata": {
    "editable": true,
    "scrolled": true,
    "slideshow": {
     "slide_type": ""
    },
    "tags": []
   },
   "outputs": [
    {
     "name": "stdout",
     "output_type": "stream",
     "text": [
      "Number of categorical features to preprocess: 24\n"
     ]
    }
   ],
   "source": [
    "cols_to_clean = []\n",
    "\n",
    "for col in stats.columns:\n",
    "    val = stats.loc[0, col]\n",
    "    if (\n",
    "        stats[col].dtype == \"object\"\n",
    "        and (col.startswith(\"loser_\") or col.startswith(\"winner_\"))\n",
    "        and any(char.isdigit() for char in val)\n",
    "    ):\n",
    "        cols_to_clean.append(col)\n",
    "\n",
    "print(f\"Number of categorical features to preprocess: {len(cols_to_clean)}\")"
   ]
  },
  {
   "cell_type": "markdown",
   "id": "1b24deef-5e2b-4b63-8a96-7e035c6e7557",
   "metadata": {},
   "source": [
    "Taking a look:"
   ]
  },
  {
   "cell_type": "code",
   "execution_count": 39,
   "id": "9f21554a-f3a5-42fa-b6b8-eab99e3df430",
   "metadata": {},
   "outputs": [
    {
     "data": {
      "text/html": [
       "<div>\n",
       "<style scoped>\n",
       "    .dataframe tbody tr th:only-of-type {\n",
       "        vertical-align: middle;\n",
       "    }\n",
       "\n",
       "    .dataframe tbody tr th {\n",
       "        vertical-align: top;\n",
       "    }\n",
       "\n",
       "    .dataframe thead th {\n",
       "        text-align: right;\n",
       "    }\n",
       "</style>\n",
       "<table border=\"1\" class=\"dataframe\">\n",
       "  <thead>\n",
       "    <tr style=\"text-align: right;\">\n",
       "      <th></th>\n",
       "      <th>winner_total_str</th>\n",
       "      <th>winner_td_acc_cs</th>\n",
       "      <th>winner_ctrl</th>\n",
       "    </tr>\n",
       "  </thead>\n",
       "  <tbody>\n",
       "    <tr>\n",
       "      <th>0</th>\n",
       "      <td>78 of 147</td>\n",
       "      <td>55%</td>\n",
       "      <td>0:45</td>\n",
       "    </tr>\n",
       "    <tr>\n",
       "      <th>1</th>\n",
       "      <td>25 of 31</td>\n",
       "      <td>75%</td>\n",
       "      <td>3:20</td>\n",
       "    </tr>\n",
       "    <tr>\n",
       "      <th>2</th>\n",
       "      <td>75 of 142</td>\n",
       "      <td>33%</td>\n",
       "      <td>1:31</td>\n",
       "    </tr>\n",
       "  </tbody>\n",
       "</table>\n",
       "</div>"
      ],
      "text/plain": [
       "  winner_total_str winner_td_acc_cs winner_ctrl\n",
       "0        78 of 147              55%        0:45\n",
       "1         25 of 31              75%        3:20\n",
       "2        75 of 142              33%        1:31"
      ]
     },
     "execution_count": 39,
     "metadata": {},
     "output_type": "execute_result"
    }
   ],
   "source": [
    "stats.loc[:2, [\"winner_total_str\", \"winner_td_acc_cs\", \"winner_ctrl\"]]"
   ]
  },
  {
   "cell_type": "markdown",
   "id": "55c81d9b-4cc2-4dde-8c0d-b6c33410178e",
   "metadata": {},
   "source": [
    "## Standardizing Features"
   ]
  },
  {
   "cell_type": "markdown",
   "id": "68999a9c-7db2-41d5-b418-979220f4c566",
   "metadata": {},
   "source": [
    "In total we have to standardize 3 types of features:\n",
    "1. Ratio to pct: 75 of 144 => 52 (%)\n",
    "2. Dropping pct symbol: 85% => 85 (%)\n",
    "3. Time: 1:31\t=> 91 (seconds)"
   ]
  },
  {
   "cell_type": "markdown",
   "id": "f80b736e-c192-456b-89ad-ea359446f410",
   "metadata": {},
   "source": [
    "But let's first group the columns into 3 different buckets for simplicity:"
   ]
  },
  {
   "cell_type": "code",
   "execution_count": 40,
   "id": "0d711e01-0626-4545-8813-e8658c38c190",
   "metadata": {},
   "outputs": [],
   "source": [
    "\"\"\"This way of matching is not safe, and REGEXes should be used instead,\n",
    "but this is a trivial case and I think we should be fine.\"\"\"\n",
    "\n",
    "of_cols = []\n",
    "no_pct_symbol_cols = []\n",
    "time_cols = []\n",
    "\n",
    "for col in cols_to_clean:\n",
    "    val = stats.loc[0, col]\n",
    "\n",
    "    if \"of\" in val:\n",
    "        of_cols.append(col)\n",
    "    elif \"%\" in val:\n",
    "        no_pct_symbol_cols.append(col)\n",
    "    elif \":\" in val:\n",
    "        time_cols.append(col)"
   ]
  },
  {
   "cell_type": "markdown",
   "id": "5df16751-1c5a-471d-a96f-1099b3956b93",
   "metadata": {},
   "source": [
    "Let's take a look:"
   ]
  },
  {
   "cell_type": "code",
   "execution_count": 41,
   "id": "1042cc71-c955-4754-b6b0-fca3b553cb32",
   "metadata": {},
   "outputs": [
    {
     "data": {
      "text/html": [
       "<div>\n",
       "<style scoped>\n",
       "    .dataframe tbody tr th:only-of-type {\n",
       "        vertical-align: middle;\n",
       "    }\n",
       "\n",
       "    .dataframe tbody tr th {\n",
       "        vertical-align: top;\n",
       "    }\n",
       "\n",
       "    .dataframe thead th {\n",
       "        text-align: right;\n",
       "    }\n",
       "</style>\n",
       "<table border=\"1\" class=\"dataframe\">\n",
       "  <thead>\n",
       "    <tr style=\"text-align: right;\">\n",
       "      <th></th>\n",
       "      <th>winner_total_str</th>\n",
       "      <th>loser_total_str</th>\n",
       "      <th>winner_sig_str_head_acc</th>\n",
       "      <th>loser_sig_str_head_acc</th>\n",
       "      <th>winner_sig_str_body_acc</th>\n",
       "      <th>loser_sig_str_body_acc</th>\n",
       "      <th>winner_sig_str_leg_acc</th>\n",
       "      <th>loser_sig_str_leg_acc</th>\n",
       "      <th>winner_sig_str_distance_acc</th>\n",
       "      <th>loser_sig_str_distance_acc</th>\n",
       "      <th>winner_sig_str_clinch_acc</th>\n",
       "      <th>loser_sig_str_clinch_acc</th>\n",
       "      <th>winner_sig_str_ground_acc</th>\n",
       "      <th>loser_sig_str_ground_acc</th>\n",
       "    </tr>\n",
       "  </thead>\n",
       "  <tbody>\n",
       "    <tr>\n",
       "      <th>0</th>\n",
       "      <td>78 of 147</td>\n",
       "      <td>84 of 209</td>\n",
       "      <td>49 of 114</td>\n",
       "      <td>47 of 151</td>\n",
       "      <td>11 of 14</td>\n",
       "      <td>13 of 30</td>\n",
       "      <td>15 of 16</td>\n",
       "      <td>19 of 23</td>\n",
       "      <td>71 of 140</td>\n",
       "      <td>79 of 204</td>\n",
       "      <td>0 of 0</td>\n",
       "      <td>0 of 0</td>\n",
       "      <td>4 of 4</td>\n",
       "      <td>0 of 0</td>\n",
       "    </tr>\n",
       "    <tr>\n",
       "      <th>1</th>\n",
       "      <td>25 of 31</td>\n",
       "      <td>2 of 2</td>\n",
       "      <td>2 of 3</td>\n",
       "      <td>0 of 0</td>\n",
       "      <td>1 of 1</td>\n",
       "      <td>0 of 0</td>\n",
       "      <td>0 of 0</td>\n",
       "      <td>2 of 2</td>\n",
       "      <td>0 of 1</td>\n",
       "      <td>2 of 2</td>\n",
       "      <td>0 of 0</td>\n",
       "      <td>0 of 0</td>\n",
       "      <td>3 of 3</td>\n",
       "      <td>0 of 0</td>\n",
       "    </tr>\n",
       "    <tr>\n",
       "      <th>2</th>\n",
       "      <td>75 of 142</td>\n",
       "      <td>59 of 123</td>\n",
       "      <td>20 of 72</td>\n",
       "      <td>10 of 65</td>\n",
       "      <td>22 of 29</td>\n",
       "      <td>9 of 12</td>\n",
       "      <td>13 of 13</td>\n",
       "      <td>34 of 40</td>\n",
       "      <td>50 of 105</td>\n",
       "      <td>50 of 111</td>\n",
       "      <td>5 of 9</td>\n",
       "      <td>3 of 6</td>\n",
       "      <td>0 of 0</td>\n",
       "      <td>0 of 0</td>\n",
       "    </tr>\n",
       "  </tbody>\n",
       "</table>\n",
       "</div>"
      ],
      "text/plain": [
       "  winner_total_str loser_total_str winner_sig_str_head_acc  \\\n",
       "0        78 of 147       84 of 209               49 of 114   \n",
       "1         25 of 31          2 of 2                  2 of 3   \n",
       "2        75 of 142       59 of 123                20 of 72   \n",
       "\n",
       "  loser_sig_str_head_acc winner_sig_str_body_acc loser_sig_str_body_acc  \\\n",
       "0              47 of 151                11 of 14               13 of 30   \n",
       "1                 0 of 0                  1 of 1                 0 of 0   \n",
       "2               10 of 65                22 of 29                9 of 12   \n",
       "\n",
       "  winner_sig_str_leg_acc loser_sig_str_leg_acc winner_sig_str_distance_acc  \\\n",
       "0               15 of 16              19 of 23                   71 of 140   \n",
       "1                 0 of 0                2 of 2                      0 of 1   \n",
       "2               13 of 13              34 of 40                   50 of 105   \n",
       "\n",
       "  loser_sig_str_distance_acc winner_sig_str_clinch_acc  \\\n",
       "0                  79 of 204                    0 of 0   \n",
       "1                     2 of 2                    0 of 0   \n",
       "2                  50 of 111                    5 of 9   \n",
       "\n",
       "  loser_sig_str_clinch_acc winner_sig_str_ground_acc loser_sig_str_ground_acc  \n",
       "0                   0 of 0                    4 of 4                   0 of 0  \n",
       "1                   0 of 0                    3 of 3                   0 of 0  \n",
       "2                   3 of 6                    0 of 0                   0 of 0  "
      ]
     },
     "execution_count": 41,
     "metadata": {},
     "output_type": "execute_result"
    }
   ],
   "source": [
    "stats.loc[:2, of_cols]"
   ]
  },
  {
   "cell_type": "code",
   "execution_count": 42,
   "id": "8437951d-5b0e-4d49-beab-1be6f1821c2a",
   "metadata": {},
   "outputs": [
    {
     "data": {
      "text/html": [
       "<div>\n",
       "<style scoped>\n",
       "    .dataframe tbody tr th:only-of-type {\n",
       "        vertical-align: middle;\n",
       "    }\n",
       "\n",
       "    .dataframe tbody tr th {\n",
       "        vertical-align: top;\n",
       "    }\n",
       "\n",
       "    .dataframe thead th {\n",
       "        text-align: right;\n",
       "    }\n",
       "</style>\n",
       "<table border=\"1\" class=\"dataframe\">\n",
       "  <thead>\n",
       "    <tr style=\"text-align: right;\">\n",
       "      <th></th>\n",
       "      <th>winner_str_acc_cs</th>\n",
       "      <th>winner_str_def_cs</th>\n",
       "      <th>winner_td_acc_cs</th>\n",
       "      <th>winner_td_def_cs</th>\n",
       "      <th>loser_str_acc_cs</th>\n",
       "      <th>loser_str_def_cs</th>\n",
       "      <th>loser_td_acc_cs</th>\n",
       "      <th>loser_td_def_cs</th>\n",
       "    </tr>\n",
       "  </thead>\n",
       "  <tbody>\n",
       "    <tr>\n",
       "      <th>0</th>\n",
       "      <td>45%</td>\n",
       "      <td>68%</td>\n",
       "      <td>55%</td>\n",
       "      <td>100%</td>\n",
       "      <td>46%</td>\n",
       "      <td>60%</td>\n",
       "      <td>71%</td>\n",
       "      <td>84%</td>\n",
       "    </tr>\n",
       "    <tr>\n",
       "      <th>1</th>\n",
       "      <td>72%</td>\n",
       "      <td>66%</td>\n",
       "      <td>75%</td>\n",
       "      <td>0%</td>\n",
       "      <td>40%</td>\n",
       "      <td>60%</td>\n",
       "      <td>27%</td>\n",
       "      <td>84%</td>\n",
       "    </tr>\n",
       "    <tr>\n",
       "      <th>2</th>\n",
       "      <td>53%</td>\n",
       "      <td>65%</td>\n",
       "      <td>33%</td>\n",
       "      <td>85%</td>\n",
       "      <td>52%</td>\n",
       "      <td>52%</td>\n",
       "      <td>25%</td>\n",
       "      <td>90%</td>\n",
       "    </tr>\n",
       "  </tbody>\n",
       "</table>\n",
       "</div>"
      ],
      "text/plain": [
       "  winner_str_acc_cs winner_str_def_cs winner_td_acc_cs winner_td_def_cs  \\\n",
       "0               45%               68%              55%             100%   \n",
       "1               72%               66%              75%               0%   \n",
       "2               53%               65%              33%              85%   \n",
       "\n",
       "  loser_str_acc_cs loser_str_def_cs loser_td_acc_cs loser_td_def_cs  \n",
       "0              46%              60%             71%             84%  \n",
       "1              40%              60%             27%             84%  \n",
       "2              52%              52%             25%             90%  "
      ]
     },
     "execution_count": 42,
     "metadata": {},
     "output_type": "execute_result"
    }
   ],
   "source": [
    "stats.loc[:2, no_pct_symbol_cols]"
   ]
  },
  {
   "cell_type": "code",
   "execution_count": 43,
   "id": "a57bcc4d-5e89-4588-9bd4-70e0e9897161",
   "metadata": {},
   "outputs": [
    {
     "data": {
      "text/html": [
       "<div>\n",
       "<style scoped>\n",
       "    .dataframe tbody tr th:only-of-type {\n",
       "        vertical-align: middle;\n",
       "    }\n",
       "\n",
       "    .dataframe tbody tr th {\n",
       "        vertical-align: top;\n",
       "    }\n",
       "\n",
       "    .dataframe thead th {\n",
       "        text-align: right;\n",
       "    }\n",
       "</style>\n",
       "<table border=\"1\" class=\"dataframe\">\n",
       "  <thead>\n",
       "    <tr style=\"text-align: right;\">\n",
       "      <th></th>\n",
       "      <th>winner_ctrl</th>\n",
       "      <th>loser_ctrl</th>\n",
       "    </tr>\n",
       "  </thead>\n",
       "  <tbody>\n",
       "    <tr>\n",
       "      <th>0</th>\n",
       "      <td>0:45</td>\n",
       "      <td>0:00</td>\n",
       "    </tr>\n",
       "    <tr>\n",
       "      <th>1</th>\n",
       "      <td>3:20</td>\n",
       "      <td>0:00</td>\n",
       "    </tr>\n",
       "    <tr>\n",
       "      <th>2</th>\n",
       "      <td>1:31</td>\n",
       "      <td>1:00</td>\n",
       "    </tr>\n",
       "  </tbody>\n",
       "</table>\n",
       "</div>"
      ],
      "text/plain": [
       "  winner_ctrl loser_ctrl\n",
       "0        0:45       0:00\n",
       "1        3:20       0:00\n",
       "2        1:31       1:00"
      ]
     },
     "execution_count": 43,
     "metadata": {},
     "output_type": "execute_result"
    }
   ],
   "source": [
    "stats.loc[:2, time_cols]"
   ]
  },
  {
   "cell_type": "markdown",
   "id": "812f653a-7e40-41db-b8c7-e9b29aefe743",
   "metadata": {},
   "source": [
    "Looks good, let's also add _pct postfix to the column that will consist of pct values to differentiate later."
   ]
  },
  {
   "cell_type": "code",
   "execution_count": 44,
   "id": "6683aa98-3c45-4a8b-83cf-65e2939033e9",
   "metadata": {},
   "outputs": [
    {
     "data": {
      "text/plain": [
       "'of_cols = [col + \"_pct\" for col in of_cols]\\nno_pct_symbol_cols = [col + \"_pct\" for col in no_pct_symbol_cols]'"
      ]
     },
     "execution_count": 44,
     "metadata": {},
     "output_type": "execute_result"
    }
   ],
   "source": [
    "\"\"\"of_cols = [col + \"_pct\" for col in of_cols]\n",
    "no_pct_symbol_cols = [col + \"_pct\" for col in no_pct_symbol_cols]\"\"\""
   ]
  },
  {
   "cell_type": "markdown",
   "id": "be6cc250-61e1-482b-8100-c313aac20678",
   "metadata": {},
   "source": [
    "Let's standardize."
   ]
  },
  {
   "cell_type": "markdown",
   "id": "cca20614-e34f-46c8-aac4-56b480174dd1",
   "metadata": {},
   "source": [
    "### Standardizing fractions into pct % (e.g. from 70 of 140 to 50 (%)):"
   ]
  },
  {
   "cell_type": "code",
   "execution_count": 45,
   "id": "016525e2-2ec5-45e9-9c5d-4221649502b8",
   "metadata": {},
   "outputs": [],
   "source": [
    "def convert_ratio_to_pct(row):\n",
    "    row = row.split(\"of\")\n",
    "\n",
    "    if re.search(r\"\\d\", row[0]) and int(row[0]) != 0:\n",
    "        return (int(row[0]) * 100) / int(row[1])\n",
    "    else:\n",
    "        return 0"
   ]
  },
  {
   "cell_type": "markdown",
   "id": "59bf11ce-c642-4036-8722-fa446d9290f4",
   "metadata": {},
   "source": [
    "Applying:"
   ]
  },
  {
   "cell_type": "code",
   "execution_count": 46,
   "id": "692dd25c-8585-4689-88f6-99f1f4665642",
   "metadata": {},
   "outputs": [],
   "source": [
    "for col in of_cols:\n",
    "    stats[col] = stats[col].apply(convert_ratio_to_pct)\n",
    "\n",
    "# Rename\n",
    "name_mappings = {col: f\"{col}_pct\" for col in of_cols}\n",
    "stats.rename(columns=name_mappings, inplace=True)"
   ]
  },
  {
   "cell_type": "code",
   "execution_count": 47,
   "id": "c65984ef-fbfe-4bbf-b6e5-e1b1a0dad5cb",
   "metadata": {},
   "outputs": [
    {
     "data": {
      "text/html": [
       "<div>\n",
       "<style scoped>\n",
       "    .dataframe tbody tr th:only-of-type {\n",
       "        vertical-align: middle;\n",
       "    }\n",
       "\n",
       "    .dataframe tbody tr th {\n",
       "        vertical-align: top;\n",
       "    }\n",
       "\n",
       "    .dataframe thead th {\n",
       "        text-align: right;\n",
       "    }\n",
       "</style>\n",
       "<table border=\"1\" class=\"dataframe\">\n",
       "  <thead>\n",
       "    <tr style=\"text-align: right;\">\n",
       "      <th></th>\n",
       "      <th>winner_total_str_pct</th>\n",
       "      <th>loser_total_str_pct</th>\n",
       "      <th>winner_sig_str_head_acc_pct</th>\n",
       "      <th>loser_sig_str_head_acc_pct</th>\n",
       "      <th>winner_sig_str_body_acc_pct</th>\n",
       "      <th>loser_sig_str_body_acc_pct</th>\n",
       "      <th>winner_sig_str_leg_acc_pct</th>\n",
       "      <th>loser_sig_str_leg_acc_pct</th>\n",
       "      <th>winner_sig_str_distance_acc_pct</th>\n",
       "      <th>loser_sig_str_distance_acc_pct</th>\n",
       "      <th>winner_sig_str_clinch_acc_pct</th>\n",
       "      <th>loser_sig_str_clinch_acc_pct</th>\n",
       "      <th>winner_sig_str_ground_acc_pct</th>\n",
       "      <th>loser_sig_str_ground_acc_pct</th>\n",
       "    </tr>\n",
       "  </thead>\n",
       "  <tbody>\n",
       "    <tr>\n",
       "      <th>0</th>\n",
       "      <td>53.061224</td>\n",
       "      <td>40.191388</td>\n",
       "      <td>42.982456</td>\n",
       "      <td>31.125828</td>\n",
       "      <td>78.571429</td>\n",
       "      <td>43.333333</td>\n",
       "      <td>93.75</td>\n",
       "      <td>82.608696</td>\n",
       "      <td>50.714286</td>\n",
       "      <td>38.725490</td>\n",
       "      <td>0.000000</td>\n",
       "      <td>0.0</td>\n",
       "      <td>100.0</td>\n",
       "      <td>0.0</td>\n",
       "    </tr>\n",
       "    <tr>\n",
       "      <th>1</th>\n",
       "      <td>80.645161</td>\n",
       "      <td>100.000000</td>\n",
       "      <td>66.666667</td>\n",
       "      <td>0.000000</td>\n",
       "      <td>100.000000</td>\n",
       "      <td>0.000000</td>\n",
       "      <td>0.00</td>\n",
       "      <td>100.000000</td>\n",
       "      <td>0.000000</td>\n",
       "      <td>100.000000</td>\n",
       "      <td>0.000000</td>\n",
       "      <td>0.0</td>\n",
       "      <td>100.0</td>\n",
       "      <td>0.0</td>\n",
       "    </tr>\n",
       "    <tr>\n",
       "      <th>2</th>\n",
       "      <td>52.816901</td>\n",
       "      <td>47.967480</td>\n",
       "      <td>27.777778</td>\n",
       "      <td>15.384615</td>\n",
       "      <td>75.862069</td>\n",
       "      <td>75.000000</td>\n",
       "      <td>100.00</td>\n",
       "      <td>85.000000</td>\n",
       "      <td>47.619048</td>\n",
       "      <td>45.045045</td>\n",
       "      <td>55.555556</td>\n",
       "      <td>50.0</td>\n",
       "      <td>0.0</td>\n",
       "      <td>0.0</td>\n",
       "    </tr>\n",
       "  </tbody>\n",
       "</table>\n",
       "</div>"
      ],
      "text/plain": [
       "   winner_total_str_pct  loser_total_str_pct  winner_sig_str_head_acc_pct  \\\n",
       "0             53.061224            40.191388                    42.982456   \n",
       "1             80.645161           100.000000                    66.666667   \n",
       "2             52.816901            47.967480                    27.777778   \n",
       "\n",
       "   loser_sig_str_head_acc_pct  winner_sig_str_body_acc_pct  \\\n",
       "0                   31.125828                    78.571429   \n",
       "1                    0.000000                   100.000000   \n",
       "2                   15.384615                    75.862069   \n",
       "\n",
       "   loser_sig_str_body_acc_pct  winner_sig_str_leg_acc_pct  \\\n",
       "0                   43.333333                       93.75   \n",
       "1                    0.000000                        0.00   \n",
       "2                   75.000000                      100.00   \n",
       "\n",
       "   loser_sig_str_leg_acc_pct  winner_sig_str_distance_acc_pct  \\\n",
       "0                  82.608696                        50.714286   \n",
       "1                 100.000000                         0.000000   \n",
       "2                  85.000000                        47.619048   \n",
       "\n",
       "   loser_sig_str_distance_acc_pct  winner_sig_str_clinch_acc_pct  \\\n",
       "0                       38.725490                       0.000000   \n",
       "1                      100.000000                       0.000000   \n",
       "2                       45.045045                      55.555556   \n",
       "\n",
       "   loser_sig_str_clinch_acc_pct  winner_sig_str_ground_acc_pct  \\\n",
       "0                           0.0                          100.0   \n",
       "1                           0.0                          100.0   \n",
       "2                          50.0                            0.0   \n",
       "\n",
       "   loser_sig_str_ground_acc_pct  \n",
       "0                           0.0  \n",
       "1                           0.0  \n",
       "2                           0.0  "
      ]
     },
     "execution_count": 47,
     "metadata": {},
     "output_type": "execute_result"
    }
   ],
   "source": [
    "stats[name_mappings.values()].head(3)"
   ]
  },
  {
   "cell_type": "markdown",
   "id": "cf6bc28e-aa8d-4f76-a56f-c075d456f2c0",
   "metadata": {},
   "source": [
    "Looks pretty good."
   ]
  },
  {
   "cell_type": "markdown",
   "id": "3077d240-e071-4ec7-908c-899e479d3353",
   "metadata": {},
   "source": [
    "### Standardizing pct features, dropping % symbol (e.g. from 50% to 50)"
   ]
  },
  {
   "cell_type": "code",
   "execution_count": 48,
   "id": "c2b50e7a-1cca-4a4f-a447-5777d3826e51",
   "metadata": {},
   "outputs": [],
   "source": [
    "def strip_pct_symbol(row):\n",
    "    return row.strip(\"%\")"
   ]
  },
  {
   "cell_type": "markdown",
   "id": "e78dff9d-0bfd-4ca7-b239-11d50c1be7f4",
   "metadata": {},
   "source": [
    "Applying:"
   ]
  },
  {
   "cell_type": "code",
   "execution_count": 49,
   "id": "1db8eaa8-359c-48a5-a006-4174083f0980",
   "metadata": {},
   "outputs": [
    {
     "data": {
      "text/html": [
       "<div>\n",
       "<style scoped>\n",
       "    .dataframe tbody tr th:only-of-type {\n",
       "        vertical-align: middle;\n",
       "    }\n",
       "\n",
       "    .dataframe tbody tr th {\n",
       "        vertical-align: top;\n",
       "    }\n",
       "\n",
       "    .dataframe thead th {\n",
       "        text-align: right;\n",
       "    }\n",
       "</style>\n",
       "<table border=\"1\" class=\"dataframe\">\n",
       "  <thead>\n",
       "    <tr style=\"text-align: right;\">\n",
       "      <th></th>\n",
       "      <th>winner_str_acc_cs</th>\n",
       "      <th>winner_str_def_cs</th>\n",
       "      <th>winner_td_acc_cs</th>\n",
       "      <th>winner_td_def_cs</th>\n",
       "      <th>loser_str_acc_cs</th>\n",
       "      <th>loser_str_def_cs</th>\n",
       "      <th>loser_td_acc_cs</th>\n",
       "      <th>loser_td_def_cs</th>\n",
       "    </tr>\n",
       "  </thead>\n",
       "  <tbody>\n",
       "    <tr>\n",
       "      <th>0</th>\n",
       "      <td>45.0</td>\n",
       "      <td>68.0</td>\n",
       "      <td>55.0</td>\n",
       "      <td>100.0</td>\n",
       "      <td>46.0</td>\n",
       "      <td>60.0</td>\n",
       "      <td>71.0</td>\n",
       "      <td>84.0</td>\n",
       "    </tr>\n",
       "    <tr>\n",
       "      <th>1</th>\n",
       "      <td>72.0</td>\n",
       "      <td>66.0</td>\n",
       "      <td>75.0</td>\n",
       "      <td>0.0</td>\n",
       "      <td>40.0</td>\n",
       "      <td>60.0</td>\n",
       "      <td>27.0</td>\n",
       "      <td>84.0</td>\n",
       "    </tr>\n",
       "    <tr>\n",
       "      <th>2</th>\n",
       "      <td>53.0</td>\n",
       "      <td>65.0</td>\n",
       "      <td>33.0</td>\n",
       "      <td>85.0</td>\n",
       "      <td>52.0</td>\n",
       "      <td>52.0</td>\n",
       "      <td>25.0</td>\n",
       "      <td>90.0</td>\n",
       "    </tr>\n",
       "  </tbody>\n",
       "</table>\n",
       "</div>"
      ],
      "text/plain": [
       "   winner_str_acc_cs  winner_str_def_cs  winner_td_acc_cs  winner_td_def_cs  \\\n",
       "0               45.0               68.0              55.0             100.0   \n",
       "1               72.0               66.0              75.0               0.0   \n",
       "2               53.0               65.0              33.0              85.0   \n",
       "\n",
       "   loser_str_acc_cs  loser_str_def_cs  loser_td_acc_cs  loser_td_def_cs  \n",
       "0              46.0              60.0             71.0             84.0  \n",
       "1              40.0              60.0             27.0             84.0  \n",
       "2              52.0              52.0             25.0             90.0  "
      ]
     },
     "execution_count": 49,
     "metadata": {},
     "output_type": "execute_result"
    }
   ],
   "source": [
    "for col in no_pct_symbol_cols:\n",
    "    stats[col] = stats[col].apply(strip_pct_symbol).astype(float)\n",
    "\n",
    "stats[no_pct_symbol_cols].head(3)"
   ]
  },
  {
   "cell_type": "markdown",
   "id": "4cc368d9-1140-4367-b146-c77d2066cda9",
   "metadata": {},
   "source": [
    "Looks solid."
   ]
  },
  {
   "cell_type": "markdown",
   "id": "2d6a5ced-6c1b-4334-bfc6-34ab2f59ebe7",
   "metadata": {},
   "source": [
    "### Standardizing time features from 'mm:ss' into 'ss' (e.g. from 1:31 (minutes) to 91 (seconds))"
   ]
  },
  {
   "cell_type": "markdown",
   "id": "c546a1d4-844b-46a1-aa82-06d96404654d",
   "metadata": {},
   "source": [
    "Standardizing time from `mm:ss` into total `s`:"
   ]
  },
  {
   "cell_type": "code",
   "execution_count": 50,
   "id": "9ca2d188-9d66-48ca-93eb-696b592e5b3b",
   "metadata": {},
   "outputs": [
    {
     "data": {
      "text/plain": [
       "45.0"
      ]
     },
     "execution_count": 50,
     "metadata": {},
     "output_type": "execute_result"
    }
   ],
   "source": [
    "pd.to_timedelta(\"00:00:45\").total_seconds()"
   ]
  },
  {
   "cell_type": "markdown",
   "id": "80b9cdc4-7bb5-40e9-89c0-2ff473d64cdc",
   "metadata": {},
   "source": [
    "Features to work with:"
   ]
  },
  {
   "cell_type": "code",
   "execution_count": 51,
   "id": "5b887758-19fb-4eb0-9533-c25b5db0899c",
   "metadata": {},
   "outputs": [
    {
     "data": {
      "text/plain": [
       "['winner_ctrl', 'loser_ctrl']"
      ]
     },
     "execution_count": 51,
     "metadata": {},
     "output_type": "execute_result"
    }
   ],
   "source": [
    "time_cols"
   ]
  },
  {
   "cell_type": "markdown",
   "id": "7da5dea3-623f-4f3e-92a5-96205aec1446",
   "metadata": {},
   "source": [
    "#### Replace 0s to match the common format `0:00`"
   ]
  },
  {
   "cell_type": "code",
   "execution_count": 52,
   "id": "d8975576-3e50-4c26-9dfc-ceb05f2bc5eb",
   "metadata": {},
   "outputs": [],
   "source": [
    "stats.loc[:, \"winner_ctrl\"] = stats.loc[:, \"winner_ctrl\"].replace(\"0\", \"0:00\")\n",
    "stats.loc[:, \"loser_ctrl\"] = stats.loc[:, \"loser_ctrl\"].replace(\"0\", \"0:00\")"
   ]
  },
  {
   "cell_type": "markdown",
   "id": "50c4dda6-1335-474a-88e5-88d3a83fc4e8",
   "metadata": {},
   "source": [
    "#### Format time schema to make it have the `hh:mm:ss` shape:"
   ]
  },
  {
   "cell_type": "code",
   "execution_count": 53,
   "id": "c823ec9b-d800-4b2e-9cf3-86cc913075fe",
   "metadata": {},
   "outputs": [
    {
     "data": {
      "text/plain": [
       "40     0:34\n",
       "41     0:44\n",
       "42    12:02\n",
       "Name: winner_ctrl, dtype: object"
      ]
     },
     "execution_count": 53,
     "metadata": {},
     "output_type": "execute_result"
    }
   ],
   "source": [
    "stats.loc[:, \"winner_ctrl\"][40:43]"
   ]
  },
  {
   "cell_type": "code",
   "execution_count": 54,
   "id": "357bb946-2271-4a23-88ba-9d6a191ac40b",
   "metadata": {},
   "outputs": [],
   "source": [
    "def format_time_schema(row):\n",
    "    time = row.split(\":\")\n",
    "\n",
    "    # If minutes are already in 'mm' format => skip\n",
    "    if len(time[0]) == 1:\n",
    "        time[0] = \"0\" + time[0]\n",
    "\n",
    "    # Add hours too\n",
    "    time = [\"00\"] + time\n",
    "\n",
    "    return \":\".join(time)"
   ]
  },
  {
   "cell_type": "code",
   "execution_count": 55,
   "id": "af322780-bf0c-4f4a-8f10-6e5136a92ede",
   "metadata": {},
   "outputs": [
    {
     "data": {
      "text/plain": [
       "40    00:00:34\n",
       "41    00:00:44\n",
       "42    00:12:02\n",
       "Name: winner_ctrl, dtype: object"
      ]
     },
     "execution_count": 55,
     "metadata": {},
     "output_type": "execute_result"
    }
   ],
   "source": [
    "stats.loc[:, \"winner_ctrl\"] = stats.loc[:, \"winner_ctrl\"].apply(format_time_schema)\n",
    "stats.loc[:, \"loser_ctrl\"] = stats.loc[:, \"loser_ctrl\"].apply(format_time_schema)\n",
    "stats.loc[:, \"winner_ctrl\"][40:43]"
   ]
  },
  {
   "cell_type": "markdown",
   "id": "08739db0-8478-4953-bcf5-f5588420e647",
   "metadata": {},
   "source": [
    "#### Convert to total seconds:"
   ]
  },
  {
   "cell_type": "code",
   "execution_count": 56,
   "id": "e0ca0a11-34b1-40b2-a22d-00e01ad30572",
   "metadata": {},
   "outputs": [
    {
     "data": {
      "text/plain": [
       "0    00:00:45\n",
       "1    00:03:20\n",
       "2    00:01:31\n",
       "Name: winner_ctrl, dtype: object"
      ]
     },
     "execution_count": 56,
     "metadata": {},
     "output_type": "execute_result"
    }
   ],
   "source": [
    "stats[\"winner_ctrl\"].head(3)"
   ]
  },
  {
   "cell_type": "code",
   "execution_count": 57,
   "id": "dd990d68-c55d-4041-a26f-a563080fe862",
   "metadata": {},
   "outputs": [],
   "source": [
    "stats.loc[:, \"winner_ctrl\"] = pd.to_timedelta(\n",
    "    stats.loc[:, \"winner_ctrl\"]\n",
    ").dt.total_seconds()\n",
    "stats.loc[:, \"loser_ctrl\"] = pd.to_timedelta(\n",
    "    stats.loc[:, \"loser_ctrl\"]\n",
    ").dt.total_seconds()"
   ]
  },
  {
   "cell_type": "code",
   "execution_count": 58,
   "id": "e41b6421-e6b1-451b-a4c2-78e1593e6d10",
   "metadata": {},
   "outputs": [
    {
     "data": {
      "text/plain": [
       "0     45.0\n",
       "1    200.0\n",
       "2     91.0\n",
       "Name: winner_ctrl, dtype: object"
      ]
     },
     "execution_count": 58,
     "metadata": {},
     "output_type": "execute_result"
    }
   ],
   "source": [
    "stats[\"winner_ctrl\"].head(3)"
   ]
  },
  {
   "cell_type": "markdown",
   "id": "e23c2cdc-16d3-4a8a-b2cc-ef5bbcdc27c1",
   "metadata": {},
   "source": [
    "Looks good."
   ]
  },
  {
   "cell_type": "markdown",
   "id": "b3c2b708-5853-48a1-b421-b0be854e8175",
   "metadata": {},
   "source": [
    "## Second dtype conversion"
   ]
  },
  {
   "cell_type": "markdown",
   "id": "f3d875bc-1b17-4dab-b27b-83256e65320d",
   "metadata": {},
   "source": [
    "Convert some more columns that are of type object but now can now be cleanly converted to numerical dtype since the values are cleaned."
   ]
  },
  {
   "cell_type": "code",
   "execution_count": 59,
   "id": "248fc9b5-08f9-4538-8944-f1e9d9f14f57",
   "metadata": {},
   "outputs": [
    {
     "data": {
      "text/plain": [
       "float64    57\n",
       "object     21\n",
       "Name: count, dtype: int64"
      ]
     },
     "execution_count": 59,
     "metadata": {},
     "output_type": "execute_result"
    }
   ],
   "source": [
    "stats.dtypes.value_counts()"
   ]
  },
  {
   "cell_type": "code",
   "execution_count": 60,
   "id": "58d8a67c-3bf9-4cff-b535-65b15a255693",
   "metadata": {},
   "outputs": [],
   "source": [
    "for col in stats.columns:\n",
    "    try:\n",
    "        stats[col] = stats[col].astype(float)\n",
    "\n",
    "    # If not possible, (contains strings) we'll handle it in a minute\n",
    "    except:\n",
    "        continue"
   ]
  },
  {
   "cell_type": "code",
   "execution_count": 61,
   "id": "25569c9a-e37f-4bdb-a02b-c99acbcfea20",
   "metadata": {},
   "outputs": [
    {
     "data": {
      "text/plain": [
       "float64    59\n",
       "object     19\n",
       "Name: count, dtype: int64"
      ]
     },
     "execution_count": 61,
     "metadata": {},
     "output_type": "execute_result"
    }
   ],
   "source": [
    "stats.dtypes.value_counts()"
   ]
  },
  {
   "cell_type": "markdown",
   "id": "a103a1be-5469-4904-8fce-0f8c02c2cee5",
   "metadata": {},
   "source": [
    "## Engineering New Features"
   ]
  },
  {
   "cell_type": "markdown",
   "id": "3d0b024a-4112-43e2-8ec0-4ea002e96289",
   "metadata": {},
   "source": [
    "Let's engineer some additional features:\n",
    "1. Striking dominance - a fighter's overall striking performance. Calculated as: KD + Significant strikes % + Total landed strikes %;\n",
    "2. Wrestling dominance - a fighter's overall wrestling performance. Calculated as: TD % + Submission attempts + reversals;"
   ]
  },
  {
   "cell_type": "markdown",
   "id": "be38223a-ca44-4a57-9105-f25ebbfd592f",
   "metadata": {},
   "source": [
    "**Striking dominance**:"
   ]
  },
  {
   "cell_type": "code",
   "execution_count": 62,
   "id": "26f04d75-9189-44e6-a867-c95bc28c9801",
   "metadata": {},
   "outputs": [
    {
     "data": {
      "text/plain": [
       "Index(['winner_name', 'loser_name', 'event_date', 'winner_nickname',\n",
       "       'loser_nickname', 'winner_result', 'loser_result', 'method', 'round',\n",
       "       'time', 'time_format', 'referee', 'details', 'bout_type', 'bonus',\n",
       "       'event_name', 'event_location', 'winner_KD', 'loser_KD',\n",
       "       'winner_sig_str_pct', 'loser_sig_str_pct', 'winner_total_str_pct',\n",
       "       'loser_total_str_pct', 'winner_TD_pct', 'loser_TD_pct',\n",
       "       'winner_sub_att', 'loser_sub_att', 'winner_rev', 'loser_rev',\n",
       "       'winner_ctrl', 'loser_ctrl', 'winner_sig_str_head_acc_pct',\n",
       "       'loser_sig_str_head_acc_pct', 'winner_sig_str_body_acc_pct',\n",
       "       'loser_sig_str_body_acc_pct', 'winner_sig_str_leg_acc_pct',\n",
       "       'loser_sig_str_leg_acc_pct', 'winner_sig_str_distance_acc_pct',\n",
       "       'loser_sig_str_distance_acc_pct', 'winner_sig_str_clinch_acc_pct',\n",
       "       'loser_sig_str_clinch_acc_pct', 'winner_sig_str_ground_acc_pct',\n",
       "       'loser_sig_str_ground_acc_pct', 'winner_sig_str_head_tar_pct',\n",
       "       'loser_sig_str_head_tar_pct', 'winner_sig_str_body_tar_pct',\n",
       "       'loser_sig_str_body_tar_pct', 'winner_sig_str_leg_tar_pct',\n",
       "       'loser_sig_str_leg_tar_pct', 'winner_sig_str_distance_pos_pct',\n",
       "       'loser_sig_str_distance_pos_pct', 'winner_sig_str_clinch_pos_pct',\n",
       "       'loser_sig_str_clinch_pos_pct', 'winner_sig_str_ground_pos_pct',\n",
       "       'loser_sig_str_ground_pos_pct', 'winner_height', 'winner_reach',\n",
       "       'winner_stance', 'winner_slpm_cs', 'winner_str_acc_cs',\n",
       "       'winner_sapm_cs', 'winner_str_def_cs', 'winner_td_avg_cs',\n",
       "       'winner_td_acc_cs', 'winner_td_def_cs', 'winner_sub_avg_cs',\n",
       "       'loser_height', 'loser_reach', 'loser_stance', 'loser_slpm_cs',\n",
       "       'loser_str_acc_cs', 'loser_sapm_cs', 'loser_str_def_cs',\n",
       "       'loser_td_avg_cs', 'loser_td_acc_cs', 'loser_td_def_cs',\n",
       "       'loser_sub_avg_cs', 'winner'],\n",
       "      dtype='object')"
      ]
     },
     "execution_count": 62,
     "metadata": {},
     "output_type": "execute_result"
    }
   ],
   "source": [
    "stats.columns"
   ]
  },
  {
   "cell_type": "code",
   "execution_count": 63,
   "id": "b2f8ca2e-1fbe-49fc-bb8f-9cfb31bf98f2",
   "metadata": {},
   "outputs": [],
   "source": [
    "stats[\"winner_striking_dominance\"] = (\n",
    "    stats[\"winner_KD\"] + stats[\"winner_sig_str_pct\"] + stats[\"winner_total_str_pct\"]\n",
    ")\n",
    "stats[\"loser_striking_dominance\"] = (\n",
    "    stats[\"loser_KD\"] + stats[\"loser_sig_str_pct\"] + stats[\"loser_total_str_pct\"]\n",
    ")"
   ]
  },
  {
   "cell_type": "markdown",
   "id": "d6fbbb4e-082a-4149-a3d1-7eb4e0908f46",
   "metadata": {},
   "source": [
    "**Wrestling dominance**:"
   ]
  },
  {
   "cell_type": "code",
   "execution_count": 64,
   "id": "52c89c0c-793d-484f-995c-1becde5c837e",
   "metadata": {},
   "outputs": [],
   "source": [
    "stats[\"winner_wrestling_dominance\"] = (\n",
    "    stats[\"winner_TD_pct\"] + stats[\"winner_sub_att\"] + stats[\"winner_rev\"]\n",
    ")\n",
    "stats[\"loser_wrestling_dominance\"] = (\n",
    "    stats[\"loser_TD_pct\"] + stats[\"loser_sub_att\"] + stats[\"loser_rev\"]\n",
    ")"
   ]
  },
  {
   "cell_type": "markdown",
   "id": "e0361237-66cd-4bff-a2ed-108744caa5c9",
   "metadata": {},
   "source": [
    "### Delta"
   ]
  },
  {
   "cell_type": "markdown",
   "id": "35858e01-5b2b-451e-b533-862a72f3bb87",
   "metadata": {},
   "source": [
    "Let's now decrease the amount of features by x2 times. We're going to use *delta* for this. For example, instead of having both `winner_striking_dominance` and `loser_striking_dominance` features, we're going to just have `delta_striking_dominance`. Which would just be `winner_striking_dominance` - `loser_striking_dominance`. Where a positive value would mean that the winner has a higher striking dominance factor and vice versa for negative."
   ]
  },
  {
   "cell_type": "markdown",
   "id": "7a0750c0-8bb1-4027-81a5-48a25128b0a9",
   "metadata": {},
   "source": [
    "Let's get the columns that we'll be transforming:"
   ]
  },
  {
   "cell_type": "code",
   "execution_count": 65,
   "id": "c0ee342d-9df8-4672-ad9c-6496ddf00fa2",
   "metadata": {},
   "outputs": [
    {
     "data": {
      "text/plain": [
       "Index(['winner_name', 'loser_name', 'event_date', 'winner_nickname',\n",
       "       'loser_nickname', 'winner_result', 'loser_result', 'method', 'round',\n",
       "       'time', 'time_format', 'referee', 'details', 'bout_type', 'bonus',\n",
       "       'event_name', 'event_location', 'winner_KD', 'loser_KD',\n",
       "       'winner_sig_str_pct', 'loser_sig_str_pct', 'winner_total_str_pct',\n",
       "       'loser_total_str_pct', 'winner_TD_pct', 'loser_TD_pct',\n",
       "       'winner_sub_att', 'loser_sub_att', 'winner_rev', 'loser_rev',\n",
       "       'winner_ctrl', 'loser_ctrl', 'winner_sig_str_head_acc_pct',\n",
       "       'loser_sig_str_head_acc_pct', 'winner_sig_str_body_acc_pct',\n",
       "       'loser_sig_str_body_acc_pct', 'winner_sig_str_leg_acc_pct',\n",
       "       'loser_sig_str_leg_acc_pct', 'winner_sig_str_distance_acc_pct',\n",
       "       'loser_sig_str_distance_acc_pct', 'winner_sig_str_clinch_acc_pct',\n",
       "       'loser_sig_str_clinch_acc_pct', 'winner_sig_str_ground_acc_pct',\n",
       "       'loser_sig_str_ground_acc_pct', 'winner_sig_str_head_tar_pct',\n",
       "       'loser_sig_str_head_tar_pct', 'winner_sig_str_body_tar_pct',\n",
       "       'loser_sig_str_body_tar_pct', 'winner_sig_str_leg_tar_pct',\n",
       "       'loser_sig_str_leg_tar_pct', 'winner_sig_str_distance_pos_pct',\n",
       "       'loser_sig_str_distance_pos_pct', 'winner_sig_str_clinch_pos_pct',\n",
       "       'loser_sig_str_clinch_pos_pct', 'winner_sig_str_ground_pos_pct',\n",
       "       'loser_sig_str_ground_pos_pct', 'winner_height', 'winner_reach',\n",
       "       'winner_stance', 'winner_slpm_cs', 'winner_str_acc_cs',\n",
       "       'winner_sapm_cs', 'winner_str_def_cs', 'winner_td_avg_cs',\n",
       "       'winner_td_acc_cs', 'winner_td_def_cs', 'winner_sub_avg_cs',\n",
       "       'loser_height', 'loser_reach', 'loser_stance', 'loser_slpm_cs',\n",
       "       'loser_str_acc_cs', 'loser_sapm_cs', 'loser_str_def_cs',\n",
       "       'loser_td_avg_cs', 'loser_td_acc_cs', 'loser_td_def_cs',\n",
       "       'loser_sub_avg_cs', 'winner', 'winner_striking_dominance',\n",
       "       'loser_striking_dominance', 'winner_wrestling_dominance',\n",
       "       'loser_wrestling_dominance'],\n",
       "      dtype='object')"
      ]
     },
     "execution_count": 65,
     "metadata": {},
     "output_type": "execute_result"
    }
   ],
   "source": [
    "stats.columns"
   ]
  },
  {
   "cell_type": "code",
   "execution_count": 66,
   "id": "93caa6f5-5482-4396-83d2-7d38bcbb8105",
   "metadata": {},
   "outputs": [],
   "source": [
    "def deltafy_data(df):\n",
    "    \"\"\"Filters what columns to take into account,\n",
    "    creates new columns, instead of red/blue makes winner/loser,\n",
    "    gets data points from red/blue column based on\n",
    "    the value of the feature 'winner' in that same row.\"\"\"  # Change this docstring\n",
    "\n",
    "    # Get the columns, leave features like 'round', 'method', 'time' like they are\n",
    "    cols_to_drop = [\n",
    "        col\n",
    "        for col in df.columns\n",
    "        if (col.startswith(\"winner_\") or col.startswith(\"loser_\"))\n",
    "        and df[col].dtype == float\n",
    "    ]\n",
    "    # Remove prefixes to replace them with winner/loser instead\n",
    "    cols_to_deltafy = [\n",
    "        col.removeprefix(\"winner_\") for col in cols_to_drop if col.startswith(\"winner_\")\n",
    "    ]\n",
    "\n",
    "    # Change each column\n",
    "    for col in cols_to_deltafy:\n",
    "        # Create new features, sort the data according to the value of the 'winner' featuer\n",
    "        df[f\"delta_{col}\"] = df.loc[:, f\"winner_{col}\"] - df.loc[:, f\"loser_{col}\"]\n",
    "\n",
    "    # Drop the red/blue columns to keep only winner/loser\n",
    "    df.drop(columns=cols_to_drop, inplace=True)\n",
    "    return df"
   ]
  },
  {
   "cell_type": "code",
   "execution_count": 67,
   "id": "67c19090-86bd-48f8-8913-e6d48001e80d",
   "metadata": {},
   "outputs": [
    {
     "data": {
      "text/plain": [
       "Index(['winner_name', 'loser_name', 'event_date', 'winner_nickname',\n",
       "       'loser_nickname', 'winner_result', 'loser_result', 'method', 'round',\n",
       "       'time', 'time_format', 'referee', 'details', 'bout_type', 'bonus',\n",
       "       'event_name', 'event_location', 'winner_stance', 'loser_stance',\n",
       "       'winner', 'delta_KD', 'delta_sig_str_pct', 'delta_total_str_pct',\n",
       "       'delta_TD_pct', 'delta_sub_att', 'delta_rev', 'delta_ctrl',\n",
       "       'delta_sig_str_head_acc_pct', 'delta_sig_str_body_acc_pct',\n",
       "       'delta_sig_str_leg_acc_pct', 'delta_sig_str_distance_acc_pct',\n",
       "       'delta_sig_str_clinch_acc_pct', 'delta_sig_str_ground_acc_pct',\n",
       "       'delta_sig_str_head_tar_pct', 'delta_sig_str_body_tar_pct',\n",
       "       'delta_sig_str_leg_tar_pct', 'delta_sig_str_distance_pos_pct',\n",
       "       'delta_sig_str_clinch_pos_pct', 'delta_sig_str_ground_pos_pct',\n",
       "       'delta_height', 'delta_reach', 'delta_slpm_cs', 'delta_str_acc_cs',\n",
       "       'delta_sapm_cs', 'delta_str_def_cs', 'delta_td_avg_cs',\n",
       "       'delta_td_acc_cs', 'delta_td_def_cs', 'delta_sub_avg_cs',\n",
       "       'delta_striking_dominance', 'delta_wrestling_dominance'],\n",
       "      dtype='object')"
      ]
     },
     "execution_count": 67,
     "metadata": {},
     "output_type": "execute_result"
    }
   ],
   "source": [
    "stats = deltafy_data(stats)\n",
    "stats.columns"
   ]
  },
  {
   "cell_type": "markdown",
   "id": "b47d66aa-a31d-4572-ad87-97dee2c5440b",
   "metadata": {},
   "source": [
    "# Saving"
   ]
  },
  {
   "cell_type": "markdown",
   "id": "0fb97d25-e771-4c0e-a9ac-458eeafa3774",
   "metadata": {},
   "source": [
    "Saving preprocessed, cleaned, merged, feature-engineer added, ready for EDA dataset:"
   ]
  },
  {
   "cell_type": "code",
   "execution_count": 70,
   "id": "125ca249-f15c-41aa-9023-a643b5124950",
   "metadata": {},
   "outputs": [],
   "source": [
    "stats.to_csv(\"../stats/stats_processed.csv\", sep=\";\")"
   ]
  }
 ],
 "metadata": {
  "kernelspec": {
   "display_name": "Python 3 (ipykernel)",
   "language": "python",
   "name": "python3"
  },
  "language_info": {
   "codemirror_mode": {
    "name": "ipython",
    "version": 3
   },
   "file_extension": ".py",
   "mimetype": "text/x-python",
   "name": "python",
   "nbconvert_exporter": "python",
   "pygments_lexer": "ipython3",
   "version": "3.12.2"
  }
 },
 "nbformat": 4,
 "nbformat_minor": 5
}
