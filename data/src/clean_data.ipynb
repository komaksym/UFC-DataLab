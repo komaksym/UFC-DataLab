{
 "cells": [
  {
   "cell_type": "markdown",
   "id": "3526dcd3-92d6-4709-8ae0-8fe95e1ee503",
   "metadata": {
    "jp-MarkdownHeadingCollapsed": true
   },
   "source": [
    "# Table of Contents\n",
    "- [Importing](#Imports)\n",
    "- [Loading fights dataset](#Loading-fights-dataset)\n",
    "    - [Data Preprocessing](#Data-Preprocessing)\n",
    "        - [Dropping redundant features](#Dropping-redundant-features)\n",
    "        - [Renaming features](#Renaming-features)\n",
    "- [Loading athlete stats dataset](#Loading-athlete-stats-dataset)\n",
    "    - [Data Preprocessing](#Data-Preprocessing)\n",
    "        - [Dropping irrelevant features](#Dropping-irrelevant-features)\n",
    "        - [Renaming features](#Renaming-features)\n",
    "        - [Imputing NaNs](#Imputing-NaNs)\n",
    "        - [Formatting to match the format in the fights dataset](#Formatting-to-match-the-format-in-the-fights-dataset)\n",
    "        - [Converting from inches to cm](#Converting-from-inches-to-cm)\n",
    "- [Merging into the final dataset](#Merging-into-the-final-dataset)\n",
    "    - [Data preprocessing](#Data-preprocessing)\n",
    "        - [Data Cleaning](#Data-Cleaning)\n",
    "            - [Imputing NaNs](#Imputing-NaNs)\n",
    "            - [Handling Duplicates](#Handling-Duplicates)\n",
    "        - [Processing categorical features](#Processing-categorical-features)\n",
    "        - [Standardizing](#Standardizing)\n",
    "            - [Standardizing fraction-based features](#Standardizing-fraction-based-features)\n",
    "            - [Standardizing percentage-based features](#Standardizing-percentage-based-features)\n",
    "            - [Standardizing time-based features](#Standardizing-time-based-features)\n",
    "        - [Dtype converting](#Dtype-converting)\n",
    "    - [Feature Engineering](#Feature-Engineering)\n",
    "        - [Winner](#Winner)\n",
    "        - [Winner_feature/loser_feature](#Winner_feature/loser_feature)\n",
    "        - [Striking/wrestling dominance](#Striking/wrestling-dominance)\n",
    "        - [Delta](#Delta)\n",
    "- [Saving](#Saving)"
   ]
  },
  {
   "cell_type": "markdown",
   "id": "b97ad391-8aee-4e2f-8ba0-a773e0d7f710",
   "metadata": {},
   "source": [
    "# Imports"
   ]
  },
  {
   "cell_type": "markdown",
   "id": "50dc38f5-fb96-4c8c-beb8-298b21b7299a",
   "metadata": {},
   "source": [
    "### Dtype converting"
   ]
  },
  {
   "cell_type": "code",
   "execution_count": 1,
   "id": "1fb5a3ac-993f-49b9-a4d8-7e3520c4b1fd",
   "metadata": {},
   "outputs": [],
   "source": [
    "import re\n",
    "\n",
    "import numpy as np\n",
    "import pandas as pd"
   ]
  },
  {
   "cell_type": "markdown",
   "id": "42efb423-b665-43c8-8560-6669cc44e520",
   "metadata": {},
   "source": [
    "# Loading fights dataset"
   ]
  },
  {
   "cell_type": "code",
   "execution_count": 2,
   "id": "cececaf4-1ab3-4bd7-9cba-0628e99d0cac",
   "metadata": {
    "panel-layout": {
     "height": 516.5,
     "visible": true,
     "width": 100
    },
    "scrolled": true
   },
   "outputs": [
    {
     "data": {
      "text/html": [
       "<div>\n",
       "<style scoped>\n",
       "    .dataframe tbody tr th:only-of-type {\n",
       "        vertical-align: middle;\n",
       "    }\n",
       "\n",
       "    .dataframe tbody tr th {\n",
       "        vertical-align: top;\n",
       "    }\n",
       "\n",
       "    .dataframe thead th {\n",
       "        text-align: right;\n",
       "    }\n",
       "</style>\n",
       "<table border=\"1\" class=\"dataframe\">\n",
       "  <thead>\n",
       "    <tr style=\"text-align: right;\">\n",
       "      <th></th>\n",
       "      <th>red_fighter_name</th>\n",
       "      <th>blue_fighter_name</th>\n",
       "      <th>event_date</th>\n",
       "      <th>red_fighter_nickname</th>\n",
       "      <th>blue_fighter_nickname</th>\n",
       "      <th>red_fighter_result</th>\n",
       "      <th>blue_fighter_result</th>\n",
       "      <th>method</th>\n",
       "      <th>round</th>\n",
       "      <th>time</th>\n",
       "      <th>...</th>\n",
       "      <th>red_fighter_sig_str_body_pct</th>\n",
       "      <th>blue_fighter_sig_str_body_pct</th>\n",
       "      <th>red_fighter_sig_str_leg_pct</th>\n",
       "      <th>blue_fighter_sig_str_leg_pct</th>\n",
       "      <th>red_fighter_sig_str_distance_pct</th>\n",
       "      <th>blue_fighter_sig_str_distance_pct</th>\n",
       "      <th>red_fighter_sig_str_clinch_pct</th>\n",
       "      <th>blue_fighter_sig_str_clinch_pct</th>\n",
       "      <th>red_fighter_sig_str_ground_pct</th>\n",
       "      <th>blue_fighter_sig_str_ground_pct</th>\n",
       "    </tr>\n",
       "  </thead>\n",
       "  <tbody>\n",
       "    <tr>\n",
       "      <th>0</th>\n",
       "      <td>ILIA TOPURIA</td>\n",
       "      <td>MAX HOLLOWAY</td>\n",
       "      <td>26/10/2024</td>\n",
       "      <td>El Matador</td>\n",
       "      <td>Blessed</td>\n",
       "      <td>W</td>\n",
       "      <td>L</td>\n",
       "      <td>KO/TKO</td>\n",
       "      <td>3</td>\n",
       "      <td>1:34</td>\n",
       "      <td>...</td>\n",
       "      <td>14</td>\n",
       "      <td>16</td>\n",
       "      <td>20</td>\n",
       "      <td>24</td>\n",
       "      <td>94</td>\n",
       "      <td>100</td>\n",
       "      <td>0</td>\n",
       "      <td>0</td>\n",
       "      <td>5</td>\n",
       "      <td>0</td>\n",
       "    </tr>\n",
       "    <tr>\n",
       "      <th>1</th>\n",
       "      <td>ROBERT WHITTAKER</td>\n",
       "      <td>KHAMZAT CHIMAEV</td>\n",
       "      <td>26/10/2024</td>\n",
       "      <td>The Reaper</td>\n",
       "      <td>Borz</td>\n",
       "      <td>L</td>\n",
       "      <td>W</td>\n",
       "      <td>Submission</td>\n",
       "      <td>1</td>\n",
       "      <td>3:34</td>\n",
       "      <td>...</td>\n",
       "      <td>0</td>\n",
       "      <td>33</td>\n",
       "      <td>100</td>\n",
       "      <td>0</td>\n",
       "      <td>100</td>\n",
       "      <td>0</td>\n",
       "      <td>0</td>\n",
       "      <td>0</td>\n",
       "      <td>0</td>\n",
       "      <td>100</td>\n",
       "    </tr>\n",
       "    <tr>\n",
       "      <th>2</th>\n",
       "      <td>MAGOMED ANKALAEV</td>\n",
       "      <td>ALEKSANDAR RAKIC</td>\n",
       "      <td>26/10/2024</td>\n",
       "      <td>-</td>\n",
       "      <td>Rocket</td>\n",
       "      <td>W</td>\n",
       "      <td>L</td>\n",
       "      <td>Decision - Unanimous</td>\n",
       "      <td>3</td>\n",
       "      <td>5:00</td>\n",
       "      <td>...</td>\n",
       "      <td>40</td>\n",
       "      <td>16</td>\n",
       "      <td>23</td>\n",
       "      <td>64</td>\n",
       "      <td>90</td>\n",
       "      <td>94</td>\n",
       "      <td>9</td>\n",
       "      <td>5</td>\n",
       "      <td>0</td>\n",
       "      <td>0</td>\n",
       "    </tr>\n",
       "    <tr>\n",
       "      <th>3</th>\n",
       "      <td>LERONE MURPHY</td>\n",
       "      <td>DAN IGE</td>\n",
       "      <td>26/10/2024</td>\n",
       "      <td>The Miracle</td>\n",
       "      <td>50K</td>\n",
       "      <td>W</td>\n",
       "      <td>L</td>\n",
       "      <td>Decision - Unanimous</td>\n",
       "      <td>3</td>\n",
       "      <td>5:00</td>\n",
       "      <td>...</td>\n",
       "      <td>23</td>\n",
       "      <td>10</td>\n",
       "      <td>7</td>\n",
       "      <td>13</td>\n",
       "      <td>71</td>\n",
       "      <td>69</td>\n",
       "      <td>23</td>\n",
       "      <td>13</td>\n",
       "      <td>5</td>\n",
       "      <td>17</td>\n",
       "    </tr>\n",
       "    <tr>\n",
       "      <th>4</th>\n",
       "      <td>SHARA MAGOMEDOV</td>\n",
       "      <td>ARMEN PETROSYAN</td>\n",
       "      <td>26/10/2024</td>\n",
       "      <td>Bullet</td>\n",
       "      <td>Superman</td>\n",
       "      <td>W</td>\n",
       "      <td>L</td>\n",
       "      <td>KO/TKO</td>\n",
       "      <td>2</td>\n",
       "      <td>4:52</td>\n",
       "      <td>...</td>\n",
       "      <td>44</td>\n",
       "      <td>12</td>\n",
       "      <td>18</td>\n",
       "      <td>58</td>\n",
       "      <td>96</td>\n",
       "      <td>97</td>\n",
       "      <td>3</td>\n",
       "      <td>2</td>\n",
       "      <td>0</td>\n",
       "      <td>0</td>\n",
       "    </tr>\n",
       "  </tbody>\n",
       "</table>\n",
       "<p>5 rows × 59 columns</p>\n",
       "</div>"
      ],
      "text/plain": [
       "   red_fighter_name blue_fighter_name  event_date red_fighter_nickname  \\\n",
       "0      ILIA TOPURIA      MAX HOLLOWAY  26/10/2024           El Matador   \n",
       "1  ROBERT WHITTAKER   KHAMZAT CHIMAEV  26/10/2024           The Reaper   \n",
       "2  MAGOMED ANKALAEV  ALEKSANDAR RAKIC  26/10/2024                    -   \n",
       "3     LERONE MURPHY           DAN IGE  26/10/2024          The Miracle   \n",
       "4   SHARA MAGOMEDOV   ARMEN PETROSYAN  26/10/2024               Bullet   \n",
       "\n",
       "  blue_fighter_nickname red_fighter_result blue_fighter_result  \\\n",
       "0               Blessed                  W                   L   \n",
       "1                  Borz                  L                   W   \n",
       "2                Rocket                  W                   L   \n",
       "3                   50K                  W                   L   \n",
       "4              Superman                  W                   L   \n",
       "\n",
       "                 method  round  time  ... red_fighter_sig_str_body_pct  \\\n",
       "0                KO/TKO      3  1:34  ...                           14   \n",
       "1            Submission      1  3:34  ...                            0   \n",
       "2  Decision - Unanimous      3  5:00  ...                           40   \n",
       "3  Decision - Unanimous      3  5:00  ...                           23   \n",
       "4                KO/TKO      2  4:52  ...                           44   \n",
       "\n",
       "  blue_fighter_sig_str_body_pct red_fighter_sig_str_leg_pct  \\\n",
       "0                            16                          20   \n",
       "1                            33                         100   \n",
       "2                            16                          23   \n",
       "3                            10                           7   \n",
       "4                            12                          18   \n",
       "\n",
       "  blue_fighter_sig_str_leg_pct red_fighter_sig_str_distance_pct  \\\n",
       "0                           24                               94   \n",
       "1                            0                              100   \n",
       "2                           64                               90   \n",
       "3                           13                               71   \n",
       "4                           58                               96   \n",
       "\n",
       "  blue_fighter_sig_str_distance_pct red_fighter_sig_str_clinch_pct  \\\n",
       "0                               100                              0   \n",
       "1                                 0                              0   \n",
       "2                                94                              9   \n",
       "3                                69                             23   \n",
       "4                                97                              3   \n",
       "\n",
       "  blue_fighter_sig_str_clinch_pct red_fighter_sig_str_ground_pct  \\\n",
       "0                               0                              5   \n",
       "1                               0                              0   \n",
       "2                               5                              0   \n",
       "3                              13                              5   \n",
       "4                               2                              0   \n",
       "\n",
       "  blue_fighter_sig_str_ground_pct  \n",
       "0                               0  \n",
       "1                             100  \n",
       "2                               0  \n",
       "3                              17  \n",
       "4                               0  \n",
       "\n",
       "[5 rows x 59 columns]"
      ]
     },
     "execution_count": 2,
     "metadata": {},
     "output_type": "execute_result"
    }
   ],
   "source": [
    "fights_stats = pd.read_csv(\"../stats/stats_raw.csv\", sep=\";\")\n",
    "fights_stats.head()"
   ]
  },
  {
   "cell_type": "markdown",
   "id": "c3027b02-7e5c-458b-8c18-d86518c50d06",
   "metadata": {},
   "source": [
    "## Data Preprocessing"
   ]
  },
  {
   "cell_type": "markdown",
   "id": "b9d12fbb-70d7-4d49-928c-9858426b7fd7",
   "metadata": {},
   "source": [
    "### Dropping redundant features"
   ]
  },
  {
   "cell_type": "markdown",
   "id": "fc0ab155-00cb-4794-8076-c4d664905761",
   "metadata": {},
   "source": [
    "Let's drop some features that are redundant and have no value for us here, for example: <br>\n",
    "> `x_fighter_sig_str`, where we already have `x_fighter_sig_str_pct`. Where the prior takes the `75 of 144` form, and the latter takes the percentage version of the same value = `52%`. The latter is already scaled, and will be easier to work with."
   ]
  },
  {
   "cell_type": "code",
   "execution_count": 3,
   "id": "a5f937ed-e890-498d-9328-c267cf3824c4",
   "metadata": {},
   "outputs": [
    {
     "data": {
      "text/html": [
       "<div>\n",
       "<style scoped>\n",
       "    .dataframe tbody tr th:only-of-type {\n",
       "        vertical-align: middle;\n",
       "    }\n",
       "\n",
       "    .dataframe tbody tr th {\n",
       "        vertical-align: top;\n",
       "    }\n",
       "\n",
       "    .dataframe thead th {\n",
       "        text-align: right;\n",
       "    }\n",
       "</style>\n",
       "<table border=\"1\" class=\"dataframe\">\n",
       "  <thead>\n",
       "    <tr style=\"text-align: right;\">\n",
       "      <th></th>\n",
       "      <th>red_fighter_sig_str</th>\n",
       "      <th>red_fighter_sig_str_pct</th>\n",
       "    </tr>\n",
       "  </thead>\n",
       "  <tbody>\n",
       "    <tr>\n",
       "      <th>0</th>\n",
       "      <td>75 of 144</td>\n",
       "      <td>52</td>\n",
       "    </tr>\n",
       "    <tr>\n",
       "      <th>1</th>\n",
       "      <td>2 of 2</td>\n",
       "      <td>100</td>\n",
       "    </tr>\n",
       "  </tbody>\n",
       "</table>\n",
       "</div>"
      ],
      "text/plain": [
       "  red_fighter_sig_str red_fighter_sig_str_pct\n",
       "0           75 of 144                      52\n",
       "1              2 of 2                     100"
      ]
     },
     "execution_count": 3,
     "metadata": {},
     "output_type": "execute_result"
    }
   ],
   "source": [
    "fights_stats.loc[:1, [\"red_fighter_sig_str\", \"red_fighter_sig_str_pct\"]]"
   ]
  },
  {
   "cell_type": "code",
   "execution_count": 4,
   "id": "eee89fb0-93e6-4b7d-9e6c-6caf0e8f68af",
   "metadata": {},
   "outputs": [
    {
     "data": {
      "text/plain": [
       "['red_fighter_sig_str',\n",
       " 'blue_fighter_sig_str',\n",
       " 'red_fighter_TD',\n",
       " 'blue_fighter_TD']"
      ]
     },
     "execution_count": 4,
     "metadata": {},
     "output_type": "execute_result"
    }
   ],
   "source": [
    "redundant_cols = [\"fighter_sig_str\", \"fighter_TD\"]\n",
    "\n",
    "# Fighters from both corners\n",
    "fighters = (\"red_\", \"blue_\")\n",
    "\n",
    "# For both red/blue fighters\n",
    "cols_to_drop = [f\"{fighter}{col}\" for col in redundant_cols for fighter in fighters]\n",
    "cols_to_drop"
   ]
  },
  {
   "cell_type": "markdown",
   "id": "1f0e189a-8821-4ac5-b24e-1999b82595ec",
   "metadata": {},
   "source": [
    "Dropping:"
   ]
  },
  {
   "cell_type": "code",
   "execution_count": 5,
   "id": "85ed6f20-052b-4668-bc97-f371b938729d",
   "metadata": {},
   "outputs": [],
   "source": [
    "fights_stats.drop(columns=cols_to_drop, inplace=True)"
   ]
  },
  {
   "cell_type": "markdown",
   "id": "c12ce192-cbaa-4e42-9a9f-e624bf144656",
   "metadata": {},
   "source": [
    "### Renaming features"
   ]
  },
  {
   "cell_type": "markdown",
   "id": "0d5cb582-c93a-45ad-a9ea-e41050c0e8fd",
   "metadata": {},
   "source": [
    "Let's rename some columns to avoid name conflicts later and to better represent what they mean.\n",
    "* `sig_str_acc_cols` - Significant Strikes **Accuracy** columns (how much *landed out of the total* thrown)\n",
    "* `sig_str_tar_cols` - Significant Strikes by **Target** columns (*what ratio of the strikes went to a certain location*: head, body, leg)\n",
    "* `sig_str_pos_cols` - Significant Strikes by **Position** columns (*what ratio of the strikes were landed from a certain position*: distance, clinch, ground)"
   ]
  },
  {
   "cell_type": "markdown",
   "id": "03c5aad8-d7e7-4a3e-982d-0a3bcdbfab93",
   "metadata": {},
   "source": [
    "Preparing:"
   ]
  },
  {
   "cell_type": "code",
   "execution_count": null,
   "id": "e53be9cd-2eaf-42c8-bf86-0819f821bd90",
   "metadata": {},
   "outputs": [
    {
     "name": "stdout",
     "output_type": "stream",
     "text": [
      "> \u001b[0;32m/var/folders/99/3nnshfd56kv1_g2l04l874t00000gn/T/ipykernel_11461/822206033.py\u001b[0m(43)\u001b[0;36m<module>\u001b[0;34m()\u001b[0m\n",
      "\u001b[0;32m     41 \u001b[0;31m        \u001b[0;32mimport\u001b[0m \u001b[0mpdb\u001b[0m\u001b[0;34m\u001b[0m\u001b[0;34m\u001b[0m\u001b[0m\n",
      "\u001b[0m\u001b[0;32m     42 \u001b[0;31m        \u001b[0mpdb\u001b[0m\u001b[0;34m.\u001b[0m\u001b[0mset_trace\u001b[0m\u001b[0;34m(\u001b[0m\u001b[0;34m)\u001b[0m\u001b[0;34m\u001b[0m\u001b[0;34m\u001b[0m\u001b[0m\n",
      "\u001b[0m\u001b[0;32m---> 43 \u001b[0;31m        \u001b[0mbase\u001b[0m \u001b[0;34m=\u001b[0m \u001b[0mcol\u001b[0m\u001b[0;34m.\u001b[0m\u001b[0mremovesuffix\u001b[0m\u001b[0;34m(\u001b[0m\u001b[0;34m\"_pct\"\u001b[0m\u001b[0;34m)\u001b[0m\u001b[0;34m\u001b[0m\u001b[0;34m\u001b[0m\u001b[0m\n",
      "\u001b[0m\u001b[0;32m     44 \u001b[0;31m        \u001b[0mcol_names_mappings\u001b[0m\u001b[0;34m[\u001b[0m\u001b[0;34mf\"{fighter}{col}\"\u001b[0m\u001b[0;34m]\u001b[0m \u001b[0;34m=\u001b[0m \u001b[0;34mf\"{fighter}{base}{TAR_POST}\"\u001b[0m\u001b[0;34m\u001b[0m\u001b[0;34m\u001b[0m\u001b[0m\n",
      "\u001b[0m\u001b[0;32m     45 \u001b[0;31m\u001b[0;34m\u001b[0m\u001b[0m\n",
      "\u001b[0m\n"
     ]
    },
    {
     "name": "stdin",
     "output_type": "stream",
     "text": [
      "ipdb>  \n",
      "ipdb>  col\n"
     ]
    },
    {
     "name": "stdout",
     "output_type": "stream",
     "text": [
      "'fighter_sig_str_head_pct'\n"
     ]
    },
    {
     "name": "stdin",
     "output_type": "stream",
     "text": [
      "ipdb>  col.removesuffix(\"pct\")\n"
     ]
    },
    {
     "name": "stdout",
     "output_type": "stream",
     "text": [
      "*** AttributeError: 'str' object has no attribute 'removesuffix'\n"
     ]
    }
   ],
   "source": [
    "# Define feature groups\n",
    "sig_str_acc_cols = [\n",
    "    \"fighter_sig_str_head\",\n",
    "    \"fighter_sig_str_body\",\n",
    "    \"fighter_sig_str_leg\",\n",
    "    \"fighter_sig_str_distance\",\n",
    "    \"fighter_sig_str_clinch\",\n",
    "    \"fighter_sig_str_ground\",\n",
    "]\n",
    "sig_str_tar_cols = [\n",
    "    \"fighter_sig_str_head_pct\",\n",
    "    \"fighter_sig_str_body_pct\",\n",
    "    \"fighter_sig_str_leg_pct\",\n",
    "]\n",
    "sig_str_pos_cols = [\n",
    "    \"fighter_sig_str_distance_pct\",\n",
    "    \"fighter_sig_str_clinch_pct\",\n",
    "    \"fighter_sig_str_ground_pct\",\n",
    "]\n",
    "\n",
    "# Define fighters' corners\n",
    "fighters = (\"red_\", \"blue_\")\n",
    "\n",
    "# Postfixes\n",
    "ACC_POST = \"_acc\"\n",
    "TAR_POST = \"_tar_pct\"\n",
    "POS_POST = \"_pos_pct\"\n",
    "\n",
    "# Define mappings\n",
    "col_names_mappings = {}\n",
    "\n",
    "# Start mapping\n",
    "for fighter in fighters:\n",
    "    # For significant strikes accuracy features\n",
    "    for col in sig_str_acc_cols:\n",
    "        col_names_mappings[f\"{fighter}{col}\"] = f\"{fighter}{col}{ACC_POST}\"\n",
    "\n",
    "    # For significant strikes by target features\n",
    "    for col in sig_str_tar_cols:\n",
    "        # Reposition '_pct' suffix to the end\n",
    "        import pdb\n",
    "        pdb.set_trace()\n",
    "        base = col.removesuffix(\"_pct\")\n",
    "        col_names_mappings[f\"{fighter}{col}\"] = f\"{fighter}{base}{TAR_POST}\"\n",
    "\n",
    "    # For significant strikes by position features\n",
    "    for col in sig_str_pos_cols:\n",
    "        # Reposition '_pct' suffix to the end\n",
    "        base = col.removesuffix(\"_pct\")\n",
    "        col_names_mappings[f\"{fighter}{col}\"] = f\"{fighter}{base}{POS_POST}\""
   ]
  },
  {
   "cell_type": "markdown",
   "id": "9dfb7d3c-e521-493d-ab28-4291852eca18",
   "metadata": {},
   "source": [
    "Renaming:"
   ]
  },
  {
   "cell_type": "code",
   "execution_count": null,
   "id": "4dc2d99c-5ccf-4aed-b0aa-68127bab9435",
   "metadata": {},
   "outputs": [],
   "source": [
    "fights_stats.rename(columns=col_names_mappings, inplace=True)\n",
    "fights_stats.columns"
   ]
  },
  {
   "cell_type": "markdown",
   "id": "cd9d075c-13cf-4c6b-a02b-6fc762071237",
   "metadata": {},
   "source": [
    "Too long and too many features to look at, we will make the names shorter and decrease the number of features by half. But first, we need to merge some additional features :))"
   ]
  },
  {
   "cell_type": "markdown",
   "id": "1ac9bdbc-63b9-44ee-9c4f-203d57666ef9",
   "metadata": {},
   "source": [
    "# Loading athlete stats dataset"
   ]
  },
  {
   "cell_type": "markdown",
   "id": "8504dbcf-97d9-46fa-b57a-4aa4931a4cda",
   "metadata": {},
   "source": [
    "Let's merge additional athlete-based features from an external dataset like: `Height`, `Reach`, `Stance` and other career statistic features like: \n",
    "* `SLpM`-`Significant Strikes Landed per Minute`\n",
    "* `Str_Acc`-`Significant Striking Accuracy`"
   ]
  },
  {
   "cell_type": "code",
   "execution_count": null,
   "id": "60596ece-f84d-4884-bb2a-175cdd3f6dfb",
   "metadata": {},
   "outputs": [],
   "source": [
    "# External dataset\n",
    "athlete_stats = pd.read_csv(\"../external_data/raw_fighter_details.csv\", sep=\",\")\n",
    "athlete_stats.head(3)"
   ]
  },
  {
   "cell_type": "markdown",
   "id": "4dfb1113-6651-41af-bcee-b3c9809ddf67",
   "metadata": {},
   "source": [
    "## Data Preprocessing"
   ]
  },
  {
   "cell_type": "markdown",
   "id": "84fec373-4281-4154-bec7-0ab067a840f7",
   "metadata": {},
   "source": [
    "### Dropping irrelevant features"
   ]
  },
  {
   "cell_type": "markdown",
   "id": "d9d87983-efaf-445b-9fa7-b39858a1cfa4",
   "metadata": {},
   "source": [
    "We leave only the features we are interested in, and drop irrelevant ones:"
   ]
  },
  {
   "cell_type": "code",
   "execution_count": null,
   "id": "ebbfcb4e-f010-4c33-8139-c54275017b1c",
   "metadata": {},
   "outputs": [],
   "source": [
    "athlete_stats.drop(columns=[\"Weight\", \"DOB\"], inplace=True)\n",
    "athlete_stats.tail()"
   ]
  },
  {
   "cell_type": "markdown",
   "id": "45171d24-a72e-464a-9d8e-677ce3373531",
   "metadata": {},
   "source": [
    "### Renaming features"
   ]
  },
  {
   "cell_type": "markdown",
   "id": "f0e92694-0c39-4fb5-aa50-64d3c7344fcb",
   "metadata": {},
   "source": [
    "We need to rename some columns for differentiating between **athlete-based** and **fight-based**. <br>\n",
    "We'll add `_cs` suffix to the **athlete-based** features. `cs` stands for `Career Statistic`."
   ]
  },
  {
   "cell_type": "markdown",
   "id": "2c9769d1-6fac-4338-ab18-178d47497a40",
   "metadata": {},
   "source": [
    "Let's prep the columns:"
   ]
  },
  {
   "cell_type": "code",
   "execution_count": null,
   "id": "d6a3e2a0-5ba8-4da2-8c30-d676c62f9dde",
   "metadata": {},
   "outputs": [],
   "source": [
    "suffix = \"_cs\"  # _cs is an abbreviation for career statistic\n",
    "cols_to_rename = [\n",
    "    \"SLpM\",\n",
    "    \"Str_Acc\",\n",
    "    \"SApM\",\n",
    "    \"Str_Def\",\n",
    "    \"TD_Avg\",\n",
    "    \"TD_Acc\",\n",
    "    \"TD_Def\",\n",
    "    \"Sub_Avg\",\n",
    "]\n",
    "name_mappings = {col: f\"{col}{suffix}\" for col in cols_to_rename}\n",
    "name_mappings"
   ]
  },
  {
   "cell_type": "markdown",
   "id": "e0463cc3-b9b7-404f-ac03-a79a61452f52",
   "metadata": {},
   "source": [
    "Rename:"
   ]
  },
  {
   "cell_type": "code",
   "execution_count": null,
   "id": "eb4c5207-a5e4-44e9-ad1a-7a36e64a4672",
   "metadata": {},
   "outputs": [],
   "source": [
    "athlete_stats.rename(columns=name_mappings, inplace=True)\n",
    "athlete_stats.head(3)"
   ]
  },
  {
   "cell_type": "markdown",
   "id": "ff980df1-0819-41df-9464-2ae9bc0c844e",
   "metadata": {},
   "source": [
    "### Imputing NaNs"
   ]
  },
  {
   "cell_type": "markdown",
   "id": "577d04cd-9b8d-4e91-afd0-6f456827071b",
   "metadata": {},
   "source": [
    "Dropping rows, that bring us no information whatsoever (rows, where all valuable columns are empty):"
   ]
  },
  {
   "cell_type": "code",
   "execution_count": null,
   "id": "c49a0d4e-52fb-446d-bace-770041c5d36a",
   "metadata": {},
   "outputs": [],
   "source": [
    "cols_of_interest = list(athlete_stats.columns)\n",
    "cols_of_interest.remove(\"fighter_name\")\n",
    "cols_of_interest"
   ]
  },
  {
   "cell_type": "markdown",
   "id": "2d13017b-4b96-4c68-af08-ac2ddf77d47d",
   "metadata": {},
   "source": [
    "Are there any?"
   ]
  },
  {
   "cell_type": "code",
   "execution_count": null,
   "id": "fceb70d0-f5d0-4585-9ad1-8e33898b3992",
   "metadata": {},
   "outputs": [],
   "source": [
    "all_nans = athlete_stats[athlete_stats[cols_of_interest] == 0].sum().sum()\n",
    "all_nans"
   ]
  },
  {
   "cell_type": "markdown",
   "id": "a38e53ed-efba-4a27-b1f6-070df5467c32",
   "metadata": {},
   "source": [
    "There's not, good."
   ]
  },
  {
   "cell_type": "markdown",
   "id": "0af08717-2386-4bf1-9da7-66b5fcb6da7c",
   "metadata": {},
   "source": [
    "Impututing the rest of NaNs with zeros:"
   ]
  },
  {
   "cell_type": "code",
   "execution_count": null,
   "id": "5920b30a-019f-4037-8cfa-340facb04aac",
   "metadata": {},
   "outputs": [],
   "source": [
    "print(f\"Number of NaN entries before imputing: {athlete_stats.isna().sum().sum()}\")"
   ]
  },
  {
   "cell_type": "code",
   "execution_count": null,
   "id": "ca42086a-214f-4bd2-b982-62fe2c907012",
   "metadata": {},
   "outputs": [],
   "source": [
    "# Impute\n",
    "athlete_stats.fillna(0, inplace=True)\n",
    "\n",
    "print(f\"Number of NaN entries after imputing: {athlete_stats.isna().sum().sum()}\")"
   ]
  },
  {
   "cell_type": "markdown",
   "id": "423feb8e-2200-40fc-8a8b-4dfde892dbc8",
   "metadata": {},
   "source": [
    "### Formatting to match the format in the fights dataset"
   ]
  },
  {
   "cell_type": "markdown",
   "id": "e3dad26d-d2cc-445b-8a9c-15efc9107a33",
   "metadata": {},
   "source": [
    "Convert external dataset's `fighter_name` values to uppercase, and column names to lowercase to match our format:"
   ]
  },
  {
   "cell_type": "code",
   "execution_count": null,
   "id": "cf62b38f-b81d-47f1-a98d-9d68a1a26bbf",
   "metadata": {},
   "outputs": [],
   "source": [
    "# Fighter names values to => upper\n",
    "athlete_stats[\"fighter_name\"] = athlete_stats[\"fighter_name\"].str.upper()\n",
    "\n",
    "# Column names to => lower\n",
    "athlete_stats.columns = athlete_stats.columns.str.lower()\n",
    "athlete_stats.loc[:2, [\"height\", \"reach\"]]"
   ]
  },
  {
   "cell_type": "markdown",
   "id": "adb166f4-79f2-49c9-a762-6a0ce02e2f63",
   "metadata": {},
   "source": [
    "### Converting from inches to cm"
   ]
  },
  {
   "cell_type": "markdown",
   "id": "e69439ac-b011-47e7-bb2e-642c9ab40717",
   "metadata": {},
   "source": [
    "Defining a function that converts `height` and `reach` features from inches to cm:"
   ]
  },
  {
   "cell_type": "code",
   "execution_count": null,
   "id": "fcd50292-186b-424a-a148-51bc0be8b3bc",
   "metadata": {},
   "outputs": [],
   "source": [
    "def conv_from_inches_to_cm(inches):\n",
    "    \"\"\"Converts from inches to cm\"\"\"\n",
    "\n",
    "    # To avoid trying to operate str ops on numerical input\n",
    "    if not isinstance(inches, str):\n",
    "        return inches\n",
    "\n",
    "    # Separate feet from inches\n",
    "    inches = inches.replace('\"', \"\").strip()\n",
    "\n",
    "    # If both, feet and inches given\n",
    "    if \"'\" in inches:\n",
    "        feet, inch = inches.split(\"'\")\n",
    "        feet = int(feet)\n",
    "        inch = int(inch) if inch else 0\n",
    "        return round(feet * 30.48 + inch * 2.54, 2)\n",
    "    # If only feet given\n",
    "    else:\n",
    "        return round(float(inches) * 2.54, 2)"
   ]
  },
  {
   "cell_type": "markdown",
   "id": "8979f11b-92c6-42dd-b31e-1672a0721b0f",
   "metadata": {},
   "source": [
    "Applying:"
   ]
  },
  {
   "cell_type": "code",
   "execution_count": null,
   "id": "486dde8b-1a7b-4ea1-99c7-bb2cd8fd97ad",
   "metadata": {},
   "outputs": [],
   "source": [
    "# Convert height\n",
    "athlete_stats[\"height\"] = athlete_stats[\"height\"].apply(conv_from_inches_to_cm)\n",
    "# Convert reach\n",
    "athlete_stats[\"reach\"] = athlete_stats[\"reach\"].apply(conv_from_inches_to_cm)"
   ]
  },
  {
   "cell_type": "code",
   "execution_count": null,
   "id": "ad76898f-608c-494a-bcfe-88bde509de9f",
   "metadata": {},
   "outputs": [],
   "source": [
    "# Take a look\n",
    "athlete_stats.loc[:2, [\"height\", \"reach\"]]"
   ]
  },
  {
   "cell_type": "markdown",
   "id": "ce0659be-b3d3-448f-9239-faab0ff62edb",
   "metadata": {},
   "source": [
    "Looks solid."
   ]
  },
  {
   "cell_type": "markdown",
   "id": "ee3106ba-c3e2-447e-8335-ff090447ac05",
   "metadata": {},
   "source": [
    "# Merging into the final dataset"
   ]
  },
  {
   "cell_type": "markdown",
   "id": "ddae1e77-c788-4b23-8cb4-53c2f427853a",
   "metadata": {},
   "source": [
    "Prepare mappings to map features to red/blue fighters:"
   ]
  },
  {
   "cell_type": "code",
   "execution_count": null,
   "id": "1617344c-76aa-432a-b502-f2ad771803c2",
   "metadata": {},
   "outputs": [],
   "source": [
    "red_mappings = {\n",
    "    col: f\"red_fighter_{col}\" for col in athlete_stats.columns if \"fighter\" not in col\n",
    "}\n",
    "blue_mappings = {\n",
    "    col: f\"blue_fighter_{col}\" for col in athlete_stats.columns if \"fighter\" not in col\n",
    "}"
   ]
  },
  {
   "cell_type": "markdown",
   "id": "b305c203-bb1c-4968-b659-f148fb173146",
   "metadata": {},
   "source": [
    "Merging:"
   ]
  },
  {
   "cell_type": "code",
   "execution_count": null,
   "id": "7d2cf4d9-2435-482d-b01b-0b58f0aa54a4",
   "metadata": {},
   "outputs": [],
   "source": [
    "# Merge reds\n",
    "stats = pd.merge(\n",
    "    fights_stats,\n",
    "    athlete_stats.rename(columns=red_mappings),\n",
    "    left_on=\"red_fighter_name\",\n",
    "    right_on=\"fighter_name\",\n",
    ")\n",
    "stats.drop(columns=\"fighter_name\", inplace=True)"
   ]
  },
  {
   "cell_type": "code",
   "execution_count": null,
   "id": "938cb03c-1cf0-4dc5-a1b8-90be435f1acd",
   "metadata": {},
   "outputs": [],
   "source": [
    "# Merge blues\n",
    "stats = pd.merge(\n",
    "    stats,\n",
    "    athlete_stats.rename(columns=blue_mappings),\n",
    "    left_on=\"blue_fighter_name\",\n",
    "    right_on=\"fighter_name\",\n",
    ")\n",
    "stats.drop(columns=\"fighter_name\", inplace=True)"
   ]
  },
  {
   "cell_type": "code",
   "execution_count": null,
   "id": "862be3c8-31e6-496e-a61a-96d23b55c591",
   "metadata": {},
   "outputs": [],
   "source": [
    "stats.columns"
   ]
  },
  {
   "cell_type": "markdown",
   "id": "2dcf59ed-651d-4c98-b606-b43054b1f2c7",
   "metadata": {},
   "source": [
    "Looks good, let's now work on the merged dataset."
   ]
  },
  {
   "cell_type": "markdown",
   "id": "a5317c1e-cc7f-4318-87a4-53360372ab79",
   "metadata": {
    "panel-layout": {
     "height": 60.616668701171875,
     "visible": true,
     "width": 100
    }
   },
   "source": [
    "## Data preprocessing"
   ]
  },
  {
   "cell_type": "markdown",
   "id": "d81c643c-7bcc-411a-a982-607602b01699",
   "metadata": {
    "panel-layout": {
     "height": 60.616668701171875,
     "visible": true,
     "width": 100
    }
   },
   "source": [
    "### Data Cleaning"
   ]
  },
  {
   "cell_type": "markdown",
   "id": "e9bfbdb9-ef69-4b4e-bb8f-626f4e10b3a8",
   "metadata": {
    "panel-layout": {
     "height": 50.850006103515625,
     "visible": true,
     "width": 100
    }
   },
   "source": [
    "#### Imputing NaNs"
   ]
  },
  {
   "cell_type": "code",
   "execution_count": null,
   "id": "b392d156-f9c8-4139-a380-57ead00b8515",
   "metadata": {
    "panel-layout": {
     "height": 556.75,
     "visible": true,
     "width": 100
    }
   },
   "outputs": [],
   "source": [
    "stats.isnull().sum().sum()"
   ]
  },
  {
   "cell_type": "markdown",
   "id": "964adb30-2635-4c71-96dc-4705d24c5de8",
   "metadata": {},
   "source": [
    "Replacing NaN entry fillers with zeros:"
   ]
  },
  {
   "cell_type": "code",
   "execution_count": null,
   "id": "4f66f5d9-59e4-45e6-af3f-59d27f00a65a",
   "metadata": {},
   "outputs": [],
   "source": [
    "stats.isin([\"-\", \"--\", \"---\"]).sum().sum()"
   ]
  },
  {
   "cell_type": "code",
   "execution_count": null,
   "id": "e0786962-6714-4b93-ae68-19893bf12236",
   "metadata": {},
   "outputs": [],
   "source": [
    "stats = stats.replace([\"-\", \"--\", \"---\"], \"0\")\n",
    "stats.isin([\"-\", \"--\", \"---\"]).sum().sum()"
   ]
  },
  {
   "cell_type": "markdown",
   "id": "6a38adab-746e-45da-8865-65a6a587e116",
   "metadata": {},
   "source": [
    "#### Handling Duplicates"
   ]
  },
  {
   "cell_type": "code",
   "execution_count": null,
   "id": "30605159-1e13-4a54-b426-84567b47385f",
   "metadata": {},
   "outputs": [],
   "source": [
    "stats.duplicated().sum()"
   ]
  },
  {
   "cell_type": "markdown",
   "id": "0f058bf6-6684-412d-80df-b2cc088d9b33",
   "metadata": {},
   "source": [
    "We can see that there are no NaNs or duplicates. Let's get to Feature Engineering."
   ]
  },
  {
   "cell_type": "markdown",
   "id": "11e1b7ff-5595-4edc-946d-6ea979af9708",
   "metadata": {},
   "source": [
    "### Processing categorical features"
   ]
  },
  {
   "cell_type": "markdown",
   "id": "98d17a33-144e-4d78-8bf4-662281911b85",
   "metadata": {},
   "source": [
    "Find columns that need to be standardized from categorical dtype to numerical:"
   ]
  },
  {
   "cell_type": "code",
   "execution_count": null,
   "id": "f21441a8-0364-4378-9eed-5dfc2da7bdfd",
   "metadata": {
    "editable": true,
    "scrolled": true,
    "slideshow": {
     "slide_type": ""
    },
    "tags": []
   },
   "outputs": [],
   "source": [
    "def find_obj_cols(df):\n",
    "    \"\"\"Searches for columns that are of dtype object,\n",
    "    contain numbers, and names of cols start with either 'red_' or 'blue_'\"\"\"\n",
    "\n",
    "    cols_to_standardize = []\n",
    "\n",
    "    for col in df.columns:\n",
    "        if stats[col].dtype == \"object\" and (\n",
    "            col.startswith(\"red_\") or col.startswith(\"blue_\")\n",
    "        ):\n",
    "            # Get the first non-nan value, and convert to str to be able to use .isdigit()\n",
    "            sample_val = stats[col].dropna().astype(str).head(1).values[0]\n",
    "            if len(sample_val) > 0 and any(char.isdigit() for char in sample_val):\n",
    "                cols_to_standardize.append(col)\n",
    "\n",
    "    return cols_to_standardize"
   ]
  },
  {
   "cell_type": "code",
   "execution_count": null,
   "id": "cae6553a-9196-4824-b61c-5e9e19b87781",
   "metadata": {},
   "outputs": [],
   "source": [
    "cols_to_standardize = find_obj_cols(stats)\n",
    "print(f\"Number of categorical features to preprocess: {len(cols_to_standardize)}\")"
   ]
  },
  {
   "cell_type": "markdown",
   "id": "9527aebf-2386-47cb-96e3-4faf50e4ba0d",
   "metadata": {},
   "source": [
    "In total we have to standardize 3 types of features:\n",
    "1. Ratio to pct: 75 of 144 => 52 (%)\n",
    "2. Dropping pct symbol: 85% => 85 (%)\n",
    "3. Time: 1:31\t=> 91 (seconds)"
   ]
  },
  {
   "cell_type": "markdown",
   "id": "088be5a5-b16a-420e-a80d-c6ee8c8e80b5",
   "metadata": {},
   "source": [
    "Taking a look:"
   ]
  },
  {
   "cell_type": "code",
   "execution_count": null,
   "id": "9f21554a-f3a5-42fa-b6b8-eab99e3df430",
   "metadata": {},
   "outputs": [],
   "source": [
    "stats.loc[:2, [\"red_fighter_total_str\", \"red_fighter_td_acc_cs\", \"red_fighter_ctrl\"]]"
   ]
  },
  {
   "cell_type": "markdown",
   "id": "09c64579-ce1b-471a-bbbc-9764bf5393e1",
   "metadata": {},
   "source": [
    "But let's first group the columns into 3 different buckets for simplicity:\n",
    "* `of_cols`, for example: `78 of 147`\n",
    "* `pct_cols`, for example: `45%`\n",
    "* `time_cols`, for example: `0:45`"
   ]
  },
  {
   "cell_type": "code",
   "execution_count": null,
   "id": "0d711e01-0626-4545-8813-e8658c38c190",
   "metadata": {},
   "outputs": [],
   "source": [
    "def bucket_obj_cols(cols):\n",
    "    \"\"\"Buckets provided columns into 3 various buckets, based on regex patterns.\"\"\"\n",
    "\n",
    "    of_cols = []\n",
    "    pct_cols = []\n",
    "    time_cols = []\n",
    "\n",
    "    for col in cols:\n",
    "        sample_val = stats[col].dropna().astype(str).head(1).values[0]\n",
    "\n",
    "        if re.search(\n",
    "            r\"\\d+\\s*of\\s*\\d+\", sample_val\n",
    "        ):  # If matches 'number of number' schema\n",
    "            of_cols.append(col)\n",
    "        elif re.search(r\"\\d+\\s*%\", sample_val):  # If matches 'x%' pct schema\n",
    "            pct_cols.append(col)\n",
    "        elif re.search(r\"\\d+\\s*:\\s*\\d+\", sample_val):  # If matches 'x:yy' time schema\n",
    "            time_cols.append(col)\n",
    "\n",
    "    return of_cols, pct_cols, time_cols"
   ]
  },
  {
   "cell_type": "markdown",
   "id": "aa39cb76-ad38-406e-bbfe-c50158f9b312",
   "metadata": {},
   "source": [
    "Running it:"
   ]
  },
  {
   "cell_type": "code",
   "execution_count": null,
   "id": "7787cbcd-1850-44f9-b8ab-397f6c6d7af4",
   "metadata": {},
   "outputs": [],
   "source": [
    "of_cols, pct_cols, time_cols = bucket_obj_cols(cols_to_standardize)"
   ]
  },
  {
   "cell_type": "markdown",
   "id": "9d13c7bf-43c2-4f02-bad5-a6117c102162",
   "metadata": {},
   "source": [
    "Let's take a look:"
   ]
  },
  {
   "cell_type": "code",
   "execution_count": null,
   "id": "1042cc71-c955-4754-b6b0-fca3b553cb32",
   "metadata": {},
   "outputs": [],
   "source": [
    "stats.loc[:2, of_cols[:3]]"
   ]
  },
  {
   "cell_type": "code",
   "execution_count": null,
   "id": "8437951d-5b0e-4d49-beab-1be6f1821c2a",
   "metadata": {},
   "outputs": [],
   "source": [
    "stats.loc[:2, pct_cols[:3]]"
   ]
  },
  {
   "cell_type": "code",
   "execution_count": null,
   "id": "a57bcc4d-5e89-4588-9bd4-70e0e9897161",
   "metadata": {},
   "outputs": [],
   "source": [
    "stats.loc[:2, time_cols]"
   ]
  },
  {
   "cell_type": "markdown",
   "id": "1169406b-390b-4fa8-82a7-e8b8e2a838c2",
   "metadata": {},
   "source": [
    "Let's standardize."
   ]
  },
  {
   "cell_type": "markdown",
   "id": "b19d14ee-cf19-4d5e-95ed-30ccef825504",
   "metadata": {},
   "source": [
    "### Standardizing"
   ]
  },
  {
   "cell_type": "markdown",
   "id": "f862f720-e916-48aa-bb49-827fc31357b8",
   "metadata": {},
   "source": [
    "#### Standardizing fraction-based features"
   ]
  },
  {
   "cell_type": "markdown",
   "id": "7e155f59-37f0-41d9-80c7-7bc3b53ce65a",
   "metadata": {},
   "source": [
    "Standardizing fractions into pct % (e.g. from `70 of 140` to `50` (%)):"
   ]
  },
  {
   "cell_type": "code",
   "execution_count": null,
   "id": "016525e2-2ec5-45e9-9c5d-4221649502b8",
   "metadata": {},
   "outputs": [],
   "source": [
    "def convert_ratio_to_pct(row):\n",
    "    \"\"\"Converts ratio 'x of y' to percentages 'z'\"\"\"\n",
    "\n",
    "    vals = row.split(\"of\")\n",
    "    if len(vals) != 2:\n",
    "        return 0\n",
    "\n",
    "    made = int(vals[0].strip())\n",
    "    attempted = int(vals[1].strip())\n",
    "    if made == 0 or attempted == 0:\n",
    "        return 0\n",
    "\n",
    "    return round((made * 100) / attempted, 2)"
   ]
  },
  {
   "cell_type": "markdown",
   "id": "af97dc52-3087-4711-9a29-3592e5b0c7dc",
   "metadata": {},
   "source": [
    "Applying:"
   ]
  },
  {
   "cell_type": "code",
   "execution_count": null,
   "id": "692dd25c-8585-4689-88f6-99f1f4665642",
   "metadata": {},
   "outputs": [],
   "source": [
    "for col in of_cols:\n",
    "    stats[col] = stats[col].apply(convert_ratio_to_pct)\n",
    "\n",
    "# Rename\n",
    "name_mappings = {col: f\"{col}_pct\" for col in of_cols}\n",
    "stats.rename(columns=name_mappings, inplace=True)"
   ]
  },
  {
   "cell_type": "code",
   "execution_count": null,
   "id": "c65984ef-fbfe-4bbf-b6e5-e1b1a0dad5cb",
   "metadata": {},
   "outputs": [],
   "source": [
    "stats[name_mappings.values()].head(3)"
   ]
  },
  {
   "cell_type": "markdown",
   "id": "f914dd88-14bb-4a84-8522-b3f56b2c163a",
   "metadata": {},
   "source": [
    "#### Standardizing percentage-based features"
   ]
  },
  {
   "cell_type": "markdown",
   "id": "97a3aa12-3a22-45ef-8bdc-afab98e759db",
   "metadata": {},
   "source": [
    "Standardizing pct features, dropping `%` symbol (e.g. from `50%` to `50`):"
   ]
  },
  {
   "cell_type": "code",
   "execution_count": null,
   "id": "66ed6916-dca8-4081-9554-6dad4c0640a0",
   "metadata": {},
   "outputs": [],
   "source": [
    "stats[pct_cols] = stats[pct_cols].apply(lambda row: row.str.strip(\"%\"))\n",
    "stats[pct_cols].head(3)"
   ]
  },
  {
   "cell_type": "markdown",
   "id": "ced0dc33-8f37-4681-a237-ca3a82a12b9e",
   "metadata": {},
   "source": [
    "#### Standardizing time-based features"
   ]
  },
  {
   "cell_type": "markdown",
   "id": "46ead8ea-4396-4dae-8c67-5399a983fe1e",
   "metadata": {},
   "source": [
    "Standardizing time features from `mm:ss` into the total `seconds` (e.g. from `1:31` **minutes** to `91` **seconds**):"
   ]
  },
  {
   "cell_type": "markdown",
   "id": "26ec3e98-5b82-461b-847a-25e417b44b89",
   "metadata": {},
   "source": [
    "Features to work with:"
   ]
  },
  {
   "cell_type": "code",
   "execution_count": null,
   "id": "1340823c-f41b-4739-b306-bb04f4d29934",
   "metadata": {},
   "outputs": [],
   "source": [
    "time_cols"
   ]
  },
  {
   "cell_type": "markdown",
   "id": "cdc98b18-d2cb-4a51-bb78-e18b9c72b899",
   "metadata": {},
   "source": [
    "Replace 0s to match the common format `0:00`"
   ]
  },
  {
   "cell_type": "code",
   "execution_count": null,
   "id": "c5a4394b-0c89-4ac3-a580-c85393d1a6ba",
   "metadata": {},
   "outputs": [],
   "source": [
    "stats[time_cols] = stats[time_cols].replace(\"0\", \"0:00\")"
   ]
  },
  {
   "cell_type": "markdown",
   "id": "41d48975-40b4-43d9-931e-78157af0c896",
   "metadata": {},
   "source": [
    "Format time schema to make it have the `hh:mm:ss` shape:"
   ]
  },
  {
   "cell_type": "markdown",
   "id": "021bec9d-b107-48c8-8d82-21b92f7b5701",
   "metadata": {},
   "source": [
    "Before:"
   ]
  },
  {
   "cell_type": "code",
   "execution_count": null,
   "id": "c823ec9b-d800-4b2e-9cf3-86cc913075fe",
   "metadata": {},
   "outputs": [],
   "source": [
    "# Rows to compare before/after on\n",
    "comp_rows = [i for i in range(40, 43)]\n",
    "# Before samples\n",
    "stats.loc[comp_rows, time_cols]"
   ]
  },
  {
   "cell_type": "code",
   "execution_count": null,
   "id": "357bb946-2271-4a23-88ba-9d6a191ac40b",
   "metadata": {},
   "outputs": [],
   "source": [
    "def format_time_schema(row):\n",
    "    \"\"\"Formats time schema by making sure it follows hh:mm:ss format\"\"\"\n",
    "\n",
    "    parts = row.split(\":\")\n",
    "    if len(parts) == 2:\n",
    "        minutes, seconds = parts\n",
    "        # Pad both minutes and seconds to 2 zeros\n",
    "        minutes = minutes.zfill(2)\n",
    "        seconds = seconds.zfill(2)\n",
    "        # Add hours prefix\n",
    "        return f\"00:{minutes}:{seconds}\"\n",
    "    return parts  # Return like is if not in mm:ss format"
   ]
  },
  {
   "cell_type": "markdown",
   "id": "f96d4d25-1c82-4ae1-b311-8053781aba9a",
   "metadata": {},
   "source": [
    "Applying:"
   ]
  },
  {
   "cell_type": "code",
   "execution_count": null,
   "id": "da2ce0f5-c75b-4134-98e1-9ea9e059ef45",
   "metadata": {},
   "outputs": [],
   "source": [
    "for col in time_cols:\n",
    "    stats[col] = stats[col].apply(format_time_schema)"
   ]
  },
  {
   "cell_type": "markdown",
   "id": "28939088-8cf5-4cfb-a687-74176ff55b24",
   "metadata": {},
   "source": [
    "After:"
   ]
  },
  {
   "cell_type": "code",
   "execution_count": null,
   "id": "68d05b79-6ade-4d96-b50d-27822b09d580",
   "metadata": {},
   "outputs": [],
   "source": [
    "pd.DataFrame(stats.loc[comp_rows, time_cols])"
   ]
  },
  {
   "cell_type": "markdown",
   "id": "8bd120c1-9d3f-4584-9779-533a7bfac855",
   "metadata": {},
   "source": [
    "Convert to total seconds:"
   ]
  },
  {
   "cell_type": "markdown",
   "id": "fd489754-3c09-46bb-9608-a2c843047478",
   "metadata": {},
   "source": [
    "Before:"
   ]
  },
  {
   "cell_type": "code",
   "execution_count": null,
   "id": "e0ca0a11-34b1-40b2-a22d-00e01ad30572",
   "metadata": {},
   "outputs": [],
   "source": [
    "# Rows to compare before/after on\n",
    "comp_rows = [i for i in range(0, 2)]\n",
    "stats.loc[comp_rows, time_cols]"
   ]
  },
  {
   "cell_type": "code",
   "execution_count": null,
   "id": "dd990d68-c55d-4041-a26f-a563080fe862",
   "metadata": {},
   "outputs": [],
   "source": [
    "# Convert into total seconds\n",
    "stats[time_cols] = stats[time_cols].apply(\n",
    "    lambda col: pd.to_timedelta(col).dt.total_seconds()\n",
    ")"
   ]
  },
  {
   "cell_type": "markdown",
   "id": "7d15995e-af73-4ebe-8914-ef95e3e87f73",
   "metadata": {},
   "source": [
    "After:"
   ]
  },
  {
   "cell_type": "code",
   "execution_count": null,
   "id": "e62c51f5-c258-489c-8a08-bea42f6930ae",
   "metadata": {},
   "outputs": [],
   "source": [
    "stats.loc[comp_rows, time_cols]"
   ]
  },
  {
   "cell_type": "markdown",
   "id": "c7e618c7-390e-421c-9f1a-b5f5a7562d5a",
   "metadata": {},
   "source": [
    "Looks good."
   ]
  },
  {
   "cell_type": "markdown",
   "id": "56f5c1bd-6033-4087-8c39-900013c198e1",
   "metadata": {},
   "source": [
    "### Dtype converting"
   ]
  },
  {
   "cell_type": "markdown",
   "id": "f990e4d6-838d-42ac-8bef-ddb10d361a1e",
   "metadata": {},
   "source": [
    "Convert columns that are in object dtype but contain values of numerical dtype to remove the pool of features that need to be preprocessed:"
   ]
  },
  {
   "cell_type": "code",
   "execution_count": null,
   "id": "5360c52d-cc15-497a-aec9-0cd9573602dc",
   "metadata": {},
   "outputs": [],
   "source": [
    "stats.dtypes.value_counts()"
   ]
  },
  {
   "cell_type": "code",
   "execution_count": null,
   "id": "ee080c57-34fa-432d-84c9-196782f15e09",
   "metadata": {},
   "outputs": [],
   "source": [
    "for col in stats.columns:\n",
    "    try:\n",
    "        stats[col] = stats[col].astype(float)\n",
    "\n",
    "    # If not possible, (contains strings) we'll handle it in a minute\n",
    "    except:\n",
    "        continue"
   ]
  },
  {
   "cell_type": "code",
   "execution_count": null,
   "id": "ac1ce1b3-fbf4-4dc8-a7b1-02d0fc753785",
   "metadata": {},
   "outputs": [],
   "source": [
    "stats.dtypes.value_counts()"
   ]
  },
  {
   "cell_type": "markdown",
   "id": "13c8085f-58fe-4ead-bd78-7c86c31eaef0",
   "metadata": {},
   "source": [
    "## Feature Engineering"
   ]
  },
  {
   "cell_type": "markdown",
   "id": "c005dfa4-7747-497c-9c0f-7f6b6aedb4b2",
   "metadata": {},
   "source": [
    "### Winner"
   ]
  },
  {
   "cell_type": "markdown",
   "id": "8a74be98-0018-4a58-8aa3-7b04d7314bd7",
   "metadata": {},
   "source": [
    "Adding a winner feature:"
   ]
  },
  {
   "cell_type": "code",
   "execution_count": null,
   "id": "ff0c0021-50b5-4f10-bac9-8d03cd9909b1",
   "metadata": {},
   "outputs": [],
   "source": [
    "stats.loc[:, \"winner\"] = stats[\"red_fighter_result\"].apply(\n",
    "    lambda x: \"red\" if x == \"W\" else \"blue\"\n",
    ")"
   ]
  },
  {
   "cell_type": "code",
   "execution_count": null,
   "id": "88d593ad-3ed2-49d0-9eb0-af396a1d0d83",
   "metadata": {},
   "outputs": [],
   "source": [
    "stats[\"winner\"].head(3)"
   ]
  },
  {
   "cell_type": "markdown",
   "id": "002c1106-027e-4658-9325-c8b70649a113",
   "metadata": {},
   "source": [
    "Since we now have the `winner` feature, we can drop the `red_fighter_result/blue_fighter_result` features:"
   ]
  },
  {
   "cell_type": "code",
   "execution_count": null,
   "id": "8434e3da-e40d-4c93-8982-977d0199b771",
   "metadata": {},
   "outputs": [],
   "source": [
    "stats.drop(columns=['red_fighter_result', 'blue_fighter_result'], inplace=True)"
   ]
  },
  {
   "cell_type": "markdown",
   "id": "7f7fd713-3550-477f-a4e9-8ad5f95d971c",
   "metadata": {},
   "source": [
    "### Winner_feature/loser_feature"
   ]
  },
  {
   "cell_type": "markdown",
   "id": "95805e9e-c64b-41d4-a375-f1fde268e7ea",
   "metadata": {},
   "source": [
    "Let's change the columns from `red/blue_fighter`+`feature name` to `winner/loser`+`feature name`."
   ]
  },
  {
   "cell_type": "markdown",
   "id": "d7c9aedd-4da2-46b7-8811-b649e65a985e",
   "metadata": {},
   "source": [
    "Saving the order of the columns first because it will be distorted:"
   ]
  },
  {
   "cell_type": "code",
   "execution_count": null,
   "id": "f0abe83c-a6f9-41d8-a192-fa61ab160e60",
   "metadata": {},
   "outputs": [],
   "source": [
    "def rename_condition(col):\n",
    "    if col.startswith(\"red_fighter_\"):\n",
    "        return col.replace(\"red_fighter_\", \"winner_\")\n",
    "    elif col.startswith(\"blue_fighter_\"):\n",
    "        return col.replace(\"blue_fighter_\", \"loser_\")\n",
    "    return col"
   ]
  },
  {
   "cell_type": "code",
   "execution_count": null,
   "id": "eab430ab-edfa-4997-828a-973c0cd36748",
   "metadata": {},
   "outputs": [],
   "source": [
    "# Get the renamed cols order\n",
    "cols_order = [rename_condition(col) for col in stats.columns]"
   ]
  },
  {
   "cell_type": "markdown",
   "id": "01c7da48-00f5-4e4c-90f9-7ed30902cf8b",
   "metadata": {},
   "source": [
    "Function for setting winner & loser:"
   ]
  },
  {
   "cell_type": "code",
   "execution_count": null,
   "id": "aaac7319-63d4-47bc-a5a6-fcded0d5d067",
   "metadata": {},
   "outputs": [],
   "source": [
    "def set_winner_n_loser(df, winner_col=\"winner\"):\n",
    "    \"\"\"Filters what columns to take into account,\n",
    "    creates new columns, instead of red/blue makes winner/loser,\n",
    "    gets data points from red/blue column based on\n",
    "    the value of the feature 'winner' in that same row.\"\"\"\n",
    "\n",
    "    df = df.copy()\n",
    "    cols_to_drop = []\n",
    "\n",
    "    # Find all red columns that have blue equivalents\n",
    "    for col in df.columns:\n",
    "        if col.startswith(\"red_fighter_\"):\n",
    "            base = col.removeprefix(\"red_fighter_\")\n",
    "            red_col = f\"red_fighter_{base}\"\n",
    "            blue_col = f\"blue_fighter_{base}\"\n",
    "\n",
    "            # If blue counterpart exists\n",
    "            if blue_col in df.columns:\n",
    "                # Create winner/loser columns\n",
    "                df[f\"winner_{base}\"] = np.where(\n",
    "                    df[winner_col] == \"red\", df[red_col], df[blue_col]\n",
    "                )\n",
    "                df[f\"loser_{base}\"] = np.where(\n",
    "                    df[winner_col] == \"blue\", df[red_col], df[blue_col]\n",
    "                )\n",
    "    \n",
    "                cols_to_drop.extend([red_col, blue_col])\n",
    "\n",
    "    # Drop the red/blue columns to keep only winner/loser\n",
    "    df = df.drop(columns=cols_to_drop)\n",
    "    return df"
   ]
  },
  {
   "cell_type": "code",
   "execution_count": null,
   "id": "0b274e76-527c-43c5-9882-34b4fd67cc4c",
   "metadata": {},
   "outputs": [],
   "source": [
    "stats = set_winner_n_loser(stats)\n",
    "stats.columns[:5]"
   ]
  },
  {
   "cell_type": "markdown",
   "id": "2fa3bdf7-a41a-4c14-80da-10ccb6e29ae0",
   "metadata": {},
   "source": [
    "Setting the previous, correct order up:"
   ]
  },
  {
   "cell_type": "code",
   "execution_count": null,
   "id": "c7b170f2-c837-4c8e-a513-6451320fa350",
   "metadata": {},
   "outputs": [],
   "source": [
    "stats = stats.loc[:, cols_order]"
   ]
  },
  {
   "cell_type": "code",
   "execution_count": null,
   "id": "d657077c-d488-4941-9486-7fdd0d5d4e54",
   "metadata": {},
   "outputs": [],
   "source": [
    "stats.columns[:5]"
   ]
  },
  {
   "cell_type": "markdown",
   "id": "371b62a9-3383-44d1-8c88-4867847ad21e",
   "metadata": {},
   "source": [
    "### Striking/wrestling dominance (This needs to be rewritten, normalized)"
   ]
  },
  {
   "cell_type": "markdown",
   "id": "02721d45-93a0-43ee-b765-7e8e06484aaa",
   "metadata": {},
   "source": [
    "Let's engineer some additional features:\n",
    "1. `Striking dominance` - a fighter's overall striking performance. Calculated as: `KD` + `Significant strikes %` + `Total landed strikes %`\n",
    "2. `Wrestling dominance` - a fighter's overall wrestling performance. Calculated as: `TD %` + `Submission attempts` + `reversals`"
   ]
  },
  {
   "cell_type": "markdown",
   "id": "98b38acd-7c61-4500-a095-5a8aaa6623ec",
   "metadata": {},
   "source": [
    "##### Striking dominance:"
   ]
  },
  {
   "cell_type": "code",
   "execution_count": null,
   "id": "4730882a-0f92-45a9-b7d6-dcb0f7de214d",
   "metadata": {},
   "outputs": [],
   "source": [
    "\"\"\"stats[\"winner_striking_dominance\"] = (\n",
    "    stats[\"winner_KD\"] + stats[\"winner_sig_str_pct\"] + stats[\"winner_total_str_pct\"]\n",
    ")\n",
    "stats[\"loser_striking_dominance\"] = (\n",
    "    stats[\"loser_KD\"] + stats[\"loser_sig_str_pct\"] + stats[\"loser_total_str_pct\"]\n",
    ")\"\"\""
   ]
  },
  {
   "cell_type": "markdown",
   "id": "18c4f164-fc9f-42b0-b38c-41456f027a1e",
   "metadata": {},
   "source": [
    "##### Wrestling dominance:"
   ]
  },
  {
   "cell_type": "code",
   "execution_count": null,
   "id": "52c89c0c-793d-484f-995c-1becde5c837e",
   "metadata": {},
   "outputs": [],
   "source": [
    "\"\"\"stats[\"winner_wrestling_dominance\"] = (\n",
    "    stats[\"winner_TD_pct\"] + stats[\"winner_sub_att\"] + stats[\"winner_rev\"]\n",
    ")\n",
    "stats[\"loser_wrestling_dominance\"] = (\n",
    "    stats[\"loser_TD_pct\"] + stats[\"loser_sub_att\"] + stats[\"loser_rev\"]\n",
    ")\"\"\""
   ]
  },
  {
   "cell_type": "markdown",
   "id": "87efab5f-5a48-43c2-8852-acade79afb69",
   "metadata": {},
   "source": [
    "Result:"
   ]
  },
  {
   "cell_type": "code",
   "execution_count": null,
   "id": "4098cbbd-27f6-4649-88bb-c565784b04db",
   "metadata": {},
   "outputs": [],
   "source": [
    "\"\"\"stats.iloc[:3, -4:]\"\"\""
   ]
  },
  {
   "cell_type": "markdown",
   "id": "e0361237-66cd-4bff-a2ed-108744caa5c9",
   "metadata": {},
   "source": [
    "### Delta"
   ]
  },
  {
   "cell_type": "markdown",
   "id": "35858e01-5b2b-451e-b533-862a72f3bb87",
   "metadata": {},
   "source": [
    "Let's now decrease the amount of features by half. We're going to use *delta* for this. For example, instead of having both `winner_striking_dominance` and `loser_striking_dominance` features, we're going to just have `delta_striking_dominance`. Which would just be `winner_striking_dominance` - `loser_striking_dominance`. Where a positive value would mean that the winner has a higher striking dominance factor and vice versa for negative."
   ]
  },
  {
   "cell_type": "code",
   "execution_count": null,
   "id": "93caa6f5-5482-4396-83d2-7d38bcbb8105",
   "metadata": {},
   "outputs": [],
   "source": [
    "def deltafy_data(df):\n",
    "    \"\"\"Filters what columns to process,\n",
    "    creates new columns, instead of winner/loser makes delta.\n",
    "    Merges the new delta columns to the df, and drops the previous winner/loser processed columns.\n",
    "    \"\"\"\n",
    "\n",
    "    df = df.copy()\n",
    "    cols_to_drop = []\n",
    "\n",
    "    # Get the columns that are numerical and have winner/loser counterparts\n",
    "    delta_cols = {}\n",
    "\n",
    "    for col in df.columns:\n",
    "        if col.startswith(\"winner_\"):\n",
    "            base = col.removeprefix(\"winner_\")\n",
    "            winner_col = f\"winner_{base}\"\n",
    "            loser_col = f\"loser_{base}\"\n",
    "\n",
    "            # If loser counterpart also exists, calculate delta\n",
    "            if loser_col in df.columns and df[col].dtype in (float, int):\n",
    "                delta_cols[f\"delta_{base}\"] = np.round(\n",
    "                    df[winner_col] - df[loser_col], 2\n",
    "                )\n",
    "\n",
    "                cols_to_drop.extend([winner_col, loser_col])\n",
    "\n",
    "    # Delta df\n",
    "    delta_df = pd.DataFrame(delta_cols)\n",
    "\n",
    "    # Concat to the original one\n",
    "    df = pd.concat([df, delta_df], axis=1)\n",
    "\n",
    "    # Drop the winner/loser columns to keep only delta\n",
    "    df.drop(columns=cols_to_drop, inplace=True)\n",
    "    return df"
   ]
  },
  {
   "cell_type": "code",
   "execution_count": null,
   "id": "40af51d0-cf45-4586-9a97-405c6c72a6e5",
   "metadata": {},
   "outputs": [],
   "source": [
    "stats = deltafy_data(stats)\n",
    "stats.columns"
   ]
  },
  {
   "cell_type": "code",
   "execution_count": null,
   "id": "cbd2d3e3-7431-4cd1-b609-9372251f8dac",
   "metadata": {},
   "outputs": [],
   "source": [
    "stats.head(3)"
   ]
  },
  {
   "cell_type": "markdown",
   "id": "b47d66aa-a31d-4572-ad87-97dee2c5440b",
   "metadata": {},
   "source": [
    "# Saving"
   ]
  },
  {
   "cell_type": "markdown",
   "id": "0fb97d25-e771-4c0e-a9ac-458eeafa3774",
   "metadata": {},
   "source": [
    "Saving preprocessed, cleaned, merged, feature-engineer added, ready for EDA dataset:"
   ]
  },
  {
   "cell_type": "code",
   "execution_count": null,
   "id": "125ca249-f15c-41aa-9023-a643b5124950",
   "metadata": {},
   "outputs": [],
   "source": [
    "stats.to_csv(\"../stats/stats_processed.csv\", sep=\";\", index=False)"
   ]
  }
 ],
 "metadata": {
  "kernelspec": {
   "display_name": "Python 3 (ipykernel)",
   "language": "python",
   "name": "python3"
  },
  "language_info": {
   "codemirror_mode": {
    "name": "ipython",
    "version": 3
   },
   "file_extension": ".py",
   "mimetype": "text/x-python",
   "name": "python",
   "nbconvert_exporter": "python",
   "pygments_lexer": "ipython3",
   "version": "3.12.2"
  }
 },
 "nbformat": 4,
 "nbformat_minor": 5
}
