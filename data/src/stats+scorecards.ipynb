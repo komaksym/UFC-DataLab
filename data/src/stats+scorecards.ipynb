{
 "cells": [
  {
   "cell_type": "code",
   "execution_count": 1,
   "metadata": {
    "_cell_guid": "b1076dfc-b9ad-4769-8c92-a6c4dae69d19",
    "_uuid": "8f2839f25d086af736a60e9eeb907d3b93b6e0e5"
   },
   "outputs": [],
   "source": [
    "import numpy as np  # linear algebra\n",
    "import pandas as pd  # data processing, CSV file I/O (e.g. pd.read_csv)"
   ]
  },
  {
   "cell_type": "markdown",
   "metadata": {},
   "source": [
    "# Data preprocessing"
   ]
  },
  {
   "cell_type": "markdown",
   "metadata": {},
   "source": [
    "## Reading stats & scorecards **.csv**s"
   ]
  },
  {
   "cell_type": "code",
   "execution_count": 2,
   "metadata": {},
   "outputs": [
    {
     "data": {
      "text/html": [
       "<div>\n",
       "<style scoped>\n",
       "    .dataframe tbody tr th:only-of-type {\n",
       "        vertical-align: middle;\n",
       "    }\n",
       "\n",
       "    .dataframe tbody tr th {\n",
       "        vertical-align: top;\n",
       "    }\n",
       "\n",
       "    .dataframe thead th {\n",
       "        text-align: right;\n",
       "    }\n",
       "</style>\n",
       "<table border=\"1\" class=\"dataframe\">\n",
       "  <thead>\n",
       "    <tr style=\"text-align: right;\">\n",
       "      <th></th>\n",
       "      <th>red_fighter_name</th>\n",
       "      <th>blue_fighter_name</th>\n",
       "      <th>event_date</th>\n",
       "      <th>red_fighter_total_pts</th>\n",
       "      <th>blue_fighter_total_pts</th>\n",
       "    </tr>\n",
       "  </thead>\n",
       "  <tbody>\n",
       "    <tr>\n",
       "      <th>0</th>\n",
       "      <td>POLIANA BOTELHO</td>\n",
       "      <td>LUANA CAROLINA</td>\n",
       "      <td>01/05/2021</td>\n",
       "      <td>29 28 28</td>\n",
       "      <td>28 29 29</td>\n",
       "    </tr>\n",
       "    <tr>\n",
       "      <th>1</th>\n",
       "      <td>KAI KAMAKA</td>\n",
       "      <td>TJ BROWN</td>\n",
       "      <td>01/05/2021</td>\n",
       "      <td>28 28 30</td>\n",
       "      <td>29 29 27</td>\n",
       "    </tr>\n",
       "    <tr>\n",
       "      <th>2</th>\n",
       "      <td>MERAB DVALISHVILI</td>\n",
       "      <td>CODY STAMANN</td>\n",
       "      <td>01/05/2021</td>\n",
       "      <td>30 29 29</td>\n",
       "      <td>27 28 28</td>\n",
       "    </tr>\n",
       "  </tbody>\n",
       "</table>\n",
       "</div>"
      ],
      "text/plain": [
       "    red_fighter_name blue_fighter_name  event_date red_fighter_total_pts  \\\n",
       "0    POLIANA BOTELHO    LUANA CAROLINA  01/05/2021              29 28 28   \n",
       "1         KAI KAMAKA          TJ BROWN  01/05/2021              28 28 30   \n",
       "2  MERAB DVALISHVILI      CODY STAMANN  01/05/2021              30 29 29   \n",
       "\n",
       "  blue_fighter_total_pts  \n",
       "0               28 29 29  \n",
       "1               29 29 27  \n",
       "2               27 28 28  "
      ]
     },
     "execution_count": 2,
     "metadata": {},
     "output_type": "execute_result"
    }
   ],
   "source": [
    "scorecards = pd.read_csv(\"../scorecards/OCR_parsed_scorecards/scorecards.csv\", sep=\";\")\n",
    "stats = pd.read_csv(\"../stats/stats_raw.csv\", sep=\";\")\n",
    "\n",
    "scorecards.head(3)"
   ]
  },
  {
   "cell_type": "code",
   "execution_count": 3,
   "metadata": {},
   "outputs": [
    {
     "data": {
      "text/html": [
       "<div>\n",
       "<style scoped>\n",
       "    .dataframe tbody tr th:only-of-type {\n",
       "        vertical-align: middle;\n",
       "    }\n",
       "\n",
       "    .dataframe tbody tr th {\n",
       "        vertical-align: top;\n",
       "    }\n",
       "\n",
       "    .dataframe thead th {\n",
       "        text-align: right;\n",
       "    }\n",
       "</style>\n",
       "<table border=\"1\" class=\"dataframe\">\n",
       "  <thead>\n",
       "    <tr style=\"text-align: right;\">\n",
       "      <th></th>\n",
       "      <th>red_fighter_name</th>\n",
       "      <th>blue_fighter_name</th>\n",
       "      <th>event_date</th>\n",
       "      <th>red_fighter_nickname</th>\n",
       "      <th>blue_fighter_nickname</th>\n",
       "      <th>red_fighter_result</th>\n",
       "      <th>blue_fighter_result</th>\n",
       "      <th>method</th>\n",
       "      <th>round</th>\n",
       "      <th>time</th>\n",
       "      <th>...</th>\n",
       "      <th>red_fighter_sig_str_body_pct</th>\n",
       "      <th>blue_fighter_sig_str_body_pct</th>\n",
       "      <th>red_fighter_sig_str_leg_pct</th>\n",
       "      <th>blue_fighter_sig_str_leg_pct</th>\n",
       "      <th>red_fighter_sig_str_distance_pct</th>\n",
       "      <th>blue_fighter_sig_str_distance_pct</th>\n",
       "      <th>red_fighter_sig_str_clinch_pct</th>\n",
       "      <th>blue_fighter_sig_str_clinch_pct</th>\n",
       "      <th>red_fighter_sig_str_ground_pct</th>\n",
       "      <th>blue_fighter_sig_str_ground_pct</th>\n",
       "    </tr>\n",
       "  </thead>\n",
       "  <tbody>\n",
       "    <tr>\n",
       "      <th>0</th>\n",
       "      <td>ILIA TOPURIA</td>\n",
       "      <td>MAX HOLLOWAY</td>\n",
       "      <td>26/10/2024</td>\n",
       "      <td>El Matador</td>\n",
       "      <td>Blessed</td>\n",
       "      <td>W</td>\n",
       "      <td>L</td>\n",
       "      <td>KO/TKO</td>\n",
       "      <td>3</td>\n",
       "      <td>1:34</td>\n",
       "      <td>...</td>\n",
       "      <td>14</td>\n",
       "      <td>16</td>\n",
       "      <td>20</td>\n",
       "      <td>24</td>\n",
       "      <td>94</td>\n",
       "      <td>100</td>\n",
       "      <td>0</td>\n",
       "      <td>0</td>\n",
       "      <td>5</td>\n",
       "      <td>0</td>\n",
       "    </tr>\n",
       "    <tr>\n",
       "      <th>1</th>\n",
       "      <td>ROBERT WHITTAKER</td>\n",
       "      <td>KHAMZAT CHIMAEV</td>\n",
       "      <td>26/10/2024</td>\n",
       "      <td>The Reaper</td>\n",
       "      <td>Borz</td>\n",
       "      <td>L</td>\n",
       "      <td>W</td>\n",
       "      <td>Submission</td>\n",
       "      <td>1</td>\n",
       "      <td>3:34</td>\n",
       "      <td>...</td>\n",
       "      <td>0</td>\n",
       "      <td>33</td>\n",
       "      <td>100</td>\n",
       "      <td>0</td>\n",
       "      <td>100</td>\n",
       "      <td>0</td>\n",
       "      <td>0</td>\n",
       "      <td>0</td>\n",
       "      <td>0</td>\n",
       "      <td>100</td>\n",
       "    </tr>\n",
       "    <tr>\n",
       "      <th>2</th>\n",
       "      <td>MAGOMED ANKALAEV</td>\n",
       "      <td>ALEKSANDAR RAKIC</td>\n",
       "      <td>26/10/2024</td>\n",
       "      <td>-</td>\n",
       "      <td>Rocket</td>\n",
       "      <td>W</td>\n",
       "      <td>L</td>\n",
       "      <td>Decision - Unanimous</td>\n",
       "      <td>3</td>\n",
       "      <td>5:00</td>\n",
       "      <td>...</td>\n",
       "      <td>40</td>\n",
       "      <td>16</td>\n",
       "      <td>23</td>\n",
       "      <td>64</td>\n",
       "      <td>90</td>\n",
       "      <td>94</td>\n",
       "      <td>9</td>\n",
       "      <td>5</td>\n",
       "      <td>0</td>\n",
       "      <td>0</td>\n",
       "    </tr>\n",
       "  </tbody>\n",
       "</table>\n",
       "<p>3 rows × 59 columns</p>\n",
       "</div>"
      ],
      "text/plain": [
       "   red_fighter_name blue_fighter_name  event_date red_fighter_nickname  \\\n",
       "0      ILIA TOPURIA      MAX HOLLOWAY  26/10/2024           El Matador   \n",
       "1  ROBERT WHITTAKER   KHAMZAT CHIMAEV  26/10/2024           The Reaper   \n",
       "2  MAGOMED ANKALAEV  ALEKSANDAR RAKIC  26/10/2024                    -   \n",
       "\n",
       "  blue_fighter_nickname red_fighter_result blue_fighter_result  \\\n",
       "0               Blessed                  W                   L   \n",
       "1                  Borz                  L                   W   \n",
       "2                Rocket                  W                   L   \n",
       "\n",
       "                 method  round  time  ... red_fighter_sig_str_body_pct  \\\n",
       "0                KO/TKO      3  1:34  ...                           14   \n",
       "1            Submission      1  3:34  ...                            0   \n",
       "2  Decision - Unanimous      3  5:00  ...                           40   \n",
       "\n",
       "  blue_fighter_sig_str_body_pct red_fighter_sig_str_leg_pct  \\\n",
       "0                            16                          20   \n",
       "1                            33                         100   \n",
       "2                            16                          23   \n",
       "\n",
       "  blue_fighter_sig_str_leg_pct red_fighter_sig_str_distance_pct  \\\n",
       "0                           24                               94   \n",
       "1                            0                              100   \n",
       "2                           64                               90   \n",
       "\n",
       "  blue_fighter_sig_str_distance_pct red_fighter_sig_str_clinch_pct  \\\n",
       "0                               100                              0   \n",
       "1                                 0                              0   \n",
       "2                                94                              9   \n",
       "\n",
       "  blue_fighter_sig_str_clinch_pct red_fighter_sig_str_ground_pct  \\\n",
       "0                               0                              5   \n",
       "1                               0                              0   \n",
       "2                               5                              0   \n",
       "\n",
       "  blue_fighter_sig_str_ground_pct  \n",
       "0                               0  \n",
       "1                             100  \n",
       "2                               0  \n",
       "\n",
       "[3 rows x 59 columns]"
      ]
     },
     "execution_count": 3,
     "metadata": {},
     "output_type": "execute_result"
    }
   ],
   "source": [
    "stats.head(3)"
   ]
  },
  {
   "cell_type": "markdown",
   "metadata": {},
   "source": [
    "## Converting American date format into European date format"
   ]
  },
  {
   "cell_type": "code",
   "execution_count": 4,
   "metadata": {},
   "outputs": [],
   "source": [
    "def date_month_swap(date):\n",
    "    month, day, year = date.split(\"/\")\n",
    "    return f\"{day}/{month}/{year}\"\n",
    "\n",
    "\n",
    "# Uncommenting because this was already applied to the dataset\n",
    "# scorecards['event_date'] = scorecards['event_date'].apply(lambda x: date_month_swap(x))"
   ]
  },
  {
   "cell_type": "markdown",
   "metadata": {},
   "source": [
    "## Converting alphabetical month to numerical"
   ]
  },
  {
   "cell_type": "code",
   "execution_count": 5,
   "metadata": {},
   "outputs": [],
   "source": [
    "months = {\n",
    "    \"January\": \"01\",\n",
    "    \"February\": \"02\",\n",
    "    \"March\": \"03\",\n",
    "    \"April\": \"04\",\n",
    "    \"May\": \"05\",\n",
    "    \"June\": \"06\",\n",
    "    \"July\": \"07\",\n",
    "    \"August\": \"08\",\n",
    "    \"September\": \"09\",\n",
    "    \"October\": \"10\",\n",
    "    \"November\": \"11\",\n",
    "    \"December\": \"12\",\n",
    "}\n",
    "\n",
    "\n",
    "def convert_month_to_numerical(date):\n",
    "    month, day, year = date.replace(\",\", \"\").split()\n",
    "    return f\"{day}/{months[month]}/{year}\"\n",
    "\n",
    "\n",
    "# Uncommenting because this was already applied to the dataset\n",
    "# stats['event_date'] = stats['event_date'].apply(lambda x: convert_month_to_numerical(x))"
   ]
  },
  {
   "cell_type": "markdown",
   "metadata": {},
   "source": [
    "## Converting months and dates from `m/d` to `mm/dd` format"
   ]
  },
  {
   "cell_type": "code",
   "execution_count": 6,
   "metadata": {},
   "outputs": [],
   "source": [
    "def month_conversion(date):\n",
    "    date = date.replace(\" \", \"\")\n",
    "    day, month, year = date.split(\"/\")\n",
    "\n",
    "    if int(day) < 10 and not day.startswith(\"0\"):\n",
    "        day = f\"0{day}\"\n",
    "    if int(month) < 10 and not month.startswith(\"0\"):\n",
    "        month = f\"0{month}\"\n",
    "\n",
    "    return f\"{day}/{month}/{year}\"\n",
    "\n",
    "\n",
    "# Uncommenting because this was already applied to the dataset\n",
    "# scorecards['event_date'] = scorecards['event_date'].apply(lambda x: month_conversion(x))\n",
    "# stats['event_date'] = stats['event_date'].apply(lambda x: month_conversion(x))"
   ]
  },
  {
   "cell_type": "code",
   "execution_count": 7,
   "metadata": {},
   "outputs": [
    {
     "data": {
      "text/plain": [
       "1043    14/11/2020\n",
       "1044    14/11/2020\n",
       "1045    14/11/2020\n",
       "1046    14/11/2020\n",
       "1047    14/11/2020\n",
       "1048    14/11/2020\n",
       "1049    14/11/2020\n",
       "Name: event_date, dtype: object"
      ]
     },
     "execution_count": 7,
     "metadata": {},
     "output_type": "execute_result"
    }
   ],
   "source": [
    "scorecards[\"event_date\"][1043:1050]"
   ]
  },
  {
   "cell_type": "markdown",
   "metadata": {},
   "source": [
    "# Merging"
   ]
  },
  {
   "cell_type": "code",
   "execution_count": 8,
   "metadata": {},
   "outputs": [],
   "source": [
    "merged_stats_scorecards = pd.merge(\n",
    "    stats,\n",
    "    scorecards,\n",
    "    how=\"left\",\n",
    "    on=[\"red_fighter_name\", \"blue_fighter_name\", \"event_date\"],\n",
    ")\n",
    "merged_stats_scorecards.to_csv(\"merged_stats_n_scorecards.csv\", index=False)"
   ]
  }
 ],
 "metadata": {
  "kaggle": {
   "accelerator": "none",
   "dataSources": [
    {
     "datasetId": 6104588,
     "sourceId": 9955519,
     "sourceType": "datasetVersion"
    },
    {
     "datasetId": 6107020,
     "sourceId": 9955509,
     "sourceType": "datasetVersion"
    }
   ],
   "dockerImageVersionId": 30786,
   "isGpuEnabled": false,
   "isInternetEnabled": true,
   "language": "python",
   "sourceType": "notebook"
  },
  "kernelspec": {
   "display_name": "Python 3 (ipykernel)",
   "language": "python",
   "name": "python3"
  },
  "language_info": {
   "codemirror_mode": {
    "name": "ipython",
    "version": 3
   },
   "file_extension": ".py",
   "mimetype": "text/x-python",
   "name": "python",
   "nbconvert_exporter": "python",
   "pygments_lexer": "ipython3",
   "version": "3.12.2"
  }
 },
 "nbformat": 4,
 "nbformat_minor": 4
}
