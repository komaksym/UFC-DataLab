{
 "cells": [
  {
   "cell_type": "code",
   "execution_count": 55,
   "id": "1fb5a3ac-993f-49b9-a4d8-7e3520c4b1fd",
   "metadata": {},
   "outputs": [],
   "source": [
    "import re\n",
    "import numpy as np\n",
    "import pandas as pd"
   ]
  },
  {
   "cell_type": "markdown",
   "id": "42efb423-b665-43c8-8560-6669cc44e520",
   "metadata": {},
   "source": [
    "# Load our fight-based dataset"
   ]
  },
  {
   "cell_type": "code",
   "execution_count": 56,
   "id": "cececaf4-1ab3-4bd7-9cba-0628e99d0cac",
   "metadata": {
    "panel-layout": {
     "height": 516.5,
     "visible": true,
     "width": 100
    },
    "scrolled": true
   },
   "outputs": [
    {
     "data": {
      "text/html": [
       "<div>\n",
       "<style scoped>\n",
       "    .dataframe tbody tr th:only-of-type {\n",
       "        vertical-align: middle;\n",
       "    }\n",
       "\n",
       "    .dataframe tbody tr th {\n",
       "        vertical-align: top;\n",
       "    }\n",
       "\n",
       "    .dataframe thead th {\n",
       "        text-align: right;\n",
       "    }\n",
       "</style>\n",
       "<table border=\"1\" class=\"dataframe\">\n",
       "  <thead>\n",
       "    <tr style=\"text-align: right;\">\n",
       "      <th></th>\n",
       "      <th>red_fighter_name</th>\n",
       "      <th>blue_fighter_name</th>\n",
       "      <th>event_date</th>\n",
       "      <th>red_fighter_nickname</th>\n",
       "      <th>blue_fighter_nickname</th>\n",
       "      <th>red_fighter_result</th>\n",
       "      <th>blue_fighter_result</th>\n",
       "      <th>method</th>\n",
       "      <th>round</th>\n",
       "      <th>time</th>\n",
       "      <th>...</th>\n",
       "      <th>red_fighter_sig_str_body_pct</th>\n",
       "      <th>blue_fighter_sig_str_body_pct</th>\n",
       "      <th>red_fighter_sig_str_leg_pct</th>\n",
       "      <th>blue_fighter_sig_str_leg_pct</th>\n",
       "      <th>red_fighter_sig_str_distance_pct</th>\n",
       "      <th>blue_fighter_sig_str_distance_pct</th>\n",
       "      <th>red_fighter_sig_str_clinch_pct</th>\n",
       "      <th>blue_fighter_sig_str_clinch_pct</th>\n",
       "      <th>red_fighter_sig_str_ground_pct</th>\n",
       "      <th>blue_fighter_sig_str_ground_pct</th>\n",
       "    </tr>\n",
       "  </thead>\n",
       "  <tbody>\n",
       "    <tr>\n",
       "      <th>7749</th>\n",
       "      <td>ORLANDO WIET</td>\n",
       "      <td>ROBERT LUCARELLI</td>\n",
       "      <td>11/03/1994</td>\n",
       "      <td>The Gladiator</td>\n",
       "      <td>-</td>\n",
       "      <td>W</td>\n",
       "      <td>L</td>\n",
       "      <td>KO/TKO</td>\n",
       "      <td>1</td>\n",
       "      <td>2:50</td>\n",
       "      <td>...</td>\n",
       "      <td>12</td>\n",
       "      <td>0</td>\n",
       "      <td>0</td>\n",
       "      <td>50</td>\n",
       "      <td>12</td>\n",
       "      <td>100</td>\n",
       "      <td>0</td>\n",
       "      <td>0</td>\n",
       "      <td>87</td>\n",
       "      <td>0</td>\n",
       "    </tr>\n",
       "    <tr>\n",
       "      <th>7750</th>\n",
       "      <td>FRANK HAMAKER</td>\n",
       "      <td>THADDEUS LUSTER</td>\n",
       "      <td>11/03/1994</td>\n",
       "      <td>-</td>\n",
       "      <td>-</td>\n",
       "      <td>W</td>\n",
       "      <td>L</td>\n",
       "      <td>Submission</td>\n",
       "      <td>1</td>\n",
       "      <td>4:52</td>\n",
       "      <td>...</td>\n",
       "      <td>0</td>\n",
       "      <td>0</td>\n",
       "      <td>0</td>\n",
       "      <td>0</td>\n",
       "      <td>50</td>\n",
       "      <td>0</td>\n",
       "      <td>0</td>\n",
       "      <td>0</td>\n",
       "      <td>50</td>\n",
       "      <td>0</td>\n",
       "    </tr>\n",
       "    <tr>\n",
       "      <th>7751</th>\n",
       "      <td>JOHNNY RHODES</td>\n",
       "      <td>DAVID LEVICKI</td>\n",
       "      <td>11/03/1994</td>\n",
       "      <td>-</td>\n",
       "      <td>-</td>\n",
       "      <td>W</td>\n",
       "      <td>L</td>\n",
       "      <td>KO/TKO</td>\n",
       "      <td>1</td>\n",
       "      <td>12:13</td>\n",
       "      <td>...</td>\n",
       "      <td>9</td>\n",
       "      <td>0</td>\n",
       "      <td>9</td>\n",
       "      <td>0</td>\n",
       "      <td>9</td>\n",
       "      <td>25</td>\n",
       "      <td>9</td>\n",
       "      <td>50</td>\n",
       "      <td>81</td>\n",
       "      <td>25</td>\n",
       "    </tr>\n",
       "    <tr>\n",
       "      <th>7752</th>\n",
       "      <td>PATRICK SMITH</td>\n",
       "      <td>RAY WIZARD</td>\n",
       "      <td>11/03/1994</td>\n",
       "      <td>-</td>\n",
       "      <td>-</td>\n",
       "      <td>W</td>\n",
       "      <td>L</td>\n",
       "      <td>Submission</td>\n",
       "      <td>1</td>\n",
       "      <td>0:58</td>\n",
       "      <td>...</td>\n",
       "      <td>100</td>\n",
       "      <td>0</td>\n",
       "      <td>0</td>\n",
       "      <td>100</td>\n",
       "      <td>0</td>\n",
       "      <td>100</td>\n",
       "      <td>100</td>\n",
       "      <td>0</td>\n",
       "      <td>0</td>\n",
       "      <td>0</td>\n",
       "    </tr>\n",
       "    <tr>\n",
       "      <th>7753</th>\n",
       "      <td>SCOTT MORRIS</td>\n",
       "      <td>SEAN DAUGHERTY</td>\n",
       "      <td>11/03/1994</td>\n",
       "      <td>-</td>\n",
       "      <td>-</td>\n",
       "      <td>W</td>\n",
       "      <td>L</td>\n",
       "      <td>Submission</td>\n",
       "      <td>1</td>\n",
       "      <td>0:20</td>\n",
       "      <td>...</td>\n",
       "      <td>0</td>\n",
       "      <td>0</td>\n",
       "      <td>0</td>\n",
       "      <td>0</td>\n",
       "      <td>0</td>\n",
       "      <td>0</td>\n",
       "      <td>100</td>\n",
       "      <td>0</td>\n",
       "      <td>0</td>\n",
       "      <td>0</td>\n",
       "    </tr>\n",
       "  </tbody>\n",
       "</table>\n",
       "<p>5 rows × 59 columns</p>\n",
       "</div>"
      ],
      "text/plain": [
       "     red_fighter_name blue_fighter_name  event_date red_fighter_nickname  \\\n",
       "7749     ORLANDO WIET  ROBERT LUCARELLI  11/03/1994        The Gladiator   \n",
       "7750    FRANK HAMAKER   THADDEUS LUSTER  11/03/1994                    -   \n",
       "7751    JOHNNY RHODES     DAVID LEVICKI  11/03/1994                    -   \n",
       "7752    PATRICK SMITH        RAY WIZARD  11/03/1994                    -   \n",
       "7753     SCOTT MORRIS    SEAN DAUGHERTY  11/03/1994                    -   \n",
       "\n",
       "     blue_fighter_nickname red_fighter_result blue_fighter_result      method  \\\n",
       "7749                     -                  W                   L      KO/TKO   \n",
       "7750                     -                  W                   L  Submission   \n",
       "7751                     -                  W                   L      KO/TKO   \n",
       "7752                     -                  W                   L  Submission   \n",
       "7753                     -                  W                   L  Submission   \n",
       "\n",
       "      round   time  ... red_fighter_sig_str_body_pct  \\\n",
       "7749      1   2:50  ...                           12   \n",
       "7750      1   4:52  ...                            0   \n",
       "7751      1  12:13  ...                            9   \n",
       "7752      1   0:58  ...                          100   \n",
       "7753      1   0:20  ...                            0   \n",
       "\n",
       "     blue_fighter_sig_str_body_pct red_fighter_sig_str_leg_pct  \\\n",
       "7749                             0                           0   \n",
       "7750                             0                           0   \n",
       "7751                             0                           9   \n",
       "7752                             0                           0   \n",
       "7753                             0                           0   \n",
       "\n",
       "     blue_fighter_sig_str_leg_pct red_fighter_sig_str_distance_pct  \\\n",
       "7749                           50                               12   \n",
       "7750                            0                               50   \n",
       "7751                            0                                9   \n",
       "7752                          100                                0   \n",
       "7753                            0                                0   \n",
       "\n",
       "     blue_fighter_sig_str_distance_pct red_fighter_sig_str_clinch_pct  \\\n",
       "7749                               100                              0   \n",
       "7750                                 0                              0   \n",
       "7751                                25                              9   \n",
       "7752                               100                            100   \n",
       "7753                                 0                            100   \n",
       "\n",
       "     blue_fighter_sig_str_clinch_pct red_fighter_sig_str_ground_pct  \\\n",
       "7749                               0                             87   \n",
       "7750                               0                             50   \n",
       "7751                              50                             81   \n",
       "7752                               0                              0   \n",
       "7753                               0                              0   \n",
       "\n",
       "     blue_fighter_sig_str_ground_pct  \n",
       "7749                               0  \n",
       "7750                               0  \n",
       "7751                              25  \n",
       "7752                               0  \n",
       "7753                               0  \n",
       "\n",
       "[5 rows x 59 columns]"
      ]
     },
     "execution_count": 56,
     "metadata": {},
     "output_type": "execute_result"
    }
   ],
   "source": [
    "fights_stats = pd.read_csv(\"../stats/stats.csv\", sep=';')\n",
    "fights_stats.tail()"
   ]
  },
  {
   "cell_type": "code",
   "execution_count": 57,
   "id": "678c1cf9-f7c7-4573-ab39-8d7f84126933",
   "metadata": {},
   "outputs": [
    {
     "data": {
      "text/plain": [
       "Index(['red_fighter_name', 'blue_fighter_name', 'event_date',\n",
       "       'red_fighter_nickname', 'blue_fighter_nickname', 'red_fighter_result',\n",
       "       'blue_fighter_result', 'method', 'round', 'time', 'time_format',\n",
       "       'referee', 'details', 'bout_type', 'bonus', 'event_name',\n",
       "       'event_location', 'red_fighter_KD', 'blue_fighter_KD',\n",
       "       'red_fighter_sig_str', 'blue_fighter_sig_str',\n",
       "       'red_fighter_sig_str_pct', 'blue_fighter_sig_str_pct',\n",
       "       'red_fighter_total_str', 'blue_fighter_total_str', 'red_fighter_TD',\n",
       "       'blue_fighter_TD', 'red_fighter_TD_pct', 'blue_fighter_TD_pct',\n",
       "       'red_fighter_sub_att', 'blue_fighter_sub_att', 'red_fighter_rev',\n",
       "       'blue_fighter_rev', 'red_fighter_ctrl', 'blue_fighter_ctrl',\n",
       "       'red_fighter_sig_str_head', 'blue_fighter_sig_str_head',\n",
       "       'red_fighter_sig_str_body', 'blue_fighter_sig_str_body',\n",
       "       'red_fighter_sig_str_leg', 'blue_fighter_sig_str_leg',\n",
       "       'red_fighter_sig_str_distance', 'blue_fighter_sig_str_distance',\n",
       "       'red_fighter_sig_str_clinch', 'blue_fighter_sig_str_clinch',\n",
       "       'red_fighter_sig_str_ground', 'blue_fighter_sig_str_ground',\n",
       "       'red_fighter_sig_str_head_pct', 'blue_fighter_sig_str_head_pct',\n",
       "       'red_fighter_sig_str_body_pct', 'blue_fighter_sig_str_body_pct',\n",
       "       'red_fighter_sig_str_leg_pct', 'blue_fighter_sig_str_leg_pct',\n",
       "       'red_fighter_sig_str_distance_pct', 'blue_fighter_sig_str_distance_pct',\n",
       "       'red_fighter_sig_str_clinch_pct', 'blue_fighter_sig_str_clinch_pct',\n",
       "       'red_fighter_sig_str_ground_pct', 'blue_fighter_sig_str_ground_pct'],\n",
       "      dtype='object')"
      ]
     },
     "execution_count": 57,
     "metadata": {},
     "output_type": "execute_result"
    }
   ],
   "source": [
    "fights_stats.columns"
   ]
  },
  {
   "cell_type": "markdown",
   "id": "b9d12fbb-70d7-4d49-928c-9858426b7fd7",
   "metadata": {},
   "source": [
    "## Drop redundant features"
   ]
  },
  {
   "cell_type": "markdown",
   "id": "fc0ab155-00cb-4794-8076-c4d664905761",
   "metadata": {},
   "source": [
    "Let's drop some features that are redundant and have no value for us here, for example: <br>\n",
    "> `x_fighter_sig_str`, where we already have `x_fighter_sig_str_pct`. Where the prior takes the `75 of 144` form, and the latter takes the percentage version of the same value = `52%`. The latter is already scaled, and will be easier to work with."
   ]
  },
  {
   "cell_type": "code",
   "execution_count": 58,
   "id": "a5f937ed-e890-498d-9328-c267cf3824c4",
   "metadata": {},
   "outputs": [
    {
     "data": {
      "text/html": [
       "<div>\n",
       "<style scoped>\n",
       "    .dataframe tbody tr th:only-of-type {\n",
       "        vertical-align: middle;\n",
       "    }\n",
       "\n",
       "    .dataframe tbody tr th {\n",
       "        vertical-align: top;\n",
       "    }\n",
       "\n",
       "    .dataframe thead th {\n",
       "        text-align: right;\n",
       "    }\n",
       "</style>\n",
       "<table border=\"1\" class=\"dataframe\">\n",
       "  <thead>\n",
       "    <tr style=\"text-align: right;\">\n",
       "      <th></th>\n",
       "      <th>red_fighter_sig_str</th>\n",
       "      <th>red_fighter_sig_str_pct</th>\n",
       "    </tr>\n",
       "  </thead>\n",
       "  <tbody>\n",
       "    <tr>\n",
       "      <th>0</th>\n",
       "      <td>75 of 144</td>\n",
       "      <td>52</td>\n",
       "    </tr>\n",
       "    <tr>\n",
       "      <th>1</th>\n",
       "      <td>2 of 2</td>\n",
       "      <td>100</td>\n",
       "    </tr>\n",
       "  </tbody>\n",
       "</table>\n",
       "</div>"
      ],
      "text/plain": [
       "  red_fighter_sig_str red_fighter_sig_str_pct\n",
       "0           75 of 144                      52\n",
       "1              2 of 2                     100"
      ]
     },
     "execution_count": 58,
     "metadata": {},
     "output_type": "execute_result"
    }
   ],
   "source": [
    "fights_stats.loc[:1, ['red_fighter_sig_str', 'red_fighter_sig_str_pct']]"
   ]
  },
  {
   "cell_type": "code",
   "execution_count": 59,
   "id": "eee89fb0-93e6-4b7d-9e6c-6caf0e8f68af",
   "metadata": {},
   "outputs": [
    {
     "data": {
      "text/plain": [
       "['red_fighter_sig_str',\n",
       " 'blue_fighter_sig_str',\n",
       " 'red_fighter_TD',\n",
       " 'blue_fighter_TD']"
      ]
     },
     "execution_count": 59,
     "metadata": {},
     "output_type": "execute_result"
    }
   ],
   "source": [
    "redundant_cols = [\"fighter_sig_str\", \"fighter_TD\"]\n",
    "\n",
    "# Init both fighters' corners\n",
    "fighters = ('red_', 'blue_')\n",
    "\n",
    "cols_to_drop = [f\"{fighter}{col}\" for col in redundant_cols for fighter in fighters]\n",
    "cols_to_drop"
   ]
  },
  {
   "cell_type": "markdown",
   "id": "1f0e189a-8821-4ac5-b24e-1999b82595ec",
   "metadata": {},
   "source": [
    "Dropping:"
   ]
  },
  {
   "cell_type": "code",
   "execution_count": 60,
   "id": "85ed6f20-052b-4668-bc97-f371b938729d",
   "metadata": {},
   "outputs": [],
   "source": [
    "fights_stats.drop(columns=cols_to_drop, inplace=True)"
   ]
  },
  {
   "cell_type": "markdown",
   "id": "c12ce192-cbaa-4e42-9a9f-e624bf144656",
   "metadata": {},
   "source": [
    "## Rename columns"
   ]
  },
  {
   "cell_type": "markdown",
   "id": "0d5cb582-c93a-45ad-a9ea-e41050c0e8fd",
   "metadata": {},
   "source": [
    "Let's rename some columns to avoid name conflicts later and to better represent what they mean."
   ]
  },
  {
   "cell_type": "markdown",
   "id": "03c5aad8-d7e7-4a3e-982d-0a3bcdbfab93",
   "metadata": {},
   "source": [
    "Preparing:"
   ]
  },
  {
   "cell_type": "code",
   "execution_count": 61,
   "id": "e53be9cd-2eaf-42c8-bf86-0819f821bd90",
   "metadata": {},
   "outputs": [
    {
     "data": {
      "text/plain": [
       "{'red_fighter_sig_str_head': 'red_fighter_sig_str_head_acc',\n",
       " 'red_fighter_sig_str_body': 'red_fighter_sig_str_body_acc',\n",
       " 'red_fighter_sig_str_leg': 'red_fighter_sig_str_leg_acc',\n",
       " 'red_fighter_sig_str_distance': 'red_fighter_sig_str_distance_acc',\n",
       " 'red_fighter_sig_str_clinch': 'red_fighter_sig_str_clinch_acc',\n",
       " 'red_fighter_sig_str_ground': 'red_fighter_sig_str_ground_acc',\n",
       " 'blue_fighter_sig_str_head': 'blue_fighter_sig_str_head_acc',\n",
       " 'blue_fighter_sig_str_body': 'blue_fighter_sig_str_body_acc',\n",
       " 'blue_fighter_sig_str_leg': 'blue_fighter_sig_str_leg_acc',\n",
       " 'blue_fighter_sig_str_distance': 'blue_fighter_sig_str_distance_acc',\n",
       " 'blue_fighter_sig_str_clinch': 'blue_fighter_sig_str_clinch_acc',\n",
       " 'blue_fighter_sig_str_ground': 'blue_fighter_sig_str_ground_acc',\n",
       " 'red_fighter_sig_str_head_pct': 'red_fighter_sig_str_head_tar_pct',\n",
       " 'red_fighter_sig_str_body_pct': 'red_fighter_sig_str_body_tar_pct',\n",
       " 'red_fighter_sig_str_leg_pct': 'red_fighter_sig_str_leg_tar_pct',\n",
       " 'blue_fighter_sig_str_head_pct': 'blue_fighter_sig_str_head_tar_pct',\n",
       " 'blue_fighter_sig_str_body_pct': 'blue_fighter_sig_str_body_tar_pct',\n",
       " 'blue_fighter_sig_str_leg_pct': 'blue_fighter_sig_str_leg_tar_pct',\n",
       " 'red_fighter_sig_str_distance_pct': 'red_fighter_sig_str_distance_pct',\n",
       " 'red_fighter_sig_str_clinch_pct': 'red_fighter_sig_str_clinch_pct',\n",
       " 'red_fighter_sig_str_ground_pct': 'red_fighter_sig_str_ground_pct',\n",
       " 'blue_fighter_sig_str_distance_pct': 'blue_fighter_sig_str_distance_pct',\n",
       " 'blue_fighter_sig_str_clinch_pct': 'blue_fighter_sig_str_clinch_pct',\n",
       " 'blue_fighter_sig_str_ground_pct': 'blue_fighter_sig_str_ground_pct'}"
      ]
     },
     "execution_count": 61,
     "metadata": {},
     "output_type": "execute_result"
    }
   ],
   "source": [
    "# Specify cols that will be renamed (stripped of 'red_' or 'blue_' prefixes)\n",
    "sig_str_acc_cols = [\n",
    "    'fighter_sig_str_head', 'fighter_sig_str_body',\n",
    "    'fighter_sig_str_leg', 'fighter_sig_str_distance',\n",
    "    'fighter_sig_str_clinch', 'fighter_sig_str_ground'\n",
    "]\n",
    "\n",
    "sig_str_tar_cols = ['fighter_sig_str_head_pct', 'fighter_sig_str_body_pct',\n",
    "                     'fighter_sig_str_leg_pct']\n",
    "\n",
    "sig_str_pos_cols = ['fighter_sig_str_distance_pct', 'fighter_sig_str_clinch_pct',\n",
    "                     'fighter_sig_str_ground_pct']\n",
    "\n",
    "# Init mappings\n",
    "sig_str_acc_mappings = {}\n",
    "sig_str_tar_mappings = {}\n",
    "sig_str_pos_mappings = {}\n",
    "\n",
    "# Init both fighters' corners\n",
    "fighters = ('red_', 'blue_')\n",
    "\n",
    "# Postfixes\n",
    "sig_str_acc_postfix = \"_acc\"\n",
    "sig_str_tar_postfix = \"_tar_pct\"\n",
    "sig_str_pos_postfix = \"_pct\"\n",
    "\n",
    "# Start mapping\n",
    "for fighter in fighters:\n",
    "    # For significant strikes accuracy features\n",
    "    for col in sig_str_acc_cols:\n",
    "        sig_str_acc_mappings[f\"{fighter}{col}\"] = f\"{fighter}{col}{sig_str_acc_postfix}\"\n",
    "\n",
    "    # For significant strikes by target features\n",
    "    for col in sig_str_tar_cols:\n",
    "        # Reposition '_pct' to the end\n",
    "        sig_str_tar_mappings[f\"{fighter}{col}\"] = f\"{fighter}{col.strip(\"_pct\")}{sig_str_tar_postfix}\"\n",
    "\n",
    "    # For significant strikes by position features\n",
    "    for col in sig_str_pos_cols:\n",
    "        # Reposition '_pct' to the end\n",
    "        sig_str_pos_mappings[f\"{fighter}{col}\"] = f\"{fighter}{col.strip(\"_pct\")}{sig_str_pos_postfix}\"\n",
    "\n",
    "# Merge mappings into 1 single dict\n",
    "col_names_mappings = sig_str_acc_mappings | sig_str_tar_mappings | sig_str_pos_mappings\n",
    "col_names_mappings"
   ]
  },
  {
   "cell_type": "markdown",
   "id": "9dfb7d3c-e521-493d-ab28-4291852eca18",
   "metadata": {},
   "source": [
    "Renaming:"
   ]
  },
  {
   "cell_type": "code",
   "execution_count": 62,
   "id": "4dc2d99c-5ccf-4aed-b0aa-68127bab9435",
   "metadata": {},
   "outputs": [
    {
     "data": {
      "text/plain": [
       "Index(['red_fighter_name', 'blue_fighter_name', 'event_date',\n",
       "       'red_fighter_nickname', 'blue_fighter_nickname', 'red_fighter_result',\n",
       "       'blue_fighter_result', 'method', 'round', 'time', 'time_format',\n",
       "       'referee', 'details', 'bout_type', 'bonus', 'event_name',\n",
       "       'event_location', 'red_fighter_KD', 'blue_fighter_KD',\n",
       "       'red_fighter_sig_str_pct', 'blue_fighter_sig_str_pct',\n",
       "       'red_fighter_total_str', 'blue_fighter_total_str', 'red_fighter_TD_pct',\n",
       "       'blue_fighter_TD_pct', 'red_fighter_sub_att', 'blue_fighter_sub_att',\n",
       "       'red_fighter_rev', 'blue_fighter_rev', 'red_fighter_ctrl',\n",
       "       'blue_fighter_ctrl', 'red_fighter_sig_str_head_acc',\n",
       "       'blue_fighter_sig_str_head_acc', 'red_fighter_sig_str_body_acc',\n",
       "       'blue_fighter_sig_str_body_acc', 'red_fighter_sig_str_leg_acc',\n",
       "       'blue_fighter_sig_str_leg_acc', 'red_fighter_sig_str_distance_acc',\n",
       "       'blue_fighter_sig_str_distance_acc', 'red_fighter_sig_str_clinch_acc',\n",
       "       'blue_fighter_sig_str_clinch_acc', 'red_fighter_sig_str_ground_acc',\n",
       "       'blue_fighter_sig_str_ground_acc', 'red_fighter_sig_str_head_tar_pct',\n",
       "       'blue_fighter_sig_str_head_tar_pct', 'red_fighter_sig_str_body_tar_pct',\n",
       "       'blue_fighter_sig_str_body_tar_pct', 'red_fighter_sig_str_leg_tar_pct',\n",
       "       'blue_fighter_sig_str_leg_tar_pct', 'red_fighter_sig_str_distance_pct',\n",
       "       'blue_fighter_sig_str_distance_pct', 'red_fighter_sig_str_clinch_pct',\n",
       "       'blue_fighter_sig_str_clinch_pct', 'red_fighter_sig_str_ground_pct',\n",
       "       'blue_fighter_sig_str_ground_pct'],\n",
       "      dtype='object')"
      ]
     },
     "execution_count": 62,
     "metadata": {},
     "output_type": "execute_result"
    }
   ],
   "source": [
    "fights_stats.rename(columns=col_names_mappings, inplace=True)\n",
    "fights_stats.columns"
   ]
  },
  {
   "cell_type": "markdown",
   "id": "cd9d075c-13cf-4c6b-a02b-6fc762071237",
   "metadata": {},
   "source": [
    "Too long and too many features to look at, we will make the names shorter and make the number of features x2 less. But first, we need to merge some additional features :))"
   ]
  },
  {
   "cell_type": "markdown",
   "id": "1ac9bdbc-63b9-44ee-9c4f-203d57666ef9",
   "metadata": {},
   "source": [
    "# Merge additional athlete-based features"
   ]
  },
  {
   "cell_type": "markdown",
   "id": "8504dbcf-97d9-46fa-b57a-4aa4931a4cda",
   "metadata": {},
   "source": [
    "Let's merge additional athlete-based features from an external dataset like: *Height*, *Reach*, *Stance*"
   ]
  },
  {
   "cell_type": "code",
   "execution_count": 63,
   "id": "60596ece-f84d-4884-bb2a-175cdd3f6dfb",
   "metadata": {},
   "outputs": [
    {
     "data": {
      "text/html": [
       "<div>\n",
       "<style scoped>\n",
       "    .dataframe tbody tr th:only-of-type {\n",
       "        vertical-align: middle;\n",
       "    }\n",
       "\n",
       "    .dataframe tbody tr th {\n",
       "        vertical-align: top;\n",
       "    }\n",
       "\n",
       "    .dataframe thead th {\n",
       "        text-align: right;\n",
       "    }\n",
       "</style>\n",
       "<table border=\"1\" class=\"dataframe\">\n",
       "  <thead>\n",
       "    <tr style=\"text-align: right;\">\n",
       "      <th></th>\n",
       "      <th>fighter_name</th>\n",
       "      <th>Height</th>\n",
       "      <th>Weight</th>\n",
       "      <th>Reach</th>\n",
       "      <th>Stance</th>\n",
       "      <th>DOB</th>\n",
       "      <th>SLpM</th>\n",
       "      <th>Str_Acc</th>\n",
       "      <th>SApM</th>\n",
       "      <th>Str_Def</th>\n",
       "      <th>TD_Avg</th>\n",
       "      <th>TD_Acc</th>\n",
       "      <th>TD_Def</th>\n",
       "      <th>Sub_Avg</th>\n",
       "    </tr>\n",
       "  </thead>\n",
       "  <tbody>\n",
       "    <tr>\n",
       "      <th>3591</th>\n",
       "      <td>Zhang Tiequan</td>\n",
       "      <td>5' 8\"</td>\n",
       "      <td>155 lbs.</td>\n",
       "      <td>69\"</td>\n",
       "      <td>Orthodox</td>\n",
       "      <td>Jul 25, 1978</td>\n",
       "      <td>1.23</td>\n",
       "      <td>36%</td>\n",
       "      <td>2.14</td>\n",
       "      <td>51%</td>\n",
       "      <td>1.95</td>\n",
       "      <td>58%</td>\n",
       "      <td>75%</td>\n",
       "      <td>3.4</td>\n",
       "    </tr>\n",
       "    <tr>\n",
       "      <th>3592</th>\n",
       "      <td>Alex Zuniga</td>\n",
       "      <td>NaN</td>\n",
       "      <td>145 lbs.</td>\n",
       "      <td>NaN</td>\n",
       "      <td>NaN</td>\n",
       "      <td>NaN</td>\n",
       "      <td>0.00</td>\n",
       "      <td>0%</td>\n",
       "      <td>0.00</td>\n",
       "      <td>0%</td>\n",
       "      <td>0.00</td>\n",
       "      <td>0%</td>\n",
       "      <td>0%</td>\n",
       "      <td>0.0</td>\n",
       "    </tr>\n",
       "    <tr>\n",
       "      <th>3593</th>\n",
       "      <td>George Zuniga</td>\n",
       "      <td>5' 9\"</td>\n",
       "      <td>185 lbs.</td>\n",
       "      <td>NaN</td>\n",
       "      <td>NaN</td>\n",
       "      <td>NaN</td>\n",
       "      <td>7.64</td>\n",
       "      <td>38%</td>\n",
       "      <td>5.45</td>\n",
       "      <td>37%</td>\n",
       "      <td>0.00</td>\n",
       "      <td>0%</td>\n",
       "      <td>100%</td>\n",
       "      <td>0.0</td>\n",
       "    </tr>\n",
       "    <tr>\n",
       "      <th>3594</th>\n",
       "      <td>Allan Zuniga</td>\n",
       "      <td>5' 7\"</td>\n",
       "      <td>155 lbs.</td>\n",
       "      <td>70\"</td>\n",
       "      <td>Orthodox</td>\n",
       "      <td>Apr 04, 1992</td>\n",
       "      <td>3.93</td>\n",
       "      <td>52%</td>\n",
       "      <td>1.80</td>\n",
       "      <td>61%</td>\n",
       "      <td>0.00</td>\n",
       "      <td>0%</td>\n",
       "      <td>57%</td>\n",
       "      <td>1.0</td>\n",
       "    </tr>\n",
       "    <tr>\n",
       "      <th>3595</th>\n",
       "      <td>Virgil Zwicker</td>\n",
       "      <td>6' 2\"</td>\n",
       "      <td>205 lbs.</td>\n",
       "      <td>74\"</td>\n",
       "      <td>NaN</td>\n",
       "      <td>Jun 26, 1982</td>\n",
       "      <td>3.34</td>\n",
       "      <td>48%</td>\n",
       "      <td>4.87</td>\n",
       "      <td>39%</td>\n",
       "      <td>1.31</td>\n",
       "      <td>30%</td>\n",
       "      <td>50%</td>\n",
       "      <td>0.0</td>\n",
       "    </tr>\n",
       "  </tbody>\n",
       "</table>\n",
       "</div>"
      ],
      "text/plain": [
       "        fighter_name Height    Weight Reach    Stance           DOB  SLpM  \\\n",
       "3591   Zhang Tiequan  5' 8\"  155 lbs.   69\"  Orthodox  Jul 25, 1978  1.23   \n",
       "3592     Alex Zuniga    NaN  145 lbs.   NaN       NaN           NaN  0.00   \n",
       "3593   George Zuniga  5' 9\"  185 lbs.   NaN       NaN           NaN  7.64   \n",
       "3594    Allan Zuniga  5' 7\"  155 lbs.   70\"  Orthodox  Apr 04, 1992  3.93   \n",
       "3595  Virgil Zwicker  6' 2\"  205 lbs.   74\"       NaN  Jun 26, 1982  3.34   \n",
       "\n",
       "     Str_Acc  SApM Str_Def  TD_Avg TD_Acc TD_Def  Sub_Avg  \n",
       "3591     36%  2.14     51%    1.95    58%    75%      3.4  \n",
       "3592      0%  0.00      0%    0.00     0%     0%      0.0  \n",
       "3593     38%  5.45     37%    0.00     0%   100%      0.0  \n",
       "3594     52%  1.80     61%    0.00     0%    57%      1.0  \n",
       "3595     48%  4.87     39%    1.31    30%    50%      0.0  "
      ]
     },
     "execution_count": 63,
     "metadata": {},
     "output_type": "execute_result"
    }
   ],
   "source": [
    "# External dataset\n",
    "athlete_stats = pd.read_csv(\"raw_fighter_details.csv\", sep=',')\n",
    "athlete_stats.tail()"
   ]
  },
  {
   "cell_type": "markdown",
   "id": "4dfb1113-6651-41af-bcee-b3c9809ddf67",
   "metadata": {},
   "source": [
    "## External dataset feature engineering"
   ]
  },
  {
   "cell_type": "markdown",
   "id": "d9d87983-efaf-445b-9fa7-b39858a1cfa4",
   "metadata": {},
   "source": [
    "We leave only the features we are interested in:"
   ]
  },
  {
   "cell_type": "code",
   "execution_count": 64,
   "id": "ebbfcb4e-f010-4c33-8139-c54275017b1c",
   "metadata": {},
   "outputs": [
    {
     "data": {
      "text/html": [
       "<div>\n",
       "<style scoped>\n",
       "    .dataframe tbody tr th:only-of-type {\n",
       "        vertical-align: middle;\n",
       "    }\n",
       "\n",
       "    .dataframe tbody tr th {\n",
       "        vertical-align: top;\n",
       "    }\n",
       "\n",
       "    .dataframe thead th {\n",
       "        text-align: right;\n",
       "    }\n",
       "</style>\n",
       "<table border=\"1\" class=\"dataframe\">\n",
       "  <thead>\n",
       "    <tr style=\"text-align: right;\">\n",
       "      <th></th>\n",
       "      <th>fighter_name</th>\n",
       "      <th>Height</th>\n",
       "      <th>Reach</th>\n",
       "      <th>Stance</th>\n",
       "      <th>SLpM</th>\n",
       "      <th>Str_Acc</th>\n",
       "      <th>SApM</th>\n",
       "      <th>Str_Def</th>\n",
       "      <th>TD_Avg</th>\n",
       "      <th>TD_Acc</th>\n",
       "      <th>TD_Def</th>\n",
       "      <th>Sub_Avg</th>\n",
       "    </tr>\n",
       "  </thead>\n",
       "  <tbody>\n",
       "    <tr>\n",
       "      <th>3591</th>\n",
       "      <td>Zhang Tiequan</td>\n",
       "      <td>5' 8\"</td>\n",
       "      <td>69\"</td>\n",
       "      <td>Orthodox</td>\n",
       "      <td>1.23</td>\n",
       "      <td>36%</td>\n",
       "      <td>2.14</td>\n",
       "      <td>51%</td>\n",
       "      <td>1.95</td>\n",
       "      <td>58%</td>\n",
       "      <td>75%</td>\n",
       "      <td>3.4</td>\n",
       "    </tr>\n",
       "    <tr>\n",
       "      <th>3592</th>\n",
       "      <td>Alex Zuniga</td>\n",
       "      <td>NaN</td>\n",
       "      <td>NaN</td>\n",
       "      <td>NaN</td>\n",
       "      <td>0.00</td>\n",
       "      <td>0%</td>\n",
       "      <td>0.00</td>\n",
       "      <td>0%</td>\n",
       "      <td>0.00</td>\n",
       "      <td>0%</td>\n",
       "      <td>0%</td>\n",
       "      <td>0.0</td>\n",
       "    </tr>\n",
       "    <tr>\n",
       "      <th>3593</th>\n",
       "      <td>George Zuniga</td>\n",
       "      <td>5' 9\"</td>\n",
       "      <td>NaN</td>\n",
       "      <td>NaN</td>\n",
       "      <td>7.64</td>\n",
       "      <td>38%</td>\n",
       "      <td>5.45</td>\n",
       "      <td>37%</td>\n",
       "      <td>0.00</td>\n",
       "      <td>0%</td>\n",
       "      <td>100%</td>\n",
       "      <td>0.0</td>\n",
       "    </tr>\n",
       "    <tr>\n",
       "      <th>3594</th>\n",
       "      <td>Allan Zuniga</td>\n",
       "      <td>5' 7\"</td>\n",
       "      <td>70\"</td>\n",
       "      <td>Orthodox</td>\n",
       "      <td>3.93</td>\n",
       "      <td>52%</td>\n",
       "      <td>1.80</td>\n",
       "      <td>61%</td>\n",
       "      <td>0.00</td>\n",
       "      <td>0%</td>\n",
       "      <td>57%</td>\n",
       "      <td>1.0</td>\n",
       "    </tr>\n",
       "    <tr>\n",
       "      <th>3595</th>\n",
       "      <td>Virgil Zwicker</td>\n",
       "      <td>6' 2\"</td>\n",
       "      <td>74\"</td>\n",
       "      <td>NaN</td>\n",
       "      <td>3.34</td>\n",
       "      <td>48%</td>\n",
       "      <td>4.87</td>\n",
       "      <td>39%</td>\n",
       "      <td>1.31</td>\n",
       "      <td>30%</td>\n",
       "      <td>50%</td>\n",
       "      <td>0.0</td>\n",
       "    </tr>\n",
       "  </tbody>\n",
       "</table>\n",
       "</div>"
      ],
      "text/plain": [
       "        fighter_name Height Reach    Stance  SLpM Str_Acc  SApM Str_Def  \\\n",
       "3591   Zhang Tiequan  5' 8\"   69\"  Orthodox  1.23     36%  2.14     51%   \n",
       "3592     Alex Zuniga    NaN   NaN       NaN  0.00      0%  0.00      0%   \n",
       "3593   George Zuniga  5' 9\"   NaN       NaN  7.64     38%  5.45     37%   \n",
       "3594    Allan Zuniga  5' 7\"   70\"  Orthodox  3.93     52%  1.80     61%   \n",
       "3595  Virgil Zwicker  6' 2\"   74\"       NaN  3.34     48%  4.87     39%   \n",
       "\n",
       "      TD_Avg TD_Acc TD_Def  Sub_Avg  \n",
       "3591    1.95    58%    75%      3.4  \n",
       "3592    0.00     0%     0%      0.0  \n",
       "3593    0.00     0%   100%      0.0  \n",
       "3594    0.00     0%    57%      1.0  \n",
       "3595    1.31    30%    50%      0.0  "
      ]
     },
     "execution_count": 64,
     "metadata": {},
     "output_type": "execute_result"
    }
   ],
   "source": [
    "athlete_stats.drop(columns=[\"Weight\", \"DOB\"], inplace=True)\n",
    "athlete_stats.tail()"
   ]
  },
  {
   "cell_type": "markdown",
   "id": "45171d24-a72e-464a-9d8e-677ce3373531",
   "metadata": {},
   "source": [
    "### Renaming columns"
   ]
  },
  {
   "cell_type": "markdown",
   "id": "f0e92694-0c39-4fb5-aa50-64d3c7344fcb",
   "metadata": {},
   "source": [
    "We need to rename some columns for differentiating between athlete-based and fight-based.\n",
    "Let's prep the columns:"
   ]
  },
  {
   "cell_type": "code",
   "execution_count": 65,
   "id": "d6a3e2a0-5ba8-4da2-8c30-d676c62f9dde",
   "metadata": {},
   "outputs": [
    {
     "data": {
      "text/plain": [
       "{'SLpM': 'SLpM_cs',\n",
       " 'Str_Acc': 'Str_Acc_cs',\n",
       " 'SApM': 'SApM_cs',\n",
       " 'Str_Def': 'Str_Def_cs',\n",
       " 'TD_Avg': 'TD_Avg_cs',\n",
       " 'TD_Acc': 'TD_Acc_cs',\n",
       " 'TD_Def': 'TD_Def_cs',\n",
       " 'Sub_Avg': 'Sub_Avg_cs'}"
      ]
     },
     "execution_count": 65,
     "metadata": {},
     "output_type": "execute_result"
    }
   ],
   "source": [
    "postfix = \"_cs\" # _cs is an abbreviation for career statistic\n",
    "cols_to_rename = [\"SLpM\", \"Str_Acc\", \"SApM\", \"Str_Def\", \"TD_Avg\", \"TD_Acc\", \"TD_Def\", \"Sub_Avg\"]\n",
    "name_mappings = {col: f\"{col}{postfix}\" for col in cols_to_rename}\n",
    "name_mappings"
   ]
  },
  {
   "cell_type": "markdown",
   "id": "e0463cc3-b9b7-404f-ac03-a79a61452f52",
   "metadata": {},
   "source": [
    "Rename:"
   ]
  },
  {
   "cell_type": "code",
   "execution_count": 66,
   "id": "eb4c5207-a5e4-44e9-ad1a-7a36e64a4672",
   "metadata": {},
   "outputs": [
    {
     "data": {
      "text/html": [
       "<div>\n",
       "<style scoped>\n",
       "    .dataframe tbody tr th:only-of-type {\n",
       "        vertical-align: middle;\n",
       "    }\n",
       "\n",
       "    .dataframe tbody tr th {\n",
       "        vertical-align: top;\n",
       "    }\n",
       "\n",
       "    .dataframe thead th {\n",
       "        text-align: right;\n",
       "    }\n",
       "</style>\n",
       "<table border=\"1\" class=\"dataframe\">\n",
       "  <thead>\n",
       "    <tr style=\"text-align: right;\">\n",
       "      <th></th>\n",
       "      <th>fighter_name</th>\n",
       "      <th>Height</th>\n",
       "      <th>Reach</th>\n",
       "      <th>Stance</th>\n",
       "      <th>SLpM_cs</th>\n",
       "      <th>Str_Acc_cs</th>\n",
       "      <th>SApM_cs</th>\n",
       "      <th>Str_Def_cs</th>\n",
       "      <th>TD_Avg_cs</th>\n",
       "      <th>TD_Acc_cs</th>\n",
       "      <th>TD_Def_cs</th>\n",
       "      <th>Sub_Avg_cs</th>\n",
       "    </tr>\n",
       "  </thead>\n",
       "  <tbody>\n",
       "    <tr>\n",
       "      <th>0</th>\n",
       "      <td>Tom Aaron</td>\n",
       "      <td>NaN</td>\n",
       "      <td>NaN</td>\n",
       "      <td>NaN</td>\n",
       "      <td>0.00</td>\n",
       "      <td>0%</td>\n",
       "      <td>0.00</td>\n",
       "      <td>0%</td>\n",
       "      <td>0.00</td>\n",
       "      <td>0%</td>\n",
       "      <td>0%</td>\n",
       "      <td>0.0</td>\n",
       "    </tr>\n",
       "    <tr>\n",
       "      <th>1</th>\n",
       "      <td>Papy Abedi</td>\n",
       "      <td>5' 11\"</td>\n",
       "      <td>NaN</td>\n",
       "      <td>Southpaw</td>\n",
       "      <td>2.80</td>\n",
       "      <td>55%</td>\n",
       "      <td>3.15</td>\n",
       "      <td>48%</td>\n",
       "      <td>3.47</td>\n",
       "      <td>57%</td>\n",
       "      <td>50%</td>\n",
       "      <td>1.3</td>\n",
       "    </tr>\n",
       "    <tr>\n",
       "      <th>2</th>\n",
       "      <td>Shamil Abdurakhimov</td>\n",
       "      <td>6' 3\"</td>\n",
       "      <td>76\"</td>\n",
       "      <td>Orthodox</td>\n",
       "      <td>2.45</td>\n",
       "      <td>44%</td>\n",
       "      <td>2.45</td>\n",
       "      <td>58%</td>\n",
       "      <td>1.23</td>\n",
       "      <td>24%</td>\n",
       "      <td>47%</td>\n",
       "      <td>0.2</td>\n",
       "    </tr>\n",
       "  </tbody>\n",
       "</table>\n",
       "</div>"
      ],
      "text/plain": [
       "          fighter_name  Height Reach    Stance  SLpM_cs Str_Acc_cs  SApM_cs  \\\n",
       "0            Tom Aaron     NaN   NaN       NaN     0.00         0%     0.00   \n",
       "1           Papy Abedi  5' 11\"   NaN  Southpaw     2.80        55%     3.15   \n",
       "2  Shamil Abdurakhimov   6' 3\"   76\"  Orthodox     2.45        44%     2.45   \n",
       "\n",
       "  Str_Def_cs  TD_Avg_cs TD_Acc_cs TD_Def_cs  Sub_Avg_cs  \n",
       "0         0%       0.00        0%        0%         0.0  \n",
       "1        48%       3.47       57%       50%         1.3  \n",
       "2        58%       1.23       24%       47%         0.2  "
      ]
     },
     "execution_count": 66,
     "metadata": {},
     "output_type": "execute_result"
    }
   ],
   "source": [
    "athlete_stats.rename(columns=name_mappings, inplace=True)\n",
    "athlete_stats.head(3)"
   ]
  },
  {
   "cell_type": "markdown",
   "id": "ff980df1-0819-41df-9464-2ae9bc0c844e",
   "metadata": {},
   "source": [
    "### Dropping NaNs"
   ]
  },
  {
   "cell_type": "markdown",
   "id": "577d04cd-9b8d-4e91-afd0-6f456827071b",
   "metadata": {},
   "source": [
    "Dropping rows, that bring us no information whatsoever:"
   ]
  },
  {
   "cell_type": "code",
   "execution_count": 67,
   "id": "0ddb8926-eb5f-4a6d-9966-476970388bec",
   "metadata": {},
   "outputs": [
    {
     "data": {
      "text/plain": [
       "(3363, 12)"
      ]
     },
     "execution_count": 67,
     "metadata": {},
     "output_type": "execute_result"
    }
   ],
   "source": [
    "athlete_stats.dropna(how=\"all\", subset=[\"Height\", \"Reach\", \"Stance\"], inplace=True)\n",
    "athlete_stats.shape"
   ]
  },
  {
   "cell_type": "markdown",
   "id": "0af08717-2386-4bf1-9da7-66b5fcb6da7c",
   "metadata": {},
   "source": [
    "Impututing the rest of NaNs with zeros:"
   ]
  },
  {
   "cell_type": "code",
   "execution_count": 68,
   "id": "ca42086a-214f-4bd2-b982-62fe2c907012",
   "metadata": {},
   "outputs": [
    {
     "name": "stdout",
     "output_type": "stream",
     "text": [
      "Number of NaN entries: 0\n"
     ]
    }
   ],
   "source": [
    "athlete_stats.fillna(0, inplace=True)\n",
    "print(f\"Number of NaN entries: {athlete_stats.isna().sum().sum()}\")"
   ]
  },
  {
   "cell_type": "markdown",
   "id": "e3dad26d-d2cc-445b-8a9c-15efc9107a33",
   "metadata": {},
   "source": [
    "Convert external dataset fighter names to uppercase, and columns to lowercase to match our format:"
   ]
  },
  {
   "cell_type": "code",
   "execution_count": 69,
   "id": "cf62b38f-b81d-47f1-a98d-9d68a1a26bbf",
   "metadata": {},
   "outputs": [
    {
     "data": {
      "text/html": [
       "<div>\n",
       "<style scoped>\n",
       "    .dataframe tbody tr th:only-of-type {\n",
       "        vertical-align: middle;\n",
       "    }\n",
       "\n",
       "    .dataframe tbody tr th {\n",
       "        vertical-align: top;\n",
       "    }\n",
       "\n",
       "    .dataframe thead th {\n",
       "        text-align: right;\n",
       "    }\n",
       "</style>\n",
       "<table border=\"1\" class=\"dataframe\">\n",
       "  <thead>\n",
       "    <tr style=\"text-align: right;\">\n",
       "      <th></th>\n",
       "      <th>fighter_name</th>\n",
       "      <th>height</th>\n",
       "      <th>reach</th>\n",
       "      <th>stance</th>\n",
       "      <th>slpm_cs</th>\n",
       "      <th>str_acc_cs</th>\n",
       "      <th>sapm_cs</th>\n",
       "      <th>str_def_cs</th>\n",
       "      <th>td_avg_cs</th>\n",
       "      <th>td_acc_cs</th>\n",
       "      <th>td_def_cs</th>\n",
       "      <th>sub_avg_cs</th>\n",
       "    </tr>\n",
       "  </thead>\n",
       "  <tbody>\n",
       "    <tr>\n",
       "      <th>1</th>\n",
       "      <td>PAPY ABEDI</td>\n",
       "      <td>5' 11\"</td>\n",
       "      <td>0</td>\n",
       "      <td>Southpaw</td>\n",
       "      <td>2.80</td>\n",
       "      <td>55%</td>\n",
       "      <td>3.15</td>\n",
       "      <td>48%</td>\n",
       "      <td>3.47</td>\n",
       "      <td>57%</td>\n",
       "      <td>50%</td>\n",
       "      <td>1.3</td>\n",
       "    </tr>\n",
       "    <tr>\n",
       "      <th>2</th>\n",
       "      <td>SHAMIL ABDURAKHIMOV</td>\n",
       "      <td>6' 3\"</td>\n",
       "      <td>76\"</td>\n",
       "      <td>Orthodox</td>\n",
       "      <td>2.45</td>\n",
       "      <td>44%</td>\n",
       "      <td>2.45</td>\n",
       "      <td>58%</td>\n",
       "      <td>1.23</td>\n",
       "      <td>24%</td>\n",
       "      <td>47%</td>\n",
       "      <td>0.2</td>\n",
       "    </tr>\n",
       "    <tr>\n",
       "      <th>3</th>\n",
       "      <td>DANNY ABBADI</td>\n",
       "      <td>5' 11\"</td>\n",
       "      <td>0</td>\n",
       "      <td>Orthodox</td>\n",
       "      <td>3.29</td>\n",
       "      <td>38%</td>\n",
       "      <td>4.41</td>\n",
       "      <td>57%</td>\n",
       "      <td>0.00</td>\n",
       "      <td>0%</td>\n",
       "      <td>77%</td>\n",
       "      <td>0.0</td>\n",
       "    </tr>\n",
       "    <tr>\n",
       "      <th>4</th>\n",
       "      <td>HIROYUKI ABE</td>\n",
       "      <td>5' 6\"</td>\n",
       "      <td>0</td>\n",
       "      <td>Orthodox</td>\n",
       "      <td>1.71</td>\n",
       "      <td>36%</td>\n",
       "      <td>3.11</td>\n",
       "      <td>63%</td>\n",
       "      <td>0.00</td>\n",
       "      <td>0%</td>\n",
       "      <td>33%</td>\n",
       "      <td>0.0</td>\n",
       "    </tr>\n",
       "    <tr>\n",
       "      <th>5</th>\n",
       "      <td>RICARDO ABREU</td>\n",
       "      <td>5' 11\"</td>\n",
       "      <td>0</td>\n",
       "      <td>Orthodox</td>\n",
       "      <td>3.79</td>\n",
       "      <td>31%</td>\n",
       "      <td>3.98</td>\n",
       "      <td>68%</td>\n",
       "      <td>2.13</td>\n",
       "      <td>42%</td>\n",
       "      <td>100%</td>\n",
       "      <td>0.7</td>\n",
       "    </tr>\n",
       "  </tbody>\n",
       "</table>\n",
       "</div>"
      ],
      "text/plain": [
       "          fighter_name  height reach    stance  slpm_cs str_acc_cs  sapm_cs  \\\n",
       "1           PAPY ABEDI  5' 11\"     0  Southpaw     2.80        55%     3.15   \n",
       "2  SHAMIL ABDURAKHIMOV   6' 3\"   76\"  Orthodox     2.45        44%     2.45   \n",
       "3         DANNY ABBADI  5' 11\"     0  Orthodox     3.29        38%     4.41   \n",
       "4         HIROYUKI ABE   5' 6\"     0  Orthodox     1.71        36%     3.11   \n",
       "5        RICARDO ABREU  5' 11\"     0  Orthodox     3.79        31%     3.98   \n",
       "\n",
       "  str_def_cs  td_avg_cs td_acc_cs td_def_cs  sub_avg_cs  \n",
       "1        48%       3.47       57%       50%         1.3  \n",
       "2        58%       1.23       24%       47%         0.2  \n",
       "3        57%       0.00        0%       77%         0.0  \n",
       "4        63%       0.00        0%       33%         0.0  \n",
       "5        68%       2.13       42%      100%         0.7  "
      ]
     },
     "execution_count": 69,
     "metadata": {},
     "output_type": "execute_result"
    }
   ],
   "source": [
    "# Fighter names => upper\n",
    "athlete_stats['fighter_name'] = athlete_stats['fighter_name'].str.upper()\n",
    "# Columns => lower\n",
    "athlete_stats.columns = athlete_stats.columns.str.lower()\n",
    "athlete_stats.head()"
   ]
  },
  {
   "cell_type": "markdown",
   "id": "e69439ac-b011-47e7-bb2e-642c9ab40717",
   "metadata": {},
   "source": [
    "Defining a function that converts height and reach from inches to cm:"
   ]
  },
  {
   "cell_type": "code",
   "execution_count": 70,
   "id": "fcd50292-186b-424a-a148-51bc0be8b3bc",
   "metadata": {},
   "outputs": [],
   "source": [
    "def conv_from_inches_to_cm(inches):\n",
    "    \"\"\"Converts from inches to cm\"\"\"\n",
    "    # If the data is missing\n",
    "    if not inches:\n",
    "        return inches\n",
    "        \n",
    "    res = inches.strip('\"').split(\"'\")\n",
    "    # Foot to cm conversion rate\n",
    "    f_cm_cr = 30.48\n",
    "    # Inch to cm convetsion rate\n",
    "    i_cm_cr = 2.54\n",
    "\n",
    "    # If converting height\n",
    "    if len(res) > 1:\n",
    "        return int(res[0]) * f_cm_cr + int(res[1]) * i_cm_cr\n",
    "    # Or reach\n",
    "    else:\n",
    "        return int(res[0]) * i_cm_cr"
   ]
  },
  {
   "cell_type": "markdown",
   "id": "8979f11b-92c6-42dd-b31e-1672a0721b0f",
   "metadata": {},
   "source": [
    "Applying:"
   ]
  },
  {
   "cell_type": "code",
   "execution_count": 71,
   "id": "486dde8b-1a7b-4ea1-99c7-bb2cd8fd97ad",
   "metadata": {},
   "outputs": [
    {
     "data": {
      "text/html": [
       "<div>\n",
       "<style scoped>\n",
       "    .dataframe tbody tr th:only-of-type {\n",
       "        vertical-align: middle;\n",
       "    }\n",
       "\n",
       "    .dataframe tbody tr th {\n",
       "        vertical-align: top;\n",
       "    }\n",
       "\n",
       "    .dataframe thead th {\n",
       "        text-align: right;\n",
       "    }\n",
       "</style>\n",
       "<table border=\"1\" class=\"dataframe\">\n",
       "  <thead>\n",
       "    <tr style=\"text-align: right;\">\n",
       "      <th></th>\n",
       "      <th>fighter_name</th>\n",
       "      <th>height</th>\n",
       "      <th>reach</th>\n",
       "      <th>stance</th>\n",
       "      <th>slpm_cs</th>\n",
       "      <th>str_acc_cs</th>\n",
       "      <th>sapm_cs</th>\n",
       "      <th>str_def_cs</th>\n",
       "      <th>td_avg_cs</th>\n",
       "      <th>td_acc_cs</th>\n",
       "      <th>td_def_cs</th>\n",
       "      <th>sub_avg_cs</th>\n",
       "    </tr>\n",
       "  </thead>\n",
       "  <tbody>\n",
       "    <tr>\n",
       "      <th>1</th>\n",
       "      <td>PAPY ABEDI</td>\n",
       "      <td>180.34</td>\n",
       "      <td>0.00</td>\n",
       "      <td>Southpaw</td>\n",
       "      <td>2.80</td>\n",
       "      <td>55%</td>\n",
       "      <td>3.15</td>\n",
       "      <td>48%</td>\n",
       "      <td>3.47</td>\n",
       "      <td>57%</td>\n",
       "      <td>50%</td>\n",
       "      <td>1.3</td>\n",
       "    </tr>\n",
       "    <tr>\n",
       "      <th>2</th>\n",
       "      <td>SHAMIL ABDURAKHIMOV</td>\n",
       "      <td>190.50</td>\n",
       "      <td>193.04</td>\n",
       "      <td>Orthodox</td>\n",
       "      <td>2.45</td>\n",
       "      <td>44%</td>\n",
       "      <td>2.45</td>\n",
       "      <td>58%</td>\n",
       "      <td>1.23</td>\n",
       "      <td>24%</td>\n",
       "      <td>47%</td>\n",
       "      <td>0.2</td>\n",
       "    </tr>\n",
       "    <tr>\n",
       "      <th>3</th>\n",
       "      <td>DANNY ABBADI</td>\n",
       "      <td>180.34</td>\n",
       "      <td>0.00</td>\n",
       "      <td>Orthodox</td>\n",
       "      <td>3.29</td>\n",
       "      <td>38%</td>\n",
       "      <td>4.41</td>\n",
       "      <td>57%</td>\n",
       "      <td>0.00</td>\n",
       "      <td>0%</td>\n",
       "      <td>77%</td>\n",
       "      <td>0.0</td>\n",
       "    </tr>\n",
       "    <tr>\n",
       "      <th>4</th>\n",
       "      <td>HIROYUKI ABE</td>\n",
       "      <td>167.64</td>\n",
       "      <td>0.00</td>\n",
       "      <td>Orthodox</td>\n",
       "      <td>1.71</td>\n",
       "      <td>36%</td>\n",
       "      <td>3.11</td>\n",
       "      <td>63%</td>\n",
       "      <td>0.00</td>\n",
       "      <td>0%</td>\n",
       "      <td>33%</td>\n",
       "      <td>0.0</td>\n",
       "    </tr>\n",
       "    <tr>\n",
       "      <th>5</th>\n",
       "      <td>RICARDO ABREU</td>\n",
       "      <td>180.34</td>\n",
       "      <td>0.00</td>\n",
       "      <td>Orthodox</td>\n",
       "      <td>3.79</td>\n",
       "      <td>31%</td>\n",
       "      <td>3.98</td>\n",
       "      <td>68%</td>\n",
       "      <td>2.13</td>\n",
       "      <td>42%</td>\n",
       "      <td>100%</td>\n",
       "      <td>0.7</td>\n",
       "    </tr>\n",
       "  </tbody>\n",
       "</table>\n",
       "</div>"
      ],
      "text/plain": [
       "          fighter_name  height   reach    stance  slpm_cs str_acc_cs  sapm_cs  \\\n",
       "1           PAPY ABEDI  180.34    0.00  Southpaw     2.80        55%     3.15   \n",
       "2  SHAMIL ABDURAKHIMOV  190.50  193.04  Orthodox     2.45        44%     2.45   \n",
       "3         DANNY ABBADI  180.34    0.00  Orthodox     3.29        38%     4.41   \n",
       "4         HIROYUKI ABE  167.64    0.00  Orthodox     1.71        36%     3.11   \n",
       "5        RICARDO ABREU  180.34    0.00  Orthodox     3.79        31%     3.98   \n",
       "\n",
       "  str_def_cs  td_avg_cs td_acc_cs td_def_cs  sub_avg_cs  \n",
       "1        48%       3.47       57%       50%         1.3  \n",
       "2        58%       1.23       24%       47%         0.2  \n",
       "3        57%       0.00        0%       77%         0.0  \n",
       "4        63%       0.00        0%       33%         0.0  \n",
       "5        68%       2.13       42%      100%         0.7  "
      ]
     },
     "execution_count": 71,
     "metadata": {},
     "output_type": "execute_result"
    }
   ],
   "source": [
    "# Convert height\n",
    "athlete_stats['height'] = athlete_stats['height'].apply(conv_from_inches_to_cm)\n",
    "# Convert reach\n",
    "athlete_stats['reach'] = athlete_stats['reach'].apply(conv_from_inches_to_cm)\n",
    "# Take a look\n",
    "athlete_stats.head()"
   ]
  },
  {
   "cell_type": "markdown",
   "id": "ddae1e77-c788-4b23-8cb4-53c2f427853a",
   "metadata": {},
   "source": [
    "Prepare mappings to map features to red/blue fighters:"
   ]
  },
  {
   "cell_type": "code",
   "execution_count": 72,
   "id": "1617344c-76aa-432a-b502-f2ad771803c2",
   "metadata": {},
   "outputs": [],
   "source": [
    "red_features = {col: f\"red_fighter_{col}\" for col in athlete_stats.columns if 'fighter' not in col}\n",
    "blue_features = {col: f\"blue_fighter_{col}\" for col in athlete_stats.columns if 'fighter' not in col}"
   ]
  },
  {
   "cell_type": "markdown",
   "id": "b305c203-bb1c-4968-b659-f148fb173146",
   "metadata": {},
   "source": [
    "Merging:"
   ]
  },
  {
   "cell_type": "code",
   "execution_count": 73,
   "id": "7d2cf4d9-2435-482d-b01b-0b58f0aa54a4",
   "metadata": {},
   "outputs": [],
   "source": [
    "stats = pd.merge(fights_stats, athlete_stats.rename(columns=red_features), left_on='red_fighter_name', right_on='fighter_name')\n",
    "stats.drop(columns='fighter_name', inplace=True)"
   ]
  },
  {
   "cell_type": "code",
   "execution_count": 74,
   "id": "938cb03c-1cf0-4dc5-a1b8-90be435f1acd",
   "metadata": {},
   "outputs": [],
   "source": [
    "stats = pd.merge(stats, athlete_stats.rename(columns=blue_features), left_on='blue_fighter_name', right_on='fighter_name')\n",
    "stats.drop(columns='fighter_name', inplace=True)"
   ]
  },
  {
   "cell_type": "code",
   "execution_count": 75,
   "id": "862be3c8-31e6-496e-a61a-96d23b55c591",
   "metadata": {},
   "outputs": [
    {
     "data": {
      "text/plain": [
       "Index(['red_fighter_name', 'blue_fighter_name', 'event_date',\n",
       "       'red_fighter_nickname', 'blue_fighter_nickname', 'red_fighter_result',\n",
       "       'blue_fighter_result', 'method', 'round', 'time', 'time_format',\n",
       "       'referee', 'details', 'bout_type', 'bonus', 'event_name',\n",
       "       'event_location', 'red_fighter_KD', 'blue_fighter_KD',\n",
       "       'red_fighter_sig_str_pct', 'blue_fighter_sig_str_pct',\n",
       "       'red_fighter_total_str', 'blue_fighter_total_str', 'red_fighter_TD_pct',\n",
       "       'blue_fighter_TD_pct', 'red_fighter_sub_att', 'blue_fighter_sub_att',\n",
       "       'red_fighter_rev', 'blue_fighter_rev', 'red_fighter_ctrl',\n",
       "       'blue_fighter_ctrl', 'red_fighter_sig_str_head_acc',\n",
       "       'blue_fighter_sig_str_head_acc', 'red_fighter_sig_str_body_acc',\n",
       "       'blue_fighter_sig_str_body_acc', 'red_fighter_sig_str_leg_acc',\n",
       "       'blue_fighter_sig_str_leg_acc', 'red_fighter_sig_str_distance_acc',\n",
       "       'blue_fighter_sig_str_distance_acc', 'red_fighter_sig_str_clinch_acc',\n",
       "       'blue_fighter_sig_str_clinch_acc', 'red_fighter_sig_str_ground_acc',\n",
       "       'blue_fighter_sig_str_ground_acc', 'red_fighter_sig_str_head_tar_pct',\n",
       "       'blue_fighter_sig_str_head_tar_pct', 'red_fighter_sig_str_body_tar_pct',\n",
       "       'blue_fighter_sig_str_body_tar_pct', 'red_fighter_sig_str_leg_tar_pct',\n",
       "       'blue_fighter_sig_str_leg_tar_pct', 'red_fighter_sig_str_distance_pct',\n",
       "       'blue_fighter_sig_str_distance_pct', 'red_fighter_sig_str_clinch_pct',\n",
       "       'blue_fighter_sig_str_clinch_pct', 'red_fighter_sig_str_ground_pct',\n",
       "       'blue_fighter_sig_str_ground_pct', 'red_fighter_height',\n",
       "       'red_fighter_reach', 'red_fighter_stance', 'red_fighter_slpm_cs',\n",
       "       'red_fighter_str_acc_cs', 'red_fighter_sapm_cs',\n",
       "       'red_fighter_str_def_cs', 'red_fighter_td_avg_cs',\n",
       "       'red_fighter_td_acc_cs', 'red_fighter_td_def_cs',\n",
       "       'red_fighter_sub_avg_cs', 'blue_fighter_height', 'blue_fighter_reach',\n",
       "       'blue_fighter_stance', 'blue_fighter_slpm_cs',\n",
       "       'blue_fighter_str_acc_cs', 'blue_fighter_sapm_cs',\n",
       "       'blue_fighter_str_def_cs', 'blue_fighter_td_avg_cs',\n",
       "       'blue_fighter_td_acc_cs', 'blue_fighter_td_def_cs',\n",
       "       'blue_fighter_sub_avg_cs'],\n",
       "      dtype='object')"
      ]
     },
     "execution_count": 75,
     "metadata": {},
     "output_type": "execute_result"
    }
   ],
   "source": [
    "stats.columns"
   ]
  },
  {
   "cell_type": "markdown",
   "id": "a5317c1e-cc7f-4318-87a4-53360372ab79",
   "metadata": {
    "panel-layout": {
     "height": 60.616668701171875,
     "visible": true,
     "width": 100
    }
   },
   "source": [
    "# Data preprocessing"
   ]
  },
  {
   "cell_type": "markdown",
   "id": "48b98c83-17a3-4a6b-aebf-d196cb7a5711",
   "metadata": {},
   "source": [
    "Creating a single **winner** feature instead of two **red_fighter_result** and **blue_fighter_result** features:"
   ]
  },
  {
   "cell_type": "code",
   "execution_count": 19,
   "id": "565cbeba-5986-465c-a9b1-a66a0fad84e9",
   "metadata": {},
   "outputs": [],
   "source": [
    "stats.loc[:, 'winner'] = stats['red_fighter_result'].apply(lambda x: 'red' if x == 'W' else 'blue')"
   ]
  },
  {
   "cell_type": "code",
   "execution_count": 20,
   "id": "cc1b14ad-0451-475f-83dd-fa35a66066f2",
   "metadata": {},
   "outputs": [
    {
     "data": {
      "text/plain": [
       "0     red\n",
       "1    blue\n",
       "2     red\n",
       "3     red\n",
       "4     red\n",
       "Name: winner, dtype: object"
      ]
     },
     "execution_count": 20,
     "metadata": {},
     "output_type": "execute_result"
    }
   ],
   "source": [
    "stats['winner'].head()"
   ]
  },
  {
   "cell_type": "markdown",
   "id": "3728996a-7fc9-4179-9e98-b1586ea1e301",
   "metadata": {},
   "source": [
    "Changing columns from **red/blue+feature name** to **winner/loser+feature name**:"
   ]
  },
  {
   "cell_type": "code",
   "execution_count": 21,
   "id": "6fa1ef47-e44c-4a9e-af43-f5e4e414cb84",
   "metadata": {},
   "outputs": [
    {
     "data": {
      "text/plain": [
       "Index(['blue_fighter_td_avg', 'blue_fighter_td_acc', 'blue_fighter_td_def',\n",
       "       'blue_fighter_sub_avg', 'winner'],\n",
       "      dtype='object')"
      ]
     },
     "execution_count": 21,
     "metadata": {},
     "output_type": "execute_result"
    }
   ],
   "source": [
    "stats.columns[-5:]"
   ]
  },
  {
   "cell_type": "code",
   "execution_count": 22,
   "id": "fd3f1e9a-c53a-40c2-8e76-53507f7353cf",
   "metadata": {},
   "outputs": [],
   "source": [
    "def assign_winner_n_loser(df, winner_col='winner'):\n",
    "    \"\"\"Filters what columns to take into account,\n",
    "       creates new columns, instead of red/blue makes winner/loser,\n",
    "       gets data points from red/blue column based on \n",
    "       the value of the feature 'winner' in that same row.\"\"\"\n",
    "    \n",
    "    # Get the columns, leave features like 'round', 'method', 'time' like they are\n",
    "    cols_to_drop = [col for col in df.columns if col.startswith('red') or col.startswith('blue')]\n",
    "    cols_to_change = set(col.removeprefix(\"red_\").removeprefix(\"blue_\") for col in cols_to_drop)\n",
    "\n",
    "    # Change each column\n",
    "    for col in cols_to_change:\n",
    "        # Create new features, sort the data according to the value of the 'winner' featuer\n",
    "        df.loc[:, f\"winner_{col.replace('fighter_', '')}\"] = \\\n",
    "            df[f\"red_{col}\"].where(df[winner_col] == 'red', df[f\"blue_{col}\"])\n",
    "        df.loc[:, f\"loser_{col.replace('fighter_', '')}\"] = \\\n",
    "            df[f\"red_{col}\"].where(df[winner_col] == 'blue', df[f\"blue_{col}\"])\n",
    "\n",
    "    # Drop the red/blue columns to keep only winner/loser\n",
    "    df.drop(columns=cols_to_drop, inplace=True)\n",
    "    return df "
   ]
  },
  {
   "cell_type": "code",
   "execution_count": 23,
   "id": "c6564417-979b-4f78-8c8c-d660ded448d5",
   "metadata": {},
   "outputs": [
    {
     "data": {
      "text/plain": [
       "Index(['loser_result', 'winner_sig_str_distance', 'loser_sig_str_distance',\n",
       "       'winner_rev', 'loser_rev'],\n",
       "      dtype='object')"
      ]
     },
     "execution_count": 23,
     "metadata": {},
     "output_type": "execute_result"
    }
   ],
   "source": [
    "stats = assign_winner_n_loser(stats)\n",
    "stats.columns[-5:]"
   ]
  },
  {
   "cell_type": "markdown",
   "id": "d81c643c-7bcc-411a-a982-607602b01699",
   "metadata": {
    "panel-layout": {
     "height": 60.616668701171875,
     "visible": true,
     "width": 100
    }
   },
   "source": [
    "# Data Cleaning"
   ]
  },
  {
   "cell_type": "markdown",
   "id": "e9bfbdb9-ef69-4b4e-bb8f-626f4e10b3a8",
   "metadata": {
    "panel-layout": {
     "height": 50.850006103515625,
     "visible": true,
     "width": 100
    }
   },
   "source": [
    "## NaN values"
   ]
  },
  {
   "cell_type": "code",
   "execution_count": 24,
   "id": "b392d156-f9c8-4139-a380-57ead00b8515",
   "metadata": {
    "panel-layout": {
     "height": 556.75,
     "visible": true,
     "width": 100
    }
   },
   "outputs": [
    {
     "data": {
      "text/plain": [
       "0"
      ]
     },
     "execution_count": 24,
     "metadata": {},
     "output_type": "execute_result"
    }
   ],
   "source": [
    "stats.isnull().sum().sum()"
   ]
  },
  {
   "cell_type": "markdown",
   "id": "964adb30-2635-4c71-96dc-4705d24c5de8",
   "metadata": {},
   "source": [
    "Replacing NaN entry fillers with zeros:"
   ]
  },
  {
   "cell_type": "code",
   "execution_count": 25,
   "id": "4f66f5d9-59e4-45e6-af3f-59d27f00a65a",
   "metadata": {},
   "outputs": [
    {
     "data": {
      "text/plain": [
       "14444"
      ]
     },
     "execution_count": 25,
     "metadata": {},
     "output_type": "execute_result"
    }
   ],
   "source": [
    "stats.isin(['-', '--', '---']).sum().sum()"
   ]
  },
  {
   "cell_type": "code",
   "execution_count": 26,
   "id": "e0786962-6714-4b93-ae68-19893bf12236",
   "metadata": {},
   "outputs": [
    {
     "data": {
      "text/plain": [
       "0"
      ]
     },
     "execution_count": 26,
     "metadata": {},
     "output_type": "execute_result"
    }
   ],
   "source": [
    "stats = stats.replace(['-', '--', '---'], \"0\")\n",
    "stats.isin(['-', '--', '---']).sum().sum()"
   ]
  },
  {
   "cell_type": "markdown",
   "id": "6a38adab-746e-45da-8865-65a6a587e116",
   "metadata": {},
   "source": [
    "## Duplicates"
   ]
  },
  {
   "cell_type": "code",
   "execution_count": 27,
   "id": "30605159-1e13-4a54-b426-84567b47385f",
   "metadata": {},
   "outputs": [
    {
     "data": {
      "text/plain": [
       "0"
      ]
     },
     "execution_count": 27,
     "metadata": {},
     "output_type": "execute_result"
    }
   ],
   "source": [
    "stats.duplicated().sum()"
   ]
  },
  {
   "cell_type": "markdown",
   "id": "0f058bf6-6684-412d-80df-b2cc088d9b33",
   "metadata": {},
   "source": [
    "We can see that there are no NaNs or duplicates. Let's get to Feature Engineering."
   ]
  },
  {
   "cell_type": "markdown",
   "id": "13c8085f-58fe-4ead-bd78-7c86c31eaef0",
   "metadata": {},
   "source": [
    "# Feature Engineering"
   ]
  },
  {
   "cell_type": "markdown",
   "id": "c7210de2-0ab3-4c97-a93d-24555e3e00b3",
   "metadata": {},
   "source": [
    "Convert columns that are in object dtype but where values just consist of intigers only to remove the pool of preprocessing:"
   ]
  },
  {
   "cell_type": "code",
   "execution_count": 28,
   "id": "5360c52d-cc15-497a-aec9-0cd9573602dc",
   "metadata": {},
   "outputs": [
    {
     "data": {
      "text/plain": [
       "object     69\n",
       "float64    12\n",
       "int64       1\n",
       "Name: count, dtype: int64"
      ]
     },
     "execution_count": 28,
     "metadata": {},
     "output_type": "execute_result"
    }
   ],
   "source": [
    "stats.dtypes.value_counts()"
   ]
  },
  {
   "cell_type": "code",
   "execution_count": 29,
   "id": "ee080c57-34fa-432d-84c9-196782f15e09",
   "metadata": {},
   "outputs": [],
   "source": [
    "for col in stats.columns:\n",
    "    try:\n",
    "        stats[col] = stats[col].astype(float)\n",
    "    except:\n",
    "        continue"
   ]
  },
  {
   "cell_type": "code",
   "execution_count": 30,
   "id": "ac1ce1b3-fbf4-4dc8-a7b1-02d0fc753785",
   "metadata": {},
   "outputs": [
    {
     "data": {
      "text/plain": [
       "object     47\n",
       "float64    35\n",
       "Name: count, dtype: int64"
      ]
     },
     "execution_count": 30,
     "metadata": {},
     "output_type": "execute_result"
    }
   ],
   "source": [
    "stats.dtypes.value_counts()"
   ]
  },
  {
   "cell_type": "markdown",
   "id": "50cdb102-501e-4968-ac05-08196622a985",
   "metadata": {},
   "source": [
    "## Process categorical features"
   ]
  },
  {
   "cell_type": "markdown",
   "id": "ff5592a5-b366-4ca5-bebe-51a8ff12e357",
   "metadata": {},
   "source": [
    "Find columns that need to be cleaned:"
   ]
  },
  {
   "cell_type": "code",
   "execution_count": 31,
   "id": "f21441a8-0364-4378-9eed-5dfc2da7bdfd",
   "metadata": {
    "editable": true,
    "scrolled": true,
    "slideshow": {
     "slide_type": ""
    },
    "tags": []
   },
   "outputs": [
    {
     "name": "stdout",
     "output_type": "stream",
     "text": [
      "Number of categorical features to preprocess: 28\n"
     ]
    }
   ],
   "source": [
    "cols_to_clean = [] \n",
    "\n",
    "for col in stats.columns:\n",
    "    val = stats.loc[0, col]\n",
    "    if (\n",
    "        stats[col].dtype == 'object'\n",
    "        and (col.startswith('loser_') or col.startswith('winner_'))\n",
    "        and any(char.isdigit() for char in val)\n",
    "    ):\n",
    "        cols_to_clean.append(col)\n",
    "    \n",
    "print(f\"Number of categorical features to preprocess: {len(cols_to_clean)}\")"
   ]
  },
  {
   "cell_type": "markdown",
   "id": "1b24deef-5e2b-4b63-8a96-7e035c6e7557",
   "metadata": {},
   "source": [
    "Taking a look:"
   ]
  },
  {
   "cell_type": "code",
   "execution_count": 32,
   "id": "dfe9f5ec-af9f-4682-817f-8eb95131243e",
   "metadata": {},
   "outputs": [
    {
     "data": {
      "text/html": [
       "<div>\n",
       "<style scoped>\n",
       "    .dataframe tbody tr th:only-of-type {\n",
       "        vertical-align: middle;\n",
       "    }\n",
       "\n",
       "    .dataframe tbody tr th {\n",
       "        vertical-align: top;\n",
       "    }\n",
       "\n",
       "    .dataframe thead th {\n",
       "        text-align: right;\n",
       "    }\n",
       "</style>\n",
       "<table border=\"1\" class=\"dataframe\">\n",
       "  <thead>\n",
       "    <tr style=\"text-align: right;\">\n",
       "      <th></th>\n",
       "      <th>loser_sig_str_body</th>\n",
       "      <th>winner_ctrl</th>\n",
       "      <th>winner_td_def</th>\n",
       "    </tr>\n",
       "  </thead>\n",
       "  <tbody>\n",
       "    <tr>\n",
       "      <th>0</th>\n",
       "      <td>13 of 30</td>\n",
       "      <td>0:45</td>\n",
       "      <td>100%</td>\n",
       "    </tr>\n",
       "    <tr>\n",
       "      <th>1</th>\n",
       "      <td>0 of 0</td>\n",
       "      <td>3:20</td>\n",
       "      <td>0%</td>\n",
       "    </tr>\n",
       "    <tr>\n",
       "      <th>2</th>\n",
       "      <td>9 of 12</td>\n",
       "      <td>1:31</td>\n",
       "      <td>85%</td>\n",
       "    </tr>\n",
       "  </tbody>\n",
       "</table>\n",
       "</div>"
      ],
      "text/plain": [
       "  loser_sig_str_body winner_ctrl winner_td_def\n",
       "0           13 of 30        0:45          100%\n",
       "1             0 of 0        3:20            0%\n",
       "2            9 of 12        1:31           85%"
      ]
     },
     "execution_count": 32,
     "metadata": {},
     "output_type": "execute_result"
    }
   ],
   "source": [
    "stats[cols_to_clean].loc[:2, ['loser_sig_str_body', 'winner_ctrl', 'winner_td_def']]"
   ]
  },
  {
   "cell_type": "markdown",
   "id": "55c81d9b-4cc2-4dde-8c0d-b6c33410178e",
   "metadata": {},
   "source": [
    "## Standardizing Features"
   ]
  },
  {
   "cell_type": "markdown",
   "id": "68999a9c-7db2-41d5-b418-979220f4c566",
   "metadata": {},
   "source": [
    "In total we have to standardize 3 types of features:\n",
    "1. Ratio to pct: 75 of 144 => 52 (%)\n",
    "2. Dropping pct symbol: 85% => 85 (%)\n",
    "3. Time: 1:31\t=> 91 (seconds)"
   ]
  },
  {
   "cell_type": "markdown",
   "id": "f80b736e-c192-456b-89ad-ea359446f410",
   "metadata": {},
   "source": [
    "But let's first group the columns into 3 different buckets for simplicity:"
   ]
  },
  {
   "cell_type": "code",
   "execution_count": 33,
   "id": "0d711e01-0626-4545-8813-e8658c38c190",
   "metadata": {},
   "outputs": [],
   "source": [
    "\"\"\"This way of matching is not safe, and REGEXes should be used instead,\n",
    "but this is a trivial case and I think we should be fine.\"\"\"\n",
    "of_cols = []\n",
    "no_pct_symbol_cols = []\n",
    "time_cols = []\n",
    "\n",
    "for col in cols_to_clean:\n",
    "    val = stats.loc[0, col]\n",
    "\n",
    "    if \"of\" in val:\n",
    "        of_cols.append(col)\n",
    "    elif \"%\" in val:\n",
    "        no_pct_symbol_cols.append(col)\n",
    "    elif \":\" in val:\n",
    "        time_cols.append(col)"
   ]
  },
  {
   "cell_type": "markdown",
   "id": "5df16751-1c5a-471d-a96f-1099b3956b93",
   "metadata": {},
   "source": [
    "Let's take a look:"
   ]
  },
  {
   "cell_type": "code",
   "execution_count": 34,
   "id": "1042cc71-c955-4754-b6b0-fca3b553cb32",
   "metadata": {},
   "outputs": [
    {
     "data": {
      "text/html": [
       "<div>\n",
       "<style scoped>\n",
       "    .dataframe tbody tr th:only-of-type {\n",
       "        vertical-align: middle;\n",
       "    }\n",
       "\n",
       "    .dataframe tbody tr th {\n",
       "        vertical-align: top;\n",
       "    }\n",
       "\n",
       "    .dataframe thead th {\n",
       "        text-align: right;\n",
       "    }\n",
       "</style>\n",
       "<table border=\"1\" class=\"dataframe\">\n",
       "  <thead>\n",
       "    <tr style=\"text-align: right;\">\n",
       "      <th></th>\n",
       "      <th>winner_total_str</th>\n",
       "      <th>loser_total_str</th>\n",
       "      <th>winner_sig_str_body</th>\n",
       "      <th>loser_sig_str_body</th>\n",
       "      <th>winner_sig_str_leg</th>\n",
       "      <th>loser_sig_str_leg</th>\n",
       "      <th>winner_sig_str</th>\n",
       "      <th>loser_sig_str</th>\n",
       "      <th>winner_sig_str_clinch</th>\n",
       "      <th>loser_sig_str_clinch</th>\n",
       "      <th>winner_sig_str_head</th>\n",
       "      <th>loser_sig_str_head</th>\n",
       "      <th>winner_TD</th>\n",
       "      <th>loser_TD</th>\n",
       "      <th>winner_sig_str_ground</th>\n",
       "      <th>loser_sig_str_ground</th>\n",
       "      <th>winner_sig_str_distance</th>\n",
       "      <th>loser_sig_str_distance</th>\n",
       "    </tr>\n",
       "  </thead>\n",
       "  <tbody>\n",
       "    <tr>\n",
       "      <th>0</th>\n",
       "      <td>78 of 147</td>\n",
       "      <td>84 of 209</td>\n",
       "      <td>11 of 14</td>\n",
       "      <td>13 of 30</td>\n",
       "      <td>15 of 16</td>\n",
       "      <td>19 of 23</td>\n",
       "      <td>75 of 144</td>\n",
       "      <td>79 of 204</td>\n",
       "      <td>0 of 0</td>\n",
       "      <td>0 of 0</td>\n",
       "      <td>49 of 114</td>\n",
       "      <td>47 of 151</td>\n",
       "      <td>2 of 2</td>\n",
       "      <td>0 of 0</td>\n",
       "      <td>4 of 4</td>\n",
       "      <td>0 of 0</td>\n",
       "      <td>71 of 140</td>\n",
       "      <td>79 of 204</td>\n",
       "    </tr>\n",
       "    <tr>\n",
       "      <th>1</th>\n",
       "      <td>25 of 31</td>\n",
       "      <td>2 of 2</td>\n",
       "      <td>1 of 1</td>\n",
       "      <td>0 of 0</td>\n",
       "      <td>0 of 0</td>\n",
       "      <td>2 of 2</td>\n",
       "      <td>3 of 4</td>\n",
       "      <td>2 of 2</td>\n",
       "      <td>0 of 0</td>\n",
       "      <td>0 of 0</td>\n",
       "      <td>2 of 3</td>\n",
       "      <td>0 of 0</td>\n",
       "      <td>2 of 4</td>\n",
       "      <td>0 of 0</td>\n",
       "      <td>3 of 3</td>\n",
       "      <td>0 of 0</td>\n",
       "      <td>0 of 1</td>\n",
       "      <td>2 of 2</td>\n",
       "    </tr>\n",
       "    <tr>\n",
       "      <th>2</th>\n",
       "      <td>75 of 142</td>\n",
       "      <td>59 of 123</td>\n",
       "      <td>22 of 29</td>\n",
       "      <td>9 of 12</td>\n",
       "      <td>13 of 13</td>\n",
       "      <td>34 of 40</td>\n",
       "      <td>55 of 114</td>\n",
       "      <td>53 of 117</td>\n",
       "      <td>5 of 9</td>\n",
       "      <td>3 of 6</td>\n",
       "      <td>20 of 72</td>\n",
       "      <td>10 of 65</td>\n",
       "      <td>0 of 0</td>\n",
       "      <td>0 of 1</td>\n",
       "      <td>0 of 0</td>\n",
       "      <td>0 of 0</td>\n",
       "      <td>50 of 105</td>\n",
       "      <td>50 of 111</td>\n",
       "    </tr>\n",
       "  </tbody>\n",
       "</table>\n",
       "</div>"
      ],
      "text/plain": [
       "  winner_total_str loser_total_str winner_sig_str_body loser_sig_str_body  \\\n",
       "0        78 of 147       84 of 209            11 of 14           13 of 30   \n",
       "1         25 of 31          2 of 2              1 of 1             0 of 0   \n",
       "2        75 of 142       59 of 123            22 of 29            9 of 12   \n",
       "\n",
       "  winner_sig_str_leg loser_sig_str_leg winner_sig_str loser_sig_str  \\\n",
       "0           15 of 16          19 of 23      75 of 144     79 of 204   \n",
       "1             0 of 0            2 of 2         3 of 4        2 of 2   \n",
       "2           13 of 13          34 of 40      55 of 114     53 of 117   \n",
       "\n",
       "  winner_sig_str_clinch loser_sig_str_clinch winner_sig_str_head  \\\n",
       "0                0 of 0               0 of 0           49 of 114   \n",
       "1                0 of 0               0 of 0              2 of 3   \n",
       "2                5 of 9               3 of 6            20 of 72   \n",
       "\n",
       "  loser_sig_str_head winner_TD loser_TD winner_sig_str_ground  \\\n",
       "0          47 of 151    2 of 2   0 of 0                4 of 4   \n",
       "1             0 of 0    2 of 4   0 of 0                3 of 3   \n",
       "2           10 of 65    0 of 0   0 of 1                0 of 0   \n",
       "\n",
       "  loser_sig_str_ground winner_sig_str_distance loser_sig_str_distance  \n",
       "0               0 of 0               71 of 140              79 of 204  \n",
       "1               0 of 0                  0 of 1                 2 of 2  \n",
       "2               0 of 0               50 of 105              50 of 111  "
      ]
     },
     "execution_count": 34,
     "metadata": {},
     "output_type": "execute_result"
    }
   ],
   "source": [
    "stats.loc[:2, of_cols]"
   ]
  },
  {
   "cell_type": "code",
   "execution_count": 35,
   "id": "8437951d-5b0e-4d49-beab-1be6f1821c2a",
   "metadata": {},
   "outputs": [
    {
     "data": {
      "text/html": [
       "<div>\n",
       "<style scoped>\n",
       "    .dataframe tbody tr th:only-of-type {\n",
       "        vertical-align: middle;\n",
       "    }\n",
       "\n",
       "    .dataframe tbody tr th {\n",
       "        vertical-align: top;\n",
       "    }\n",
       "\n",
       "    .dataframe thead th {\n",
       "        text-align: right;\n",
       "    }\n",
       "</style>\n",
       "<table border=\"1\" class=\"dataframe\">\n",
       "  <thead>\n",
       "    <tr style=\"text-align: right;\">\n",
       "      <th></th>\n",
       "      <th>winner_str_acc</th>\n",
       "      <th>loser_str_acc</th>\n",
       "      <th>winner_td_def</th>\n",
       "      <th>loser_td_def</th>\n",
       "      <th>winner_str_def</th>\n",
       "      <th>loser_str_def</th>\n",
       "      <th>winner_td_acc</th>\n",
       "      <th>loser_td_acc</th>\n",
       "    </tr>\n",
       "  </thead>\n",
       "  <tbody>\n",
       "    <tr>\n",
       "      <th>0</th>\n",
       "      <td>45%</td>\n",
       "      <td>46%</td>\n",
       "      <td>100%</td>\n",
       "      <td>84%</td>\n",
       "      <td>68%</td>\n",
       "      <td>60%</td>\n",
       "      <td>55%</td>\n",
       "      <td>71%</td>\n",
       "    </tr>\n",
       "    <tr>\n",
       "      <th>1</th>\n",
       "      <td>72%</td>\n",
       "      <td>40%</td>\n",
       "      <td>0%</td>\n",
       "      <td>84%</td>\n",
       "      <td>66%</td>\n",
       "      <td>60%</td>\n",
       "      <td>75%</td>\n",
       "      <td>27%</td>\n",
       "    </tr>\n",
       "    <tr>\n",
       "      <th>2</th>\n",
       "      <td>53%</td>\n",
       "      <td>52%</td>\n",
       "      <td>85%</td>\n",
       "      <td>90%</td>\n",
       "      <td>65%</td>\n",
       "      <td>52%</td>\n",
       "      <td>33%</td>\n",
       "      <td>25%</td>\n",
       "    </tr>\n",
       "  </tbody>\n",
       "</table>\n",
       "</div>"
      ],
      "text/plain": [
       "  winner_str_acc loser_str_acc winner_td_def loser_td_def winner_str_def  \\\n",
       "0            45%           46%          100%          84%            68%   \n",
       "1            72%           40%            0%          84%            66%   \n",
       "2            53%           52%           85%          90%            65%   \n",
       "\n",
       "  loser_str_def winner_td_acc loser_td_acc  \n",
       "0           60%           55%          71%  \n",
       "1           60%           75%          27%  \n",
       "2           52%           33%          25%  "
      ]
     },
     "execution_count": 35,
     "metadata": {},
     "output_type": "execute_result"
    }
   ],
   "source": [
    "stats.loc[:2, no_pct_symbol_cols]"
   ]
  },
  {
   "cell_type": "code",
   "execution_count": 36,
   "id": "a57bcc4d-5e89-4588-9bd4-70e0e9897161",
   "metadata": {},
   "outputs": [
    {
     "data": {
      "text/html": [
       "<div>\n",
       "<style scoped>\n",
       "    .dataframe tbody tr th:only-of-type {\n",
       "        vertical-align: middle;\n",
       "    }\n",
       "\n",
       "    .dataframe tbody tr th {\n",
       "        vertical-align: top;\n",
       "    }\n",
       "\n",
       "    .dataframe thead th {\n",
       "        text-align: right;\n",
       "    }\n",
       "</style>\n",
       "<table border=\"1\" class=\"dataframe\">\n",
       "  <thead>\n",
       "    <tr style=\"text-align: right;\">\n",
       "      <th></th>\n",
       "      <th>winner_ctrl</th>\n",
       "      <th>loser_ctrl</th>\n",
       "    </tr>\n",
       "  </thead>\n",
       "  <tbody>\n",
       "    <tr>\n",
       "      <th>0</th>\n",
       "      <td>0:45</td>\n",
       "      <td>0:00</td>\n",
       "    </tr>\n",
       "    <tr>\n",
       "      <th>1</th>\n",
       "      <td>3:20</td>\n",
       "      <td>0:00</td>\n",
       "    </tr>\n",
       "    <tr>\n",
       "      <th>2</th>\n",
       "      <td>1:31</td>\n",
       "      <td>1:00</td>\n",
       "    </tr>\n",
       "  </tbody>\n",
       "</table>\n",
       "</div>"
      ],
      "text/plain": [
       "  winner_ctrl loser_ctrl\n",
       "0        0:45       0:00\n",
       "1        3:20       0:00\n",
       "2        1:31       1:00"
      ]
     },
     "execution_count": 36,
     "metadata": {},
     "output_type": "execute_result"
    }
   ],
   "source": [
    "stats.loc[:2, time_cols]"
   ]
  },
  {
   "cell_type": "markdown",
   "id": "812f653a-7e40-41db-b8c7-e9b29aefe743",
   "metadata": {},
   "source": [
    "Looks good, let's also add _pct postfix to the column that will consist of pct values to differentiate later."
   ]
  },
  {
   "cell_type": "code",
   "execution_count": 37,
   "id": "6683aa98-3c45-4a8b-83cf-65e2939033e9",
   "metadata": {},
   "outputs": [
    {
     "data": {
      "text/plain": [
       "'of_cols = [col + \"_pct\" for col in of_cols]\\nno_pct_symbol_cols = [col + \"_pct\" for col in no_pct_symbol_cols]'"
      ]
     },
     "execution_count": 37,
     "metadata": {},
     "output_type": "execute_result"
    }
   ],
   "source": [
    "\"\"\"of_cols = [col + \"_pct\" for col in of_cols]\n",
    "no_pct_symbol_cols = [col + \"_pct\" for col in no_pct_symbol_cols]\"\"\""
   ]
  },
  {
   "cell_type": "markdown",
   "id": "be6cc250-61e1-482b-8100-c313aac20678",
   "metadata": {},
   "source": [
    "Let's standardize."
   ]
  },
  {
   "cell_type": "markdown",
   "id": "cca20614-e34f-46c8-aac4-56b480174dd1",
   "metadata": {},
   "source": [
    "### Standardizing fractions into pct % (e.g. from **50 of 100** to **50%**):"
   ]
  },
  {
   "cell_type": "code",
   "execution_count": 33,
   "id": "016525e2-2ec5-45e9-9c5d-4221649502b8",
   "metadata": {},
   "outputs": [],
   "source": [
    "def convert_ratio_to_pct(row):\n",
    "    row = row.split(\"of\")\n",
    "    return (int(row[0]) * 100) / int(row[1]) if re.search(r\"\\d\", row[0]) and int(row[0]) != 0 else 0"
   ]
  },
  {
   "cell_type": "markdown",
   "id": "59bf11ce-c642-4036-8722-fa446d9290f4",
   "metadata": {},
   "source": [
    "Applying:"
   ]
  },
  {
   "cell_type": "code",
   "execution_count": 34,
   "id": "692dd25c-8585-4689-88f6-99f1f4665642",
   "metadata": {},
   "outputs": [],
   "source": [
    "\"\"\"for col in of_cols:\n",
    "    stats[col] = stats[col].apply(convert_ratio_to_pct)\"\"\"\n",
    "\n",
    "# Rename\n",
    "name_mappings = {col: f\"{col}_pct\" for col in of_cols}\n",
    "stats.rename(columns=name_mappings, inplace=True)"
   ]
  },
  {
   "cell_type": "code",
   "execution_count": 46,
   "id": "97bb7fda-7737-46a8-a1ef-e23549f51f18",
   "metadata": {},
   "outputs": [
    {
     "data": {
      "text/html": [
       "<div>\n",
       "<style scoped>\n",
       "    .dataframe tbody tr th:only-of-type {\n",
       "        vertical-align: middle;\n",
       "    }\n",
       "\n",
       "    .dataframe tbody tr th {\n",
       "        vertical-align: top;\n",
       "    }\n",
       "\n",
       "    .dataframe thead th {\n",
       "        text-align: right;\n",
       "    }\n",
       "</style>\n",
       "<table border=\"1\" class=\"dataframe\">\n",
       "  <thead>\n",
       "    <tr style=\"text-align: right;\">\n",
       "      <th></th>\n",
       "      <th>winner_sig_str_distance_pct</th>\n",
       "      <th>winner_sig_str_distance_pct</th>\n",
       "      <th>loser_sig_str_distance_pct</th>\n",
       "      <th>loser_sig_str_distance_pct</th>\n",
       "      <th>winner_sig_str_body_pct</th>\n",
       "      <th>winner_sig_str_body_pct</th>\n",
       "      <th>loser_sig_str_body_pct</th>\n",
       "      <th>loser_sig_str_body_pct</th>\n",
       "      <th>winner_sig_str_leg_pct</th>\n",
       "      <th>winner_sig_str_leg_pct</th>\n",
       "      <th>...</th>\n",
       "      <th>loser_TD_pct</th>\n",
       "      <th>loser_TD_pct</th>\n",
       "      <th>winner_sig_str_ground_pct</th>\n",
       "      <th>winner_sig_str_ground_pct</th>\n",
       "      <th>loser_sig_str_ground_pct</th>\n",
       "      <th>loser_sig_str_ground_pct</th>\n",
       "      <th>winner_sig_str_pct</th>\n",
       "      <th>winner_sig_str_pct</th>\n",
       "      <th>loser_sig_str_pct</th>\n",
       "      <th>loser_sig_str_pct</th>\n",
       "    </tr>\n",
       "  </thead>\n",
       "  <tbody>\n",
       "    <tr>\n",
       "      <th>0</th>\n",
       "      <td>94.0</td>\n",
       "      <td>71 of 140</td>\n",
       "      <td>100.0</td>\n",
       "      <td>79 of 204</td>\n",
       "      <td>14.0</td>\n",
       "      <td>11 of 14</td>\n",
       "      <td>16.0</td>\n",
       "      <td>13 of 30</td>\n",
       "      <td>20.0</td>\n",
       "      <td>15 of 16</td>\n",
       "      <td>...</td>\n",
       "      <td>0.0</td>\n",
       "      <td>0 of 0</td>\n",
       "      <td>5.0</td>\n",
       "      <td>4 of 4</td>\n",
       "      <td>0.0</td>\n",
       "      <td>0 of 0</td>\n",
       "      <td>52.0</td>\n",
       "      <td>75 of 144</td>\n",
       "      <td>38.0</td>\n",
       "      <td>79 of 204</td>\n",
       "    </tr>\n",
       "    <tr>\n",
       "      <th>1</th>\n",
       "      <td>0.0</td>\n",
       "      <td>0 of 1</td>\n",
       "      <td>100.0</td>\n",
       "      <td>2 of 2</td>\n",
       "      <td>33.0</td>\n",
       "      <td>1 of 1</td>\n",
       "      <td>0.0</td>\n",
       "      <td>0 of 0</td>\n",
       "      <td>0.0</td>\n",
       "      <td>0 of 0</td>\n",
       "      <td>...</td>\n",
       "      <td>0.0</td>\n",
       "      <td>0 of 0</td>\n",
       "      <td>100.0</td>\n",
       "      <td>3 of 3</td>\n",
       "      <td>0.0</td>\n",
       "      <td>0 of 0</td>\n",
       "      <td>75.0</td>\n",
       "      <td>3 of 4</td>\n",
       "      <td>100.0</td>\n",
       "      <td>2 of 2</td>\n",
       "    </tr>\n",
       "    <tr>\n",
       "      <th>2</th>\n",
       "      <td>90.0</td>\n",
       "      <td>50 of 105</td>\n",
       "      <td>94.0</td>\n",
       "      <td>50 of 111</td>\n",
       "      <td>40.0</td>\n",
       "      <td>22 of 29</td>\n",
       "      <td>16.0</td>\n",
       "      <td>9 of 12</td>\n",
       "      <td>23.0</td>\n",
       "      <td>13 of 13</td>\n",
       "      <td>...</td>\n",
       "      <td>0.0</td>\n",
       "      <td>0 of 1</td>\n",
       "      <td>0.0</td>\n",
       "      <td>0 of 0</td>\n",
       "      <td>0.0</td>\n",
       "      <td>0 of 0</td>\n",
       "      <td>48.0</td>\n",
       "      <td>55 of 114</td>\n",
       "      <td>45.0</td>\n",
       "      <td>53 of 117</td>\n",
       "    </tr>\n",
       "    <tr>\n",
       "      <th>3</th>\n",
       "      <td>71.0</td>\n",
       "      <td>37 of 80</td>\n",
       "      <td>69.0</td>\n",
       "      <td>32 of 79</td>\n",
       "      <td>23.0</td>\n",
       "      <td>12 of 17</td>\n",
       "      <td>10.0</td>\n",
       "      <td>5 of 8</td>\n",
       "      <td>7.0</td>\n",
       "      <td>4 of 6</td>\n",
       "      <td>...</td>\n",
       "      <td>33.0</td>\n",
       "      <td>1 of 3</td>\n",
       "      <td>5.0</td>\n",
       "      <td>3 of 4</td>\n",
       "      <td>17.0</td>\n",
       "      <td>8 of 11</td>\n",
       "      <td>52.0</td>\n",
       "      <td>52 of 100</td>\n",
       "      <td>43.0</td>\n",
       "      <td>46 of 106</td>\n",
       "    </tr>\n",
       "    <tr>\n",
       "      <th>4</th>\n",
       "      <td>72.0</td>\n",
       "      <td>13 of 24</td>\n",
       "      <td>100.0</td>\n",
       "      <td>4 of 13</td>\n",
       "      <td>16.0</td>\n",
       "      <td>3 of 3</td>\n",
       "      <td>25.0</td>\n",
       "      <td>1 of 1</td>\n",
       "      <td>16.0</td>\n",
       "      <td>3 of 3</td>\n",
       "      <td>...</td>\n",
       "      <td>0.0</td>\n",
       "      <td>0 of 0</td>\n",
       "      <td>27.0</td>\n",
       "      <td>5 of 6</td>\n",
       "      <td>0.0</td>\n",
       "      <td>0 of 0</td>\n",
       "      <td>60.0</td>\n",
       "      <td>18 of 30</td>\n",
       "      <td>30.0</td>\n",
       "      <td>4 of 13</td>\n",
       "    </tr>\n",
       "    <tr>\n",
       "      <th>...</th>\n",
       "      <td>...</td>\n",
       "      <td>...</td>\n",
       "      <td>...</td>\n",
       "      <td>...</td>\n",
       "      <td>...</td>\n",
       "      <td>...</td>\n",
       "      <td>...</td>\n",
       "      <td>...</td>\n",
       "      <td>...</td>\n",
       "      <td>...</td>\n",
       "      <td>...</td>\n",
       "      <td>...</td>\n",
       "      <td>...</td>\n",
       "      <td>...</td>\n",
       "      <td>...</td>\n",
       "      <td>...</td>\n",
       "      <td>...</td>\n",
       "      <td>...</td>\n",
       "      <td>...</td>\n",
       "      <td>...</td>\n",
       "      <td>...</td>\n",
       "    </tr>\n",
       "    <tr>\n",
       "      <th>6816</th>\n",
       "      <td>66.0</td>\n",
       "      <td>2 of 4</td>\n",
       "      <td>0.0</td>\n",
       "      <td>0 of 2</td>\n",
       "      <td>33.0</td>\n",
       "      <td>1 of 2</td>\n",
       "      <td>0.0</td>\n",
       "      <td>0 of 0</td>\n",
       "      <td>33.0</td>\n",
       "      <td>1 of 1</td>\n",
       "      <td>...</td>\n",
       "      <td>100.0</td>\n",
       "      <td>1 of 1</td>\n",
       "      <td>33.0</td>\n",
       "      <td>1 of 1</td>\n",
       "      <td>0.0</td>\n",
       "      <td>0 of 0</td>\n",
       "      <td>60.0</td>\n",
       "      <td>3 of 5</td>\n",
       "      <td>0.0</td>\n",
       "      <td>0 of 2</td>\n",
       "    </tr>\n",
       "    <tr>\n",
       "      <th>6817</th>\n",
       "      <td>0.0</td>\n",
       "      <td>0 of 1</td>\n",
       "      <td>100.0</td>\n",
       "      <td>1 of 1</td>\n",
       "      <td>0.0</td>\n",
       "      <td>0 of 0</td>\n",
       "      <td>0.0</td>\n",
       "      <td>0 of 0</td>\n",
       "      <td>0.0</td>\n",
       "      <td>0 of 1</td>\n",
       "      <td>...</td>\n",
       "      <td>0.0</td>\n",
       "      <td>0 of 0</td>\n",
       "      <td>100.0</td>\n",
       "      <td>4 of 5</td>\n",
       "      <td>0.0</td>\n",
       "      <td>0 of 2</td>\n",
       "      <td>66.0</td>\n",
       "      <td>4 of 6</td>\n",
       "      <td>33.0</td>\n",
       "      <td>1 of 3</td>\n",
       "    </tr>\n",
       "    <tr>\n",
       "      <th>6818</th>\n",
       "      <td>12.0</td>\n",
       "      <td>1 of 3</td>\n",
       "      <td>100.0</td>\n",
       "      <td>2 of 6</td>\n",
       "      <td>12.0</td>\n",
       "      <td>1 of 1</td>\n",
       "      <td>0.0</td>\n",
       "      <td>0 of 1</td>\n",
       "      <td>0.0</td>\n",
       "      <td>0 of 0</td>\n",
       "      <td>...</td>\n",
       "      <td>100.0</td>\n",
       "      <td>1 of 1</td>\n",
       "      <td>87.0</td>\n",
       "      <td>7 of 9</td>\n",
       "      <td>0.0</td>\n",
       "      <td>0 of 0</td>\n",
       "      <td>66.0</td>\n",
       "      <td>8 of 12</td>\n",
       "      <td>33.0</td>\n",
       "      <td>2 of 6</td>\n",
       "    </tr>\n",
       "    <tr>\n",
       "      <th>6819</th>\n",
       "      <td>9.0</td>\n",
       "      <td>1 of 1</td>\n",
       "      <td>25.0</td>\n",
       "      <td>1 of 2</td>\n",
       "      <td>9.0</td>\n",
       "      <td>1 of 1</td>\n",
       "      <td>0.0</td>\n",
       "      <td>0 of 0</td>\n",
       "      <td>9.0</td>\n",
       "      <td>1 of 1</td>\n",
       "      <td>...</td>\n",
       "      <td>0.0</td>\n",
       "      <td>0 of 0</td>\n",
       "      <td>81.0</td>\n",
       "      <td>9 of 15</td>\n",
       "      <td>25.0</td>\n",
       "      <td>1 of 1</td>\n",
       "      <td>64.0</td>\n",
       "      <td>11 of 17</td>\n",
       "      <td>80.0</td>\n",
       "      <td>4 of 5</td>\n",
       "    </tr>\n",
       "    <tr>\n",
       "      <th>6820</th>\n",
       "      <td>0.0</td>\n",
       "      <td>0 of 0</td>\n",
       "      <td>0.0</td>\n",
       "      <td>0 of 3</td>\n",
       "      <td>0.0</td>\n",
       "      <td>0 of 0</td>\n",
       "      <td>0.0</td>\n",
       "      <td>0 of 0</td>\n",
       "      <td>0.0</td>\n",
       "      <td>0 of 0</td>\n",
       "      <td>...</td>\n",
       "      <td>0.0</td>\n",
       "      <td>0 of 0</td>\n",
       "      <td>0.0</td>\n",
       "      <td>0 of 0</td>\n",
       "      <td>0.0</td>\n",
       "      <td>0 of 0</td>\n",
       "      <td>100.0</td>\n",
       "      <td>1 of 1</td>\n",
       "      <td>0.0</td>\n",
       "      <td>0 of 4</td>\n",
       "    </tr>\n",
       "  </tbody>\n",
       "</table>\n",
       "<p>6821 rows × 34 columns</p>\n",
       "</div>"
      ],
      "text/plain": [
       "     winner_sig_str_distance_pct winner_sig_str_distance_pct  \\\n",
       "0                           94.0                   71 of 140   \n",
       "1                            0.0                      0 of 1   \n",
       "2                           90.0                   50 of 105   \n",
       "3                           71.0                    37 of 80   \n",
       "4                           72.0                    13 of 24   \n",
       "...                          ...                         ...   \n",
       "6816                        66.0                      2 of 4   \n",
       "6817                         0.0                      0 of 1   \n",
       "6818                        12.0                      1 of 3   \n",
       "6819                         9.0                      1 of 1   \n",
       "6820                         0.0                      0 of 0   \n",
       "\n",
       "     loser_sig_str_distance_pct loser_sig_str_distance_pct  \\\n",
       "0                         100.0                  79 of 204   \n",
       "1                         100.0                     2 of 2   \n",
       "2                          94.0                  50 of 111   \n",
       "3                          69.0                   32 of 79   \n",
       "4                         100.0                    4 of 13   \n",
       "...                         ...                        ...   \n",
       "6816                        0.0                     0 of 2   \n",
       "6817                      100.0                     1 of 1   \n",
       "6818                      100.0                     2 of 6   \n",
       "6819                       25.0                     1 of 2   \n",
       "6820                        0.0                     0 of 3   \n",
       "\n",
       "     winner_sig_str_body_pct winner_sig_str_body_pct loser_sig_str_body_pct  \\\n",
       "0                       14.0                11 of 14                   16.0   \n",
       "1                       33.0                  1 of 1                    0.0   \n",
       "2                       40.0                22 of 29                   16.0   \n",
       "3                       23.0                12 of 17                   10.0   \n",
       "4                       16.0                  3 of 3                   25.0   \n",
       "...                      ...                     ...                    ...   \n",
       "6816                    33.0                  1 of 2                    0.0   \n",
       "6817                     0.0                  0 of 0                    0.0   \n",
       "6818                    12.0                  1 of 1                    0.0   \n",
       "6819                     9.0                  1 of 1                    0.0   \n",
       "6820                     0.0                  0 of 0                    0.0   \n",
       "\n",
       "     loser_sig_str_body_pct winner_sig_str_leg_pct winner_sig_str_leg_pct  \\\n",
       "0                  13 of 30                   20.0               15 of 16   \n",
       "1                    0 of 0                    0.0                 0 of 0   \n",
       "2                   9 of 12                   23.0               13 of 13   \n",
       "3                    5 of 8                    7.0                 4 of 6   \n",
       "4                    1 of 1                   16.0                 3 of 3   \n",
       "...                     ...                    ...                    ...   \n",
       "6816                 0 of 0                   33.0                 1 of 1   \n",
       "6817                 0 of 0                    0.0                 0 of 1   \n",
       "6818                 0 of 1                    0.0                 0 of 0   \n",
       "6819                 0 of 0                    9.0                 1 of 1   \n",
       "6820                 0 of 0                    0.0                 0 of 0   \n",
       "\n",
       "      ... loser_TD_pct loser_TD_pct winner_sig_str_ground_pct  \\\n",
       "0     ...          0.0       0 of 0                       5.0   \n",
       "1     ...          0.0       0 of 0                     100.0   \n",
       "2     ...          0.0       0 of 1                       0.0   \n",
       "3     ...         33.0       1 of 3                       5.0   \n",
       "4     ...          0.0       0 of 0                      27.0   \n",
       "...   ...          ...          ...                       ...   \n",
       "6816  ...        100.0       1 of 1                      33.0   \n",
       "6817  ...          0.0       0 of 0                     100.0   \n",
       "6818  ...        100.0       1 of 1                      87.0   \n",
       "6819  ...          0.0       0 of 0                      81.0   \n",
       "6820  ...          0.0       0 of 0                       0.0   \n",
       "\n",
       "     winner_sig_str_ground_pct  loser_sig_str_ground_pct  \\\n",
       "0                       4 of 4                       0.0   \n",
       "1                       3 of 3                       0.0   \n",
       "2                       0 of 0                       0.0   \n",
       "3                       3 of 4                      17.0   \n",
       "4                       5 of 6                       0.0   \n",
       "...                        ...                       ...   \n",
       "6816                    1 of 1                       0.0   \n",
       "6817                    4 of 5                       0.0   \n",
       "6818                    7 of 9                       0.0   \n",
       "6819                   9 of 15                      25.0   \n",
       "6820                    0 of 0                       0.0   \n",
       "\n",
       "      loser_sig_str_ground_pct  winner_sig_str_pct  winner_sig_str_pct  \\\n",
       "0                       0 of 0                52.0           75 of 144   \n",
       "1                       0 of 0                75.0              3 of 4   \n",
       "2                       0 of 0                48.0           55 of 114   \n",
       "3                      8 of 11                52.0           52 of 100   \n",
       "4                       0 of 0                60.0            18 of 30   \n",
       "...                        ...                 ...                 ...   \n",
       "6816                    0 of 0                60.0              3 of 5   \n",
       "6817                    0 of 2                66.0              4 of 6   \n",
       "6818                    0 of 0                66.0             8 of 12   \n",
       "6819                    1 of 1                64.0            11 of 17   \n",
       "6820                    0 of 0               100.0              1 of 1   \n",
       "\n",
       "     loser_sig_str_pct loser_sig_str_pct  \n",
       "0                 38.0         79 of 204  \n",
       "1                100.0            2 of 2  \n",
       "2                 45.0         53 of 117  \n",
       "3                 43.0         46 of 106  \n",
       "4                 30.0           4 of 13  \n",
       "...                ...               ...  \n",
       "6816               0.0            0 of 2  \n",
       "6817              33.0            1 of 3  \n",
       "6818              33.0            2 of 6  \n",
       "6819              80.0            4 of 5  \n",
       "6820               0.0            0 of 4  \n",
       "\n",
       "[6821 rows x 34 columns]"
      ]
     },
     "execution_count": 46,
     "metadata": {},
     "output_type": "execute_result"
    }
   ],
   "source": [
    "stats[name_mappings.values()]"
   ]
  },
  {
   "cell_type": "code",
   "execution_count": 35,
   "id": "9b4563c4-1dc6-4e18-ac51-5db5f91a5083",
   "metadata": {},
   "outputs": [
    {
     "data": {
      "text/html": [
       "<div>\n",
       "<style scoped>\n",
       "    .dataframe tbody tr th:only-of-type {\n",
       "        vertical-align: middle;\n",
       "    }\n",
       "\n",
       "    .dataframe tbody tr th {\n",
       "        vertical-align: top;\n",
       "    }\n",
       "\n",
       "    .dataframe thead th {\n",
       "        text-align: right;\n",
       "    }\n",
       "</style>\n",
       "<table border=\"1\" class=\"dataframe\">\n",
       "  <thead>\n",
       "    <tr style=\"text-align: right;\">\n",
       "      <th></th>\n",
       "      <th>winner_sig_str_pct</th>\n",
       "      <th>winner_sig_str_pct</th>\n",
       "    </tr>\n",
       "  </thead>\n",
       "  <tbody>\n",
       "    <tr>\n",
       "      <th>0</th>\n",
       "      <td>52.0</td>\n",
       "      <td>75 of 144</td>\n",
       "    </tr>\n",
       "    <tr>\n",
       "      <th>1</th>\n",
       "      <td>75.0</td>\n",
       "      <td>3 of 4</td>\n",
       "    </tr>\n",
       "    <tr>\n",
       "      <th>2</th>\n",
       "      <td>48.0</td>\n",
       "      <td>55 of 114</td>\n",
       "    </tr>\n",
       "    <tr>\n",
       "      <th>3</th>\n",
       "      <td>52.0</td>\n",
       "      <td>52 of 100</td>\n",
       "    </tr>\n",
       "    <tr>\n",
       "      <th>4</th>\n",
       "      <td>60.0</td>\n",
       "      <td>18 of 30</td>\n",
       "    </tr>\n",
       "    <tr>\n",
       "      <th>...</th>\n",
       "      <td>...</td>\n",
       "      <td>...</td>\n",
       "    </tr>\n",
       "    <tr>\n",
       "      <th>6816</th>\n",
       "      <td>60.0</td>\n",
       "      <td>3 of 5</td>\n",
       "    </tr>\n",
       "    <tr>\n",
       "      <th>6817</th>\n",
       "      <td>66.0</td>\n",
       "      <td>4 of 6</td>\n",
       "    </tr>\n",
       "    <tr>\n",
       "      <th>6818</th>\n",
       "      <td>66.0</td>\n",
       "      <td>8 of 12</td>\n",
       "    </tr>\n",
       "    <tr>\n",
       "      <th>6819</th>\n",
       "      <td>64.0</td>\n",
       "      <td>11 of 17</td>\n",
       "    </tr>\n",
       "    <tr>\n",
       "      <th>6820</th>\n",
       "      <td>100.0</td>\n",
       "      <td>1 of 1</td>\n",
       "    </tr>\n",
       "  </tbody>\n",
       "</table>\n",
       "<p>6821 rows × 2 columns</p>\n",
       "</div>"
      ],
      "text/plain": [
       "     winner_sig_str_pct winner_sig_str_pct\n",
       "0                  52.0          75 of 144\n",
       "1                  75.0             3 of 4\n",
       "2                  48.0          55 of 114\n",
       "3                  52.0          52 of 100\n",
       "4                  60.0           18 of 30\n",
       "...                 ...                ...\n",
       "6816               60.0             3 of 5\n",
       "6817               66.0             4 of 6\n",
       "6818               66.0            8 of 12\n",
       "6819               64.0           11 of 17\n",
       "6820              100.0             1 of 1\n",
       "\n",
       "[6821 rows x 2 columns]"
      ]
     },
     "execution_count": 35,
     "metadata": {},
     "output_type": "execute_result"
    }
   ],
   "source": [
    "stats['winner_sig_str_pct']"
   ]
  },
  {
   "cell_type": "markdown",
   "id": "b375a017-5373-41f9-b618-87f80a87052f",
   "metadata": {},
   "source": [
    "Replacing **--** and **-** entries with zeros:"
   ]
  },
  {
   "cell_type": "code",
   "execution_count": 378,
   "id": "a640cf2f-5f73-402a-8562-54bafd1cc711",
   "metadata": {},
   "outputs": [],
   "source": [
    "stats.loc[stats['winner_ctrl'].isin(['--', '-', '0']), 'winner_ctrl'] = '0:00'\n",
    "stats.loc[stats['loser_ctrl'].isin(['--', '-', '0']), 'loser_ctrl'] = '0:00'"
   ]
  },
  {
   "cell_type": "markdown",
   "id": "c546a1d4-844b-46a1-aa82-06d96404654d",
   "metadata": {},
   "source": [
    "Standardizing time from **mm:ss** into total **ss**:"
   ]
  },
  {
   "cell_type": "code",
   "execution_count": 379,
   "id": "dd990d68-c55d-4041-a26f-a563080fe862",
   "metadata": {},
   "outputs": [],
   "source": [
    "stats.loc[:, 'winner_ctrl'] = pd.to_timedelta(\"00:\" + stats.loc[:, 'winner_ctrl']).dt.total_seconds()\n",
    "stats.loc[:, 'loser_ctrl'] = pd.to_timedelta(\"00:\" + stats.loc[:, 'loser_ctrl']).dt.total_seconds()"
   ]
  },
  {
   "cell_type": "markdown",
   "id": "0f941dfd-8921-4feb-9ade-a099ed2a35de",
   "metadata": {},
   "source": [
    "Find columns that need to be cleaned:"
   ]
  },
  {
   "cell_type": "code",
   "execution_count": 270,
   "id": "68ed2cbe-9ad3-4edc-9119-0a14f932eb04",
   "metadata": {},
   "outputs": [
    {
     "data": {
      "text/plain": [
       "['winner_sig_str',\n",
       " 'loser_sig_str',\n",
       " 'winner_sig_str_distance_pct',\n",
       " 'loser_sig_str_distance_pct',\n",
       " 'winner_sig_str_pct',\n",
       " 'loser_sig_str_pct',\n",
       " 'winner_td_def',\n",
       " 'loser_td_def',\n",
       " 'winner_str_def',\n",
       " 'loser_str_def',\n",
       " 'winner_sig_str_leg',\n",
       " 'loser_sig_str_leg',\n",
       " 'winner_TD',\n",
       " 'loser_TD',\n",
       " 'winner_rev',\n",
       " 'loser_rev',\n",
       " 'winner_KD',\n",
       " 'loser_KD',\n",
       " 'winner_sig_str_ground',\n",
       " 'loser_sig_str_ground',\n",
       " 'winner_sig_str_body_pct',\n",
       " 'loser_sig_str_body_pct',\n",
       " 'winner_sig_str_body',\n",
       " 'loser_sig_str_body',\n",
       " 'winner_sig_str_distance',\n",
       " 'loser_sig_str_distance',\n",
       " 'winner_sig_str_leg_pct',\n",
       " 'loser_sig_str_leg_pct',\n",
       " 'winner_td_acc',\n",
       " 'loser_td_acc',\n",
       " 'winner_total_str',\n",
       " 'loser_total_str',\n",
       " 'winner_sig_str_clinch',\n",
       " 'loser_sig_str_clinch',\n",
       " 'winner_sig_str_head',\n",
       " 'loser_sig_str_head',\n",
       " 'winner_sig_str_head_pct',\n",
       " 'loser_sig_str_head_pct',\n",
       " 'winner_sub_att',\n",
       " 'loser_sub_att',\n",
       " 'winner_ctrl',\n",
       " 'loser_ctrl',\n",
       " 'winner_str_acc',\n",
       " 'loser_str_acc',\n",
       " 'winner_TD_pct',\n",
       " 'winner_sig_str_ground_pct',\n",
       " 'loser_sig_str_ground_pct',\n",
       " 'winner_sig_str_clinch_pct',\n",
       " 'loser_sig_str_clinch_pct']"
      ]
     },
     "execution_count": 270,
     "metadata": {},
     "output_type": "execute_result"
    }
   ],
   "source": [
    "cols_to_clean = [] \n",
    "for col in stats.columns:\n",
    "    if stats[col].dtype == 'object' and (col.startswith('loser_') or col.startswith('winner_')) \\\n",
    "       and any(char.isdigit() for char in stats.loc[0, col]):\n",
    "        cols_to_clean.append(col)\n",
    "    \n",
    "cols_to_clean"
   ]
  },
  {
   "cell_type": "code",
   "execution_count": null,
   "id": "572c0a71-2d47-4d2c-8037-e99ec2c19bf4",
   "metadata": {},
   "outputs": [],
   "source": [
    "stats['winner_sig_str_head_pct'] = stats['winner_sig_str_head_pct'].astype(float)"
   ]
  },
  {
   "cell_type": "code",
   "execution_count": 352,
   "id": "8a38c17d-b546-48cf-b583-4c3136dae6a8",
   "metadata": {},
   "outputs": [
    {
     "name": "stdout",
     "output_type": "stream",
     "text": [
      "> \u001b[0;32m/var/folders/99/3nnshfd56kv1_g2l04l874t00000gn/T/ipykernel_3054/386721011.py\u001b[0m(7)\u001b[0;36m<module>\u001b[0;34m()\u001b[0m\n",
      "\u001b[0;32m      5 \u001b[0;31m        \u001b[0mstats\u001b[0m\u001b[0;34m[\u001b[0m\u001b[0mcol\u001b[0m\u001b[0;34m]\u001b[0m\u001b[0;34m.\u001b[0m\u001b[0mdtype\u001b[0m \u001b[0;34m==\u001b[0m \u001b[0;34m'object'\u001b[0m\u001b[0;34m\u001b[0m\u001b[0;34m\u001b[0m\u001b[0m\n",
      "\u001b[0m\u001b[0;32m      6 \u001b[0;31m        \u001b[0;32mand\u001b[0m \u001b[0;34m(\u001b[0m\u001b[0mcol\u001b[0m\u001b[0;34m.\u001b[0m\u001b[0mstartswith\u001b[0m\u001b[0;34m(\u001b[0m\u001b[0;34m'loser_'\u001b[0m\u001b[0;34m)\u001b[0m \u001b[0;32mor\u001b[0m \u001b[0mcol\u001b[0m\u001b[0;34m.\u001b[0m\u001b[0mstartswith\u001b[0m\u001b[0;34m(\u001b[0m\u001b[0;34m'winner_'\u001b[0m\u001b[0;34m)\u001b[0m\u001b[0;34m)\u001b[0m\u001b[0;34m\u001b[0m\u001b[0;34m\u001b[0m\u001b[0m\n",
      "\u001b[0m\u001b[0;32m----> 7 \u001b[0;31m        \u001b[0;32mand\u001b[0m \u001b[0many\u001b[0m\u001b[0;34m(\u001b[0m\u001b[0mchar\u001b[0m\u001b[0;34m.\u001b[0m\u001b[0misdigit\u001b[0m\u001b[0;34m(\u001b[0m\u001b[0;34m)\u001b[0m \u001b[0;32mfor\u001b[0m \u001b[0mchar\u001b[0m \u001b[0;32min\u001b[0m \u001b[0mval\u001b[0m\u001b[0;34m)\u001b[0m\u001b[0;34m\u001b[0m\u001b[0;34m\u001b[0m\u001b[0m\n",
      "\u001b[0m\u001b[0;32m      8 \u001b[0;31m    \u001b[0;34m)\u001b[0m\u001b[0;34m:\u001b[0m\u001b[0;34m\u001b[0m\u001b[0;34m\u001b[0m\u001b[0m\n",
      "\u001b[0m\u001b[0;32m      9 \u001b[0;31m        \u001b[0mcols_to_clean\u001b[0m\u001b[0;34m.\u001b[0m\u001b[0mappend\u001b[0m\u001b[0;34m(\u001b[0m\u001b[0mcol\u001b[0m\u001b[0;34m)\u001b[0m\u001b[0;34m\u001b[0m\u001b[0;34m\u001b[0m\u001b[0m\n",
      "\u001b[0m\n"
     ]
    },
    {
     "name": "stdin",
     "output_type": "stream",
     "text": [
      "ipdb>  val\n"
     ]
    },
    {
     "name": "stdout",
     "output_type": "stream",
     "text": [
      "45.0\n"
     ]
    },
    {
     "name": "stdin",
     "output_type": "stream",
     "text": [
      "ipdb>  col\n"
     ]
    },
    {
     "name": "stdout",
     "output_type": "stream",
     "text": [
      "'winner_ctrl'\n"
     ]
    },
    {
     "name": "stdin",
     "output_type": "stream",
     "text": [
      "ipdb>  q\n"
     ]
    }
   ],
   "source": [
    "%debug"
   ]
  },
  {
   "cell_type": "code",
   "execution_count": 277,
   "id": "373cb5d4-ea5f-4208-b221-90d9a9b27de4",
   "metadata": {},
   "outputs": [],
   "source": [
    "stats['winner_sig_str_head_pct'] = stats['winner_sig_str_head_pct'].astype(float)"
   ]
  },
  {
   "cell_type": "code",
   "execution_count": 278,
   "id": "27d5b23f-dc60-47a6-8d2b-d7a896d203b4",
   "metadata": {},
   "outputs": [
    {
     "data": {
      "text/plain": [
       "dtype('float64')"
      ]
     },
     "execution_count": 278,
     "metadata": {},
     "output_type": "execute_result"
    }
   ],
   "source": [
    "stats['winner_sig_str_head_pct'].dtype"
   ]
  },
  {
   "cell_type": "code",
   "execution_count": 276,
   "id": "60633c81-d884-47d9-b8f7-ef568068d5e0",
   "metadata": {},
   "outputs": [
    {
     "data": {
      "text/plain": [
       "array(['65', '66', '36', '69', '63', '82', '81', '76', '46', '86', '35',\n",
       "       '89', '53', '84', '67', '51', '55', '64', '75', '48', '74', '57',\n",
       "       '90', '91', '52', '59', '40', '100', '70', '73', '71', '47', '68',\n",
       "       '43', '61', '54', '50', '42', '83', '77', '60', '92', '62', '72',\n",
       "       '78', '41', '80', '39', '79', '34', '30', '88', '58', '26', '85',\n",
       "       '45', '20', '87', '37', '96', '19', '56', '44', '38', '13', '94',\n",
       "       '93', '32', '18', '27', '33', '28', '0', '11', '23', '15', '95',\n",
       "       '12', '25', '21', '29', '31', '10', '97', '49', '24', '22', '98',\n",
       "       '16', '6', '5', '17', '14', '3', '7'], dtype=object)"
      ]
     },
     "execution_count": 276,
     "metadata": {},
     "output_type": "execute_result"
    }
   ],
   "source": [
    "stats['winner_sig_str_head_pct'].unique()"
   ]
  },
  {
   "cell_type": "markdown",
   "id": "3e7d1168-ae8b-4b9e-9223-9eac9e1354cc",
   "metadata": {},
   "source": [
    "## Dropping Redundant Features"
   ]
  },
  {
   "cell_type": "code",
   "execution_count": 24,
   "id": "de52bcc2-826b-4701-97e1-520813c393bb",
   "metadata": {},
   "outputs": [],
   "source": [
    "stats.drop(['loser_sig_str', 'winner_total_str', 'loser_total_str', 'winner_sig_str',\n",
    "         'winner_TD', 'loser_TD', 'winner_sig_str_head', 'loser_sig_str_head', \n",
    "         'winner_sig_str_body', 'loser_sig_str_body', 'winner_sig_str_leg', 'loser_sig_str_leg',\n",
    "         'winner_sig_str_distance', 'loser_sig_str_distance', 'winner_sig_str_clinch',\n",
    "         'loser_sig_str_clinch', 'winner_sig_str_ground', 'loser_sig_str_ground'], axis=1, inplace=True)"
   ]
  },
  {
   "cell_type": "markdown",
   "id": "1c1ea8a6-ed70-4dbb-92ba-54f9ca1d19dd",
   "metadata": {},
   "source": [
    "## Converting Dtypes"
   ]
  },
  {
   "cell_type": "code",
   "execution_count": 25,
   "id": "759001f8-6139-4ba8-92d1-4f9f149760f0",
   "metadata": {
    "scrolled": true
   },
   "outputs": [],
   "source": [
    "def convert_dtypes(stats):\n",
    "    start_idx = pd.Index(stats.columns).get_loc('winner_KD')\n",
    "    \n",
    "    for i in range(start_idx, len(stats.columns)):\n",
    "        if stats[stats.columns[i]].dtype != float:\n",
    "            stats[stats.columns[i]] = stats[stats.columns[i]].astype(float)\n",
    "    return stats\n",
    "\n",
    "# Applying\n",
    "stats = convert_dtypes(stats)"
   ]
  },
  {
   "cell_type": "markdown",
   "id": "a103a1be-5469-4904-8fce-0f8c02c2cee5",
   "metadata": {},
   "source": [
    "## Engineering New Features"
   ]
  },
  {
   "cell_type": "markdown",
   "id": "3d0b024a-4112-43e2-8ec0-4ea002e96289",
   "metadata": {},
   "source": [
    "Let's engineer some additional features:\n",
    "1. Striking dominance - a fighter's overall striking performance. Calculated as: KD + Significant strikes % + Total landed strikes %;\n",
    "2. Wrestling dominance - a fighter's overall wrestling performance. Calculated as: TD % + Submission attempts + reversals;"
   ]
  },
  {
   "cell_type": "markdown",
   "id": "be38223a-ca44-4a57-9105-f25ebbfd592f",
   "metadata": {},
   "source": [
    "**Striking dominance**:"
   ]
  },
  {
   "cell_type": "code",
   "execution_count": 26,
   "id": "b2f8ca2e-1fbe-49fc-bb8f-9cfb31bf98f2",
   "metadata": {},
   "outputs": [],
   "source": [
    "stats['winner_striking_dominance'] = stats['winner_KD'] + stats['winner_sig_str_pct'] + stats['winner_total_str_landed_pct']\n",
    "stats['loser_striking_dominance'] = stats['loser_KD'] + stats['loser_sig_str_pct'] + stats['loser_total_str_landed_pct']"
   ]
  },
  {
   "cell_type": "markdown",
   "id": "d6fbbb4e-082a-4149-a3d1-7eb4e0908f46",
   "metadata": {},
   "source": [
    "**Wrestling dominance**:"
   ]
  },
  {
   "cell_type": "code",
   "execution_count": 27,
   "id": "52c89c0c-793d-484f-995c-1becde5c837e",
   "metadata": {},
   "outputs": [],
   "source": [
    "stats['winner_wrestling_dominance'] = stats['winner_TD_pct'] + stats['winner_sub_att'] + stats['winner_rev']\n",
    "stats['loser_wrestling_dominance'] = stats['loser_TD_pct'] + stats['loser_sub_att'] + stats['loser_rev']"
   ]
  },
  {
   "cell_type": "code",
   "execution_count": 28,
   "id": "26e55a9d-4110-4f23-8d90-431b8767bdd4",
   "metadata": {},
   "outputs": [
    {
     "data": {
      "text/plain": [
       "event_date                      object\n",
       "method                          object\n",
       "round                            int64\n",
       "time                            object\n",
       "time_format                     object\n",
       "referee                         object\n",
       "details                         object\n",
       "bout_type                       object\n",
       "bonus                           object\n",
       "event_name                      object\n",
       "event_location                  object\n",
       "winner                          object\n",
       "winner_name                     object\n",
       "loser_name                      object\n",
       "winner_nickname                 object\n",
       "loser_nickname                  object\n",
       "winner_KD                      float64\n",
       "loser_KD                       float64\n",
       "winner_sig_str_pct             float64\n",
       "loser_sig_str_pct              float64\n",
       "winner_TD_pct                  float64\n",
       "loser_TD_pct                   float64\n",
       "winner_sub_att                 float64\n",
       "loser_sub_att                  float64\n",
       "winner_rev                     float64\n",
       "loser_rev                      float64\n",
       "winner_ctrl                    float64\n",
       "loser_ctrl                     float64\n",
       "winner_sig_str_head_pct        float64\n",
       "loser_sig_str_head_pct         float64\n",
       "winner_sig_str_body_pct        float64\n",
       "loser_sig_str_body_pct         float64\n",
       "winner_sig_str_leg_pct         float64\n",
       "loser_sig_str_leg_pct          float64\n",
       "winner_sig_str_distance_pct    float64\n",
       "loser_sig_str_distance_pct     float64\n",
       "winner_sig_str_clinch_pct      float64\n",
       "loser_sig_str_clinch_pct       float64\n",
       "winner_sig_str_ground_pct      float64\n",
       "loser_sig_str_ground_pct       float64\n",
       "winner_total_str_landed_pct    float64\n",
       "loser_total_str_landed_pct     float64\n",
       "winner_striking_dominance      float64\n",
       "loser_striking_dominance       float64\n",
       "winner_wrestling_dominance     float64\n",
       "loser_wrestling_dominance      float64\n",
       "dtype: object"
      ]
     },
     "execution_count": 28,
     "metadata": {},
     "output_type": "execute_result"
    }
   ],
   "source": [
    "stats.dtypes"
   ]
  }
 ],
 "metadata": {
  "kernelspec": {
   "display_name": "Python 3 (ipykernel)",
   "language": "python",
   "name": "python3"
  },
  "language_info": {
   "codemirror_mode": {
    "name": "ipython",
    "version": 3
   },
   "file_extension": ".py",
   "mimetype": "text/x-python",
   "name": "python",
   "nbconvert_exporter": "python",
   "pygments_lexer": "ipython3",
   "version": "3.12.7"
  }
 },
 "nbformat": 4,
 "nbformat_minor": 5
}
